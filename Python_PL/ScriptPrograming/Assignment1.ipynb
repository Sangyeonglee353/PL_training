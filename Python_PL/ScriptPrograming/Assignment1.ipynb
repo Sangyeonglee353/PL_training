{
 "cells": [
  {
   "cell_type": "markdown",
   "id": "4647ba79",
   "metadata": {},
   "source": [
    "# Assignment 1\n",
    "## [정보]\n",
    "#### 1) Due Date: 2021년 09월 24일 (금), 23시 59분\n",
    "#### 2) 제출방법: 수업 홈페이지 하단의 \"[숙제 제출 방법]\" 참고\n",
    "#### 3) 내용: 반드시 python code와 수행 결과를 jupyter notebook 내에 작성하여 넣고, 이에 대한 설명 등을 해당 코드 아래에 markdown cell 등에 넣어 기입하시오.\n",
    "#### 4) 숙제이후 소감 작성: 10개의 문제의 답을 모두 작성한 이후에 현재까지 강의를 들은 후의 소감, 숙제를 한 이후의 소감, 또는 전하고자 하는 말 등을 짧막하게라도 좋으니 jupyter notebook 마지막 markdown cell에 함께 제출하시오.  \n",
    "#### 5) 반드시 본인 스스로 문제를 해결하세요~~~\n",
    "## [문제]"
   ]
  },
  {
   "cell_type": "markdown",
   "id": "d685ef83",
   "metadata": {},
   "source": [
    "#### 1. a=\"Hello  Python\" 문자열을 Slicing과 연결 연산자(+)를 사용하여 \"Python Hello\"로 변경하시오\n",
    "- [주의] a 변수 자체에 \"Python Hello\" 문자열이 저장되어야 함"
   ]
  },
  {
   "cell_type": "code",
   "execution_count": 30,
   "id": "54f0d9b2",
   "metadata": {},
   "outputs": [
    {
     "name": "stdout",
     "output_type": "stream",
     "text": [
      "Python Hello\n"
     ]
    }
   ],
   "source": [
    "a = \"Hello Python\" # a 변수에 \"Hello Python\" 라는 문자열 저장\n",
    "print(a[6:] + \" \" + a[0:5]) # Slicing을 활용해 출력 문자 변경"
   ]
  },
  {
   "cell_type": "markdown",
   "id": "5ce6bd6b",
   "metadata": {},
   "source": [
    "#### 2. b=\"Hello Python World\" 문자열을 Slicing과 연결 연산자(+)를 사용하여 \"World Python Hello\"로 변경하시오.\n",
    "- [주의] b 변수 자체에 \"World Python Hello\" 문자열이 저장되어야 함"
   ]
  },
  {
   "cell_type": "code",
   "execution_count": 31,
   "id": "65da9fff",
   "metadata": {},
   "outputs": [
    {
     "name": "stdout",
     "output_type": "stream",
     "text": [
      "World Python Hello\n",
      "World Python Hello\n"
     ]
    }
   ],
   "source": [
    "b = \"Hello Python World\" # b 변수에 \"Hello Python World\" 라는 문자열 저장\n",
    "print(b[13:] + \" \" + b[6:12] + \" \" + b[0:5]) # 경우의 수 1\n",
    "print(b[-5:] + \" \" + b[6:12] + \" \" + b[0:5]) # 경우의 수 2"
   ]
  },
  {
   "cell_type": "markdown",
   "id": "71c68fde",
   "metadata": {},
   "source": [
    "#### 3. c=\"Hello\"를 \"olleH\"로 변경하시오\n",
    "- [주의] c 변수 자체에 \"olleH\" 문자열이 저장되어야 함"
   ]
  },
  {
   "cell_type": "code",
   "execution_count": 32,
   "id": "c0f43ba6",
   "metadata": {},
   "outputs": [
    {
     "name": "stdout",
     "output_type": "stream",
     "text": [
      "olleH\n"
     ]
    }
   ],
   "source": [
    "c = \"Hello\" # c 변수에 \"Hello\"라는 문자열 저장\n",
    "c = c[::-1] # c 변수의 문자열을 역순으로 저장\n",
    "print(c) # c 변수를 출력"
   ]
  },
  {
   "cell_type": "markdown",
   "id": "fe358c47",
   "metadata": {},
   "source": [
    "#### 4. s=\"python\"에 대해 다음 문제를 풀어보시오."
   ]
  },
  {
   "cell_type": "markdown",
   "id": "0b9c16e5",
   "metadata": {},
   "source": [
    "__A. s[0], s[0][0], s[0][0][0]은 각각 어떤 값이 나오는지 확인하고, 그 이유를 나름대로 설명해 보시오.__"
   ]
  },
  {
   "cell_type": "code",
   "execution_count": 13,
   "id": "c15a8151",
   "metadata": {},
   "outputs": [
    {
     "name": "stdout",
     "output_type": "stream",
     "text": [
      "p\n",
      "p\n",
      "p\n"
     ]
    }
   ],
   "source": [
    "s = \"python\"\n",
    "print(s[0])        # 1차원 배열: s[행]\n",
    "print(s[0][0])     # 2차원 배열: s[행][열]\n",
    "print(s[0][0][0])  # 3차원 배열: s[면][행][열]"
   ]
  },
  {
   "cell_type": "markdown",
   "id": "dd1b1059",
   "metadata": {},
   "source": [
    "__[결과에 대한 이유]__   \n",
    "- s[0]의 경우 1차원 배열로써 아래와 같이 배열이 생성되므로 p 값이 출력됩니다.\n",
    "<img style=\"float:left\" src=\"./img/1_4_A_array1.jpg\" width=\"55%\">\n",
    "- s[0][0]의 경우 2차원 배열로써 아래와 같이 배열이 생성되므로 p 값이 출력됩니다.\n",
    "<img style=\"float:left\" src=\"./img/1_4_A_array2.jpg\" width=\"55%\">\n",
    "- s[0][0][0]의 경우 3차원 배열로써 아래와 같이 배열이 생성되므로 p 값이 출력됩니다.\n",
    "<img style=\"float:left\" src=\"./img/1_4_A_array3.jpg\" width=\"55%\">"
   ]
  },
  {
   "cell_type": "markdown",
   "id": "8cef6cff",
   "metadata": {},
   "source": [
    "__B. s[-100], s[100]은 값이 나오는지 에러가 나오는지 확인하고, 그 결과에 대한 이유를 나름대로 설명해 보시오.__"
   ]
  },
  {
   "cell_type": "code",
   "execution_count": 34,
   "id": "efb96019",
   "metadata": {},
   "outputs": [
    {
     "ename": "IndexError",
     "evalue": "string index out of range",
     "output_type": "error",
     "traceback": [
      "\u001b[1;31m---------------------------------------------------------------------------\u001b[0m",
      "\u001b[1;31mIndexError\u001b[0m                                Traceback (most recent call last)",
      "\u001b[1;32m~\\AppData\\Local\\Temp/ipykernel_19388/381937358.py\u001b[0m in \u001b[0;36m<module>\u001b[1;34m\u001b[0m\n\u001b[1;32m----> 1\u001b[1;33m \u001b[0mprint\u001b[0m\u001b[1;33m(\u001b[0m\u001b[0ms\u001b[0m\u001b[1;33m[\u001b[0m\u001b[1;33m-\u001b[0m\u001b[1;36m100\u001b[0m\u001b[1;33m]\u001b[0m\u001b[1;33m)\u001b[0m \u001b[1;31m# 인덱스 범위 초과로 에러 발생\u001b[0m\u001b[1;33m\u001b[0m\u001b[1;33m\u001b[0m\u001b[0m\n\u001b[0m",
      "\u001b[1;31mIndexError\u001b[0m: string index out of range"
     ]
    }
   ],
   "source": [
    "s = \"python\"\n",
    "print(s[-100]) # 인덱스 범위 초과로 에러 발생"
   ]
  },
  {
   "cell_type": "code",
   "execution_count": 35,
   "id": "a6a920ec",
   "metadata": {},
   "outputs": [
    {
     "ename": "IndexError",
     "evalue": "string index out of range",
     "output_type": "error",
     "traceback": [
      "\u001b[1;31m---------------------------------------------------------------------------\u001b[0m",
      "\u001b[1;31mIndexError\u001b[0m                                Traceback (most recent call last)",
      "\u001b[1;32m~\\AppData\\Local\\Temp/ipykernel_19388/3244425002.py\u001b[0m in \u001b[0;36m<module>\u001b[1;34m\u001b[0m\n\u001b[1;32m----> 1\u001b[1;33m \u001b[0mprint\u001b[0m\u001b[1;33m(\u001b[0m\u001b[0ms\u001b[0m\u001b[1;33m[\u001b[0m\u001b[1;36m100\u001b[0m\u001b[1;33m]\u001b[0m\u001b[1;33m)\u001b[0m \u001b[1;31m# 인덱스 범위 초과로 에러 발생\u001b[0m\u001b[1;33m\u001b[0m\u001b[1;33m\u001b[0m\u001b[0m\n\u001b[0m",
      "\u001b[1;31mIndexError\u001b[0m: string index out of range"
     ]
    }
   ],
   "source": [
    "s = \"python\"\n",
    "print(s[100]) # 인덱스 범위 초과로 에러 발생"
   ]
  },
  {
   "attachments": {},
   "cell_type": "markdown",
   "id": "3f673d5e",
   "metadata": {},
   "source": [
    "<img style =\"float:left\" src = \"./img/1_4_B.jpg\" width=\"55%\">"
   ]
  },
  {
   "cell_type": "markdown",
   "id": "924d3da7",
   "metadata": {},
   "source": [
    "__[에러 발생 이유]__   \n",
    "인덱스로 음수를 사용하게 되면 문자열의 맨 뒤 문자부터 -1, -2, ... 순으로 읽게 됩니다.   \n",
    "그런데 s변수의 문자열의 길이는 6인데 반해 -100을 넣게 되면 문자열의 최대 범위 -6을 초과하여 에러가 발생합니다.   \n",
    "인덱스로 양수를 사용하게 되면 문자열의 맨 앞 문자부터 0, 1, ... 순으로 읽게 됩니다.\n",
    "그런데 s변수의 문자열의 길이는 6인데 반해 100을 넣게 되면 문자열의 최대 범위 5를 초과하여 에러가 발생합니다."
   ]
  },
  {
   "cell_type": "markdown",
   "id": "9311c38f",
   "metadata": {},
   "source": [
    "__C. s[-100, 100]은 값이 나오는지 에러가 나오는지 확인하고 그 결과에 대한 이유를 나름대로 설명하시오.__"
   ]
  },
  {
   "cell_type": "code",
   "execution_count": 14,
   "id": "92bfe59e",
   "metadata": {},
   "outputs": [
    {
     "ename": "TypeError",
     "evalue": "string indices must be integers",
     "output_type": "error",
     "traceback": [
      "\u001b[1;31m---------------------------------------------------------------------------\u001b[0m",
      "\u001b[1;31mTypeError\u001b[0m                                 Traceback (most recent call last)",
      "\u001b[1;32m~\\AppData\\Local\\Temp/ipykernel_14008/469692482.py\u001b[0m in \u001b[0;36m<module>\u001b[1;34m\u001b[0m\n\u001b[0;32m      1\u001b[0m \u001b[0ms\u001b[0m \u001b[1;33m=\u001b[0m \u001b[1;34m\"python\"\u001b[0m\u001b[1;33m\u001b[0m\u001b[1;33m\u001b[0m\u001b[0m\n\u001b[1;32m----> 2\u001b[1;33m \u001b[0mprint\u001b[0m\u001b[1;33m(\u001b[0m\u001b[0ms\u001b[0m\u001b[1;33m[\u001b[0m\u001b[1;33m-\u001b[0m\u001b[1;36m100\u001b[0m\u001b[1;33m,\u001b[0m \u001b[1;36m100\u001b[0m\u001b[1;33m]\u001b[0m\u001b[1;33m)\u001b[0m \u001b[1;31m# 에러 발생!!\u001b[0m\u001b[1;33m\u001b[0m\u001b[1;33m\u001b[0m\u001b[0m\n\u001b[0m",
      "\u001b[1;31mTypeError\u001b[0m: string indices must be integers"
     ]
    }
   ],
   "source": [
    "s = \"python\"\n",
    "print(s[-100, 100]) # 에러 발생!!"
   ]
  },
  {
   "cell_type": "markdown",
   "id": "bd9f531f",
   "metadata": {},
   "source": [
    "__[에러 발생 이유]__   \n",
    "문자열의 인덱스는 반드시 정수여야 하는데, 정수가 아니므로 에러가 발생합니다."
   ]
  },
  {
   "cell_type": "markdown",
   "id": "ecc8c1e5",
   "metadata": {},
   "source": [
    "__D. s[1:-1]의 결과를 확인하고 그 결과에 대한 이유를 정확하게 설명하시오.__"
   ]
  },
  {
   "cell_type": "code",
   "execution_count": 15,
   "id": "e3421c96",
   "metadata": {},
   "outputs": [
    {
     "name": "stdout",
     "output_type": "stream",
     "text": [
      "ytho\n"
     ]
    }
   ],
   "source": [
    "s = \"python\"\n",
    "print(s[1:-1])"
   ]
  },
  {
   "attachments": {},
   "cell_type": "markdown",
   "id": "8cd00203",
   "metadata": {},
   "source": [
    "<img style=\"float:left\" src = \"./img/1_4_D.jpg\" width=\"55%\">"
   ]
  },
  {
   "cell_type": "markdown",
   "id": "198869c1",
   "metadata": {},
   "source": [
    "__[결과에 대한 이유]__   \n",
    "python의 슬라이싱 문법에서 s[a:b]는 a부터 b전까지의 모든 문자를 반환합니다.  \n",
    "따라서 변수 s[1] = 'y'를 s[-1] = 'n'을 가리키므로 위와 같이 'y'부터 'n'전까지의 \"ytho\"라는 값이 출력됩니다."
   ]
  },
  {
   "cell_type": "markdown",
   "id": "3b8e8267",
   "metadata": {},
   "source": [
    "__E. s[3:-3]의 결과를 확인하고 그 결과에 대한 이유를 정확하게 설명하시오.__"
   ]
  },
  {
   "cell_type": "code",
   "execution_count": 16,
   "id": "980bab1a",
   "metadata": {},
   "outputs": [
    {
     "name": "stdout",
     "output_type": "stream",
     "text": [
      "\n"
     ]
    }
   ],
   "source": [
    "s = \"python\"\n",
    "print(s[3:-3])"
   ]
  },
  {
   "cell_type": "markdown",
   "id": "d8e2528c",
   "metadata": {},
   "source": [
    "__[결과에 대한 이유]__   \n",
    "위 문제에서와 밝힌 바와 같이 python의 슬라이싱 문법에서 s[a:b]는 a부터 b전까지의 모든 문자를 반환합니다.\n",
    "그런데 이 문제에서 주어진 인덱스값을 보면 s[3] = 'h', s[-3] = 'h'이므로 'h'부터 'h'전까지의 모든 문자를 반환해야하므로, 결국 아무런 문자를 출력하지 않습니다."
   ]
  },
  {
   "cell_type": "markdown",
   "id": "c949b4a5",
   "metadata": {},
   "source": [
    "#### 5. for문을 활용하여 1부터 100사이의 홀수를 출력하시오."
   ]
  },
  {
   "cell_type": "code",
   "execution_count": 39,
   "id": "8e933735",
   "metadata": {},
   "outputs": [
    {
     "name": "stdout",
     "output_type": "stream",
     "text": [
      "1 3 5 7 9 11 13 15 17 19 21 23 25 27 29 31 33 35 37 39 41 43 45 47 49 51 53 55 57 59 61 63 65 67 69 71 73 75 77 79 81 83 85 87 89 91 93 95 97 99 "
     ]
    }
   ],
   "source": [
    "for num in range(1, 100):  # 1부터 100까지 반복\n",
    "    if num % 2 != 0:    # i를 나누었을 때 0이 아닌 경우, 즉 홀수인 경우에만 출력\n",
    "        print(num, end=\" \")# print의 맨 마지막에 출력할 문자열을 end를 통해 개행문자(기본값) 에서 공백으로 변경"
   ]
  },
  {
   "cell_type": "markdown",
   "id": "989b3e88",
   "metadata": {},
   "source": [
    "#### 6. while문을 활용하여 1부터 100사이의 짝수의 합을 계산하여 출력하시오."
   ]
  },
  {
   "cell_type": "code",
   "execution_count": 40,
   "id": "38d74d02",
   "metadata": {},
   "outputs": [
    {
     "name": "stdout",
     "output_type": "stream",
     "text": [
      "1부터 100사이의 짝수의 합: 2550\n"
     ]
    }
   ],
   "source": [
    "num = 1               # 숫자를 의미하는 변수 num을 1로 초기화\n",
    "even = 0              # 짝수의 합을 더할 변수 even을 0으로 초기화 \n",
    "while num <= 100:    # 100보다 작은 경우 반복해서 실행함\n",
    "    if num % 2 == 0: # 짝수인 경우 even에 값을 더해주고 num을 1 증가시킴\n",
    "        even += num\n",
    "        num += 1\n",
    "    else:            # 홀수인 경우 바로 num을 1 증가시킴\n",
    "        num += 1 \n",
    "        \n",
    "print(\"1부터 100사이의 짝수의 합:\",even) # 결과값 출력"
   ]
  },
  {
   "cell_type": "markdown",
   "id": "61f2a9cc",
   "metadata": {},
   "source": [
    "#### 7. 사용자로부터 임의의 정수를 입력받고, 해당 숫자를 역순으로 출력하는 프로그램을 작성하시오.\n",
    "    [실행 예]\n",
    "        정수를 입력하세요: 3125\n",
    "        숫자 역순은 5123 입니다."
   ]
  },
  {
   "cell_type": "code",
   "execution_count": 54,
   "id": "7651e18a",
   "metadata": {},
   "outputs": [
    {
     "name": "stdout",
     "output_type": "stream",
     "text": [
      "정수를 입력하세요: 3125\n",
      "숫자 역순은 5213 입니다\n"
     ]
    }
   ],
   "source": [
    "num = input(\"정수를 입력하세요: \") # input() 함수로 정수를 입력받아 변수 num에 저장\n",
    "\n",
    "print(\"숫자 역순은\", int(num[::-1]), \"입니다\") # 기본 입력값은 문자열이므로 슬라이싱을 통해 거꾸로 만든뒤 정수형으로 출력"
   ]
  },
  {
   "cell_type": "markdown",
   "id": "90f4c83b",
   "metadata": {},
   "source": [
    "#### 8. 사용자로부터 정수를 입력받아서 1부터 그 사이에 존재하는 소수 (Prime number)를 출력하는 파이썬 프로그램을 작성하시오."
   ]
  },
  {
   "cell_type": "code",
   "execution_count": 23,
   "id": "2f4633c7",
   "metadata": {},
   "outputs": [
    {
     "name": "stdout",
     "output_type": "stream",
     "text": [
      "정수를 입력하세요: 30\n",
      "2\n",
      "3\n",
      "5\n",
      "7\n",
      "11\n",
      "13\n",
      "17\n",
      "19\n",
      "23\n",
      "29\n"
     ]
    }
   ],
   "source": [
    "num = int(input(\"정수를 입력하세요: \")) # 입력받은 문자열값을 정수로 변환하여 변수 num에 저장\n",
    "check = 0                         # 소수 판별 기준: 소수인 경우 값은 0, 소수가 아닌 경우 값은 1\n",
    "\n",
    "for num1 in range(1, num):        # 1부터 입력받은 값 num 전까지 반복\n",
    "    for num2 in range(2, num1):   # 2부터 현재값 num1 전까지 반복\n",
    "        if num1 % num2 == 0:      # 소수 판별: 본인이 아닌 다른 수와 나누어지면 소수가 아님\n",
    "            check = 1             # 소수 판별 기준 1로 변경\n",
    "    if check == 0 and num1 != 1: # 소수 판별 기준값이 0이고 숫자가 1이 아닌 경우 소수이므로 출력\n",
    "        print(num1)\n",
    "    check = 0                     # 다음값 판별을 위해 소수 판별 기준값을 0으로 초기화"
   ]
  },
  {
   "attachments": {},
   "cell_type": "markdown",
   "id": "d25e4d74",
   "metadata": {},
   "source": [
    "#### 9. Kevin과 Stuart는 게임을 한다. 규칙은 아래와 같다.\n",
    "- 두 플레이어에게 같은 string S가 주어진다.\n",
    "- 두 플레이어는 string S의 문자를 사용하여 substring을 만들어야 한다(중복 가능).\n",
    "- Stuart는 자음으로 시작하는 단어를 만들어야 한다.\n",
    "- Kevin은 모음으로 시작하는 단어를 만들어야 한다.\n",
    "- 게임은 두 플레이어가 만들 수 있는 모든 단어를 만들었을 때 끝난다.\n",
    "- 점수 계산: substring 1개당 +1 점을 획득한다. (아래 그림 참고)\n",
    "- <img style =\"float: left\" src = \"./img/assignment1-9.png\" width = \"55%\">\n",
    "- 사용자로부터 대문자로 이루어진 string S를 입력받고, 승자와 그의 점수를 출력하는 프로그램을 작성하시오.   \n",
    "[실행 예]   \n",
    "    string S를 입력하세요: BANANA   \n",
    "    승자: Stuart 점수: 12"
   ]
  },
  {
   "cell_type": "code",
   "execution_count": 43,
   "id": "10b534a9",
   "metadata": {},
   "outputs": [
    {
     "name": "stdout",
     "output_type": "stream",
     "text": [
      "string S를 입력하세요:BANANA\n",
      "승자: Stuart 점수: 12\n"
     ]
    }
   ],
   "source": [
    "# 0. 문자열 입력 받기\n",
    "S = input(\"string S를 입력하세요:\")\n",
    "S = S.upper() # 대문자로 변환하기: 소문자를 입력할 경우를 대비\n",
    "\n",
    "# 1. 생성 가능한 문자목록 리스트화 하기: 슬라이싱 위치를 증가하는 방법\n",
    "words_list = [] # 생성 가능한 문자목록\n",
    "for start_point in range(len(S)):\n",
    "    for end_point in range(start_point+1, len(S)+1):\n",
    "        word = S[start_point:end_point]\n",
    "        # print(word)\n",
    "        words_list.append(word)\n",
    "        \n",
    "# print(string_list) # 생성 가능한 문자목록 출력 [주석처리]\n",
    "\n",
    "# 2. 중복제거: 리스트화한 목록을 셋으로 변경\n",
    "words_set_list = set(words_list) # 중복을 제거한 생성 가능한 문자목록\n",
    "# print(words_set_list) # 중복제거 문자목록 출력 [주석처리]\n",
    "\n",
    "# 3. 셋을 다시 리스트화하기: 인덱싱을 하기 위해서\n",
    "word_list = list(words_set_list)\n",
    "\n",
    "# 4. 문자열 목록의 중복 횟수를 카운트하여 Stuart(자음), Kevin(모음)의 총점 계산하기\n",
    "Stuart_score = 0 # Stuart(자음) 점수 초기화\n",
    "Kevin_score = 0  # Kevin(모음) 점수 초기화\n",
    "\n",
    "for index in range(len(word_list)): # 중복 제거 목록으로 생성 가능한 목록에서의 문자열 횟수 카운트하기\n",
    "    word = word_list[index]\n",
    "    score = words_list.count(word)\n",
    "    # print(word, score) # 단어와 점수 출력 [주석처리]\n",
    "    # case 1: if-elif-else\n",
    "    # if word[0] == 'A':\n",
    "    #     Kevin_score += score\n",
    "    # elif word[0] == 'E':\n",
    "    #     Kevin_score += score\n",
    "    # elif word[0] == 'I':\n",
    "    #     Kevin_score += score\n",
    "    # elif word[0] == 'O':\n",
    "    #     Kevin_score += score\n",
    "    # elif word[0] == 'U':\n",
    "    #     Kevin_score += score\n",
    "    # else:\n",
    "    #     Stuart_score += score\n",
    "\n",
    "    # case 2: if 비교값 in 비교범위\n",
    "    if word[0] in 'AEIOU':\n",
    "        Kevin_score += score\n",
    "    else:\n",
    "        Stuart_score += score\n",
    "\n",
    "# print(\"Stuart_score:\", Stuart_score) # Stuart 점수 출력 [주석처리]\n",
    "# print(\"Kevin_score:\", Kevin_score)   # Kevin 점수 출력 [주석처리]\n",
    "\n",
    "# 5. 승자와 점수 출력하기\n",
    "if Stuart_score > Kevin_score:\n",
    "    print(\"승자: Stuart 점수:\", Stuart_score)\n",
    "elif Stuart_score < Kevin_score:\n",
    "    print(\"승자: Kevin 점수:\", Kevin_score)\n",
    "else:\n",
    "    print(\"서로 비겼습니다. 점수:\", Stuart_score)\n"
   ]
  },
  {
   "cell_type": "markdown",
   "id": "1c3fa928",
   "metadata": {},
   "source": [
    "#### 10. 알파벳 소문자만으로 이루어진 string s가 주어지고 아래 2가지 연산을 수행할 수 있다.\n",
    "- 추가: string s의 끝에 알파벳 소문자 하나를 추가한다.\n",
    "- 삭제: string s의 마지막 문자 하나를 삭제한다. empty string에서 삭제 연산을 수행한 결과는 empty string이다. "
   ]
  },
  {
   "cell_type": "markdown",
   "id": "8e32c65a",
   "metadata": {},
   "source": [
    "두 개의 string s와 t, 그리고 정수 k가 주어질 때, 정확히 k번의 연산을 통해 s를 t로 바꿀 수 있는지 판단하는 함수를 작성하시오."
   ]
  },
  {
   "cell_type": "code",
   "execution_count": 44,
   "id": "0373ab01",
   "metadata": {},
   "outputs": [],
   "source": [
    "def appendDelete(s, t, k):\n",
    "    '''\n",
    "    함수 포맷 변경하지 마세요.\n",
    "    s를 정확히 k번의 연산을 통해 t로 바꿀 수 있다면 'Yes'를 아니면 'No'를 return 해주세요.\n",
    "    '''\n",
    "    return 'Yes' # or 'No'"
   ]
  },
  {
   "cell_type": "markdown",
   "id": "e5472a98",
   "metadata": {},
   "source": [
    "- [예시]\n",
    "        1. s = 'hackerhappy'   t = 'hackerrank'   k = 9 => 'Yes'\n",
    "        2. s = 'aba'           t = 'aba'          k = 7 => 'Yes'\n",
    "        3. s = 'ashley'        t = 'ash'          k = 2 => 'No'"
   ]
  },
  {
   "cell_type": "code",
   "execution_count": 47,
   "id": "c5912e8d",
   "metadata": {},
   "outputs": [
    {
     "name": "stdout",
     "output_type": "stream",
     "text": [
      "string s를 입력하세요:ashley\n",
      "string t를 입력하세요:ash\n",
      "int k를 입력하세요:2\n",
      "No\n"
     ]
    }
   ],
   "source": [
    "# 0. 문자열 입력받기\n",
    "s = input(\"string s를 입력하세요:\") \n",
    "t = input(\"string t를 입력하세요:\")\n",
    "k = int(input(\"int k를 입력하세요:\"))\n",
    "\n",
    "# 1. 판별 함수 정의\n",
    "def appendDelete(s, t, k):\n",
    "    check = 0 # 검출값 초기화\n",
    "    for a in range(k+1):\n",
    "        if len(s) - a > 0: # 삭제시 총 길이가 양수인 경우\n",
    "            if len(s) - a + (k - a) == len(t):\n",
    "                check = 1\n",
    "                #print(a, k-a) # 추가, 삭제 횟수 출력 [주석처리]\n",
    "        else: # 삭제시 총 길이가 0이거나 음수인 경우\n",
    "            if (k-a) == len(t):\n",
    "                check = 1\n",
    "                #print(a, k-a) # 추가, 삭제 횟수 출력 [주석처리]\n",
    "\n",
    "    if check == 1: # 검출값에 따른 결과값 리턴\n",
    "        return 'Yes'   \n",
    "    else:\n",
    "        return 'No'\n",
    "\n",
    "# 2. 함수 실행 및 결과값 출력            \n",
    "print(appendDelete(s, t, k))"
   ]
  },
  {
   "cell_type": "markdown",
   "id": "d62a500b",
   "metadata": {},
   "source": [
    "### [소감]\n",
    "```\n",
    "초반에는 파이썬에 대한 기초 온라인 강좌와 교수님의 실시간 강의의 스타일이 서로 달라서 힘들 것이라 생각했었습니다. 그러나 온라인 강좌를 먼저 수강하고 교수님의 강의에 참석하는 형태로 하다보니 수업에 더 집중할 수 있어 좋았습니다. 특히나 대면강의라면 해당 수업시간에만 들을 수 있었던 내용들을 온라인 강의에서는 계속 반복해서 볼 수 있어서 이해가 안가는 부분에 대한 보충학습에 도움이 많이 되었습니다. \n",
    "이번 과제를 풀이하면서 느낀점은 앞서 말씀하신대로 1~8번까지는 기본 문법을 적용하는 문제였기에, 쉽게 풀이가 가능했습니다. 그런데 9번부터는 어떻게 구현을 해야될까 고민을 많이 했습니다. 코드를 작성하기 전 문제에 대한 정확한 이해가 선행되어야 했기에, 추석 연휴가 집에 내려가는 버스 안에서도 계속 문제를 보고 되내였던 시간이었습니다. 연휴내내 문제를 곱씹은 끝에 마지막 두 문제에 대한 해답을 도출할 수 있었고, 파이썬 문법에 대한 활용 능력을 기를 수 있는 재미있는 시간이었습니다. 감사합니다.\n",
    "```"
   ]
  }
 ],
 "metadata": {
  "kernelspec": {
   "display_name": "Python 3 (ipykernel)",
   "language": "python",
   "name": "python3"
  },
  "language_info": {
   "codemirror_mode": {
    "name": "ipython",
    "version": 3
   },
   "file_extension": ".py",
   "mimetype": "text/x-python",
   "name": "python",
   "nbconvert_exporter": "python",
   "pygments_lexer": "ipython3",
   "version": "3.8.11"
  }
 },
 "nbformat": 4,
 "nbformat_minor": 5
}
