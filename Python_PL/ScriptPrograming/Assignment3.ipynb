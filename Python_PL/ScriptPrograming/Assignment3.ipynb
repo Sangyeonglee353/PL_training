{
 "cells": [
  {
   "cell_type": "markdown",
   "id": "913567b5",
   "metadata": {},
   "source": [
    "# Assignment 3\n",
    "## 학번: 2019136151 이름: 이상영\n",
    "## [정보]\n",
    "#### 1) Due Date: 2021년 10월 22일 (금), 23시 59분\n",
    "#### 2) 제출방법: 수업 홈페이지 하단의 \"[숙제 제출 방법]\" 참고\n",
    "#### 3) 내용: 반드시 python code와 수행 결과를 jupyter notebook 내에 작성하여 넣고, 이에 대한 설명 등을 해당 코드 아래에 markdown cell 등에 넣어 기입하시오.\n",
    "#### 4) 숙제이후 소감 작성: 10개의 문제의 답을 모두 작성한 이후에 현재까지 강의를 들은 후의 소감, 숙제를 한 이후의 소감, 또는 전하고자 하는 말 등을 짧막하게라도 좋으니 jupyter notebook 마지막 markdown cell에 함께 제출하시오.  \n",
    "#### 5) 반드시 본인 스스로 문제를 해결하세요~~~"
   ]
  },
  {
   "cell_type": "markdown",
   "id": "c29bfdcb",
   "metadata": {},
   "source": [
    "## [일반 문제]"
   ]
  },
  {
   "cell_type": "markdown",
   "id": "4a5841de",
   "metadata": {},
   "source": [
    "#### 1. L=[1, 2, 3, 4, 5]일 때 다음 각 문장을 수행한 후의 결과를 보고 납득할 만한 이유를 설명하시오."
   ]
  },
  {
   "cell_type": "markdown",
   "id": "d3768f90",
   "metadata": {},
   "source": [
    "- 1)   \n",
    "        L[1:3] = [100]\n",
    "        print(L)"
   ]
  },
  {
   "cell_type": "code",
   "execution_count": 46,
   "id": "f51fd0d3",
   "metadata": {},
   "outputs": [
    {
     "name": "stdout",
     "output_type": "stream",
     "text": [
      "[1, 100, 4, 5]\n"
     ]
    }
   ],
   "source": [
    "L = [1, 2, 3, 4, 5]\n",
    "L[1:3] = [100]\n",
    "print(L)"
   ]
  },
  {
   "cell_type": "markdown",
   "id": "e8b1ee85",
   "metadata": {},
   "source": [
    "__[결과가 나온 이유]__   \n",
    "좌측항의 L[1:3]은 L[1]과 L[2]를 가리키므로, [2, 3]을 말한다.\n",
    "그런데 우측항은 [100]이라는 리스트 값 하나만 주어졌다.   \n",
    "따라서 L[1]은 100으로 변경되고 L[2]는 따로 변경값이 없어 삭제되면서 L = [1, 100, 4, 5]라는 결과값이 출력된다."
   ]
  },
  {
   "cell_type": "markdown",
   "id": "25b6e44f",
   "metadata": {},
   "source": [
    "- 2)\n",
    "        L[1:3] = [(100)]\n",
    "        print(L)"
   ]
  },
  {
   "cell_type": "code",
   "execution_count": 47,
   "id": "a62393c1",
   "metadata": {},
   "outputs": [
    {
     "name": "stdout",
     "output_type": "stream",
     "text": [
      "[1, 100, 4, 5]\n"
     ]
    }
   ],
   "source": [
    "L = [1, 2, 3, 4, 5]\n",
    "L[1:3] = [(100)]\n",
    "print(L)"
   ]
  },
  {
   "cell_type": "markdown",
   "id": "fcc10393",
   "metadata": {},
   "source": [
    "__[결과가 나온 이유]__   \n",
    "좌측항의 L[1:3]은 L[1]과 L[2]를 가리키므로, [2, 3]을 말한다.\n",
    "그런데 우측항은 [(100)]이라는 tuple(튜플)로 작성된 리스트 값 하나만 주어졌다고 오해할 수 있다. 하지만, (100)은 type을 검사해보면 int(정수형)이다. 이 말은 즉슨 [(100)]과 [100]은 동일하다고 볼 수 있으며, () 괄호 안에 숫자 값이 하나만 주어진다면 이는 tuple(튜플)이 아니라 int(정수형)으로 해석한다는 것을 알 수 있다. 따라서 2)의 결과는 1)과 동일한 L = [1, 100, 4, 5]라는 값이 출력된다.  \n",
    "위 1)과 결과값은 같지만, 이 둘은 엄연히 다르다. 그 차이는 요소를 추가함으로써 알 수 있는데, 1)의 경우 우측의 리스트 값을 [100, 200]과 같이 추가하면 좌측에 입력된 리스트 범위의 첫 인덱스부터 차례대로 값이 append(추가)되지만, 2)는 아래와 같이 튜플의 요소를 추가하게 될 경우 해당 튜플 모두가 L[1]의 요소로 들어간다는 점이다."
   ]
  },
  {
   "cell_type": "code",
   "execution_count": 48,
   "id": "784cd84e",
   "metadata": {},
   "outputs": [
    {
     "name": "stdout",
     "output_type": "stream",
     "text": [
      "[1, 100, 200, 4, 5]\n"
     ]
    }
   ],
   "source": [
    "L = [1, 2, 3, 4, 5]\n",
    "L[1:3] = [100, 200]\n",
    "print(L)"
   ]
  },
  {
   "cell_type": "code",
   "execution_count": 49,
   "id": "c5af4ace",
   "metadata": {},
   "outputs": [
    {
     "name": "stdout",
     "output_type": "stream",
     "text": [
      "[1, (100, 200), 4, 5]\n"
     ]
    }
   ],
   "source": [
    "L = [1, 2, 3, 4, 5]\n",
    "L[1:3] = [(100, 200)]\n",
    "print(L)"
   ]
  },
  {
   "cell_type": "markdown",
   "id": "d3ce2a86",
   "metadata": {},
   "source": [
    "- 3)   \n",
    "        L[1:3] = 100\n",
    "        print(L)"
   ]
  },
  {
   "cell_type": "code",
   "execution_count": 50,
   "id": "cdd6be5d",
   "metadata": {},
   "outputs": [
    {
     "ename": "TypeError",
     "evalue": "can only assign an iterable",
     "output_type": "error",
     "traceback": [
      "\u001b[1;31m---------------------------------------------------------------------------\u001b[0m",
      "\u001b[1;31mTypeError\u001b[0m                                 Traceback (most recent call last)",
      "\u001b[1;32m~\\AppData\\Local\\Temp/ipykernel_21192/432241510.py\u001b[0m in \u001b[0;36m<module>\u001b[1;34m\u001b[0m\n\u001b[0;32m      1\u001b[0m \u001b[0mL\u001b[0m \u001b[1;33m=\u001b[0m \u001b[1;33m[\u001b[0m\u001b[1;36m1\u001b[0m\u001b[1;33m,\u001b[0m \u001b[1;36m2\u001b[0m\u001b[1;33m,\u001b[0m \u001b[1;36m3\u001b[0m\u001b[1;33m,\u001b[0m \u001b[1;36m4\u001b[0m\u001b[1;33m,\u001b[0m \u001b[1;36m5\u001b[0m\u001b[1;33m]\u001b[0m\u001b[1;33m\u001b[0m\u001b[1;33m\u001b[0m\u001b[0m\n\u001b[1;32m----> 2\u001b[1;33m \u001b[0mL\u001b[0m\u001b[1;33m[\u001b[0m\u001b[1;36m1\u001b[0m\u001b[1;33m:\u001b[0m\u001b[1;36m3\u001b[0m\u001b[1;33m]\u001b[0m \u001b[1;33m=\u001b[0m \u001b[1;36m100\u001b[0m\u001b[1;33m\u001b[0m\u001b[1;33m\u001b[0m\u001b[0m\n\u001b[0m\u001b[0;32m      3\u001b[0m \u001b[0mprint\u001b[0m\u001b[1;33m(\u001b[0m\u001b[0mL\u001b[0m\u001b[1;33m)\u001b[0m\u001b[1;33m\u001b[0m\u001b[1;33m\u001b[0m\u001b[0m\n",
      "\u001b[1;31mTypeError\u001b[0m: can only assign an iterable"
     ]
    }
   ],
   "source": [
    "L = [1, 2, 3, 4, 5]\n",
    "L[1:3] = 100\n",
    "print(L)"
   ]
  },
  {
   "cell_type": "markdown",
   "id": "cc1aca61",
   "metadata": {},
   "source": [
    "__[결과가 나온 이유]__   \n",
    "\"can only assign an iterable\"이라는 에러가 출력된다. 이유는 리스트의 요소로는 iterable(반복할 수 있는) 즉, 반복 수행이 가능한 요소만 삽입할 수 있기 때문이다. 반복 수행이 가능한 요소로는 대표적으로 문자열, 튜플, 딕셔너리 range() 함수 등이 있는데, 현재 위 3)에서 삽입하려한 int(정수형) 100은 해당되지 않는다."
   ]
  },
  {
   "cell_type": "code",
   "execution_count": 51,
   "id": "4fdc3a17",
   "metadata": {},
   "outputs": [
    {
     "name": "stdout",
     "output_type": "stream",
     "text": [
      "<class 'int'>\n"
     ]
    }
   ],
   "source": [
    "print(type(100))"
   ]
  },
  {
   "cell_type": "markdown",
   "id": "d79c8045",
   "metadata": {},
   "source": [
    "- 4)   \n",
    "        L[1:3] = (100)\n",
    "        print(L)"
   ]
  },
  {
   "cell_type": "code",
   "execution_count": 52,
   "id": "d0902bd8",
   "metadata": {},
   "outputs": [
    {
     "ename": "TypeError",
     "evalue": "can only assign an iterable",
     "output_type": "error",
     "traceback": [
      "\u001b[1;31m---------------------------------------------------------------------------\u001b[0m",
      "\u001b[1;31mTypeError\u001b[0m                                 Traceback (most recent call last)",
      "\u001b[1;32m~\\AppData\\Local\\Temp/ipykernel_21192/1294161389.py\u001b[0m in \u001b[0;36m<module>\u001b[1;34m\u001b[0m\n\u001b[0;32m      1\u001b[0m \u001b[0mL\u001b[0m \u001b[1;33m=\u001b[0m \u001b[1;33m[\u001b[0m\u001b[1;36m1\u001b[0m\u001b[1;33m,\u001b[0m \u001b[1;36m2\u001b[0m\u001b[1;33m,\u001b[0m \u001b[1;36m3\u001b[0m\u001b[1;33m,\u001b[0m \u001b[1;36m4\u001b[0m\u001b[1;33m,\u001b[0m \u001b[1;36m5\u001b[0m\u001b[1;33m]\u001b[0m\u001b[1;33m\u001b[0m\u001b[1;33m\u001b[0m\u001b[0m\n\u001b[1;32m----> 2\u001b[1;33m \u001b[0mL\u001b[0m\u001b[1;33m[\u001b[0m\u001b[1;36m1\u001b[0m\u001b[1;33m:\u001b[0m\u001b[1;36m3\u001b[0m\u001b[1;33m]\u001b[0m \u001b[1;33m=\u001b[0m \u001b[1;33m(\u001b[0m\u001b[1;36m100\u001b[0m\u001b[1;33m)\u001b[0m\u001b[1;33m\u001b[0m\u001b[1;33m\u001b[0m\u001b[0m\n\u001b[0m\u001b[0;32m      3\u001b[0m \u001b[0mprint\u001b[0m\u001b[1;33m(\u001b[0m\u001b[0mL\u001b[0m\u001b[1;33m)\u001b[0m\u001b[1;33m\u001b[0m\u001b[1;33m\u001b[0m\u001b[0m\n",
      "\u001b[1;31mTypeError\u001b[0m: can only assign an iterable"
     ]
    }
   ],
   "source": [
    "L = [1, 2, 3, 4, 5]\n",
    "L[1:3] = (100)\n",
    "print(L)"
   ]
  },
  {
   "cell_type": "markdown",
   "id": "d342d56f",
   "metadata": {},
   "source": [
    "__[결과가 나온 이유]__   \n",
    "앞서 2) 문제를 해석하면서 (100) = 100과 같다는 것을 알 수 있었다. 따라서 4) 문제도 3) 문제와 같은 이유로 \"can only assign an iterable\"이라는 에러가 출력된다."
   ]
  },
  {
   "cell_type": "code",
   "execution_count": 53,
   "id": "ef8774e8",
   "metadata": {},
   "outputs": [
    {
     "name": "stdout",
     "output_type": "stream",
     "text": [
      "<class 'int'>\n"
     ]
    }
   ],
   "source": [
    "print(type((100)))"
   ]
  },
  {
   "cell_type": "markdown",
   "id": "2490fb53",
   "metadata": {},
   "source": [
    "- 5)   \n",
    "        L[1:3] = (100, 101, 102)\n",
    "        print(L)"
   ]
  },
  {
   "cell_type": "code",
   "execution_count": 54,
   "id": "18649e82",
   "metadata": {},
   "outputs": [
    {
     "name": "stdout",
     "output_type": "stream",
     "text": [
      "[1, 100, 101, 102, 4, 5]\n"
     ]
    }
   ],
   "source": [
    "L = [1, 2, 3, 4, 5]\n",
    "L[1:3] = (100, 101, 102)\n",
    "print(L)"
   ]
  },
  {
   "cell_type": "markdown",
   "id": "38eb3c5f",
   "metadata": {},
   "source": [
    "__[결과가 나온 이유]__   \n",
    "4) 문제와 달리 5) 문제에서는 우측항에 () 괄호 안에 요소가 3개인 주어진 튜플이 주어졌다.\n",
    "튜플은 iterable(반복 수행이 가능한 요소) 이므로 좌측항에 주어진 범위 L[1]과 L[2]값이 각각 100과 101로 변경되고 일치되는 범위가 없는 102 값은 바로 다음 인덱스로 추가된다. 따라서 L = [1, 100, 101, 102, 4, 5]라는 결과값이 출력된다."
   ]
  },
  {
   "cell_type": "code",
   "execution_count": 55,
   "id": "c0661352",
   "metadata": {},
   "outputs": [
    {
     "name": "stdout",
     "output_type": "stream",
     "text": [
      "<class 'tuple'>\n"
     ]
    }
   ],
   "source": [
    "print(type((100, 101, 102)))"
   ]
  },
  {
   "cell_type": "markdown",
   "id": "cee24fe1",
   "metadata": {},
   "source": [
    "- 6)   \n",
    "        L[1:3] = [100, 101, 102]\n",
    "        print(L)"
   ]
  },
  {
   "cell_type": "code",
   "execution_count": 56,
   "id": "11127cd3",
   "metadata": {},
   "outputs": [
    {
     "name": "stdout",
     "output_type": "stream",
     "text": [
      "[1, 100, 101, 102, 4, 5]\n"
     ]
    }
   ],
   "source": [
    "L = [1, 2, 3, 4, 5]\n",
    "L[1:3] = [100, 101, 102]\n",
    "print(L)"
   ]
  },
  {
   "cell_type": "markdown",
   "id": "3f180e04",
   "metadata": {},
   "source": [
    "__[결과가 나온 이유]__  \n",
    "이번에는 우측항에 [100, 101, 102] 요소가 3개인 리스트가 주어졌다.\n",
    "리스트 역시 iterable(반복 수행이 가능한 요소) 이므로 5) 문제와 같이 좌측항에 주어진 범위 L[1]과 L[2]값이 각각 100과 101로 변경되고 일치되는 범위가 없는 102 값은 바로 다음 인덱스로 추가된다. 따라서 L = [1, 100, 101, 102, 4, 5]라는 결과값이 출력된다."
   ]
  },
  {
   "cell_type": "markdown",
   "id": "a61c376e",
   "metadata": {},
   "source": [
    "- 7)   \n",
    "        L[1:3] = [(100, 101, 102)]\n",
    "        print(L)"
   ]
  },
  {
   "cell_type": "code",
   "execution_count": 57,
   "id": "e9b906eb",
   "metadata": {},
   "outputs": [
    {
     "name": "stdout",
     "output_type": "stream",
     "text": [
      "[1, (100, 101, 102), 4, 5]\n"
     ]
    }
   ],
   "source": [
    "L = [1, 2, 3, 4, 5]\n",
    "L[1:3] = [(100, 101, 102)]\n",
    "print(L)"
   ]
  },
  {
   "cell_type": "markdown",
   "id": "027f9d27",
   "metadata": {},
   "source": [
    "__[결과가 나온 이유]__  \n",
    "이번에는 어찌보면 5)과 동일한 값이 나올 것이라고 생각할 수 있는 데 우측항에 튜플을 리스트로 감싼 값이 주어졌다. 이 경우 튜플 하나를 요소로 가지는 리스트이므로 좌측항에 주어진 범위 L[1]의 값이 (100, 101, 102) 튜플로 변경되고 L[2]는 따로 변경값이 없어 삭제된다. 따라서 L = [1, (100, 101, 102), 4, 5]라는 결과값이 출력된다."
   ]
  },
  {
   "cell_type": "markdown",
   "id": "f3ab31ae",
   "metadata": {},
   "source": [
    "- 8)   \n",
    "        L[1:3] = [[100, 101, 102]]\n",
    "        print(L)"
   ]
  },
  {
   "cell_type": "code",
   "execution_count": 58,
   "id": "9dfd6e54",
   "metadata": {},
   "outputs": [
    {
     "name": "stdout",
     "output_type": "stream",
     "text": [
      "[1, [100, 101, 102], 4, 5]\n"
     ]
    }
   ],
   "source": [
    "L = [1, 2, 3, 4, 5]\n",
    "L[1:3] = [[100, 101, 102]]\n",
    "print(L)"
   ]
  },
  {
   "cell_type": "markdown",
   "id": "96ed7914",
   "metadata": {},
   "source": [
    "__[결과가 나온 이유]__  \n",
    "6) 문제는 5) 문제와 비슷한 형태로 리스트를 리스트로 감싼 값이 주어졌다. 이 경우 리스트 하나를 요소로 가지는 리스트이므로 좌측항에 주어진 범위 L[1]의 값이 [100, 101, 102] 리스트로 변경되고 L[2]는 따로 변경값이 없어 삭제된다. 따라서 L = [1, [100, 101, 102], 4, 5]라는 결과값이 출력된다."
   ]
  },
  {
   "cell_type": "markdown",
   "id": "ee8cc885",
   "metadata": {},
   "source": [
    "#### 2. 문자열 S = 'Hello World and Python'에 대해 다음 요구사항에 대한 Python 코드를 제시하시오."
   ]
  },
  {
   "cell_type": "markdown",
   "id": "32508e88",
   "metadata": {},
   "source": [
    "- 1) 단어의 순서가 역순으로 되어진 문자열 ('Python and World Hello')을 만들고\n",
    "- 2) 1)의 결과 문자열에 대해 메소드 split과 join을 이용하여 공백을 모두 없앤 문자열 'PythonandWorldHello'을 만드시오."
   ]
  },
  {
   "cell_type": "code",
   "execution_count": 59,
   "id": "cff3f386",
   "metadata": {},
   "outputs": [
    {
     "name": "stdout",
     "output_type": "stream",
     "text": [
      "Python and World Hello\n"
     ]
    }
   ],
   "source": [
    "S = 'Hello World and Python'\n",
    "S_edit = S.split()                       # 공백을 기준으로 단어 리스트화\n",
    "S_edit.reverse()                         # 리스트내 단어 순서 뒤집기\n",
    "Result1 = \" \".join(S_edit)               # 단어 사이마다 공백을 삽입하여 문자열로 만들기\n",
    "print(Result1)                           # 1)의 결과 출력"
   ]
  },
  {
   "cell_type": "code",
   "execution_count": 60,
   "id": "9d03bf47",
   "metadata": {},
   "outputs": [
    {
     "name": "stdout",
     "output_type": "stream",
     "text": [
      "PythonandWorldHello\n"
     ]
    }
   ],
   "source": [
    "Result1_list = Result1.split(\" \")        # 공백을 기준으로 단어 리스트화\n",
    "Result2 = \"\".join(Result1_list)          # 공백없이 리스트 요소를 연결하여 문자열로 만들기\n",
    "print(Result2)                           # 2)의 결과 출력"
   ]
  },
  {
   "cell_type": "markdown",
   "id": "7d2c8cb4",
   "metadata": {},
   "source": [
    "#### 3. 다음 코드를 보고 물음에 답하시오."
   ]
  },
  {
   "cell_type": "markdown",
   "id": "8b0a3a3c",
   "metadata": {},
   "source": [
    "    a = [1, 2, 3]\n",
    "    b = a * 3\n",
    "    c = [a] * 3\n",
    "    print(b)\n",
    "    print(c)"
   ]
  },
  {
   "cell_type": "markdown",
   "id": "0b5b6cc0",
   "metadata": {},
   "source": [
    "- 1) 위 코드를 수행한 이후 다음 코드를 수행한 후 b와 c의 내용을 확인하시오.\n",
    "        a[0]=0"
   ]
  },
  {
   "cell_type": "code",
   "execution_count": 61,
   "id": "78f8ad70",
   "metadata": {},
   "outputs": [
    {
     "name": "stdout",
     "output_type": "stream",
     "text": [
      "[1, 2, 3, 1, 2, 3, 1, 2, 3]\n",
      "[[1, 2, 3], [1, 2, 3], [1, 2, 3]]\n"
     ]
    }
   ],
   "source": [
    "a = [1, 2, 3]\n",
    "b = a * 3   # 깊은 복사\n",
    "c = [a] * 3 # 얕은 복사\n",
    "print(b)\n",
    "print(c)"
   ]
  },
  {
   "cell_type": "code",
   "execution_count": 62,
   "id": "b4e68c74",
   "metadata": {
    "scrolled": true
   },
   "outputs": [
    {
     "name": "stdout",
     "output_type": "stream",
     "text": [
      "[1, 2, 3, 1, 2, 3, 1, 2, 3]\n",
      "[[0, 2, 3], [0, 2, 3], [0, 2, 3]]\n"
     ]
    }
   ],
   "source": [
    "a[0]=0\n",
    "print(b)\n",
    "print(c)"
   ]
  },
  {
   "cell_type": "markdown",
   "id": "c379e37e",
   "metadata": {},
   "source": [
    "- 2) b와 c 객체의 차이는 무엇인가?"
   ]
  },
  {
   "cell_type": "markdown",
   "id": "818c24c8",
   "metadata": {},
   "source": [
    "b는 깊은 복사(Deep Copy)로 참조값의 복사가 아닌 참조된 객체 자체를 복사함으로써 1) 수행 전후 값의 변화가 없고,  \n",
    "c는 얕은 복사(Shallow Copy)로 참조값의 복사로 원본 객체의 주소값을 복사함으로써 원본 객체인 a의 값이 변경됨에 따라 해당 값도 변경이 된다."
   ]
  },
  {
   "cell_type": "markdown",
   "id": "88ff2d50",
   "metadata": {},
   "source": [
    "#### 4. 다음 문자열 ':'을 기준으로 분리하여 리스트를 만들고 각 문자열의 좌우 공백을 제거하시오. (즉, 문자열 S에서 I을 만들어라.)"
   ]
  },
  {
   "cell_type": "markdown",
   "id": "ef77133e",
   "metadata": {},
   "source": [
    "    s = '  first star  :  second star  :  third star  '\n",
    "    I = ['first star', 'second star', 'third star']"
   ]
  },
  {
   "cell_type": "markdown",
   "id": "3c17ecc5",
   "metadata": {},
   "source": [
    "- 1) for ~ in 문을 이용한 코드를 작성하시오.\n",
    "- 2) 리스트 내포(list comprehension)를 이용한 코드를 작성하시오."
   ]
  },
  {
   "cell_type": "code",
   "execution_count": 63,
   "id": "f757ad34",
   "metadata": {},
   "outputs": [
    {
     "name": "stdout",
     "output_type": "stream",
     "text": [
      "['first star', 'second star', 'third star']\n"
     ]
    }
   ],
   "source": [
    "# 1) for ~ in문 이용 시\n",
    "s = '  first star  : second star  :  third star  '\n",
    "s_split = s.split(\":\")\n",
    "\n",
    "I = []\n",
    "for word in s_split:\n",
    "    I.append(word.strip())\n",
    "\n",
    "print(I)"
   ]
  },
  {
   "cell_type": "code",
   "execution_count": 64,
   "id": "99bdd4f2",
   "metadata": {},
   "outputs": [
    {
     "name": "stdout",
     "output_type": "stream",
     "text": [
      "['first star', 'second star', 'third star']\n"
     ]
    }
   ],
   "source": [
    "# 2) 리스트 내포 이용 시\n",
    "s = '  first star  : second star  :  third star  '\n",
    "s_split = s.split(\":\")\n",
    "\n",
    "I = [word.strip() for word in s_split]\n",
    "print(I)"
   ]
  },
  {
   "cell_type": "markdown",
   "id": "17b72bca",
   "metadata": {},
   "source": [
    "#### 5. 다음과 같이 0보다 큰 정수 리스트 변수 list를 인자로 받는 함수 addall(list)와 addallodd(list)를 for~in 리터럴과 리스트 내포 방식으로 각각 제시하시오."
   ]
  },
  {
   "cell_type": "markdown",
   "id": "bbaf3d76",
   "metadata": {},
   "source": [
    "- [참고 1]: 리스트 내포 방식으로 addall() 및 addallodd()함수를 만들 때엔 리스트 내포에 의해 생성된 리스트 결과에 대해 내장 함수를 사용하는 방식을 고려해보시오. (주의: 리스트 내포 방식의 addall() 및 addallodd() 함수의 몸체는 단 1줄로 작성되어야 한다.)\n",
    "- [참고 2]: sum() 등의 내장함수 사용 가능함"
   ]
  },
  {
   "cell_type": "markdown",
   "id": "8d3fd5c0",
   "metadata": {},
   "source": [
    "- 1) addall(list)함수 (리스트 내의 모든 정수를 더하는 함수로서 해답으로는 for ~ in 리터럴과 리스트 내포 방식으로 각각 제시하시오.)\n",
    "    - <pre>>>> addall([1])\n",
    "          1</pre>\n",
    "    - <pre>>>> addall([1, 2, 3, 4, 5, 6, 7, 8, 9])\n",
    "          45</pre>"
   ]
  },
  {
   "cell_type": "code",
   "execution_count": 65,
   "id": "97e3567c",
   "metadata": {},
   "outputs": [],
   "source": [
    "# 1. for ~ in 리터럴 방식\n",
    "def addall(list):\n",
    "    sum = 0 # == for sum in range(1): 와 같다.\n",
    "    for num in list:\n",
    "        sum += num\n",
    "    return sum"
   ]
  },
  {
   "cell_type": "code",
   "execution_count": 66,
   "id": "e5ba3efc",
   "metadata": {},
   "outputs": [
    {
     "data": {
      "text/plain": [
       "1"
      ]
     },
     "execution_count": 66,
     "metadata": {},
     "output_type": "execute_result"
    }
   ],
   "source": [
    "addall([1])"
   ]
  },
  {
   "cell_type": "code",
   "execution_count": 67,
   "id": "245f621a",
   "metadata": {},
   "outputs": [
    {
     "data": {
      "text/plain": [
       "45"
      ]
     },
     "execution_count": 67,
     "metadata": {},
     "output_type": "execute_result"
    }
   ],
   "source": [
    "addall([1, 2, 3, 4, 5, 6, 7, 8, 9])"
   ]
  },
  {
   "cell_type": "code",
   "execution_count": 68,
   "id": "625e8ddf",
   "metadata": {},
   "outputs": [],
   "source": [
    "# 2. 리스트 내포 방식\n",
    "def addall(list): return sum([num for num in list])"
   ]
  },
  {
   "cell_type": "code",
   "execution_count": 69,
   "id": "d192dde7",
   "metadata": {},
   "outputs": [
    {
     "data": {
      "text/plain": [
       "1"
      ]
     },
     "execution_count": 69,
     "metadata": {},
     "output_type": "execute_result"
    }
   ],
   "source": [
    "addall([1])"
   ]
  },
  {
   "cell_type": "code",
   "execution_count": 70,
   "id": "218222d4",
   "metadata": {},
   "outputs": [
    {
     "data": {
      "text/plain": [
       "45"
      ]
     },
     "execution_count": 70,
     "metadata": {},
     "output_type": "execute_result"
    }
   ],
   "source": [
    "addall([1, 2, 3, 4, 5, 6, 7, 8, 9])"
   ]
  },
  {
   "cell_type": "markdown",
   "id": "3845eb5e",
   "metadata": {},
   "source": [
    "- 2) addallodd(list) 함수 (리스트내의 모든 홀수를 더하는 함수로서 해답으로는 for ~ in 리터럴과 리스트 내포 방식으로 각각 제시하시오.)\n",
    "    - <pre>>>> addallodd([1])\n",
    "          1</pre>\n",
    "    - <pre>>>> addallodd([1, 2, 3, 4, 5, 6, 7, 8, 9])\n",
    "          25</pre>"
   ]
  },
  {
   "cell_type": "code",
   "execution_count": 71,
   "id": "0e135b70",
   "metadata": {},
   "outputs": [],
   "source": [
    "# 1. for ~ in 리터럴 방식\n",
    "def addallodd(list):\n",
    "    sum = 0\n",
    "    for num in list:\n",
    "        if num%2: # 0: False, 1: True\n",
    "            sum+=num\n",
    "    return sum"
   ]
  },
  {
   "cell_type": "code",
   "execution_count": 72,
   "id": "5acd4d48",
   "metadata": {},
   "outputs": [
    {
     "data": {
      "text/plain": [
       "1"
      ]
     },
     "execution_count": 72,
     "metadata": {},
     "output_type": "execute_result"
    }
   ],
   "source": [
    "addallodd([1])"
   ]
  },
  {
   "cell_type": "code",
   "execution_count": 73,
   "id": "3c20ea73",
   "metadata": {},
   "outputs": [
    {
     "data": {
      "text/plain": [
       "25"
      ]
     },
     "execution_count": 73,
     "metadata": {},
     "output_type": "execute_result"
    }
   ],
   "source": [
    "addallodd([1, 2, 3, 4, 5, 6, 7, 8, 9])"
   ]
  },
  {
   "cell_type": "code",
   "execution_count": 74,
   "id": "3e483daa",
   "metadata": {},
   "outputs": [],
   "source": [
    "# 2. 리스트 내포 방식\n",
    "def addallodd(list): return sum([num for num in list if num%2])"
   ]
  },
  {
   "cell_type": "code",
   "execution_count": 75,
   "id": "03a7680d",
   "metadata": {},
   "outputs": [
    {
     "data": {
      "text/plain": [
       "1"
      ]
     },
     "execution_count": 75,
     "metadata": {},
     "output_type": "execute_result"
    }
   ],
   "source": [
    "addallodd([1])"
   ]
  },
  {
   "cell_type": "code",
   "execution_count": 76,
   "id": "47b0b4c1",
   "metadata": {},
   "outputs": [
    {
     "data": {
      "text/plain": [
       "25"
      ]
     },
     "execution_count": 76,
     "metadata": {},
     "output_type": "execute_result"
    }
   ],
   "source": [
    "addallodd([1, 2, 3, 4, 5, 6, 7, 8, 9])"
   ]
  },
  {
   "cell_type": "markdown",
   "id": "133961d5",
   "metadata": {},
   "source": [
    "#### 6. 다음 코드를 보고 물음에 답하시오."
   ]
  },
  {
   "cell_type": "markdown",
   "id": "7aef1ddc",
   "metadata": {},
   "source": [
    "    L1 = [1, 2, 3]\n",
    "    L2 = [4, 5, 6]\n",
    "    d = {'low':L1, 'high':L2}\n",
    "    e = d\n",
    "    f = d.copy()\n",
    "    print(d)\n",
    "    print(e)\n",
    "    print(f)\n",
    "    print()\n",
    "    d['low'] = [10, 20, 30]\n",
    "    d['high'][1] = 500\n",
    "    print(d)\n",
    "    print(e)\n",
    "    print(f)"
   ]
  },
  {
   "cell_type": "code",
   "execution_count": 77,
   "id": "e1cc7aa1",
   "metadata": {},
   "outputs": [
    {
     "name": "stdout",
     "output_type": "stream",
     "text": [
      "{'low': [1, 2, 3], 'high': [4, 5, 6]}\n",
      "{'low': [1, 2, 3], 'high': [4, 5, 6]}\n",
      "{'low': [1, 2, 3], 'high': [4, 5, 6]}\n",
      "\n",
      "{'low': [10, 20, 30], 'high': [4, 500, 6]}\n",
      "{'low': [10, 20, 30], 'high': [4, 500, 6]}\n",
      "{'low': [1, 2, 3], 'high': [4, 500, 6]}\n"
     ]
    }
   ],
   "source": [
    "L1 = [1, 2, 3]\n",
    "L2 = [4, 5, 6]\n",
    "d = {'low':L1, 'high':L2}\n",
    "e = d\n",
    "f = d.copy()\n",
    "print(d)\n",
    "print(e)\n",
    "print(f)\n",
    "print()\n",
    "d['low'] = [10, 20, 30]\n",
    "d['high'][1] = 500\n",
    "print(d)\n",
    "print(e)\n",
    "print(f)"
   ]
  },
  {
   "cell_type": "markdown",
   "id": "0d5f5006",
   "metadata": {},
   "source": [
    "- 1) 위 코드의 수행 결과 d와 e는 항상 같은 결과를 출력한다. 그 이유는 무엇인가?"
   ]
  },
  {
   "cell_type": "markdown",
   "id": "7a87307a",
   "metadata": {},
   "source": [
    "__[이유]__   \n",
    "e = d 라는 문장을 통해 e는 d의 값을 얕은 복사(Shallow copy) 했다.   \n",
    "즉, 참조값의 복사로 원본 객체인 d가 변경됨에 따라 해당 주소의 값을 가리키는 e도 동일하게 변경된다."
   ]
  },
  {
   "cell_type": "markdown",
   "id": "fee3904a",
   "metadata": {},
   "source": [
    "- 2) 위 코드의 수행 결과 마지막 f의 내용은 다음과 같다. 이 때 'high'키의 값 내용 중 500이 출력된 이유와 'low'키의 값 내용 중 [1, 2, 3]이 출력된 이유를 설명하시오([hint]: shallow copy 관점에서 설명하시오.)   \n",
    "        {'high': [4, 500, 6], 'low': [1, 2, 3]}"
   ]
  },
  {
   "cell_type": "markdown",
   "id": "e44a45b4",
   "metadata": {},
   "source": [
    "__['high'키의 값 내용 중 500이 출력된 이유]__   \n",
    "우선 f = d.copy()로 딕셔너리가 얕은 복사(shallow copy)된 상태이다. 따라서, 딕셔너리 f의 값은 원본 객체인 딕셔너리 d의 주소를 가리키면서 값을 서로 공유하고 있다. 그런데 여기서 딕셔너리 d가 키의 값 내용으로 리스트를 가지고 있으므로 해당 요소값을 서로 공유한다. 이는 딕셔너리 d에 키의 값 내용이 변경되면 f 역시 변경됨을 의미한다. 따라서 d['high'][1] = 500로 인해 d뿐만 아니라 f도 값이 변경되어 출력된다."
   ]
  },
  {
   "cell_type": "markdown",
   "id": "8feb13dc",
   "metadata": {},
   "source": [
    "__['low'키의 값 내용 중 [1, 2, 3]이 출력된 이유]__   \n",
    "우선 f = d.copy()로 딕셔너리가 얕은 복사(shallow copy)된 상태이다. 따라서 이는 딕셔너리 안에 리스트의 요소값을 공유한다는 것을 의미한다. 따라서 d['high][1] = 500과 같이 리스트 안의 요소값에 레퍼런스를 변경하는 것은 영향을 주더라도, d['low'] = [10, 20, 30]과 같이 리스트 자체의 레퍼런스를 변경하는 것은 f에 영향을 주지 않는다."
   ]
  },
  {
   "cell_type": "markdown",
   "id": "b9cd73c8",
   "metadata": {},
   "source": [
    "#### 7. 사전 d = {'one':1, 'two':2, 'three':3, 'four':4, 'five':5}가 주어졌을 때 다음 요구사항에 맞는 코드를 제시하시오."
   ]
  },
  {
   "cell_type": "markdown",
   "id": "7ac8e64c",
   "metadata": {},
   "source": [
    "- [참고]: d.keys(), d.values()를 통해 리스트를 얻어낸 후 리스트가 지니고 있는 sort(cmp=None, key=None, reverse=False)함수를 활용하시오.\n",
    "- 1) 키의 알파벳 오름차순 순서대로 튜플 (키, 값)을 차례대로 출력하시오.\n",
    "- 2) 키의 알파벳 내림차순 순서대로 튜플 (키, 값)을 차례대로 출력하시오.\n",
    "- 3) 값의 오름차순 순서대로 튜플(키, 값)을 차례대로 출력하시오.\n",
    "- 4) 값의 내림차순 순서대로 튜플(키, 값)을 차례대로 출력하시오."
   ]
  },
  {
   "cell_type": "code",
   "execution_count": 173,
   "id": "677aecfd",
   "metadata": {},
   "outputs": [],
   "source": [
    "d = {'one':1, 'two':2, 'three':3, 'four':4, 'five':5}"
   ]
  },
  {
   "cell_type": "code",
   "execution_count": 245,
   "id": "9d7367bd",
   "metadata": {},
   "outputs": [
    {
     "data": {
      "text/plain": [
       "[('five', 5), ('four', 4), ('one', 1), ('three', 3), ('two', 2)]"
      ]
     },
     "execution_count": 245,
     "metadata": {},
     "output_type": "execute_result"
    }
   ],
   "source": [
    "# 1) 키의 알파벳 오름차순 순서대로 튜플 (키, 값을) 차례대로 출력하시오.\n",
    "def keyAlphaAscending(dict):\n",
    "    keyList = [i for i in dict.keys()]\n",
    "    keyList.sort() # 오름차순 정렬\n",
    "    tupleList = []\n",
    "    for key in keyList:\n",
    "        tupleList.append((key, d[key]))\n",
    "    return tupleList\n",
    "keyAlphaAscending(d) # 키의 알파벳 오름차순으로 출력"
   ]
  },
  {
   "cell_type": "code",
   "execution_count": 246,
   "id": "fbfd835a",
   "metadata": {},
   "outputs": [
    {
     "data": {
      "text/plain": [
       "[('two', 2), ('three', 3), ('one', 1), ('four', 4), ('five', 5)]"
      ]
     },
     "execution_count": 246,
     "metadata": {},
     "output_type": "execute_result"
    }
   ],
   "source": [
    "# 2) 키의 알파벳 내림차순 순서대로 튜플 (키, 값을) 차례대로 출력하시오.\n",
    "def keyAlphaDescending(dict):\n",
    "    keyList = [i for i in dict.keys()]\n",
    "    keyList.sort(reverse=True) # 내림차순 정렬\n",
    "    tupleList = []\n",
    "    for key in keyList:\n",
    "        tupleList.append((key, d[key]))\n",
    "    return tupleList\n",
    "keyAlphaDescending(d) # 키의 알파벳 내림차순으로 출력"
   ]
  },
  {
   "cell_type": "code",
   "execution_count": 247,
   "id": "be8eb0b4",
   "metadata": {},
   "outputs": [
    {
     "data": {
      "text/plain": [
       "[('one', 1), ('two', 2), ('three', 3), ('four', 4), ('five', 5)]"
      ]
     },
     "execution_count": 247,
     "metadata": {},
     "output_type": "execute_result"
    }
   ],
   "source": [
    "# 3) 값의 오름차순 순서대로 튜플 (키, 값을) 차례대로 출력하시오.\n",
    "def valueAscending(dict):\n",
    "    valueList = [i for i in dict.values()]\n",
    "    valueList.sort() # 오름차순 정렬\n",
    "    tupleList = []\n",
    "    for findValue in valueList:\n",
    "        for key, value in dict.items():\n",
    "            if value == findValue:\n",
    "                tupleList.append((key, value))\n",
    "    return tupleList\n",
    "valueAscending(d) # 값의 오름차순으로 출력"
   ]
  },
  {
   "cell_type": "code",
   "execution_count": 248,
   "id": "95626325",
   "metadata": {},
   "outputs": [
    {
     "data": {
      "text/plain": [
       "[('five', 5), ('four', 4), ('three', 3), ('two', 2), ('one', 1)]"
      ]
     },
     "execution_count": 248,
     "metadata": {},
     "output_type": "execute_result"
    }
   ],
   "source": [
    "# 4) 값의 내림차순 순서대로 튜플 (키, 값을) 차례대로 출력하시오.\n",
    "def valueDescending(dict):\n",
    "    valueList = [i for i in dict.values()]\n",
    "    valueList.sort(reverse=True) # 내림차순 정렬\n",
    "    tupleList = []    \n",
    "    for findValue in valueList:\n",
    "        for key, value in dict.items():\n",
    "            if value == findValue:\n",
    "                tupleList.append((key, value))\n",
    "    return tupleList\n",
    "valueDescending(d) # 값의 내림차순으로 출력"
   ]
  },
  {
   "cell_type": "markdown",
   "id": "80eea4a6",
   "metadata": {},
   "source": [
    "#### 8. 다음 문제를 정확히 읽고 적합한 코딩을 제시하시오."
   ]
  },
  {
   "cell_type": "markdown",
   "id": "c8784e4d",
   "metadata": {},
   "source": [
    "- __length(X)__ 를 다음과 같이 정의한다. 10진수로 표현된 X의 자릿수\n",
    "- __Strange__ 라는 숫자를 아래와 같이 정의한다.\n",
    "    - 음이 아닌 정수 중 자릿수가 1인 모든 숫자는 __Strange__ 이다.\n",
    "    - __length(X)__ > 1 인 숫자 X는 다음 2가지를 만족하면 __Strange__ 이다.\n",
    "        - X는 __length(X)__ 로 정확히 나누어 떨어진다.\n",
    "        - X / length(X)가 __strange__ 이다.\n",
    "- 이 문제에서 숫자 하나가 주어질 때, 이 숫자가 Strange인지 판단하는 함수 isStrange(num)을 작성하시오.\n",
    "- isStrange(num) 함수가 재귀적인 함수가 되도록 작성해 보세요."
   ]
  },
  {
   "cell_type": "code",
   "execution_count": 78,
   "id": "4df18f59",
   "metadata": {},
   "outputs": [],
   "source": [
    "# 1. 10진수로 표현된 X의 자릿수를 구하는 length(X) 함수 정의\n",
    "def length(X): \n",
    "    if X < 0: # 음의 정수를 입력한 경우\n",
    "        return -1\n",
    "    elif X == 0: # 0을 입력한 경우\n",
    "        return 0\n",
    "    else: # 양의 정수를 입력한 경우\n",
    "        while(X != 0):\n",
    "            return 1+length(X//10)\n",
    "\n",
    "# 2. 문제에서 요구한 isStrange(num) 함수 정의\n",
    "def isStrange(num):\n",
    "    strangeList = [strange for strange in range(10)] # 음이 아닌 정수 중 자릿수가 1인 모든 숫자는 Strange\n",
    "    if length(num) > 1:                              # 자릿 수가 1보다 큰 경우\n",
    "        if num % length(num) == 0:                   # 조건1. 정확히 나누어 떨어지는 경우\n",
    "            if num / length(num):                     # 나누어 떨어지는 경우\n",
    "                return isStrange(num / length(num))  # 더 이상 나누어 떨어지지 않을 때까지 반복\n",
    "            elif num / length(num) in strangeList:   # 조건2. 몫이 strange에 속하는 경우\n",
    "                return True                         # True 반환\n",
    "            else:                                    # 몫이 strange에 속하지 않는 경우\n",
    "                return False                        # False 반환\n",
    "        else:                                        # 조건1을 만족하지 않는 경우\n",
    "            return False                            # False 반환\n",
    "    elif length(num) == -1:                          # 음의 정수를 입력한 경우\n",
    "        return print(\"음의 정수가 아닌 정수를 입력해주세요.\")\n",
    "    else:                                             # 자릿수가 1인 경우 \n",
    "        return True                                  # True 반환"
   ]
  },
  {
   "cell_type": "markdown",
   "id": "717682e8",
   "metadata": {},
   "source": [
    "- [예시]\n",
    "        1. num = 0                   =>    True\n",
    "        2. num = 56                  =>    True\n",
    "        3. num = 100                 =>    False\n",
    "        4. num = 7882602506492313600 =>    True\n",
    "        5. num = 6012302549522098651 =>    False"
   ]
  },
  {
   "cell_type": "code",
   "execution_count": 79,
   "id": "81350360",
   "metadata": {
    "scrolled": true
   },
   "outputs": [
    {
     "name": "stdout",
     "output_type": "stream",
     "text": [
      "음의 정수가 아닌 정수를 입력해주세요.\n"
     ]
    }
   ],
   "source": [
    "isStrange(-50)"
   ]
  },
  {
   "cell_type": "code",
   "execution_count": 80,
   "id": "f4bce461",
   "metadata": {},
   "outputs": [
    {
     "data": {
      "text/plain": [
       "True"
      ]
     },
     "execution_count": 80,
     "metadata": {},
     "output_type": "execute_result"
    }
   ],
   "source": [
    "isStrange(0)"
   ]
  },
  {
   "cell_type": "code",
   "execution_count": 81,
   "id": "eb5a0d56",
   "metadata": {},
   "outputs": [
    {
     "data": {
      "text/plain": [
       "True"
      ]
     },
     "execution_count": 81,
     "metadata": {},
     "output_type": "execute_result"
    }
   ],
   "source": [
    "isStrange(56)"
   ]
  },
  {
   "cell_type": "code",
   "execution_count": 82,
   "id": "be600b6d",
   "metadata": {},
   "outputs": [
    {
     "data": {
      "text/plain": [
       "False"
      ]
     },
     "execution_count": 82,
     "metadata": {},
     "output_type": "execute_result"
    }
   ],
   "source": [
    "isStrange(100)"
   ]
  },
  {
   "cell_type": "code",
   "execution_count": 83,
   "id": "dfc8d7a1",
   "metadata": {},
   "outputs": [
    {
     "data": {
      "text/plain": [
       "True"
      ]
     },
     "execution_count": 83,
     "metadata": {},
     "output_type": "execute_result"
    }
   ],
   "source": [
    "isStrange(7882602506492313600)"
   ]
  },
  {
   "cell_type": "code",
   "execution_count": 84,
   "id": "5076c5c5",
   "metadata": {},
   "outputs": [
    {
     "data": {
      "text/plain": [
       "False"
      ]
     },
     "execution_count": 84,
     "metadata": {},
     "output_type": "execute_result"
    }
   ],
   "source": [
    "isStrange(6012302549522098651)"
   ]
  },
  {
   "cell_type": "markdown",
   "id": "adf5b3a3",
   "metadata": {},
   "source": [
    "#### 9. 다음 문제를 정확히 읽고 적합한 코딩을 제시하시오."
   ]
  },
  {
   "cell_type": "markdown",
   "id": "ad6ba7c5",
   "metadata": {},
   "source": [
    "- 1번 그룹, 2번 그룹, ... n번 그룹으로 번호가 매겨진 총 n개의 그룹이 존재하고, i<sup>th</sup> 그룹에는 임의의 팀원 수 a<sub>i</sub> 명이 있다.\n",
    "하나의 버스 정류장이 있고, 버스는 오직 한 대만 운영한다. 버스는 버스 정류장에 도착하고 모든 그룹은 버스를 통해 여행하길 원한다.   \n",
    "하지만, 같은 그룹에 속한 팀원들은 분리되기를 원치 않는다. 그래서 그룹의 모든 팀원이 탈 수 있을 때 에만 그 그룹은 버스에 탑승한다.   \n",
    "또한, 이들은 그룹의 번호순으로 여행을 하길 원한다. 예를 들어, 3번 그룹은 1번 그룹과 2번 그룹이 여행을 한 뒤에 버스를 탈 수 있거나, 1번 그룹과 2번 그룹이 이미 버스에 탑승한 상태에 있을 때 동시에 버스를 탈 수 있다.   \n",
    "마지막으로, 버스는 빈 좌석이 없을 때 에만 여행을 떠난다.\n",
    "\n",
    "- 이 문제에서 각 그룹의 팀원 수가 리스트로 주어질 때, 가능한 모든 버스의 사이즈 x(x명의 사람들이 동시에 탈 수 있음)를 반환하는 함수 solve(a) 를 작성하시오.\n",
    "- [주의] 반드시 계산 복잡도를 최대한 낮추세요. 아래 예시 3번을 실행했을 때 결과가 바로 나타날 수 있도록!!"
   ]
  },
  {
   "cell_type": "code",
   "execution_count": 85,
   "id": "e39a1291",
   "metadata": {},
   "outputs": [],
   "source": [
    "def solve(a):\n",
    "    busList = []       # 최종 리스트\n",
    "    divisorList = []   # 약수 리스트\n",
    "    sum_value = sum(a) # 리스트의 총합\n",
    "    passenger = 0      # 승객 초기값\n",
    "    \n",
    "    # 1. 입력된 리스트의 총합에 대한 약수 리스트 구하기\n",
    "    for num in range(1, int((sum_value)**(1/2)+1)): \n",
    "        if sum_value % num == 0:            # 약수 조건 만족시\n",
    "            divisorList.append(num)          # 약수 리스트에 추가\n",
    "            if (num != (sum_value // num)): # 해당 약수의 짝이 되는 약수 추가\n",
    "                                             # 이 때, 7*7=49 처럼 동일한 값을 넣지 않기 위해 검사 진행\n",
    "                     divisorList.append(sum_value // num)\n",
    "                    \n",
    "    # 2. 약수 리스트 오름차순 정렬\n",
    "    divisorList.sort()\n",
    "    \n",
    "    # 3. 가능한 버스 크기 구하기\n",
    "    for busSize in divisorList:             # 모든 약수 리스트를 대입\n",
    "        for group in range(len(a)):         # 입력된 리스트의 각 요소를 버스에 탑승\n",
    "            passenger += a[group]\n",
    "            if busSize == passenger:        # 버스의 크기와 탑승객이 일치한다면\n",
    "                passenger = 0               # 해당 버스는 출발, 새로운 버스가 오므로 탑승객 초기화\n",
    "                if group == (len(a)-1):    # 이 때 마지막 그룹이라면\n",
    "                    busList.append(busSize) # 해당 버스의 크기를 버스 리스트에 추가\n",
    "            elif busSize < passenger:      # 버스의 크기보다 탑승객수가 많아질 경우\n",
    "                passenger = 0              # 탑승객을 초기화하고\n",
    "                break                     # 해당 반복문은 종료\n",
    "                \n",
    "    # 4. 최종 리스트 출력\n",
    "    return busList"
   ]
  },
  {
   "cell_type": "markdown",
   "id": "e73e6e7b",
   "metadata": {},
   "source": [
    "- [예시]\n",
    "        1. a = [1, 2, 1, 1, 1, 2, 1, 3]    =>    [3, 4, 6, 12]\n",
    "        2. a = [1, 1, 1, 1]                =>    [1, 2, 4]\n",
    "        3. a = [9999] * 10**5              =>    \n",
    "[9999,19998,39996,49995,79992,99990,159984,199980,249975,319968,399960,499950,799920,999900,   1249875,1599840,1999800,2499750,3999600,4999500,6249375,7999200,9999000,12498750,19998000,   24997500,31246875,39996000,49995000,62493750,99990000,124987500,199980000,249975000,499950000,   999900000]"
   ]
  },
  {
   "cell_type": "code",
   "execution_count": 86,
   "id": "0db77a26",
   "metadata": {},
   "outputs": [
    {
     "name": "stdout",
     "output_type": "stream",
     "text": [
      "[3, 4, 6, 12]\n"
     ]
    }
   ],
   "source": [
    "a = [1, 2, 1, 1, 1, 2, 1, 3]\n",
    "print(solve(a))"
   ]
  },
  {
   "cell_type": "code",
   "execution_count": 87,
   "id": "fee04842",
   "metadata": {},
   "outputs": [
    {
     "name": "stdout",
     "output_type": "stream",
     "text": [
      "[1, 2, 4]\n"
     ]
    }
   ],
   "source": [
    "a = [1, 1, 1, 1]\n",
    "print(solve(a))"
   ]
  },
  {
   "cell_type": "code",
   "execution_count": 88,
   "id": "6de50184",
   "metadata": {},
   "outputs": [
    {
     "name": "stdout",
     "output_type": "stream",
     "text": [
      "[9999, 19998, 39996, 49995, 79992, 99990, 159984, 199980, 249975, 319968, 399960, 499950, 799920, 999900, 1249875, 1599840, 1999800, 2499750, 3999600, 4999500, 6249375, 7999200, 9999000, 12498750, 19998000, 24997500, 31246875, 39996000, 49995000, 62493750, 99990000, 124987500, 199980000, 249975000, 499950000, 999900000]\n"
     ]
    }
   ],
   "source": [
    "a = [9999] * 10**5\n",
    "print(solve(a))"
   ]
  },
  {
   "cell_type": "markdown",
   "id": "4b3314d9",
   "metadata": {},
   "source": [
    "## [Incremental Project 문제]"
   ]
  },
  {
   "cell_type": "markdown",
   "id": "bdb29f75",
   "metadata": {},
   "source": [
    "#### 이전 Assignment2의 마지막 문제는 웹 URL로 지정된 웹페이지를 문자열로 가져와 모든 HTML 태그를 제외한 순수 텍스트를 얻어내고 그 안에 존재하는 단어를 추출하고 단어들의 총 개수를 출력하는 프로그램을 작성하는 것이었다. 이번에는 그 마지막 숙제를 그대로 확장하여 웹 URL로 지정된 웹페이지 내 순수 텍스트 안에 존재하는 각 단어들에 대해 다음 요구사항 대로 출력하는 프로그램을 작성하시오."
   ]
  },
  {
   "cell_type": "markdown",
   "id": "860a1c83",
   "metadata": {},
   "source": [
    "- 요구사항 1. CSS와 Javascript 내용도 모두 제거하시오(이전 숙제에서 제외하였다면 본 요구사항 무시)\n",
    "    - 즉, 아래와 같은 코드는 <style\\> 및 <script\\>태그 뿐만 아니라 그 안의 내용 전체를 모두 제거   \n",
    "           \n",
    "            <style\\>   \n",
    "            h1 {   \n",
    "              color: blue;\n",
    "            }   \n",
    "            </style\\>   \n",
    "            <script\\>   \n",
    "            int a = 10;   \n",
    "            ...   \n",
    "            </script\\>                 \n",
    "- 요구사항 2. 순수 텍스트 안에 존재하는 단어들에 대해 string 모듈을 활용하여 모든 punctuation (구두문자)를 완벽히 제거하시오.\n",
    "    - 예: ['world!', ':', '+hello+', '~python$$$', '=', 'world'] ---> ['world', 'hello', 'python', 'world']\n",
    "    - 모든 punctuation을 확인하는 방법은 아래와 같다.   \n",
    "<pre>import string\n",
    "print(string.punctuation)</pre>\n",
    "- 요구사항 3. 만약 punctuation (구두문자)를 제거한 이후 공백으로 판명되는 단어들은 해당 단어 리스크에서 제거하시오.\n",
    "    - 예: ['컴퓨터공학부!', '---?', '%지향~', '...'] ---> ['컴퓨터공학부', '', '지향', ''] ---> ['컴퓨터공학부', '지향']\n",
    "- 요구사항 4. 각 단어들의 출현빈도를 사전형태로 출력하시오.\n",
    "    - 예: ['world', 'hello', 'python', 'world', '컴퓨터공학부', '지향'] ---> {'world': 2, 'hello': 1, 'python': 1, '컴퓨터공학부': 1, '지향': 1}\n",
    "- 요구사항 5. 다음 5개의 사이트에 대한 단어 출현빈도를 출력하시오.\n",
    "    - http://cse.koreatech.ac.kr\n",
    "    - https://www.koreatech.ac.kr\n",
    "    - http://www.naver.com\n",
    "    - http://www.daum.net\n",
    "    - http://www.nytimes.com"
   ]
  },
  {
   "cell_type": "code",
   "execution_count": 40,
   "id": "71e9e22b",
   "metadata": {},
   "outputs": [],
   "source": [
    "import requests # html 소스를 가져오기 위해 삽입\n",
    "import html # html escape 문자 변환을 위해 삽입\n",
    "import string # punctuation(구두문자) 제거를 위해 삽입\n",
    "\n",
    "\"\"\"\n",
    "[참고사항]\n",
    "requests를 사용하여 html 소스를 가져오면 request에서 자동으로 HTTP 헤더를 통해 데이터를 인코딩해준다.\n",
    "그런데 여기서, 유니코드 인코딩'UTF-8', 한글 인코딩'ecu-kr' 인 경우 한글이 깨지지 않지만,\n",
    "Google과 같이 영문 인코딩 'ISO-8859-1'인 경우 한글이 깨지는 문제가 발생한다.\n",
    "\n",
    "따라서 아래와 같이 이 경우에는 아래와 같이 endcoding 값을 직접 지정해준뒤 .text파일로 읽어내면 해결될 것\n",
    "같았으나, Google의 경우 이렇게 해서는 해결되지 않았다. 결국, 크로스 사이트 스크립팅 공격을 방지하기 위해 \n",
    "escape된 것이라 추측, html의 unescape 함수로 문자열 변환을 통해 해결했다.\n",
    "\"\"\"\n",
    "\n",
    "# 사이트 주소 검사 1: request시 에러 검사\n",
    "def requestURL(url): \n",
    "    try:\n",
    "        req = requests.get(url, verify=False) # html 소스 가져오기\n",
    "                                               # https:// 사이트 소스를 가져올 때 SSLError 발생을 방지하고자\n",
    "                                               # SSL 인증서 확인 과정 생략(verify=False)\n",
    "    except:\n",
    "        print(\"사이트 주소가 잘못되었습니다. 확인해주세요.\")\n",
    "        return False\n",
    "    return req\n",
    "\n",
    "# 사이트 주소 검사 2: 응답/요청 검사\n",
    "def siteCheck(request): \n",
    "    if request.ok: # raise_for_status()로 응답/요청 검사 \n",
    "        print(\"사이트 주소가 정상입니다.\") # 사이트 주소가 올바른 경우 \n",
    "    else:\n",
    "        print(\"사이트 주소가 잘못되었습니다. 확인해주세요.\") # 사이트 주소가 틀린 경우\n",
    "        print(\"에러코드: {}, 에러명: {}\".format(request.status_code, request.reason))\n",
    "\n",
    "# 인코딩이 Unicode, euc-kr 인지 검사\n",
    "def encodingCheck(request): \n",
    "    encodingValue = request.encoding # 인코딩값 가져와 저장\n",
    "    encodingValue = encodingValue.lower() # 대문자인 경우가 있으므로 소문자로 변환\n",
    "    if encodingValue != 'utf-8' and encodingValue != 'euc-kr': # 한글 인코딩이 아닌 경우\n",
    "        return True # 소스 변환이 필요하다.\n",
    "    return False # 소스 변환이 필요없다.\n",
    "\n",
    "# 소스 처리 과정\n",
    "def sourceProcess(request):\n",
    "    siteCheck(request)    # 사이트 주소가 올바른지 검사\n",
    "    source = request.text # .text는 encoding 속성을 이용해 바이트코드를 문자열로 디코딩한다.\n",
    "    if encodingCheck(request): # 한글 인코딩이 아닌 경우 unescape로 문자를 변환한다.\n",
    "        source = html.unescape(source)\n",
    "        return source\n",
    "    else:\n",
    "        return source"
   ]
  },
  {
   "cell_type": "code",
   "execution_count": 69,
   "id": "a4f85a66",
   "metadata": {},
   "outputs": [
    {
     "name": "stderr",
     "output_type": "stream",
     "text": [
      "C:\\Users\\Leesy\\anaconda3\\envs\\script\\lib\\site-packages\\urllib3\\connectionpool.py:1013: InsecureRequestWarning: Unverified HTTPS request is being made to host 'cse.koreatech.ac.kr'. Adding certificate verification is strongly advised. See: https://urllib3.readthedocs.io/en/1.26.x/advanced-usage.html#ssl-warnings\n",
      "  warnings.warn(\n"
     ]
    },
    {
     "name": "stdout",
     "output_type": "stream",
     "text": [
      "사이트 주소가 정상입니다.\n"
     ]
    },
    {
     "name": "stderr",
     "output_type": "stream",
     "text": [
      "C:\\Users\\Leesy\\anaconda3\\envs\\script\\lib\\site-packages\\urllib3\\connectionpool.py:1013: InsecureRequestWarning: Unverified HTTPS request is being made to host 'www.koreatech.ac.kr'. Adding certificate verification is strongly advised. See: https://urllib3.readthedocs.io/en/1.26.x/advanced-usage.html#ssl-warnings\n",
      "  warnings.warn(\n",
      "C:\\Users\\Leesy\\anaconda3\\envs\\script\\lib\\site-packages\\urllib3\\connectionpool.py:1013: InsecureRequestWarning: Unverified HTTPS request is being made to host 'www.koreatech.ac.kr'. Adding certificate verification is strongly advised. See: https://urllib3.readthedocs.io/en/1.26.x/advanced-usage.html#ssl-warnings\n",
      "  warnings.warn(\n",
      "C:\\Users\\Leesy\\anaconda3\\envs\\script\\lib\\site-packages\\urllib3\\connectionpool.py:1013: InsecureRequestWarning: Unverified HTTPS request is being made to host 'www.koreatech.ac.kr'. Adding certificate verification is strongly advised. See: https://urllib3.readthedocs.io/en/1.26.x/advanced-usage.html#ssl-warnings\n",
      "  warnings.warn(\n"
     ]
    },
    {
     "name": "stdout",
     "output_type": "stream",
     "text": [
      "사이트 주소가 정상입니다.\n",
      "사이트 주소가 정상입니다.\n"
     ]
    },
    {
     "name": "stderr",
     "output_type": "stream",
     "text": [
      "C:\\Users\\Leesy\\anaconda3\\envs\\script\\lib\\site-packages\\urllib3\\connectionpool.py:1013: InsecureRequestWarning: Unverified HTTPS request is being made to host 'www.naver.com'. Adding certificate verification is strongly advised. See: https://urllib3.readthedocs.io/en/1.26.x/advanced-usage.html#ssl-warnings\n",
      "  warnings.warn(\n",
      "C:\\Users\\Leesy\\anaconda3\\envs\\script\\lib\\site-packages\\urllib3\\connectionpool.py:1013: InsecureRequestWarning: Unverified HTTPS request is being made to host 'www.daum.net'. Adding certificate verification is strongly advised. See: https://urllib3.readthedocs.io/en/1.26.x/advanced-usage.html#ssl-warnings\n",
      "  warnings.warn(\n"
     ]
    },
    {
     "name": "stdout",
     "output_type": "stream",
     "text": [
      "사이트 주소가 정상입니다.\n",
      "사이트 주소가 정상입니다.\n"
     ]
    },
    {
     "name": "stderr",
     "output_type": "stream",
     "text": [
      "C:\\Users\\Leesy\\anaconda3\\envs\\script\\lib\\site-packages\\urllib3\\connectionpool.py:1013: InsecureRequestWarning: Unverified HTTPS request is being made to host 'www.nytimes.com'. Adding certificate verification is strongly advised. See: https://urllib3.readthedocs.io/en/1.26.x/advanced-usage.html#ssl-warnings\n",
      "  warnings.warn(\n"
     ]
    }
   ],
   "source": [
    "# 1. 컴퓨터공학부 소스 가져오기(보안상 http를 사용하지 않고,https로 바뀐 주소로 가져옴)\n",
    "#req_csekoreatech = requestURL('http://cse.koreatech.ac.kr') # 해당 주소의 경우 403 에러 발생\n",
    "req_csekoreatech = requestURL('https://cse.koreatech.ac.kr')\n",
    "source_csekoreatech = sourceProcess(req_csekoreatech)\n",
    "\n",
    "# 2. 한국기술교육대학교 소스 가져오기\n",
    "req_koreatech = requestURL('https://www.koreatech.ac.kr')\n",
    "source_koreatech = sourceProcess(req_koreatech)\n",
    "\n",
    "# 3. Naver소스 가져오기\n",
    "req_naver = requestURL('http://www.naver.com')\n",
    "source_naver = sourceProcess(req_naver)\n",
    "\n",
    "# 4. Daum소스 가져오기 \n",
    "req_daum = requestURL('http://www.daum.net/')\n",
    "source_daum = sourceProcess(req_daum)\n",
    "\n",
    "# 5. New York Times 소스 가져오기 \n",
    "req_nytimes = requestURL('http://www.nytimes.com/')\n",
    "source_nytimes = sourceProcess(req_nytimes)"
   ]
  },
  {
   "cell_type": "code",
   "execution_count": 76,
   "id": "1062a4d9",
   "metadata": {},
   "outputs": [],
   "source": [
    "# 추후 숙제 답안 제출 때엔 아래 코드는 주석처리할 것\n",
    "#print(source_daum)"
   ]
  },
  {
   "cell_type": "code",
   "execution_count": 63,
   "id": "0635e90d",
   "metadata": {},
   "outputs": [],
   "source": [
    "# 순수 문자열 텍스트만 걸러내는 stringFilter() 함수 선언\n",
    "def stringFilter(source):\n",
    "    wordList = []\n",
    "\n",
    "    # 1. '<script ...> ~ </script>' 스크립트 태그 내용 제거\n",
    "    while((source.find('<script')+1) and (source.find('</script>')+1)): # 문자열.find()시 값이 없으면 -1이므로 True다.\n",
    "                                                                         # 따라서 이 때 while()문 중단을 위해 +1을 하여\n",
    "                                                                         # 값을 0으로 만들어 False를 통해 중단시킨다.\n",
    "        firstIndex = source.find('<script')\n",
    "        lastIndex = source.find('</script>') + len('</script>') # '</script>' 까지 제거해야 하므로\n",
    "        source = source.replace(source[firstIndex:lastIndex], ' ')\n",
    "\n",
    "    # 2. '<style ...> ~ </style>' 스타일 태그 내용 제거\n",
    "    while((source.find('<style')+1) and (source.find('</style>')+1)): # 문자열.find()시 값이 없으면 -1이므로 True다.\n",
    "                                                                       # 따라서 이 때 while()문 중단을 위해 +1을 하여\n",
    "                                                                       # 값을 0으로 만들어 False를 통해 중단시킨다.\n",
    "        firstIndex = source.find('<style') \n",
    "        lastIndex = source.find('</style>') + len('</style>') # '</style>' 까지 제거해야 하므로\n",
    "        source = source.replace(source[firstIndex:lastIndex], ' ')\n",
    "\n",
    "   # 3. '<!--'로 시작해서 '-->' 주석 태그 제거, '->'와 같이 화살표 표시로 인해 에러 발생\n",
    "    while((source.find('<!--')+1) and (source.find('-->')+1)): # 문자열.find()시 값이 없으면 -1이므로 True다.\n",
    "                                                           # 따라서 이 때 while()문 중단을 위해 +1을 하여\n",
    "                                                           # 값을 0으로 만들어 False를 통해 중단시킨다.\n",
    "        firstIndex = source.find('<!--')\n",
    "        lastIndex = source.find('-->') + len('-->') # '-->' 까지 제거해야 하므로\n",
    "        source = source.replace(source[firstIndex:lastIndex], ' ')    \n",
    "        \n",
    "   # 4. '<url>'로 시작해서 '</url>' 끝나는 태그 제거, 특정 사이트에서 '<a href=\"<url> </url>\"> 문법 사용\n",
    "    while((source.find('<url>')+1) and (source.find('</url>')+1)): # 문자열.find()시 값이 없으면 -1이므로 True다.\n",
    "                                                           # 따라서 이 때 while()문 중단을 위해 +1을 하여\n",
    "                                                           # 값을 0으로 만들어 False를 통해 중단시킨다.\n",
    "        firstIndex = source.find('<url>')\n",
    "        lastIndex = source.find('</url>') + len('</url>') # '</url>' 까지 제거해야 하므로\n",
    "        source = source.replace(source[firstIndex:lastIndex], ' ')    \n",
    "         \n",
    "    # 5. '<'로 시작해서 '>' 끝나는 태그 제거\n",
    "    while((source.find('<')+1) and(source.find('>')+1)): # 문자열.find()시 값이 없으면 -1이므로 True다.\n",
    "                                                           # 따라서 이 때 while()문 중단을 위해 +1을 하여\n",
    "                                                           # 값을 0으로 만들어 False를 통해 중단시킨다.\n",
    "\n",
    "        firstIndex = source.find('<')\n",
    "        lastIndex = source.find('>') + len('>') # '>' 까지 제거해야 하므로\n",
    "        source = source.replace(source[firstIndex:lastIndex], ' ')\n",
    "        \n",
    "    # 6. punctuation 구두문자 제거\n",
    "    for punct in string.punctuation:\n",
    "        source = source.replace(punct, '')\n",
    "    \n",
    "    # 7. source를 리스트로 저장\n",
    "    wordList = source.split()\n",
    "    \n",
    "    return wordList"
   ]
  },
  {
   "cell_type": "code",
   "execution_count": 50,
   "id": "625359e6",
   "metadata": {},
   "outputs": [],
   "source": [
    "# 출현빈도 수 계산\n",
    "def wordCount(wordlist):\n",
    "    word_set = set(wordlist) # 중복된 문자열 제거\n",
    "    keyList = list(word_set) # 키 목록 리스트화\n",
    "    wordDict = {}            # 사전 정의\n",
    "    for key in keyList:     # 키 목록만큼\n",
    "        value = wordlist.count(key) # 단어 리스트에서 해당 키의 출현빈도 계산\n",
    "        wordDict[key] = value       # 해당 키와 출현빈도를 사전에 저장\n",
    "    return print(wordDict)"
   ]
  },
  {
   "cell_type": "code",
   "execution_count": 51,
   "id": "ce9df932",
   "metadata": {},
   "outputs": [],
   "source": [
    "# 필터링 결과 출력 함수 선언\n",
    "def printResultFilter(input_source):\n",
    "    #print(\"1. 필터링된 source 값 리스트\\n\\n\", stringFilter(input_source))\n",
    "    #print()\n",
    "    #print(\"2. 단어의 개수: {}개\\n\".format(len(stringFilter(input_source))))\n",
    "    print(\"3. 각 단어들의 출현빈도 수\\n\")\n",
    "    wordCount(stringFilter(input_source)) "
   ]
  },
  {
   "cell_type": "code",
   "execution_count": 71,
   "id": "8857b480",
   "metadata": {
    "scrolled": true
   },
   "outputs": [
    {
     "name": "stdout",
     "output_type": "stream",
     "text": [
      "3. 각 단어들의 출현빈도 수\n",
      "\n",
      "{'1461': 1, '소개': 1, 'IPP사업단': 2, 'CNS': 1, '하반기': 1, 'Navigation': 1, 'FAX': 1, 'Facebook': 1, '글로벌': 2, 'LINK': 1, '테스트': 1, '티빙': 1, '꼭': 1, 'AI': 2, '21하반기': 1, '중간발': 1, '0941': 2, '졸업작품': 8, '모집1공학관': 1, '41': 1, 'DX': 1, '구독': 1, 'Pr': 1, '판넬': 1, 'Science': 1, '1110': 2, '1038': 2, 'Exploiting': 1, 'Campus': 1, '학교': 1, 'IT': 2, '※': 2, '임기제': 1, 'Security': 1, '0915': 2, '치안정책연구소': 1, 'LG': 1, '찾기': 1, 'CTST': 1, '학과사무실': 1, '20210712': 1, '장기현장실습': 2, '혁신': 1, '1주년': 1, '학부서비스': 1, 'event': 1, 'Copy': 1, 'All': 1, 'Apple’s': 1, '1838': 2, 'Lab에서': 1, '한진': 1, '어나더': 1, '교육의': 2, '안전교육': 1, 'reserved': 1, 'HPC': 1, '오신': 1, '유출될': 1, 'Internet': 1, '융합대학': 2, '지도교수': 1, '2335': 2, '모집합니다': 1, 'Supergirl': 1, 'Story': 1, '공공장소에서': 1, '다음': 1, '신입학사The': 1, '31253': 1, '기반': 1, '기념': 1, '0910': 2, 'of': 2, 'Location': 1, '1443': 2, '홈페이지에': 1, '대학혁신산업단': 1, '1908': 2, 'Batman': 1, '1316': 2, '필요가': 1, '아이디': 1, 'Engineering': 1, '20211022': 3, '2학기': 1, '것을': 1, '20210913': 1, 'GS25와': 1, '개인정보가': 1, '20211018': 5, 'Confirms': 1, '1736': 2, '영화': 1, '이수': 1, 'KT': 1, '화성': 1, '041': 2, '강릉국제영화제': 1, 'School': 1, '교직원': 1, '이용': 1, '사원': 1, '회원가입': 1, 'The': 1, 'Movie': 1, '1031': 2, '천안시': 2, '1146': 2, '단': 1, '실험실': 1, '전자신문': 1, '합류…AI': 1, '접속부터는': 1, 'here': 1, '연간': 1, '20211008': 1, '공학교육인증': 1, '인턴': 1, '20210720': 1, '자료실': 2, '프로젝트': 1, '2015': 1, 'Fun': 1, '기능을': 1, '필독20212학기': 1, '최종발표': 2, '모집': 4, '편의점': 1, '없습니다': 1, '1302': 2, '2021': 1, '‘Unleashed’': 1, 'and': 2, 'Study': 1, '국내': 3, '대학원': 2, 'N': 1, 'China': 1, 'CSE': 1, '가전리': 1, 'Watch': 1, '자유게시판': 1, '코스맥스그룹': 1, '1444': 2, '20211014': 2, '오리지널': 1, '수': 2, '로그인할': 1, '창조적': 2, 'Superman': 1, 'Should': 1, '학부광장': 1, '학사안내': 1, 'Computer': 1, '레코드': 1, '도시락': 1, 'Have': 1, '20211021': 3, '요금': 1, '20211006': 1, '스토리위즈': 1, '원팀에': 1, '게임방': 1, '제도': 2, '닫더라도': 1, 'right': 1, '김덕수': 1, '물류': 1, '모집서버클라': 1, '할인': 1, '해주세요': 1, 'Be': 1, '전처리': 1, '로그인이': 1, 'Platum': 1, '독립법인': 1, '©': 1, '20211001': 1, 'Revamped': 1, 'Sinister': 1, 'BCSD': 1, 'U알뜰모바일': 1, 'And': 1, '공지사항': 1, 'How': 1, '요청1219': 1, '환영합니다': 1, '있으니': 1, '입학': 1, '기획·개발': 1, '케이티시즌': 1, '로그아웃을': 1, 'Trailer': 1, '기업연계형': 2, '동남구': 2, 'Registration': 1, '데이터': 1, '메카': 2, '560': 2, '대학원생': 2, '결과': 1, 'SpiderMan': 1, 'IDPW': 1, '전시회': 2, '전문연구요원': 2, '취업게시판': 1, 'Flash': 1, '안내': 1, '및': 2, '20210824': 1, '0431': 6, 'A': 2, '평생교육원': 1, '1926': 2, '28일': 1, 'Will': 1, '비밀번호': 1, '인적자원개발의': 2, 'Could': 1, '최고의': 2, 'Journey': 1, '유지': 2, '1805': 2, 'Innovation': 1, '홈페이지': 1, '온라인': 1, 'TechCrunch': 1, '20211015': 1, 'rights': 1, 'Quick': 1, '구성원소개': 1, '이용권': 1, '계속': 1, '연구실': 1, '바스젠바이오': 1, 'live': 1, 'TEL': 1, '담당': 1, 'Copyright': 1, 'Lab': 1, '전산직': 1, 'IVs': 1, '로그인': 4, '20210917': 1, '한국기술교육대학교': 7, '근무730': 1, '1460': 1, '대학혁신사업단': 1, '1134': 2, '학부': 1, 'WEBMAIL': 1, '1462': 1, '관련': 1, '안내사항': 1, '시': 1, '1342': 2, '컴퓨터공학부': 8, 'Contact': 1, '신입부원을': 1, '업무': 1, '1100': 2, '병천면': 2, '유지될': 1, '충절로': 2, '공무원8급': 1, '1050': 2, '아르바이트생': 1, '확인': 1, '0909': 2, '사용할': 1, '실천공학과': 2, '충청남도': 2, '2021년': 4, '브라우저를': 1, '20210927': 3, '경우': 1, '주코그': 1, 'Close': 1, '경찰대학': 1, '1600': 2, 'Schoolfun': 1, '공채': 1, 'Six': 1, '등': 1, '있습니다': 1, '바로가기': 2, '모형': 1}\n"
     ]
    }
   ],
   "source": [
    "# 1. 컴퓨터공학부 사이트 필터링 결과\n",
    "printResultFilter(source_csekoreatech)"
   ]
  },
  {
   "cell_type": "code",
   "execution_count": 72,
   "id": "8aac4667",
   "metadata": {},
   "outputs": [
    {
     "name": "stdout",
     "output_type": "stream",
     "text": [
      "3. 각 단어들의 출현빈도 수\n",
      "\n",
      "{'성과를': 1, '공식블로그': 1, 'FAX': 1, '갈수록': 1, '행사': 1, '최고경영자과정': 1, '전체메뉴보기': 1, '생협': 1, '2020년': 1, '“고용서비스는': 1, '알리오': 1, '발전기금': 2, '반도체': 1, '열기가': 1, '병무안내관련사이트': 1, '11년': 1, '행정서비스헌장': 2, '홍보관련영상': 1, '02': 1, '사전정보공표목록': 1, '총학생회': 1, '중앙일보대학평가‘교육중심대학’': 1, '발표': 1, '재생': 1, '포토갤러리더보기': 1, '해외연수': 1, '500명': 1, '유튜브': 1, '연속으로': 1, '생활관': 2, '민간투자사업': 1, 'CoverStory': 1, '모집최고경영자과정': 1, '사회안전망전문인력': 1, '대학소개': 1, '장비기술교육센터': 1, '보는': 1, '엠블럼': 1, '정보공개': 2, '2학기': 1, '직장예비군안내': 1, '찾아오시는길': 2, '코로나에': 1, '이상': 1, '개교': 1, '산업통상자원부': 1, '온라인교육지원': 3, '기증': 1, '교직원': 3, '데이터의견수렴·오류신고': 1, '의': 1, '천안시': 1, '하거나': 1, '선착순': 1, '클릭하세요': 1, '대학알리미': 1, '결과확인': 1, '서비스': 1, 'Aug': 1, '여행하자': 1, 'interkoreatechackr': 1, '1': 1, '모금캠페인': 1, '게시한': 1, '윤리헌장': 1, '전화번호검색': 1, 'Wings': 1, '이메일무단수집거부': 1, '안전보건경영': 2, '단기근로장학생': 1, '온라인평생교육원': 2, '학사안내': 1, '자세히': 1, '문화지원금': 1, 'VISION2020': 2, '정지': 1, '새로운학부과': 1, '847': 1, '위해': 1, 'right': 1, '학생식당': 1, '회의를': 1, '대학': 7, 'SNS': 1, '병사안내': 1, '고용부': 1, '코리아텍의': 3, '기준': 1, '참여하기': 1, '‘19년': 1, '생활관자치회': 1, '졸업생': 1, '전년도': 1, '발자취': 1, '서비스메뉴': 1, '특수교과': 1, '사태': 1, '안내': 1, '및': 2, '조직구성': 1, '기계공학부': 2, '활용한': 1, '듀얼공동훈련센터허브사업단': 1, '취업정보': 3, '한국기술교육대학교의': 1, '청탁금지법': 2, '최신': 3, '공개되었습니다': 1, '코리아텍방송국': 1, '20211015': 2, '중앙일보대학평가': 1, '속에': 1, '30년': 2, '대외유관기관': 1, '교과과정': 1, '10월호': 2, '공공데이터': 1, '받고': 1, '보건실안내': 1, '좌측내용': 1, '웹갤러리': 1, '대학혁신사업단': 1, '친구랑': 1, '역대총장': 1, '한국교육개발원': 1, '협약까지': 1, 'EMAIL': 1, '병천면': 1, 'KOREATECH20년': 1, '학사종합서비스': 2, '현실과': 1, '나래': 1, '외국인': 1, '충청남도': 1, '인재상': 1, '산학협력단': 2, '대학특성': 1, '1위': 3, '메카트로닉스공학부': 3, '함께하는': 1, '하반기': 1, '근로복지공단': 1, 'STORY': 3, '한국산업안전보건공단': 1, '증명서발급': 1, '캠퍼스투어': 1, '국민들의': 1, '사업소식': 1, '졸업작품': 2, '은행업무': 1, '정보공개제도안내': 1, '국제협력프로그램': 1, '디자인공학전공': 1, '기본적인': 1, '수상결과': 1, '대학요람': 1, 'Link': 1, '고용서비스는': 1, '직업능력심사평가원': 2, '입학정보를': 3, '인스타그램': 1, '학사종합시스템': 1, '교양학부': 2, 'Jul': 1, '홍보대사': 1, '대안들이': 1, '동영상이': 1, '출처': 3, '국제교류현황': 1, '날': 1, '숫자로': 1, '정보공개이의신청': 1, '서비스를': 1, 'KOREATECH': 7, 'Story': 1, '사람인': 1, '31253': 1, '재취업': 1, '웹메일': 3, '“교육중심대학': 1, 'ENG': 2, '심볼': 1, '수령액': 1, '일반공지': 1, '20211022': 4, '학사일정': 2, 'QA': 2, '20211018': 1, '평가': 1, '대학캠퍼스투어': 1, '영상과': 1, '일반대학원': 1, 'PLUS': 2, '오늘의': 2, '한국산업인력공단': 1, '코리아텍소개': 1, '자료실': 1, '학교법인임원공시': 1, '공공데이터개방': 1, '팝업존': 1, '대학원교학팀': 1, '대학혁신지원사업': 2, '가상현실을': 1, '다양한': 1, '가전리': 1, '선포식': 1, '20211014': 1, '학생증발급': 1, '수업지원': 1, '학적': 1, '분포현황': 1, '한국고용정보원': 1, '민방위안내': 1, '국민권익위': 1, '3296': 1, '전국': 1, '식단': 2, '공지사항': 4, '도제허브사업단': 1, '한다quot': 1, '기부자예우': 1, 'SEARCH': 1, '통학셔틀버스안내': 1, 'CHI': 2, '고객의': 1, '학부소개': 1, '익명신고': 1, '양성을': 1, '교외장학금': 1, '청렴자료실': 1, '일자리와': 1, '더보기': 3, '페이스북': 1, 'KOREATECH한국기술교육대학교': 1, '육성해야”': 1, 'Magazine': 1, 'TEL': 1, '재학생현황': 1, '신고': 2, '한국고용노동교육원': 1, '제공합니다': 6, '행사참여안내': 1, '행정정보소재': 1, '도로명주소안내': 1, '13': 1, '대학평가': 1, '신문고': 1, '소프트웨어사용안내': 1, '공개': 1, '동아리안내': 2, '2021년': 1, 'Instgram': 1, '1600': 1, '분야의': 1, '개요': 1, '있습니다': 2, '홍보영상': 1, '안전보건방침': 1, '일반인': 3, '다담창의센터': 1, '위': 1, '공식': 1, '재학생': 3, '상담진로개발센터': 1, '0415601114': 1, '한국기술교육대학교KOREATECH': 1, '황태현': 1, '취업관련': 3, '입시요강': 1, '이벤트는': 1, '대학조직': 1, '언론보도영상': 1, '확인하실': 1, 'KOREATECH소개': 1, 'IPP센터': 1, 'NTIS': 1, '장신철': 1, '네이버블로그': 1, '홍보영상물': 1, '융합학과': 2, '회계공시': 1, '대학대학원': 2, '학과안내': 1, '교환학생안내': 1, 'Youtube': 1, '상황에서': 1, '기획재정부': 1, '천안시청': 1, '재정현황': 1, '무선랜사용신청': 1, '2019': 1, '인터넷정보공개청구': 1, '만나서': 1, '건': 1, '졸업': 1, '개선사항': 1, '교육부': 1, '홍보브로셔': 1, '잡코리아': 1, '감염병': 1, '만난다고quot아바타로': 1, '09': 1, '생긴': 1, '인터넷증명발급': 3, '교내주요기관': 1, '자료': 1, '자세한': 1, '학부모': 1, '기념사업': 1, 'TOP': 1, '이루었습니다': 1, '산업경영학부': 2, 'Blog': 1, '입학정보': 3, '직접': 1, '열린총장실': 1, 'VOC': 1, '사진을': 1, '총장동정': 1, '대학현황': 1, '원격훈련심사센터': 1, '모집': 2, '비대면': 1, '규정집': 1, '2021': 1, '대학원': 2, '시설현황': 1, '한국직업능력개발원': 1, 'Service': 1, 'ⓒ': 1, '게시판': 2, '1회': 1, '네이버': 1, '실직': 1, '비전': 1, '병무안내': 1, '아우누리': 1, '변동': 1, '초청의': 1, '중앙일보': 2, '고용노동부': 1, '전화번호찾기': 1, '입학안내': 2, '전체메뉴닫기': 1, '총장실': 1, '정보공개업무편람': 1, '유튜브에서': 1, 'Statistics': 1, 'ALIO경영공시': 1, '2021학년도': 1, '교내장학금': 1, '제6회': 1, '전직': 1, '근로장학생': 1, '제공한다': 1, '다산정보관': 1, '고': 1, '우측내용': 1, 'Sep': 1, '능력개발교육원': 2, '고용서비스정책학과장': 1, 'IPP포털': 1, '독서토론대회': 1, '코로나19관련공지': 1, '학부모님': 1, '온라인교육': 1, '총장프로필': 1, '전체메뉴열기': 1, '대학정보공시': 3, '고용서비스정책학과': 1, 'IPP·UniTech허브사업단': 1, '캠퍼스': 1, '오른쪽': 1, '원격지원': 2, '통학·': 1, 'FaceBook': 1, '국제교육센터': 1, '건축공학전공': 1, '총장인사말': 1, '본문바로가기': 1, '취업': 1, '학사공지': 1, '한국기술교육대학교KOREATECH님이': 1, '재직': 1, 'WingsMagazine': 1, '등': 1, '어학연수안내': 1, '충청남도청': 1, '홍보': 1, '대학생활': 1, '보기': 1, '연혁': 1, '사실상': 1, '행정공시': 1, '안전': 2, '에너지신소재화학공학부': 2, '한국장애인고용공단': 1, '의견란': 1, '창업지원센터': 1, '구매입찰': 1, '수강신청': 1, '경영공시': 1, 'All': 1, '부패행위': 2, '학생자치단체': 1, '교육목표': 1, '추진체계': 1, '모바일화폐페이코사용안내': 1, 'reserved': 1, '학생이': 3, '캠퍼스생활': 1, '소리제안': 1, 'NEWS': 1, '국제교류': 1, 'IT융합과학경영대학원': 1, '언론기사': 1, '인사말': 1, '인크루트': 1, '대학홍보영상': 1, '대학원소개': 1, '위원장': 1, '0': 1, '천원': 1, '회의하고': 1, '고용서비스정책학과는': 1, '진화하고': 1, '부패행위신고': 1, 'HRD학과': 2, '교가': 1, '도서관이용안내': 1, '한국폴리텍대학': 1, '장학공지': 1, '고용서비스': 1, '10명': 1, '발전기금소식': 1, '수': 1, '청년워크넷': 1, '코리아텍은': 1, '행복한': 3, '모의성적계산': 1, '코리아텍': 1, '학부과별': 1, '사진': 1, '1위”': 1, '취업률': 2, '4년제': 1, 'LINC사업단': 1, '고객만족경영체계': 1, '사업실명제': 1, '사업소개': 1, '대학소식지': 1, '전문인력': 1, '채용공지': 1, '커뮤니티': 1, '테크노인력개발전문대학원': 1, '전기전자통신공학부': 2, '오류신고': 1, '동남구': 1, '행사참여신청': 1, '고객만족경영': 1, '스킵네비게이션': 1, '학과다': 1, '최근': 2, '주요사이트': 1, '팝업': 1, '개인정보처리방침': 1, '포토갤러리': 2, '정보를': 3, '장학제도': 1, '한국기술교육대': 1, '교육장비검색': 1, '교수학습센터': 1, '사회봉사센터': 1, '홈페이지': 1, '홍보소재제안': 1, '특장점': 1, '어렵습니다그러다보니': 1, '국민권익위원회': 1, 'COVER': 3, '주메뉴바로가기': 1, '자주찾는': 1, 'Copyright': 1, '청렴게시판': 1, '장학금': 1, '01': 1, '일학습병행대학': 1, '셔틀버스': 1, '한국기술교육대학교': 12, '무선랜신청': 1, '컴퓨터공학부': 2, '닫기': 1, '충절로': 1, '교육중심대학11년연속': 1, '관련된': 1, '후원커뮤니티': 1, '대외협력팀': 1, '못': 1, '워크넷': 1, '30주년': 3, '한국노동연구원': 1, '디자인·건축공학부': 1, '코로나19': 1, '생활협동조합': 1}\n"
     ]
    }
   ],
   "source": [
    "# 2. 한국기술교육대학교 사이트 필터링 결과\n",
    "printResultFilter(source_koreatech)"
   ]
  },
  {
   "cell_type": "code",
   "execution_count": 73,
   "id": "c714f0bc",
   "metadata": {},
   "outputs": [
    {
     "name": "stdout",
     "output_type": "stream",
     "text": [
      "3. 각 단어들의 출현빈도 수\n",
      "\n",
      "{'실패로': 1, '한세구': 1, '성수동': 2, '아모레퍼시픽은': 1, '실려': 1, '4000만': 1, '오는': 1, '로블록스는': 1, '헬리오시티': 1, '우울증': 1, '기술': 1, '지역': 7, '기관으로서': 1, '요약해': 1, '남들': 1, '주식투자': 1, '상품으로': 1, '폭락이': 1, '이뤄지지': 1, '대비': 3, '마세라티': 1, '1대1': 1, '반도체': 1, '미분양': 2, '집코노미': 1, '떨어지면': 1, '피상속인이': 1, '후': 2, '있을까요2000년대': 1, '뜻입니다': 1, '당신이라면': 1, 'SK아이이테크놀로지': 1, '기껏': 1, '뜨면': 1, '재활용에': 1, '스타트업': 2, '채널을': 1, '앞둔': 2, '기자가': 1, '쥬니어네이버': 1, '설정에서': 1, '상품을': 1, 'httpbitlykrQasrImil': 1, '옅보기': 1, '넘쳐나는': 1, '자동완성을': 1, '고조되고': 1, '점검했다': 1, '니즈Needs를': 1, '복층': 1, '따르면': 5, '쉬고': 1, '미세': 1, '좋은': 3, '들어간': 2, '매월': 2, '한국': 3, '개설': 1, '일컫던': 1, '정책': 3, '노원구': 1, '이상': 4, '동일한': 3, '않다1억': 1, '정책은': 1, '1군': 1, '저축은': 1, '방법': 1, '구독하시면': 1, '웨일': 1, '대부분': 1, '“관리·감독': 1, '메일': 1, '사람도': 1, '가격은': 2, '등으로': 3, '축적…해방': 1, 'L그룹사': 1, '주간': 1, '서비스': 2, '매수세': 2, '117500': 1, '혐의주택법': 1, '없습니다': 2, '20kg': 1, '시작페이지로': 1, '넘는다고': 1, '거둘': 1, '30세입니다': 1, '사전': 2, '공모가': 1, '공간': 1, '양주∙의정부': 1, '아파트인데': 1, 'FARM': 1, '지역에서': 1, '연관이': 1, '가지': 1, '어려운데요': 1, '짚어봅니다바쁜': 1, '주가는': 1, '백화점': 1, '나가겠다': 1, '비리': 1, '강원도다…대형': 1, '필요했다': 1, '폐유리병이나': 1, '하고': 1, '소명해야': 1, '뛰어들었다': 1, '최고': 5, '49는': 1, '살': 2, '들썩이는': 1, '59': 1, '긴급': 1, '부동산ㆍ증시…잠못드는': 1, '호재': 1, '내고': 2, '유명한': 1, '평가받으며': 1, '상승세를': 1, '없는': 1, '음악': 1, '및': 5, '숨고르기인가': 2, '세계': 3, '인접한': 1, '힘들면': 1, '긴장감이': 1, '올드하다고': 1, '포기했다는': 1, '찾아낸': 1, '생활비': 1, '가능성': 1, '모두는': 1, '새해': 2, '2조원': 1, '출구에서': 1, '정지영': 1, '개발': 2, '바람': 1, '고강도': 2, '학기': 1, '받고': 3, '노하우가': 1, '못하고': 1, '지금': 4, '1000만원': 2, '석남역까지': 1, '하는': 6, '시름이': 1, '가수': 2, '소재주로': 1, '씨가': 1, '10채': 1, '‘노량진1’': 1, '재산상태': 1, '사실에': 1, '세입자를': 1, '줄고': 1, '야심': 1, '수색': 1, '아직': 1, '고시가': 2, '어젯밤': 1, '가뭄…이사': 1, '하반기': 1, '보통': 1, '사주려고': 2, '인용해': 1, '기존': 1, '금융재산이': 1, '포크레인흩날리는': 1, '세울': 1, '거리에': 1, '10조원에': 1, '고점': 2, '초반만': 1, '치어풀24': 1, '추첨': 1, '‘수학': 1, '여기에': 1, '아래': 1, '묻어나는': 1, '지하에': 1, '교육하는': 1, '수요의': 1, '용어사전': 1, 'Connect': 1, 'IT': 2, '크레스트': 1, '안팎에': 1, '조선총독부의': 1, '않으면': 1, '단독임창정': 1, '그대로': 1, '투기': 2, '목표를': 1, '핫이슈': 2, '교수님': 1, '눈에': 1, '8개도중': 1, '때마다': 1, '186919': 1, '땅집고': 6, '청약통장으로': 1, '시작했다': 1, '윤주영': 2, '문제가': 2, '것과': 1, '하늘을': 2, '마을자치연금으로': 2, '것을': 3, '싸다고': 1, '한글': 1, '합니다': 1, '대표적으로': 1, '첫': 1, '레고가': 1, '을를': 4, '중이며': 1, '비중': 1, '지금까지': 1, '한샘을': 3, '집에서': 1, '단': 1, '신호들': 1, '큐에미': 1, '동국대': 1, '생길까요구입자금의': 1, '일반': 1, '삽니다': 1, '확인됐다': 1, '시발점이': 1, '재개발•재건축': 1, '유안타증권': 1, '장암역에서': 1, '°': 1, '관심↓기업공개IPO': 1, '청약통장을': 2, '5억대': 2, '전달5억1256만원보다': 2, '화면에서': 3, '상한가를': 1, '읽는다': 2, '르노삼성': 1, '궁금했던': 1, 'query': 1, '갈': 1, '아이패밀리에스씨가': 1, '경제적자유': 1, '시간대연령남녀별': 1, '거품': 1, '보지': 1, '제': 1, '이슈가': 1, '아셔야': 1, '주택의': 1, '전국': 8, '이코노믹리뷰': 1, '조합': 2, '『오피스텔': 1, '김수현': 1, '일당': 1, '‘텅장’이다': 1, '하더군요': 1, '이날': 1, '사업이': 2, 'ONOFF': 1, '검색': 2, '가뭄': 1, '결정적인': 1, '미칠': 3, '고령의': 1, '법': 4, '나의': 1, 'QampA로': 1, '구주매출도': 1, '전진할': 1, '속도': 2, '북부권은': 1, 'intend': 1, '아직도': 1, '나서': 1, '재테크를': 1, '자이’': 1, '일시적': 2, 'NFT를': 3, '외곽지역을': 2, '공부를': 1, '같은': 3, '더보기': 2, '괜찮게': 1, '추가로': 1, '가계대출': 2, '시작돼': 2, '재자원하자는': 1, '깊다는': 1, '마곡': 1, '신고': 1, '본다': 2, '거였고': 1, '사진은': 2, '직장생활하는': 1, '위기를': 1, '못해도': 1, '투자주의보': 1, '급냉각': 2, '‘군침’': 1, '백화점의': 1, '아파트가': 8, '자신감이': 1, '모': 1, '면도기를': 1, '실패한': 1, '제공합니다': 1, '아파트를': 3, '것들': 1, '이들에게': 1, '웹문서': 1, '떨어진다’라는': 1, '정보부터': 1, '전년동월': 1, '사라지는': 1, '거래를': 1, '기현상이': 2, '자신': 1, '나오고': 1, '주제를': 1, '존리': 1, '보다': 1, '쌀이': 1, '투자자에': 1, '2021년': 2, '사망시': 1, '대선정국의': 1, '번': 3, '맞아': 1, '몰리네': 1, '위반': 1, '취직한': 1, '대안을': 1, '다툼과': 1, '브랜드타운': 3, '브랜드의': 2, '파악': 1, '짓부터': 1, '보게': 1, '여행하며': 1, '부정적이었습니다': 1, '기록했다': 1, '타이드Tide': 1, '생활숙박시설에': 2, '자주': 1, '신호들이': 1, 'lt고준석TVgt라는': 1, '금융재산을': 1, '확정…의무보유확약비율': 1, '5년': 1, '윤석열': 2, '운영': 3, 'Sign': 3, '주제별': 1, '시작한': 1, '마세요': 1, '전격': 1, '9': 1, '제가': 1, '돌파할': 1, '8': 2, '또': 2, '들어서면': 1, '전반적으로': 1, '뚫리고…초대박': 1, '과천자이에': 1, '아들이': 1, '시원찮고': 1, '이젠': 1, '가지고': 1, '청소년보호정책': 1, '주식도': 1, '얻을': 1, '11': 1, '있죠': 1, '출동한': 1, '파급력이': 1, '동해시': 1, '추진': 2, '냉랭': 1, '언제까지': 3, '85㎡': 1, '과학': 1, '해야겠다고': 1, '당주': 1, '통계표』를': 1, '질레트를': 1, '생활에': 1, '직장을': 1, '달을': 1, '기대감이': 1, '방송': 1, '그룹의': 1, '시각디자인을': 1, '떨어진': 1, 'Why': 1, '언론사': 7, '실적': 1, '회장으로부터': 1, '지휘': 1, '구주매출을': 1, '나만의': 1, '설정하기': 1, '대선주자': 1, 'vs': 4, '여의도나우': 2, '지금부터': 1, '보유한': 1, '급증해': 1, '김원철': 1, '생존': 1, '속도를': 2, '위메이크뉴스': 1, '프로젝트': 1, '실수요자들로부터': 1, '괜찮지': 1, '직후까지': 1, '상승하면서': 2, '리브부동산입니다': 1, '2000': 1, '작업…마지막': 1, 'KT에스테이트에서': 2, '18일': 1, '사': 1, '초반에서': 1, '쉽지': 2, '‘환경': 1, '서울에서': 1, '구하는': 1, '둘러싼': 1, '미달': 1, '수리받곤': 1, '달리': 1, '49㎡는': 1, '버리지': 1, '만들기로': 1, '거래': 1, '주목하는': 1, '방식으로': 1, '스몰비즈니스': 1, 'NFT': 2, '대안이': 1, '반영한': 1, '걸': 2, '살아있다는': 1, '가운데': 2, '벽…': 1, '뜨겁다': 1, '내PC': 1, '삭제': 1, '몰려': 1, 'K뷰티는': 1, '이란”': 1, '사범들이': 1, '찾지': 1, '매우': 1, '6000만원의': 1, '이번': 4, '7년': 1, '일반적으로': 1, '하나로': 1, '서울': 18, '두루': 1, '아니다': 2, '실현합니다」': 1, '이사철을': 1, '미래에셋생명': 1, '독일': 1, '맞춤형': 1, '이후로': 1, '과외': 1, '디자인': 1, '마을에': 1, '탄력을': 2, '더': 7, '해결하기': 1, '그린': 1, '중이기도': 1, '적이': 1, '웃돌고': 1, '뉴스들을': 1, '수준이었을': 1, '어르신들에게': 1, '코멘트다': 1, '감안해': 1, '확인해': 1, '동네인데': 1, '것quot공급부족에': 2, '안녕하세요': 3, '5': 1, '전신이자': 1, '저평가된': 1, '동력을': 1, '다닌': 1, '백과사전': 1, '것으로': 2, '이유': 3, '평화': 1, 'x27소프트스퀘어드x27가': 1, '그래서': 1, 'LIVE': 2, '경우': 1, '7월까지만': 1, '선배가': 1, '단절': 1, '0291300원': 1, '되는데요': 1, '참석차': 1, '등': 11, '회복의': 1, '진행되면서': 1, '국채금리가': 2, '웹툰': 2, '소재주가': 1, '보기': 1, '50만원대': 1, '전환했다': 1, '떨어질': 1, '폐합성수지': 1, '직방': 3, '세부적으로': 1, '계약이': 1, '오르게': 1, '내용이': 1, '다소': 1, '배': 2, '상상인저축은행': 1, '2년간': 1, '대표이사가': 1, '실제': 1, '‘KB경영연구소’에서': 1, '플라스틱': 1, '할': 4, '아이가': 1, '일하러': 1, '적용하는데요': 1, '다운로드': 1, '것으': 1, '매체마다': 1, '영상을': 1, '전라북도': 1, '꽃': 1, '되는': 1, '침체·실적': 1, '의견': 2, '생각': 2, '쓰고': 2, '보태서': 1, '눈을': 1, '많이': 2, '외면과': 1, '이상우': 4, '드립니다': 1, '기자': 6, '다음': 8, '분양': 1, '예정입니다': 1, '된': 1, '내에': 1, '가까이': 1, '매섭다': 1, '물려받지': 1, '아들': 2, '세제': 1, '판교는': 1, '애정과': 1, '공정': 1, '지식iN': 2, '있을': 1, '연속': 3, '신길뉴타운': 2, '배터리': 1, '뉴스웨이': 2, '중인': 3, '주변에': 1, '투자자문': 1, '영향을': 3, '‘감량화Reduce’': 1, '120세': 1, '원준은': 3, '가로막은': 1, '만나면': 1, '어려워”': 1, '높': 1, '생필품': 1, '사범': 1, '컸다': 2, '주가가': 1, '최저임금도': 1, '버리세요”': 1, '데이트저스트': 1, '극복을': 1, '‘와’': 1, '한샘': 2, '“수익률': 1, '사업도': 2, '코딩': 1, '해봐야': 1, '수도권의': 1, '쉽게': 2, '금융권에': 1, '어떤': 4, '전철': 1, '걸까요': 1, '논밭을': 1, '3000만': 1, '일시': 1, '검색어': 2, '공탁했었다': 1, '황유현': 1, '180도': 1, '의뢰의': 1, '‘가양9단지’': 1, '투자는': 1, '홍준표': 1, 'jobsN': 1, 'Pay': 1, '영영사전': 1, '찾아봄이': 1, '완판': 1, '세상이다': 1, '임대시장을': 1, '1주일': 15, '타임스퀘어': 2, '사모펀드에': 1, '미래에': 1, '그런데': 2, '경제M': 59, '수입': 1, '어려운': 1, '상승은': 1, '글에서': 1, '파혼한': 1, '반려견': 1, '유동규': 1, '영향': 2, '개념': 1, '생활숙박시설이': 2, '분양시장은': 1, '대표님께서는': 1, '추석': 1, '‘동해': 1, '130°': 1, '삼성물산과': 1, '인정하기': 1, '조정장': 1, '이끌어가고': 1, '도달': 2, '1분기': 1, '서울경제신문': 1, '울상인': 1, '리뷰’의': 1, '8월': 1, '취소': 4, '내주': 2, '매수세가': 2, '‘로블록스’라는': 1, '화두로': 1, '주택담보대출보다': 1, '어제는': 1, '누가': 1, '부동산ㆍ금융': 1, '전형진': 3, 'ESG환경·사회·지배구조': 1, '누르면': 3, '향한': 1, '여긴다면': 1, '레이어': 2, '하길래': 1, '못': 2, '흥미롭다': 1, '4일': 11, '빠르게': 1, '지난해': 2, '코딩할': 1, '피해자': 1, '만석꾼은': 2, '끊어내라': 1, '일대가': 1, '불장이': 1, '운동’이다': 1, '이미지': 1, '높은': 2, '피상속인': 1, '경영난으로': 1, '인베이드투자자문': 1, '주인공은': 1, '아파트의': 2, '번아웃': 1, '찾는다': 1, '들어': 1, '‘빅': 1, '세무사입니다': 1, '해지': 24, '습관들이': 1, '돌아온': 1, '꺼져': 1, '故변희수': 1, '대형': 2, 'e편한세상’': 1, '출동했다': 1, '언론사를': 1, '아파트다': 2, '소개해드렸듯': 1, '넘는': 2, '대장주': 1, '나도': 1, '노후': 3, '예정': 1, '정부의': 2, '고인이': 1, '“대한민국은': 1, '옮겨가는': 1, '폭발해야': 1, '외지인': 1, '프로그램': 1, '전부터': 1, '공탁': 1, '번째': 1, 'with': 2, '상승률·매수심리': 1, '71명도': 1, 'GS건설이': 1, '화천대유가': 1, '편집한': 1, '5억2408만원으로': 2, '생생TV': 1, '재생': 18, '홍라희': 1, '부동산과': 1, '금융재산상속공제라는': 1, 'ETF': 1, '아시아경제': 2, '과정': 1, '자동완성': 6, '키우는': 1, '전망을': 2, '이와': 1, '높이': 1, '대장주와': 1, '순위': 1, '근원적으로': 1, '있을까그렇지': 1, '사례를': 1, '이사장은': 1, '‘세': 1, '따라서': 1, '기업의': 1, '정책실장이': 1, '영화': 3, 'Username': 1, '여겨졌던': 2, '네이버뉴스': 1, '탄생과': 1, '플랫폼을': 1, '꿈꾸며': 1, '원준이': 1, '‘로블록스’얘기를': 1, 'PG': 1, '부자가': 2, '소장': 2, '30세': 1, '높고': 1, '1구역': 1, '받았다': 1, '풍차도': 1, '또한': 2, '일의': 1, '정치적': 1, '무관심했': 1, '시중은행': 1, '원룸서': 1, '마을자치연금「국민연금공단이': 1, '제11일진호': 1, '여러분의': 1, '통계에': 2, '아파트이기도': 1, '전용면적': 1, '불장은': 1, '이용약관': 1, '엔터': 1, '추구하는': 1, '팽창해': 1, '자세히': 2, '띠게': 1, '서울을': 1, '대표이사와': 1, '돌려줄': 1, '화천대유': 1, '리움': 1, 'httpsbitly3hDvjjw': 1, '풀어낼': 1, '전역취소': 1, '레시피': 1, '2차전지': 7, '기준': 5, '노트': 1, '시간': 2, '보이고': 1, '사회적': 1, '영동': 1, '하지': 2, '도전하는': 2, '됩니다오늘': 1, '쇼핑LIVE': 1, '쇼핑': 2, '용도변경으로': 2, '돌려받습니다': 1, '시장의': 2, '공사': 5, '사업입니다': 1, '8가지': 2, 'Partners': 1, '부자인': 1, '생수병에서': 1, '돌아오지': 1, '40억': 1, '많았죠': 1, '지겹게': 1, '투자했는데': 1, '구독해지': 4, '스포츠연예': 1, '벌여': 1, '코스닥': 3, '투자할때도': 1, 'in': 2, '이끌었다': 1, '전': 83, '연계': 1, '현재의': 1, '세탁': 1, '서울시': 1, '소개된': 1, '상반되게': 1, '동해시에': 2, '뉴스': 2, '안전자산이라고': 1, '이사장이': 1, '빠른': 2, '풀케어': 1, '참여하는': 1, '준비한': 1, '프': 1, '서구': 1, '머무는': 1, '엇갈려대구': 2, '분양한다': 1, '대표님이': 1, '6개월': 1, '줄여야': 1, '저금리': 1, '왜': 6, '목소리가': 1, '뛰어드는': 1, '다양해지고': 1, '만에': 2, '말고': 1, '내려': 1, '겸임교수가': 1, '들어와': 1, '만드는': 1, '인한': 1, '단계에': 2, '이유는': 2, '폐자원을': 1, '25일': 1, '불리며': 1, '등의': 2, '책방구': 1, '12만3500원에': 1, '단지': 1, '당신을': 1, '곳곳을': 1, '나타나기': 1, '이러한': 2, '저': 2, '상속세를': 1, '사과': 2, '월간KB주택시장동향': 2, '홈트': 1, '카테고리': 1, '연예': 1, '사정으로': 4, '글': 4, '부단한': 1, '지급하는': 1, '최적대안': 1, '모두': 3, '금액에': 1, '자기': 2, '될': 8, '자재들이었다': 1, '상승할': 1, '매부리TV': 1, '생각해도': 1, '아모레퍼시픽이': 2, '5대': 1, '사태가': 1, '2년': 1, '815머니톡': 4, '있는': 11, '얻은': 1, '부동산스터디': 1, '웃도는': 2, '각광을': 1, '잡기’': 1, '카페글': 1, '구독한': 4, '‘자존감이': 1, '가구': 1, '소득': 1, '제거해야': 1, '오십부터는': 2, '훗날': 1, '1개월': 3, '수중': 1, '치대생이': 1, '가격이': 7, '주영': 1, '핵심으로': 2, '금리가': 2, '끄기': 2, '유산에': 1, '가상화폐': 1, '한반도': 1, '정말': 1, '특히': 1, '생길까요': 1, '보증금에': 1, '저평가': 1, '데다': 1, '고전적인': 1, '분양시장에서': 1, '40만원대': 1, '김사부': 1, '주제별로': 1, '재개발': 1, '신혼희망타운에서는': 1, '다양한': 1, '영업': 1, '실행은': 1, '중국': 3, '021': 2, '보는가': 1, '아임해피': 1, '부자재테크변액보험펀드': 1, '화신그룹을': 1, '저축으로': 1, '누군가로부터': 1, '지분을': 1, '있는데': 1, '것quot': 2, '있어도': 1, '11월': 1, '①': 1, '생각하는': 1, '차감하여': 1, '지역업체': 1, '최종점검': 1, '밥벌이언': 1, '당첨돼': 1, '공동체가': 1, '뚫을': 2, '공사차량': 1, '북극성주': 1, '현대·GS·대우': 1, '매매시장': 2, '판결': 1, '르포': 1, '테니까': 1, '방식이다': 1, '그': 7, '되었습니다': 2, '장': 1, '오래되면': 1, '장현주': 2, '흐름이다': 1, '장을': 2, '학교에': 1, '한경': 2, '상승세다': 1, '사회적가치를': 1, '있다': 18, '떠올랐습니다': 1, '건설사로': 1, '엠빅뉴스에': 1, '전세': 5, '타인': 1, 'USD': 1, '지도': 1, '대박을': 1, '로그인': 2, '가능하단': 2, '결정하면서': 1, '김미경TV': 1, '두': 3, '때': 1, '사람이': 1, '발견하게': 1, '강남권을': 1, '통화자': 1, '리빙': 1, '야심차게': 1, '13': 1, '좁은데': 1, '살겠는가': 1, '참여했다사진': 1, '어김없이': 1, '관심사를': 1, '보시죠부동산': 1, '가계약금이': 1, '하티스트': 1, '금리를': 2, '정비소에': 1, '어찌될까': 1, '가져왔는데요': 1, '상속세': 3, '이상의': 1, '통장은': 1, '하다': 1, '아이디어가': 2, '시기에': 1, '2140': 1, '사이에서': 1, '가산화폐': 1, '로마行…교황과': 1, '인테리어와': 1, '강창희': 1, '기자회견': 1, '부족한': 1, '상승률을': 1, '신고가': 1, '외면받고': 1, '문대통령': 1, '12': 1, '미분양의': 2, '비호': 1, '발상의': 1, '하나도': 1, '붕괴': 1, '공급됐지만': 1, '115': 1, '함께N': 1, '영자지': 1, '신길우성1차': 2, '석이': 1, '해도': 2, '얼마나': 1, '2위': 1, '요리': 1, '초읽기': 1, '않는': 2, '속속': 2, '나타나고': 1, '거주하는': 1, '카페에': 1, '할애하는': 1, '아무리': 1, '스스로와': 1, '9만원': 1, '걱정': 3, '생긴': 1, '더해지며': 1, '뜨고': 1, '초부터': 1, '34평전용': 1, '허란의': 2, '무서운': 1, '결혼했고': 1, '한하여': 1, '쇼핑캐스트': 1, '전체언론사': 1, '9급': 1, '무리들과': 1, '곳이기도': 1, '세': 2, '‘코딩': 1, '지속': 1, '그의': 2, '곳곳에': 1, '집': 3, '직접': 2, '것이': 1, '4채가': 1, '오래': 1, '티스토리': 1, '타봤다고요한': 1, '러시아': 1, '삼성엔지니어링': 1, '호텔신라': 1, '이딴': 1, '수준': 1, '대학을': 1, '불구': 1, '세입자들은': 1, '추가': 3, '워낙': 1, '재테크이거였다': 1, 'Remark주목해야': 2, '8985': 1, '중반으로': 1, '부동산R114': 1, 'ⓒ': 1, '3일': 14, '요즘은': 2, '서포터즈': 1, '말한다': 1, '하이엔드': 1, '들러서': 1, '뜨겁습니다': 1, '사람들의': 1, '사장을': 1, '기록하며': 1, '이것만': 1, '우려에': 1, '감사하고': 1, '대출': 1, '1주택': 2, '확인하세요': 2, '무한책임주의’를': 1, 'SME': 1, '바쁜데': 1, '정반대의': 1, '내년': 1, '경계해야': 1, 'RealCast': 2, '보이는': 2, '자동차': 2, '3명↑': 1, '오늘': 1, '치과': 2, 'httpsbitly3hFFtAu직방TV': 1, '마련할': 1, '오르며': 2, '고': 4, '보면': 1, '예비': 1, '접근이': 4, '증여받은': 1, '청약한': 1, '투자노하우': 1, '수납공간': 1, '내려고': 1, '존재다': 1, '현재': 5, '불과': 1, '“직장인들': 1, '청약': 2, '공급에만': 1, '이들을': 1, '투자자들이': 1, '이제는': 2, '궁금한': 1, '꿈꾸는': 2, '연초': 1, '제네시스박': 2, '석': 1, '36조원에서': 1, '먼지와': 1, '것이라는': 1, '살펴보겠습니다': 1, '역시': 2, '원의': 1, '시행착오가': 1, '업체의': 1, '확인': 8, '조선총독부': 1, '22년': 1, '논의': 1, '뻗는': 1, '정부·금융권의': 1, '돈이라도': 1, '6월': 1, '20년': 1, '월세를': 1, 'SM6': 1, '남편': 1, '연': 1, '컨텍스트': 4, '주식시장한상완': 1, '경우에': 2, '꼭': 3, '위축되면서': 2, '김성현': 1, '좀처럼': 1, '끊임없는': 1, '직업': 1, '폐기물의': 1, '해서': 1, '도움말': 5, '글로벌마켓': 2, '현장과': 1, '매': 1, '그러나': 2, '“마을자치연금': 1, '새로운': 3, '25평형': 1, '세종': 1, '있다20일': 1, '아파트값이': 1, '터': 1, '일이': 1, '사실': 1, '건강': 2, '매매가격': 2, '3000선': 1, '전체보기': 2, '투자라를': 1, '현금청산': 4, '만족도가': 1, '2차전지·탄소배출권주': 1, '시간을': 1, '‘컴공선배’다': 1, '사야할때는': 1, '불타고': 1, '최대': 3, '좁을지': 1, '셈입니다': 1, '몹시': 1, '공유하는': 1, '투벤저스': 1, 'quot2016년': 1, '규모이자': 1, '매거진전문지': 1, '이재용': 1, '이유도': 1, '소송전': 1, '인베이드': 1, '준비하기로': 1, '흥행에': 1, '성남': 1, '재테크들이': 1, '시가총액은': 2, '주식': 3, '대목과': 1, '뉴스타터': 1, 'A조합': 1, '사람이라는': 1, '단기간': 1, '국산화': 1, '이서현': 2, '수': 15, '확대': 2, '당신의': 1, '미치게': 1, '제네시스33': 1, '뚝섬역': 1, '많은': 9, '시장무주택': 1, '박흥식': 1, '증액으로': 1, '뽀뽀리리라는': 1, '쪼개': 1, '받습니다ㅣ절세의': 1, '오세': 1, '거래일보다': 1, '폭락': 1, '어느': 2, '20일': 1, '매물을': 1, '을지로1가': 2, '부자였습니다': 1, '시장에서': 1, '오늘은': 2, '사회': 1, '금융재산': 1, '참': 1, '기업들도': 1, '상속재산가액에서': 1, '상승': 1, '100': 1, 'GS건설…벌써부터': 1, '증권가에서': 1, '정신건강의학과': 1, '자동차가': 1, '특히나': 1, '우리': 2, '사태는': 1, '제도를': 1, '수혜를': 1, '유로스톡스50': 1, '4년전': 1, '건질': 1, '쳇바퀴에서': 1, '순간을': 1, '이야기입니다': 2, '내': 5, '정보를': 1, '을': 2, '계약을': 1, '남성들에게는': 1, '낮아': 1, '‘빚투’': 1, '추가되었습니다': 2, 'MKTV': 1, '급등원준': 1, '배운': 1, '고급': 2, '수천': 1, '250': 1, '천장': 1, '강서구': 2, '맞고': 1, '팁': 1, '해야하는': 1, '전력적': 1, '부동산시장에': 2, '닫기': 9, '포기하고': 2, '구독해주세요': 1, '구할': 1, '롯데': 1, '줄이자는': 1, '큰': 4, '책': 2, '5구역': 1, '회사의': 2, '화신그룹': 2, '하지만': 3, '노량진뉴타운': 1, '투자하던': 1, '급격히': 2, '끝': 1, '재계약할': 1, '30': 2, '강': 1, '시세지수는': 1, 'JOBamp': 1, '입금되면': 1, '메뉴설정': 1, '미치는': 1, '두식의': 1, '전셋집': 1, '해당': 4, '알면': 1, '창구사진x3D뉴스1': 1, '임대료는': 1, '찢어질': 1, '겸': 1, '4종은': 1, '발사': 1, '부모i': 1, '스토리': 1, '내가': 1, '기회': 1, '따른': 3, '유튜브': 4, '레이달리오': 5, '6000만원': 1, '이데일리': 1, '따져보라': 1, '고려대학교': 1, '비호가': 1, '줄어들어': 2, '쏟아낼': 1, '2일': 20, '젊은': 1, '연장': 2, '출신인': 1, '확실한': 1, '혼자': 1, '강남': 2, '살아야': 2, '가족이': 1, '붙잡혔다': 1, '실현합니다': 1, '인물': 1, '신고가만': 1, '온': 1, '민간임대': 2, '앞서': 1, '제한됩니다': 4, '법원에': 1, '타': 1, '저장': 2, '투자자들도': 1, '번다는': 1, '구심점을': 1, '속': 1, '총': 1, '자이TV가': 1, '살게': 2, '6시까지': 1, '자기계발과': 1, '인기가': 1, '연애·결혼': 1, '집을': 3, '6년': 1, '호재에': 1, '‘입지왕’': 1, '1만': 1, '컴공선배는': 1, '따라': 4, '몰락비즈한국': 1, '공무원시험에': 1, '내놓은': 1, 'K': 1, '힘들': 2, '‘재': 1, '보았다': 1, '엄청난': 1, '이전': 7, '아파트값': 1, '회사': 2, '골목길을': 1, '젊은이가': 1, '경험해보기': 1, '2년마다': 1, '이후에도': 1, '매물': 2, '신': 3, '현대건설': 1, 'e대한경제': 2, '부': 1, '개발자': 2, '시작하면서': 1, '때문이다': 1, '전체삭제': 1, '국어사전': 1, '0％대의': 1, '이에': 1, '있을까': 1, '싸보이기만': 1, '‘돈’은': 1, '모르면': 2, '다니며': 1, '통해': 3, '동영상': 4, '사태': 2, '이어': 2, '하며': 1, '자녀를': 1, '초초초역세권': 1, '코멘트에': 1, '독극물': 1, '올랐다': 1, '매일같이': 2, '넘어가면': 1, '142': 1, '님의': 1, '15일예상': 1, '14': 1, '공인인증서와': 1, '시승기36': 1, '10': 1, '선진국': 1, '오피스텔': 5, '돌파': 1, '들으니': 1, '커진다': 1, '공포가': 1, '해': 1, '가격도': 1, '최초로': 2, '스마트북스': 1, '고故': 1, '이베이': 1, '용산은': 1, '곳곳의': 1, '이어지는': 3, '샤크입니다우리': 1, '핵심을': 2, '고평가를': 1, '시장': 4, '국세청은': 1, '여러분에게': 1, '하는데요': 2, '채널': 2, '오세훈표': 1, '유지하고': 2, '더스쿠프': 1, '지향해라': 1, '결과': 2, '실패': 1, '롯데가': 1, '삶도': 1, '만들어집니다': 1, '25배': 1, '얼마': 1, '아버지가': 1, '5만': 1, '중위가격': 2, '400만원': 1, '솔루션을': 1, '인식과': 1, '교육': 1, '끝까지': 1, '다신': 1, '급등에': 1, '없어': 1, '광고': 1, '‘무기력’에': 1, '임창정': 1, '62': 1, '연구': 1, '미국의': 1, '엄두내기': 1, '발표한': 4, '모습으로': 1, '활동을': 1, '표현': 1, '차이': 1, '비트코인보다': 1, '등을': 1, '안': 2, '캐스퍼보다': 1, '리브부동산': 1, '맞춰': 1, '8개도': 1, '다크': 1, 'OO억': 1, '강서구의': 1, '7': 3, '다짐해봅니다하지만': 1, '분석': 1, '상승세가': 1, '책방': 1, '소개해드립니다부티비': 1, '번지면서': 2, '등록': 2, '양적': 1, '필요합니다': 1, '4억원이': 1, '골목골목으로': 1, '주식팔고': 1, '나선': 2, '개인': 1, '떨어지는': 1, '맡겼다': 1, '안전진단': 2, '우연에서': 1, '10배를': 1, '방법들과': 1, '설정이': 2, '땐': 1, '함께': 3, '하라고': 1, '반도체회사': 1, '극복하기': 1, '상승장': 1, '긍정부정검색': 1, '9월': 6, '여세': 1, '국민연금공단': 1, '발판으로': 1, '전환이나': 1, '됩니다도대체': 1, '2000년대': 1, '뒤': 3, '지연가능성': 1, '집코노미TV': 1, '문재인': 1, '辛이시여': 1, '닉네임을': 1, '금융재산상속공제는': 1, '자신을': 1, '나이는': 1, '고객센터': 1, '전기차': 1, '비즈니스': 2, '공지사항': 1, '규제에': 2, '무언가를': 2, '행진을': 1, '설립': 1, '뒤에는': 2, '리모델링': 1, '원료': 1, '그가': 2, 'message': 1, 'GS건설': 1, '2개': 1, '풀어낸다': 1, '혈액서': 1, '한창수': 1, '어제': 2, '다음은': 1, '팀장': 1, '‘태평양': 1, '내건': 1, '심심찮게': 1, '부자의': 1, '신용대출이': 1, '소재주의': 1, '전문가들': 2, '아파': 1, '160kg이고': 1, '계속되는': 1, '충북': 1, '장인도': 1, '쌓는': 1, '신길뉴타운이': 4, '하늘길이': 1, '건설사': 1, '인플리에션': 1, '넘으면': 1, '10호': 1, '분이': 1, '대개혁이라': 2, '14번째': 1, '이부진': 1, '돌려받아': 1, '상황을': 1, '전망은': 1, '상황': 1, '깊은': 1, '것이다재테크': 1, '아파트들이': 1, 'NAVER': 4, '재생시간': 18, '했다': 2, '변하지': 1, '지': 4, '상속공제란': 1, '시장에': 4, '영어사전': 1, '위': 1, '살펴봤습니다Remark': 2, '사람만이': 1, '않으려면': 1, '글로벌': 1, '일입니다': 1, '에스테이트': 2, '포기': 1, '팔렸다': 2, 'people': 1, '일부': 2, '지급기한': 1, '과연': 4, '주택담보대출': 2, '받는다이상우': 1, '제2막': 2, '부류의': 1, '시작': 1, '지하철역': 1, '기조': 1, '이어질까': 2, '마감했다': 1, '순간': 1, '인천': 2, '버튼을': 3, '아이패밀리에스씨': 1, '가득했던': 1, '고작': 1, '보이지만': 1, '전매': 1, '가진': 3, '관심있는': 1, '탐정': 1, '쫓아갈': 1, '한국경제': 3, '문제를': 3, '동향에': 1, '신한금융투자': 1, '2주일': 2, '하시겠습니까': 4, '건축': 2, '모시고': 1, '쌀': 2, '부동산은': 1, '외면': 1, '4억': 1, '129화': 1, '썸네일형': 1, 'x3D': 1, '정도': 1, '다짐': 1, '19일': 1, '당했다…지역주택조합': 1, '특징주': 1, '연락이': 1, 'httpblognavercomgenesis421': 1, '변화하는': 1, '낭비하지': 1, '12억9500만원에': 1, '4172': 1, '병과': 1, '주가': 5, '7호선은': 1, '화제를': 2, '것은': 3, '지역의': 1, '돈으로': 2, '지났는데': 1, '둘째주11일': 1, 'TOP': 1, '세법상': 1, '주목받는': 1, '전무': 1, 'D2': 1, '전세난이': 1, '10개': 1, '삶을': 2, '조경의': 1, '앞으로': 1, '드문': 1, '높아지고': 1, '포기했는데…흥행': 1, '인수를': 1, '용도변경이': 2, '마음의': 1, '사업': 1, '전세살이도': 1, '관심과': 1, '발표했다': 1, '씨는': 3, '경영의': 1, '제외한': 1, '읽을만한': 1, '“조합': 1, '중': 6, '연봉을': 1, '네이버': 8, '행진이': 1, '게임을': 1, '확인해주세요': 2, '월급쟁이': 1, '맑음': 1, '여행': 1, '훔쳐보기’를': 1, '실적을': 1, '끝없이': 1, '호황인데…‘신혼희망타운에’에': 1, '나가는': 1, '교수는': 2, '육박해': 1, '자유롭게': 1, '떠나': 1, '시세': 1, '사람이다': 1, '모습을': 1, '바로': 4, '침몰로': 1, '빌라': 1, '급등한': 1, '디자이너로': 1, '사기': 1, '인사이트': 1, '나오기': 1, '기관': 2, '지속성': 1, '현재는': 1, '공통점': 1, '건설사들이': 1, '8억2900만원이었는데': 1, '외출하지': 1, '펀드도': 1, '힘으로': 1, '뇌관으로': 1, '주식을': 1, '상인의': 1, '소개했는데': 1, '아깝다는': 1, '6': 2, '대표의': 2, '향후': 1, '권예슬가명·28': 1, '장인': 1, '인재채용': 1, 'Space': 1, '그것도': 1, '노선이다인천': 1, '초기화': 3, '선보인': 1, '한국부동산원': 1, '제보가': 1, '않은': 2, '7일': 1, '못하는': 3, '원이': 1, '인수마저': 1, '가양동': 1, '2명을': 1, '열정을': 2, '임대수익률은': 1, '10대들': 1, '자이': 1, '진실’': 1, '주거복지': 1, '험': 1, '징조를': 1, '입금되었네요': 1, '지분': 1, '증': 1, '사람들도': 1, '도전': 1, '아파트': 18, '주': 1, '쓰는': 1, '증시': 4, '종료…해상서': 1, '초봉': 2, '보시는': 1, '직업·나이·소득': 1, '2조원대': 1, '잠시': 2, '이코노믹리뷰x3D금교영': 1, '의뢰공간': 1, '증권': 1, '에코프로비엠의': 1, '비호감도': 1, '남편이자': 1, '변곡점인가': 2, '미국': 1, '비율': 1, '국민연금공단이': 1, '생산': 2, '하이브리드': 1, '전체': 1, '이어질': 1, 'x27만석꾼x27인데요': 1, '좀더': 1, '눈은': 1, '모음': 1, '설정은': 1, '좋다고': 1, '절세': 1, '대해서': 1, '증여세': 1, '한상완': 1, '않는다': 1, '다짐합니다': 1, '생각하신다면': 1, '롯데쇼핑이': 2, '에코프로비엠': 1, '방송통신': 1, '지역에': 1, '오름세': 1, '의정부': 1, '주목받으면서': 2, '배우': 2, '가난': 1, '질레트': 1, '스포츠': 2, '국민연금공단은': 1, '머니S': 1, '만큼': 1, '해고': 1, '신길동': 4, '들며quot미분양': 2, '물론': 2, '현': 1, '화곡동': 1, '공실이던': 1, '관련으로': 1, '비트코인으로': 1, '비슷하다': 1, '‘신혼희망타운’이': 1, '사람': 1, '약관': 1, '60': 1, '그런': 1, '1550799': 1, '담보로': 1, '진단과': 1, '분리수거한': 1, '현실': 1, '오픈': 1, '대구경찰청은': 1, '저장됩니다': 1, '실수요자': 1, '갑부로': 1, '나이': 1, '등로': 1, '등이': 1, '호재로': 1, '나': 2, 'TV': 1, '모습이다': 1, '난개발로': 1, '분야별로': 1, '시작됩니다': 1, '하시나요': 1, '이슈와': 1, '하나씩': 2, '않다': 1, '이건희': 1, '하죠': 1, '빠지는': 2, '네이버를': 1, '커뮤니티': 1, '불어났다': 1, 'Forgot': 1, '약': 3, '시작되지만': 1, '사람에게': 1, '명의로': 2, '선생님이': 1, '일정금액이란': 1, '대장동': 1, '젊어졌다': 1, '신부와': 1, '하나가': 1, '시대에는': 1, '9월에는': 1, '알아야': 1, '연구해온': 1, '일부라도': 1, '그게': 1, '개인정보처리방침': 1, '있도록': 1, '턱수염을': 1, 'up': 1, '보인': 1, '어떻게': 3, '된다면': 2, '공연전시': 1, '당첨된': 1, '우려하는': 1, '가지’': 1, '포스코케미칼': 1, '거래로': 1, '쌀은': 1, '기사보기': 24, '통장': 1, '당할': 1, '없이': 2, '줄이게': 1, '코로나바이러스감염증19': 1, '위한': 4, '삼성가': 1, '나날이': 1, '메타버스': 1, '관련주': 2, '가파른': 1, '새': 4, '오픈소스': 1, '있다면': 1, '기업공개': 1, '동물공감': 1, '상승한': 1, '“뭉쳐야': 1, '나오려면': 1, '사업을': 1, '트리거가': 2, '보아': 1, '있어': 2, '물량': 1, 'LG화학': 1, '‘브랜드타운’은': 1, 'Corp': 1, '정확한': 1, '실패했다': 1, '대단지로서': 1, '1세대': 2, '소재株': 1, '경찰에': 1, '운영한': 1, '통합검색': 1, '정밀안전진단을': 2, '부동산에서': 1, '넘었다전국': 2, '5회차': 1, '多': 1, '갈수록': 2, '이야기': 1, '회사소개': 1, '홈에서': 1, '갱신비즈한국': 1, '중국의': 1, '들썩이고': 1, '법률': 1, '방법들도': 1, '3년': 1, '현장으로': 2, '할가quot라는': 1, '구독': 27, 'SDS': 1, '투자자로': 2, '유한하고': 1, '↑': 1, '月30에': 1, '규제': 2, '20만원대': 1, '바라보는': 1, '4주일': 1, '입력기': 1, '설정': 2, '돼있다는': 1, '하다quot는': 1, '경제': 2, '극소수': 1, '9위': 1, '나눠볼게요Q': 1, '정부': 1, '살자는': 1, '치닫고': 1, '상승세': 4, '위치한': 1, '마련했다가': 1, '우리나라': 1, '스치는': 1, '자이TV와': 1, 'G20': 1, '등장하고': 2, '전문자료': 1, '당해서': 1, '믿는': 1, '들어보셨을텐데요': 1, '날마다': 1, '복구·분석': 1, '60°': 1, '가구소득': 1, '‘재사용Reuse’': 1, '시작했으나': 1, '연금을': 1, '연일': 3, '언론사가': 2, '조금': 1, '해피빈': 1, '박세익': 1, '30m': 1, 'currency': 1, '부자': 1, '실랑이를': 1, '상상도': 2, '수단': 1, 'KT': 2, '수요자': 1, '충청북도의': 1, '파산': 1, '블로그에도': 1, 'VIBE': 1, '창업을': 1, '지역주택조합지주택': 1, '흥망': 1, '정리해': 1, '돈': 1, '심화하면서': 1, '앞다퉈': 1, '‘개발자': 1, '사람으로부터': 1, '3000만원': 1, '공무원시험을': 1, '종합경제': 1, '경기': 2, 'KB국민은행': 1, '추억에': 2, '전세로': 1, '접근할': 1, '소음에': 1, '뉴타운': 2, 'KB': 2, '“무조건': 1, '포대의': 1, '당첨번호': 1, '달성했죠”': 1, '아이디어로': 1, '마음이': 2, '이렇게': 1, '매일경제': 1, 'Your': 1, '시가': 1, '잇따른': 1, '투명성': 1, '나온': 1, '위해': 3, '◇전세도': 1, '과천자이는': 1, '2의': 1, '왔습니다': 1, '소중하니까': 1, '트렌드DA': 1, '뿐이다': 1, '머니투데이': 2, '설비': 1, '개발자를': 2, '공탁했다': 1, '적은': 1, '김수현이': 1, '현대중공업': 1, '화장품': 1, '못할': 2, '꾸준히': 1, '나이에는': 1, '‘지옥철’에': 1, '상속재산': 1, '반전세': 1, '인근': 6, '금융당국이': 2, '사업”이데일리': 1, '받은': 2, '해야': 1, '상장한': 1, '대규모': 1, '모드를': 1, '삼성전자': 4, '그래픽': 1, '예로': 2, '부자되려면': 1, '지주택': 1, '채시라': 1, '대통령비서실': 1, '나머지': 1, '가치있게': 1, 'x27이것x27으로': 1, '부동산': 27, '‘창업': 1, '부를': 2, '강원': 1, '유지': 1, '살려': 1, '마음을': 1, '있었': 1, '상황으로': 1, '단순히': 2, '시절': 1, '은행': 1, '반응': 1, '확산된다는데': 1, '단지로도': 1, '크리에이터': 1, '시설': 1, '혐의로': 1, '화곡': 1, '캐스트': 1, '것': 1, '뉴스스탠드': 3, '47번': 1, '정책이': 1, '매물이': 1, '늘어나고': 1, '흐름': 1, '중심으로': 3, '지나간': 1, '회의적': 1, '넘긴': 1, '꽤': 1, '카카오페이': 1, '자동저장': 1, '로또도': 1, '메트로신문': 1, '리얼투데이': 1, '공황장애': 1, '대폭등이라': 2, '매매가와': 1, '재테크에': 1, 'GS건설은': 1, '시스템': 1, '보실': 1, '역대': 2, '바로가기': 7, '스토어': 1, '프로그래밍': 1, '완성': 2, '공급': 2, '이상이': 1, '이라고': 1, '김태욱': 2, '시대': 1, '거에요': 1, 'GDP': 1, '지난날': 1, '거품이': 1, '집중되는': 1, '주거시설로': 2, '변화할': 1, '다운받기': 1, '관심': 2, '서울지하철': 1, 'Developers': 1, '생활숙박시설…': 2, '일하지만': 1, '필수': 1, '게임에': 1, '데': 1, '샀는데': 1, '포기하는': 1, '이전까지': 1, '뭘까': 1, '재생됩니다': 3, '엑스퍼트': 1, '이후': 4, '현대차': 1, 'quot2391만원PY이라는': 1, '전망': 1, '몰락…영욕의': 1, '있다는': 1, '많아위험한': 1, '올라요”': 1, '성장했지': 1, '처한': 1, '원래의': 1, '대기업인': 1, '부자는': 1, '집중하는': 1, '스타': 1, '다시': 1, '누구보다': 1, '재수생인': 1, '456명': 1, '고통받는': 1, '취득했다고': 1, '인수하겠다고': 1, '이제': 3, '랩스': 1, '은퇴이후의': 1, '9억2400만원에': 1, '개정': 2, '화신백화점을': 1, '나서고': 2, '롯데온이': 1, '초미세': 1, '정부가': 3, '내지': 1, '20대': 2, '국내': 4, '브랜드': 3, '직장인이': 1, '주택을': 1, '발생을': 1, '구입자금을': 1, '간': 2, '관계자는': 1, '켜세요': 1, '8500만원': 1, '작업에': 1, '정보': 2, '프레스맨': 1, '들썩': 1, '10월': 3, '다른': 1, '1769': 1, '기능이': 1, '뛰었다': 1, '확인하는': 1, '휴대폰': 1, '받습니다': 1, '회수하자는': 1, '전공을': 1, '대전': 1, '제2금융권에서': 1, '7호선': 2, '누리고': 1, '누리호': 1, '패션뷰티': 1, '있지': 1, '창업주는': 1, '내역이': 1, '마을': 1, '치우친': 1, '배치하는': 1, '상대로': 1, '벼를': 1, '엊그제': 1, '거래소들이': 1, '한국거래소에': 1, '관심사에': 1, '주말에': 1, '좋음': 2, '않나': 1, '사용': 1, '택지·도시개발이': 1, '시총': 1, '돌리고': 1, '카페': 2, '9만4800원으로': 1, '즉': 2, '613㎞를': 1, '최초': 1, '5’': 1, '전략적': 1, '강남에서': 1, '올초': 1, '2017년': 1, '신입사원': 1, '투자해요': 1, '뜬다”': 1, '동아비즈니스리뷰': 1, '취업했다': 1, '오후': 1, '인생은': 1, '않아quot': 1, '웃돈': 1, '분이라면': 1, '있습니다': 9, '모드로': 1, '사용자': 1, '재건축': 10, '일반인': 1, '무섭게': 1, '한': 15, '89': 1, '높아지면서': 1, '테크': 1, '제품': 1, '작은': 1, '1993년': 1, '부자되는': 4, '임창정씨의': 1, '견해차이를': 1, '바닥': 1, '무기력증': 1, '묘책을': 1, '했나기블리': 1, '약해': 1, '거래됐던': 1, '펀드': 1, '일정금액을': 1, '모으고': 2, '그렇게': 1, '세법에서는': 1, '·': 1, '말마따나': 1, '058': 1, '듯한': 1, '폭락의': 1, '원': 2, '여러': 1, '확진…어제보다': 1, '공동으로': 1, '서구와': 1, '64조원으로': 1, '시장을': 1, '통일성': 1, '시작일': 1, '채시라의': 1, '재개발과': 1, '황현규': 1, '‘키덜트’들이': 1, '싶었는데': 1, '후반': 2, '제휴제안': 1, '소비재': 1, '달': 3, '관심주제': 1, '8000만': 1, '권': 1, '이루니': 1, '놓고': 2, '건': 2, '차게': 1, 'txt': 6, '예비신부': 1, '전세가': 2, '부릿지TALK': 1, '육박가을': 1, '사진들이랄까': 1, '불구속': 1, '전망들이': 1, '반등한': 1, '분류된': 1, '그렇고': 1, '유일하게': 1, '착공': 1, '카페명': 1, '이들은': 1, '커녕': 1, '인수하는': 1, '직업에': 1, '주목해야': 1, '시선은': 1, '브라우저': 1, '중위가격은': 4, '있다17일': 1, '연관되는': 1, '해당기기브라우저에': 1, '작년에': 1, '내기': 1, '폭발적': 2, '사퇴…퇴임': 1, '막히자': 1, '지역에서도': 2, '매수': 2, '해결': 2, '3주일': 8, '즐기면서': 1, '아쉬운': 1, '다': 1, '점점': 1, '일본어사전': 1, '수요자의': 1, '성향을': 1, '날짜': 1, '리브부동산이': 2, '회계': 1, '승인…국민께': 1, '과천자이의': 1, '적용합니다': 1, '관심이': 5, '조선': 1, '명의의': 1, '투자했던': 1, '주는': 1, '변화': 1, '집값은': 1, '연봉이': 1, '게임인데다': 1, '주차장을': 1, '실직': 1, '이': 9, '부회장': 1, '13억8000만원에': 1, '입주하게': 1, '여기서': 2, '트를': 1, '싣기': 1, '공원형': 1, '알면서도': 2, '2위에': 1, '될까요': 2, 'date': 2, '찾아내는': 1, '전지선': 1, '심을': 1, '과세대상을': 1, '삼성복지재단': 1, '분양에': 1, '집값': 7, '말도': 1, '전날19일': 1, 'D2SF': 1, '해방': 1, '우성·건영': 2, '현황': 1, '그랬습니다': 1, '어닝': 1, '않기': 1, '지난': 5, '수익률에': 1, '마련은': 1, '95까지': 1, '조선인이': 1, '있나요’': 1, '주요': 1, '건설사들': 1, '이재명': 2, '절차에': 2, '한다': 3, '재정비촉진지구인': 2, '택하셨나요': 1, '들어서는': 1, '돈을': 2, '돌보아야': 1, '충족시키는': 1, 'Master': 1, '발생하고': 2, '中의': 1, '하필면': 1, '‘자이’': 1, '위하여': 1, '의사': 2, '견본이': 1, '거래량까지': 1, '등에': 2, '보증금이': 1, '당시': 3, '변화하게': 1, '오르는': 1, '리모델링에': 1, '하락': 3, '초기증상': 1, '항소': 1, '수익금으로': 1, '수혜기업인': 1, '책으로': 1, '신규': 2, '충북의': 1, '전문가': 2, '이야기도': 1, '여러분들이': 1, 'quot59도': 1, '비과세': 2, '그러는': 1, '언젠가는': 1, '청라국제도시': 1, '‘오피스텔': 2, '‘2992세대’': 1, '대한': 5, '상인들성수동': 1, '가치를': 1, '“동해·속초': 1, '지난달': 1, '초등학생': 1, '증가는': 1, '자산시장에': 1, '자세히보기': 1, '2099세대가': 1, '사이트': 2, '체슬리자문': 1, '두고': 1, '공모주': 1, '원대면': 1, '‘KB부동산시장': 1, '시공권': 1, '손': 1, '선택한': 1, '경기∙인천': 1, '분양시장을': 1, '부자를': 1, '거주자인': 1, '동향': 2, '별로': 1, '모집해': 1, '재건축·재개발': 1, '3400선을': 1, '있는데요': 1, '전문대에서': 1, '물밑': 1, '톡톡히': 1, '30차례가': 1, '계열사': 1, '인수에': 1, '불장으로': 2, '영등포구': 2, '게임': 2, '센터': 1, '에코프로비엠은': 1, '획득': 1, '부정': 1, '관망세': 2, '40': 1, '주기적으로': 1, '볼': 2, '현지는': 1, '가족과': 1, '주목해보자': 1, '오징어게임': 1, '프록터갬블이': 1, '은퇴를': 1, '실종': 2, '당하지': 1, '못받다': 1, '다니던': 1, '분리': 1, '상승률이': 1, '7번': 1, '제도는': 1, '검출': 1, '가격': 4, '일제강점기': 1, '조정기를': 1, '있고': 1, '통지를': 1, 'Q': 1, '오피스텔로': 2, '꼽히는': 1, '연재합니다': 1, '놀면서': 2, '160°': 1, '개의': 1, '치약': 1, '것이다': 4, '4년': 2, '삼성': 1, '코로나로': 2, '5억원대를': 2, '집값이': 2, '이런': 2, '“제가': 1, '대출을': 1, '영향이': 2, '임원': 1, '전공한': 1, 'API': 1, '경기도지사직': 1, '거쳐가': 1, '발간하는': 1, '변곡점': 2, '입건했다': 1, '전망도quot입주물량': 2, '단지의': 1, '주간동아TV': 2, '신용대출': 2, '이어가고': 1, '부릿지': 2, '청약에서도': 1, '6일': 1, '이슈': 1, '동안': 1, '1년': 2, '월급': 1, '주제별캐스트': 1, '기세입니다': 2, '짧디': 1, '인기': 3, '한자사전': 1, 'whale': 1, '라이트': 1, '프리미엄을': 1, '것이란': 1, '월급에서': 1, '영동에': 1, '대거': 1, '고시’에': 2, '준공이다': 1, 'Password': 1, '모으는': 2, '최근': 16, '땅을': 1, '그리고': 3, '신사업': 1, 'A': 2, '비즈한국': 2, '28일': 1, '22년식': 1, '생각을': 2, '가장': 3, '80': 1, '서남부권의': 2, '코스피도': 1, '토마토TV': 1, '올린': 1, '하나이자': 1, '국민이': 1, '급등…PER': 1, '리스트형': 1, '문제로': 1, '청약통장': 1, '최근검색어': 1, '담보가': 2, '노력과': 1, '원이니': 1, '17제곱': 1, '매물이라도': 1, '환율': 1, '노뉴': 1, '주택': 7, '오른': 2, '소식에': 2, '‘우장산아이파크': 1, '법무부': 1, '된다': 2, '관련': 1, '무슨': 1, '평택': 1, '재테크': 5, '언론사에': 2, '여기는': 1, '핫한': 1, '고준석': 1, '생각될지': 1, '놓았다': 1, '분들에게': 1, '연합뉴스': 1, '쌓아': 1, 'Creators': 1, '항상': 1, '블로그': 3, '짧으며': 1, '상인들': 1, '자못': 1, '415844': 1, '코로나19': 1}\n"
     ]
    }
   ],
   "source": [
    "# 3. 네이버 사이트 필터링 결과 \n",
    "printResultFilter(source_naver)"
   ]
  },
  {
   "cell_type": "code",
   "execution_count": 74,
   "id": "1b33e67b",
   "metadata": {},
   "outputs": [
    {
     "name": "stdout",
     "output_type": "stream",
     "text": [
      "3. 각 단어들의 출현빈도 수\n",
      "\n",
      "{'조': 1, '소개': 1, '무해하게': 1, '맞춤형광고': 1, '회사소개': 1, '주요서비스': 1, '파문으로': 1, '26회': 1, 'AI': 1, '지역': 1, '食': 1, '병풍': 1, '나왔다': 1, '미세먼지': 1, '오랜': 1, '천수만': 2, '대포통장': 1, '하림': 1, '39코로나': 1, '위드': 1, '좁은': 1, '같이가치': 3, '어딨어요＂': 1, '메이커스': 1, '포경수술로': 1, '와서': 1, '설정': 1, '쇼핑생활': 1, 'ISSUE': 1, '말아요': 1, 'by': 4, '9도': 1, '번역': 1, '금': 1, '겨울': 2, '제대로': 1, '1t을': 1, '일상': 1, '맞았다': 1, '없애고': 1, '고발': 1, '키우는': 1, '덜어낸': 1, '유행을': 1, '오징어': 1, '경상북도': 2, '목록': 2, '파이트클럽': 1, '통합': 1, '24개': 1, '따르면': 1, '스타일': 1, '패스는': 1, '직장IN': 1, '인천시': 2, '충청북도': 1, '영화': 2, '분식집': 2, 'TF사진관': 1, '설치': 2, '제주자치도': 1, '방법': 1, 'Love': 1, '운중동': 1, '코로나': 2, '회원가입': 1, '개체': 1, '메일': 2, '15': 4, '한국에서': 1, '떨어지지': 1, '조폭연루설': 1, 'B컷': 1, '소식': 1, '아기고양이': 1, '사전지식': 1, '서비스': 5, '웹': 1, '모던전원주택': 1, '쇼핑하우': 1, '1': 3, '곡': 1, '가는': 1, '사기리': 1, '따릉이': 1, '경기': 1, '시작페이지로': 1, '패스': 1, '경기도': 1, '이용약관': 1, '사전': 1, '태어나는': 2, '검색등록': 1, '활동가인': 1, '떡볶이': 2, '안안': 1, '선반': 2, '이전': 6, '늘어난': 1, '서울신문': 1, 'SNS': 1, '양': 1, 'Kakao': 1, '모잠비크': 2, '펫앤유': 1, 'BARG': 1, '靑': 2, '사회적': 1, '보이스피싱': 1, '도움받을': 1, 'quot보호자세요quot애견카페': 1, 'THOM': 1, '경상남도': 1, '01그루도': 1, '카카오이모티콘샵': 1, '쇼핑': 3, '내부에': 1, '더쿠': 1, '수가': 1, '살포했다': 1, '10도': 2, '16': 1, '날씨': 21, '동영상': 13, '엔터계': 1, '이어': 1, '안내': 2, '및': 1, '광주시': 1, '관계자본': 1, '부동산': 2, '분유': 1, '오리류': 1, '연구원': 1, '내전': 2, '개까지전문가': 1, '끊임없이': 1, '김재영': 1, '랭킹': 1, '사장': 1, '될수도': 1, '부담감': 1, '시작됐다': 2, 'rights': 1, '등은': 1, '개': 2, '카카오계정으로': 1, '서울시': 1, '14': 6, '뉴스': 4, '맛집': 2, '10': 3, '버스정보': 1, '데려가': 1, '품인': 1, '무섭네주사맞고': 1, '고기리': 1, '프로폴리스영양제': 1, 'DIY': 1, '하는': 2, '노출된다': 1, '먼저': 1, '모르지만': 1, '경기지사': 1, '11도': 1, '2': 1, '온라인콘서트': 1, '메르세데스': 1, '정찬욱': 1, '빼돌려': 1, '로버트': 1, '날씨정보': 2, '바로가기': 11, '함께하는': 1, '김재영에': 1, 'gt': 4, 'lt이전': 1, '커뮤니케이션': 1, '덩치': 1, '거리두기': 1, '이유는': 1, '권양숙': 1, '판교': 1, '어학사전': 1, '등의': 1, '광고': 1, '의지': 1, '동물병원장은': 1, '베스트': 1, '뛰며': 1, '사과': 1, '연예': 2, '해운대': 1, '찾은': 1, '영어': 1, '12도': 1, '모두': 1, '논란에': 1, '강력한': 1, '가야': 1, '연구': 2, '반토막상위권': 1, '돈스파이크': 1, '아프다는': 1, 'quot밀렵의': 1, '밀렵이': 2, '각종': 1, '피의자': 1, '아이디로': 1, 'Little': 1, '동생': 1, '논스톱3': 1, '쓰지': 1, '폐가': 1, '동물': 1, '늘어났다는': 1, '°C': 20, '국감': 1, 'KBO리그': 1, '프린스턴대의': 1, '하이큐티': 1, '7': 1, '오발사고': 1, '124만원': 1, '수렁위기의': 1, '다시': 1, '비': 1, '보고에': 1, '거실을': 1, 'Good': 1, '국내산': 1, '철새': 2, 'X': 1, '없었다': 1, '옷걸이': 2, '강원도': 2, '잘': 2, '데려갔는데': 1, '아프리카': 2, 'Cut': 1, 'lsquo사이언스rsquo에': 1, '아프리카에서': 1, 'QR코드': 1, '오늘의': 5, 'koreadognews': 1, '톰바그': 1, '개정': 1, '진객': 1, '메뉴': 1, '함께': 1, '文': 1, '반전': 1, '요양원추천': 1, '한통을': 1, '상세보기': 1, '닮은': 3, '추천갤러리': 2, '낙하산': 1, 'lt': 4, '암컷': 1, '덕에': 1, '기획자는': 1, 'ㅠㅠ이불': 1, '싹둑': 1, '알렉볼드윈': 1, 'G클래스': 1, '22일': 1, '홈amp쿠킹': 1, '어제보다': 1, '정보': 7, '맛있는': 2, '몸부림지난': 1, '오딘': 1, '상아엄니': 1, 'CUTI': 1, '고객센터': 1, '도래먹이주기': 1, '비즈니스': 1, 'TV하이라이트': 2, '공지사항': 1, '설계사들': 1, '여행맛집': 1, '출입': 1, '같다10년': 1, '시즌2': 1, '준법경영위한': 1, '검색': 4, '먹이용': 1, '서산버드랜드사업소와': 1, '울산시': 1, '고기': 1, '팩트체크': 1, '버거운': 1, '주먹이': 1, '줄': 1, '누리호': 2, '평생교육원': 1, '있는걸까': 1, '카카오': 4, 'Men': 1, '무대로': 1, '탭': 16, '더보기': 2, '집에': 1, '나왔다식당·카페': 1, '선물하기': 1, '도토리부인': 1, '한글입력기': 1, '않겠다는': 1, '자동실행': 1, 'live': 1, '강아지': 2, '지도': 2, 'gt다음': 1, '카페': 3, '품에서': 1, '리뷰해봤습니다': 1, '로그인': 4, '쓰나미': 1, '14도': 6, '숨지게': 1, '©': 1, '멀티미디어': 2, '배틀그라운드': 1, '때': 1, '찍어': 1, '점': 1, '13': 3, '김정진': 1, '이부진': 1, '공개': 1, '미이라': 1, '날벼락': 1, '당연': 1, '연재': 1, '코끼리는': 1, '아내가': 1, '오후': 1, '코끼리의': 1, '빨리': 1, '결과를': 1, '했다': 1, '결과가': 1, '몰래': 1, '오브': 1, '공무원': 1, '한': 1, '코끼리': 1, '미쳤다는': 1, '목양견은': 1, '100만표의': 1, '서산시': 1, '뮤직': 1, '찜기에': 1, '거실뱅크★': 1, '천수만인': 1, '소셜임팩트': 1, 'Don39t': 1, '레전드샷좀': 1, '윤석열': 2, '천수만에': 1, '쇼핑라이브': 1, '보험금': 1, '알고': 1, '카카오비즈니스': 1, '김영아': 1, '몰': 1, '밑그림': 1, '요구': 1, '커졌는데nbsp엄마': 1, '12': 1, '22': 1, '전두환': 2, '9': 1, '8': 1, '재회': 1, '않고': 1, '친해요': 1, '안소희': 2, '하늘에서': 1, '브런치': 3, '땡': 1, '소고기': 1, '서산시에': 1, '커버': 1, '결혼': 1, '봉': 2, '청소년보호정책': 1, '11': 2, '사라졌다섬뜩한': 1, '사회복지실습': 1, '맴찢': 1, '실시간': 1, '댄스': 1, '제휴문의': 1, '않는': 1, '양측': 1, 'HI': 1, '건': 2, '미시옷전문쇼핑몰': 1, '39겨울': 1, '일본': 2, '프로젝트100': 1, '카카오프렌즈': 1, '러브둥둥': 1, '진화에': 1, '방문하는': 1, '상아': 2, '1939': 1, '스테인레스': 1, 'Daum': 2, '손실보상': 1, '배달': 1, '이재명25일': 1, '인간': 1, '해결': 1, '비마이펫': 1, '학력붕괴': 1, '만들기': 1, '오고': 1, '찍은': 1, '최원영': 1, '김신환': 1, '티스토리': 2, '서산연합뉴스': 1, '우리할아버지가': 1, '코끼리가': 1, '사람보다': 1, '유익한': 2, '주요장면': 2, '접근성': 1, '댕댕이gif': 1, '포토': 4, '발표했다': 1, '만두': 1, '진객39': 1, '대참사': 1, '16가': 1, '유흥시설': 1, '학술지': 1, '엑자일': 1, '운영정책': 1, '뉴스홈': 1, '펼치기': 1, '운정': 1, '패착': 1, 'CNBLUE': 1, '맑음': 14, '운세': 1, '캐묻는': 1, '지하철노선도': 1, '가치': 1, '춤추면': 1, '후보': 1, '사람들이': 2, '대국민': 1, '머니': 1, '자동차': 2, '하나로': 1, '통합대기': 1, '기후변화': 1, '선택됨': 1, '전경환': 1, '카카오스토리': 2, '박철민‧장영하‧안철수': 1, '현황': 1, '길찾기': 1, '파고드는': 1, '흐림': 4, '지난': 1, '주요': 2, '고양이': 1, '멜론': 1, '이재명': 1, '현재': 6, '박진영': 1, '카카오웹툰': 1, '고북면': 1, '교수': 1, '부산시': 1, '비하인드zipㅣ': 1, '로드뷰': 1, '웹접근성안내': 1, '콘텐츠': 2, '엔딩': 1, '박진주': 1, 'leave': 1, '2030에게': 1, '사료': 1, '6': 1, '이것': 1, '5': 1, '카카오TV': 2, '수제버거': 1, '당연한': 1, '인재채용': 1, '대구시': 1, '3': 4, '날아들면서': 1, '소상공인': 1, '백과사전': 1, '오늘부터': 1, '이유': 1, '봐jpg': 1, '문화엔터': 1, '기러기류와': 1, '8897': 1, 'BTS': 1, '남편과의': 1, '진짜': 1, '등': 1, 'TV편성': 1, '남편': 1, '웹툰': 2, '대전시': 1, '보기': 4, '일반뉴스': 1, '구경만': 1, '선공개': 1, '성행quot': 1, 'Witch': 1, '57': 1, '위치기반서비스이용약관': 1, '컴터맨': 1, '백신': 1, '파주': 1, '발생현황': 1, '제기': 1, '증시': 1, '따라하던': 1, '충남': 2, '증권': 1, '활동도': 2, '볍씨': 1, '출국': 1, '미국': 1, '골절아내는': 1, '전라북도': 1, '천수만에는': 1, 'All': 1, '쇼케이스': 1, '던져버림gi': 1, '21일현지시간': 1, '삼성전자가': 1, '어때요': 1, '전체': 5, '게임': 4, '대해': 1, '현실너도나도': 1, 'reserved': 1, '영상': 19, '전체보기': 2, '난제': 1, '기자': 1, '다음': 7, '무더기': 1, '부딪힌': 1, 'me': 1, '갈비뼈': 1, '까니까': 1, '16도': 1, '지역에': 1, '15도': 4, '잔인한': 1, '모습에': 1, '찍겠다이재명': 1, '배우': 1, '영향을': 1, '스포츠': 2, '드라마보다': 1, '떠나지': 1, '너를': 2, '시대의': 1, '영업제한': 1, '마주친': 1, '사람': 2, '약관': 1, '치명타': 1, '1등급': 1, '검찰': 1, '씨엔블루': 1, '철새들이': 1, '엄마': 1, '13도': 3, '아내의': 1, '1977sim1992년': 1, 'pistachiok': 1, '오리지널': 2, '수': 1, '준': 1, '말한': 1, '카카오헤어샵': 1, '아이돌도': 1, '성행하면서': 2, '빈소': 1, '사진': 1, '나': 1, '만든': 1, 'TV': 4, '프링글': 1, '검색어': 1, '20일': 1, '판정승·위드': 1, '이슈': 1, '사퇴정치쫌': 1, '서산': 1, '1년': 1, '盧': 1, '때려': 1, '인기': 1, '뚝딱': 1, '표': 1, '타프만': 1, '사바나': 1, '다음을': 1, '100': 1, '4': 2, '전라남도': 2, '기간': 1, '우리': 1, 'middot': 11, '금융': 1, '놀지는': 1, '李에': 1, '과학자들': 1, '본격적으로': 1, '지킴이': 1, '전동화': 1, '넣고': 1, '개인정보처리방침': 2, '어떻게': 1, '병수발': 1, '컵라면': 1, '다먹은': 1, '주기': 1, '＂서우재': 1, 'Copyright': 1, '돈벌던': 1, 'maen': 1, '없이': 3, '담당자가': 1, '환율': 1, '단어장': 1, '세븐틴': 1, '익혀봤는데': 1, '일': 1, '닫기': 2, '거물인': 1, 'Corp': 1, '먹이': 1, '연합뉴스': 1, '위기에': 1, '블로그': 4, '호두의': 1, '본격화': 1, '김연경': 1, '미디어': 3, '포토amp영상': 1, '금주의': 1, '1탭': 1, 'Behind': 1, '떼를': 1, '엄청': 1, '국제': 1, '살벌한': 1, '코로나19': 1, '이미지': 2}\n"
     ]
    }
   ],
   "source": [
    "# 4. 다음 사이트 필터링 결과\n",
    "printResultFilter(source_daum)"
   ]
  },
  {
   "cell_type": "code",
   "execution_count": 75,
   "id": "c3ed6e21",
   "metadata": {},
   "outputs": [
    {
     "name": "stdout",
     "output_type": "stream",
     "text": [
      "3. 각 단어들의 출현빈도 수\n",
      "\n",
      "{'Before': 1, 'Colin': 1, 'Pianist': 1, 'Tacos': 1, 'Home': 2, 'shot': 1, 'assaulted': 1, 'made': 1, 'whispers': 1, 'BokatLindell': 1, 'Laundrie’s': 1, 'items': 1, 'toughest': 1, 'critical': 1, 'facing': 1, 'giant': 1, 'Turned': 1, 'now': 1, 'latest': 1, 'change': 1, '‘Ordinary': 1, 'attractions': 1, 'content': 1, 'poorer': 1, 'wait': 1, 'Helping': 1, 'with': 5, 'Bee': 1, 'challenge': 1, 'I': 1, 'Pasta': 1, 'by': 4, 'Well': 1, 'deflect': 1, 'concerns': 1, 'Carlos': 1, 'sidestepped': 1, '‘The': 2, 'Stop': 1, 'immigrant': 1, 'Then': 1, 'Automate': 1, 'Getty': 5, 'Contempt': 1, 'Dropped': 1, 'Tiles': 1, 'been': 1, 'depends': 1, 'engaging': 1, 'one': 4, 'back': 2, 'Learn': 1, 'SchaffThe': 1, 'Adept': 1, 'Terms': 2, 'Seeking': 1, 'Disputes': 1, 'financial': 1, 'square': 1, 'General': 1, 'Motherhood': 1, 'Let': 1, 'Assaults': 1, 'migration': 1, 'Christopher': 1, 'places': 2, 'Gamble': 1, 'Energizing': 1, 'Committee': 1, 'Newman': 1, 'Millions': 1, 'Conservative': 1, 'obligations': 1, '哈佛中文项目迁台：新“冷战”阴影下的文化脱钩？': 1, 'keep': 1, 'Advertise': 1, 'Style': 1, 'whether': 1, 'education': 1, 'This': 3, 'prosecute': 1, 'review': 1, 'Board': 1, 'PizzoliAgence': 1, 'Account': 1, 'still': 1, 'circulation': 1, 'recommendation': 1, 'between': 1, 'nominee': 1, 'riot': 1, 'Rape': 1, 'suburb': 1, 'Escape': 1, 'apart': 1, 'York': 14, 'crispy': 1, 'Jane': 1, 'Cheesecake': 1, 'Vertex': 1, 'Teach': 1, 'base': 1, 'Keller': 1, 'site': 1, 'Florida': 1, 'vaccinations': 2, 'Trump': 5, 'experts': 1, 'Haiti': 1, 'Found': 1, 'Arefi': 1, 'Butternut': 1, 'all': 1, 'Joys': 1, 'many': 3, 'Coronavirus': 1, 'Your': 2, 'chain': 1, 'Food': 1, '400': 1, 'drugs': 1, 'Modern': 2, 'he': 3, 'National': 2, 'extra': 1, 'Authorities': 2, 'your': 5, 'nations': 1, 'Mennonites': 1, 'deaths': 1, 'Kill': 1, 'Spelling': 1, 'grand': 1, 'the': 40, 'secretary': 1, 'easy': 1, 'Liz': 1, 'fad': 1, 'are': 3, 'How': 4, 'we': 1, 'landscape': 1, 'Work': 4, 'History': 1, 'Test': 1, 'Health': 1, 'tales': 1, 'year': 3, 'Mexico': 1, 'torn': 1, 'country’s': 1, 'door': 1, 'Wirecutter': 2, 'Rios': 1, 'Chile': 1, 'regulators': 1, 'David': 3, 'Prayer': 1, 'House': 3, 'World': 3, 'would': 1, 'sitting': 2, 'Culture': 1, 'Judith': 1, 'defense': 1, 'Execution': 1, 'Threat': 1, 'election': 1, 'Minutes': 1, 'Up': 1, 'bitterly': 1, 'GoldmanAssociated': 1, 'Sang': 1, 'elements': 1, 'Michael': 1, 'in': 21, 'catering': 1, 'warning': 1, 'Time': 1, 'you': 3, 'Did': 1, 'Against': 1, 'Times': 14, 'Passengers': 1, 'Cases': 2, 'Accessibility': 1, 'Policy': 1, 'have': 2, 'Learning': 1, 'May': 1, 'Newsletter': 1, 'director': 2, 'Merrick': 1, 'minority': 1, 'leg': 1, 'Español': 1, 'foreign': 1, 'Theodore': 1, 'With': 5, 'increase': 1, '–15': 1, 'Finds': 2, 'Images': 6, 'Attorney': 1, 'our': 1, 'postseason': 1, 'feet': 1, 'Contact': 1, 'About': 4, 'it': 1, 'Continue': 5, 'Senate’s': 1, 'Mont': 2, 'wasn’t': 1, 'included': 1, 'Farahani': 1, 'Brussels': 1, 'to': 26, 'Long': 1, 'Haunted': 1, '1509': 1, 'Hession': 1, '60vote': 1, 'Their': 1, 'visual': 1, 'leader': 1, 'Really': 1, 'frontman': 1, 'Bannon': 2, 'game': 1, 'a': 23, 'State': 1, 'led': 1, 'agenda': 1, 'Payment': 1, 'Accusations': 1, 'Subscriptions': 1, 'News': 4, 'office': 1, '–24': 1, 'Navigation': 1, 'Best': 1, 'Paper': 1, 'find': 1, 'issued': 1, 'troubled': 1, 'Lyft': 1, 'Jan': 3, 'first': 1, 'index': 1, 'Sitting': 1, 'state’s': 1, 'Porn’': 1, 'Congress': 1, 'Paradox': 1, 'Spicy': 1, 'Jay': 2, 'WeissAgence': 1, 'NYTCo': 1, 'questions': 3, 'pushing': 1, 'vaccines': 1, 'Election': 1, 'Travel': 1, 'Recipients': 1, 'Change': 2, 'Walk': 1, 'revenue': 1, 'Consider': 1, 'Connect': 1, 'International': 2, 'Abrams': 1, 'Chinese': 1, 'begins': 1, 'Tricks': 1, 'Video': 1, 'last': 1, 'Avg': 1, 'Bill': 1, 'at': 4, 'FrancePresse': 2, 'Britain’s': 1, 'Pork': 1, 'Estrogen': 1, 'large': 1, 'Merkel': 1, 'active': 1, 'voting': 1, 'Not': 2, '‘and': 1, 'Shots': 1, 'What': 2, 'president': 1, 'rock': 1, 'despite': 1, 'access': 1, 'Moran': 1, 'Deadline': 1, 'Bodies': 1, 'Discloses': 1, 'Privacy': 1, 'restrictions': 1, 'chicken': 1, 'Voting': 1, 'Suffolk': 1, 'injured': 1, 'yet': 1, '7': 1, '‘Inspiration': 1, 'words': 2, 'Member': 1, 'as': 6, 'Terrifies': 1, 'Crossword': 1, 'Houses': 1, 'Intervening': 1, 'Brittainy': 1, 'Floyd': 1, 'property': 1, 'Cars': 1, 'push': 1, 'state': 1, 'Desiree': 1, 'Tour': 1, 'ThreeHomer': 1, 'Book': 1, 'reimagining': 1, 'help': 3, 'come': 1, 'Cooking': 1, 'theory': 1, 'lobbyist': 1, 'movie’s': 1, 'Donald': 1, 'UK': 3, 'Wall': 1, 'Choices': 1, 'attack': 1, 'Deaths': 1, 'Problem': 1, 'development': 2, 'Studio': 1, 'investigation': 1, 'that': 6, 'hot': 2, 'Brand': 1, 'college': 1, 'reading': 5, 'Kevin': 1, 'warming': 1, 'Filibuster': 1, 'Should': 2, 'get': 1, 'best': 1, 'debate': 1, 'any': 2, 'photography': 1, 'Consultants': 1, 'behind': 1, 'Farhad': 1, 'authorities': 1, 'thunderstorm': 1, 'launch': 1, 'rebound': 1, 'thorny': 1, 'History”': 1, 'story': 6, 'encourage': 1, 'Help': 1, 'said': 3, 'Beijing': 1, 'Scientists': 1, 'Golshifteh': 1, 'bondholders': 1, 'passed': 1, 'Exercise': 1, 'trigger': 1, 'SEARCH': 1, 'Cheney’s': 1, 'M': 1, 'Live': 1, '“callously': 1, 'Match': 1, 'Vaccine': 2, 'Says': 4, 'Dream': 1, 'message': 1, '‘Squid': 1, 'Letter': 1, 'Republican': 2, 'Even': 1, 'decide': 1, 'each': 1, 'Higgins': 1, 'Olivia': 1, 'Cure': 1, 'Than': 1, 'Spencer': 1, 'cases': 1, 'themes': 1, 'Baldwin': 1, 'Fatally': 1, 'Johnson': 1, 'You': 3, 'Thanks': 1, 'Magazine': 2, 'Breaking': 1, 'Politics': 2, 'Inequality': 1, 'Greenhouse': 1, 'Loneliness': 1, 'Angela': 2, 'close': 1, '©': 1, '1971': 1, 'Sports': 1, 'These': 1, 'faced': 1, 'visitors': 1, '1807': 1, 'Yossy': 1, 'clued': 1, 'Kang’s': 1, 'Covid': 3, 'if': 1, 'slots': 1, 'agencies': 1, 'Game’': 1, 'spur': 1, 'Klein': 1, 'Atlanta': 1, 'everything': 1, 'vaccine': 1, 'backgrounds': 1, 'books': 1, 'Workout': 1, 'Illustrator': 1, 'appointed': 1, 'Alive': 2, 'Years': 1, 'Given': 1, 'Lawmakers': 1, 'delivered': 1, 'Sections': 1, 'race': 1, 'Company': 1, 'Keeps': 1, 'Tests': 1, 'Theater': 1, 'about': 4, 'Yorkers': 1, 'company': 1, 'us': 1, 'threshold': 1, 'NLCS': 1, 'people': 3, 'Firearm': 1, 'during': 1, 'Texas': 1, 'Chicken': 1, 'Inquiry': 1, 'Wrong': 1, 'North': 1, 'often': 1, 'cultural': 1, 'Can': 1, 'Footrest': 1, 'Science': 1, 'remain': 1, 'spending': 1, 'Jerry': 1, 'characters': 1, 'Sign': 1, 'Squash': 1, 'Federal': 1, 'Manjoo': 1, 'Recommends': 1, '75498': 1, 'product': 1, 'better': 1, 'Forest': 1, 'already': 1, 'congressional': 1, 'FBI': 1, 'Marathon': 1, 'Back': 1, 'Students': 1, 'On': 1, '2019': 1, 'Many': 1, '“Rust”': 1, 'It': 1, 'Mr': 1, 'picture': 1, 'Real': 1, 'this': 2, 'Pumpkin': 1, 'Came': 1, 'Philadelphia': 1, 'Century': 1, 'Detained': 1, 'Her': 2, 'cut': 1, 'Official': 1, 'Dies': 1, 'day': 1, 'may': 1, 'Children’s': 1, 'there”': 1, 'Sale': 1, 'lawyer': 1, 'Scrapping': 1, 'of': 26, 'hears': 1, '81': 1, 'From': 2, 'critic': 1, 'Open': 1, 'Arteries': 1, 'Poverty': 1, 'Vindication': 1, 'Seeing': 1, 'Other': 2, 'Faces': 1, 'pandemic': 1, 'vote': 1, 'Law': 2, 'Canada': 2, 'his': 2, 'Me': 1, 'Why': 1, 'Seventeen': 1, 'Extreme': 1, 'Huge': 1, 'Stunning': 1, 'JampJ': 1, 'Estate': 1, 'across': 1, 'Fears': 1, 'First': 1, 'missionaries': 1, 'Linda': 2, 'hidden': 1, 'Wisconsin': 1, 'President': 2, 'United': 3, 'tackles': 1, 'Recommendations': 1, 'waiting': 1, 'resolution': 1, 'train': 1, 'Opinion': 3, 'after': 3, 'Krugman': 1, 'In': 2, 'outside': 1, 'own': 2, 'hope': 1, 'or': 2, 'Arts': 1, 'an': 3, 'early': 2, 'millions': 1, 'Defying': 1, 'Hospitals': 2, 'JrThe': 1, 'vast': 1, '2021': 1, '‘Invasion’': 1, 'China': 1, 'Powell': 1, 'Michelle': 1, 'Alberto': 1, 'Morry': 1, 'Apple': 1, 'partisan': 1, 'Moderna': 1, 'Hostages': 1, 'Antiwork': 1, 'Music': 1, 'Tracking': 1, 'Crew': 1, 'Virginia': 1, 'Service': 1, 'Details': 1, 'He': 1, 'Alec': 1, 'Fresh': 1, 'Runners': 1, 'tests': 1, 'We': 2, 'Advertisement': 5, 'them': 1, 'American': 2, '21': 1, 'letters': 2, 'Republicans': 2, 'Be': 2, 'planet': 1, 'Chineselanguage': 1, 'Family': 1, 'Heat': 1, 'Capitol': 1, 'StirFried': 1, 'Taylor’s': 1, 'Bernate': 1, 'strife': 1, 'If': 1, 'around': 1, 'for': 24, 'Books': 1, 'Widening': 1, 'dots': 1, '’90ssitcomloving': 1, 'Coaston': 1, 'sheriff’s': 1, 'woman': 1, 'every': 1, 'Read': 1, 'from': 1, 'Are': 2, 'Justice': 1, 'is': 2, 'Idaho': 2, 'doses': 1, 'Neediest': 1, 'warned': 1, 'Will': 1, 'Need': 1, 'Rights': 1, 'Skip': 2, 'Restrictions': 1, 'has': 3, 'climate': 1, 'service': 1, 'media': 1, 'R': 1, 'going': 1, 'alter”': 1, 'Americans': 1, 'stonewalled': 1, 'Cycle': 1, 'enforcement': 1, 'Caspian': 2, '6': 3, 'Voters': 1, '5': 1, 'Videos': 1, 'governor': 1, 'set': 1, 'Bruni': 1, 'RoundtheClock': 1, 'had': 3, 'Trump’s': 1, 'Sour': 1, 'on': 9, 'thousands': 1, 'Churches': 1, 'make': 1, 'healthier': 1, 'Biden': 1, 'Seen': 1, 'good': 1, '›': 6, 'Sexual': 1, 'Climate': 1, 'Hospitalized': 1, 'him': 1, 'Agenda': 1, 'came': 1, 'Kang': 1, 'its': 2, 'Spinach': 1, 'Were': 1, 'Rioters': 1, 'Sprouts': 1, 'CDC': 1, 'booster': 1, 'didn’t': 1, 'Evergrande': 1, 'seek': 1, 'Queen': 1, 'Roots’s': 1, 'Alien': 1, 'issue': 1, 'social': 1, 'Alaska': 2, 'Job': 1, 'entryway': 1, 'countries': 1, 'Elizabeth': 1, 'After': 1, 'Boxed': 1, 'Sweet': 1, 'Was': 3, 'Terrify': 1, 'FarFlung': 1, '中文': 1, 'child': 1, 'Show’': 1, 'Brock': 1, 'system': 1, 'US': 5, '—': 5, 'Palace': 1, '50': 1, 'Corporations': 1, 'Security': 1, 'classic': 1, 'Dodgers': 1, 'hardly': 1, 'Like': 1, 'Killed': 1, 'Prop': 1, 'batter': 1, 'Ever': 1, 'Subpoena': 1, 'can': 4, 'Questlove': 1, 'One': 1, 'Frank': 1, 'praying': 1, 'NY': 1, 'experiment': 1, 'All': 1, 'reveal': 1, 'inquiry': 1, 'Garland': 1, 'Street': 1, 'SteffyGetty': 1, 'ties': 1, 'Malosh': 1, 'sought': 2, 'over': 1, 'lack': 1, 'An': 1, 'Popularity': 1, 'oversee': 1, 'Virus': 1, 'Information': 1, 'only': 1, 'More': 3, 'Listen': 1, 'former': 3, 'held': 1, 'hoping': 2, '11th': 1, 'until': 1, 'Business': 1, 'Site': 2, 'Erin': 1, 'Black': 1, '14day': 1, 'MiddleAged': 1, 'Ultimatum': 1, 'ransom': 1, 'Thank': 1, 'Makes': 1, 'School': 1, 'Now': 2, 'Prosecutor': 1, 'The': 29, 'newsletter': 2, 'Oct': 1, 'Xiao': 1, 'meet': 1, 'midterm': 1, 'Italy': 1, 'violence': 1, 'New': 19, 'More’': 1, 'Way': 1, 'three': 1, 'Supreme': 2, 'decriminalize': 1, 'Steve': 1, 'receive': 1, 'Us': 1, 'tells': 1, 'more': 2, 'Today’s': 1, 'opening': 2, 'McCarthy': 1, 'dose': 1, 'Choose': 2, 'Ad': 1, 'Get': 2, 'Laing': 1, 'and': 18, 'Ezra': 1, 'Acclaimed': 1, 'main': 5, 'Say': 2, 'Shulevitz': 1, 'spots': 2, 'born': 1, 'Watch': 1, 'reports': 1, 'subscriberonly': 1, 'Brian': 1, 'Train': 1, 'Chester': 1, 'Godin': 1, 'Democracy': 1, 'will': 3, 'Citizens’': 1, 'TV': 2, 'Feet': 1, 'Few': 1, 'default': 1, 'Summon': 1, 'killed': 1, 'Occurred': 1, '海外华人札记': 1, 'today’s': 1, 'Bryan': 1, 'Media': 2, 'gained': 1, 'America': 2, 'Is': 5, 'Halloween': 2, 'Devastated': 1, 'Green': 1, 'Saturday': 1, 'Paul': 1, 'Keeping': 1, 'Intelligence': 1, 'role': 1, 'food': 1, '4': 1, 'firm': 1, 'using': 1, 'Goldberg': 1, 'Day': 2, 'change’s': 1, 'Drop': 1, 'risks': 1, 'Lifestyle': 1, 'haunted': 1, 'Gear': 1, 'Rides': 1, 'A': 4, 'Helen': 1, 'out': 1, '“fundamentally': 1, 'Create': 1, 'Tech': 1, 'up': 1, 'became': 1, 'threat': 1, 'Leona': 1, 'was': 5, 'Booster': 1, 'Press': 2, 'Fitness': 1, 'Vaccinations': 1, 'Department': 1, 'Worth': 1, 'wordplay': 1, 'Biden’s': 1, 'Ethics': 1, 'Play': 1, 'elections': 1, 'Human': 1, 'ally': 1, 'Court': 2, 'Inspiration': 1, 'age': 1, 'Here’s': 1, 'Rise': 1, 'homers': 1, 'States': 3, 'Remains': 1, 'Pinkney': 1, 'Argument’': 1, '30minute': 1, 'Chris': 1, 'T': 2, 'hearing': 1, 'Smart': 1, 'Simpson': 1, 'heads': 1, 'Times’s': 1, 'Karsten': 1, 'sure': 1, 'Friday': 1, 'Getting': 1, 'At': 1, 'Maybe': 1, 'Shoots': 1, 'Map': 1, 'Looks': 2, 'forth': 1, 'Libel': 1, 'trackers': 2, 'Global': 3, 'Australia': 2, '“Music': 1, 'spooky': 1, 'GashAssociated': 1, 'legalize': 1}\n"
     ]
    }
   ],
   "source": [
    "# 5. 뉴욕 타임즈 사이트 필터링 결과\n",
    "printResultFilter(source_nytimes)"
   ]
  },
  {
   "cell_type": "markdown",
   "id": "04bb14dd",
   "metadata": {},
   "source": [
    "### 소감"
   ]
  },
  {
   "cell_type": "markdown",
   "id": "4ae74d57",
   "metadata": {},
   "source": [
    "첫 번째 문제에서는 쉽사리 넘어갈 수도 있었던 개념을 다시한번 돌이켜봄으로써 놓치고 지나갈뻔 했던 내용들을 생각할 수 있어 좋았습니다. 4번과 5번에서는 앞서 수업시간에서 배운 리스트 내포를 활용함으로써 익숙치 않았던 내용을 조금 더 구체화하고 제 것으로 만들 수 있었습니다. 6번에서는 얕은복사와 깊은복사를 리스트 뿐만 아니라 사전형에서 다뤄봄으로써 실제 왜 이렇게 동작하는가를 고민해볼 수 있는 시간이어서 좋았습니다.   \n",
    "   \n",
    "8번 문제부터는 교수님께서 말씀하신대로 시간이 필요로 하는 문제들이었는데요. 8번의 경우, 어떻게 주어진 조건을 맞춰 재귀함수로 구현할 것인가? 가 가장 난해했던 부분이었습니다. 구현 및 테스트까지 마치긴 했으나, 아직까지도 코드가 깔끔해보이지 않아서 스스로가 만족스럽지 못한 풀이입니다.   \n",
    "   \n",
    "9번의 경우 버스 크기에 따른 탑승 가능 경우를 구하는 알고리즘의 경우, 쉽게 구현할 수 있었습니다. 허나, 버스의 크기 리스트를 어떻게 구할 것인가?에 대해 고민을 많이 했습니다. 처음에는 각 요소별로 합을 구해서 set()을 통해 리스트를 만들까도 했지만, 이는 시간 복잡도가 너무 오래 걸릴 것 같아 포기했습니다. 다음 방법으로 주어진 결과값을 보다가 문득 약수를 대입하면 되지 않을까? 라는 생각이 들어 약수 리스트를 만들어 도전해봤습니다. 간단히 약수를 1부터 해당 리스트의 총합까지 구하는 형태로 진행을 했었는데, 이 경우 예시 1, 2는 문제없었으나 3의 경우 시간이 너무 오래걸리다보니 시간을 줄일 방도를 찾게 되었습니다. 약수를 구하는데 시간을 많이 소모한다는 것에 중점을 두고, 항상 약수를 구하면 그 짝이 되는 수가 존재한다는 특징을 이용, 첫번째 약수와 그 약수에 짝이되는 약수를 동시에 구하다보니 그나마 시간을 줄일 수 있었습니다. \n",
    "   \n",
    "이번 incremental 문제에서는 저번 주 과제에 연장선이기에 그렇게 큰 문제가 없을 것이라 생각했었습니다. 그런데, koreatech과 daum사이트를 가져올 때 각각 문제가 발생하여 코드 실행에 오류가 발생했습니다. 1. koreatech의 경우, 주석 처리된 문장안에 '->'와 같은 기호가 있다보니 꺽쇠 괄호'<','>'를 제거하는데 문제가 있었고, 2. daum의 경우, 링크 태그 내부에 '<url\\>', '</url\\>' 문법을 사용하고 있다보니 문제가 발생하였습니다. 그래서 각각 1번의 경우 '<!--\\', '--\\>' 주석문을 먼저 제거하는 조건 추가, 2번의 경우 '<url\\>', '</url\\>' 태그 내용을 먼저 제거하는 조건을 추가하는 형태로 해결할 수 있었습니다. \n",
    "   \n",
    "마지막으로, 최종 테스트 과정에서 주어진 컴퓨터공학부 사이트의 경우 http:// 주소인데, 해당 주소를 불러올 시 403 에러가 발생하여 현재 보안이 업그레이드된 https:// 주소로 불러왔습니다. 이 때 SLLError라 하여 인증서 오류가 발생하는 문제 때문에, requests.get() 함수에 verify=False 조건을 주어, SSL 인증서를 따로 확인하지 않도록 설정하였습니다.   \n",
    "   \n",
    "C와 같은 다른 언어를 공부할 때는 연습문제만 풀다보니, 흥미가 떨어졌는데, 파이썬의 경우 이와 같이 실제 사이트를 가져와 데이터를 다룸으로써 한층 더 재미가 있는 것 같습니다. 감사합니다."
   ]
  }
 ],
 "metadata": {
  "celltoolbar": "Raw Cell Format",
  "kernelspec": {
   "display_name": "Python 3 (ipykernel)",
   "language": "python",
   "name": "python3"
  },
  "language_info": {
   "codemirror_mode": {
    "name": "ipython",
    "version": 3
   },
   "file_extension": ".py",
   "mimetype": "text/x-python",
   "name": "python",
   "nbconvert_exporter": "python",
   "pygments_lexer": "ipython3",
   "version": "3.8.11"
  }
 },
 "nbformat": 4,
 "nbformat_minor": 5
}
