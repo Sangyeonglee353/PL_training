{
 "cells": [
  {
   "cell_type": "markdown",
   "id": "913567b5",
   "metadata": {},
   "source": [
    "# Assignment 3\n",
    "## 학번: 2019136151 이름: 이상영\n",
    "## [정보]\n",
    "#### 1) Due Date: 2021년 10월 22일 (금), 23시 59분\n",
    "#### 2) 제출방법: 수업 홈페이지 하단의 \"[숙제 제출 방법]\" 참고\n",
    "#### 3) 내용: 반드시 python code와 수행 결과를 jupyter notebook 내에 작성하여 넣고, 이에 대한 설명 등을 해당 코드 아래에 markdown cell 등에 넣어 기입하시오.\n",
    "#### 4) 숙제이후 소감 작성: 10개의 문제의 답을 모두 작성한 이후에 현재까지 강의를 들은 후의 소감, 숙제를 한 이후의 소감, 또는 전하고자 하는 말 등을 짧막하게라도 좋으니 jupyter notebook 마지막 markdown cell에 함께 제출하시오.  \n",
    "#### 5) 반드시 본인 스스로 문제를 해결하세요~~~"
   ]
  },
  {
   "cell_type": "markdown",
   "id": "c29bfdcb",
   "metadata": {},
   "source": [
    "## [일반 문제]"
   ]
  },
  {
   "cell_type": "markdown",
   "id": "4a5841de",
   "metadata": {},
   "source": [
    "#### 1. L=[1, 2, 3, 4, 5]일 때 다음 각 문장을 수행한 후의 결과를 보고 납득할 만한 이유를 설명하시오."
   ]
  },
  {
   "cell_type": "markdown",
   "id": "d3768f90",
   "metadata": {},
   "source": [
    "- 1)   \n",
    "        L[1:3] = [100]\n",
    "        print(L)"
   ]
  },
  {
   "cell_type": "code",
   "execution_count": 46,
   "id": "f51fd0d3",
   "metadata": {},
   "outputs": [
    {
     "name": "stdout",
     "output_type": "stream",
     "text": [
      "[1, 100, 4, 5]\n"
     ]
    }
   ],
   "source": [
    "L = [1, 2, 3, 4, 5]\n",
    "L[1:3] = [100]\n",
    "print(L)"
   ]
  },
  {
   "cell_type": "markdown",
   "id": "e8b1ee85",
   "metadata": {},
   "source": [
    "__[결과가 나온 이유]__   \n",
    "좌측항의 L[1:3]은 L[1]과 L[2]를 가리키므로, [2, 3]을 말한다.\n",
    "그런데 우측항은 [100]이라는 리스트 값 하나만 주어졌다.   \n",
    "따라서 L[1]은 100으로 변경되고 L[2]는 따로 변경값이 없어 삭제되면서 L = [1, 100, 4, 5]라는 결과값이 출력된다."
   ]
  },
  {
   "cell_type": "markdown",
   "id": "25b6e44f",
   "metadata": {},
   "source": [
    "- 2)\n",
    "        L[1:3] = [(100)]\n",
    "        print(L)"
   ]
  },
  {
   "cell_type": "code",
   "execution_count": 47,
   "id": "a62393c1",
   "metadata": {},
   "outputs": [
    {
     "name": "stdout",
     "output_type": "stream",
     "text": [
      "[1, 100, 4, 5]\n"
     ]
    }
   ],
   "source": [
    "L = [1, 2, 3, 4, 5]\n",
    "L[1:3] = [(100)]\n",
    "print(L)"
   ]
  },
  {
   "cell_type": "markdown",
   "id": "fcc10393",
   "metadata": {},
   "source": [
    "__[결과가 나온 이유]__   \n",
    "좌측항의 L[1:3]은 L[1]과 L[2]를 가리키므로, [2, 3]을 말한다.\n",
    "그런데 우측항은 [(100)]이라는 tuple(튜플)로 작성된 리스트 값 하나만 주어졌다고 오해할 수 있다. 하지만, (100)은 type을 검사해보면 int(정수형)이다. 이 말은 즉슨 [(100)]과 [100]은 동일하다고 볼 수 있으며, () 괄호 안에 숫자 값이 하나만 주어진다면 이는 tuple(튜플)이 아니라 int(정수형)으로 해석한다는 것을 알 수 있다. 따라서 2)의 결과는 1)과 동일한 L = [1, 100, 4, 5]라는 값이 출력된다.  \n",
    "위 1)과 결과값은 같지만, 이 둘은 엄연히 다르다. 그 차이는 요소를 추가함으로써 알 수 있는데, 1)의 경우 우측의 리스트 값을 [100, 200]과 같이 추가하면 좌측에 입력된 리스트 범위의 첫 인덱스부터 차례대로 값이 append(추가)되지만, 2)는 아래와 같이 튜플의 요소를 추가하게 될 경우 해당 튜플 모두가 L[1]의 요소로 들어간다는 점이다."
   ]
  },
  {
   "cell_type": "code",
   "execution_count": 48,
   "id": "784cd84e",
   "metadata": {},
   "outputs": [
    {
     "name": "stdout",
     "output_type": "stream",
     "text": [
      "[1, 100, 200, 4, 5]\n"
     ]
    }
   ],
   "source": [
    "L = [1, 2, 3, 4, 5]\n",
    "L[1:3] = [100, 200]\n",
    "print(L)"
   ]
  },
  {
   "cell_type": "code",
   "execution_count": 49,
   "id": "c5af4ace",
   "metadata": {},
   "outputs": [
    {
     "name": "stdout",
     "output_type": "stream",
     "text": [
      "[1, (100, 200), 4, 5]\n"
     ]
    }
   ],
   "source": [
    "L = [1, 2, 3, 4, 5]\n",
    "L[1:3] = [(100, 200)]\n",
    "print(L)"
   ]
  },
  {
   "cell_type": "markdown",
   "id": "d3ce2a86",
   "metadata": {},
   "source": [
    "- 3)   \n",
    "        L[1:3] = 100\n",
    "        print(L)"
   ]
  },
  {
   "cell_type": "code",
   "execution_count": 50,
   "id": "cdd6be5d",
   "metadata": {},
   "outputs": [
    {
     "ename": "TypeError",
     "evalue": "can only assign an iterable",
     "output_type": "error",
     "traceback": [
      "\u001b[1;31m---------------------------------------------------------------------------\u001b[0m",
      "\u001b[1;31mTypeError\u001b[0m                                 Traceback (most recent call last)",
      "\u001b[1;32m~\\AppData\\Local\\Temp/ipykernel_21192/432241510.py\u001b[0m in \u001b[0;36m<module>\u001b[1;34m\u001b[0m\n\u001b[0;32m      1\u001b[0m \u001b[0mL\u001b[0m \u001b[1;33m=\u001b[0m \u001b[1;33m[\u001b[0m\u001b[1;36m1\u001b[0m\u001b[1;33m,\u001b[0m \u001b[1;36m2\u001b[0m\u001b[1;33m,\u001b[0m \u001b[1;36m3\u001b[0m\u001b[1;33m,\u001b[0m \u001b[1;36m4\u001b[0m\u001b[1;33m,\u001b[0m \u001b[1;36m5\u001b[0m\u001b[1;33m]\u001b[0m\u001b[1;33m\u001b[0m\u001b[1;33m\u001b[0m\u001b[0m\n\u001b[1;32m----> 2\u001b[1;33m \u001b[0mL\u001b[0m\u001b[1;33m[\u001b[0m\u001b[1;36m1\u001b[0m\u001b[1;33m:\u001b[0m\u001b[1;36m3\u001b[0m\u001b[1;33m]\u001b[0m \u001b[1;33m=\u001b[0m \u001b[1;36m100\u001b[0m\u001b[1;33m\u001b[0m\u001b[1;33m\u001b[0m\u001b[0m\n\u001b[0m\u001b[0;32m      3\u001b[0m \u001b[0mprint\u001b[0m\u001b[1;33m(\u001b[0m\u001b[0mL\u001b[0m\u001b[1;33m)\u001b[0m\u001b[1;33m\u001b[0m\u001b[1;33m\u001b[0m\u001b[0m\n",
      "\u001b[1;31mTypeError\u001b[0m: can only assign an iterable"
     ]
    }
   ],
   "source": [
    "L = [1, 2, 3, 4, 5]\n",
    "L[1:3] = 100\n",
    "print(L)"
   ]
  },
  {
   "cell_type": "markdown",
   "id": "cc1aca61",
   "metadata": {},
   "source": [
    "__[결과가 나온 이유]__   \n",
    "\"can only assign an iterable\"이라는 에러가 출력된다. 이유는 리스트의 요소로는 iterable(반복할 수 있는) 즉, 반복 수행이 가능한 요소만 삽입할 수 있기 때문이다. 반복 수행이 가능한 요소로는 대표적으로 문자열, 튜플, 딕셔너리 range() 함수 등이 있는데, 현재 위 3)에서 삽입하려한 int(정수형) 100은 해당되지 않는다."
   ]
  },
  {
   "cell_type": "code",
   "execution_count": 51,
   "id": "4fdc3a17",
   "metadata": {},
   "outputs": [
    {
     "name": "stdout",
     "output_type": "stream",
     "text": [
      "<class 'int'>\n"
     ]
    }
   ],
   "source": [
    "print(type(100))"
   ]
  },
  {
   "cell_type": "markdown",
   "id": "d79c8045",
   "metadata": {},
   "source": [
    "- 4)   \n",
    "        L[1:3] = (100)\n",
    "        print(L)"
   ]
  },
  {
   "cell_type": "code",
   "execution_count": 52,
   "id": "d0902bd8",
   "metadata": {},
   "outputs": [
    {
     "ename": "TypeError",
     "evalue": "can only assign an iterable",
     "output_type": "error",
     "traceback": [
      "\u001b[1;31m---------------------------------------------------------------------------\u001b[0m",
      "\u001b[1;31mTypeError\u001b[0m                                 Traceback (most recent call last)",
      "\u001b[1;32m~\\AppData\\Local\\Temp/ipykernel_21192/1294161389.py\u001b[0m in \u001b[0;36m<module>\u001b[1;34m\u001b[0m\n\u001b[0;32m      1\u001b[0m \u001b[0mL\u001b[0m \u001b[1;33m=\u001b[0m \u001b[1;33m[\u001b[0m\u001b[1;36m1\u001b[0m\u001b[1;33m,\u001b[0m \u001b[1;36m2\u001b[0m\u001b[1;33m,\u001b[0m \u001b[1;36m3\u001b[0m\u001b[1;33m,\u001b[0m \u001b[1;36m4\u001b[0m\u001b[1;33m,\u001b[0m \u001b[1;36m5\u001b[0m\u001b[1;33m]\u001b[0m\u001b[1;33m\u001b[0m\u001b[1;33m\u001b[0m\u001b[0m\n\u001b[1;32m----> 2\u001b[1;33m \u001b[0mL\u001b[0m\u001b[1;33m[\u001b[0m\u001b[1;36m1\u001b[0m\u001b[1;33m:\u001b[0m\u001b[1;36m3\u001b[0m\u001b[1;33m]\u001b[0m \u001b[1;33m=\u001b[0m \u001b[1;33m(\u001b[0m\u001b[1;36m100\u001b[0m\u001b[1;33m)\u001b[0m\u001b[1;33m\u001b[0m\u001b[1;33m\u001b[0m\u001b[0m\n\u001b[0m\u001b[0;32m      3\u001b[0m \u001b[0mprint\u001b[0m\u001b[1;33m(\u001b[0m\u001b[0mL\u001b[0m\u001b[1;33m)\u001b[0m\u001b[1;33m\u001b[0m\u001b[1;33m\u001b[0m\u001b[0m\n",
      "\u001b[1;31mTypeError\u001b[0m: can only assign an iterable"
     ]
    }
   ],
   "source": [
    "L = [1, 2, 3, 4, 5]\n",
    "L[1:3] = (100)\n",
    "print(L)"
   ]
  },
  {
   "cell_type": "markdown",
   "id": "d342d56f",
   "metadata": {},
   "source": [
    "__[결과가 나온 이유]__   \n",
    "앞서 2) 문제를 해석하면서 (100) = 100과 같다는 것을 알 수 있었다. 따라서 4) 문제도 3) 문제와 같은 이유로 \"can only assign an iterable\"이라는 에러가 출력된다."
   ]
  },
  {
   "cell_type": "code",
   "execution_count": 53,
   "id": "ef8774e8",
   "metadata": {},
   "outputs": [
    {
     "name": "stdout",
     "output_type": "stream",
     "text": [
      "<class 'int'>\n"
     ]
    }
   ],
   "source": [
    "print(type((100)))"
   ]
  },
  {
   "cell_type": "markdown",
   "id": "2490fb53",
   "metadata": {},
   "source": [
    "- 5)   \n",
    "        L[1:3] = (100, 101, 102)\n",
    "        print(L)"
   ]
  },
  {
   "cell_type": "code",
   "execution_count": 54,
   "id": "18649e82",
   "metadata": {},
   "outputs": [
    {
     "name": "stdout",
     "output_type": "stream",
     "text": [
      "[1, 100, 101, 102, 4, 5]\n"
     ]
    }
   ],
   "source": [
    "L = [1, 2, 3, 4, 5]\n",
    "L[1:3] = (100, 101, 102)\n",
    "print(L)"
   ]
  },
  {
   "cell_type": "markdown",
   "id": "38eb3c5f",
   "metadata": {},
   "source": [
    "__[결과가 나온 이유]__   \n",
    "4) 문제와 달리 5) 문제에서는 우측항에 () 괄호 안에 요소가 3개인 주어진 튜플이 주어졌다.\n",
    "튜플은 iterable(반복 수행이 가능한 요소) 이므로 좌측항에 주어진 범위 L[1]과 L[2]값이 각각 100과 101로 변경되고 일치되는 범위가 없는 102 값은 바로 다음 인덱스로 추가된다. 따라서 L = [1, 100, 101, 102, 4, 5]라는 결과값이 출력된다."
   ]
  },
  {
   "cell_type": "code",
   "execution_count": 55,
   "id": "c0661352",
   "metadata": {},
   "outputs": [
    {
     "name": "stdout",
     "output_type": "stream",
     "text": [
      "<class 'tuple'>\n"
     ]
    }
   ],
   "source": [
    "print(type((100, 101, 102)))"
   ]
  },
  {
   "cell_type": "markdown",
   "id": "cee24fe1",
   "metadata": {},
   "source": [
    "- 6)   \n",
    "        L[1:3] = [100, 101, 102]\n",
    "        print(L)"
   ]
  },
  {
   "cell_type": "code",
   "execution_count": 56,
   "id": "11127cd3",
   "metadata": {},
   "outputs": [
    {
     "name": "stdout",
     "output_type": "stream",
     "text": [
      "[1, 100, 101, 102, 4, 5]\n"
     ]
    }
   ],
   "source": [
    "L = [1, 2, 3, 4, 5]\n",
    "L[1:3] = [100, 101, 102]\n",
    "print(L)"
   ]
  },
  {
   "cell_type": "markdown",
   "id": "3f180e04",
   "metadata": {},
   "source": [
    "__[결과가 나온 이유]__  \n",
    "이번에는 우측항에 [100, 101, 102] 요소가 3개인 리스트가 주어졌다.\n",
    "리스트 역시 iterable(반복 수행이 가능한 요소) 이므로 5) 문제와 같이 좌측항에 주어진 범위 L[1]과 L[2]값이 각각 100과 101로 변경되고 일치되는 범위가 없는 102 값은 바로 다음 인덱스로 추가된다. 따라서 L = [1, 100, 101, 102, 4, 5]라는 결과값이 출력된다."
   ]
  },
  {
   "cell_type": "markdown",
   "id": "a61c376e",
   "metadata": {},
   "source": [
    "- 7)   \n",
    "        L[1:3] = [(100, 101, 102)]\n",
    "        print(L)"
   ]
  },
  {
   "cell_type": "code",
   "execution_count": 57,
   "id": "e9b906eb",
   "metadata": {},
   "outputs": [
    {
     "name": "stdout",
     "output_type": "stream",
     "text": [
      "[1, (100, 101, 102), 4, 5]\n"
     ]
    }
   ],
   "source": [
    "L = [1, 2, 3, 4, 5]\n",
    "L[1:3] = [(100, 101, 102)]\n",
    "print(L)"
   ]
  },
  {
   "cell_type": "markdown",
   "id": "027f9d27",
   "metadata": {},
   "source": [
    "__[결과가 나온 이유]__  \n",
    "이번에는 어찌보면 5)과 동일한 값이 나올 것이라고 생각할 수 있는 데 우측항에 튜플을 리스트로 감싼 값이 주어졌다. 이 경우 튜플 하나를 요소로 가지는 리스트이므로 좌측항에 주어진 범위 L[1]의 값이 (100, 101, 102) 튜플로 변경되고 L[2]는 따로 변경값이 없어 삭제된다. 따라서 L = [1, (100, 101, 102), 4, 5]라는 결과값이 출력된다."
   ]
  },
  {
   "cell_type": "markdown",
   "id": "f3ab31ae",
   "metadata": {},
   "source": [
    "- 8)   \n",
    "        L[1:3] = [[100, 101, 102]]\n",
    "        print(L)"
   ]
  },
  {
   "cell_type": "code",
   "execution_count": 58,
   "id": "9dfd6e54",
   "metadata": {},
   "outputs": [
    {
     "name": "stdout",
     "output_type": "stream",
     "text": [
      "[1, [100, 101, 102], 4, 5]\n"
     ]
    }
   ],
   "source": [
    "L = [1, 2, 3, 4, 5]\n",
    "L[1:3] = [[100, 101, 102]]\n",
    "print(L)"
   ]
  },
  {
   "cell_type": "markdown",
   "id": "96ed7914",
   "metadata": {},
   "source": [
    "__[결과가 나온 이유]__  \n",
    "6) 문제는 5) 문제와 비슷한 형태로 리스트를 리스트로 감싼 값이 주어졌다. 이 경우 리스트 하나를 요소로 가지는 리스트이므로 좌측항에 주어진 범위 L[1]의 값이 [100, 101, 102] 리스트로 변경되고 L[2]는 따로 변경값이 없어 삭제된다. 따라서 L = [1, [100, 101, 102], 4, 5]라는 결과값이 출력된다."
   ]
  },
  {
   "cell_type": "markdown",
   "id": "ee8cc885",
   "metadata": {},
   "source": [
    "#### 2. 문자열 S = 'Hello World and Python'에 대해 다음 요구사항에 대한 Python 코드를 제시하시오."
   ]
  },
  {
   "cell_type": "markdown",
   "id": "32508e88",
   "metadata": {},
   "source": [
    "- 1) 단어의 순서가 역순으로 되어진 문자열 ('Python and World Hello')을 만들고\n",
    "- 2) 1)의 결과 문자열에 대해 메소드 split과 join을 이용하여 공백을 모두 없앤 문자열 'PythonandWorldHello'을 만드시오."
   ]
  },
  {
   "cell_type": "code",
   "execution_count": 59,
   "id": "cff3f386",
   "metadata": {},
   "outputs": [
    {
     "name": "stdout",
     "output_type": "stream",
     "text": [
      "Python and World Hello\n"
     ]
    }
   ],
   "source": [
    "S = 'Hello World and Python'\n",
    "S_edit = S.split()                       # 공백을 기준으로 단어 리스트화\n",
    "S_edit.reverse()                         # 리스트내 단어 순서 뒤집기\n",
    "Result1 = \" \".join(S_edit)               # 단어 사이마다 공백을 삽입하여 문자열로 만들기\n",
    "print(Result1)                           # 1)의 결과 출력"
   ]
  },
  {
   "cell_type": "code",
   "execution_count": 60,
   "id": "9d03bf47",
   "metadata": {},
   "outputs": [
    {
     "name": "stdout",
     "output_type": "stream",
     "text": [
      "PythonandWorldHello\n"
     ]
    }
   ],
   "source": [
    "Result1_list = Result1.split(\" \")        # 공백을 기준으로 단어 리스트화\n",
    "Result2 = \"\".join(Result1_list)          # 공백없이 리스트 요소를 연결하여 문자열로 만들기\n",
    "print(Result2)                           # 2)의 결과 출력"
   ]
  },
  {
   "cell_type": "markdown",
   "id": "7d2c8cb4",
   "metadata": {},
   "source": [
    "#### 3. 다음 코드를 보고 물음에 답하시오."
   ]
  },
  {
   "cell_type": "markdown",
   "id": "8b0a3a3c",
   "metadata": {},
   "source": [
    "    a = [1, 2, 3]\n",
    "    b = a * 3\n",
    "    c = [a] * 3\n",
    "    print(b)\n",
    "    print(c)"
   ]
  },
  {
   "cell_type": "markdown",
   "id": "0b5b6cc0",
   "metadata": {},
   "source": [
    "- 1) 위 코드를 수행한 이후 다음 코드를 수행한 후 b와 c의 내용을 확인하시오.\n",
    "        a[0]=0"
   ]
  },
  {
   "cell_type": "code",
   "execution_count": 61,
   "id": "78f8ad70",
   "metadata": {},
   "outputs": [
    {
     "name": "stdout",
     "output_type": "stream",
     "text": [
      "[1, 2, 3, 1, 2, 3, 1, 2, 3]\n",
      "[[1, 2, 3], [1, 2, 3], [1, 2, 3]]\n"
     ]
    }
   ],
   "source": [
    "a = [1, 2, 3]\n",
    "b = a * 3   # 깊은 복사\n",
    "c = [a] * 3 # 얕은 복사\n",
    "print(b)\n",
    "print(c)"
   ]
  },
  {
   "cell_type": "code",
   "execution_count": 62,
   "id": "b4e68c74",
   "metadata": {
    "scrolled": true
   },
   "outputs": [
    {
     "name": "stdout",
     "output_type": "stream",
     "text": [
      "[1, 2, 3, 1, 2, 3, 1, 2, 3]\n",
      "[[0, 2, 3], [0, 2, 3], [0, 2, 3]]\n"
     ]
    }
   ],
   "source": [
    "a[0]=0\n",
    "print(b)\n",
    "print(c)"
   ]
  },
  {
   "cell_type": "markdown",
   "id": "c379e37e",
   "metadata": {},
   "source": [
    "- 2) b와 c 객체의 차이는 무엇인가?"
   ]
  },
  {
   "cell_type": "markdown",
   "id": "818c24c8",
   "metadata": {},
   "source": [
    "b는 깊은 복사(Deep Copy)로 참조값의 복사가 아닌 참조된 객체 자체를 복사함으로써 1) 수행 전후 값의 변화가 없고,  \n",
    "c는 얕은 복사(Shallow Copy)로 참조값의 복사로 원본 객체의 주소값을 복사함으로써 원본 객체인 a의 값이 변경됨에 따라 해당 값도 변경이 된다."
   ]
  },
  {
   "cell_type": "markdown",
   "id": "88ff2d50",
   "metadata": {},
   "source": [
    "#### 4. 다음 문자열 ':'을 기준으로 분리하여 리스트를 만들고 각 문자열의 좌우 공백을 제거하시오. (즉, 문자열 S에서 I을 만들어라.)"
   ]
  },
  {
   "cell_type": "markdown",
   "id": "ef77133e",
   "metadata": {},
   "source": [
    "    s = '  first star  :  second star  :  third star  '\n",
    "    I = ['first star', 'second star', 'third star']"
   ]
  },
  {
   "cell_type": "markdown",
   "id": "3c17ecc5",
   "metadata": {},
   "source": [
    "- 1) for ~ in 문을 이용한 코드를 작성하시오.\n",
    "- 2) 리스트 내포(list comprehension)를 이용한 코드를 작성하시오."
   ]
  },
  {
   "cell_type": "code",
   "execution_count": 63,
   "id": "f757ad34",
   "metadata": {},
   "outputs": [
    {
     "name": "stdout",
     "output_type": "stream",
     "text": [
      "['first star', 'second star', 'third star']\n"
     ]
    }
   ],
   "source": [
    "# 1) for ~ in문 이용 시\n",
    "s = '  first star  : second star  :  third star  '\n",
    "s_split = s.split(\":\")\n",
    "\n",
    "I = []\n",
    "for word in s_split:\n",
    "    I.append(word.strip())\n",
    "\n",
    "print(I)"
   ]
  },
  {
   "cell_type": "code",
   "execution_count": 64,
   "id": "99bdd4f2",
   "metadata": {},
   "outputs": [
    {
     "name": "stdout",
     "output_type": "stream",
     "text": [
      "['first star', 'second star', 'third star']\n"
     ]
    }
   ],
   "source": [
    "# 2) 리스트 내포 이용 시\n",
    "s = '  first star  : second star  :  third star  '\n",
    "s_split = s.split(\":\")\n",
    "\n",
    "I = [word.strip() for word in s_split]\n",
    "print(I)"
   ]
  },
  {
   "cell_type": "markdown",
   "id": "17b72bca",
   "metadata": {},
   "source": [
    "#### 5. 다음과 같이 0보다 큰 정수 리스트 변수 list를 인자로 받는 함수 addall(list)와 addallodd(list)를 for~in 리터럴과 리스트 내포 방식으로 각각 제시하시오."
   ]
  },
  {
   "cell_type": "markdown",
   "id": "bbaf3d76",
   "metadata": {},
   "source": [
    "- [참고 1]: 리스트 내포 방식으로 addall() 및 addallodd()함수를 만들 때엔 리스트 내포에 의해 생성된 리스트 결과에 대해 내장 함수를 사용하는 방식을 고려해보시오. (주의: 리스트 내포 방식의 addall() 및 addallodd() 함수의 몸체는 단 1줄로 작성되어야 한다.)\n",
    "- [참고 2]: sum() 등의 내장함수 사용 가능함"
   ]
  },
  {
   "cell_type": "markdown",
   "id": "8d3fd5c0",
   "metadata": {},
   "source": [
    "- 1) addall(list)함수 (리스트 내의 모든 정수를 더하는 함수로서 해답으로는 for ~ in 리터럴과 리스트 내포 방식으로 각각 제시하시오.)\n",
    "    - <pre>>>> addall([1])\n",
    "          1</pre>\n",
    "    - <pre>>>> addall([1, 2, 3, 4, 5, 6, 7, 8, 9])\n",
    "          45</pre>"
   ]
  },
  {
   "cell_type": "code",
   "execution_count": 65,
   "id": "97e3567c",
   "metadata": {},
   "outputs": [],
   "source": [
    "# 1. for ~ in 리터럴 방식\n",
    "def addall(list):\n",
    "    sum = 0 # == for sum in range(1): 와 같다.\n",
    "    for num in list:\n",
    "        sum += num\n",
    "    return sum"
   ]
  },
  {
   "cell_type": "code",
   "execution_count": 66,
   "id": "e5ba3efc",
   "metadata": {},
   "outputs": [
    {
     "data": {
      "text/plain": [
       "1"
      ]
     },
     "execution_count": 66,
     "metadata": {},
     "output_type": "execute_result"
    }
   ],
   "source": [
    "addall([1])"
   ]
  },
  {
   "cell_type": "code",
   "execution_count": 67,
   "id": "245f621a",
   "metadata": {},
   "outputs": [
    {
     "data": {
      "text/plain": [
       "45"
      ]
     },
     "execution_count": 67,
     "metadata": {},
     "output_type": "execute_result"
    }
   ],
   "source": [
    "addall([1, 2, 3, 4, 5, 6, 7, 8, 9])"
   ]
  },
  {
   "cell_type": "code",
   "execution_count": 68,
   "id": "625e8ddf",
   "metadata": {},
   "outputs": [],
   "source": [
    "# 2. 리스트 내포 방식\n",
    "def addall(list): return sum([num for num in list])"
   ]
  },
  {
   "cell_type": "code",
   "execution_count": 69,
   "id": "d192dde7",
   "metadata": {},
   "outputs": [
    {
     "data": {
      "text/plain": [
       "1"
      ]
     },
     "execution_count": 69,
     "metadata": {},
     "output_type": "execute_result"
    }
   ],
   "source": [
    "addall([1])"
   ]
  },
  {
   "cell_type": "code",
   "execution_count": 70,
   "id": "218222d4",
   "metadata": {},
   "outputs": [
    {
     "data": {
      "text/plain": [
       "45"
      ]
     },
     "execution_count": 70,
     "metadata": {},
     "output_type": "execute_result"
    }
   ],
   "source": [
    "addall([1, 2, 3, 4, 5, 6, 7, 8, 9])"
   ]
  },
  {
   "cell_type": "markdown",
   "id": "3845eb5e",
   "metadata": {},
   "source": [
    "- 2) addallodd(list) 함수 (리스트내의 모든 홀수를 더하는 함수로서 해답으로는 for ~ in 리터럴과 리스트 내포 방식으로 각각 제시하시오.)\n",
    "    - <pre>>>> addallodd([1])\n",
    "          1</pre>\n",
    "    - <pre>>>> addallodd([1, 2, 3, 4, 5, 6, 7, 8, 9])\n",
    "          25</pre>"
   ]
  },
  {
   "cell_type": "code",
   "execution_count": 71,
   "id": "0e135b70",
   "metadata": {},
   "outputs": [],
   "source": [
    "# 1. for ~ in 리터럴 방식\n",
    "def addallodd(list):\n",
    "    sum = 0\n",
    "    for num in list:\n",
    "        if num%2: # 0: False, 1: True\n",
    "            sum+=num\n",
    "    return sum"
   ]
  },
  {
   "cell_type": "code",
   "execution_count": 72,
   "id": "5acd4d48",
   "metadata": {},
   "outputs": [
    {
     "data": {
      "text/plain": [
       "1"
      ]
     },
     "execution_count": 72,
     "metadata": {},
     "output_type": "execute_result"
    }
   ],
   "source": [
    "addallodd([1])"
   ]
  },
  {
   "cell_type": "code",
   "execution_count": 73,
   "id": "3c20ea73",
   "metadata": {},
   "outputs": [
    {
     "data": {
      "text/plain": [
       "25"
      ]
     },
     "execution_count": 73,
     "metadata": {},
     "output_type": "execute_result"
    }
   ],
   "source": [
    "addallodd([1, 2, 3, 4, 5, 6, 7, 8, 9])"
   ]
  },
  {
   "cell_type": "code",
   "execution_count": 74,
   "id": "3e483daa",
   "metadata": {},
   "outputs": [],
   "source": [
    "# 2. 리스트 내포 방식\n",
    "def addallodd(list): return sum([num for num in list if num%2])"
   ]
  },
  {
   "cell_type": "code",
   "execution_count": 75,
   "id": "03a7680d",
   "metadata": {},
   "outputs": [
    {
     "data": {
      "text/plain": [
       "1"
      ]
     },
     "execution_count": 75,
     "metadata": {},
     "output_type": "execute_result"
    }
   ],
   "source": [
    "addallodd([1])"
   ]
  },
  {
   "cell_type": "code",
   "execution_count": 76,
   "id": "47b0b4c1",
   "metadata": {},
   "outputs": [
    {
     "data": {
      "text/plain": [
       "25"
      ]
     },
     "execution_count": 76,
     "metadata": {},
     "output_type": "execute_result"
    }
   ],
   "source": [
    "addallodd([1, 2, 3, 4, 5, 6, 7, 8, 9])"
   ]
  },
  {
   "cell_type": "markdown",
   "id": "133961d5",
   "metadata": {},
   "source": [
    "#### 6. 다음 코드를 보고 물음에 답하시오."
   ]
  },
  {
   "cell_type": "markdown",
   "id": "7aef1ddc",
   "metadata": {},
   "source": [
    "    L1 = [1, 2, 3]\n",
    "    L2 = [4, 5, 6]\n",
    "    d = {'low':L1, 'high':L2}\n",
    "    e = d\n",
    "    f = d.copy()\n",
    "    print(d)\n",
    "    print(e)\n",
    "    print(f)\n",
    "    print()\n",
    "    d['low'] = [10, 20, 30]\n",
    "    d['high'][1] = 500\n",
    "    print(d)\n",
    "    print(e)\n",
    "    print(f)"
   ]
  },
  {
   "cell_type": "code",
   "execution_count": 77,
   "id": "e1cc7aa1",
   "metadata": {},
   "outputs": [
    {
     "name": "stdout",
     "output_type": "stream",
     "text": [
      "{'low': [1, 2, 3], 'high': [4, 5, 6]}\n",
      "{'low': [1, 2, 3], 'high': [4, 5, 6]}\n",
      "{'low': [1, 2, 3], 'high': [4, 5, 6]}\n",
      "\n",
      "{'low': [10, 20, 30], 'high': [4, 500, 6]}\n",
      "{'low': [10, 20, 30], 'high': [4, 500, 6]}\n",
      "{'low': [1, 2, 3], 'high': [4, 500, 6]}\n"
     ]
    }
   ],
   "source": [
    "L1 = [1, 2, 3]\n",
    "L2 = [4, 5, 6]\n",
    "d = {'low':L1, 'high':L2}\n",
    "e = d\n",
    "f = d.copy()\n",
    "print(d)\n",
    "print(e)\n",
    "print(f)\n",
    "print()\n",
    "d['low'] = [10, 20, 30]\n",
    "d['high'][1] = 500\n",
    "print(d)\n",
    "print(e)\n",
    "print(f)"
   ]
  },
  {
   "cell_type": "markdown",
   "id": "0d5f5006",
   "metadata": {},
   "source": [
    "- 1) 위 코드의 수행 결과 d와 e는 항상 같은 결과를 출력한다. 그 이유는 무엇인가?"
   ]
  },
  {
   "cell_type": "markdown",
   "id": "7a87307a",
   "metadata": {},
   "source": [
    "__[이유]__   \n",
    "e = d 라는 문장을 통해 e는 d의 값을 얕은 복사(Shallow copy) 했다.   \n",
    "즉, 참조값의 복사로 원본 객체인 d가 변경됨에 따라 해당 주소의 값을 가리키는 e도 동일하게 변경된다."
   ]
  },
  {
   "cell_type": "markdown",
   "id": "fee3904a",
   "metadata": {},
   "source": [
    "- 2) 위 코드의 수행 결과 마지막 f의 내용은 다음과 같다. 이 때 'high'키의 값 내용 중 500이 출력된 이유와 'low'키의 값 내용 중 [1, 2, 3]이 출력된 이유를 설명하시오([hint]: shallow copy 관점에서 설명하시오.)   \n",
    "        {'high': [4, 500, 6], 'low': [1, 2, 3]}"
   ]
  },
  {
   "cell_type": "markdown",
   "id": "e44a45b4",
   "metadata": {},
   "source": [
    "__['high'키의 값 내용 중 500이 출력된 이유]__   \n",
    "우선 f = d.copy()로 딕셔너리가 얕은 복사(shallow copy)된 상태이다. 따라서, 딕셔너리 f의 값은 원본 객체인 딕셔너리 d의 주소를 가리키면서 값을 서로 공유하고 있다. 그런데 여기서 딕셔너리 d가 키의 값 내용으로 리스트를 가지고 있으므로 해당 요소값을 서로 공유한다. 이는 딕셔너리 d에 키의 값 내용이 변경되면 f 역시 변경됨을 의미한다. 따라서 d['high'][1] = 500로 인해 d뿐만 아니라 f도 값이 변경되어 출력된다."
   ]
  },
  {
   "cell_type": "markdown",
   "id": "8feb13dc",
   "metadata": {},
   "source": [
    "__['low'키의 값 내용 중 [1, 2, 3]이 출력된 이유]__   \n",
    "우선 f = d.copy()로 딕셔너리가 얕은 복사(shallow copy)된 상태이다. 따라서 이는 딕셔너리 안에 리스트의 요소값을 공유한다는 것을 의미한다. 따라서 d['high][1] = 500과 같이 리스트 안의 요소값에 레퍼런스를 변경하는 것은 영향을 주더라도, d['low'] = [10, 20, 30]과 같이 리스트 자체의 레퍼런스를 변경하는 것은 f에 영향을 주지 않는다."
   ]
  },
  {
   "cell_type": "markdown",
   "id": "b9cd73c8",
   "metadata": {},
   "source": [
    "#### 7. 사전 d = {'one':1, 'two':2, 'three':3, 'four':4, 'five':5}가 주어졌을 때 다음 요구사항에 맞는 코드를 제시하시오."
   ]
  },
  {
   "cell_type": "markdown",
   "id": "7ac8e64c",
   "metadata": {},
   "source": [
    "- [참고]: d.keys(), d.values()를 통해 리스트를 얻어낸 후 리스트가 지니고 있는 sort(cmp=None, key=None, reverse=False)함수를 활용하시오.\n",
    "- 1) 키의 알파벳 오름차순 순서대로 튜플 (키, 값)을 차례대로 출력하시오.\n",
    "- 2) 키의 알파벳 내림차순 순서대로 튜플 (키, 값)을 차례대로 출력하시오.\n",
    "- 3) 값의 오름차순 순서대로 튜플(키, 값)을 차례대로 출력하시오.\n",
    "- 4) 값의 내림차순 순서대로 튜플(키, 값)을 차례대로 출력하시오."
   ]
  },
  {
   "cell_type": "code",
   "execution_count": 173,
   "id": "677aecfd",
   "metadata": {},
   "outputs": [],
   "source": [
    "d = {'one':1, 'two':2, 'three':3, 'four':4, 'five':5}"
   ]
  },
  {
   "cell_type": "code",
   "execution_count": 245,
   "id": "9d7367bd",
   "metadata": {},
   "outputs": [
    {
     "data": {
      "text/plain": [
       "[('five', 5), ('four', 4), ('one', 1), ('three', 3), ('two', 2)]"
      ]
     },
     "execution_count": 245,
     "metadata": {},
     "output_type": "execute_result"
    }
   ],
   "source": [
    "# 1) 키의 알파벳 오름차순 순서대로 튜플 (키, 값을) 차례대로 출력하시오.\n",
    "def keyAlphaAscending(dict):\n",
    "    keyList = [i for i in dict.keys()]\n",
    "    keyList.sort() # 오름차순 정렬\n",
    "    tupleList = []\n",
    "    for key in keyList:\n",
    "        tupleList.append((key, d[key]))\n",
    "    return tupleList\n",
    "keyAlphaAscending(d) # 키의 알파벳 오름차순으로 출력"
   ]
  },
  {
   "cell_type": "code",
   "execution_count": 246,
   "id": "fbfd835a",
   "metadata": {},
   "outputs": [
    {
     "data": {
      "text/plain": [
       "[('two', 2), ('three', 3), ('one', 1), ('four', 4), ('five', 5)]"
      ]
     },
     "execution_count": 246,
     "metadata": {},
     "output_type": "execute_result"
    }
   ],
   "source": [
    "# 2) 키의 알파벳 내림차순 순서대로 튜플 (키, 값을) 차례대로 출력하시오.\n",
    "def keyAlphaDescending(dict):\n",
    "    keyList = [i for i in dict.keys()]\n",
    "    keyList.sort(reverse=True) # 내림차순 정렬\n",
    "    tupleList = []\n",
    "    for key in keyList:\n",
    "        tupleList.append((key, d[key]))\n",
    "    return tupleList\n",
    "keyAlphaDescending(d) # 키의 알파벳 내림차순으로 출력"
   ]
  },
  {
   "cell_type": "code",
   "execution_count": 247,
   "id": "be8eb0b4",
   "metadata": {},
   "outputs": [
    {
     "data": {
      "text/plain": [
       "[('one', 1), ('two', 2), ('three', 3), ('four', 4), ('five', 5)]"
      ]
     },
     "execution_count": 247,
     "metadata": {},
     "output_type": "execute_result"
    }
   ],
   "source": [
    "# 3) 값의 오름차순 순서대로 튜플 (키, 값을) 차례대로 출력하시오.\n",
    "def valueAscending(dict):\n",
    "    valueList = [i for i in dict.values()]\n",
    "    valueList.sort() # 오름차순 정렬\n",
    "    tupleList = []\n",
    "    for findValue in valueList:\n",
    "        for key, value in dict.items():\n",
    "            if value == findValue:\n",
    "                tupleList.append((key, value))\n",
    "    return tupleList\n",
    "valueAscending(d) # 값의 오름차순으로 출력"
   ]
  },
  {
   "cell_type": "code",
   "execution_count": 248,
   "id": "95626325",
   "metadata": {},
   "outputs": [
    {
     "data": {
      "text/plain": [
       "[('five', 5), ('four', 4), ('three', 3), ('two', 2), ('one', 1)]"
      ]
     },
     "execution_count": 248,
     "metadata": {},
     "output_type": "execute_result"
    }
   ],
   "source": [
    "# 4) 값의 내림차순 순서대로 튜플 (키, 값을) 차례대로 출력하시오.\n",
    "def valueDescending(dict):\n",
    "    valueList = [i for i in dict.values()]\n",
    "    valueList.sort(reverse=True) # 내림차순 정렬\n",
    "    tupleList = []    \n",
    "    for findValue in valueList:\n",
    "        for key, value in dict.items():\n",
    "            if value == findValue:\n",
    "                tupleList.append((key, value))\n",
    "    return tupleList\n",
    "valueDescending(d) # 값의 내림차순으로 출력"
   ]
  },
  {
   "cell_type": "markdown",
   "id": "80eea4a6",
   "metadata": {},
   "source": [
    "#### 8. 다음 문제를 정확히 읽고 적합한 코딩을 제시하시오."
   ]
  },
  {
   "cell_type": "markdown",
   "id": "c8784e4d",
   "metadata": {},
   "source": [
    "- __length(X)__ 를 다음과 같이 정의한다. 10진수로 표현된 X의 자릿수\n",
    "- __Strange__ 라는 숫자를 아래와 같이 정의한다.\n",
    "    - 음이 아닌 정수 중 자릿수가 1인 모든 숫자는 __Strange__ 이다.\n",
    "    - __length(X)__ > 1 인 숫자 X는 다음 2가지를 만족하면 __Strange__ 이다.\n",
    "        - X는 __length(X)__ 로 정확히 나누어 떨어진다.\n",
    "        - X / length(X)가 __strange__ 이다.\n",
    "- 이 문제에서 숫자 하나가 주어질 때, 이 숫자가 Strange인지 판단하는 함수 isStrange(num)을 작성하시오.\n",
    "- isStrange(num) 함수가 재귀적인 함수가 되도록 작성해 보세요."
   ]
  },
  {
   "cell_type": "code",
   "execution_count": 78,
   "id": "4df18f59",
   "metadata": {},
   "outputs": [],
   "source": [
    "# 1. 10진수로 표현된 X의 자릿수를 구하는 length(X) 함수 정의\n",
    "def length(X): \n",
    "    if X < 0: # 음의 정수를 입력한 경우\n",
    "        return -1\n",
    "    elif X == 0: # 0을 입력한 경우\n",
    "        return 0\n",
    "    else: # 양의 정수를 입력한 경우\n",
    "        while(X != 0):\n",
    "            return 1+length(X//10)\n",
    "\n",
    "# 2. 문제에서 요구한 isStrange(num) 함수 정의\n",
    "def isStrange(num):\n",
    "    strangeList = [strange for strange in range(10)] # 음이 아닌 정수 중 자릿수가 1인 모든 숫자는 Strange\n",
    "    if length(num) > 1:                              # 자릿 수가 1보다 큰 경우\n",
    "        if num % length(num) == 0:                   # 조건1. 정확히 나누어 떨어지는 경우\n",
    "            if num / length(num):                     # 나누어 떨어지는 경우\n",
    "                return isStrange(num / length(num))  # 더 이상 나누어 떨어지지 않을 때까지 반복\n",
    "            elif num / length(num) in strangeList:   # 조건2. 몫이 strange에 속하는 경우\n",
    "                return True                         # True 반환\n",
    "            else:                                    # 몫이 strange에 속하지 않는 경우\n",
    "                return False                        # False 반환\n",
    "        else:                                        # 조건1을 만족하지 않는 경우\n",
    "            return False                            # False 반환\n",
    "    elif length(num) == -1:                          # 음의 정수를 입력한 경우\n",
    "        return print(\"음의 정수가 아닌 정수를 입력해주세요.\")\n",
    "    else:                                             # 자릿수가 1인 경우 \n",
    "        return True                                  # True 반환"
   ]
  },
  {
   "cell_type": "markdown",
   "id": "717682e8",
   "metadata": {},
   "source": [
    "- [예시]\n",
    "        1. num = 0                   =>    True\n",
    "        2. num = 56                  =>    True\n",
    "        3. num = 100                 =>    False\n",
    "        4. num = 7882602506492313600 =>    True\n",
    "        5. num = 6012302549522098651 =>    False"
   ]
  },
  {
   "cell_type": "code",
   "execution_count": 79,
   "id": "81350360",
   "metadata": {
    "scrolled": true
   },
   "outputs": [
    {
     "name": "stdout",
     "output_type": "stream",
     "text": [
      "음의 정수가 아닌 정수를 입력해주세요.\n"
     ]
    }
   ],
   "source": [
    "isStrange(-50)"
   ]
  },
  {
   "cell_type": "code",
   "execution_count": 80,
   "id": "f4bce461",
   "metadata": {},
   "outputs": [
    {
     "data": {
      "text/plain": [
       "True"
      ]
     },
     "execution_count": 80,
     "metadata": {},
     "output_type": "execute_result"
    }
   ],
   "source": [
    "isStrange(0)"
   ]
  },
  {
   "cell_type": "code",
   "execution_count": 81,
   "id": "eb5a0d56",
   "metadata": {},
   "outputs": [
    {
     "data": {
      "text/plain": [
       "True"
      ]
     },
     "execution_count": 81,
     "metadata": {},
     "output_type": "execute_result"
    }
   ],
   "source": [
    "isStrange(56)"
   ]
  },
  {
   "cell_type": "code",
   "execution_count": 82,
   "id": "be600b6d",
   "metadata": {},
   "outputs": [
    {
     "data": {
      "text/plain": [
       "False"
      ]
     },
     "execution_count": 82,
     "metadata": {},
     "output_type": "execute_result"
    }
   ],
   "source": [
    "isStrange(100)"
   ]
  },
  {
   "cell_type": "code",
   "execution_count": 83,
   "id": "dfc8d7a1",
   "metadata": {},
   "outputs": [
    {
     "data": {
      "text/plain": [
       "True"
      ]
     },
     "execution_count": 83,
     "metadata": {},
     "output_type": "execute_result"
    }
   ],
   "source": [
    "isStrange(7882602506492313600)"
   ]
  },
  {
   "cell_type": "code",
   "execution_count": 84,
   "id": "5076c5c5",
   "metadata": {},
   "outputs": [
    {
     "data": {
      "text/plain": [
       "False"
      ]
     },
     "execution_count": 84,
     "metadata": {},
     "output_type": "execute_result"
    }
   ],
   "source": [
    "isStrange(6012302549522098651)"
   ]
  },
  {
   "cell_type": "markdown",
   "id": "adf5b3a3",
   "metadata": {},
   "source": [
    "#### 9. 다음 문제를 정확히 읽고 적합한 코딩을 제시하시오."
   ]
  },
  {
   "cell_type": "markdown",
   "id": "ad6ba7c5",
   "metadata": {},
   "source": [
    "- 1번 그룹, 2번 그룹, ... n번 그룹으로 번호가 매겨진 총 n개의 그룹이 존재하고, i<sup>th</sup> 그룹에는 임의의 팀원 수 a<sub>i</sub> 명이 있다.\n",
    "하나의 버스 정류장이 있고, 버스는 오직 한 대만 운영한다. 버스는 버스 정류장에 도착하고 모든 그룹은 버스를 통해 여행하길 원한다.   \n",
    "하지만, 같은 그룹에 속한 팀원들은 분리되기를 원치 않는다. 그래서 그룹의 모든 팀원이 탈 수 있을 때 에만 그 그룹은 버스에 탑승한다.   \n",
    "또한, 이들은 그룹의 번호순으로 여행을 하길 원한다. 예를 들어, 3번 그룹은 1번 그룹과 2번 그룹이 여행을 한 뒤에 버스를 탈 수 있거나, 1번 그룹과 2번 그룹이 이미 버스에 탑승한 상태에 있을 때 동시에 버스를 탈 수 있다.   \n",
    "마지막으로, 버스는 빈 좌석이 없을 때 에만 여행을 떠난다.\n",
    "\n",
    "- 이 문제에서 각 그룹의 팀원 수가 리스트로 주어질 때, 가능한 모든 버스의 사이즈 x(x명의 사람들이 동시에 탈 수 있음)를 반환하는 함수 solve(a) 를 작성하시오.\n",
    "- [주의] 반드시 계산 복잡도를 최대한 낮추세요. 아래 예시 3번을 실행했을 때 결과가 바로 나타날 수 있도록!!"
   ]
  },
  {
   "cell_type": "code",
   "execution_count": 85,
   "id": "e39a1291",
   "metadata": {},
   "outputs": [],
   "source": [
    "def solve(a):\n",
    "    busList = []       # 최종 리스트\n",
    "    divisorList = []   # 약수 리스트\n",
    "    sum_value = sum(a) # 리스트의 총합\n",
    "    passenger = 0      # 승객 초기값\n",
    "    \n",
    "    # 1. 입력된 리스트의 총합에 대한 약수 리스트 구하기\n",
    "    for num in range(1, int((sum_value)**(1/2)+1)): \n",
    "        if sum_value % num == 0:            # 약수 조건 만족시\n",
    "            divisorList.append(num)          # 약수 리스트에 추가\n",
    "            if (num != (sum_value // num)): # 해당 약수의 짝이 되는 약수 추가\n",
    "                                             # 이 때, 7*7=49 처럼 동일한 값을 넣지 않기 위해 검사 진행\n",
    "                     divisorList.append(sum_value // num)\n",
    "                    \n",
    "    # 2. 약수 리스트 오름차순 정렬\n",
    "    divisorList.sort()\n",
    "    \n",
    "    # 3. 가능한 버스 크기 구하기\n",
    "    for busSize in divisorList:             # 모든 약수 리스트를 대입\n",
    "        for group in range(len(a)):         # 입력된 리스트의 각 요소를 버스에 탑승\n",
    "            passenger += a[group]\n",
    "            if busSize == passenger:        # 버스의 크기와 탑승객이 일치한다면\n",
    "                passenger = 0               # 해당 버스는 출발, 새로운 버스가 오므로 탑승객 초기화\n",
    "                if group == (len(a)-1):    # 이 때 마지막 그룹이라면\n",
    "                    busList.append(busSize) # 해당 버스의 크기를 버스 리스트에 추가\n",
    "            elif busSize < passenger:      # 버스의 크기보다 탑승객수가 많아질 경우\n",
    "                passenger = 0              # 탑승객을 초기화하고\n",
    "                break                     # 해당 반복문은 종료\n",
    "                \n",
    "    # 4. 최종 리스트 출력\n",
    "    return busList"
   ]
  },
  {
   "cell_type": "markdown",
   "id": "e73e6e7b",
   "metadata": {},
   "source": [
    "- [예시]\n",
    "        1. a = [1, 2, 1, 1, 1, 2, 1, 3]    =>    [3, 4, 6, 12]\n",
    "        2. a = [1, 1, 1, 1]                =>    [1, 2, 4]\n",
    "        3. a = [9999] * 10**5              =>    \n",
    "[9999,19998,39996,49995,79992,99990,159984,199980,249975,319968,399960,499950,799920,999900,   1249875,1599840,1999800,2499750,3999600,4999500,6249375,7999200,9999000,12498750,19998000,   24997500,31246875,39996000,49995000,62493750,99990000,124987500,199980000,249975000,499950000,   999900000]"
   ]
  },
  {
   "cell_type": "code",
   "execution_count": 86,
   "id": "0db77a26",
   "metadata": {},
   "outputs": [
    {
     "name": "stdout",
     "output_type": "stream",
     "text": [
      "[3, 4, 6, 12]\n"
     ]
    }
   ],
   "source": [
    "a = [1, 2, 1, 1, 1, 2, 1, 3]\n",
    "print(solve(a))"
   ]
  },
  {
   "cell_type": "code",
   "execution_count": 87,
   "id": "fee04842",
   "metadata": {},
   "outputs": [
    {
     "name": "stdout",
     "output_type": "stream",
     "text": [
      "[1, 2, 4]\n"
     ]
    }
   ],
   "source": [
    "a = [1, 1, 1, 1]\n",
    "print(solve(a))"
   ]
  },
  {
   "cell_type": "code",
   "execution_count": 88,
   "id": "6de50184",
   "metadata": {},
   "outputs": [
    {
     "name": "stdout",
     "output_type": "stream",
     "text": [
      "[9999, 19998, 39996, 49995, 79992, 99990, 159984, 199980, 249975, 319968, 399960, 499950, 799920, 999900, 1249875, 1599840, 1999800, 2499750, 3999600, 4999500, 6249375, 7999200, 9999000, 12498750, 19998000, 24997500, 31246875, 39996000, 49995000, 62493750, 99990000, 124987500, 199980000, 249975000, 499950000, 999900000]\n"
     ]
    }
   ],
   "source": [
    "a = [9999] * 10**5\n",
    "print(solve(a))"
   ]
  },
  {
   "cell_type": "markdown",
   "id": "4b3314d9",
   "metadata": {},
   "source": [
    "## [Incremental Project 문제]"
   ]
  },
  {
   "cell_type": "markdown",
   "id": "bdb29f75",
   "metadata": {},
   "source": [
    "#### 이전 Assignment2의 마지막 문제는 웹 URL로 지정된 웹페이지를 문자열로 가져와 모든 HTML 태그를 제외한 순수 텍스트를 얻어내고 그 안에 존재하는 단어를 추출하고 단어들의 총 개수를 출력하는 프로그램을 작성하는 것이었다. 이번에는 그 마지막 숙제를 그대로 확장하여 웹 URL로 지정된 웹페이지 내 순수 텍스트 안에 존재하는 각 단어들에 대해 다음 요구사항 대로 출력하는 프로그램을 작성하시오."
   ]
  },
  {
   "cell_type": "markdown",
   "id": "860a1c83",
   "metadata": {},
   "source": [
    "- 요구사항 1. CSS와 Javascript 내용도 모두 제거하시오(이전 숙제에서 제외하였다면 본 요구사항 무시)\n",
    "    - 즉, 아래와 같은 코드는 <style\\> 및 <script\\>태그 뿐만 아니라 그 안의 내용 전체를 모두 제거   \n",
    "           \n",
    "            <style\\>   \n",
    "            h1 {   \n",
    "              color: blue;\n",
    "            }   \n",
    "            </style\\>   \n",
    "            <script\\>   \n",
    "            int a = 10;   \n",
    "            ...   \n",
    "            </script\\>                 \n",
    "- 요구사항 2. 순수 텍스트 안에 존재하는 단어들에 대해 string 모듈을 활용하여 모든 punctuation (구두문자)를 완벽히 제거하시오.\n",
    "    - 예: ['world!', ':', '+hello+', '~python$$$', '=', 'world'] ---> ['world', 'hello', 'python', 'world']\n",
    "    - 모든 punctuation을 확인하는 방법은 아래와 같다.   \n",
    "<pre>import string\n",
    "print(string.punctuation)</pre>\n",
    "- 요구사항 3. 만약 punctuation (구두문자)를 제거한 이후 공백으로 판명되는 단어들은 해당 단어 리스크에서 제거하시오.\n",
    "    - 예: ['컴퓨터공학부!', '---?', '%지향~', '...'] ---> ['컴퓨터공학부', '', '지향', ''] ---> ['컴퓨터공학부', '지향']\n",
    "- 요구사항 4. 각 단어들의 출현빈도를 사전형태로 출력하시오.\n",
    "    - 예: ['world', 'hello', 'python', 'world', '컴퓨터공학부', '지향'] ---> {'world': 2, 'hello': 1, 'python': 1, '컴퓨터공학부': 1, '지향': 1}\n",
    "- 요구사항 5. 다음 5개의 사이트에 대한 단어 출현빈도를 출력하시오.\n",
    "    - http://cse.koreatech.ac.kr\n",
    "    - https://www.koreatech.ac.kr\n",
    "    - http://www.naver.com\n",
    "    - http://www.daum.net\n",
    "    - http://www.nytimes.com"
   ]
  },
  {
   "cell_type": "code",
   "execution_count": 40,
   "id": "71e9e22b",
   "metadata": {},
   "outputs": [],
   "source": [
    "import requests # html 소스를 가져오기 위해 삽입\n",
    "import html # html escape 문자 변환을 위해 삽입\n",
    "import string # punctuation(구두문자) 제거를 위해 삽입\n",
    "\n",
    "\"\"\"\n",
    "[참고사항]\n",
    "requests를 사용하여 html 소스를 가져오면 request에서 자동으로 HTTP 헤더를 통해 데이터를 인코딩해준다.\n",
    "그런데 여기서, 유니코드 인코딩'UTF-8', 한글 인코딩'ecu-kr' 인 경우 한글이 깨지지 않지만,\n",
    "Google과 같이 영문 인코딩 'ISO-8859-1'인 경우 한글이 깨지는 문제가 발생한다.\n",
    "\n",
    "따라서 아래와 같이 이 경우에는 아래와 같이 endcoding 값을 직접 지정해준뒤 .text파일로 읽어내면 해결될 것\n",
    "같았으나, Google의 경우 이렇게 해서는 해결되지 않았다. 결국, 크로스 사이트 스크립팅 공격을 방지하기 위해 \n",
    "escape된 것이라 추측, html의 unescape 함수로 문자열 변환을 통해 해결했다.\n",
    "\"\"\"\n",
    "\n",
    "# 사이트 주소 검사 1: request시 에러 검사\n",
    "def requestURL(url): \n",
    "    try:\n",
    "        req = requests.get(url, verify=False) # html 소스 가져오기\n",
    "                                               # https:// 사이트 소스를 가져올 때 SSLError 발생을 방지하고자\n",
    "                                               # SSL 인증서 확인 과정 생략(verify=False)\n",
    "    except:\n",
    "        print(\"사이트 주소가 잘못되었습니다. 확인해주세요.\")\n",
    "        return False\n",
    "    return req\n",
    "\n",
    "# 사이트 주소 검사 2: 응답/요청 검사\n",
    "def siteCheck(request): \n",
    "    if request.ok: # raise_for_status()로 응답/요청 검사 \n",
    "        print(\"사이트 주소가 정상입니다.\") # 사이트 주소가 올바른 경우 \n",
    "    else:\n",
    "        print(\"사이트 주소가 잘못되었습니다. 확인해주세요.\") # 사이트 주소가 틀린 경우\n",
    "        print(\"에러코드: {}, 에러명: {}\".format(request.status_code, request.reason))\n",
    "\n",
    "# 인코딩이 Unicode, euc-kr 인지 검사\n",
    "def encodingCheck(request): \n",
    "    encodingValue = request.encoding # 인코딩값 가져와 저장\n",
    "    encodingValue = encodingValue.lower() # 대문자인 경우가 있으므로 소문자로 변환\n",
    "    if encodingValue != 'utf-8' and encodingValue != 'euc-kr': # 한글 인코딩이 아닌 경우\n",
    "        return True # 소스 변환이 필요하다.\n",
    "    return False # 소스 변환이 필요없다.\n",
    "\n",
    "# 소스 처리 과정\n",
    "def sourceProcess(request):\n",
    "    siteCheck(request)    # 사이트 주소가 올바른지 검사\n",
    "    source = request.text # .text는 encoding 속성을 이용해 바이트코드를 문자열로 디코딩한다.\n",
    "    if encodingCheck(request): # 한글 인코딩이 아닌 경우 unescape로 문자를 변환한다.\n",
    "        source = html.unescape(source)\n",
    "        return source\n",
    "    else:\n",
    "        return source"
   ]
  },
  {
   "cell_type": "code",
   "execution_count": 45,
   "id": "a4f85a66",
   "metadata": {},
   "outputs": [
    {
     "name": "stderr",
     "output_type": "stream",
     "text": [
      "C:\\Users\\Leesy\\anaconda3\\envs\\script\\lib\\site-packages\\urllib3\\connectionpool.py:1013: InsecureRequestWarning: Unverified HTTPS request is being made to host 'cse.koreatech.ac.kr'. Adding certificate verification is strongly advised. See: https://urllib3.readthedocs.io/en/1.26.x/advanced-usage.html#ssl-warnings\n",
      "  warnings.warn(\n"
     ]
    },
    {
     "name": "stdout",
     "output_type": "stream",
     "text": [
      "사이트 주소가 정상입니다.\n"
     ]
    },
    {
     "name": "stderr",
     "output_type": "stream",
     "text": [
      "C:\\Users\\Leesy\\anaconda3\\envs\\script\\lib\\site-packages\\urllib3\\connectionpool.py:1013: InsecureRequestWarning: Unverified HTTPS request is being made to host 'www.koreatech.ac.kr'. Adding certificate verification is strongly advised. See: https://urllib3.readthedocs.io/en/1.26.x/advanced-usage.html#ssl-warnings\n",
      "  warnings.warn(\n",
      "C:\\Users\\Leesy\\anaconda3\\envs\\script\\lib\\site-packages\\urllib3\\connectionpool.py:1013: InsecureRequestWarning: Unverified HTTPS request is being made to host 'www.koreatech.ac.kr'. Adding certificate verification is strongly advised. See: https://urllib3.readthedocs.io/en/1.26.x/advanced-usage.html#ssl-warnings\n",
      "  warnings.warn(\n",
      "C:\\Users\\Leesy\\anaconda3\\envs\\script\\lib\\site-packages\\urllib3\\connectionpool.py:1013: InsecureRequestWarning: Unverified HTTPS request is being made to host 'www.koreatech.ac.kr'. Adding certificate verification is strongly advised. See: https://urllib3.readthedocs.io/en/1.26.x/advanced-usage.html#ssl-warnings\n",
      "  warnings.warn(\n"
     ]
    },
    {
     "name": "stdout",
     "output_type": "stream",
     "text": [
      "사이트 주소가 정상입니다.\n",
      "사이트 주소가 정상입니다.\n"
     ]
    },
    {
     "name": "stderr",
     "output_type": "stream",
     "text": [
      "C:\\Users\\Leesy\\anaconda3\\envs\\script\\lib\\site-packages\\urllib3\\connectionpool.py:1013: InsecureRequestWarning: Unverified HTTPS request is being made to host 'www.naver.com'. Adding certificate verification is strongly advised. See: https://urllib3.readthedocs.io/en/1.26.x/advanced-usage.html#ssl-warnings\n",
      "  warnings.warn(\n",
      "C:\\Users\\Leesy\\anaconda3\\envs\\script\\lib\\site-packages\\urllib3\\connectionpool.py:1013: InsecureRequestWarning: Unverified HTTPS request is being made to host 'www.daum.net'. Adding certificate verification is strongly advised. See: https://urllib3.readthedocs.io/en/1.26.x/advanced-usage.html#ssl-warnings\n",
      "  warnings.warn(\n"
     ]
    },
    {
     "name": "stdout",
     "output_type": "stream",
     "text": [
      "사이트 주소가 정상입니다.\n",
      "사이트 주소가 정상입니다.\n"
     ]
    },
    {
     "name": "stderr",
     "output_type": "stream",
     "text": [
      "C:\\Users\\Leesy\\anaconda3\\envs\\script\\lib\\site-packages\\urllib3\\connectionpool.py:1013: InsecureRequestWarning: Unverified HTTPS request is being made to host 'www.nytimes.com'. Adding certificate verification is strongly advised. See: https://urllib3.readthedocs.io/en/1.26.x/advanced-usage.html#ssl-warnings\n",
      "  warnings.warn(\n"
     ]
    }
   ],
   "source": [
    "# 1. 컴퓨터공학부 소스 가져오기(보안상 http를 사용하지 않고,https로 바뀐 주소로 가져옴)\n",
    "#req_csekoreatech = requestURL('http://cse.koreatech.ac.kr') # 해당 주소의 경우 403 에러 발생\n",
    "req_csekoreatech = requestURL('https://cse.koreatech.ac.kr')\n",
    "source_csekoreatech = sourceProcess(req_csekoreatech)\n",
    "\n",
    "# 2. 한국기술교육대학교 소스 가져오기\n",
    "req_koreatech = requestURL('https://www.koreatech.ac.kr')\n",
    "source_koreatech = sourceProcess(req_koreatech)\n",
    "\n",
    "# 3. Naver소스 가져오기\n",
    "req_naver = requestURL('http://www.naver.com')\n",
    "source_naver = sourceProcess(req_naver)\n",
    "\n",
    "# 4. Daum소스 가져오기 \n",
    "req_daum = requestURL('http://www.daum.net/')\n",
    "source_daum = sourceProcess(req_daum)\n",
    "\n",
    "# 5. New York Times 소스 가져오기 \n",
    "req_nytimes = requestURL('http://www.nytimes.com/')\n",
    "source_nytimes = sourceProcess(req_nytimes)"
   ]
  },
  {
   "cell_type": "code",
   "execution_count": 44,
   "id": "1062a4d9",
   "metadata": {},
   "outputs": [],
   "source": [
    "# 추후 숙제 답안 제출 때엔 아래 코드는 주석처리할 것\n",
    "#print(source_csekoreatech)"
   ]
  },
  {
   "cell_type": "code",
   "execution_count": 8,
   "id": "0635e90d",
   "metadata": {},
   "outputs": [],
   "source": [
    "# 순수 문자열 텍스트만 걸러내는 stringFilter() 함수 선언\n",
    "def stringFilter(source):\n",
    "    wordList = []\n",
    "\n",
    "    # 1. '<script ...> ~ </script>' 스크립트 태그 내용 제거\n",
    "    while((source.find('<script')+1) and (source.find('</script>')+1)): # 문자열.find()시 값이 없으면 -1이므로 True다.\n",
    "                                                                         # 따라서 이 때 while()문 중단을 위해 +1을 하여\n",
    "                                                                         # 값을 0으로 만들어 False를 통해 중단시킨다.\n",
    "        firstIndex = source.find('<script')\n",
    "        lastIndex = source.find('</script>') + len('</script>') # '</script>' 까지 제거해야 하므로\n",
    "        source = source.replace(source[firstIndex:lastIndex], '')\n",
    "\n",
    "    # 2. '<style ...> ~ </style>' 스타일 태그 내용 제거\n",
    "    while((source.find('<style')+1) and (source.find('</style>')+1)): # 문자열.find()시 값이 없으면 -1이므로 True다.\n",
    "                                                                       # 따라서 이 때 while()문 중단을 위해 +1을 하여\n",
    "                                                                       # 값을 0으로 만들어 False를 통해 중단시킨다.\n",
    "        firstIndex = source.find('<style') \n",
    "        lastIndex = source.find('</style>') + len('</style>') # '</style>' 까지 제거해야 하므로\n",
    "        source = source.replace(source[firstIndex:lastIndex], '')\n",
    "\n",
    "   # 3. '<!--'로 시작해서 '-->' 주석 태그 제거, '->'와 같이 화살표 표시로 인해 에러 발생\n",
    "    while((source.find('<!--')+1) and (source.find('-->')+1)): # 문자열.find()시 값이 없으면 -1이므로 True다.\n",
    "                                                           # 따라서 이 때 while()문 중단을 위해 +1을 하여\n",
    "                                                           # 값을 0으로 만들어 False를 통해 중단시킨다.\n",
    "        firstIndex = source.find('<!--')\n",
    "        lastIndex = source.find('-->') + len('-->') # '-->' 까지 제거해야 하므로\n",
    "        source = source.replace(source[firstIndex:lastIndex], '')    \n",
    "        \n",
    "   # 4. '<url>'로 시작해서 '</url>' 끝나는 태그 제거, 특정 사이트에서 '<a href=\"<url> </url>\"> 문법 사용\n",
    "    while((source.find('<url>')+1) and (source.find('</url>')+1)): # 문자열.find()시 값이 없으면 -1이므로 True다.\n",
    "                                                           # 따라서 이 때 while()문 중단을 위해 +1을 하여\n",
    "                                                           # 값을 0으로 만들어 False를 통해 중단시킨다.\n",
    "        firstIndex = source.find('<url>')\n",
    "        lastIndex = source.find('</url>') + len('</url>') # '</url>' 까지 제거해야 하므로\n",
    "        source = source.replace(source[firstIndex:lastIndex], '')    \n",
    "         \n",
    "    # 5. '<'로 시작해서 '>' 끝나는 태그 제거\n",
    "    while((source.find('<')+1) and(source.find('>')+1)): # 문자열.find()시 값이 없으면 -1이므로 True다.\n",
    "                                                           # 따라서 이 때 while()문 중단을 위해 +1을 하여\n",
    "                                                           # 값을 0으로 만들어 False를 통해 중단시킨다.\n",
    "\n",
    "        firstIndex = source.find('<')\n",
    "        lastIndex = source.find('>') + len('>') # '>' 까지 제거해야 하므로\n",
    "        if firstIndex < lastIndex:\n",
    "            source = source.replace(source[firstIndex:lastIndex], '')\n",
    "        \n",
    "        elif firstIndex > lastIndex: # '> <>'와 같은 경우 방지\n",
    "            firstIndex = source.index('<', firstIndex)\n",
    "            lastIndex = source.index('>', firstIndex) + len('>')\n",
    "            source = source.replace(source[firstIndex:lastIndex], '')\n",
    "        \n",
    "    # 6. punctuation 구두문자 제거\n",
    "    for punct in string.punctuation:\n",
    "        source = source.replace(punct, '')\n",
    "    \n",
    "    # 7. source를 리스트로 저장\n",
    "    wordList = source.split()\n",
    "    \n",
    "    return wordList"
   ]
  },
  {
   "cell_type": "code",
   "execution_count": 9,
   "id": "625359e6",
   "metadata": {},
   "outputs": [],
   "source": [
    "# 출현빈도 수 계산\n",
    "def wordCount(wordlist):\n",
    "    word_set = set(wordlist) # 중복된 문자열 제거\n",
    "    keyList = list(word_set) # 키 목록 리스트화\n",
    "    wordDict = {}            # 사전 정의\n",
    "    for key in keyList:     # 키 목록만큼\n",
    "        value = wordlist.count(key) # 단어 리스트에서 해당 키의 출현빈도 계산\n",
    "        wordDict[key] = value       # 해당 키와 출현빈도를 사전에 저장\n",
    "    return print(wordDict)"
   ]
  },
  {
   "cell_type": "code",
   "execution_count": 10,
   "id": "ce9df932",
   "metadata": {},
   "outputs": [],
   "source": [
    "# 필터링 결과 출력 함수 선언\n",
    "def printResultFilter(input_source):\n",
    "    #print(\"1. 필터링된 source 값 리스트\\n\\n\", stringFilter(input_source))\n",
    "    #print()\n",
    "    #print(\"2. 단어의 개수: {}개\\n\".format(len(stringFilter(input_source))))\n",
    "    print(\"3. 각 단어들의 출현빈도 수\\n\")\n",
    "    wordCount(stringFilter(input_source)) "
   ]
  },
  {
   "cell_type": "code",
   "execution_count": 46,
   "id": "8857b480",
   "metadata": {
    "scrolled": true
   },
   "outputs": [
    {
     "name": "stdout",
     "output_type": "stream",
     "text": [
      "3. 각 단어들의 출현빈도 수\n",
      "\n",
      "{'1461': 1, '소개': 1, 'IPP사업단': 2, 'CNS': 1, '하반기': 1, 'Navigation': 1, 'FAX': 1, 'Facebook': 1, '글로벌': 2, 'LINK': 1, '테스트': 1, '티빙': 1, '꼭': 1, 'AI': 2, '21하반기': 1, '중간발': 1, '0941': 2, '졸업작품': 8, '모집1공학관': 1, '41': 1, 'DX': 1, '구독': 1, 'Pr': 1, '판넬': 1, 'Science': 1, '1110': 2, '1038': 2, 'Exploiting': 1, 'Campus': 1, '학교': 1, 'IT': 2, '※': 2, '임기제': 1, 'Security': 1, '0915': 2, '치안정책연구소': 1, 'LG': 1, '찾기': 1, 'CTST': 1, '학과사무실': 1, '20210712': 1, '장기현장실습': 2, '혁신': 1, '1주년': 1, '학부서비스': 1, 'event': 1, 'Copy': 1, 'All': 1, 'Apple’s': 1, '1838': 2, 'Lab에서': 1, '한진': 1, '어나더': 1, '교육의': 2, '안전교육': 1, 'reserved': 1, 'HPC': 1, '오신': 1, '유출될': 1, 'Internet': 1, '융합대학': 2, '지도교수': 1, '2335': 2, '모집합니다': 1, 'Supergirl': 1, 'Story': 1, '공공장소에서': 1, '다음': 1, '신입학사The': 1, '31253': 1, '기반': 1, '기념': 1, '0910': 2, 'of': 2, 'Location': 1, '1443': 2, '홈페이지에': 1, '대학혁신산업단': 1, '1908': 2, 'Batman': 1, '1316': 2, '필요가': 1, '아이디': 1, 'Engineering': 1, '20211022': 3, '2학기': 1, '20210913': 1, 'GS25와': 1, '개인정보가': 1, '20211018': 5, 'Confirms': 1, '1736': 2, '영화': 1, '이수': 1, 'KT': 1, '화성': 1, '041': 2, '강릉국제영화제': 1, 'School': 1, '교직원': 1, '이용': 1, '사원': 1, '회원가입': 1, 'The': 1, 'Movie': 1, '1031': 2, '천안시': 2, '1146': 2, '단': 1, '실험실': 1, '전자신문': 1, '합류…AI': 1, '접속부터는': 1, 'here': 1, '연간': 1, '20211008': 1, '공학교육인증': 1, '인턴': 1, '20210720': 1, '자료실': 2, '프로젝트': 1, '2015': 1, 'Fun': 1, '기능을': 1, '필독20212학기': 1, '최종발표': 2, '모집': 4, '편의점': 1, '없습니다': 1, '1302': 2, '2021': 1, '‘Unleashed’': 1, 'and': 2, 'Study': 1, '국내': 3, '대학원': 2, 'N': 1, 'China': 1, 'CSE': 1, '가전리': 1, 'Watch': 1, '자유게시판': 1, '코스맥스그룹': 1, '1444': 2, '20211014': 2, '오리지널': 1, '수': 2, '로그인할': 1, '창조적': 2, 'Superman': 1, 'Should': 1, '학부광장': 1, '학사안내': 1, 'Computer': 1, '레코드': 1, '도시락': 1, '메카한국기술교육대학교': 1, '20211021': 3, '요금': 1, 'Have': 1, '20211006': 1, '스토리위즈': 1, '원팀에': 1, '게임방': 1, '제도': 2, '닫더라도': 1, 'right': 1, '김덕수': 1, '물류': 1, '모집서버클라': 1, '할인': 1, '해주세요': 1, 'Be': 1, '전처리': 1, '로그인이': 1, 'Platum': 1, '독립법인': 1, '©': 1, '20211001': 1, 'Revamped': 1, 'Sinister': 1, 'BCSD': 1, 'U알뜰모바일': 1, '1600한국기술교육대학교': 1, 'And': 1, '공지사항': 1, 'How': 1, '요청1219': 1, '있으니': 1, '입학': 1, '기획·개발': 1, '케이티시즌': 1, '로그아웃을': 1, 'Trailer': 1, '기업연계형': 2, '동남구': 2, 'Registration': 1, '데이터': 1, '메카': 1, '560': 2, '대학원생': 2, '결과': 1, 'SpiderMan': 1, 'IDPW': 1, '전시회': 2, '전문연구요원': 2, '취업게시판': 1, 'Flash': 1, '안내': 1, '및': 2, '20210824': 1, '0431': 6, 'A': 2, '평생교육원': 1, '1926': 2, '28일': 1, 'Will': 1, '비밀번호': 1, '인적자원개발의': 2, 'Could': 1, '최고의': 2, 'Journey': 1, '유지': 2, '1805': 2, 'Innovation': 1, '홈페이지': 1, '온라인': 1, 'TechCrunch': 1, '20211015': 1, 'rights': 1, 'Quick': 1, '구성원소개': 1, '이용권': 1, '계속': 1, '연구실': 1, '바스젠바이오': 1, 'live': 1, 'TEL': 1, '담당': 1, 'Copyright': 1, '것을환영합니다': 1, 'Lab': 1, '전산직': 1, 'IVs': 1, '로그인': 4, '20210917': 1, '한국기술교육대학교': 5, '근무730': 1, '1460': 1, '대학혁신사업단': 1, '1134': 2, '학부': 1, 'WEBMAIL': 1, '1462': 1, '관련': 1, '안내사항': 1, '시': 1, '1342': 2, '컴퓨터공학부': 8, 'Contact': 1, '신입부원을': 1, '업무': 1, '1100': 2, '병천면': 2, '유지될': 1, '충절로': 2, '공무원8급': 1, '1050': 2, '아르바이트생': 1, '확인': 1, '0909': 2, '사용할': 1, '실천공학과': 2, '충청남도': 2, '2021년': 4, '브라우저를': 1, '20210927': 3, '경우': 1, '주코그': 1, 'Close': 1, '경찰대학': 1, '1600': 1, 'Schoolfun': 1, '공채': 1, 'Six': 1, '등': 1, '있습니다': 1, '바로가기': 2, '모형': 1}\n"
     ]
    }
   ],
   "source": [
    "# 1. 컴퓨터공학부 사이트 필터링 결과\n",
    "printResultFilter(source_csekoreatech)"
   ]
  },
  {
   "cell_type": "code",
   "execution_count": 95,
   "id": "8aac4667",
   "metadata": {},
   "outputs": [
    {
     "name": "stdout",
     "output_type": "stream",
     "text": [
      "3. 각 단어들의 출현빈도 수\n",
      "\n",
      "{'Service': 1, '청년워크넷': 1, '한국장애인고용공단': 1, '수강신청': 1, '정보공개제도안내': 1, '특장점': 1, '사회안전망전문인력': 1, 'Blog': 1, '대학생활': 1, '근로장학생': 1, '인터넷정보공개청구': 1, '학부모': 1, '대학대학원': 2, '청탁금지법': 2, '학사일정': 2, '01': 1, '산학협력단': 2, '신문고': 1, '대학조직': 1, '워크넷': 1, '한국교육개발원': 1, '상황에서': 1, 'CoverStory': 1, '학사안내': 1, '부패행위신고': 1, '청렴게시판': 1, '황태현': 1, 'KOREATECH20년': 1, '국제협력프로그램': 1, '홍보영상물': 1, '언론보도영상': 1, '협약까지': 1, '기증': 1, '서비스를': 1, '4년제': 1, '규정집': 1, 'ALIO경영공시': 1, '3296천원': 1, 'right': 1, '한국산업인력공단': 1, '졸업생': 1, '국제교류현황': 1, '0건': 1, '전화번호찾기': 1, '이루었습니다': 1, '고용서비스': 1, '충청남도': 1, '전직': 1, '통학셔틀버스안내': 1, '제공한다': 1, '제공합니다': 6, '재생정지': 1, '전기전자통신공학부': 2, '고용서비스정책학과': 1, '안내': 1, '열린총장실': 1, '한국기술교육대학교의': 1, 'LINC사업단': 1, '함께하는': 1, '고용서비스정책학과는': 1, 'IPP·UniTech허브사업단': 1, '캠퍼스투어': 1, '한국기술교육대학교KOREATECH': 1, '소프트웨어사용안내': 1, '찾아오시는길': 2, '의': 1, '코로나에': 1, '이상': 1, '홍보관련영상': 1, '추진체계': 1, '언론기사': 1, '코로나19': 1, '생긴': 1, '행사': 1, '열기가': 1, '컴퓨터공학부': 2, '교양학부': 2, '대학혁신사업단': 1, '구매입찰': 1, '교육중심대학11년연속': 1, '코리아텍': 1, '구독': 1, '취업': 1, '갈수록': 1, '공식': 1, '일반대학원': 1, '사업실명제': 1, '대학캠퍼스투어': 1, '사람인': 1, '새로운학부과': 1, '발전기금소식': 1, '장학제도': 1, '대학평가': 1, '코리아텍방송국': 1, '11년': 1, '대학정보공시': 3, '특수교과': 1, '상담진로개발센터': 1, '장학금': 1, '보는': 1, '전화번호검색': 1, '연속으로': 1, '재학생현황': 1, '우측내용': 1, '대학홍보영상': 1, '모의성적계산': 1, '홍보대사': 1, '활용한': 1, '동영상이': 1, '민간투자사업': 1, '대학원': 2, '포토갤러리': 2, '온라인교육': 1, '한다quot': 1, '재취업': 1, 'interkoreatechackr': 1, '대학요람': 1, '산업통상자원부': 1, '총학생회': 1, '선포식': 1, '가전리': 1, '자세히': 1, '변동': 1, '온라인교육지원': 3, '졸업작품': 2, 'COVER': 3, '기획재정부': 1, '결과확인': 1, '본문바로가기': 1, '일자리와': 1, '고객의': 1, '취업관련': 3, '팝업': 1, '병천면': 1, '비전': 1, '있습니다': 2, '재학생': 3, 'Story': 1, '웹메일': 3, 'TOP': 1, '개요': 1, '비대면': 1, '학부과별': 1, '사업소개': 1, '사태': 1, 'EMAIL': 1, '교육부': 1, '닫기': 1, '한국고용노동교육원': 1, '총장동정': 1, '테크노인력개발전문대학원': 1, '좌측내용': 1, '정보공개이의신청': 1, '시설현황': 1, '학생자치단체': 1, '고용부': 1, '학사종합서비스': 2, '일반공지': 1, '행정정보소재': 1, '학생증발급': 1, '발자취': 1, '참여하기': 1, '다양한': 1, '한국산업안전보건공단': 1, '대학특성': 1, '고용서비스정책학과장': 1, '융합학과': 2, '30년': 2, '“고용서비스는': 1, '정보를': 3, '하반기': 1, '성과를': 1, '회의하고': 1, '교육목표': 1, '교내주요기관': 1, '분야의': 1, '친구랑': 1, '02': 1, '사진을': 1, 'KOREATECH한국기술교육대학교': 1, 'SEARCH': 1, '어학연수안내': 1, '코리아텍의': 3, '원격지원': 2, '도제허브사업단': 1, '1위”': 1, '확인하실': 1, '어렵습니다그러다보니': 1, '20211015': 2, '포토갤러리더보기': 1, '대학현황': 1, '재직': 1, '발전기금': 2, '은행업무': 1, '실직': 1, '현실과': 1, '총장인사말': 1, '댓글': 1, '자료': 1, '기념사업': 1, '여행하자': 1, '근로복지공단': 1, '무선랜사용신청': 1, '병무안내관련사이트': 1, '취업률': 2, '동남구': 1, '영상과': 1, '입학안내': 2, '취업정보': 3, '2019': 1, 'Aug': 1, '코리아텍소개': 1, '국민들의': 1, '부패행위': 2, '안전': 2, '홍보소재제안': 1, '사업소식': 1, '및': 2, '한국기술교육대': 1, '국제교육센터': 1, '숫자로': 1, '더보기': 3, '천안시청': 1, '분포현황': 1, '10명': 1, '클릭하세요': 1, '일반인': 3, '회의를': 1, '도로명주소안내': 1, '행사참여안내': 1, '연혁': 1, '병무안내': 1, '한국노동연구원': 1, '생활관': 2, '대학원소개': 1, '지급': 1, '대학알리미': 1, 'FaceBook': 1, '1600': 1, '2021': 1, '디자인공학전공': 1, '충절로': 1, '소리제안': 1, 'HRD학과': 2, '최신': 3, '0415601114': 1, '직장예비군안내': 1, '학사종합시스템': 1, '20211014': 1, '날': 1, '30주년': 3, '식단': 2, 'STORY': 3, '한국기술교육대학교': 12, '국민권익위원회': 1, '도서관이용안내': 1, '한국기술교육대학교KOREATECH님이': 1, '공식블로그': 1, '초청의': 1, '안전보건방침': 1, '‘19년': 1, '전체메뉴보기': 1, '속에': 1, '위해': 1, '에너지신소재화학공학부': 2, '인사말': 1, '동아리안내': 2, '심볼': 1, '교수학습센터': 1, '사진': 1, '전체메뉴열기': 1, '고객만족경영': 1, '진화하고': 1, '20211022': 4, '입학정보를': 3, '다담창의센터': 1, '행정공시': 1, 'ENG': 2, 'ⓒ': 1, '기부자예우': 1, '후원커뮤니티': 1, '온라인평생교육원': 2, '모집': 2, '천안시': 1, '주메뉴바로가기': 1, '정보공개': 2, '홍보영상': 1, '회계공시': 1, '이벤트': 1, '최고경영자과정': 1, '31253': 1, '대외유관기관': 1, '알리오': 1, '역대총장': 1, '익명신고': 1, '창업지원센터': 1, '아우누리': 1, 'FGI': 1, '문화지원금': 1, '교과과정': 1, '공개되었습니다': 1, '수령액': 1, '네이버': 1, '고용노동부': 1, 'reserved': 1, '09': 1, '이벤트는': 1, '고객만족경영체계': 1, '오류신고': 1, '행복한': 3, '만나서': 1, '참가': 1, 'KOREATECH': 7, '커뮤니티': 1, '조직구성': 1, '캠퍼스': 1, 'SNS': 1, 'Sep': 1, '한국고용정보원': 1, '생활협동조합': 1, '교환학생안내': 1, 'Wings': 1, '공공데이터': 1, '경영공시': 1, '듀얼공동훈련센터허브사업단': 1, '2021년': 1, '만난다고quot아바타로': 1, '재정현황': 1, '총장실': 1, '중앙일보대학평가‘교육중심대학’': 1, '개인정보처리방침': 1, '전체메뉴닫기': 1, '중앙일보대학평가': 1, '산업경영학부': 2, '병사안내': 1, '캠퍼스생활': 1, '공지사항': 4, '개선사항': 1, '서비스': 1, '한국폴리텍대학': 1, '입학홍보팀': 1, '유튜브': 2, '847': 1, '자료실': 1, 'VOC': 1, '사실상': 1, '입학정보': 3, '학적': 1, '학부소개': 1, '대학소개': 1, '게시한': 1, '채용공지': 1, '학생': 1, '기본적인': 1, '코리아텍은': 1, 'All': 1, '학생이': 3, '주요사이트': 1, '500명': 1, 'PLUS': 2, '코로나19관련공지': 1, '페이스북': 1, 'CHI': 2, '중앙일보': 2, 'Copyright': 1, 'IPP센터': 2, '고용서비스는': 1, '전국': 1, '스킵네비게이션': 1, '홍보브로셔': 1, '교육장비검색': 1, 'Instgram': 1, '감염병': 1, '팝업존': 1, '양성을': 1, 'Jul': 1, '못': 1, '최근': 2, '인터넷증명발급': 3, '무선랜신청': 1, '고': 1, '대학혁신지원사업': 2, '건축공학전공': 1, '개교': 1, '행사참여신청': 1, '이메일무단수집거부': 1, '네이버블로그': 1, '2020년': 1, '잡코리아': 1, '홈페이지': 1, '선착순': 1, '기간연장': 1, '게시판': 2, '전년도': 1, 'IPP포털': 1, '유튜브에서': 1, '보건실안내': 1, '위원장': 1, '홍보': 1, '모집온누리상품권': 1, 'Magazine': 1, '대외협력팀': 2, '웹갤러리': 1, '충청남도청': 1, '안전보건경영': 2, '전문인력': 1, '1위': 4, '현장실습': 1, '관련된': 1, '원격훈련심사센터': 1, '10월호': 2, '오른쪽': 1, '증명서발급': 1, '의견란': 1, '연구': 1, '받고': 1, '교외장학금': 1, '장학공지': 1, '학사공지': 1, '평가': 1, '데이터의견수렴·오류신고': 1, '학과다': 1, '신고': 2, 'TEL': 1, '나래': 1, 'Statistics': 1, '모바일화폐페이코사용안내': 1, '육성해야”': 1, '공공데이터개방': 1, '장비기술교육센터': 1, '청렴자료실': 1, '해외연수': 1, '수': 1, 'X': 1, '국제교류': 1, 'KOREATECH소개': 1, '인재상': 1, '일학습병행대학': 1, '인스타그램': 1, '기계공학부': 2, '다산정보관': 1, '졸업': 1, 'Youtube': 1, 'IT융합과학경영대학원': 1, '20211018': 1, '총장프로필': 1, 'FAX': 1, '한국직업능력개발원': 1, '직업능력심사평가원': 2, 'Link': 1, '“교육중심대학': 1, '교가': 1, '사전정보공표목록': 1, '대학소식지': 1, '자세한': 1, '하거나': 1, '자주찾는': 1, '모금캠페인': 1, '공개': 1, '윤리헌장': 1, '대안들이': 1, 'QA': 2, '메카트로닉스공학부': 3, '가상현실을': 1, 'WingsMagazine': 1, '학과안내': 1, '입시요강': 1, '외국인': 1, 'NEWS': 1, '인크루트': 1, 'VISION2020': 2, '행정서비스헌장': 2, '반도체': 1, '엠블럼': 1, '학부모님': 1, '출처': 3, '보기': 1, '정보공개업무편람': 1, '능력개발교육원': 2, '생활관자치회': 1, '민방위안내': 1, '등': 1, '학교법인임원공시': 1, '기준': 1, '서비스메뉴': 1, '디자인·건축공학부': 1, '오늘의': 2, '사회봉사센터': 1, '국민권익위': 1, '13': 1, '교내장학금': 1, '장신철': 1, '교직원': 3, 'NTIS': 1, '직접': 1, '통학·셔틀버스': 1, '인터뷰': 1, '대학': 7}\n"
     ]
    }
   ],
   "source": [
    "# 2. 한국기술교육대학교 사이트 필터링 결과\n",
    "printResultFilter(source_koreatech)"
   ]
  },
  {
   "cell_type": "code",
   "execution_count": 96,
   "id": "c714f0bc",
   "metadata": {},
   "outputs": [
    {
     "name": "stdout",
     "output_type": "stream",
     "text": [
      "3. 각 단어들의 출현빈도 수\n",
      "\n",
      "{'전립선염은': 1, '출혈을': 1, '아니다': 1, '용어사전책음악전문자료쇼핑지역동영상이미지내PC영화자동차게임건강인물긍정부정검색': 1, '극중': 1, '않': 1, '단계서': 1, '심해지는': 1, '챙겨먹기': 1, '차이가': 2, '달고': 1, '못합니다병식이': 1, '첫': 1, '빠를': 1, '기침': 1, '자두를': 1, '임플란트': 1, '우울증': 2, '요소인': 1, '정말': 2, '주변의': 1, '변형된': 1, '효과적인': 1, '제가': 1, '상대': 1, '가는': 2, '송두리째': 1, '캐스트': 1, '보고될': 1, '먹거나': 2, '5일': 2, '장기간': 1, '대장염': 1, '약물': 1, '없는': 2, '아마': 1, '제한됩니다': 4, '서바이벌에서': 1, '돈이': 1, '증상인미니': 1, '건강해': 1, '근무하고': 1, '1부터': 1, '급성장기를': 1, '169°맑음': 1, '전경환': 1, '일명': 1, '현대인에게': 1, '진료받은': 1, '사연을': 1, '제철': 2, '빵': 1, '과학자들의': 1, '인기': 1, '안전장비': 1, '나타난다고': 1, '피로감을': 1, '상금이': 1, '자동차': 1, '지': 1, '보란듯': 1, '다크': 1, '본': 1, '글': 3, '1운동': 2, '기술을': 1, '알레르기': 3, '추정됩니다': 1, 'lt한국일보gt와': 1, '있다고': 1, '해도': 2, '심하다고': 1, '손에': 1, '도움말을': 2, '이것입니다': 1, '근처의': 1, '드리고자': 1, '비만': 2, '늘어난': 1, '녹내장·황반변성·당뇨망막병증': 1, '질환의': 1, '바깥쪽으': 1, '재활치료가': 1, '치질의': 1, '의외의': 1, '스스로': 3, '09월': 1, '경우를': 1, '필수적이라고': 1, '맞으면': 1, '예방·조기발견': 1, '운반을': 1, '끌어올리고': 1, '발생하는': 2, 'FARM': 1, '진행': 2, '‘건강과': 1, '검색': 2, '움직이도록': 1, '모르는': 1, '전적으로': 1, '속쓰림과': 1, '질환을': 2, '계속된다면': 1, 'whale': 1, '영자지': 1, '심장에': 2, '경험한다고': 1, '아직': 2, '운동에': 2, '식사’는': 1, '게': 5, '지닌': 1, '알코올': 1, '넷플릭스에서': 1, '분당서울대병원': 1, '자궁경부암의': 2, '우유': 1, '앓았던': 1, '이형성증이라': 1, '동안': 3, '어느': 1, '팔리는': 1, '공황': 1, '거의': 2, '이하입니다': 1, '장수를': 1, '서울대': 1, '소실': 1, '저술된': 1, '수준이며': 1, '감염능력이': 1, '늪과': 1, '동생': 1, '중': 10, '신호를': 1, '요인으로': 1, '이름이': 1, '당이': 2, '002': 1, '부모i': 1, '고민이': 1, '소금에': 2, '수준입니다': 1, '이재명': 1, '물려받은': 1, 'txtcurrency': 1, '앓는다는': 1, '헬스컨슈머': 1, '붙었지만': 1, '따르면': 3, '한국어': 1, '있을까요': 1, '들이붓고': 1, '식품': 2, '507': 1, '7': 3, '신체에서': 1, '‘갑상선기능저하증’': 1, '관계의': 2, '끝내고': 1, '해결사': 2, '광고': 1, '활용도가': 1, '많기': 1, '4자': 1, '늘었다고': 1, '캘리포니아에': 1, '빼려면': 1, '치아가': 2, '것으로': 4, '관한': 1, '해로운': 1, '따라': 2, '해소를': 1, '조정석의': 1, '딱히': 2, '푸룬서양': 1, '항히스타민제x27로': 1, '지켜주는': 2, '구독한': 4, '강연': 1, '능동적이고': 1, '넘쳐': 1, '좋은': 6, '결과도': 1, '바나나': 2, '몸에': 2, '정두영': 1, '부르면': 1, '보며': 1, '겪는': 1, '만들고': 1, '자주': 3, '화제였습니다': 1, '문제가': 3, '진실은': 1, '정신과': 3, 'JOBamp': 1, '비타민': 3, '몸이': 1, '뉴스에서': 1, '할까': 1, '해야': 2, '‘헬스닷컴’이': 1, '쉽게': 2, '우리나라에서': 1, '빨개지며': 1, '힐팁·서울스페셜수면의원': 1, '유익한': 1, '평생': 1, '환자들이': 2, '한마디에서부터': 1, '존재한다고': 1, '‘짜게': 1, '첫걸음': 1, '보내기': 2, '외에': 1, '형성에': 1, '34윤석열': 1, '불가능하게': 1, '尹…불난': 1, '깨지면': 1, '받은': 1, '무리하지': 1, '교수팀에서': 1, '교수님과': 1, '다양한': 5, '재생시간0415': 1, '‘혈변': 2, '전자담배로': 3, '참기름': 1, '나와': 1, '예민해져': 1, '어려움과': 1, '체중을': 1, '감동의': 1, '일으키는': 2, '이것만은': 1, '나물로': 1, '저하시키고': 1, '젊은': 2, '하루에': 1, '넘어졌을': 1, '생존율이': 1, '진단법을': 1, '헬스조선건강톡톡': 2, '장질환이': 1, '포함하여': 1, '신물': 1, '비만지구온난화': 2, '자동완성도움말': 1, '동반한': 1, '기념하기': 1, '하고': 2, '췌장암으로': 1, '인정병원': 1, '췌담도암': 2, '해당': 4, '관심사를': 1, '때': 12, '시청자에게': 1, '대해서': 4, '사연현재': 1, '존재를': 1, '모두': 2, '사람들의': 1, 'Sign': 2, '구분될까': 1, '건강이': 2, '인지기능': 1, '스트레스와': 1, '당뇨': 2, '101를': 1, '모르겠는데': 1, '당뇨망막병증': 1, '갑상선': 1, '가장': 6, '활력충전20대인': 1, '언론사가': 1, '없어1초면': 1, '1일': 2, '구강': 2, '말': 1, '필요성을': 1, '및': 7, '매회': 1, '언제': 4, '동해': 1, '보실': 1, '접종': 1, '읽을만한': 1, '나올까’라는': 1, '시간': 1, '자궁경부암을': 1, '의사가': 1, '알아봅니다': 2, '정답은': 1, '한자사전': 1, '크론병·궤양성': 1, '불활성화되어': 1, '사고력‧이해력‧계산능력': 1, '질병과': 1, '치과': 1, '쑥갓을': 2, '이젠': 1, '꽃게의': 1, '사람과의': 1, '가능40세': 1, '섭취하는': 2, '힘든데': 1, '원인': 3, '로봇을': 1, '위한': 3, '조사했다조사': 1, '20일': 1, '된다면': 2, '천명숨': 1, '배우': 1, '고구마': 1, '냄새가': 1, '당뇨라고요': 1, '되고': 1, '31': 1, '먹기': 1, '질환인데요': 1, '23억명': 1, '폐가': 1, '중요한': 3, '식도가': 1, '수단입니다': 1, '후': 1, '뒤': 1, '재생시간0342': 1, '인공관절': 4, 'x27바렛': 1, '말합니다': 1, '시작했고': 1, '매우': 5, '인간': 1, '바이러스까지': 1, 'with': 1, 'message': 1, '‘1초’만': 1, '생각만': 1, '중독': 1, '황반변성': 1, '노동': 1, '1년전': 1, '항암치료를': 1, '무': 1, '을지로1가': 2, '식도염은': 1, '쥬니어네이버': 1, '운동과': 1, '맞는': 1, '즉': 3, '너도나도': 1, '정정엽': 1, '콜라겐': 1, '뜻이기도': 1, '이번에는': 2, '문제로': 1, '인제대학교상계백병원': 1, '재발이': 1, 'Password': 1, '나면': 1, '샘병원': 1, '주제별캐스트': 1, '면역은': 1, '쏜': 1, '관심이': 1, '천연': 1, '질문의': 1, '필요가': 1, '국민건강보험공단': 1, '각종': 1, '사정으로': 4, '잠에서': 1, '시간에': 1, '부은': 1, '근육과': 1, '회복하는': 1, '전세계에서': 1, '시행한다': 1, '남성들은': 1, '환절기': 1, '지구의': 1, '기대와': 1, '총칭하며': 1, '연기와': 1, '매년': 1, '못한': 1, '정혜전': 1, '모은': 1, '같아서': 1, '방해한다고해요ㅠㅠ': 1, '정도입니다': 1, '알아보았는데요': 1, '급증하고': 2, '장비의': 1, '색’': 2, '없습니다설정이': 1, '서울대학교병원': 1, 'NAVERSign': 1, '상태로': 1, '하나요': 1, '정해': 1, '풀어봅니다▶로봇': 1, '일으키고': 1, '소변’을': 1, '심근경색': 1, '있을': 2, '갑상선기능항진증에': 1, '광주세계로병원': 1, '질병관리청': 2, '2015년2019년까지': 1, '언론사': 7, '먹었을': 1, '중요하다는': 1, '발톱의': 1, '앗아가는': 1, '네이버를': 1, '이슈코로나바이러스감염증19': 1, '외과': 1, '운동의': 1, '모르시는': 1, '일상생활을': 1, '쌕쌕거리는': 1, '없어': 1, '사례를': 1, '느꼈는가': 1, '문제를': 1, '기억력': 1, '시기이다': 1, '감량을': 1, '분들이': 2, '엑스퍼트': 1, '통과하면': 1, '챙기도록': 1, '조기': 2, '집': 1, '늪에': 1, 'FOR': 1, '상대적': 1, '큰': 4, '정기검진과': 1, '먹기만': 1, '근육을': 1, '전문가가': 1, '겁니다': 1, '스포츠': 2, '‘미니': 1, '재생됩니다': 1, '가슴': 1, '질환입니다': 1, '준비할': 1, '뇌졸중’': 1, '속': 3, '올라가': 1, '반면': 1, '진단법': 1, '악영향': 1, '않다고': 1, '혈관을': 1, '나트륨': 1, '당뇨는': 1, '물러났다': 1, '리빙': 1, '앞서': 2, '총': 3, '마신': 1, '사실일': 1, '되는지': 1, '정작': 1, '‘무우’라고': 1, '것을': 3, '부어': 1, '부정하는': 1, '칼칼한': 1, '함께N': 1, '국': 1, '주변': 3, '뉴스스탠드': 3, '인슐린은': 1, '일과': 1, '중요한지': 1, '‘하루': 1, '증권': 1, '인간에게': 1, '식습관': 1, '20세에서': 1, '2020년': 1, '들수록': 1, '권장되는': 1, '그룹의관심사에': 1, 'NO당뇨란': 1, '건강한': 5, '저는': 1, '영영사전': 1, '과학': 1, '무릎': 3, '005': 1, '것이': 8, '잦은': 1, '또한': 3, '우리나라에도': 1, '알고': 5, '9': 1, '잘못': 2, '어떤': 12, '담당자': 1, '잘': 6, '국민건강보험공단의': 1, '미세좋음': 1, '총리로': 1, '5초면': 1, '부당이득': 1, '암': 1, '보냈는지': 1, '33홍준표': 1, '방지를': 1, '타우린이': 1, '관리': 1, '적절한': 2, '왔는데': 1, '국제단체': 1, '찜': 1, '관련된': 2, '개선과': 1, '인제대학교': 1, '담배보다': 1, '실시한': 1, '미니': 2, '항체를': 1, '목숨을': 1, '전립선염입니다': 1, '상태라고': 1, '글을': 1, 'ARIArthritis': 1, '당뇨·골다공증': 1, '질문에': 1, '필수적인': 2, '중하나가': 1, '가득한': 1, '치료를': 3, '전에': 1, '국가암정보센터': 2, '의료진': 1, '모드로': 1, '기본적이고': 1, '먹지만': 1, '것만으로도': 1, '그렇다고': 1, '장비': 2, '꼽습니다': 1, '본인은': 1, '영양제를': 2, '스토어': 1, '중기에': 1, '언론사에': 2, '장성희': 1, '식단은': 1, '찍는지': 1, '질환은': 1, '있나': 1, '인대를': 1, '여유있게': 1, '늘리고': 1, '해': 2, '않아뼈': 1, 'NAVER': 3, '의료용': 1, '→': 2, '스태프': 1, '무척': 1, '1년마다': 1, '몰라': 1, '스텐트': 1, '병원에서는': 1, '발생하는지': 1, '포도상구균이': 1, '예방': 2, '총리직을': 1, '식도암으로까지': 1, '겉으로': 1, '마음가짐을': 1, '바로알기': 1, '복용': 1, '있던': 1, '위험성을': 1, '실명질환으로': 1, '장': 3, '주는거': 1, '89': 1, '풍부하여': 1, '칼로리': 2, '발톱은': 1, '이렇게': 1, '이상적인': 1, '30대': 1, '여름': 1, '역류성': 2, '클리닉에': 1, '청소년보호정책': 1, '항산화제이며': 1, 'UNIST': 1, '그냥': 2, '남성의': 1, '재생시간0040': 1, '을를구독해지': 4, '종류': 1, '대장동': 1, '역류성식도염': 1, '뉴스': 1, '바로': 10, '‘아무리': 1, '갑작스러운': 1, '달려가라는': 1, 'QA': 1, '유리와': 1, '건강다이제스트': 2, '고령층에서': 1, '가면': 1, '움직여서': 1, '눌렀을': 1, '싶어': 2, '우스운': 1, '초기증상': 1, '맞이하려면': 1, '그러면서': 1, '않았으나': 1, '들려오는': 1, '부양은': 1, '상식': 1, '노령층': 1, '오히려': 1, '짧다고': 1, '없을까': 1, '기준': 3, '늘어나고': 1, '아닌': 1, '위험': 3, '13지급기한': 1, '심각하게는': 1, '20년': 1, '분변잠혈검사': 1, '마디마디신경외과의원': 1, '검색어': 2, '염증이': 1, 'Creators': 1, '발견되는': 1, '대개': 1, '무엇보다': 2, '관찰했다': 1, '있고': 3, '들어있습니다': 1, '종영했다2021년': 1, '주의사항쑥갓은': 1, '쓰면': 3, '반대로': 2, '아니냐는': 1, '감소': 1, '해산물': 1, '지방을': 1, '좋습니다': 2, '한국인의': 1, '건강에너지': 1, '단지들': 1, '다가오는': 1, '하지만': 6, '모르고': 1, '초기화': 3, '재생시간0239': 1, '발전': 1, '대장염이': 1, '이야기가': 2, '환승': 1, '대한류마티스학회': 1, '변비가': 2, '조사': 1, '떨어질': 1, '심하고': 1, '망가뜨린다': 2, '쇼핑': 1, '두껍게': 1, '쉽': 1, '했다': 1, '분비되어': 1, '자동저장': 1, '서비스를': 1, '건드려': 1, '스트레스gt델타': 1, '주어당뇨': 1, 'C는': 3, '다들': 1, '권장하지': 1, '이용행태가': 1, '유도하기': 1, '내과적': 1, '보관법': 1, 'MBN': 1, '자궁경부의': 1, '코메디닷컴': 3, '마세요': 1, '공유는': 1, '연세대학교': 1, '양치를': 1, '체크리스트': 2, '조심해야': 1, '받습니다': 1, '사망': 2, '쑥갓': 1, '비만인구': 1, '과체중': 1, '있어요': 1, '코미디적': 1, '동시': 2, '치실': 1, '교체해': 1, '출혈이': 1, '다음': 5, '췌담도암은': 2, '적당량을': 1, '라면': 1, '앞서갈': 1, '술': 1, '성기': 1, '여전히': 3, '예방의': 1, '것으': 1, '해야할지': 1, '떠나면서': 1, '주인공이': 1, '다이어트나': 1, '몸의': 1, '당뇨병': 2, '이상': 4, '일시': 1, '균형이': 1, '있는': 11, '오고': 1, '줄이는': 1, '코로나19': 1, '생긴': 1, '사람과': 3, '이상으로': 2, '반론': 1, '물을': 1, '근골격계': 1, '전체보기': 2, '근력': 1, '사과SNS': 1, '버튼을': 1, '하되': 1, '봉지에': 1, '싫어하냐': 1, '검출되지': 1, '의심다양한': 1, '낀': 1, '한호열': 1, '커피를': 1, '이것': 2, '관절염': 1, '원장': 1, '부작용은': 2, '불러서': 1, '보기에는': 1, '염증성': 2, '기억': 1, '병원에서': 1, '활용까지': 1, '알지': 1, '보는': 2, '날’에': 1, '보호하는': 1, '부상을': 1, '아베': 3, '과하게': 2, '제한': 1, '때도': 1, '이형성증은자궁경부': 1, '있나요치질은': 1, '않아도': 1, '관심있는': 1, '대해서는': 1, '‘저탄수화물': 1, '번아웃이': 1, '관해': 1, '자세히': 5, '올해': 2, '살고': 1, '생각의': 1, '그래서인지': 1, '손을': 1, '헬스미디어': 1, '하는데요': 2, '세균과': 1, '고통을': 1, '세계': 2, '이': 3, '경우도': 1, '요즘': 2, '아는': 2, 'LDL콜레스테롤': 1, '지병으로': 1, '좁아지게': 1, '이긴다는': 1, '유전': 1, '꼭': 3, '먹기’인데요': 1, '‘수면': 1, 'VIBE': 1, '기본이': 1, '질환인가요천식은': 1, '콜레스테롤': 1, '공소장': 1, '상피내암': 1, '싸우도록': 1, '닫기': 9, '지역': 1, '재판': 1, '일산백병원': 2, '잘라야': 1, '필요할': 1, '이유가': 1, '말하면': 1, '몸매를': 1, '소개합니다': 1, '하며': 4, '찌개를': 1, '통해서': 1, '아프다': 1, '각자': 1, '신문사': 1, '국민은': 1, '장비를': 1, '배변': 1, '이루며': 1, '내렸다': 1, '영장만도': 1, '건강보험심사평가원': 3, '나타나고': 2, '출혈량이': 1, '성분이': 1, '암종으로': 1, 'intend': 1, '부른다': 1, '더불어': 1, '외에도': 2, '않는': 2, '흔해서': 1, '통증을': 2, '그런데': 2, '5가지': 2, '1주일': 22, '드라마': 3, '질병을': 1, '높이는': 2, '설탕의': 1, '용어는': 1, '통증부터': 1, '안쪽에서': 1, '많이': 5, '스트레스입니다': 1, '발가락': 1, '다른내용': 1, '관련': 1, '연예': 1, '높아지고': 1, 'people': 1, '약관': 1, '채소가': 1, '알려드리겠습니다': 1, '식습관이': 2, '2018년': 2, '필요': 2, '안저검사': 1, '식도x27로': 1, '태울': 1, '맞아야': 1, '완성도': 1, '증상의': 1, '치아와': 1, '강화와': 1, '환자들의': 3, '볼드윈': 1, '발병': 2, '효과적이다': 1, '맛있다': 1, '놓칠까': 1, '범위에서': 1, '변비로': 1, '최대한': 1, '규칙적인': 2, '날…내': 1, '식후': 2, '튼튼허리': 2, '총리처럼': 1, '전': 73, '다르다': 1, '이어질': 2, '자영업자부터': 1, '한동하': 1, '동의보감에도': 1, '녹내장': 1, '나타나는': 4, '품고': 1, '시리얼': 1, '높여준다고': 1, '안전': 4, '끝나는': 2, '오랜': 2, '중요하겠죠그래서': 1, '통합검색블로그카페': 1, '중요하지': 1, '더보기': 2, '017': 1, '치아를': 2, '백신을': 1, '수치스러움을': 2, '커피': 1, '살이': 1, '부족’': 1, '기름진': 1, '꽃게를': 1, '챙기세요': 1, '방법이': 1, '궁금증을': 1, '알아봤다': 1, '경험자분들의': 1, '말실수했을': 1, '이어지는': 1, '알아보겠습니다': 3, '아닐까최근': 1, '물어봐야': 1, '넓게': 1, '한국일보': 1, '50세': 1, '먹을': 1, '1위를': 1, '건강TV': 1, '알아보기': 1, '눈의': 1, '포도당혈당이': 1, '처음': 1, '속을': 1, '가지라도': 1, '반복하고': 1, '초': 1, '들려옵니다': 1, '폐암을': 1, '하는': 10, '사용하기': 1, '발전하고': 1, '대한심장학회': 1, '매운': 1, '바르지': 1, '강력한': 1, '예방접종증명서': 1, '5': 2, '10가지에': 1, '식단': 2, '설정': 2, '얼마나': 2, '평': 1, '답답할': 1, '균형을': 1, '무청蕪': 1, '결과': 2, '주로': 2, '갖고': 1, '그대로': 1, '여러': 2, '위해': 13, '고지방': 1, '악화되어': 1, '팔': 2, 'Pay': 1, '바로가기▼': 1, '넣었나': 2, '속도가': 2, '밟은': 1, '뭔데': 1, '놓치거나': 1, '정서는': 1, '않고': 2, '상태를': 2, '정도가': 1, '집약해': 1, '환자는': 2, '아냐': 2, '정신건강연구회': 2, '뱃살': 2, '‘뽀글이': 2, '친구를': 1, '상담': 1, '발톱’이라고': 1, '새벽': 1, '분류된': 1, 'ⓒ': 1, '해제': 1, '다운로드': 1, 'Partners': 1, '미착용은': 1, '크기로': 1, '음식을': 4, '사건의': 1, '잡는': 1, '갑상선기능항진증': 1, '돕는': 1, '4': 1, '수치심원인과': 1, '꽃': 1, '저하': 1, '직장인': 2, '깨기': 1, '14': 1, '해지': 24, '노후를': 3, '장질환': 1, '발병하는': 1, '올바른': 4, '네이버': 8, '합니다': 5, '법과': 1, '일생': 1, '미국': 2, '자극에도': 1, '있다면도기': 1, '분': 1, '오징어게임': 1, '그날': 1, '심지어': 2, '절반': 1, '공방으로': 1, '일생에': 1, '‘오징어게임’이': 1, '열심히': 1, '제고를': 1, '7000명의': 1, '가격': 1, '좋아하는': 1, '신뢰': 1, '교수‧정신건강의학과': 1, 'T': 1, '광장에서': 1, '마음의': 1, '이를': 1, '준비만': 1, '면에서': 1, '섭취하여': 1, '면모와': 1, '공지사항': 1, '넘게': 1, '중간': 1, '요리에': 1, '아까워서': 2, '쉬어야': 1, '방법에': 4, 'SBS': 1, '대해': 7, '전문의': 5, '기본': 1, '개발자': 1, 'Arthritis': 1, '부분에': 1, '총리직에서': 1, '총에': 1, '움직여': 1, '도움말로': 1, '맞았을': 1, '딱딱하게': 1, '어린이들을': 1, '스포츠음료가': 3, '어깨': 4, '핵심적인': 1, '편집자로': 1, '노화의': 1, '식품이지만': 1, '시스템': 1, '불티나게': 1, '과연': 2, '때문이죠': 2, '주변에': 1, '체크': 1, '내성': 3, '연관시켜': 1, '지도': 1, '정확한': 1, '이형성증은': 1, '어린이·청소년이나': 1, '서대문': 1, '식도암': 1, 'API': 1, '인구고령화가': 1, '나': 1, '안저검사로': 2, '고려해야': 1, '여기는': 1, '없다': 1, '한양대학교병원': 2, '방법과': 1, '있겠지만': 1, '호르몬을': 1, '전체': 3, '의해': 1, '시작페이지로': 1, '원장의': 1, '할': 5, '조림': 1, '못': 1, '활발하게': 2, '힐팁': 2, '인터넷에서': 1, '기능을': 1, '대면': 1, '서울특별시보라매병원': 1, '수술을': 1, '바쁜': 2, '음식': 2, '걸렸다는': 1, '060': 1, '강도에': 2, '특히': 1, '쑥갓은': 1, '복용하는': 1, '전반의': 1, '정신건강의학과': 2, '특징인': 1, '괴사하는': 1, '놓치기': 1, '국민건강보험일산병원': 3, '정싱민': 1, '마우스': 1, '백': 1, '인구': 1, '세균을': 1, '5초로': 1, '위험률을': 1, '공복에': 2, '재생시간0333': 1, '있습니다설정이': 1, '것들은': 1, '쇼핑캐스트': 1, '전자담배는': 1, '지구는': 1, '김하성': 1, 'up': 1, '대수롭지': 2, '이상을': 1, '데쳐서': 1, '노화가': 1, 'CT하고': 1, '사람일수록암': 1, '좀': 1, '교정이나': 1, '절반이': 1, '사람은': 1, '‘쌩쌩한': 1, '대표적인': 1, '항암치료제가': 1, '2025년에': 1, '인천나은병원': 2, '풀케어': 1, '가진다': 1, '약화된': 1, '예방접종이': 1, '데치지': 1, '‘이것’': 3, '크기는': 1, '낮다는연구': 1, '오은영': 1, '비만인구가': 1, '이러한': 2, '5060': 1, '밴': 1, '것인': 1, '의미죠흡연이나': 1, '관리를': 1, '불가능하다는': 1, '2주일': 19, '적용해보기': 1, '헬스앤라이프': 1, '불균형한': 1, '영양제': 1, '병을': 1, '새로운': 1, '일을': 2, '질병관리본부가': 1, '이야기는': 1, '그렇다': 1, '알아보는': 1, '먹는': 7, '키토산': 1, '원만한': 1, '중인': 1, '꺼져': 1, '비결이': 1, '자궁경부암': 1, '쉬운데요': 1, '건강과': 1, '랩스': 1, '내려놓은': 1, '타는': 1, '‘슬기로운': 1, '주범': 1, '되는': 1, '‘이것들’': 1, '병이라': 2, '심하면': 1, '100세': 1, '발견': 1, '숲': 2, '4주일': 1, '메디컬리포트': 1, '어려운': 1, '알': 1, '층의': 1, '아시나요': 2, '경우': 6, '나타날까요': 1, '블로그': 1, '자세로': 1, '도전하는': 1, '의미합니다': 2, '중장년층이': 1, '물질이': 1, '치료로': 1, '공식적인': 1, '습관6': 1, '있는데': 1, '있다면': 2, '456억': 1, '6월까지': 1, '부작용': 1, '책방': 1, '‘오징어게임’은': 1, '중국': 1, '주의해야': 1, '스트레칭': 2, '도움이': 1, '빠진': 1, '뇌출혈의': 1, '생각보다': 1, '생활습관': 1, '46': 1, '조절을': 1, '요소입니다': 1, '보지': 1, '성공했다': 1, '바이러스HPV에': 1, '있지만': 2, '아니라': 1, '위치하': 1, '인재채용': 1, '균주로': 1, '전문의인': 1, '병에': 2, '필요합니다그렇다면': 1, '‘급성장기’': 1, '약도': 1, '하나다': 2, '만져보면': 1, '느껴진다면': 1, '알기': 1, '분amp': 1, '하자GO': 1, '때문': 1, '충분한': 1, '김재성': 1, '회복하기가': 1, 'TV': 2, '책': 1, '다이어트가': 1, '피로제꽃게는': 1, '소비': 1, '속의': 1, '시간대연령남녀별': 1, '열쇠': 1, '참가자들이': 1, '공연전시': 1, '스트레스': 1, '과다하게': 1, '수용성이며': 1, '아이들까지': 1, '정리해드립니다': 1, '만들어': 1, '엔터': 1, '존재하여': 1, 'IT': 1, '영화': 1, 'DP에서': 1, '사는': 1, '말린': 1, '드라마틱': 1, '가지고': 3, '연령': 1, '환경호르몬이란': 1, '앞에서': 2, '찾아': 1, '내달': 1, '증상은': 1, '직접': 1, '6789101112': 1, '환수·손해배상': 1, '생활습관을': 1, '시즌': 2, '지키는': 1, '초보자를': 1, '확인해주세요': 2, '젖산균속': 1, '했던': 1, '건강’에서는': 1, '소개했습니다1': 1, '실탄이…알렉': 1, '진단이': 1, '반복': 1, '위해선': 1, '막막하게': 1, '일본': 1, '▼‘많이': 1, '아침엔': 1, '하겠습니다': 1, '세게': 1, '신뢰는': 2, '뺨을': 1, '드세요': 1, '변이로': 1, '불러일으키기': 1, '상황에서': 1, '참배': 1, '경희대학교병원': 1, '한다는데': 1, '않으면': 1, '30': 1, '잠을': 2, '중요성': 1, '습관': 5, '화장실로': 1, '부동산': 1, '6원': 1, '스트레칭’': 1, '연령층에': 1, '음식들을': 1, '로그인': 2, '방심하면': 1, '효과는': 1, '뿌리채소': 1, '되어': 1, '음식이': 1, 'COOV쿠브앱': 1, '당뇨에': 1, '환경호르몬은': 1, '타우린은': 1, '섭취': 1, '쑥갓나물은': 1, '대장염과': 1, '당뇨인': 1, '나상훈': 1, '척추': 3, '장질환으로': 1, '급증할': 1, '꽃게는': 1, '준수하기': 1, '2300밀리그램': 1, '추적': 1, '무가': 1, '추가': 3, '입력기': 1, '3주일': 8, '패션뷰티': 1, '●': 2, '되면서': 1, '팩트': 1, '사춘기': 1, '내세운': 1, '이와': 1, '국내병원': 1, '재생시간0559': 1, '단단히': 1, 'Connect': 1, '30분’': 1, '내용을': 1, '천식의': 1, '저장됩니다': 1, '다르다도움말': 1, '환자': 1, '가량이': 1, '깎아야': 1, '‘120세': 1, '방어능력을': 1, '잘못된': 1, '질환으로': 3, '진행정도는': 1, '카페글지식iN뉴스사이트': 1, '내가': 3, '복용이': 1, '워낙': 1, '사람들에게': 1, '의학적': 1, '독’이라고': 1, '건강에': 2, '섭취를': 1, '자궁경부암은': 1, '치질로': 1, '뼈를': 1, '치료': 3, '고령사회로': 1, '효과가': 1, '적극적인': 1, '아파트값은': 1, '되지': 1, '걷기': 1, '갑상선호르몬이': 2, '법률': 1, '호소하는': 1, '뇌졸중입니다': 1, '중요성에': 1, '뇌졸중의': 1, '나쁜': 5, '단계': 1, '진행된': 1, '트림': 1, '검토': 2, '내역이': 1, '보니': 1, '아닌지': 2, '정도보다': 1, '유산균은': 2, '건강한걸까': 1, '앉아': 1, '17세부터': 1, '2번': 1, '체육시설알리미': 1, '울혈로': 1, '네이버뉴스': 1, '당뇨환자증가': 1, '입니다': 1, '직장인’에서는': 1, '인구는': 2, '법적': 1, '총리는': 1, '면역력이': 1, '슬기로운': 1, '빅데이터상': 1, '칼슘과': 1, '허기진': 1, '교정해도': 1, '유도함으로써': 1, '공동': 1, '건강을': 7, '싫습니다': 1, '99349': 1, '우리엄마': 2, 'TOP': 1, '필요한': 3, '스트레스받네요': 1, '이호선': 1, '면역력까지': 1, '국제성모병원': 1, '다운받기': 1, 'Corp': 1, '예방에': 1, '영양’': 1, '많아': 1, '저탄고지': 1, '영향을': 2, '개인에': 1, '토마토': 1, '20대': 1, '실천하는': 1, '우리': 5, '‘당분이': 1, '일종으로': 1, '일궈온': 1, 'Rheumatism': 1, '현황': 1, '서울대병원': 1, '사례로': 2, '선고는': 1, '당뇨를': 1, '커진다는': 1, '담배에서': 1, '여성입니다': 1, '직접적으로': 1, '비즈니스': 2, '미치는': 2, '스포츠연예': 1, '차이는': 1, '초미세좋음': 1, '자동완성을': 1, '간이': 3, '배임': 1, '모든': 2, '통증이': 2, '미세염증': 4, '번': 4, '호소합니다': 1, '발생하기': 1, '‘당뇨’란': 1, '저하될': 1, '마음우체국': 1, '바이오메디컬공학과': 1, '한글표기로': 1, '설탕이': 1, '올렸다': 1, '식품의약품안전처는': 1, '강력': 1, '사람이': 2, '말을': 1, '자동완성': 5, '가지': 2, '‘숙면’은': 1, '쉽다': 1, '지식iN': 1, '헬스경향': 3, '나타났는데요오늘은': 1, '형성시킨다': 1, '촬영중': 1, '지방의': 1, '추가되었습니다': 2, '조기발견': 1, '편인데': 1, '해소되는': 1, '극한의': 1, '소변에': 1, '없으시죠': 1, '영양제도': 1, '넣고': 1, '궤양': 1, '관심주제': 1, '사람들이': 2, '증상': 1, '드는': 1, '정부가': 1, '물건들을': 1, '있다': 8, '경우가': 4, '데려와': 1, '있나요': 2, '행복하게': 2, '이유로': 1, '간식': 1, '초간단': 1, '식습관은': 1, '닥터스픽에서는': 1, '줄여': 1, '전체언론사': 1, '마비될': 1, '헬스뉴스닷컴': 2, '주인공': 1, '질문들': 1, '것이다': 4, '즐기는': 2, '관심을': 2, '바뀔': 1, '밝혔습니다': 1, '하시겠습니까': 4, '건': 2, '할까립밤': 1, '긴': 1, '1769': 1, '사용자': 1, '해보신': 1, '스크롤만': 1, '지식교양': 1, '유산균': 1, '근육의': 1, '좁게': 1, '장기적인': 1, '수치스러운': 1, '간편하게': 2, 'x27천연': 1, '운영시간': 1, '바나나를': 2, '이유': 4, '하나인': 1, '대부분이다': 1, '질환인': 1, '굉장히': 1, '논란…유동규': 1, '흔히': 4, '질병의': 1, '없어도': 1, '움큼씩': 1, '채우는': 1, '것인데요': 1, '비만인구는': 1, '기사보기': 24, '장애': 2, '어떻게': 7, '주사': 2, '경제M': 1, '됩니다': 1, '돼': 1, '검증': 1, '사람들은': 1, '만약': 1, '결국': 1, '크리에이터': 1, '결막염을': 1, '모습사진x3D대한안과학회': 1, '연합뉴스': 1, '사실을': 2, '다가올': 1, '선홍색': 1, '너무너무': 1, '후유증이': 1, '변형된다': 1, '항문에': 1, '경험합니다': 1, '감량하기': 1, '경제': 1, '사람도': 3, '락토바리실루스목의': 1, '하는지': 2, '가벼운': 2, '재개통': 1, '지키기': 1, '짭쪼름한': 1, '발톱에': 1, '유명인이': 1, '상태에서': 1, '불면증': 3, '신호': 1, '제대로': 2, '어깨를': 2, '알아야': 1, '사형선고라는': 1, '등을': 3, '썸네일형': 1, '불리는': 2, '설정하기': 1, 'SME': 1, '것은': 3, '섭취량은': 1, '일반': 1, '나누리병원': 1, '감염성': 1, '여행': 1, '발표했다': 2, '중요성은': 1, '누구나': 1, '밝혀지지': 1, '대한': 10, '효과적이고': 1, '역할을': 1, '낮은': 1, '확인': 8, '완화에': 1, '왜': 2, '운동으로': 1, '담배는': 1, '의지': 1, '세상을': 1, '대장암': 4, '전립선염에': 1, '컨텍스트': 4, '하면': 5, '‘플로깅Plogging’': 2, '고령': 1, '5년간': 1, '키우고': 1, '이유였다': 1, '치질과': 2, '것도': 1, '일상회복': 1, '병식이라고': 1, '위에서부터': 1, '승자가': 1, '무우로': 1, '걱정과': 1, '그만두지도': 1, '근육이': 2, '사용했다는': 1, '암은': 1, '데': 1, '효과를': 1, '65세': 1, '당뇨가': 1, '칼슘의': 1, '있어': 1, '1명이뇌졸중': 1, '많지': 1, '원리와': 1, '싶은': 1, '빠지게': 1, '위험해요': 1, '섭식장애로': 1, '앓고': 1, '‘류마티스관절염’': 1, '주제별': 1, '이형성증': 1, '출판사': 1, '놓은': 1, '무시': 1, '향긋한': 2, '걷는': 1, '대부분': 1, '과음': 1, '폐': 2, '락토바길루스과': 1, '3번': 1, '뿐': 1, '2세': 1, '예방접종의': 1, '알아보고': 1, '저장': 2, '논란을': 1, '불릴': 1, '듯한': 1, '시멘트질': 1, '개인정보처리방침': 1, '고통': 1, '생소했지만': 1, '또': 3, '전까지만': 1, '양극성': 1, '전성기': 1, '이용하여': 1, '넘으면': 1, '잘못하다가는': 1, '친구관계도': 1, '쓰림은': 1, '최근검색어': 1, '일': 1, '내렸다고': 1, '치료했느냐에': 1, '3일': 1, '모음': 1, '강동경희대학교병원': 1, '식품이라도': 1, '증상이다': 1, '출혈은': 1, '나이가': 1, '방영된': 1, '좋지': 1, '고민은': 1, '021': 1, '사람들': 1, '보인다': 1, '굳어': 2, '호흡곤란': 1, '남성에게': 1, '비정상적으로': 1, '인하대병원': 2, '깨요”': 1, 'USD': 1, 'lt변화와': 1, '임하는': 1, '균이기': 1, '것입니다': 1, '충분히': 1, '보곤': 1, '300226': 1, '치료해야': 1, '혈관이': 1, '그중에서도': 1, '순서로': 1, '발급부터': 1, '20세': 1, '스탠포드대학교Stanford': 1, '구내염': 1, '부르는': 2, '연구진이': 1, '유대감을': 1, '오픈': 1, '맛이': 1, '쑥갓의': 1, '메뉴설정': 1, '사실과': 1, '고혈압을': 1, '인간의': 1, '8°': 1, '하나둘': 1, '되지만': 1, '이야기입니다': 1, '장수': 1, '섭취한': 1, '강하다': 1, '개설': 1, '돌연': 1, '웨일': 1, '착용의': 1, '제휴제안': 1, '중에서도': 1, '최근': 6, '어렵고': 2, '경험자': 1, '읽어도': 1, 'Day’입니다': 1, '돌판': 1, '화면에서': 1, '향의': 1, '브라우저': 1, '미국심장협회는': 1, '36': 1, '우려가': 1, '심각한': 1, '20대인': 1, '메일': 1, '수술의': 2, '캔서앤서': 1, '발병위험이': 1, '스몰비즈니스': 1, '효능은': 1, '특징': 1, '사랑을': 1, '증상을': 1, '신뢰하는': 2, '최소화하는올바른': 1, '세계적으로': 1, '무는': 2, '하이닥': 2, '성분인x27오스테오칼신x27': 1, '전체삭제': 1, '현재': 2, '넘기곤': 1, '체육시설알리미입니다': 1, '사진x3D게티이미지뱅크': 2, '항문': 1, '치매': 2, '물론': 1, '빠른': 1, '재발을': 1, '살펴본': 1, '금연을': 1, '‘내성': 1, '하루': 7, '치료‧개선을': 1, '수도물건': 1, '식품의약품안전처가': 1, '같이': 4, '쿡amp': 1, '투자': 1, '제시했습니다': 1, '않아야': 1, '마음을': 1, '면역력': 1, '전두환': 3, '강조되고': 1, '등등': 1, '하게': 1, '10년': 1, '여성에게': 1, '복용법': 2, '40명': 1, '비타민K를': 1, '장기적으로': 1, '타우린': 1, '생활': 4, '사전': 1, '힘든': 1, '정신의학신문': 4, '존재합니다': 1, '516만명을': 1, '기도가': 1, '연구결과를': 1, '쉴': 1, '없으며': 1, '정상적인': 1, '60°160°': 1, '‘무음': 1, '어쩌면': 1, '정맥이': 1, '34시에': 1, '종양의': 1, '라면’을': 1, '느껴지시나요': 1, '성인': 4, '출혈': 1, '신고': 1, '반영한': 1, '치핵으로': 1, '방치할': 1, '‘운동': 1, '집에': 4, '4일': 3, '역대급': 1, '동물공감': 1, '올라옴': 1, '홈에서': 1, '류마티스': 1, 'MRI': 1, '쓰이는': 1, '특유의': 1, '식사법': 1, '남성': 2, '등으로': 2, '상태인': 1, '이하를': 1, '프로젝트': 1, '그러나': 1, '유발하는': 3, '기관에서': 1, '테스트': 1, '수': 17, '늘어져': 1, '관리법': 2, '기념': 1, '쑥갓채로': 1, '신경퇴행성': 1, '디자인': 1, '이용약관': 1, '많고': 1, '추첨': 1, '하나가': 1, '◆': 1, '않는다': 1, '시술에': 1, '예시일': 1, '혀가': 1, '의사생활': 1, '일상생활에서': 1, '식사를': 1, '층': 1, '공생하는': 1, '단계를': 1, '부작용이': 1, '개발되면서': 1, '대장에': 1, '기획': 1, '약물치료를': 1, '순환기내과': 1, '3차원': 1, '립밤을': 1, '기관지가': 1, '다행히도': 1, '오픈소스': 1, '척추관절': 1, '급속히': 1, '‘숫자로': 1, '유산을': 1, '이들이': 1, '말씀드리려고': 1, '악화': 1, '보건의료빅데이': 1, '분야': 1, '분비되면': 1, '시대’라는': 1, '궤양성': 2, '요즘이다': 1, '서대문역': 1, '크다': 1, '현대인의': 1, '시대': 1, '향이': 1, '1723만': 1, '박수': 1, '심근경색증': 1, '해피빈': 1, '식탐이': 1, '어제': 2, '눈도장을': 1, '반드시': 3, '구치부': 1, '받았다': 1, '나도': 1, '많은': 9, '많다': 5, '많습니다오늘은': 1, '출처': 1, '12일은': 1, '공유시킬': 1, '○○이': 1, '보면': 2, '고통도': 1, '알려진': 4, '한명훈': 1, '고쳐야': 1, '매경헬스': 2, '풍선': 1, '뇌졸중에': 1, '한다비타민': 1, '많은데요': 2, '구독하시면언론사가': 1, '치아': 3, '호흡기': 1, '장애를': 2, '먹으며': 1, '라이트': 1, '진행됩니다': 1, '대신': 1, '꼽히는': 2, '맛있는게': 1, '건강': 66, '영양소': 1, '달달한': 1, '끄기': 2, '미리': 1, '83개국': 1, '지난': 1, '약은': 2, '망가뜨리기': 1, '자궁경부이형성증': 1, '독': 1, '방해하는': 1, '이미': 2, '타임스퀘어': 2, '골': 1, 'University의': 1, '겪곤': 1, '완벽하게': 1, '쾌변': 1, '않았습니다': 1, '간의': 1, '확장술': 1, '2’가': 1, '식당·카페': 1, '‘○○○’': 1, '분비되지': 1, '가치를': 1, '체육시설알리미와': 1, '습관을': 1, '돕는다': 1, '빠지지': 1, '파악이': 1, '탄수화물': 2, '카렌': 1, '그렇다면': 1, '오늘은': 3, '체중': 2, '질환이': 2, '24시간': 1, '기준으로': 1, '조절에': 1, 'date': 2, '관리해야': 1, '걸': 1, '챙겨야': 3, '이는': 1, '살면서': 1, 'query': 1, '풀기': 1, '또는': 4, '일상': 1, '있는지': 2, '711mg의': 1, '위치한': 1, '누르면': 1, '한글': 2, '병변이': 1, '고령화': 2, '그런': 1, 'x27췌담도암x27입니다': 1, '방치하면': 3, '위험할': 1, '운동부족': 1, '아침시간에는': 1, '117810': 1, 'International가': 1, '예방접종이란': 1, '무기질': 1, '정교한': 1, '치료에': 2, '제공합니다': 1, '수술에': 1, '날World': 1, '매거진전문지': 1, '구체적인': 1, '부모님과': 1, '습관들이': 1, '호르몬이': 1, '출혈의': 1, '10월': 2, '동영상': 2, '사람마다': 1, '남성들이': 1, '언급되는': 1, '교수Q': 1, '감퇴와': 1, '하더라도': 1, '이라는': 1, '이번': 1, '갖추게': 1, '않은': 1, '접어들면서': 1, '예방해야': 1, '채소로만': 1, '경제적': 1, '답답함': 1, '지역업체': 1, '모드': 1, '만들': 1, '아픈': 1, '도움을': 1, '질이': 1, '다시': 1, '것들도': 1, '10월이': 1, '일반적으로': 3, '일본어사전': 1, '치료가': 2, '의심해야': 1, '신뢰깨진': 1, '신체가': 1, '친구': 1, '증시': 2, '구독': 26, '1년': 1, '4시면': 1, '되기': 1, '엄마': 1, '기능장애는': 1, '활용하는': 1, '진료': 1, '사실': 1, '7억명': 1, '쓰림을': 1, '집단': 1, '2015년부터': 1, '삶의': 1, '치': 1, '패턴을': 1, '간': 4, '‘세계': 1, '등의': 3, '않아': 2, '조사에': 1, '정책': 2, '세포와': 1, '운동을': 3, '하나쯤': 1, '오는': 1, '균을': 1, '日': 1, '회사소개': 1, 'ONOFF': 1, '누군가': 2, '상식과': 1, '역학보고서에': 1, '로봇': 4, '공부': 1, '채소다‘무’는': 1, '진료시간': 1, '있기': 1, '기름': 1, '집안일': 1, '‘치매’입니다': 1, '습관으론': 1, '부모로부터': 1, '웹툰': 2, '신체적': 1, '구강암': 1, '알려져': 3, '정해진': 1, '연령이': 1, '‘일과성뇌': 1, '인지하면서도': 1, '재생': 9, '인해': 3, '유튜브에…韓': 1, '개의': 1, '통해': 3, '녹내장·당뇨망막병증·황반변성': 1, '간에': 1, '본다면': 1, '세브란스': 2, '당신은': 1, '환자의': 1, '편집한': 1, '영향': 2, '만큼': 2, '폐렴을': 1, '호전돼': 1, '한국': 1, '그': 1, '싫고': 1, '부작용도': 1, '내향성': 1, '있습니다': 13, '병원에': 1, '웃음과': 1, '유발할': 1, '아침에': 1, '서운해할': 1, '알아보았습니다': 1, '번아웃을': 1, '아침': 1, '자생한방병원': 1, '꽃게': 1, '총칭하여': 1, '간장': 1, '지에': 1, '가족과': 1, '거래처': 1, '뜻한다': 1, '치료의': 1, '나라의': 2, '발휘한다고': 1, '발생할': 1, '능력': 1, '원인은': 2, '싶다': 1, '안녕하세요': 1, '꾸준히': 1, '영양제다': 2, '건망증': 1, '영양결핍과': 1, '심장병이': 1, '국어사전': 1, '않게': 2, '광주서': 1, '등록': 2, '오늘': 3, '마치': 1, 'K': 1, '이재명…盧묘역도': 1, '50': 1, '이전': 6, '받아왔던': 1, '그에': 1, '갑상선기능저하증에': 1, '박사가': 1, '정보를': 1, '따르면우리나라': 1, '자극적인': 1, '관절염의': 2, '다른': 2, '당뇨성': 1, '고객센터': 1, '자는': 1, '차이점이': 1, '소개해': 1, '“새벽': 1, 'in': 2, '3대': 2, '갖는': 1, '등이': 3, '받아야': 1, '100g당': 1, '흥행': 1, '당뇨병으로': 1, '작년': 1, '깎을': 1, '과거에는': 1, '보내는': 2, '만성': 1, '보충제를': 1, '인공관절입니다': 1, '심장': 6, '대처법': 1, '내는': 1, '🔊코로나19': 1, '지속하는': 1, 'Best': 1, '주위의': 1, '인한': 2, '대장': 1, '지주막하는': 1, '‘위궤양’을': 1, '제철로': 1, '조심하세요': 1, '삭제': 1, '막혀': 1, '계시나요': 1, '살짜가': 1, '신체': 3, '약': 6, '해치는': 1, '게다가': 1, 'and': 1, '증가하고': 2, '더': 3, '추세입니다': 1, '효능': 2, '실행': 1, '매일': 2, '이름이다': 1, '괜찮을까': 1, '지속되면': 1, '①': 1, '尹': 1, '옮을': 1, '도와': 2, '삶에': 1, '식도염을': 1, '체질과': 1, '기관지에': 1, '급속한': 1, '설정에서': 1, '어렵다': 1, '의심해볼': 1, '영양학적': 1, '차지하는': 1, 'Forgot': 1, '성기훈이정재': 1, '위험한': 2, '들어오는': 1, '임시방편이': 1, '흥행을': 1, '지주막하': 2, '뜨거운': 1, '위해서는': 4, '질병': 1, '해요': 2, '상한다': 1, '방치하거나': 1, '너무': 1, '알아보도록': 3, '아주': 1, '12회로': 1, '날': 1, '중요하며': 1, '에너': 1, '어떠한': 1, '접근이': 4, '양은': 1, '수술은': 2, '단': 2, '섭취해야': 1, '선택하는': 1, '재발': 1, '지금': 1, '인유두종': 1, '통증': 1, '세계보건기구WHO에': 1, '2개월': 2, '수도': 1, '순환을': 1, '의문도': 1, '34시': 1, '나오지': 1, '리스트형': 1, '간식을': 1, '얻어갈': 1, '결손에': 1, '따라하기40초버전': 1, '현': 2, '부족한': 1, '속에': 1, '소변으로': 1, '영어사전': 1, '풍부해': 1, '재생시간0209': 1, '시뮬레이션과': 1, '살': 1, '비위생적인': 1, '환율': 1, '정밀함과': 1, '다음다음': 1, '대결…이재명': 1, '내용': 1, '진행하는': 1, '넷플릭스': 1, '아닙니다': 1, '일시적인': 1, '코너입니다': 1, '가을철에': 1, '한끼': 1, '본적도': 1, '않기': 1, '재생시간0922': 1, '은수미': 1, '볼까요Q': 1, '센터': 1, '질환에': 1, '도움말': 2, '그만큼': 1, '화제를': 1, '필수적이고': 1, '방법': 2, '밸런스’새벽': 1, '떨어뜨릴': 1, '코스닥': 1, '상실로': 2, '라면에서': 1, '혈변과': 1, '즐겨먹는다면': 1, '차지했고': 1, '실명질환': 1, '설정은해당기기브라우저에': 1, '썰어서': 1, '언론사를': 1, '·': 1, '저장고': 1, '소리': 1, '대부분의': 1, '절여': 1, '자신이': 1, '학교에': 1, '뇌졸중이': 2, '무해하다는': 1, '인체에': 2, '남자들만': 1, '하겠습니다1': 1, '극도로': 1, '산다': 2, '말이': 3, '조현병': 1, '6': 1, '뺄': 1, '연애·결혼': 1, '보다': 2, '신조': 1, '떠올랐는데요': 1, '증상이': 8, '게임에': 1, '나이': 1, '병원체를': 1, '6일': 2, '사망률이': 2, '뇌경색': 2, '점심엔': 1, '기능이': 1, '정신': 2, '발톱': 3, '질문을': 3, '빈속에': 1, '강동경희대병원': 1, '의학': 1, '보이는': 2, '후에': 1, '카페': 1, '언어기능': 1, '상': 1, '바로가기': 7, '천식에': 1, '비틀기인데요손을': 1, '가볍게': 1, '서비스': 2, '불가능해': 1, '상병이': 1, '화해’는': 1, '초래하여': 1, '인식': 1, '투병하다': 1, '레이어': 2, '소품총에': 1, '같은': 5, '치매는': 1, '로봇이': 1, '빈번하게': 1, '심근경색증은': 1, '추천하는': 1, '돌아간다스포츠음료는': 1, '뇌': 4, '현대유비스병원': 1, '적당한': 2, '없어졌거나': 1, '광화문': 2, '못하는': 2, '통한': 1, '선택이': 1, '중심으로': 1, '체력저하': 1, '상황마다': 1, '언제부터인지': 1, '원의': 1, '대학생입니다': 1, '청구': 1, '함께': 5, '질환': 6, '된': 1, '카테고리': 1, '음료로': 1, '추세': 1, '이로운': 1, '각광받는': 1, '자세히보기': 1, '글주제별로': 1, '취소': 4, '대사입니다DP가': 1, '중앙일보': 1, '강북연세병원': 1, '형성하도록': 1, '코스피': 1, '예측이': 1, '요거트': 1, '모르게': 1, 'Username': 1, '쇼핑LIVE': 1, '유머와': 1, '환자인': 1, '항상': 1, '몇': 2, '있다는': 3, '우리나라의': 1, '확인해': 1, '병행하면서': 1, '사람을': 1, '1996년': 2, '증가한': 1, '필수인': 1, 'Developers': 1, '영양성분인': 1, '약한': 1, '복용을': 3, '대인기피와': 1, '지구온난화에': 1, '밥': 1, '천식은': 1, '성조숙증': 6, '하나': 1, '있는데요': 2, '실제': 1, '혈당': 1, '정도의': 1, '필요하다': 1, '방송통신': 1, '가슴속에': 1, '깨면': 2, '먹고': 2, '지치는': 1, '한다': 3, '생활을': 1, '봄': 1, '의사에게': 2, '환자가': 3, '배를': 1, '정상과': 1, '자궁경부': 2, '대한민국': 1, '자가': 2, '35세': 1, '탄산음료를': 1, '촉진': 1, '교정하면': 1, '종합경제': 1, '이내에': 1, '헤어나기': 1, '최고라는': 1, '깻국으로': 1, '사이트영화웹문서사전': 1, '맞을': 1, '정신병적': 1, '돈보다': 1, '깍지를': 1, '부제': 1, 'D2SF': 1, '강하게': 1, '조직이': 1, '30분': 1, '가을': 2, 'QampA': 1, '저': 1, '그것이': 1, '줄이고': 1, '변형돼': 1, '발톱을': 2, '구강환경으로': 1, '하지': 3, '항암치료': 2, '연구': 1, '원인·증상·현황류마티스관절염': 1, '앞두고': 2, '구조에서의': 1, '재치로': 1, '교수가': 1, '인식이': 1, '원인으로': 1, '주된': 2, '연쇄상구균과': 1, '때문에': 2, '단백질': 1, '뇌졸중': 1, '연구에서': 1, '5회차': 1, '없습니다': 1, '된다': 2, '교양있는': 1, '‘오은영의': 1, '수명만큼': 1, '부풀고': 1, 'D2': 1, '않더라도': 1, '많으실': 1, '4억명': 1, '몸속': 2, '게임': 2, '벽을': 1, '맞춰': 1, '혈변은': 1, '참가한': 1, '걸린': 2, '비타민과': 1, '뉴스들을': 1, '하나는': 1, '무쳐': 1, '지방': 1, 'YOU': 1, '한의학박사한동하한의원': 1, '것’': 1, '가공식품을': 1, '사용되는': 1, '어린이가': 1, '착용하지': 1, '수술': 5, '혈액': 2, '6가지를': 1, '한': 9, '진실인지': 1, '안': 6, '찌릿한': 1, '1500밀리그램': 1, '운동': 6, '저녁엔': 1, 'txt': 5, '먹으면': 2, '비타민K는': 1, '1개월': 7, '관절염도': 1, '많아질수록': 2, '완성도를': 1, '재생시간0356': 1, '겪으면서': 1, '망치는': 1, '소비가': 1, '21시간': 1, '동일한': 1, '식사와': 1, '될': 2, '해보자소변에서': 1, '‘간의': 1, '내원합니다반면': 1, '이곳이': 1, '혈관': 2, '짧은': 1, '있을까요●환자라는': 1, '걸렸는지': 1, '뜨겁고': 1, '고민': 2, '메이요': 1, '해야할까': 1, '챙겨': 1, '카페명': 1, '생활방식': 1, '하죠약의': 1, '백과사전': 1, '한데요': 1, '과일이나': 2, '자료를': 1, '제때': 1, '명이라고': 1, 'ampl': 1, '쌓여': 1, '환경호르몬이': 2, '무슨': 1, '첨단': 1, '보기': 3, '받는': 2, '큰일': 1, '10': 2, '테크': 1, '익숙한': 1, '텐데요': 1, '꽃게입니다': 1, '걸고': 1, '설탕': 2, '레시피': 1, '등': 7, '속이': 1, '돌풍을': 1, '당첨번호': 1, '성별': 1, '조선': 1, '류마티스관절염': 1, '요리': 1, '정도': 2, '할까요': 1, '갈아타는': 1, '비타민C': 1, '등교하지': 1, '식단으로': 1, '전치부': 1, '원래대로': 1, '기다리느라': 1}\n"
     ]
    }
   ],
   "source": [
    "# 3. 네이버 사이트 필터링 결과 \n",
    "printResultFilter(source_naver)"
   ]
  },
  {
   "cell_type": "code",
   "execution_count": 97,
   "id": "1b33e67b",
   "metadata": {},
   "outputs": [
    {
     "name": "stdout",
     "output_type": "stream",
     "text": [
      "3. 각 단어들의 출현빈도 수\n",
      "\n",
      "{'서울뉴스1': 1, '지난': 2, '지난달': 1, 'AI': 1, 'gt': 4, '19도': 1, '높이': 1, '버스정보': 1, '스마트워치': 1, '쥐어본': 1, '시작되기': 1, '부가티인도': 1, '운세': 1, '플랫폼': 1, '첫': 2, '시계': 1, '탭5전체': 1, '슈라이그': 1, '몸부림지난': 1, '제가': 1, '탭8': 1, '하지만': 1, '오리지널': 2, 'by': 4, '준법경영위한': 1, '병원이송중': 1, '위치기반서비스이용약관': 1, '패스': 1, '카카오계정으로': 1, '탐사선': 1, '사전지식': 1, '나오나': 1, '탭2전체': 1, '이휘X정지운': 1, '루리웹닷컴': 2, '5천만': 1, '말이야': 1, '속출했다': 1, 'QR코드': 1, '지옥': 1, '어딨어요＂': 1, '멜론': 1, '25만': 1, '일반뉴스': 1, '영하': 1, 'ISSUE': 1, '쇼핑': 3, '이정재': 1, '주요국': 1, '준수가': 1, '3': 1, '16°C': 3, '했다': 1, '전경환': 1, '기자간담회': 1, '부동산': 2, '통합대기': 1, '도시어부': 1, '결과를': 1, '빈소': 1, '머선129': 2, '바뀐': 1, '메뉴닫기': 1, '인기': 1, '있었다는': 1, '크게': 2, '18세': 1, '누리호': 3, '로그인': 4, '자동차': 2, '온라인콘서트': 1, '지친': 1, '통합': 1, '나로우주센터': 1, '편의성이': 1, '22': 1, '트라이브리게이드': 1, '프롤로그': 1, '손에': 1, '안내': 2, '모습에': 1, '징크스': 2, '자체': 1, '모사체를': 1, '동영상': 14, '재택치료': 2, '이미지': 2, '13°C': 1, '접속이': 1, '대전시': 1, '김재영에': 1, '출시돼': 1, '펼치기': 1, '서른': 1, '낮다': 1, '창어嫦娥': 1, '두고두고': 1, '다음': 7, '이곳에서의': 1, '보니까': 1, '39코로나': 1, '15도': 2, '물부터': 1, '측면에선': 1, '추진': 1, '도로': 2, '출시한': 1, '코로나': 2, '이상': 2, '활동이': 1, '유난히': 1, '탭': 8, '아이폰과': 1, '헤럴드경제': 2, '있는': 2, '활동quot中': 1, '코로나19': 1, '검색': 4, '다시': 1, '없다는': 2, '다음을': 1, '미쳐ICBM': 1, '중앙CCTV에': 1, '정신과에': 1, '전체보기': 2, '환자': 1, '올': 1, '왜요': 1, '차이': 1, 'J': 1, '게': 1, '5호가': 2, '증시': 1, '따릉이': 1, '온다': 1, '1년': 1, '전작보다': 1, '내가': 2, '위': 1, '바뀌고': 1, '비': 3, '상세보기': 1, '사람': 3, '3단': 1, '12°C': 1, '이준석': 1, '전라남도': 2, '8897': 1, '회전': 1, '발칵언제쯤': 1, '연결하는': 1, '실수요자': 1, '마그마': 2, '서로를': 1, '테스트UBTrsquo를': 1, '오는': 1, '13도': 1, '이기범': 1, '동생': 1, '가져온': 1, '19°C': 1, '달': 3, '日': 1, '회사소개': 1, '＂서우재': 1, '변했어quot': 1, '뉴스1': 1, '도리도리·쩍벌': 1, '날개': 1, '기기와': 1, '프로젝트100': 1, '초호화': 1, '두': 2, '후회하게': 1, 'quot달에서': 1, '제한': 1, '꾸린다quot': 1, '따르면': 1, '보니': 1, '열정적으로': 1, '39애플워치739를': 1, '웹툰': 2, '주요장면': 2, '최원영': 1, '모자랐다quot': 1, '식품': 1, '애플워치를': 1, '1차': 1, 'TV하이라이트': 2, '원이면': 1, '통해': 1, '리뷰용으로': 1, '7': 1, 'RG': 1, '아이디로': 1, '잘못되기엔': 1, '접근성': 1, '광고': 1, '참았다비수도권': 1, '전동스쿠터': 1, '범인은': 1, '것으로': 1, '헤럴드경제박세환': 1, 'lsquo언박싱': 1, '급격': 1, '똑같더라': 1, '카카오비즈니스': 1, '그': 1, '선물하기': 1, '김동연': 1, '여행작가': 1, '전에는': 1, '15일': 2, '벗었다': 1, '가열될': 1, '경상남도': 1, '달전': 1, '왜quot23주': 1, 'lsquo언디셈버rsquo가': 1, '학교': 1, '둘': 1, 'Corp': 1, '마침내': 1, '길찾기': 1, '5회': 1, '사망기력없다': 1, '유승민': 1, '통신장비': 1, '인스타': 1, '회원가입': 1, '영원히39': 1, '현황': 1, '17°C': 9, '마주친': 1, '소식': 1, '유익한': 2, '쇼핑하우': 1, '지역': 1, '닫기': 1, '한국경제': 1, '운동5년': 1, '지난해': 1, '탐사': 1, '내': 3, '일만': 1, '높은': 1, '기능': 1, '전쟁39이': 1, '비즈니스': 1, '신': 1, '전인': 1, '소셜임팩트': 1, '제주자치도': 1, '모든': 1, '오늘': 1, '꼬꼬무': 1, '고현정최원영♨️': 1, 'OST': 1, '카카오헤어샵': 1, '꺼져버린': 2, 'lt': 4, '이전': 6, '스타일': 1, '달래주는': 1, '가격은': 1, '막상': 1, '삼성전자가': 1, '경기': 1, '보': 1, '홈amp쿠킹': 1, '삼치王이다': 1, '신제품': 1, '퍼포머처럼': 1, '정체': 1, '이사짐예약': 1, '히더퍼': 1, 'lt이전': 1, '누리호가': 1, '충청북도': 1, '다른': 1, '포토': 4, '엔딩': 1, '실패했다': 1, '2': 1, '고객센터': 1, '16도': 3, '정지': 1, '같이가치': 3, '많이': 1, '혈압도': 1, '남았다': 1, '안드로이드': 1, 'PC': 1, '어때요': 1, '연예': 2, '약관': 1, '의심했다': 1, '아이폰13': 1, '왜23주': 1, '경기도': 1, '무주택': 1, '최고의': 1, '105억': 1, '르노삼성차': 1, '1': 2, '자유도': 1, '제2발사대를': 1, '의자추천': 1, '랭킹': 1, '단어장': 1, '아메리카노♭': 1, '상대편의': 1, '이재명윤석열은': 1, '연재': 1, '브런치': 3, '전': 2, '이슈': 1, '위에': 1, '8년': 1, '와르르': 1, '떠난': 1, '쇼핑생활': 1, 'LPG차': 1, '펼까': 1, '실시간': 1, '밝혔다': 1, '©': 1, '메이커스': 1, '정치권': 1, '눈': 1, '정상으로': 1, '약': 1, '및': 2, '번역': 1, '더': 1, '공개하자': 1, '인천시': 2, '더보기': 2, '길었던': 1, '속도는': 1, '전작과': 1, '채취한': 1, '이유': 1, '개·사과': 1, '황금': 1, '결과가': 1, '확산': 1, '너를': 3, '15°C': 2, '또다시': 1, '디자인에': 1, '12월': 1, '빨리': 2, '부산서': 1, '의문이': 1, 'quot도대체': 1, '변화가': 1, '티스토리': 2, '시즌2': 1, '것이었다': 1, 'lsquo플로어rsquo를': 1, '회사생활': 1, '39공포의': 1, '1939': 1, '새로워진': 1, '카니발': 1, '눈의': 1, '화면': 1, '1970년대': 1, '타주는': 1, '안착시키는': 1, '자체가': 1, '빨라졌다': 1, '삼성전자': 1, '지하철노선도': 1, '비해': 1, '5시': 1, '맑음': 13, '난제': 1, '너무': 2, '받게': 1, '성공했지만': 1, '하는': 1, '유희왕헥사기어': 1, '이사벨이': 1, 'TF사진관': 1, '사장': 1, '5': 1, '완벽한': 1, '국가대표': 1, '검사가': 1, '쿠키뉴스': 2, '언디셈버': 1, 'TV편성': 1, '어복황제': 1, '설정': 1, '배터리': 1, '창어': 1, '시리즈7': 1, '제휴문의': 1, '의과대학': 1, '연기상후보': 1, '실시': 1, '것은': 1, '후': 1, '결과': 1, '못밟을': 1, '문화엔터': 1, '즈음': 1, '로드뷰': 1, '영업시간': 1, '비교해보니': 1, '날씨정보': 2, '발표했다': 1, '메가': 1, '환율': 1, '살': 1, '카카오이모티콘샵': 1, '광주시': 1, '밟은': 1, '39손목': 1, '한국형': 1, '완화': 1, '것': 1, '폭파': 1, '대여해': 1, '쇼핑라이브': 1, '셀프': 1, '날씨': 21, '늦은': 1, '대한': 1, '강호동': 1, '아냐': 1, 'ldquo아이폰13middot애플워치': 1, '꾸린다': 1, '아닙니다': 1, '결정적': 1, '감염': 1, '자유롭게': 1, '33': 1, '아파도': 1, '대구시': 1, '다크호스': 1, 'UBT가': 1, '출퇴근': 1, '해제': 1, '부른': 1, '냉기에': 1, '머니': 1, '사업': 1, '성공으로': 1, '이같은': 1, '잡는': 1, '활발한': 1, '18도': 1, '아이폰13과': 1, '입지': 1, '1탭': 1, '강한결': 1, '멘탈': 1, '연구진의': 1, '연구진은': 1, '4': 1, '몫': 1, '선택됨': 1, '선공': 1, '모바일': 1, '포토amp영상': 1, '미세먼지': 1, '분노': 1, '기자': 4, '액션': 1, '충전': 1, '39애플워치739': 1, '멀티미디어': 2, '직장IN': 1, '뮤직': 1, '아끼려다': 1, '6': 1, 'reserved': 1, '겨울': 1, '하루의': 1, '분': 1, 'quot46초가': 1, '아': 1, '사망사례68세': 1, '음식점': 1, '마지': 1, '좁아지는': 1, '여행맛집': 1, '목록': 2, '6일': 1, '커뮤니티': 1, '참치게임★': 1, '겉보기엔': 1, '바주카': 1, '21일': 1, '내용의': 1, '전환': 1, '전용': 1, '신작': 1, '중에': 1, '콘텐츠': 2, '귀환한': 1, 'rights': 1, '9°C': 1, '닮은': 3, '카페': 3, '상': 1, '바로가기': 9, '개인정보처리방침': 2, '목소리연전연패': 1, '서비스': 5, '공지사항': 1, '눈에': 1, '내부': 1, '소유기': 1, 'BTS': 1, '가독성과': 1, '한국에서': 1, '하이퍼': 1, '달라졌을까39갤워치439와': 1, '자동실행': 1, '같은': 1, '대해': 1, '박철민': 1, '믿는다던': 1, '웹': 1, '주요': 2, '50도': 1, '비석': 1, '회사는': 1, '것들': 1, '소개': 1, '진행한다': 1, '불량에': 1, '바리스타': 1, '시리즈7은': 1, '거리두기': 1, '분리': 1, '금': 1, '애플워치': 1, '중국과학원은': 1, 'All': 1, '한글입력기': 1, '딱지': 1, '써봤다': 1, '9도': 1, '1억': 1, '북극': 1, '헤럴드경제박혜림': 1, '베일을': 1, '엔진': 5, '우려하나': 1, '웹접근성안내': 1, '조기': 1, '샘플에': 1, '39언디셈버39': 1, '된': 1, '엑자일': 1, '카카오': 4, '동물': 1, '지도': 2, '검색등록': 1, '전남': 1, '17도': 9, '무너지는': 1, 'Daum': 2, 'gt다음': 1, '보이스': 1, 'Copyright': 1, '크기가': 1, '스포츠': 2, '오후': 1, '모닝': 1, '울산시': 1, '급등': 1, '이직해도': 1, '장영하': 1, '건가요rdquo': 1, '다녀': 1, '조작': 1, '달에서': 2, '데는': 1, '2단': 1, '마동석': 1, '딸': 1, '전체': 1, '시작페이지로': 1, '직업은': 1, '현무암이라고': 1, '호날두가': 1, '개정': 1, '간절한': 1, '너무도': 1, '19일까지': 1, '티저포스터': 1, '직구사이트': 1, '못': 1, '유담': 1, '카카오웹툰': 1, '22일': 1, '어제보다': 1, '분리까지': 1, '팩트체크': 1, '창당': 1, '수집가의': 1, '미완의': 1, '열': 1, '경상북도': 2, '없었지만': 1, '증권': 1, '담금질': 1, '메일': 2, '어린이보험상품': 1, '서울시': 1, '핵앤슬래시': 1, '20억년': 2, '갈구하는': 1, '화염구를육성': 1, '1시간여만에': 1, '프리미엄': 1, 'Men': 1, '늦추는': 1, '현재': 5, '누군가에게는': 1, '7가지': 1, '흐림': 1, '뭐가': 2, '막판': 1, '람보르기니': 1, '종영소감': 1, '점이': 1, '보인': 1, 'G70': 1, '정보': 7, '걸었더니': 1, '마셔야': 1, '작전': 1, '구름많음': 2, '20': 1, '궤도': 1, '°C': 1, '12월에': 1, '원': 1, '마음을': 1, '박병은': 1, '전두환': 2, '어이없는': 1, '탭1전체': 2, '종료가': 1, '사회적': 1, '영상': 19, '확진자': 1, '퍼포먼스': 1, '강원도': 2, '가능하다': 1, '런처': 1, '모사체더미': 1, '선택한': 1, 'SUV의': 1, '대상39': 1, '전라북도': 1, '질문에': 1, '기반': 1, '무상제공': 1, '미디어': 3, '보은대추': 1, '라인게임즈는': 1, '사전': 2, '연구': 3, '1주일간': 1, 'middot': 11, '카카오스토리': 2, '디스하다': 1, '등지에선': 1, '앞두고': 1, '받고': 1, '신형': 2, '노화': 1, '원인으로': 1, '바뀌긴': 1, '짜리': 1, 'Kakao': 1, '된다': 1, '2R': 1, '신고': 1, '39이것39': 1, '깐부': 1, '총출동대선': 1, '1단': 1, '이용자라면': 1, '곳이': 1, '위성': 2, '위로': 1, '오브': 1, '게임': 4, '부산시': 1, '맞춤형광고': 1, '커져': 1, '애플이': 2, '적시타★': 1, '탭11': 1, '고진영': 1, '하이뉴': 1, '이부진': 1, 'X': 1, '띄는': 1, '수': 1, '매각설에': 1, '뉴스홈': 1, '주요서비스': 1, '블로그': 4, '좋아졌다': 1, '4번': 1, '39갤럭시워치439와의': 1, '이용약관': 1, 'LPG': 1, '발사체': 1, '없이': 1, '궁수와': 1, '한': 1, '46초': 2, '재회': 1, '전기차로': 1, '만든': 1, '히든': 1, '노후모델': 1, '신청': 1, '존경하는': 1, '흉조': 1, '지구로': 2, '심정지': 1, '소비자': 1, '발생현황': 1, '12도': 1, '첫발에': 1, '중국': 3, '서사': 1, '온라인': 1, '원통형': 1, '청소년보호정책': 1, '택시도': 1, '고흥군': 1, '김재영': 1, '탭3': 1, '카카오프렌즈': 1, '캐묻는': 1, 'PC를': 1, '부딪힌': 1, '탭4': 1, '인재채용': 1, '형제복지원': 1, '순차적으로': 1, '티격태격': 1, '뉴스': 4, '공개': 1, '카카오TV': 2, '폭로': 1, '조사위': 2, '호평을': 1, '표면': 1, '백과사전': 1, '베스트': 1, '기술에': 1, '中': 1, 'TV': 4, '명품': 1, '기록': 1, 'RPG': 1, '급감': 1, '실습서': 1, '배틀그라운드': 1, '한층': 1, '추천갤러리바로가기': 2, '라인게임즈의': 1, '전국적': 1, '보기': 4, '오딘': 1, '마무리': 1, '18°C': 1, '됐다': 1, '10': 1, '39여전히': 1, '누리호는': 1, '금융': 1, '커뮤니케이션': 1, '샘플은': 1, '숨져': 1, '부채대책③': 1, '춥고': 1, '달라진': 1, '영화': 2, '모음ZIP': 1, '삼성전자의': 1, '운영정책': 1, '조폭': 1, '대출규제': 1, '오늘의': 4, '어학사전': 1, '검색어': 1, '찾은': 1, '무인': 1, '나왔다': 1, '자살골윤석열': 1, '인터뷰': 1}\n"
     ]
    }
   ],
   "source": [
    "# 4. 다음 사이트 필터링 결과\n",
    "printResultFilter(source_daum)"
   ]
  },
  {
   "cell_type": "code",
   "execution_count": 98,
   "id": "c3ed6e21",
   "metadata": {},
   "outputs": [
    {
     "name": "stdout",
     "output_type": "stream",
     "text": [
      "3. 각 단어들의 출현빈도 수\n",
      "\n",
      "{'deaths': 1, 'R': 1, 'ChinaLindsay': 1, 'Texas': 1, 'From': 2, 'vaccinationsAustraliaUKAlaskaMontIdahoHospitalsVaccine': 2, 'Moderna': 1, 'Turned': 1, 'adaptation': 1, 'Few': 1, 'MiddleAged': 1, 'tribute': 1, 'Time': 1, 'ally': 1, 'FridayBrittainy': 1, 'IrelandLyft': 1, 'theory': 1, 'State': 1, 'Florida': 1, 'InspirationThe': 1, 'UsAccessibilityWork': 1, 'do': 1, 'RestrictionsThe': 1, 'cases': 1, 'PressA': 1, 'Let': 1, 'Teach': 1, 'story': 1, 'by': 4, 'planet': 1, 'vaccines': 1, 'oversee': 1, 'faced': 1, 'You': 2, 'Kicked': 1, 'stonewalled': 1, 'CompanyNYTCoContact': 1, 'General': 1, 'reboundErin': 1, 'May': 1, 'For': 1, 'TimesHelping': 1, 'care': 1, 'FergusonMaybe': 1, 'GashAssociated': 1, 'queen': 1, 'congressional': 1, 'one': 4, 'equally': 1, 'your': 5, 'Committee': 1, 'elections': 1, 'storyOpinionListen': 1, 'great': 1, 'to': 36, 'about': 4, 'was': 6, 'hope': 1, 'Haiti': 1, 'Bannon': 2, 'rock': 1, 'Tricks': 1, 'didn’t': 1, 'Wrong': 1, 'our': 2, 'SaysExtreme': 1, 'secretary': 1, 'Contempt': 1, 'LawmakersAdvertisementContinue': 1, 'missionaries': 1, 'Hiring': 1, 'undergoing': 1, '75498': 1, 'drugs': 1, 'own': 2, 'With': 4, 'shot': 1, 'Wall': 1, 'Gamble': 1, 'revenue': 1, 'site': 1, 'Estrogen': 1, 'thunderstorm': 1, 'squareTilesMatch': 1, 'vast': 1, 'Illustrator': 1, 'environment': 1, 'books': 1, 'vote': 1, 'helpSign': 1, 'chickenOpinionDavid': 1, 'PowellJay': 1, 'Your': 1, 'NSA': 1, 'Herbert’s': 1, 'companyAttorney': 1, 'gained': 1, 'Keller': 1, 'Detained': 1, 'Decision': 1, 'lettersThe': 1, 'Accusations': 1, 'outside': 1, 'Evergrande': 1, 'during': 1, 'Golshifteh': 1, 'himThe': 1, 'included': 1, 'strife': 1, 'GreenhouseWhy': 1, 'repeatedly': 1, 'hardly': 1, '1971': 1, 'product': 1, 'Porn’Spencer': 1, 'passed': 1, 'sidestepped': 1, 'threat': 1, 'nominee': 1, '30minute': 1, 'Scrapping': 1, 'expertsNeediest': 1, 'Congress': 1, 'NewsThe': 1, 'hearingAdvertisementContinue': 1, 'agendaLiz': 1, 'center': 1, 'held': 1, 'Richard': 1, 'SaysChinese': 1, 'Prayer': 1, 'History”': 1, 'forth': 1, 'Is': 7, 'critic': 2, 'Fears': 1, '“fundamentally': 1, 'circulationMichael': 1, 'cut': 1, 'Arefi': 1, 'WorkKarsten': 1, 'Way': 1, 'troubled': 1, 'CarsTV': 1, 'Apple': 1, 'Capitol': 1, 'JohnsonThe': 1, 'into': 1, 'torn': 1, 'Villeneuve’s': 1, 'FeetCulture': 1, 'Cheney’s': 1, '21': 1, 'intimate': 1, 'Pianist': 1, 'whether': 1, 'Dorian': 1, 'LifestyleBryan': 1, 'risks': 1, 'Alien': 1, 'door': 1, 'partisan': 1, 'Firearm': 1, 'train': 1, 'Long': 1, 'HostagesSeventeen': 1, 'year': 3, 'Garland': 1, 'Biden': 1, 'inquiry': 1, 'ImagesBiden': 1, 'HalloweenDevastated': 1, 'UpTheodore': 1, 'photography': 1, 'Biden’s': 1, 'Send’Linda': 1, 'Black': 1, 'Century': 1, 'help': 2, 'Higgins': 1, 'slots': 1, 'former': 3, 'reveal': 1, 'behind': 1, 'suburbMorry': 1, 'Rioters': 1, 'of': 29, 'last': 1, 'Suffolk': 1, 'discharged': 1, 'Navigation©': 1, '7': 1, 'TimesIf': 1, 'Day': 1, 'Should': 1, 'KangHow': 1, 'UpAdvertisementContinue': 1, 'tool': 1, 'Information': 1, 'critical': 1, 'FBI': 1, 'governor': 1, 'futureshock': 1, 'wear': 1, 'Stunning': 1, 'Details': 1, 'delivered': 1, 'Inquiry': 1, 'Argument’Should': 1, 'depends': 1, 'Times’s': 1, 'TimesProsecutor': 1, 'UK': 1, 'feet': 1, 'came': 1, 'large': 1, 'Their': 1, 'Beijing': 1, 'Up': 1, 'Not': 2, '“callously': 1, 'urged': 1, 'pumped': 1, 'come': 1, 'writesThe': 1, 'WirecutterThe': 1, 'minority': 1, 'are': 2, 'Ultimatum': 1, 'Rider': 1, 'he': 4, 'United': 3, 'today’s': 1, 'wordplay': 1, 'Says': 1, 'Choice': 1, 'only': 1, 'Marathon': 1, 'Alec': 1, '6Gail': 1, 'Get': 2, 'Voting': 1, 'SpinachDavid': 1, 'Seeking': 1, 'Need': 1, 'DisclosesShe': 1, 'street': 1, 'Laing': 1, '1509': 1, '14day': 1, 'Family': 1, 'decriminalize': 1, 'news': 1, 'each': 1, 'HessionIs': 1, 'Change': 2, 'Conservative': 1, 'Press': 1, 'more': 2, 'National': 2, 'until': 1, 'landscapeThe': 1, 'on': 11, 'Her': 2, 'Escape': 1, 'Arteries': 1, 'Hero': 1, 'Be': 2, 'Mark': 1, 'many': 3, 'ThorntonThis': 1, 'protect': 1, 'Virus': 1, 'trigger': 1, 'Moran': 1, '50': 1, 'is': 4, 'frontman': 1, 'we': 1, 'Married': 1, 'BruniThe': 1, 'doses': 1, 'argument': 1, 'wasn’t': 1, 'letters': 1, '95': 1, 'early': 2, 'TimesSpicy': 1, 'Shots': 1, 'Against': 1, 'college': 1, 'ImagesWork': 1, 'Trump’s': 1, 'Malosh': 1, 'storyFitnessGetty': 1, 'Supreme': 1, 'InequalityCharles': 1, 'Filibuster': 1, 'Back': 1, 'in': 21, 'TimesSweet': 1, 'for': 22, 'Its': 1, 'trip': 1, 'millions': 1, 'Recommends': 1, 'attractions': 1, 'people': 2, 'Problem': 1, 'CancelThe': 1, 'Nobel': 1, 'everythingAdvertisementContinue': 1, 'an': 4, 'Threat': 1, 'gone': 1, 'lack': 1, 'Workout': 1, 'Mennonites': 1, 'leg': 1, 'DroppedThe': 1, 'warming': 1, 'change': 1, 'Doug': 1, 'Given': 1, 'Before': 1, 'facing': 1, 'race': 1, 'Best': 1, 'assaulted': 1, 'Was': 3, 'visitors': 1, 'just': 1, 'as': 6, 'After': 1, 'would': 1, 'thousands': 1, 'Wrongdoing': 1, 'Finds': 3, 'saidAngela': 1, 'role': 1, 'receive': 1, 'Years': 1, 'SaleSite': 1, 'Defying': 1, 'Scientists': 1, 'or': 3, 'back': 1, 'Peace': 1, 'healthier': 1, 'Hospitalized': 1, 'crispy': 1, 'around': 1, 'now': 1, 'epic': 1, 'and': 22, 'Maybe': 1, 'We': 2, 'Voters': 1, 'Jan': 3, 'Yorkers': 1, 'Justice': 1, 'moreLearn': 1, 'Watch': 1, 'North': 1, 'Modern': 2, 'SecurityIntelligence': 1, 'president': 1, 'New': 19, 'WirecutterSitting': 1, 'remain': 1, '–24': 1, 'director': 2, 'Oct': 1, 'Ever': 1, 'grand': 1, 'CookingYossy': 1, 'Choose': 1, 'Terrify': 1, 'Were': 1, 'PhiladelphiaQueen': 1, 'deflect': 1, '2021': 1, 'ExerciseGetty': 1, 'clued': 1, 'apart': 1, '‘Squid': 1, 'LoyalistHuman': 1, 'World': 2, 'immigrant': 1, 'Maria': 1, 'Forgot': 1, '2019Report': 1, 'CheesecakeChristopher': 1, 'will': 3, 'WeissAgence': 1, 'Assaults': 1, '“Music': 1, 'increase': 1, 'Ignited': 1, 'Smart': 1, 'resolutionJerry': 1, 'Wake': 1, 'replicating': 1, 'An': 1, 'midterm': 1, 'meet': 1, 'Videos': 1, 'Butternut': 1, 'GoldmanAssociated': 1, 'Colin': 1, 'out': 1, 'ShadowmanA': 1, 'officers': 1, 'Pinkney': 1, 'House': 1, 'artist': 1, 'NYPD': 1, 'night': 1, 'Corporations': 1, 'appointed': 1, 'Lecturer': 1, '5': 1, 'Houses': 1, 'default': 1, 'GodinHelen': 1, 'tackles': 1, 'toughest': 1, 'can': 4, 'Companies': 1, '哈佛中文项目迁台：新“冷战”阴影下的文化脱钩？Read': 1, 'Found': 1, 'reading': 5, 'if': 1, 'his': 2, 'Election': 1, 'Mr': 1, 'media': 1, 'despite': 1, 'all': 1, 'Trump': 6, 'Media': 2, 'threshold': 1, 'So': 1, 'often': 1, 'already': 1, 'stealth': 1, 'News': 3, 'get': 1, 'Save': 1, 'Will': 1, 'debate': 1, 'Republicans': 1, 'Fatally': 1, 'McCarthy': 1, 'that': 6, 'sheriff’s': 1, '81Adept': 1, 'goingVertexConnect': 1, 'warned': 1, 'giant': 1, 'with': 5, 'Citizens’': 1, 'Mexico': 1, 'Tour': 1, 'message': 1, '‘and': 1, 'burnedout': 1, 'Chicken': 1, 'How': 2, 'TimesThanks': 1, 'Merrick': 1, 'migrationDavid': 1, 'York': 15, 'TimesPumpkin': 1, 'Zuckerberg': 1, 'Runners': 1, 'M': 1, '60vote': 1, 'SayHouse': 1, 'AroundtheClock': 1, 'Children’s': 1, 'art': 1, 'ChoicesPrivacy': 1, 'MapCanadaInternationalHelpSubscriptions': 1, 'good': 1, 'Times': 3, 'led': 1, 'substances': 1, 'Roots’s': 1, 'NowA': 1, 'BoxedCreate': 1, 'riot': 1, 'Account': 1, 'this': 3, 'begins': 1, 'Donald': 1, 'had': 4, '4': 1, 'dots': 1, 'Rights': 1, 'Laundrie’s': 1, 'Deadline': 1, 'Virginia': 1, 'challenge': 1, 'you': 3, 'MeNetflix‘Sway’Will': 1, 'Effort': 1, 'haunted': 1, 'launch': 1, 'fad': 1, 'PressFederal': 1, 'Minority‘Ordinary': 1, 'attack': 1, 'hoping': 2, 'hidden': 1, 'set': 1, 'state’s': 1, 'Court': 1, 'HistoryIn': 1, '6': 2, 'JrThe': 1, 'ExecutionSusan': 1, 'property': 1, 'scientist': 1, 'spots': 2, 'age': 1, 'Stop': 1, 'hears': 1, 'SaysThe': 1, 'TimesAfter': 1, '‘Dune’': 1, 'country’s': 1, '’80s': 1, 'Kang’s': 1, 'Really': 1, '—': 5, 'lawyer': 1, 'Department': 1, 'injured': 1, 'YouDesiree': 1, 'Prop': 1, 'SayThe': 1, 'Getty': 1, 'Train': 1, 'Brussels': 1, 'dayLetter': 1, 'JampJ': 1, 'TimesStirFried': 1, 'ImagesThe': 1, 'ImagesWhat': 1, 'cultural': 1, 'contentSkip': 1, 'election': 1, 'MillsThe': 1, 'policyIn': 1, 'Remains': 1, 'social': 1, 'usAdvertiseT': 1, 'Pasta': 1, 'service': 1, 'development': 1, 'bornAt': 1, '›': 6, 'Jay': 1, 'visual': 1, 'Give': 1, 'WHO': 1, 'Passengers': 1, 'Walk': 1, 'Italy': 1, 'said': 3, 'Kevin': 1, 'it': 1, 'All': 1, 'Covid': 4, 'MTA': 1, 'education': 1, 'No': 1, 'speech': 1, 'hot': 2, 'newsletterSubscriber': 1, 'Farahani': 1, '‘Invasion’New': 1, 'enforcement': 1, 'Simpson': 1, 'Breaking': 1, 'Street': 1, 'Disputes': 1, 'Chineselanguage': 1, 'after': 4, 'BeeHow': 1, 'Northern': 1, 'PorkRecommendations': 1, 'Wisconsin': 1, 'America': 2, 'Home': 2, 'Came': 1, 'questions': 3, 'Cases': 2, 'EstateVideoHouse': 1, '400': 1, 'TimeRepublicans': 1, 'Avoid': 1, 'Shoots': 1, 'RapeLaw': 1, 'Terrifies': 1, 'About': 4, 'throughout': 1, 'Joys': 1, 'pictureSite': 1, 'its': 2, 'made': 1, 'WorkPaul': 1, 'Britain’s': 1, 'Squash': 1, 'have': 2, 'Are': 2, 'woman': 1, 'engaging': 1, 'KrugmanHow': 1, 'accordance': 1, 'Made': 1, 'sure': 1, 'has': 4, 'between': 1, 'Coronavirus': 1, 'spooky': 1, 'free': 1, 'Intervening': 1, 'Minutes': 1, 'Worth': 1, 'Soon': 1, 'TacosSang': 1, 'review': 1, 'Republican': 2, 'Automate': 1, 'climate': 1, 'thorny': 1, 'SproutsLinda': 1, 'whispers': 1, 'BlowThe': 1, 'chain': 1, 'bondholders': 1, 'Catch': 1, 'Unmasked': 1, 'take': 1, 'Can': 1, 'Global': 3, 'CopsAndrew': 1, 'tells': 1, 'Other': 2, 'Booster': 1, 'Xiao': 1, 'factories': 1, 'Thursday': 1, 'FrancePresse': 1, 'masks': 1, 'any': 2, 'Return': 1, 'Halloween': 1, 'President': 2, 'better': 1, 'Jane': 1, 'easy': 1, 'items': 1, 'stateOn': 1, 'themesChester': 1, 'newsletter海外华人札记': 1, 'Popularity': 1, 'up': 2, 'Baldwin': 1, '‘Inspiration': 1, 'dodge': 1, 'at': 5, 'Book': 1, 'Killed': 1, 'Force': 1, 'main': 5, 'Widening': 1, 'The': 15, 'developmentChoose': 1, 'child': 1, 'Leona': 1, 'Ethics': 1, 'concerns': 1, 'Payment': 1, 'spur': 1, '’90ssitcomloving': 1, 'Brian': 1, 'Over': 1, 'AmericansRecipients': 1, 'push': 1, 'Heat': 1, 'Music': 1, 'storyHaunted': 1, 'PolicyTerms': 1, 'SectionsSEARCHSkip': 1, 'health': 1, 'Bernate': 1, 'the': 42, 'First': 1, 'Then': 1, 'investigation': 1, 'Seen': 1, 'Gilbert': 1, 'Confronting': 1, 'Fresh': 1, 'lobbyist': 1, '–15': 1, 'food': 1, 'catering': 1, 'Game’': 1, 'BodiesGetty': 1, 'Rios': 1, 'StudioYour': 1, 'US': 3, 'States': 2, 'experiment': 1, 'Manhattan': 1, 'using': 1, 'Crouse': 1, 'them': 1, 'best': 1, 'Forest': 1, 'Olivia': 1, 'lengths': 1, 'Makes': 1, 'Official': 1, 'prosecute': 1, 'Rides': 1, 'trackers': 2, 'Abbot': 1, 'Tests': 1, 'restrictions': 1, 'It’s': 2, '1807': 1, 'TimesRise': 1, 'Senate’s': 1, 'Occurred': 1, 'authorities': 1, 'violenceCarlos': 1, 'Newman': 1, 'places': 2, 'tales': 1, 'active': 1, 'These': 1, 'SubpoenaSteve': 1, 'SteffyGetty': 1, 'yetThe': 1, 'seek': 1, 'Students': 1, 'StatesAvg': 1, 'systemChina': 1, 'make': 1, 'More': 2, 'leader': 1, 'wait': 1, 'Prize': 1, 'countries': 2, 'Crew': 1, 'characters': 1, 'extra': 1, 'tiesEnergizing': 1, 'SandsDenis': 1, 'Paying': 1, 'Frank': 1, 'Did': 2, 'marketing': 1, 'Bill': 1, 'FootrestA': 1, '‘The': 1, 'office': 1, 'firm': 1, 'Board': 1, 'GearSummon': 1, 'Ad': 1, 'a': 23, 'Kirby': 1, 'PaperWorldUSPoliticsNYBusinessOpinionTechScienceHealthSportsArtsBooksStyleFoodTravelMagazineT': 1, 'Ressa’s': 1, 'Cycle': 1, 'baseClimate': 1, 'recommendation': 1, 'backgrounds': 1, 'Out': 1, 'PollutionDuPont': 1, 'sought': 2, 'Criticism': 1, 'BokatLindellWill': 1, 'issued': 1, 'entryway': 1, 'AgendaFrank': 1, 'workers': 1, 'Consultants': 1, 'Palace': 1, 'Learning': 1, 'movie’s': 1, 'PovertyGetting': 1, 'MagazineReal': 1, 'financial': 1, 'SaturdayAdvertisementContinue': 1, 'Kill': 1, 'obligations': 1, 'Collins‘I': 1, 'sweeping': 1, 'Chile': 1, 'sitting': 2, 'FavoritesMIT’s': 1, 'spending': 2, 'over': 2, 'praying': 1, 'One': 1, 'storyCDC': 1, 'canceled': 1, 'booster': 1, 'access': 1, 'regulators': 1, 'Than': 1, 'across': 1, 'Brand': 1, 'ImagesQuestlove': 1, 'ransom': 1, 'tests': 2, 'SchaffThe': 1, 'alter”': 1, 'reimagining': 1, 'voting': 1, 'reports': 1, 'Caspian': 2, 'asked': 1, 'decide': 1, 'Vaccinations': 1, 'bothMore': 1, 'killed': 1, 'pushing': 1, 'Hambleton': 1, 'More’The': 1, 'CrosswordGet': 1, 'Thank': 1, 'Member': 1, 'agencies': 1, 'elements': 1, 'may': 1, 'foreign': 1, 'TimesM': 1, 'Authorities': 2, 'dangerous': 1, 'acceptable': 1, 'keep': 1, 'planned': 1, 'Politics': 1, 'from': 1, 'find': 1, 'Sexual': 1, 'ServiceTerms': 1, 'defense': 1, 'Looks': 1, 'bitterly': 1, 'Seeing': 1, 'Drop': 1, 'Coaston': 1, 'TimesGreen': 1, 'School': 1, 'close': 1, 'classic': 1, 'TV': 1, 'there”': 1, 'discourseHow': 1, 'Open': 1, 'Theater': 1, 'every': 1, 'Consider': 1, 'subscriberonly': 1, 'ItWell': 1, 'words': 2, 'BrockI': 1, 'Sour': 1, 'responsibilitySubway': 1, '“Rust”': 1, 'Elizabeth': 1, 'indexUSInternationalCanadaEspañol中文Today’s': 1, 'This': 2, 'Acclaimed': 1, 'Edge': 1, 'legalize': 1, 'storyPlaySpelling': 1, 'Millions': 1, 'Dies': 1, 'change’s': 1, 'Tracking': 1, 'warning': 1, 'Chemical': 1, 'been': 2, 'Deaths': 1, 'issue': 1, 'opening': 2, 'encourage': 1, 'NewsletterA': 1, 'Shifting': 1, 'Paradox': 1}\n"
     ]
    }
   ],
   "source": [
    "# 5. 뉴욕 타임즈 사이트 필터링 결과\n",
    "printResultFilter(source_nytimes)"
   ]
  },
  {
   "cell_type": "markdown",
   "id": "04bb14dd",
   "metadata": {},
   "source": [
    "### 소감"
   ]
  },
  {
   "cell_type": "markdown",
   "id": "4ae74d57",
   "metadata": {},
   "source": [
    "첫 번째 문제에서는 쉽사리 넘어갈 수도 있었던 개념을 다시한번 돌이켜봄으로써 놓치고 지나갈뻔 했던 내용들을 생각할 수 있어 좋았습니다. 4번과 5번에서는 앞서 수업시간에서 배운 리스트 내포를 활용함으로써 익숙치 않았던 내용을 조금 더 구체화하고 제 것으로 만들 수 있었습니다. 6번에서는 얕은복사와 깊은복사를 리스트 뿐만 아니라 사전형에서 다뤄봄으로써 실제 왜 이렇게 동작하는가를 고민해볼 수 있는 시간이어서 좋았습니다.   \n",
    "   \n",
    "8번 문제부터는 교수님께서 말씀하신대로 시간이 필요로 하는 문제들이었는데요. 8번의 경우, 어떻게 주어진 조건을 맞춰 재귀함수로 구현할 것인가? 가 가장 난해했던 부분이었습니다. 구현 및 테스트까지 마치긴 했으나, 아직까지도 코드가 깔끔해보이지 않아서 스스로가 만족스럽지 못한 풀이입니다.   \n",
    "   \n",
    "9번의 경우 버스 크기에 따른 탑승 가능 경우를 구하는 알고리즘의 경우, 쉽게 구현할 수 있었습니다. 허나, 버스의 크기 리스트를 어떻게 구할 것인가?에 대해 고민을 많이 했습니다. 처음에는 각 요소별로 합을 구해서 set()을 통해 리스트를 만들까도 했지만, 이는 시간 복잡도가 너무 오래 걸릴 것 같아 포기했습니다. 다음 방법으로 주어진 결과값을 보다가 문득 약수를 대입하면 되지 않을까? 라는 생각이 들어 약수 리스트를 만들어 도전해봤습니다. 간단히 약수를 1부터 해당 리스트의 총합까지 구하는 형태로 진행을 했었는데, 이 경우 예시 1, 2는 문제없었으나 3의 경우 시간이 너무 오래걸리다보니 시간을 줄일 방도를 찾게 되었습니다. 약수를 구하는데 시간을 많이 소모한다는 것에 중점을 두고, 항상 약수를 구하면 그 짝이 되는 수가 존재한다는 특징을 이용, 첫번째 약수와 그 약수에 짝이되는 약수를 동시에 구하다보니 그나마 시간을 줄일 수 있었습니다. \n",
    "   \n",
    "이번 incremental 문제에서는 저번 주 과제에 연장선이기에 그렇게 큰 문제가 없을 것이라 생각했었습니다. 그런데, koreatech과 daum사이트를 가져올 때 각각 문제가 발생하여 코드 실행에 오류가 발생했습니다. 1. koreatech의 경우, 주석 처리된 문장안에 '->'와 같은 기호가 있다보니 꺽쇠 괄호'<','>'를 제거하는데 문제가 있었고, 2. daum의 경우, 링크 태그 내부에 '<url\\>', '</url\\>' 문법을 사용하고 있다보니 문제가 발생하였습니다. 그래서 각각 1번의 경우 '<!--\\', '--\\>' 주석문을 먼저 제거하는 조건 추가, 2번의 경우 '<url\\>', '</url\\>' 태그 내용을 먼저 제거하는 조건을 추가하는 형태로 해결할 수 있었습니다. 추가적으로 꺽쇠 괄호 순서가 '<', '>' 가 아닌 '>', '<'가 될 수 있는 상황도 고려하여 마지막 조건문에 대해서도 find대신 index를 사용하는 방향으로 코드를 수정하였습니다.   \n",
    "   \n",
    "마지막으로, 최종 테스트 과정에서 주어진 컴퓨터공학부 사이트의 경우 http:// 주소인데, 해당 주소를 불러올 시 403 에러가 발생하여 현재 보안이 업그레이드된 https:// 주소로 불러왔습니다. 이 때 SLLError라 하여 인증서 오류가 발생하는 문제 때문에, requests.get() 함수에 verify=False 조건을 주어, SSL 인증서를 따로 확인하지 않도록 설정하였습니다.   \n",
    "   \n",
    "C와 같은 다른 언어를 공부할 때는 연습문제만 풀다보니, 흥미가 떨어졌는데, 파이썬의 경우 이와 같이 실제 사이트를 가져와 데이터를 다룸으로써 한층 더 재미가 있는 것 같습니다. 감사합니다."
   ]
  }
 ],
 "metadata": {
  "celltoolbar": "Raw Cell Format",
  "kernelspec": {
   "display_name": "Python 3 (ipykernel)",
   "language": "python",
   "name": "python3"
  },
  "language_info": {
   "codemirror_mode": {
    "name": "ipython",
    "version": 3
   },
   "file_extension": ".py",
   "mimetype": "text/x-python",
   "name": "python",
   "nbconvert_exporter": "python",
   "pygments_lexer": "ipython3",
   "version": "3.8.11"
  }
 },
 "nbformat": 4,
 "nbformat_minor": 5
}
