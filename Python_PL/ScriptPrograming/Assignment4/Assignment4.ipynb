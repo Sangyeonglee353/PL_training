{
 "cells": [
  {
   "cell_type": "markdown",
   "id": "913567b5",
   "metadata": {},
   "source": [
    "# Assignment 4\n",
    "## 학번: 2019136151 이름: 이상영\n",
    "## [정보]\n",
    "#### 1) Due Date: 2021년 11월 27일 (토), 23시 59분\n",
    "#### 2) 제출방법: 수업 홈페이지 하단의 \"[숙제 제출 방법]\" 참고\n",
    "#### 3) 내용: 반드시 python code와 수행 결과를 jupyter notebook 내에 작성하여 넣고, 이에 대한 설명 등을 해당 코드 아래에 markdown cell 등에 넣어 기입하시오.\n",
    "#### 4) 숙제이후 소감 작성: 8개의 문제의 답을 모두 작성한 이후에 현재까지 강의를 들은 후의 소감, 숙제를 한 이후의 소감, 또는 전하고자 하는 말 등을 짧막하게라도 좋으니 jupyter notebook 마지막 markdown cell에 함께 제출하시오.  \n",
    "#### 5) 반드시 본인 스스로 문제를 해결하세요~~~"
   ]
  },
  {
   "cell_type": "markdown",
   "id": "c29bfdcb",
   "metadata": {},
   "source": [
    "## [일반 문제]"
   ]
  },
  {
   "cell_type": "markdown",
   "id": "4a5841de",
   "metadata": {},
   "source": [
    "#### 1. 다음 문제를 읽고 알맞은 코드를 제시하시오."
   ]
  },
  {
   "cell_type": "markdown",
   "id": "d3768f90",
   "metadata": {},
   "source": [
    "- 1) 파일 s.txt 내의 다음 내용과 함께 아래 문제의 코드를 제시하시오.\n",
    "> pig ham   \n",
    "> cat dog   \n",
    "> ham bird   \n",
    "> dog pig"
   ]
  },
  {
   "cell_type": "code",
   "execution_count": 21,
   "id": "f51fd0d3",
   "metadata": {
    "scrolled": true
   },
   "outputs": [],
   "source": [
    "# 1. 새로운 파일 열기\n",
    "f = open(\"s.txt\", 'w')\n",
    "\n",
    "# 2. 문자열 리스트 만들기\n",
    "s = ['pig ham', 'cat dog', 'ham bird', 'dog pig']\n",
    "\n",
    "# 3. 새로운 파일에 리스트 기록하기\n",
    "for String in s: \n",
    "    f.write(String+'\\n')\n",
    "\n",
    "# 4. 파일 닫기\n",
    "f.close() "
   ]
  },
  {
   "cell_type": "markdown",
   "id": "25b6e44f",
   "metadata": {},
   "source": [
    "- 2) 파일 s.txt을 읽어서 각 라인에 있는 첫 번째 단어(문자열) 자체들을 기준으로 라인별 정렬후 파일 s1.txt에 그 결과를 기록하는 코드를 작성하시오. 즉, 프로그램 수행 후 s1.txt에 있는 파일 내용은 다음과 같다.\n",
    "> cat dog   \n",
    "> dog pig   \n",
    "> ham bird   \n",
    "> pig ham"
   ]
  },
  {
   "cell_type": "code",
   "execution_count": 22,
   "id": "a62393c1",
   "metadata": {},
   "outputs": [],
   "source": [
    "# 1. 파일 열기\n",
    "f = open('s.txt', 'r')\n",
    "f2 = open('s1.txt','w')\n",
    "\n",
    "# 2. 라인별로 가져와 리스트로 저장하기\n",
    "temp_list = []\n",
    "line = None\n",
    "while True:\n",
    "    line = f.readline()\n",
    "    if not line: break\n",
    "    data = line.split(' ')\n",
    "    temp_list.append(data)\n",
    "    \n",
    "# 3. 정렬 및 값 출력\n",
    "temp = sorted(temp_list, key=lambda value: value[0])\n",
    "\n",
    "# 4. 리스트를 해제하고 문자열 기록\n",
    "for element in temp:\n",
    "    data = ' '.join(element)\n",
    "    f2.write(data)\n",
    "\n",
    "# 5. 파일 닫기\n",
    "f.close()    \n",
    "f2.close()"
   ]
  },
  {
   "cell_type": "markdown",
   "id": "d3ce2a86",
   "metadata": {},
   "source": [
    "- 3) 파일 s.txt을 읽어서 각 라인에 있는 두 번째 단어(문자열) 자체들을 기준으로 라인별 정렬후 파일 s2.txt에 그 결과를 기록하는 코드를 작성하시오. 즉, 프로그램 수행 후 s2.txt에 있는 파일 내용은 다음과 같다.\n",
    "> ham bird   \n",
    "> cat dog   \n",
    "> pig ham   \n",
    "> dog pig"
   ]
  },
  {
   "cell_type": "code",
   "execution_count": 1,
   "id": "d818f2b8",
   "metadata": {
    "scrolled": true
   },
   "outputs": [],
   "source": [
    "# 1. 파일 열기\n",
    "f = open('s.txt', 'r')\n",
    "f2 = open('s2.txt','w')\n",
    "\n",
    "# 2. 라인별로 가져와 리스트로 저장하기\n",
    "temp_list = []\n",
    "line = None\n",
    "while True:\n",
    "    line = f.readline()\n",
    "    if not line: break\n",
    "    data = line.split(' ')\n",
    "    temp_list.append(data)\n",
    "    \n",
    "# 3. 정렬 및 값 출력\n",
    "temp = sorted(temp_list, key=lambda value: value[1])\n",
    "\n",
    "# 4. 리스트를 해제하고 문자열 기록\n",
    "for element in temp:\n",
    "    data = ' '.join(element)\n",
    "    f2.write(data)\n",
    "\n",
    "# 5. 파일 닫기\n",
    "f.close()    \n",
    "f2.close()"
   ]
  },
  {
   "cell_type": "markdown",
   "id": "d79c8045",
   "metadata": {},
   "source": [
    "- 4) 파일 s.txt을 읽어서 각 라인들에 있는 모든 단어들을 순차적으로 다시 나열하되 각 라인에 세 개의 단어들이 오도록 하여 s3.txt에 기록하는 코드를 작성하시오. 즉, 프로그램 수행 후 s3.txt에 있는 파일 내용은 다음과 같다.\n",
    "> pig ham cat   \n",
    "> dog ham bird   \n",
    "> dog pig"
   ]
  },
  {
   "cell_type": "code",
   "execution_count": 4,
   "id": "342832ed",
   "metadata": {},
   "outputs": [],
   "source": [
    "#1. 파일 열기\n",
    "f = open('s.txt', 'r')\n",
    "f2 = open('s3.txt', 'w')\n",
    "\n",
    "# 2. 단어별로 리스트에 저장하기\n",
    "words = []\n",
    "lines = f.readlines()\n",
    "for line in lines:\n",
    "    line = line.strip() # 줄 끝의 줄 바꿈 문자 제거\n",
    "    line = line.split(' ')\n",
    "    words.append(line)\n",
    "\n",
    "# 3. 2중리스트를 하나의 리스트로 만들기\n",
    "words = [y for x in words for y in x]\n",
    "#print(words)\n",
    "\n",
    "# 4. 단어 기록하기\n",
    "for num, line in enumerate(words, 1):\n",
    "    if (num % 3) != 0: # 3의 배수 단어가 아닌 경우 ' '추가\n",
    "        f2.write(line+' ')\n",
    "    else:              # 3의 배수 단어가 아닌 경우 '\\n'추가\n",
    "        f2.write(line+'\\n')\n",
    "\n",
    "# 5. 파일 닫기\n",
    "f.close()\n",
    "f2.close()"
   ]
  },
  {
   "cell_type": "markdown",
   "id": "ee8cc885",
   "metadata": {},
   "source": [
    "#### 2. 다음과 같은 조건들을 참고하여 회원 가입 및 로그인 프로그램을 작성하시오."
   ]
  },
  {
   "cell_type": "markdown",
   "id": "32508e88",
   "metadata": {},
   "source": [
    "- 1) 프로그램 시작 후 다음과 같은 메시지가 출력되어 1, 2, 3 중 하나의 값을 입력 받도록 한다.   \n",
    "> Welcome to Our Service   \n",
    "> A. Sign Up   \n",
    "> B. Sign in   \n",
    "> C. Quit"
   ]
  },
  {
   "cell_type": "markdown",
   "id": "23e740d2",
   "metadata": {},
   "source": [
    "- 2) 1을 선택하면 ID, Password, Name, School의 4가지 정보를 입력받아 파일에 저장하는 프로그램을 작성한다."
   ]
  },
  {
   "cell_type": "markdown",
   "id": "693f8e02",
   "metadata": {},
   "source": [
    "   - 2-1) 입력된 내용은 access.txt 라는 이름의 텍스트 파일 내에 저장된다.   \n",
    "   - 2-2) access.txt 파일의 각 라인에는 가입된 회원 각각의 정보가 \"[id]: [password], [name], [school]\" 형태로 저장된다.   \n",
    "   - 2-3) 즉, 가입 회원이 10명이면 access.txt 파일 내에 라인 수도 정확히 10개이다.   \n",
    "   - 2-4) 암호화 방식은 sha 모듈을 활용한다. sha 모듈 활용 방법은 본 문제의 마지막에 제시도니 sha 활용 예를 참고한다.   \n",
    "        - 즉, access.txt 파일 내에 password 정보는 암호화되어 저장되어야 한다.   \n",
    "   - 2-5) 회원 정보를 입력 받을 때 id를 입력 받은 직후 access.txt를 확인하며 이미 존재하는 id가 입력되었다면 다음 메시지를 출력하고 id 정보를 다시 입력받는다.   \n",
    "        - Sorry, the Entered ID already used."
   ]
  },
  {
   "cell_type": "markdown",
   "id": "85b62233",
   "metadata": {},
   "source": [
    "- 3) 2를 선택하면 ID, Password의 2가지 정보를 입력받는 프로그램을 작성한다.   \n",
    "    - 3-1) 입력된 ID 정보가 access.txt에 존재하지 않으면 다음과 같은 메시지를 출려갛고 다시 입력받든다.\n",
    "        - Sorry, you are not a registerd member.\n",
    "    - 3-2) 입력된 ID가 올바르게 존재하지만 Password 정보가 access.txt 파일에 있는 정보와 불일치하면 다음과 같은 메시지를 출력하고 Password를 다시 입력받는다.\n",
    "        - Sorry, the entered password is not correct.\n",
    "        - 이 때에도 사용자가 입력한 Password 정보와 함께 sha 모듈이 활용되어야 한다.\n",
    "    - 3-3) 입력된 ID와 Password가 모두 올바르면 다음과 같은 메시지를 출력한다.\n",
    "        - Hello [name]!\n",
    "        - 위 [name]에는 access.txt에 기록되어 있는 name 정보를 출력한다."
   ]
  },
  {
   "cell_type": "markdown",
   "id": "e0f1bc4f",
   "metadata": {},
   "source": [
    "- 4) 3을 선택하면 프로그램이 끝난다.   \n",
    "[참고] sha 모듈 활용 예"
   ]
  },
  {
   "cell_type": "code",
   "execution_count": 14,
   "id": "bac78b1f",
   "metadata": {
    "scrolled": true
   },
   "outputs": [],
   "source": [
    "# 1. 암호화 모듈 삽입\n",
    "import hashlib\n",
    "\n",
    "# 2. 전역변수 선언\n",
    "choice = 0 # 선택 저장값\n",
    "\n",
    "# 3. 아이디 검사 함수 정의\n",
    "def check_ID(exist_ID, input_ID):\n",
    "    for ID in exist_ID:\n",
    "        front = ID.find('[')\n",
    "        rear = ID.find(']')\n",
    "        if(input_ID == ID[front+1:rear]):\n",
    "            return True\n",
    "    return False\n",
    "\n",
    "# 4. 아이디 위치 출력 함수 정의\n",
    "def find_pos(exist_ID, input_ID): # 아이디 \n",
    "    for num, ID in enumerate(exist_ID):\n",
    "        front = ID.find('[')\n",
    "        rear = ID.find(']')\n",
    "        if(input_ID == ID[front+1:rear]):\n",
    "            return num\n",
    "        \n",
    "# 5. 메뉴 실행 함수 정의\n",
    "def select_menu(choice):\n",
    "    if(choice == 1): # A. Sing up\n",
    "        # 1. 회원정보 가져오기\n",
    "        # 1-1. 회원 정보가 없는 경우/회원 정보가 있는 경우 각각 처리\n",
    "        try:                       # 기존 회원이 있는 경우\n",
    "            f = open('access.txt', 'r')\n",
    "        except(FileNotFoundError): # 기존 회원이 없는 첫번째 회원인 경우\n",
    "            f = open('access.txt', 'a')\n",
    "            ID = input(\"ID: \")\n",
    "        else: \n",
    "            temp_list = []\n",
    "            line = None\n",
    "            while True:\n",
    "                line = f.readline()\n",
    "                if not line: break\n",
    "                data = line.split(' ')\n",
    "                temp_list.append(data)     \n",
    "\n",
    "            # 등록된 아이디 목록\n",
    "            exist_ID = [i[0] for i in temp_list]\n",
    "\n",
    "            # 사용자로부터 가입정보 입력\n",
    "            while(1):\n",
    "                ID = input(\"ID: \")\n",
    "                if(check_ID(exist_ID, ID)): # 아이디 중복 검사\n",
    "                    print(\"Sorry, the Entered ID already used.\")\n",
    "                else:\n",
    "                    break\n",
    "        finally:\n",
    "            f.close()\n",
    "        \n",
    "        # 1-2. 나머지 정보 입력 받기\n",
    "        Password = input(\"P/W: \")\n",
    "        Name = input(\"Name: \")\n",
    "        School = input(\"School: \")\n",
    "        \n",
    "        # 2. 저장전 비밀번호 암호화\n",
    "        Password_encrypted = hashlib.sha256(Password.encode()).hexdigest()\n",
    "        \n",
    "        # 3. 파일에 저장\n",
    "        f2 = open('access.txt', 'a')\n",
    "        f2.write(\"[{}]: [{}], [{}], [{}]\\n\".format(ID, Password_encrypted, Name, School))\n",
    "        f2.close()\n",
    "        \n",
    "        # 파일 닫기 및 메인 메뉴 출력\n",
    "        print(\"You have successfully registered as a member. Congratuation!!\\n\")\n",
    "        main_page()\n",
    "        \n",
    "    elif(choice == 2): # B. Sign in\n",
    "        # 1. 기존 회원정보 가져오기\n",
    "        try:\n",
    "            f = open('access.txt', 'r')\n",
    "        except(FileNotFoundError):\n",
    "            print(\"Sorry. No registered data. Please sign up first.\\n\")\n",
    "            main_page()\n",
    "        else:\n",
    "            temp_list = []\n",
    "            line = None\n",
    "            while True:\n",
    "                line = f.readline()\n",
    "                if not line: break\n",
    "                data = line.split(' ')\n",
    "                temp_list.append(data)\n",
    "            f.close()\n",
    "        \n",
    "            # 2. 등록된 아이디 목록\n",
    "            exist_ID = [i[0] for i in temp_list]\n",
    "\n",
    "            # 3. 사용자로부터 ID 입력 및 아이디 존재 검사          \n",
    "            while(1):\n",
    "                ID = input(\"ID: \") # ID 입력\n",
    "                if(check_ID(exist_ID, ID) == False): # 아이디 존재 검사\n",
    "                    print(\"Sorry, you are not a registerd member.\")\n",
    "                else:\n",
    "                    break\n",
    "\n",
    "            # 4. 사용자로부터 Password 입력 및 비밀번호 검사\n",
    "            # 4-1. 입력한 ID의 비밀번호의 인덱스\n",
    "            pos = find_pos(exist_ID, ID)\n",
    "\n",
    "            # 4-2. 등록된 비밀번호 번호와 비교\n",
    "            regist_Password = temp_list[pos][1]\n",
    "            front = regist_Password.find('[')\n",
    "            rear = regist_Password.find(']')\n",
    "            real_password = regist_Password[front+1:rear]\n",
    "            while(1):\n",
    "                Password = input(\"P/W: \")\n",
    "                Password_encrypted = hashlib.sha256(Password.encode()).hexdigest()\n",
    "                if Password_encrypted != real_password:\n",
    "                    print(\"Sorry, the entered password is not correct.\")\n",
    "                else:\n",
    "                    print(\"Hello {}!\\n\".format(temp_list[pos][2][:-1]))\n",
    "                    break\n",
    "\n",
    "            # 5. 메인 메뉴 출력\n",
    "            main_page()\n",
    "        \n",
    "    elif(choice == 3): # C. Quit\n",
    "        exit(1) # 종료하기\n",
    "                      \n",
    "    else:\n",
    "        print(\"Error!!, Please choice 1 to 3.\\n\")\n",
    "        main_page()\n",
    "\n",
    "# 메인 메뉴 함수 정의\n",
    "def main_page():\n",
    "    print(\"Welcome to Our Service\")\n",
    "    print(\"A. Sing Up\")\n",
    "    print(\"B. Sign in\")\n",
    "    print(\"C. Quit\")\n",
    "    choice = input(\"Choice the Menu(1~3): \")\n",
    "    select_menu(int(choice))"
   ]
  },
  {
   "cell_type": "code",
   "execution_count": 9,
   "id": "0676ff46",
   "metadata": {},
   "outputs": [
    {
     "name": "stdout",
     "output_type": "stream",
     "text": [
      "Welcome to Our Service\n",
      "A. Sing Up\n",
      "B. Sign in\n",
      "C. Quit\n",
      "Choice the Menu(1~3): 2\n",
      "Sorry. No registered data. Please sign up first.\n",
      "\n",
      "Welcome to Our Service\n",
      "A. Sing Up\n",
      "B. Sign in\n",
      "C. Quit\n",
      "Choice the Menu(1~3): 1\n",
      "ID: koreatech\n",
      "P/W: 1234\n",
      "Name: 한기대생\n",
      "School: 한국기술교육대학교\n",
      "You have successfully registered as a member. Congratuation!!\n",
      "\n",
      "Welcome to Our Service\n",
      "A. Sing Up\n",
      "B. Sign in\n",
      "C. Quit\n",
      "Choice the Menu(1~3): 2\n",
      "ID: korea\n",
      "Sorry, you are not a registerd member.\n",
      "ID: koreatech\n",
      "P/W: 1111\n",
      "Sorry, the entered password is not correct.\n",
      "P/W: 1234\n",
      "Hello [한기대생]!\n",
      "\n",
      "Welcome to Our Service\n",
      "A. Sing Up\n",
      "B. Sign in\n",
      "C. Quit\n",
      "Choice the Menu(1~3): 1\n",
      "ID: samsung\n",
      "P/W: 1111\n",
      "Name: 삼성\n",
      "School: 삼성대학교\n",
      "You have successfully registered as a member. Congratuation!!\n",
      "\n",
      "Welcome to Our Service\n",
      "A. Sing Up\n",
      "B. Sign in\n",
      "C. Quit\n",
      "Choice the Menu(1~3): 2\n",
      "ID: samson\n",
      "Sorry, you are not a registerd member.\n",
      "ID: 1122\n",
      "Sorry, you are not a registerd member.\n",
      "ID: 1111\n",
      "Sorry, you are not a registerd member.\n",
      "ID: samsung\n",
      "P/W: 1111\n",
      "Hello [삼성]!\n",
      "\n",
      "Welcome to Our Service\n",
      "A. Sing Up\n",
      "B. Sign in\n",
      "C. Quit\n",
      "Choice the Menu(1~3): 3\n"
     ]
    }
   ],
   "source": [
    "# 회원 가입 및 로그인 함수 실행\n",
    "main_page()"
   ]
  },
  {
   "cell_type": "markdown",
   "id": "0159ff8f",
   "metadata": {},
   "source": [
    "#### 3. range() 함수와 유사한 frange() 함수를 다음 조건을 참고하여 만드시오.\n",
    "- 1) frange()의 인자 구성은 다음과 같이 range와 동일하지만 각 인수들은 음수를 받지 않는다고 가정한다.\n",
    "    > range(stop)\n",
    "    > range(start, stop[, step])\n",
    "- 2) frange() 함수의 인자에 대한 기본 시작(start) 값은 0.0이고, 기본 단계(step) 값은 0.1이다.\n",
    "- 3) frange 사용 예\n",
    "    - 3-1) frange(0.5)\n",
    "        - [0.0, 0.1, 0.2, 0.3, 0.4]\n",
    "    - 3-2) frange(1.0, 2.0)\n",
    "        - [1.0, 1.1, 1.2, 1.3, 1.4, 1.5, 1.6, 1.7, 1.8, 1.9]\n",
    "    - 3-3) frange(2.2, 4.0, 0.5)\n",
    "        - [2.2, 2.7, 3.2, 3.7]"
   ]
  },
  {
   "cell_type": "code",
   "execution_count": 96,
   "id": "e37d6d49",
   "metadata": {},
   "outputs": [],
   "source": [
    "def frange(start, stop = -1, step = 0.1):\n",
    "    valueList = []\n",
    "    # 음수를 받지 않는다고 가정하였으므로 -1을 입력할 경우는 없다고 가정.\n",
    "    if stop == -1: # frange(stop)\n",
    "        stop = start\n",
    "        start = 0\n",
    "        while(1):\n",
    "            if(start < stop):\n",
    "                data = \"{:.1f}\".format(start) # 소수점 자릿수 지정\n",
    "                valueList.append(float(data)) # 문자열 -> 부동소수점형으로 저장\n",
    "                start += step\n",
    "            else:\n",
    "                return valueList\n",
    "    elif step == 0.1: # frange(start, stop)\n",
    "        while(1):\n",
    "            if(start < stop):\n",
    "                data = \"{:.1f}\".format(start) # 소수점 자릿수 지정\n",
    "                valueList.append(float(data)) # 문자열 -> 부동소수점형으로 저장\n",
    "                start += step\n",
    "            else:\n",
    "                return valueList\n",
    "    else: # frange(start, stop, step)\n",
    "        while(1):\n",
    "            if(start < stop and step > 0): # 음수를 받지 않은다고 가정하였으나, step은 받는 경우도 고려\n",
    "                data = \"{:.1f}\".format(start) # 소수점 자릿수 지정\n",
    "                valueList.append(float(data)) # 문자열 -> 부동소수점형으로 저장\n",
    "                start += step\n",
    "            else:\n",
    "                return valueList                \n",
    "    return valueList"
   ]
  },
  {
   "cell_type": "code",
   "execution_count": 100,
   "id": "34e2db3b",
   "metadata": {},
   "outputs": [
    {
     "name": "stdout",
     "output_type": "stream",
     "text": [
      "[0.0, 0.1, 0.2, 0.3, 0.4]\n"
     ]
    }
   ],
   "source": [
    "print(frange(0.5))"
   ]
  },
  {
   "cell_type": "code",
   "execution_count": 101,
   "id": "8a9d05d9",
   "metadata": {
    "scrolled": true
   },
   "outputs": [
    {
     "name": "stdout",
     "output_type": "stream",
     "text": [
      "[1.0, 1.1, 1.2, 1.3, 1.4, 1.5, 1.6, 1.7, 1.8, 1.9]\n"
     ]
    }
   ],
   "source": [
    "print(frange(1.0, 2.0))"
   ]
  },
  {
   "cell_type": "code",
   "execution_count": 102,
   "id": "520badc6",
   "metadata": {},
   "outputs": [
    {
     "name": "stdout",
     "output_type": "stream",
     "text": [
      "[2.2, 2.7, 3.2, 3.7]\n"
     ]
    }
   ],
   "source": [
    "print(frange(2.2, 4.0, 0.5))"
   ]
  },
  {
   "cell_type": "markdown",
   "id": "3da3efe9",
   "metadata": {},
   "source": [
    "#### 4. 가변인수를 받는 함수 sum()을 다음과 같은 조건을 참고하여 구현하시오.\n",
    "- sum() 사용 예   "
   ]
  },
  {
   "cell_type": "markdown",
   "id": "71d595ea",
   "metadata": {},
   "source": [
    "> sum()      \n",
    "> 0\n",
    "\n",
    "> sum(1, 2)   \n",
    "> 3   \n",
    "\n",
    "> sum(1, 2, 3, 4, 5)   \n",
    "> 15   \n",
    "\n",
    "> sum(1, 5, 7, 2, -10)   \n",
    "> 5   "
   ]
  },
  {
   "cell_type": "code",
   "execution_count": 49,
   "id": "8154ca11",
   "metadata": {},
   "outputs": [],
   "source": [
    "def sum(*arg):\n",
    "    total = 0\n",
    "    if(len(arg) == 0): # 인자가 없으면 0 출력\n",
    "        return total\n",
    "    elif(len(arg) > 0): # 인자가 1이상이면 합계 출력\n",
    "        for value in arg: \n",
    "            total += value\n",
    "        return total"
   ]
  },
  {
   "cell_type": "code",
   "execution_count": 50,
   "id": "a0763a5c",
   "metadata": {},
   "outputs": [
    {
     "name": "stdout",
     "output_type": "stream",
     "text": [
      "0\n"
     ]
    }
   ],
   "source": [
    "print(sum())"
   ]
  },
  {
   "cell_type": "code",
   "execution_count": 51,
   "id": "b72a53d8",
   "metadata": {},
   "outputs": [
    {
     "name": "stdout",
     "output_type": "stream",
     "text": [
      "3\n"
     ]
    }
   ],
   "source": [
    "print(sum(1, 2))"
   ]
  },
  {
   "cell_type": "code",
   "execution_count": 52,
   "id": "2d388f23",
   "metadata": {},
   "outputs": [
    {
     "name": "stdout",
     "output_type": "stream",
     "text": [
      "15\n"
     ]
    }
   ],
   "source": [
    "print(sum(1, 2, 3, 4, 5))"
   ]
  },
  {
   "cell_type": "code",
   "execution_count": 53,
   "id": "f8e9b2e7",
   "metadata": {
    "scrolled": true
   },
   "outputs": [
    {
     "name": "stdout",
     "output_type": "stream",
     "text": [
      "5\n"
     ]
    }
   ],
   "source": [
    "print(sum(1, 5, 7, 2, -10))"
   ]
  },
  {
   "cell_type": "markdown",
   "id": "67b3cd29",
   "metadata": {},
   "source": [
    "#### 5. 여러 단어로 이루어진 문자열을 입력받아 각 단어의 첫글자로 이루어진 단어를 대문자로 출력하는 myinitial() 함수를 다음 조건을 참고하여 작성하시오.   \n",
    "- 1) 다음에 제시되는 함수들을 모두 이용해야 한다.\n",
    "    - split\n",
    "    - map\n",
    "    - join\n",
    "- 2) myinitial() 함수 사용 예\n",
    "    - myinitial(\"as soon as possible\")\n",
    "        - ASAP"
   ]
  },
  {
   "cell_type": "code",
   "execution_count": 91,
   "id": "b177483e",
   "metadata": {},
   "outputs": [],
   "source": [
    "def myinitial(string):\n",
    "    string = string.split(' ')\n",
    "    wordList = list(map(lambda word: word[0], string))\n",
    "    value = ''.join(wordList)\n",
    "    value = value.upper()\n",
    "    return value"
   ]
  },
  {
   "cell_type": "code",
   "execution_count": 92,
   "id": "23e73d02",
   "metadata": {},
   "outputs": [
    {
     "name": "stdout",
     "output_type": "stream",
     "text": [
      "ASAP\n"
     ]
    }
   ],
   "source": [
    "print(myinitial(\"as soon as possible\"))"
   ]
  },
  {
   "cell_type": "markdown",
   "id": "bdcb7ff6",
   "metadata": {},
   "source": [
    "#### 6. 음이 아닌 정수 n을 입력받으면 n!(factorial)을 계산하는 myfact() 함수를 재귀적 함수로 구현하시오.\n",
    "- [옵션] 참을 수 있는 정도 만큼의 수행시간을 직접 기다려보면서 n을 늘려보도록 합시다."
   ]
  },
  {
   "cell_type": "code",
   "execution_count": 100,
   "id": "452f9027",
   "metadata": {},
   "outputs": [],
   "source": [
    "def myfact(n):\n",
    "    if n == 1:\n",
    "        return 1\n",
    "    else:\n",
    "        return n * myfact(n-1)"
   ]
  },
  {
   "cell_type": "code",
   "execution_count": 102,
   "id": "42cb8a87",
   "metadata": {},
   "outputs": [
    {
     "data": {
      "text/plain": [
       "771053011335386004144639397775028360595556401816010239163410994033970851827093069367090769795539033092647861224230677444659785152639745401480184653174909762504470638274259120173309701702610875092918816846985842150593623718603861642063078834117234098513725265045402523056575658860621238870412640219629971024686826624713383660963127048195572279707711688352620259869140994901287895747290410722496106151954257267396322405556727354786893725785838732404646243357335918597747405776328924775897564519583591354080898117023132762250714057271344110948164029940588827847780442314473200479525138318208302427727803133219305210952507605948994314345449325259594876385922128494560437296428386002940601874072732488897504223793518377180605441783116649708269946061380230531018291930510748665577803014523251797790388615033756544830374909440162270182952303329091720438210637097105616258387051884030288933650309756289188364568672104084185529365727646234588306683493594765274559497543759651733699820639731702116912963247441294200297800087061725868223880865243583365623482704395893652711840735418799773763054887588219943984673401051362280384187818611005035187862707840912942753454646054674870155072495767509778534059298038364204076299048072934501046255175378323008217670731649519955699084482330798811049166276249251326544312580289357812924825898217462848297648349400838815410152872456707653654424335818651136964880049831580548028614922852377435001511377656015730959254647171290930517340367287657007606177675483830521499707873449016844402390203746633086969747680671468541687265823637922007413849118593487710272883164905548707198762911703545119701275432473548172544699118836274377270607420652133092686282081777383674487881628800801928103015832821021286322120460874941697199487758769730544922012389694504960000000000000000000000000000000000000000000000000000000000000000000000000000000000000000000000000000000000000000000000000000000000000000000000000000000000000000000000000000000000000000000000000000000"
      ]
     },
     "execution_count": 102,
     "metadata": {},
     "output_type": "execute_result"
    }
   ],
   "source": [
    "myfact(800)"
   ]
  },
  {
   "cell_type": "markdown",
   "id": "94a3ddfd",
   "metadata": {},
   "source": [
    "#### 7. (서술형) import string 과 from string import * 의 차이점을 설명하시오."
   ]
  },
  {
   "cell_type": "markdown",
   "id": "351d0ff2",
   "metadata": {},
   "source": [
    "import string 이라고 선언하면, string.속성/함수 라는 방식으로 사용하게 되며   \n",
    "즉, 현재의 namespace에 string 이라는 모듈을 가져온 것이다.   \n",
    "이에 반해 from string import * 은 string 모듈의 모든 public 속성/함수를 현재 namespace 안으로 가지고 와서 만약 같은 이름이 현재 모듈이 존재했다면 string 모듈에서 가져온 속성/함수로 overwrite 된다. 또한, 이렇게 삽입할 경우 위처럼 string.속성/함수가 아닌 overwrite 되기 때문에 바로 속성/함수로 사용이 가능하다."
   ]
  },
  {
   "cell_type": "markdown",
   "id": "4b3314d9",
   "metadata": {},
   "source": [
    "## [Incremental Project 문제]"
   ]
  },
  {
   "cell_type": "markdown",
   "id": "bdb29f75",
   "metadata": {},
   "source": [
    "#### 이전 Assignment 3의 마지막 문제는 웹 URL로 지정된 웹페이지를 문자열로 가져와 모든 HTML 태그 및 CSS와 Javascript를 제외한 순수 텍스트를 얻어내고 그 안에 존재하는 단어를 추출하여 각 단어들에 대해 출현빈도를 사전형태({'world': 2, 'hello': 1, 'python': 1})로 저장하여 출력하는 것이었다. 이번에는 Assignment 3를 확장하여 다음과 같은 조건을 만족하도록 구현하시오.\n",
    "- 1) 다음 사이트에서 제시되는 불용어 (Stop words)를 참고하여 이전 숙제에서 구성했던 단어 사전에서 불용어들을 모두 제거하는 코드를 추가하시오.\n",
    "    - 영어 불용어: https://countwordsfree.com/stopwords\n",
    "    - 한글 불용어: https://raw.githubusercontent.com/stopwords-iso/stopwords-ko/master/stopwords-ko.txt\n",
    "- 2) 각 URL로 지정된 웹페이지의 HTML 소스를 파일로 저장하시오.\n",
    "    - URL이 http://URL 이라면 파일명은 URL.html 이다.\n",
    "        - 예: URL이 http://www.cnn.com 이라면 파일명은 www.cnn.com.html 이다.\n",
    "- 3) 단어의 출현빈도가 담긴 사전 객체를 위 HTML 소스 파일과 동일한 폴더에 파일로 저장하시오.\n",
    "    - 파일입출력 (E-learning 13주차) 마지막에 학습한 pickle 모듈을 활용하시오.\n",
    "        - URL이 http://URL 이라면 사전 객체를 담고 있는 파일명은 URL.words_frequency.pickle 이다.\n",
    "        - 예: URL이 http://www.cnn.com 이라면 파일명은 www.cnn.com.words_frequency.pickle 이다.\n",
    "- 4) 최소 5개 이상의 웹 사이트 각각에 대한 HTML 소스 파일과 단어 출현빈도 파일을 저장하시오.\n",
    "    - 즉, 5개의 웹 사이트에 대해 총 10개의 파일을 동일한 폴더에 생성하시오.\n",
    "    - [주의] 가능하면 웹사이트에 단어들이 많고 다루는 주제가 서로 다른 웹 사이트들로 선정하는 것 추천\n",
    "- 5) 위 문제에서 저장한 모든 pickle 파일들을 객체로 다시 로드하여 본인이 저장하여 분석한 사이트들 각각에 대해서 가장 많이 출현한 단어 3개씩를 뽑아 제시하시오.\n",
    "    - 반드시 pickle 모듈로 저장한 5개 이상의 pickle 파일들을 다시 5개 이상의 사전 객체로 로드 하는 코드가 추가되어야 함\n",
    "- 6) 간단한 검색엔진 코딩 (Like Google!!!)\n",
    "    - 사용자에게 임의의 검색어 (하나 또는 여러 단어로 구성) 를 입력받으시오.\n",
    "        - 예:\n",
    "            - 대한민국\n",
    "            - 컴퓨터 공학\n",
    "            - 맛있는 음식\n",
    "            - 파이썬\n",
    "            - 한기대 장점\n",
    "    - 입력받은 검색어들에 대해서도 1)에서 제시하는 방법처럼 불용어 처리를 하여 정리\n",
    "    - 입력 받은 검색어와 유사도(Similarity)가 높은 웹 사이트 기준으로 위 4)에서 미리 지정해 놓은 5개 이상의 웹 사이트 URL들을 일렬로 나열하여 출력하시오.\n",
    "        - 검색어와 웹 사이트 간의 유사도는 본인이 스스로 정하시오.\n",
    "        - 유사도를 정하는 최소한의 기준은 단어 출현 빈도를 기반으로 해야 하며, 이외의 본인이 생각하는 방안이 있으면 함께 사용해도 됨.\n",
    "        - 유사도가 높은 웹 사이트가 상위에 출력되어야 함 (즉, 유사도 기준 내림 차순)\n",
    "        - 유사도가 동일한 웹 사이트들에 대해서는 임의 배치함.\n",
    "- 7) [주의] 필수사항\n",
    "    - 위에서 만든 검색엔진 코딩은 매우 간단한 것이라 부족한 점이 많이 존재한다.\n",
    "    - 본인이 생각하기에 상업적인 완성도 높은 검색 로봇/엔진이 되려면 어떤 기능들이 추가적으로 구현되어야 할지 최소 1가지 이상 제시하시오."
   ]
  },
  {
   "cell_type": "code",
   "execution_count": 19,
   "id": "71e9e22b",
   "metadata": {},
   "outputs": [],
   "source": [
    "import requests # html 소스를 가져오기 위해 삽입\n",
    "import html # html escape 문자 변환을 위해 삽입\n",
    "import string # punctuation(구두문자) 제거를 위해 삽입\n",
    "\n",
    "\"\"\"\n",
    "[참고사항]\n",
    "requests를 사용하여 html 소스를 가져오면 request에서 자동으로 HTTP 헤더를 통해 데이터를 인코딩해준다.\n",
    "그런데 여기서, 유니코드 인코딩'UTF-8', 한글 인코딩'ecu-kr' 인 경우 한글이 깨지지 않지만,\n",
    "Google과 같이 영문 인코딩 'ISO-8859-1'인 경우 한글이 깨지는 문제가 발생한다.\n",
    "\n",
    "따라서 아래와 같이 이 경우에는 아래와 같이 endcoding 값을 직접 지정해준뒤 .text파일로 읽어내면 해결될 것\n",
    "같았으나, Google의 경우 이렇게 해서는 해결되지 않았다. 결국, 크로스 사이트 스크립팅 공격을 방지하기 위해 \n",
    "escape된 것이라 추측, html의 unescape 함수로 문자열 변환을 통해 해결했다.\n",
    "\"\"\"\n",
    "\n",
    "# 사이트 주소 검사 1: request시 에러 검사\n",
    "def requestURL(url): \n",
    "    try:\n",
    "        req = requests.get(url, verify=False) # html 소스 가져오기\n",
    "                                               # https:// 사이트 소스를 가져올 때 SSLError 발생을 방지하고자\n",
    "                                               # SSL 인증서 확인 과정 생략(verify=False)\n",
    "    except:\n",
    "        print(\"사이트 주소가 잘못되었습니다. 확인해주세요.\")\n",
    "        return False\n",
    "    return req\n",
    "\n",
    "# 사이트 주소 검사 2: 응답/요청 검사\n",
    "def siteCheck(request): \n",
    "    if request.ok: # raise_for_status()로 응답/요청 검사 \n",
    "        print(\"사이트 주소가 정상입니다.\") # 사이트 주소가 올바른 경우 \n",
    "    else:\n",
    "        print(\"사이트 주소가 잘못되었습니다. 확인해주세요.\") # 사이트 주소가 틀린 경우\n",
    "        print(\"에러코드: {}, 에러명: {}\".format(request.status_code, request.reason))\n",
    "\n",
    "# 인코딩이 Unicode, euc-kr 인지 검사\n",
    "def encodingCheck(request): \n",
    "    encodingValue = request.encoding # 인코딩값 가져와 저장\n",
    "    encodingValue = encodingValue.lower() # 대문자인 경우가 있으므로 소문자로 변환\n",
    "    if encodingValue != 'utf-8' and encodingValue != 'euc-kr': # 한글 인코딩이 아닌 경우\n",
    "        return True # 소스 변환이 필요하다.\n",
    "    return False # 소스 변환이 필요없다.\n",
    "\n",
    "# 소스 처리 과정\n",
    "def sourceProcess(request):\n",
    "    siteCheck(request)    # 사이트 주소가 올바른지 검사\n",
    "    source = request.text # .text는 encoding 속성을 이용해 바이트코드를 문자열로 디코딩한다.\n",
    "    if encodingCheck(request): # 한글 인코딩이 아닌 경우 unescape로 문자를 변환한다.\n",
    "        source = html.unescape(source)\n",
    "        return source\n",
    "    else:\n",
    "        return source"
   ]
  },
  {
   "cell_type": "code",
   "execution_count": 245,
   "id": "1062a4d9",
   "metadata": {},
   "outputs": [],
   "source": [
    "# 추후 숙제 답안 제출 때엔 아래 코드는 주석처리할 것\n",
    "#print(source_nytimes)"
   ]
  },
  {
   "cell_type": "code",
   "execution_count": 20,
   "id": "0635e90d",
   "metadata": {},
   "outputs": [],
   "source": [
    "# 순수 문자열 텍스트만 걸러내는 stringFilter() 함수 선언\n",
    "def stringFilter(source):\n",
    "    wordList = []\n",
    "\n",
    "    # 1. '<script ...> ~ </script>' 스크립트 태그 내용 제거\n",
    "    while((source.find('<script')+1) and (source.find('</script>')+1)): # 문자열.find()시 값이 없으면 -1이므로 True다.\n",
    "                                                                         # 따라서 이 때 while()문 중단을 위해 +1을 하여\n",
    "                                                                         # 값을 0으로 만들어 False를 통해 중단시킨다.\n",
    "        firstIndex = source.find('<script')\n",
    "        lastIndex = source.find('</script>') + len('</script>') # '</script>' 까지 제거해야 하므로\n",
    "        source = source.replace(source[firstIndex:lastIndex], ' ')\n",
    "\n",
    "    # 2. '<style ...> ~ </style>' 스타일 태그 내용 제거\n",
    "    while((source.find('<style')+1) and (source.find('</style>')+1)): # 문자열.find()시 값이 없으면 -1이므로 True다.\n",
    "                                                                       # 따라서 이 때 while()문 중단을 위해 +1을 하여\n",
    "                                                                       # 값을 0으로 만들어 False를 통해 중단시킨다.\n",
    "        firstIndex = source.find('<style') \n",
    "        lastIndex = source.find('</style>') + len('</style>') # '</style>' 까지 제거해야 하므로\n",
    "        source = source.replace(source[firstIndex:lastIndex], ' ')\n",
    "\n",
    "   # 3. '<!--'로 시작해서 '-->' 주석 태그 제거, '->'와 같이 화살표 표시로 인해 에러 발생\n",
    "    while((source.find('<!--')+1) and (source.find('-->')+1)): # 문자열.find()시 값이 없으면 -1이므로 True다.\n",
    "                                                           # 따라서 이 때 while()문 중단을 위해 +1을 하여\n",
    "                                                           # 값을 0으로 만들어 False를 통해 중단시킨다.\n",
    "        firstIndex = source.find('<!--')\n",
    "        lastIndex = source.find('-->') + len('-->') # '-->' 까지 제거해야 하므로\n",
    "        source = source.replace(source[firstIndex:lastIndex], ' ')    \n",
    "        \n",
    "   # 4. '<url>'로 시작해서 '</url>' 끝나는 태그 제거, 특정 사이트에서 '<a href=\"<url> </url>\"> 문법 사용\n",
    "    while((source.find('<url>')+1) and (source.find('</url>')+1)): # 문자열.find()시 값이 없으면 -1이므로 True다.\n",
    "                                                           # 따라서 이 때 while()문 중단을 위해 +1을 하여\n",
    "                                                           # 값을 0으로 만들어 False를 통해 중단시킨다.\n",
    "        firstIndex = source.find('<url>')\n",
    "        lastIndex = source.find('</url>') + len('</url>') # '</url>' 까지 제거해야 하므로\n",
    "        source = source.replace(source[firstIndex:lastIndex], ' ')    \n",
    "         \n",
    "    # 5. '<'로 시작해서 '>' 끝나는 태그 제거\n",
    "    while((source.find('<')+1) and(source.find('>')+1)): # 문자열.find()시 값이 없으면 -1이므로 True다.\n",
    "                                                           # 따라서 이 때 while()문 중단을 위해 +1을 하여\n",
    "                                                           # 값을 0으로 만들어 False를 통해 중단시킨다.\n",
    "\n",
    "        firstIndex = source.find('<')\n",
    "        lastIndex = source.find('>') + len('>') # '>' 까지 제거해야 하므로\n",
    "        source = source.replace(source[firstIndex:lastIndex], ' ')\n",
    "        \n",
    "    # 6. punctuation 구두문자 제거\n",
    "    punctlist = list(string.punctuation)\n",
    "    for punct in punctlist:\n",
    "        source = source.replace(punct, '')\n",
    "        \n",
    "    # 7. source를 리스트로 저장\n",
    "    wordList = source.split()\n",
    "    \n",
    "    return wordList"
   ]
  },
  {
   "cell_type": "markdown",
   "id": "605005f2",
   "metadata": {},
   "source": [
    "- 1) 다음 사이트에서 제시되는 불용어 (Stop words)를 참고하여 이전 숙제에서 구성했던 단어 사전에서 불용어들을 모두 제거하는 코드를 추가하시오.\n",
    "    - 영어 불용어: https://countwordsfree.com/stopwords\n",
    "    - 한글 불용어: https://raw.githubusercontent.com/stopwords-iso/stopwords-ko/master/stopwords-ko.txt"
   ]
  },
  {
   "cell_type": "code",
   "execution_count": 21,
   "id": "f88c9045",
   "metadata": {},
   "outputs": [
    {
     "name": "stderr",
     "output_type": "stream",
     "text": [
      "C:\\Users\\Leesy\\anaconda3\\envs\\script\\lib\\site-packages\\urllib3\\connectionpool.py:1013: InsecureRequestWarning: Unverified HTTPS request is being made to host 'raw.githubusercontent.com'. Adding certificate verification is strongly advised. See: https://urllib3.readthedocs.io/en/1.26.x/advanced-usage.html#ssl-warnings\n",
      "  warnings.warn(\n"
     ]
    },
    {
     "name": "stdout",
     "output_type": "stream",
     "text": [
      "사이트 주소가 정상입니다.\n"
     ]
    }
   ],
   "source": [
    "# 한글 불용어 소스 가져오기\n",
    "req_stopWordKorean = requestURL('https://raw.githubusercontent.com/stopwords-iso/stopwords-ko/master/stopwords-ko.txt')\n",
    "source_stopWordKorean = sourceProcess(req_stopWordKorean)"
   ]
  },
  {
   "cell_type": "code",
   "execution_count": 22,
   "id": "1b8a3220",
   "metadata": {},
   "outputs": [],
   "source": [
    "# 불용어 제거 함수 선언(사전용)\n",
    "def stopWordRemove(wordDict):\n",
    "    # 1. 영어 불용어 제거\n",
    "    # 1.1 영어 불용어 가져오기\n",
    "    f = open('stop_words_english.txt', 'r', encoding='UTF8') # Encoding된 파일 열기 \n",
    "    stopWordEnglish = f.read()\n",
    "    stopWordEnglish = stopWordEnglish.split('\\n')\n",
    "    f.close()\n",
    "\n",
    "    # 1.2 영어 불용어 제거\n",
    "    for stopword in stopWordEnglish:\n",
    "        for word in wordDict.keys():\n",
    "            if stopword == word:\n",
    "                del wordDict[stopword]\n",
    "                break\n",
    "                \n",
    "    # 2. 한글 불용어 제거\n",
    "    stopWordKorean = source_stopWordKorean.split('\\n')\n",
    "    for stopword in stopWordKorean:\n",
    "        for word in wordDict.keys():\n",
    "            if stopword == word:\n",
    "                del wordDict[stopword]\n",
    "                break\n",
    "                \n",
    "    return wordDict"
   ]
  },
  {
   "cell_type": "code",
   "execution_count": 23,
   "id": "4d8e9fec",
   "metadata": {},
   "outputs": [],
   "source": [
    "# 불용어 제거 함수 선언(리스트용)\n",
    "def stopWordRemoveList(wordList):\n",
    "    # 1. 영어 불용어 제거\n",
    "    # 1.1 영어 불용어 가져오기\n",
    "    f = open('stop_words_english.txt', 'r', encoding='UTF8') # Encoding된 파일 열기 \n",
    "    stopWordEnglish = f.read()\n",
    "    stopWordEnglish = stopWordEnglish.split('\\n')\n",
    "    f.close()\n",
    "\n",
    "    # 1.2 영어 불용어 제거\n",
    "    for stopword in stopWordEnglish:\n",
    "        for word in wordList:\n",
    "            if stopword == word:\n",
    "                wordList.remove(stopword)\n",
    "                break\n",
    "                \n",
    "    # 2. 한글 불용어 제거\n",
    "    stopWordKorean = source_stopWordKorean.split('\\n')\n",
    "    for stopword in stopWordKorean:\n",
    "        for word in wordList:\n",
    "            if stopword == word:\n",
    "                wordList.remove(stopword)\n",
    "                break\n",
    "                \n",
    "    return wordList"
   ]
  },
  {
   "cell_type": "code",
   "execution_count": 24,
   "id": "2ac2e55f",
   "metadata": {},
   "outputs": [],
   "source": [
    "# 불용어 제거 함수 선언(단어용)\n",
    "def stopWordRemoveWord(word):\n",
    "    # 1. 영어 불용어 제거\n",
    "    # 1.1 영어 불용어 가져오기\n",
    "    f = open('stop_words_english.txt', 'r', encoding='UTF8') # Encoding된 파일 열기 \n",
    "    stopWordEnglish = f.read()\n",
    "    stopWordEnglish = stopWordEnglish.split('\\n')\n",
    "    f.close()\n",
    "\n",
    "    # 1.2 영어 불용어 제거\n",
    "    for stopword in stopWordEnglish:\n",
    "        if stopword == word:\n",
    "            print(\"검색이 불가합니다.\\n\")\n",
    "            break\n",
    "                \n",
    "    # 2. 한글 불용어 제거\n",
    "    stopWordKorean = source_stopWordKorean.split('\\n')\n",
    "    for stopword in stopWordKorean:\n",
    "        if stopword == word:\n",
    "            print(\"검색이 불가합니다.\\n\")\n",
    "            break\n",
    "            \n",
    "    # 3. 단어 반환 \n",
    "    return word"
   ]
  },
  {
   "cell_type": "code",
   "execution_count": 25,
   "id": "625359e6",
   "metadata": {},
   "outputs": [],
   "source": [
    "# 출현빈도 수 계산 후 사전형태로 저장함수 선언\n",
    "def wordCount(wordlist):\n",
    "    word_set = set(wordlist) # 중복된 문자열 제거\n",
    "    keyList = list(word_set) # 키 목록 리스트화\n",
    "    wordDict = {}            # 사전 정의\n",
    "    for key in keyList:     # 키 목록만큼\n",
    "        value = wordlist.count(key) # 단어 리스트에서 해당 키의 출현빈도 계산\n",
    "        wordDict[key] = value       # 해당 키와 출현빈도를 사전에 저장\n",
    "    return wordDict"
   ]
  },
  {
   "cell_type": "code",
   "execution_count": 26,
   "id": "ce9df932",
   "metadata": {},
   "outputs": [],
   "source": [
    "# 필터링 결과 출력 함수 선언\n",
    "def printResultFilter(input_source):\n",
    "    print(\"\\n1. 필터링된 source 값 리스트\\n\\n\", stringFilter(input_source))\n",
    "    print()\n",
    "    print(\"2. 단어의 개수: {}개\\n\".format(len(stringFilter(input_source))))\n",
    "    print(\"3. 각 단어들의 출현빈도 수\\n\")\n",
    "    wordDict = wordCount(stringFilter(input_source))\n",
    "    print(wordDict)\n",
    "    print(\"\\n4. 필터링 후 단어의 개수: {}개\\n\".format(len(wordDict)))\n",
    "    print(\"5. 불용어 필터링 후 출현빈도 수\\n\")\n",
    "    wordDict = stopWordRemove(wordDict)\n",
    "    print(wordDict)\n",
    "    print(\"\\n6. 불용어 필터링 후 단어의 개수: {}개\\n\".format(len(wordDict)))\n",
    "    return wordDict"
   ]
  },
  {
   "cell_type": "markdown",
   "id": "a67bedbb",
   "metadata": {},
   "source": [
    "- 2) 각 URL로 지정된 웹페이지의 HTML 소스를 파일로 저장하시오.\n",
    "    - URL이 http://URL 이라면 파일명은 URL.html 이다.\n",
    "        - 예: URL이 http://www.cnn.com 이라면 파일명은 www.cnn.com.html 이다."
   ]
  },
  {
   "cell_type": "code",
   "execution_count": 27,
   "id": "60a650a2",
   "metadata": {},
   "outputs": [],
   "source": [
    "# HTML 소스 파일로 저장 함수 선언\n",
    "def saveSource(url, source):\n",
    "    fileName = url + '.html'\n",
    "    f = open('Assignment4\\\\' + fileName, 'w', encoding='UTF8')\n",
    "    f.write(source)\n",
    "    f.close()"
   ]
  },
  {
   "cell_type": "markdown",
   "id": "892ceac0",
   "metadata": {},
   "source": [
    "- 3) 단어의 출현빈도가 담긴 사전 객체를 위 HTML 소스 파일과 동일한 폴더에 파일로 저장하시오.\n",
    "    - 파일입출력 (E-learning 13주차) 마지막에 학습한 pickle 모듈을 활용하시오.\n",
    "        - URL이 http://URL 이라면 사전 객체를 담고 있는 파일명은 URL.words_frequency.pickle 이다.\n",
    "        - 예: URL이 http://www.cnn.com 이라면 파일명은 www.cnn.com.words_frequency.pickle 이다."
   ]
  },
  {
   "cell_type": "code",
   "execution_count": 28,
   "id": "fa6bb5da",
   "metadata": {},
   "outputs": [],
   "source": [
    "import pickle\n",
    "# 단어의 출현빈도가 담긴 사전 객체 저장 함수\n",
    "def saveDict(url, wordDict):\n",
    "    fileName = url + '.words_frequency.pickle'\n",
    "    f = open('Assignment4\\\\' + fileName, 'wb')\n",
    "    pickle.dump(wordDict, f)\n",
    "    f.close()"
   ]
  },
  {
   "cell_type": "markdown",
   "id": "16759c32",
   "metadata": {},
   "source": [
    "- 4) 최소 5개 이상의 웹 사이트 각각에 대한 HTML 소스 파일과 단어 출현빈도 파일을 저장하시오.\n",
    "    - 즉, 5개의 웹 사이트에 대해 총 10개의 파일을 동일한 폴더에 생성하시오.\n",
    "    - [주의] 가능하면 웹사이트에 단어들이 많고 다루는 주제가 서로 다른 웹 사이트들로 선정하는 것 추천\n",
    "- 5) 위 문제에서 저장한 모든 pickle 파일들을 객체로 다시 로드하여 본인이 저장하여 분석한 사이트들 각각에 대해서 가장 많이 출현한 단어 3개씩를 뽑아 제시하시오.\n",
    "    - 반드시 pickle 모듈로 저장한 5개 이상의 pickle 파일들을 다시 5개 이상의 사전 객체로 로드 하는 코드가 추가되어야 함"
   ]
  },
  {
   "cell_type": "code",
   "execution_count": 29,
   "id": "a300fff7",
   "metadata": {},
   "outputs": [],
   "source": [
    "# 사전 객체 로드 함수 선언\n",
    "def loadDict(url):\n",
    "    # 1. 파일 이름 지정\n",
    "    fileName = url + '.words_frequency.pickle'\n",
    "    \n",
    "    # 2. 파일 열기\n",
    "    f = open('Assignment4\\\\' + fileName, 'rb')\n",
    "    \n",
    "    # 3. 사전 객체로 로드\n",
    "    fileWordDict = pickle.load(f) \n",
    "    \n",
    "    # 4. 파일 닫기\n",
    "    f.close()\n",
    "    \n",
    "    # 5. 사전 객체 반환\n",
    "    return fileWordDict"
   ]
  },
  {
   "cell_type": "code",
   "execution_count": 30,
   "id": "0174cff0",
   "metadata": {},
   "outputs": [],
   "source": [
    "# 가장 많이 출현한 단어 n개 출력 함수\n",
    "def printBestWord(url, n):\n",
    "    wordList = [] # 정렬을 위해 리스트로 저장\n",
    "    \n",
    "    # 1. 사전 객체 로드하기\n",
    "    fileWordDict = loadDict(url)\n",
    "    \n",
    "    # 2. 사전 객체 리스트에 저장하기\n",
    "    for (key, value) in fileWordDict.items():\n",
    "        wordList.append((key, value))\n",
    "    \n",
    "    # 3. 리스트 내림차순으로 정렬하기\n",
    "    wordList = sorted(wordList, key = lambda value: value[1], reverse = True)\n",
    "    \n",
    "    # 4. 가장 많이 출현한 단어 n개 출력하기\n",
    "    for index in range(n):\n",
    "        print(wordList[index])"
   ]
  },
  {
   "cell_type": "code",
   "execution_count": 31,
   "id": "276d2113",
   "metadata": {},
   "outputs": [],
   "source": [
    "# URL 입력형 전체 실행 함수 선언\n",
    "def scrapInputURL():\n",
    "    # 1. URL 주소 입력받고 가져오기\n",
    "    url = input(\"URL 주소를 입력해주세요(https://.../ 기호 제외): \")\n",
    "    request = requestURL('https://' + url + '/')\n",
    "    \n",
    "    # 2. URL 주소가 정상인지 검사하고 source로 반환하기\n",
    "    source = sourceProcess(request) \n",
    "    \n",
    "    # 3. source를  html 소스 파일로 저장하기\n",
    "    saveSource(url, source)\n",
    "    \n",
    "    # 4. 사이트 필터링 결과 출력하기\n",
    "    wordDict = printResultFilter(source) # 저장하기 위해 값을 가져옴\n",
    "    \n",
    "    # 5. 단어 출현빈도수가 담긴 사전 객체 저장하기\n",
    "    saveDict(url, wordDict)\n",
    "    \n",
    "    # 6. 가장 많이 출현한 단어 n개 출력하기\n",
    "    print(\"\\n가장 많이 출현한 단어\\n\")\n",
    "    printBestWord(url,3)"
   ]
  },
  {
   "cell_type": "code",
   "execution_count": 32,
   "id": "70bc82d1",
   "metadata": {},
   "outputs": [],
   "source": [
    "# URL 대입형 전체 실행 함수 선언\n",
    "def scrapURL(url):\n",
    "    # 1. URL 주소 입력받고 가져오기\n",
    "    request = requestURL('https://' + url + '/')\n",
    "    \n",
    "    # 2. URL 주소가 정상인지 검사하고 source로 반환하기\n",
    "    source = sourceProcess(request) \n",
    "    \n",
    "    # 3. source를  html 소스 파일로 저장하기\n",
    "    saveSource(url, source)\n",
    "    \n",
    "    # 4. 사이트 필터링 결과 출력하기\n",
    "    wordDict = printResultFilter(source)\n",
    "    \n",
    "    # 5. 단어 출현빈도수가 담긴 사전 객체 저장하기\n",
    "    saveDict(url, wordDict)\n",
    "    \n",
    "    # 6. 가장 많이 출현한 단어 n개 출력하기\n",
    "    print(\"\\n7. 가장 많이 출현한 단어\\n\")\n",
    "    printBestWord(url,3)"
   ]
  },
  {
   "cell_type": "code",
   "execution_count": 33,
   "id": "c784e960",
   "metadata": {},
   "outputs": [
    {
     "name": "stderr",
     "output_type": "stream",
     "text": [
      "C:\\Users\\Leesy\\anaconda3\\envs\\script\\lib\\site-packages\\urllib3\\connectionpool.py:1013: InsecureRequestWarning: Unverified HTTPS request is being made to host 'cse.koreatech.ac.kr'. Adding certificate verification is strongly advised. See: https://urllib3.readthedocs.io/en/1.26.x/advanced-usage.html#ssl-warnings\n",
      "  warnings.warn(\n"
     ]
    },
    {
     "name": "stdout",
     "output_type": "stream",
     "text": [
      "사이트 주소가 정상입니다.\n",
      "\n",
      "1. 필터링된 source 값 리스트\n",
      "\n",
      " ['컴퓨터공학부', 'Schoolfun', 'Study', 'and', 'Fun', '로그인', '로그인', '아이디', '비밀번호', '로그인', '유지', '브라우저를', '닫더라도', '로그인이', '계속', '유지될', '수', '있습니다', '로그인', '유지', '기능을', '사용할', '경우', '다음', '접속부터는', '로그인할', '필요가', '없습니다', '단', '게임방', '학교', '등', '공공장소에서', '이용', '시', '개인정보가', '유출될', '수', '있으니', '꼭', '로그아웃을', '해주세요', '회원가입', 'IDPW', '찾기', 'IT', '교육의', '글로벌', '메카', '한국기술교육대학교', '컴퓨터공학부', 'Close', '소개', '구성원소개', '학사안내', '입학', '학부', '대학원', '학부광장', '자료실', '대학원', '공학교육인증', '학부서비스', 'Registration', '컴퓨터공학부', 'School', 'of', 'Computer', 'Science', 'and', 'Engineering', '대학혁신사업단', '국내', '최고의', '실천공학과', '인적자원개발의', '창조적', '융합대학', 'IPP사업단', '기업연계형', '장기현장실습', '제도', 'IT', '교육의', '글로벌', '메카', '한국기술교육대학교', '컴퓨터공학부', '홈페이지에', '오신', '것을', '환영합니다', '대학혁신산업단', '국내', '최고의', '실천공학과', '인적자원개발의', '창조적', '융합대학', '바로가기', 'IPP사업단', '기업연계형', '장기현장실습', '제도', '바로가기', '공지사항', '공학설계', '2021년', '2학기', '공학설계', '최종보고서', '양식', '관', '20211126', '1331', '1331', 'LINC사업단', '자율주행차연구회', '3기', '모집', '공고', '20211112', '0925', '0925', '필독20212학기', '실험실', '안전교육', '이수', '요청1219', '20211015', '1050', '1050', '졸업작품', '전시회', '2021년', '졸업작품', '전시회', '관련', '안내사항', '20211008', '1342', '1342', '졸업작품', '2021년', '졸업작품', '판넬', '확인', '20211006', '1110', '1110', '자유게시판', '※', 'DICE', 'Lab', '인공지능연구', '예비', '대학원생', '모집', '※', '20211120', '1046', '1046', '제', '13대', '학생회', '학회장부학회장', '입후보', '등록기간', '연장', '20211114', '1711', '1711', '2021', 'AI', '인공지능', '학습용', '데이터', '해커톤', '대회', '20211110', '1454', '1454', '제', '13대', '학생회', '학회장부학회장', '입후보', '등록', '공지', '20211101', '1248', '1248', '메타버스', '기반', '핀테크', '해커톤', '대회', '공지', '20211027', '1138', '1138', '취업게시판', '파워오토메이션', '엔지니어', '구인신청', '20211122', '1100', '1100', '서울', '2022', '메타넷', '인턴십프로그램채용연계형', '1기', '모집', '20211122', '0855', '0855', '동계인턴정규전환가능', '코그', '2022년', '동계', '인턴', '공개', '20211115', '1335', '1335', '행사안내', '마이크로소프트와', '함께', '하는', '온라인', '잡', '페', '20211109', '0834', '0834', '서울', '펜타시스템', '35기', '공채', '신입사원', '채용', '공고', '20211028', '1652', '1652', 'Platum', '전자신문', '원스토어', '상장', '예비심사', '신청…SK스퀘어', '자회사', '20211126', '1625', '1625', 'LG유플러스', '2022년', '조직개편', '단행사업그룹', '신', '20211126', '1621', '1621', 'KT', '차이나모바일·NTT도코모와', '협력', '연장5G', '단', '20211126', '1425', '1425', '금강·서경방송', '등', '중소', '케이블TV에', 'IPTV', '사업', '허가', '20211126', '1146', '1146', 'SK텔레콤', '2021', '서울', '모빌리티쇼에서', '누구', '오', '20211126', '1038', '1038', 'TechCrunch', 'Watch', 'Apple’s', '‘Unleashed’', 'event', 'live', 'right', 'here', '20211018', '1926', '1926', 'China', 'Could', 'Be', 'Exploiting', 'Internet', 'Security', 'Pr', '20211018', '1908', '1908', 'The', 'Flash', 'Trailer', 'Confirms', 'Batman', 'Will', 'Have', 'A', '20211018', '0431', '0431', 'How', 'Supergirl', 'Revamped', 'Superman', 'IVs', 'Story', 'And', '20211018', '0431', '0431', 'A', 'Sinister', 'Six', 'Movie', 'Should', 'Copy', 'SpiderMan', 'N', '20211018', '0431', '0431', 'Quick', 'Navigation', '한국기술교육대학교', '홈페이지', '한국기술교육대학교', 'WEBMAIL', '한국기술교육대학교', '온라인', '평생교육원', '컴퓨터공학부', '교직원', '업무', '자료실', 'Campus', 'Location', 'Contact', 'CSE', '충청남도', '천안시', '동남구', '병천면', '충절로', '1600', '한국기술교육대학교', '컴퓨터공학부', '학과사무실', 'TEL', '041', '560', '1460', '1461', 'FAX', '041', '560', '1462', 'Facebook', '31253', '충청남도', '천안시', '동남구', '병천면', '충절로', '1600', '가전리', '한국기술교육대학교', '컴퓨터공학부', 'Copyright', '©', '2015', 'All', 'rights', 'reserved']\n",
      "\n",
      "2. 단어의 개수: 396개\n",
      "\n",
      "3. 각 단어들의 출현빈도 수\n",
      "\n",
      "{'20211110': 1, '구성원소개': 1, 'N': 1, 'reserved': 1, '1425': 2, '공지사항': 1, '접속부터는': 1, 'DICE': 1, 'The': 1, '입후보': 2, 'A': 2, '20211126': 6, '잡': 1, '인공지능연구': 1, '1046': 2, 'Story': 1, '있습니다': 1, '공채': 1, '3기': 1, '엔지니어': 1, '학습용': 1, '560': 2, '평생교육원': 1, '관련': 1, '공학교육인증': 1, '등록기간': 1, 'KT': 1, '유지': 2, '해커톤': 2, '제도': 2, '공개': 1, '펜타시스템': 1, '자료실': 2, '1146': 2, '자율주행차연구회': 1, '금강·서경방송': 1, '학부광장': 1, '학생회': 2, '환영합니다': 1, '단행사업그룹': 1, '기능을': 1, '1461': 1, 'Movie': 1, '이수': 1, '하는': 1, '1기': 1, 'LG유플러스': 1, 'right': 1, 'Location': 1, '로그인': 4, '꼭': 1, '홈페이지에': 1, '메타넷': 1, '1652': 2, 'Supergirl': 1, '신청…SK스퀘어': 1, '연장5G': 1, 'Trailer': 1, '누구': 1, '2022년': 2, '닫더라도': 1, '데이터': 1, '신입사원': 1, '업무': 1, 'IT': 2, '조직개편': 1, 'Should': 1, '1331': 2, '허가': 1, '1711': 2, '사업': 1, '공고': 2, 'Could': 1, 'CSE': 1, '코그': 1, 'Exploiting': 1, '온라인': 2, 'Lab': 1, '국내': 2, '유출될': 1, '20211114': 1, '2021': 2, 'Six': 1, '1248': 2, '1621': 2, '기업연계형': 2, '다음': 1, '창조적': 2, '메카': 2, '1908': 2, 'Facebook': 1, '대학혁신사업단': 1, '없습니다': 1, '개인정보가': 1, '최고의': 2, '구인신청': 1, '동계': 1, '마이크로소프트와': 1, '자회사': 1, '동계인턴정규전환가능': 1, '학과사무실': 1, '2015': 1, '수': 2, '1038': 2, '함께': 1, 'TechCrunch': 1, '바로가기': 2, '20211115': 1, 'Copy': 1, '홈페이지': 1, '0855': 2, '경우': 1, '1138': 2, '2021년': 3, '연장': 1, '학교': 1, '게임방': 1, '한국기술교육대학교': 7, '페': 1, '요청1219': 1, '오': 1, 'IPP사업단': 2, '시': 1, '양식': 1, '2022': 1, 'Study': 1, 'TEL': 1, '비밀번호': 1, '등': 2, '장기현장실습': 2, 'Revamped': 1, '관': 1, 'Close': 1, '20211015': 1, '등록': 1, 'Platum': 1, '소개': 1, '융합대학': 2, '계속': 1, '20211122': 2, '20211027': 1, '최종보고서': 1, 'Internet': 1, 'Engineering': 1, '충청남도': 2, '필요가': 1, '예비심사': 1, '대학원생': 1, '천안시': 2, 'Campus': 1, '1050': 2, '실험실': 1, 'live': 1, '1110': 2, 'Apple’s': 1, '041': 2, '학부': 1, '대회': 2, 'of': 1, '회원가입': 1, '신': 1, 'Flash': 1, 'Will': 1, '대학혁신산업단': 1, '20211006': 1, '사용할': 1, '필독20212학기': 1, '제': 2, 'AI': 1, '1454': 2, 'IVs': 1, 'LINC사업단': 1, '졸업작품': 4, '35기': 1, '충절로': 2, '0925': 2, '가전리': 1, 'Schoolfun': 1, '20211112': 1, '1335': 2, '확인': 1, '교육의': 2, '글로벌': 2, '교직원': 1, '채용': 1, '31253': 1, '유지될': 1, '인턴십프로그램채용연계형': 1, '협력': 1, '메타버스': 1, '1625': 2, '찾기': 1, 'Confirms': 1, 'And': 1, '아이디': 1, 'Science': 1, 'Copyright': 1, '20211120': 1, 'here': 1, '2학기': 1, '20211109': 1, '대학원': 2, '13대': 2, '학사안내': 1, '단': 2, '동남구': 2, '차이나모바일·NTT도코모와': 1, 'Fun': 1, '로그인할': 1, '중소': 1, '파워오토메이션': 1, '20211008': 1, '모집': 3, 'All': 1, '안전교육': 1, '서울': 3, '0834': 2, '공학설계': 2, '학회장부학회장': 2, '공공장소에서': 1, '있으니': 1, 'event': 1, '20211018': 5, '전자신문': 1, 'Pr': 1, '행사안내': 1, '브라우저를': 1, '실천공학과': 2, 'Be': 1, 'Contact': 1, 'Computer': 1, 'Superman': 1, '0431': 6, '전시회': 2, 'SK텔레콤': 1, '1100': 2, 'rights': 1, 'IDPW': 1, '원스토어': 1, '로그인이': 1, 'China': 1, '취업게시판': 1, 'Batman': 1, 'Have': 1, 'FAX': 1, '인턴': 1, '인공지능': 1, '20211028': 1, 'IPTV': 1, 'Quick': 1, '1600': 2, '‘Unleashed’': 1, '오신': 1, 'Watch': 1, '해주세요': 1, '판넬': 1, '입학': 1, '컴퓨터공학부': 7, '※': 2, '공지': 2, '1926': 2, '병천면': 2, '1460': 1, '이용': 1, '©': 1, '것을': 1, '기반': 1, '1462': 1, '학부서비스': 1, '핀테크': 1, '예비': 1, '로그아웃을': 1, '케이블TV에': 1, 'SpiderMan': 1, '상장': 1, '1342': 2, 'How': 1, 'Security': 1, 'Sinister': 1, '20211101': 1, 'and': 2, 'Registration': 1, 'School': 1, '안내사항': 1, '자유게시판': 1, '모빌리티쇼에서': 1, 'Navigation': 1, '인적자원개발의': 2, 'WEBMAIL': 1}\n",
      "\n",
      "4. 필터링 후 단어의 개수: 289개\n",
      "\n",
      "5. 불용어 필터링 후 출현빈도 수\n",
      "\n",
      "{'20211110': 1, '구성원소개': 1, 'N': 1, 'reserved': 1, '1425': 2, '공지사항': 1, '접속부터는': 1, 'DICE': 1, 'The': 1, '입후보': 2, 'A': 2, '20211126': 6, '잡': 1, '인공지능연구': 1, '1046': 2, 'Story': 1, '있습니다': 1, '공채': 1, '3기': 1, '엔지니어': 1, '학습용': 1, '560': 2, '평생교육원': 1, '관련': 1, '공학교육인증': 1, '등록기간': 1, 'KT': 1, '유지': 2, '해커톤': 2, '제도': 2, '공개': 1, '펜타시스템': 1, '자료실': 2, '1146': 2, '자율주행차연구회': 1, '금강·서경방송': 1, '학부광장': 1, '학생회': 2, '환영합니다': 1, '단행사업그룹': 1, '기능을': 1, '1461': 1, 'Movie': 1, '이수': 1, '하는': 1, '1기': 1, 'LG유플러스': 1, 'Location': 1, '로그인': 4, '꼭': 1, '홈페이지에': 1, '메타넷': 1, '1652': 2, 'Supergirl': 1, '신청…SK스퀘어': 1, '연장5G': 1, 'Trailer': 1, '2022년': 2, '닫더라도': 1, '데이터': 1, '신입사원': 1, '업무': 1, 'IT': 2, '조직개편': 1, 'Should': 1, '1331': 2, '허가': 1, '1711': 2, '사업': 1, '공고': 2, 'Could': 1, 'CSE': 1, '코그': 1, 'Exploiting': 1, '온라인': 2, 'Lab': 1, '국내': 2, '유출될': 1, '20211114': 1, '2021': 2, 'Six': 1, '1248': 2, '1621': 2, '기업연계형': 2, '창조적': 2, '메카': 2, '1908': 2, 'Facebook': 1, '대학혁신사업단': 1, '없습니다': 1, '개인정보가': 1, '최고의': 2, '구인신청': 1, '동계': 1, '마이크로소프트와': 1, '자회사': 1, '동계인턴정규전환가능': 1, '학과사무실': 1, '2015': 1, '수': 2, '1038': 2, 'TechCrunch': 1, '바로가기': 2, '20211115': 1, 'Copy': 1, '홈페이지': 1, '0855': 2, '경우': 1, '1138': 2, '2021년': 3, '연장': 1, '학교': 1, '게임방': 1, '한국기술교육대학교': 7, '페': 1, '요청1219': 1, 'IPP사업단': 2, '시': 1, '양식': 1, '2022': 1, 'Study': 1, 'TEL': 1, '비밀번호': 1, '장기현장실습': 2, 'Revamped': 1, '관': 1, 'Close': 1, '20211015': 1, '등록': 1, 'Platum': 1, '소개': 1, '융합대학': 2, '계속': 1, '20211122': 2, '20211027': 1, '최종보고서': 1, 'Internet': 1, 'Engineering': 1, '충청남도': 2, '필요가': 1, '예비심사': 1, '대학원생': 1, '천안시': 2, 'Campus': 1, '1050': 2, '실험실': 1, 'live': 1, '1110': 2, 'Apple’s': 1, '041': 2, '학부': 1, '대회': 2, '회원가입': 1, '신': 1, 'Flash': 1, 'Will': 1, '대학혁신산업단': 1, '20211006': 1, '사용할': 1, '필독20212학기': 1, 'AI': 1, '1454': 2, 'IVs': 1, 'LINC사업단': 1, '졸업작품': 4, '35기': 1, '충절로': 2, '0925': 2, '가전리': 1, 'Schoolfun': 1, '20211112': 1, '1335': 2, '확인': 1, '교육의': 2, '글로벌': 2, '교직원': 1, '채용': 1, '31253': 1, '유지될': 1, '인턴십프로그램채용연계형': 1, '협력': 1, '메타버스': 1, '1625': 2, '찾기': 1, 'Confirms': 1, 'And': 1, '아이디': 1, 'Science': 1, 'Copyright': 1, '20211120': 1, '2학기': 1, '20211109': 1, '대학원': 2, '13대': 2, '학사안내': 1, '단': 2, '동남구': 2, '차이나모바일·NTT도코모와': 1, 'Fun': 1, '로그인할': 1, '중소': 1, '파워오토메이션': 1, '20211008': 1, '모집': 3, 'All': 1, '안전교육': 1, '서울': 3, '0834': 2, '공학설계': 2, '학회장부학회장': 2, '공공장소에서': 1, '있으니': 1, 'event': 1, '20211018': 5, '전자신문': 1, 'Pr': 1, '행사안내': 1, '브라우저를': 1, '실천공학과': 2, 'Be': 1, 'Contact': 1, 'Computer': 1, 'Superman': 1, '0431': 6, '전시회': 2, 'SK텔레콤': 1, '1100': 2, 'rights': 1, 'IDPW': 1, '원스토어': 1, '로그인이': 1, 'China': 1, '취업게시판': 1, 'Batman': 1, 'Have': 1, 'FAX': 1, '인턴': 1, '인공지능': 1, '20211028': 1, 'IPTV': 1, 'Quick': 1, '1600': 2, '‘Unleashed’': 1, '오신': 1, 'Watch': 1, '해주세요': 1, '판넬': 1, '입학': 1, '컴퓨터공학부': 7, '※': 2, '공지': 2, '1926': 2, '병천면': 2, '1460': 1, '이용': 1, '©': 1, '것을': 1, '기반': 1, '1462': 1, '학부서비스': 1, '핀테크': 1, '예비': 1, '로그아웃을': 1, '케이블TV에': 1, 'SpiderMan': 1, '상장': 1, '1342': 2, 'How': 1, 'Security': 1, 'Sinister': 1, '20211101': 1, 'Registration': 1, 'School': 1, '안내사항': 1, '자유게시판': 1, '모빌리티쇼에서': 1, 'Navigation': 1, '인적자원개발의': 2, 'WEBMAIL': 1}\n",
      "\n",
      "6. 불용어 필터링 후 단어의 개수: 279개\n",
      "\n",
      "\n",
      "7. 가장 많이 출현한 단어\n",
      "\n",
      "('한국기술교육대학교', 7)\n",
      "('컴퓨터공학부', 7)\n",
      "('20211126', 6)\n"
     ]
    }
   ],
   "source": [
    "# 1. 컴퓨터공학부 사이트 필터링 결과\n",
    "url1 = 'cse.koreatech.ac.kr'\n",
    "scrapURL(url1)"
   ]
  },
  {
   "cell_type": "code",
   "execution_count": 34,
   "id": "8aac4667",
   "metadata": {},
   "outputs": [
    {
     "name": "stderr",
     "output_type": "stream",
     "text": [
      "C:\\Users\\Leesy\\anaconda3\\envs\\script\\lib\\site-packages\\urllib3\\connectionpool.py:1013: InsecureRequestWarning: Unverified HTTPS request is being made to host 'www.koreatech.ac.kr'. Adding certificate verification is strongly advised. See: https://urllib3.readthedocs.io/en/1.26.x/advanced-usage.html#ssl-warnings\n",
      "  warnings.warn(\n",
      "C:\\Users\\Leesy\\anaconda3\\envs\\script\\lib\\site-packages\\urllib3\\connectionpool.py:1013: InsecureRequestWarning: Unverified HTTPS request is being made to host 'www.koreatech.ac.kr'. Adding certificate verification is strongly advised. See: https://urllib3.readthedocs.io/en/1.26.x/advanced-usage.html#ssl-warnings\n",
      "  warnings.warn(\n",
      "C:\\Users\\Leesy\\anaconda3\\envs\\script\\lib\\site-packages\\urllib3\\connectionpool.py:1013: InsecureRequestWarning: Unverified HTTPS request is being made to host 'www.koreatech.ac.kr'. Adding certificate verification is strongly advised. See: https://urllib3.readthedocs.io/en/1.26.x/advanced-usage.html#ssl-warnings\n",
      "  warnings.warn(\n"
     ]
    },
    {
     "name": "stdout",
     "output_type": "stream",
     "text": [
      "사이트 주소가 정상입니다.\n",
      "\n",
      "1. 필터링된 source 값 리스트\n",
      "\n",
      " ['한국기술교육대학교', '닫기', 'Link', 'Service', '재학생', '재학생', '학생이', '행복한', '대학', '한국기술교육대학교', '온라인교육지원', '생활관', '원격지원', '오늘의', '식단', '학사종합시스템', '인터넷증명발급', '동아리안내', '입학정보', '코리아텍의', '입학정보를', '제공합니다', '취업정보', '최신', '취업관련', '정보를', '제공합니다', '교직원', '교직원', '학생이', '행복한', '대학', '한국기술교육대학교', '아우누리', '온라인교육지원', '무선랜신청', '원격지원', '오늘의', '식단', '교육장비검색', '입학정보', '코리아텍의', '입학정보를', '제공합니다', '취업정보', '최신', '취업관련', '정보를', '제공합니다', '일반인', '일반인', '학생이', '행복한', '대학', '한국기술교육대학교', '코리아텍소개', 'VISION2020', 'PLUS', '언론기사', '학부소개', '대학원소개', '캠퍼스투어', '찾아오시는길', '전화번호찾기', '입학정보', '코리아텍의', '입학정보를', '제공합니다', '취업정보', '최신', '취업관련', '정보를', '제공합니다', '코리아텍', '특장점', '자세히', '보기', '중앙일보대학평가‘교육중심대학’', '1위', '코리아텍은', '중앙일보대학평가', '11년', '연속으로', '“교육중심대학', '1위”', '의', '성과를', '이루었습니다', '스킵네비게이션', '본문바로가기', '주메뉴바로가기', '2022', '수시', '학생부', '종합전형', '합격자발표', '팝업존', '정지', '팝업존', '재생', '1', '오늘', '하루', '보지', '않기', '팝업닫기', '재학생', '교직원', '일반인', '통학·', '셔틀버스', '안전보건경영', '웹메일', '행정서비스헌장', '부패행위신고', '홈페이지', '오류신고', 'ENG', 'CHI', '팝업', '1', '건', '한국기술교육대학교', '전체메뉴열기', '전체메뉴닫기', '한국기술교육대학교', '입학안내', '웹메일', 'ENG', 'CHI', '대학소개', 'KOREATECH소개', '교육목표', '및', '인재상', '대학특성', 'KOREATECH', '심볼', '교가', '캠퍼스', '안내', '찾아오시는길', '통학셔틀버스안내', 'KOREATECH20년', '총장실', '총장인사말', '총장프로필', '총장동정', '열린총장실', '역대총장', '대학현황', '대학요람', '규정집', '연혁', '재정현황', '시설현황', '재학생현황', 'VISION2020', 'PLUS', '대학조직', '조직구성', '전화번호검색', '국제교류', '국제교류현황', '국제협력프로그램', 'KOREATECH', '발전기금', '모금캠페인', '참여하기', '기부자예우', '발전기금소식', '후원커뮤니티', '부패행위', '신고', '부패행위', '신고', '익명신고', '청렴게시판', '청렴자료실', '청탁금지법', '청탁금지법', 'QA', '국민권익위', '안전보건경영', '비전', '및', '추진체계', '안전보건방침', '선포식', '안전', '게시판', '감염병', '게시판', '자료실', '안전', '신문고', '안전보건관계법령', '입학안내', '대학', '대학원', '입시요강', '전년도', '결과확인', '모의성적계산', '대학대학원', '대학', '기계공학부', '메카트로닉스공학부', '전기전자통신공학부', '컴퓨터공학부', '디자인·건축공학부', '에너지신소재화학공학부', '산업경영학부', '고용서비스정책학과', '교양학부', 'HRD학과', '융합학과', '대학원', '일학습병행대학', '대학생활', '학사안내', '학사일정', '학적', '변동', '교과과정', '특수교과', '수강신청', '졸업', '졸업작품', '해외연수', '교환학생안내', '어학연수안내', '장학제도', '교내장학금', '교외장학금', '캠퍼스생활', '은행업무', '인터넷증명발급', '증명서발급', '학생증발급', '도서관이용안내', '모바일화폐페이코사용안내', '동아리안내', '보건실안내', '소프트웨어사용안내', '무선랜사용신청', '병사안내', '병무안내', '직장예비군안내', '민방위안내', '병무안내관련사이트', '커뮤니티', '공지사항', '일반공지', '장학공지', '학사공지', '채용공지', '코로나19관련공지', '학부모님', '의견란', '고객만족경영', '고객만족경영체계', '고객의', '소리제안', 'VOC', '개선사항', '정보공개', '정보공개', '정보공개제도안내', '정보공개업무편람', '정보공개이의신청', '사전정보공표목록', '인터넷정보공개청구', '행정정보소재', '공공데이터', '공공데이터개방', '데이터의견수렴·오류신고', '행정공시', '학교법인임원공시', '구매입찰', '회계공시', '경영공시', '대학알리미', 'ALIO경영공시', '대학혁신지원사업', '대학혁신지원사업', '사업실명제', '민간투자사업', '개교', '30주년', '30주년', '사업소개', '위원장', '인사말', '기념사업', '개요', '엠블럼', '30년', '발자취', '함께하는', '30주년', '사업소식', '30년', '자료', '기증', '공지사항', 'QA', 'KOREATECH', 'Story', 'KOREATECH', 'NEWS', '홍보영상물', '대학홍보영상', '홍보관련영상', '언론보도영상', 'KOREATECH', '홍보대사', '나래', '대학소식지', '대학캠퍼스투어', '홍보브로셔', 'KOREATECH', '학부모', '초청의', '날', '행사참여안내', '행사참여신청', '포토갤러리', 'CoverStory', '홍보소재제안', '전체메뉴보기', 'SEARCH', '25', 'Nov', 'COVER', 'STORY', '2021', '일학습병행', 'OJT', 'Forum', '개최', '우리', '한국기술교육대학교에서는', 'OJT의', '질적향상과', '발전방안을', '모색하고자', '일학습병행', '현장훈련의', '과거', '현재', '미래를', '주제로', 'OJT포럼을', '개최합니다', '아울러', 'OJT경진대회와', '구인기업과', '22', 'Nov', 'COVER', 'STORY', 'IT', '발전과', '고용서비스의', '미래', '토론회', '개최', '안내', '한기대한고원', '공동', '주관으로', 'IT', '발전과', '고용서비스의', '미래', '토론회를', '개최', '하오니', '관심있는', '분들의', '많은', '참여', '부탁드립니다', '※', '발표', '주제', '등', '자세한', '내용은', '홈페이지', '공지사항을', '08', 'Nov', 'COVER', 'STORY', '한경', '리크루트', '총장님', '인터뷰', '1991년', '정부가', '설립하여', '올해', '개교', '30주년을', '맞이한', '한국기술교육대학교이하', 'KOREATECH', 'wwwkoreatechackr는짧은', '역사에도', '불구하고', '학생을', '잘', '가르치는', '08', 'Nov', 'COVER', 'STORY', '개교', '30주년', '한기대취업률', '1위·전국', '최고', '수준의', '공학교육', '모델', '만들었다', '작년', '취업률', '847', '전국', '대학', '1위', '미래교육', '및', '인재양성', '기관', '자리매김', '2012년', '기업연계형', 'IPP', '전국', '확산', '융합학과', '등', '4차산업', '교육과정', '개편', '직업능력개발', '08', 'Nov', 'COVER', 'STORY', '포스트', '코로나', '시대미래기술', '전시회', '열려', '위드코로나가', '시작되면서', '포스트', '코로나19', '시대를', '알리는', '과학기술분야', '혁신기술이', '서서히', '우리', '곁으로', '다가오고', '있는데요', '천안', '한국기술교육대에서', '코로나', '이후', '앞으로', '실생활에', '변화', '25', 'Oct', 'COVER', 'STORY', '사진으로', '보는', '한국기술교육대학교', '개교', '30주년', '한국기술교육대학교', '개교', '30주년을', '맞이하여', '그', '동안의', '역사를', '사진을', '통해', '살펴봅니다', '능력개발교육원', '온라인평생교육원', '직업능력심사평가원', '산학협력단', '공지사항', '취창업지원팀', '우리', '학교', '굿즈', '우리가', '만들자', '교내', '30주년', '기념', '굿즈', '창업', '아이템', '공모전', '결과', '안내', '1126', '20211126', '1캠', '생활관', '온라인', '인권성평등', '교육', '이수', '요청', '안내', '20211126', '1캠', '생활관', '\\ufeff2021동계방학', '생활관생', '모집', '계획', '안내모집기간', '1130125', '20211126', '학생지원팀', '12월', '체육관', '단기근장', '추가모집', '선착순', '20211126', '공지사항', '더보기', '포토갤러리', '포토갤러리더보기', '팝업존', '재생', '정지', '숫자로', '보는', '한국기술교육대학교', '847', '전국', '4년제', '대학', '취업률', '1위', '출처', '대학정보공시', '졸업생', '500명', '이상', '대학', '1', '위', '중앙일보', '대학평가', '교육중심대학11년연속', '1위', '출처', '중앙일보', '‘19년', '평가', '3296', '천원', '장학금', '수령액', '출처', '2020년', '대학정보공시', '기준', 'Statistics', '취업률', '분포현황', '자주찾는', '서비스', '학사종합서비스', '온라인교육', '인터넷증명발급', '학사일정', '발전기금', '학과안내', 'SNS', '페이스북', 'FaceBook', '20211020', 'Blog', 'KOREATECH한국기술교육대학교', 'Wings', 'Magazine', '2021년', '11월호', '20211115', 'Instgram', 'WingsMagazine', '11월호', '20211115', 'Youtube', '한국기술교육대학교', '제', '6회', '교육콘서트', '한국기술교육대', '위드', '코로나', '20211117', '네이버블로그', '인스타그램', '유튜브', '대학대학원', '기계공학부', '메카트로닉스공학부', '전기전자통신공학부', '컴퓨터공학부', '디자인공학전공', '건축공학전공', '에너지신소재화학공학부', '산업경영학부', '교양학부', 'HRD학과', '융합학과', '일반대학원', '테크노인력개발전문대학원', 'IT융합과학경영대학원', '최고경영자과정', '주요사이트', '네이버', '공식블로그', '학사종합서비스', '온라인교육지원', '웹갤러리', '웹메일', '청년워크넷', '고용부', '워크넷', '잡코리아', '사람인', '인크루트', '교내주요기관', '능력개발교육원', '온라인평생교육원', '직업능력심사평가원', '다산정보관', '산학협력단', 'LINC사업단', '생활협동조합', '생활관', '반도체', '장비기술교육센터', '상담진로개발센터', 'IPP센터', 'IPP포털', '사회봉사센터', '다담창의센터', 'IPP·UniTech허브사업단', '창업지원센터', '듀얼공동훈련센터허브사업단', '대학혁신사업단', '교수학습센터', '도제허브사업단', '국제교육센터', '학생자치단체', '총학생회', '코리아텍방송국', '생활관자치회', '대외유관기관', '고용노동부', '산업통상자원부', '기획재정부', '한국산업인력공단', '한국폴리텍대학', '한국교육개발원', '한국노동연구원', '한국고용노동교육원', '근로복지공단', '한국산업안전보건공단', '한국고용정보원', '한국직업능력개발원', '한국장애인고용공단', '충청남도청', '천안시청', '국민권익위원회', '교육부', 'NTIS', '원격훈련심사센터', 'TOP', '한국기술교육대학교', '서비스메뉴', '개인정보처리방침', '이메일무단수집거부', '윤리헌장', '행정서비스헌장', '알리오', '대학정보공시', '도로명주소안내', '좌측내용', '더보기', '우측내용', '더보기', '31253', '충청남도', '천안시', '동남구', '병천면', '충절로', '1600', '가전리', '한국기술교육대학교', 'TEL', '0415601114', 'FAX', '02', 'EMAIL', 'interkoreatechackr', 'Copyright', 'ⓒ', '2019', 'KOREATECH', 'All', 'right', 'reserved']\n",
      "\n",
      "2. 단어의 개수: 735개\n",
      "\n",
      "3. 각 단어들의 출현빈도 수\n",
      "\n",
      "{'공동': 1, '천안': 1, '대학정보공시': 3, '25': 2, '20211126': 4, 'Story': 1, '교환학생안내': 1, '민방위안내': 1, 'Forum': 1, '심볼': 1, '있는데요': 1, '디자인공학전공': 1, '12월': 1, '졸업생': 1, '시대를': 1, '연혁': 1, '코로나19': 1, '게시판': 2, '질적향상과': 1, 'FaceBook': 1, '어학연수안내': 1, 'Link': 1, '하오니': 1, 'OJT': 1, '0415601114': 1, '1126': 1, '후원커뮤니티': 1, 'IT': 2, '정보공개업무편람': 1, '발전과': 2, '재생': 2, 'CoverStory': 1, '창업': 1, '엠블럼': 1, '자세한': 1, 'ⓒ': 1, '대학혁신사업단': 1, '교가': 1, '한국노동연구원': 1, '고용서비스의': 2, 'KOREATECH소개': 1, '사진으로': 1, '홈페이지': 2, '6회': 1, '능력개발교육원': 2, '학교': 1, '한국기술교육대학교': 12, '출처': 3, '토론회': 1, '교육중심대학11년연속': 1, '2022': 1, '고용부': 1, '20211117': 1, '메카트로닉스공학부': 2, '민간투자사업': 1, '건축공학전공': 1, '청렴게시판': 1, '알리는': 1, '국민권익위': 1, '천안시': 1, '홍보관련영상': 1, 'NTIS': 1, '학사종합시스템': 1, '제': 1, 'NEWS': 1, '선포식': 1, '우측내용': 1, '4년제': 1, '교양학부': 2, '에너지신소재화학공학부': 2, '인터넷증명발급': 3, 'HRD학과': 2, '데이터의견수렴·오류신고': 1, 'OJT경진대회와': 1, 'Copyright': 1, '학생증발급': 1, '고용노동부': 1, '워크넷': 1, '선착순': 1, '동남구': 1, '분포현황': 1, 'IT융합과학경영대학원': 1, '연속으로': 1, 'All': 1, '원격훈련심사센터': 1, '대학요람': 1, '총장님': 1, '홍보브로셔': 1, '코리아텍': 1, '셔틀버스': 1, '결과': 1, '22': 1, 'KOREATECH20년': 1, '네이버': 1, '행복한': 3, '고객만족경영체계': 1, 'OJT의': 1, '고용서비스정책학과': 1, 'KOREATECH한국기술교육대학교': 1, '2012년': 1, '개인정보처리방침': 1, '교내장학금': 1, '전년도': 1, '만들었다': 1, '모바일화폐페이코사용안내': 1, '보는': 2, 'IPP포털': 1, '추진체계': 1, '주메뉴바로가기': 1, '기념': 1, '한경': 1, '신문고': 1, '정보공개이의신청': 1, '자료': 1, '행사참여안내': 1, '사업소식': 1, '포토갤러리더보기': 1, 'Wings': 1, '통학·': 1, '대학소식지': 1, '미래교육': 1, '특수교과': 1, '대학대학원': 2, '미래를': 1, '보기': 1, '전국': 3, '안전보건방침': 1, 'Statistics': 1, '자리매김': 1, '천원': 1, '본문바로가기': 1, '국민권익위원회': 1, '천안시청': 1, '취업률': 3, '직업능력심사평가원': 2, '발전기금': 2, '개요': 1, '리크루트': 1, '3296': 1, 'SEARCH': 1, '취창업지원팀': 1, '한국고용노동교육원': 1, '개교': 5, '과거': 1, '변동': 1, 'TOP': 1, '산학협력단': 2, '위드': 1, '교내': 1, '상담진로개발센터': 1, '캠퍼스투어': 1, '발전기금소식': 1, '확산': 1, 'EMAIL': 1, '847': 2, '모금캠페인': 1, '학사공지': 1, '1130125': 1, '더보기': 3, '11년': 1, '불구하고': 1, '전체메뉴보기': 1, '분들의': 1, 'VOC': 1, 'OJT포럼을': 1, '사전정보공표목록': 1, '입학정보': 3, '체육관': 1, '학사일정': 2, '좌측내용': 1, '한국기술교육대': 1, '언론보도영상': 1, '다가오고': 1, '대학': 8, '의': 1, '2021년': 1, '총장동정': 1, '한국기술교육대에서': 1, '테크노인력개발전문대학원': 1, '참여하기': 1, '교육부': 1, '국제교류현황': 1, '홍보영상물': 1, '서비스메뉴': 1, '한기대취업률': 1, '자주찾는': 1, '학부소개': 1, '산업경영학부': 2, '충청남도청': 1, '앞으로': 1, '네이버블로그': 1, '인권성평등': 1, '합격자발표': 1, '행정정보소재': 1, '기증': 1, '4차산업': 1, '역사에도': 1, '위드코로나가': 1, '팝업': 1, '국제교육센터': 1, '익명신고': 1, '국제협력프로그램': 1, '혁신기술이': 1, '발자취': 1, 'Blog': 1, '충절로': 1, '일반대학원': 1, '기계공학부': 2, '도제허브사업단': 1, '병사안내': 1, '알리오': 1, '교직원': 3, '1위”': 1, '열린총장실': 1, '31253': 1, '주관으로': 1, '위원장': 1, '병무안내관련사이트': 1, '도로명주소안내': 1, '행정서비스헌장': 2, '대학평가': 1, '닫기': 1, '실생활에': 1, '총장프로필': 1, '부패행위': 2, '캠퍼스생활': 1, '대학특성': 1, '우리': 3, '부탁드립니다': 1, '현장훈련의': 1, '행정공시': 1, '30주년': 6, '공학교육': 1, '수시': 1, '교과과정': 1, '코로나19관련공지': 1, '학생자치단체': 1, '일반인': 3, '주제': 1, 'FAX': 1, '학교법인임원공시': 1, '1600': 1, '웹메일': 3, '도서관이용안내': 1, '08': 3, '2020년': 1, '병천면': 1, '※': 1, '위': 1, '대학조직': 1, '정보를': 3, '안내모집기간': 1, '대학홍보영상': 1, '모델': 1, '작년': 1, '교육장비검색': 1, '웹갤러리': 1, '재학생현황': 1, 'ENG': 2, '중앙일보대학평가': 1, '다담창의센터': 1, '총장실': 1, '교육목표': 1, '대학소개': 1, '현재': 1, '스킵네비게이션': 1, '공지사항': 4, '주제로': 1, '중앙일보': 2, '수령액': 1, 'STORY': 6, '한국고용정보원': 1, '발전방안을': 1, '반도체': 1, '인터뷰': 1, '공공데이터개방': 1, '평가': 1, '자료실': 1, '공공데이터': 1, '역사를': 1, '숫자로': 1, '이수': 1, '특장점': 1, '이루었습니다': 1, '캠퍼스': 1, '성과를': 1, '날': 1, '학사종합서비스': 2, 'Instgram': 1, '한국장애인고용공단': 1, '일학습병행대학': 1, '안전보건관계법령': 1, '학부모님': 1, '곁으로': 1, '사람인': 1, '온라인교육': 1, '2021': 1, '교수학습센터': 1, '디자인·건축공학부': 1, '1캠': 2, '아우누리': 1, '개최합니다': 1, '기념사업': 1, '보건실안내': 1, '온라인교육지원': 3, '직업능력개발': 1, 'KOREATECH': 8, '코로나': 3, '20211115': 2, '전화번호찾기': 1, '그': 1, '않기': 1, '기준': 1, '미래': 2, '재학생': 3, '잘': 1, '총장인사말': 1, '입시요강': 1, '“교육중심대학': 1, '개최': 3, '입학안내': 2, '한기대한고원': 1, '교육': 1, 'TEL': 1, '등': 2, '교육콘서트': 1, 'Magazine': 1, '온라인평생교육원': 2, '교육과정': 1, '교내주요기관': 1, '전기전자통신공학부': 2, '시설현황': 1, '장비기술교육센터': 1, '안내': 4, '팝업존': 3, '대학생활': 1, '윤리헌장': 1, '총학생회': 1, '주요사이트': 1, '한국기술교육대학교이하': 1, '발표': 1, '근로복지공단': 1, '모의성적계산': 1, '인사말': 1, '교외장학금': 1, '열려': 1, '정부가': 1, '기관': 1, '고객만족경영': 1, '기획재정부': 1, '설립하여': 1, '산업통상자원부': 1, '포스트': 2, '학생을': 1, 'LINC사업단': 1, '학부모': 1, '최신': 3, '청탁금지법': 2, '가전리': 1, '2019': 1, '입학정보를': 3, '수준의': 1, '우리가': 1, '20211020': 1, '한국교육개발원': 1, '팝업닫기': 1, '일반공지': 1, '학생지원팀': 1, '보지': 1, '한국산업안전보건공단': 1, '함께하는': 1, '아울러': 1, '만들자': 1, '생활관생': 1, '모집': 1, '최고경영자과정': 1, '커뮤니티': 1, '청렴자료실': 1, '시대미래기술': 1, '추가모집': 1, '나래': 1, '언론기사': 1, '한국기술교육대학교에서는': 1, '구인기업과': 1, '공식블로그': 1, '11월호': 2, '규정집': 1, '병무안내': 1, '시작되면서': 1, '살펴봅니다': 1, '한국산업인력공단': 1, 'Youtube': 1, '안전': 2, '대학원소개': 1, '\\ufeff2021동계방학': 1, '무선랜신청': 1, '컴퓨터공학부': 2, '안전보건경영': 2, '사업소개': 1, '듀얼공동훈련센터허브사업단': 1, '재정현황': 1, '해외연수': 1, '학생이': 3, '맞이하여': 1, '대학캠퍼스투어': 1, '내용은': 1, '관심있는': 1, '잡코리아': 1, '장학공지': 1, 'reserved': 1, '무선랜사용신청': 1, '1위': 4, '학생부': 1, '및': 3, '오류신고': 1, '은행업무': 1, 'Oct': 1, '요청': 1, '전화번호검색': 1, '역대총장': 1, '1위·전국': 1, '홍보소재제안': 1, 'PLUS': 2, '신고': 2, '인스타그램': 1, '맞이한': 1, '아이템': 1, '대학알리미': 1, '코리아텍은': 1, '인재양성': 1, '국제교류': 1, '사진을': 1, 'IPP센터': 1, 'right': 1, '졸업': 1, '고객의': 1, '행사참여신청': 1, '융합학과': 3, '유튜브': 1, '1': 3, 'Service': 1, '페이스북': 1, '올해': 1, '코리아텍의': 3, '제공합니다': 6, '공모전': 1, '서서히': 1, '온라인': 1, '30년': 2, '1991년': 1, '기업연계형': 1, '학과안내': 1, '30주년을': 2, '많은': 1, '찾아오시는길': 2, '결과확인': 1, '모색하고자': 1, '이메일무단수집거부': 1, 'CHI': 2, '소리제안': 1, 'IPP': 1, '기부자예우': 1, '토론회를': 1, '정보공개': 2, '‘19년': 1, '종합전형': 1, '직장예비군안내': 1, '일학습병행': 2, '동안의': 1, '중앙일보대학평가‘교육중심대학’': 1, '서비스': 1, '인터넷정보공개청구': 1, '청년워크넷': 1, '정보공개제도안내': 1, '이후': 1, '학적': 1, '공지사항을': 1, '굿즈': 2, '코리아텍방송국': 1, '개편': 1, '충청남도': 1, '회계공시': 1, '생활관': 4, '이상': 1, '오늘의': 2, '졸업작품': 1, '식단': 2, 'wwwkoreatechackr는짧은': 1, '취업관련': 3, '대학혁신지원사업': 2, '전체메뉴열기': 1, '조직구성': 1, 'QA': 2, '코리아텍소개': 1, '포토갤러리': 2, '가르치는': 1, '수강신청': 1, '과학기술분야': 1, '한국폴리텍대학': 1, '사회봉사센터': 1, '감염병': 1, '다산정보관': 1, '대학원': 2, '참여': 1, '창업지원센터': 1, '학사안내': 1, 'VISION2020': 2, '변화': 1, '취업정보': 3, '건': 1, '초청의': 1, 'ALIO경영공시': 1, 'COVER': 6, '대외유관기관': 1, 'WingsMagazine': 1, '사업실명제': 1, '계획': 1, '의견란': 1, '하루': 1, '통학셔틀버스안내': 1, '부패행위신고': 1, '정지': 2, 'IPP·UniTech허브사업단': 1, '500명': 1, '전시회': 1, '경영공시': 1, '02': 1, '대학현황': 1, '전체메뉴닫기': 1, '홍보대사': 1, '인크루트': 1, '비전': 1, 'Nov': 5, 'SNS': 1, '증명서발급': 1, '소프트웨어사용안내': 1, '원격지원': 2, '채용공지': 1, '단기근장': 1, '통해': 1, '생활관자치회': 1, '장학제도': 1, '장학금': 1, '자세히': 1, 'interkoreatechackr': 1, '최고': 1, '구매입찰': 1, '한국직업능력개발원': 1, '생활협동조합': 1, '오늘': 1, '개선사항': 1, '동아리안내': 2, '인재상': 1}\n",
      "\n",
      "4. 필터링 후 단어의 개수: 553개\n",
      "\n",
      "5. 불용어 필터링 후 출현빈도 수\n",
      "\n"
     ]
    },
    {
     "name": "stdout",
     "output_type": "stream",
     "text": [
      "{'공동': 1, '천안': 1, '대학정보공시': 3, '25': 2, '20211126': 4, 'Story': 1, '교환학생안내': 1, '민방위안내': 1, 'Forum': 1, '심볼': 1, '있는데요': 1, '디자인공학전공': 1, '12월': 1, '졸업생': 1, '시대를': 1, '연혁': 1, '코로나19': 1, '게시판': 2, '질적향상과': 1, 'FaceBook': 1, '어학연수안내': 1, 'Link': 1, '하오니': 1, 'OJT': 1, '0415601114': 1, '1126': 1, '후원커뮤니티': 1, 'IT': 2, '정보공개업무편람': 1, '발전과': 2, '재생': 2, 'CoverStory': 1, '창업': 1, '엠블럼': 1, '자세한': 1, 'ⓒ': 1, '대학혁신사업단': 1, '교가': 1, '한국노동연구원': 1, '고용서비스의': 2, 'KOREATECH소개': 1, '사진으로': 1, '홈페이지': 2, '6회': 1, '능력개발교육원': 2, '학교': 1, '한국기술교육대학교': 12, '출처': 3, '토론회': 1, '교육중심대학11년연속': 1, '2022': 1, '고용부': 1, '20211117': 1, '메카트로닉스공학부': 2, '민간투자사업': 1, '건축공학전공': 1, '청렴게시판': 1, '알리는': 1, '국민권익위': 1, '천안시': 1, '홍보관련영상': 1, 'NTIS': 1, '학사종합시스템': 1, 'NEWS': 1, '선포식': 1, '우측내용': 1, '4년제': 1, '교양학부': 2, '에너지신소재화학공학부': 2, '인터넷증명발급': 3, 'HRD학과': 2, '데이터의견수렴·오류신고': 1, 'OJT경진대회와': 1, 'Copyright': 1, '학생증발급': 1, '고용노동부': 1, '워크넷': 1, '선착순': 1, '동남구': 1, '분포현황': 1, 'IT융합과학경영대학원': 1, '연속으로': 1, 'All': 1, '원격훈련심사센터': 1, '대학요람': 1, '총장님': 1, '홍보브로셔': 1, '코리아텍': 1, '셔틀버스': 1, '결과': 1, '22': 1, 'KOREATECH20년': 1, '네이버': 1, '행복한': 3, '고객만족경영체계': 1, 'OJT의': 1, '고용서비스정책학과': 1, 'KOREATECH한국기술교육대학교': 1, '2012년': 1, '개인정보처리방침': 1, '교내장학금': 1, '전년도': 1, '만들었다': 1, '모바일화폐페이코사용안내': 1, '보는': 2, 'IPP포털': 1, '추진체계': 1, '주메뉴바로가기': 1, '기념': 1, '한경': 1, '신문고': 1, '정보공개이의신청': 1, '자료': 1, '행사참여안내': 1, '사업소식': 1, '포토갤러리더보기': 1, 'Wings': 1, '통학·': 1, '대학소식지': 1, '미래교육': 1, '특수교과': 1, '대학대학원': 2, '미래를': 1, '보기': 1, '전국': 3, '안전보건방침': 1, 'Statistics': 1, '자리매김': 1, '천원': 1, '본문바로가기': 1, '국민권익위원회': 1, '천안시청': 1, '취업률': 3, '직업능력심사평가원': 2, '발전기금': 2, '개요': 1, '리크루트': 1, '3296': 1, 'SEARCH': 1, '취창업지원팀': 1, '한국고용노동교육원': 1, '개교': 5, '과거': 1, '변동': 1, 'TOP': 1, '산학협력단': 2, '위드': 1, '교내': 1, '상담진로개발센터': 1, '캠퍼스투어': 1, '발전기금소식': 1, '확산': 1, 'EMAIL': 1, '847': 2, '모금캠페인': 1, '학사공지': 1, '1130125': 1, '더보기': 3, '11년': 1, '전체메뉴보기': 1, '분들의': 1, 'VOC': 1, 'OJT포럼을': 1, '사전정보공표목록': 1, '입학정보': 3, '체육관': 1, '학사일정': 2, '좌측내용': 1, '한국기술교육대': 1, '언론보도영상': 1, '다가오고': 1, '대학': 8, '2021년': 1, '총장동정': 1, '한국기술교육대에서': 1, '테크노인력개발전문대학원': 1, '참여하기': 1, '교육부': 1, '국제교류현황': 1, '홍보영상물': 1, '서비스메뉴': 1, '한기대취업률': 1, '자주찾는': 1, '학부소개': 1, '산업경영학부': 2, '충청남도청': 1, '앞으로': 1, '네이버블로그': 1, '인권성평등': 1, '합격자발표': 1, '행정정보소재': 1, '기증': 1, '4차산업': 1, '역사에도': 1, '위드코로나가': 1, '팝업': 1, '국제교육센터': 1, '익명신고': 1, '국제협력프로그램': 1, '혁신기술이': 1, '발자취': 1, 'Blog': 1, '충절로': 1, '일반대학원': 1, '기계공학부': 2, '도제허브사업단': 1, '병사안내': 1, '알리오': 1, '교직원': 3, '1위”': 1, '열린총장실': 1, '31253': 1, '주관으로': 1, '위원장': 1, '병무안내관련사이트': 1, '도로명주소안내': 1, '행정서비스헌장': 2, '대학평가': 1, '닫기': 1, '실생활에': 1, '총장프로필': 1, '부패행위': 2, '캠퍼스생활': 1, '대학특성': 1, '부탁드립니다': 1, '현장훈련의': 1, '행정공시': 1, '30주년': 6, '공학교육': 1, '수시': 1, '교과과정': 1, '코로나19관련공지': 1, '학생자치단체': 1, '일반인': 3, '주제': 1, 'FAX': 1, '학교법인임원공시': 1, '1600': 1, '웹메일': 3, '도서관이용안내': 1, '08': 3, '2020년': 1, '병천면': 1, '※': 1, '위': 1, '대학조직': 1, '정보를': 3, '안내모집기간': 1, '대학홍보영상': 1, '모델': 1, '작년': 1, '교육장비검색': 1, '웹갤러리': 1, '재학생현황': 1, 'ENG': 2, '중앙일보대학평가': 1, '다담창의센터': 1, '총장실': 1, '교육목표': 1, '대학소개': 1, '현재': 1, '스킵네비게이션': 1, '공지사항': 4, '주제로': 1, '중앙일보': 2, '수령액': 1, 'STORY': 6, '한국고용정보원': 1, '발전방안을': 1, '반도체': 1, '인터뷰': 1, '공공데이터개방': 1, '평가': 1, '자료실': 1, '공공데이터': 1, '역사를': 1, '숫자로': 1, '이수': 1, '특장점': 1, '이루었습니다': 1, '캠퍼스': 1, '성과를': 1, '날': 1, '학사종합서비스': 2, 'Instgram': 1, '한국장애인고용공단': 1, '일학습병행대학': 1, '안전보건관계법령': 1, '학부모님': 1, '곁으로': 1, '사람인': 1, '온라인교육': 1, '2021': 1, '교수학습센터': 1, '디자인·건축공학부': 1, '1캠': 2, '아우누리': 1, '개최합니다': 1, '기념사업': 1, '보건실안내': 1, '온라인교육지원': 3, '직업능력개발': 1, 'KOREATECH': 8, '코로나': 3, '20211115': 2, '전화번호찾기': 1, '않기': 1, '기준': 1, '미래': 2, '재학생': 3, '잘': 1, '총장인사말': 1, '입시요강': 1, '“교육중심대학': 1, '개최': 3, '입학안내': 2, '한기대한고원': 1, '교육': 1, 'TEL': 1, '교육콘서트': 1, 'Magazine': 1, '온라인평생교육원': 2, '교육과정': 1, '교내주요기관': 1, '전기전자통신공학부': 2, '시설현황': 1, '장비기술교육센터': 1, '안내': 4, '팝업존': 3, '대학생활': 1, '윤리헌장': 1, '총학생회': 1, '주요사이트': 1, '한국기술교육대학교이하': 1, '발표': 1, '근로복지공단': 1, '모의성적계산': 1, '인사말': 1, '교외장학금': 1, '열려': 1, '정부가': 1, '기관': 1, '고객만족경영': 1, '기획재정부': 1, '설립하여': 1, '산업통상자원부': 1, '포스트': 2, '학생을': 1, 'LINC사업단': 1, '학부모': 1, '최신': 3, '청탁금지법': 2, '가전리': 1, '2019': 1, '입학정보를': 3, '수준의': 1, '우리가': 1, '20211020': 1, '한국교육개발원': 1, '팝업닫기': 1, '일반공지': 1, '학생지원팀': 1, '보지': 1, '한국산업안전보건공단': 1, '함께하는': 1, '만들자': 1, '생활관생': 1, '모집': 1, '최고경영자과정': 1, '커뮤니티': 1, '청렴자료실': 1, '시대미래기술': 1, '추가모집': 1, '나래': 1, '언론기사': 1, '한국기술교육대학교에서는': 1, '구인기업과': 1, '공식블로그': 1, '11월호': 2, '규정집': 1, '병무안내': 1, '시작되면서': 1, '살펴봅니다': 1, '한국산업인력공단': 1, 'Youtube': 1, '안전': 2, '대학원소개': 1, '\\ufeff2021동계방학': 1, '무선랜신청': 1, '컴퓨터공학부': 2, '안전보건경영': 2, '사업소개': 1, '듀얼공동훈련센터허브사업단': 1, '재정현황': 1, '해외연수': 1, '학생이': 3, '맞이하여': 1, '대학캠퍼스투어': 1, '내용은': 1, '관심있는': 1, '잡코리아': 1, '장학공지': 1, 'reserved': 1, '무선랜사용신청': 1, '1위': 4, '학생부': 1, '오류신고': 1, '은행업무': 1, 'Oct': 1, '요청': 1, '전화번호검색': 1, '역대총장': 1, '1위·전국': 1, '홍보소재제안': 1, 'PLUS': 2, '신고': 2, '인스타그램': 1, '맞이한': 1, '아이템': 1, '대학알리미': 1, '코리아텍은': 1, '인재양성': 1, '국제교류': 1, '사진을': 1, 'IPP센터': 1, '졸업': 1, '고객의': 1, '행사참여신청': 1, '융합학과': 3, '유튜브': 1, 'Service': 1, '페이스북': 1, '올해': 1, '코리아텍의': 3, '제공합니다': 6, '공모전': 1, '서서히': 1, '온라인': 1, '30년': 2, '1991년': 1, '기업연계형': 1, '학과안내': 1, '30주년을': 2, '많은': 1, '찾아오시는길': 2, '결과확인': 1, '모색하고자': 1, '이메일무단수집거부': 1, 'CHI': 2, '소리제안': 1, 'IPP': 1, '기부자예우': 1, '토론회를': 1, '정보공개': 2, '‘19년': 1, '종합전형': 1, '직장예비군안내': 1, '일학습병행': 2, '동안의': 1, '중앙일보대학평가‘교육중심대학’': 1, '서비스': 1, '인터넷정보공개청구': 1, '청년워크넷': 1, '정보공개제도안내': 1, '이후': 1, '학적': 1, '공지사항을': 1, '굿즈': 2, '코리아텍방송국': 1, '개편': 1, '충청남도': 1, '회계공시': 1, '생활관': 4, '오늘의': 2, '졸업작품': 1, '식단': 2, 'wwwkoreatechackr는짧은': 1, '취업관련': 3, '대학혁신지원사업': 2, '전체메뉴열기': 1, '조직구성': 1, 'QA': 2, '코리아텍소개': 1, '포토갤러리': 2, '가르치는': 1, '수강신청': 1, '과학기술분야': 1, '한국폴리텍대학': 1, '사회봉사센터': 1, '감염병': 1, '다산정보관': 1, '대학원': 2, '참여': 1, '창업지원센터': 1, '학사안내': 1, 'VISION2020': 2, '변화': 1, '취업정보': 3, '건': 1, '초청의': 1, 'ALIO경영공시': 1, 'COVER': 6, '대외유관기관': 1, 'WingsMagazine': 1, '사업실명제': 1, '계획': 1, '의견란': 1, '하루': 1, '통학셔틀버스안내': 1, '부패행위신고': 1, '정지': 2, 'IPP·UniTech허브사업단': 1, '500명': 1, '전시회': 1, '경영공시': 1, '02': 1, '대학현황': 1, '전체메뉴닫기': 1, '홍보대사': 1, '인크루트': 1, '비전': 1, 'Nov': 5, 'SNS': 1, '증명서발급': 1, '소프트웨어사용안내': 1, '원격지원': 2, '채용공지': 1, '단기근장': 1, '통해': 1, '생활관자치회': 1, '장학제도': 1, '장학금': 1, '자세히': 1, 'interkoreatechackr': 1, '최고': 1, '구매입찰': 1, '한국직업능력개발원': 1, '생활협동조합': 1, '오늘': 1, '개선사항': 1, '동아리안내': 2, '인재상': 1}\n",
      "\n",
      "6. 불용어 필터링 후 단어의 개수: 542개\n",
      "\n",
      "\n",
      "7. 가장 많이 출현한 단어\n",
      "\n",
      "('한국기술교육대학교', 12)\n",
      "('대학', 8)\n",
      "('KOREATECH', 8)\n"
     ]
    }
   ],
   "source": [
    "# 2. 한국기술교육대학교 사이트 필터링 결과\n",
    "url2 = 'www.koreatech.ac.kr'\n",
    "scrapURL(url2)"
   ]
  },
  {
   "cell_type": "code",
   "execution_count": 35,
   "id": "c714f0bc",
   "metadata": {},
   "outputs": [
    {
     "name": "stdout",
     "output_type": "stream",
     "text": [
      "사이트 주소가 정상입니다.\n"
     ]
    },
    {
     "name": "stderr",
     "output_type": "stream",
     "text": [
      "C:\\Users\\Leesy\\anaconda3\\envs\\script\\lib\\site-packages\\urllib3\\connectionpool.py:1013: InsecureRequestWarning: Unverified HTTPS request is being made to host 'www.naver.com'. Adding certificate verification is strongly advised. See: https://urllib3.readthedocs.io/en/1.26.x/advanced-usage.html#ssl-warnings\n",
      "  warnings.warn(\n"
     ]
    },
    {
     "name": "stdout",
     "output_type": "stream",
     "text": [
      "\n",
      "1. 필터링된 source 값 리스트\n",
      "\n",
      " ['NAVER', '뉴스스탠드', '바로가기', '주제별캐스트', '바로가기', '타임스퀘어', '바로가기', '쇼핑캐스트', '바로가기', '로그인', '바로가기', 'NAVER', 'whale', '눈', '건강', '지킴이', '웨일', '다크', '모드', '지금', '바로', '사용해보세요', '다운로드', '3일', '동안', '보지', '않기', '네이버', '네이버를', '시작페이지로', '쥬니어네이버', '해피빈', '검색', '통합검색', '블로그', '카페', '카페명', '카페글', '지식iN', '뉴스', '사이트', '카테고리', '사이트', '영화', '웹문서', '사전', '백과사전', '영어사전', '영영사전', '국어사전', '일본어사전', '한자사전', '용어사전', '책', '음악', '전문자료', '쇼핑', '지역', '동영상', '이미지', '내PC', '영화', '자동차', '게임', '건강', '인물', '긍정부정검색', '검색', '한글', '입력기', '자동완성', '레이어', '최근검색어', '전체삭제', 'txt', 'date', '삭제', '검색어', '저장', '기능이', '꺼져', '있습니다', '설정이', '초기화', '된다면', '도움말', '을', '확인해주세요', '최근', '검색어', '내역이', '없습니다', '설정이', '초기화', '된다면', '도움말', '을', '확인해주세요', '도움말', '자동저장', '끄기', '5회차', '당첨번호', '추첨', '13', '지급기한', '1년', '6', '7', '8', '9', '10', '11', '12', '14', 'txt', 'currency', '89', '6', '원', 'txt', '7', 'message', '7', '8', '°', 'txt', '5', '바로가기', 'txt', '추가', 'txt', 'date', '추가', 'query', 'intend', '추가', '자세히보기', '관심사를', '반영한', '컨텍스트', '자동완성', '도움말', '컨텍스트', '자동완성', '컨텍스트', '자동완성', 'ONOFF', '설정은', '해당기기브라우저에', '저장됩니다', '자세히', '동일한', '시간대연령남녀별', '사용자', '그룹의', '관심사에', '맞춰', '자동완성을', '제공합니다', '로그인', '자세히', '컨텍스트', '자동완성', '레이어', '닫기', '도움말', '신고', '자동완성', '끄기', '메일', '카페', '블로그', '지식iN', '쇼핑', '쇼핑LIVE', 'Pay', 'TV', '사전', '뉴스', '증권', '부동산', '지도', 'VIBE', '책', '웹툰', '더보기', '서비스', '전체보기', '메뉴설정', '초기화', '저장', '39°', '맑음', '40°', '100°', '병천면', '미세', '좋음', '초미세', '좋음', '병천면', '뉴스스탠드', '조선비즈', '종부세', '고지서에', '실거래', '소명자료까지', '날아왔다…', '법인', '투자자', '“괴롭다', '괴로워”', 'quot집', '판', '돈', '7억8200만원', '코인에', '올인…건물주', '돼서', '올게요quot', 'quot한일관계', '악화', '현', '정부', '탓quot', '연일', '비판하는', '윤석열', '위·중증', '연일', '최고치인데…정부', 'quot주말에', '더', '논의하겠다quot', '文정부', '청년', '15만명에', '‘월세', '20만원’', '쏜다', '“‘뉴', '변이’', '같은', '전파력', '이제껏', '본적', '없어”…', '유럽亞', '증시', '급락', '日', '화이자·모더나', '맞아서', '코로나', '급감', 'AZ', '진짜', '물백신일까', '뉴스원샷', '美·EU', '남부', '아프리카', '국가들', '여행', '제한WHO', '새', '변이', 'x27오미크론x27으로', '명명', '‘오미크론’', '공포에', '세계증시', '출렁…미', '29일부터', '‘여행제한’', '위기의', 'K방역…전문가들', 'quot비상계획', '이미', '늦었다quot', '미국', '증시', 'x27오미크론x27에', '패닉…1950년', '이후', 'x27블프x27', '최대', '낙폭', '수도권', '병상대기', '1310명', '‘한계', '상황’…70살', '이상이', '3분의', '1', '백신', '무력화', '돌연변이가', '델타', '2배…', '“누변이', '공기', '통해', '번지는', '듯”', '새', '변이', '이름', 'x27오미크론x27…quot델타보다', '더', '강력할', '수도quot', '윤석열', 'x27김병준', '원톱x27', '선대위', '시동', '걸었다', 'quot역할', '조정', '없을', '것quot', 'WHO', 'quot새', '변이', '이름', '오미크론quot‥글로벌', '증시·유가', '폭락', '부동산', '대선', '1R', '종부세', '“대재앙급', '쓰나미”vs“세계가', '부러워할', 'K세금”', '부동산360', 'quot새', '코로나', '변이는', '오미크론quot', 'WHO', '감염', '위험', '높은', '우려변이', '美도', '코로나', '새', '공포', '강타···SP', '227', '급락', '데일리', '국제금융시장', 'quot연말에', '삼성전자', '사라quot…증권가가', '말하는', '2가지', '이유', '엎친데', '덮친격…남아공', '변이에', '뉴욕증시', 'x27묻지마', '투매x27', '점점', '더', '멀어지는', '윤석열·김종인…x27도로한국당x27', '논란도', '“재감염', '위험', '높다”', '우려변이', '지정', '‘오미크론’…미·캐나다', '여행', '제한', '주담대', '6', '시대…남은', '규제·대출', '가수요', 'x27변수x27', '될', '듯', 'quot현대차', '말고', '아이패드로', '바꾸세요quot모순된', '금융당국', '시장개입', '단독', '병상', '부족에', '입원', '못', '한', '장애인', '확진자', 'x27거리', '배회x27', '위중증', '환자', '폭증세…“돌파감염', '간과해', '예상', '빗나간', '듯”', 'quot이재명', '변호사비', '20억', '지어낸', '말quot', '진술서', '나왔다', '전두환', '부인', '이순자에', '대하여', '김종성의', 'x27히', '스토리x27', '말기', '암환자', '응급실', '앞', '12시간', '대기…병상부족', 'x27풍선효과x27', '대선', 'D100이재명', 'x27일터의', '여성x27', 'vs', '윤석열', 'x27엄마인', '여성x27…기살리기', '코로나', '악재', '쌓이는데…정부', '추가', '방역', '조치', '계획', '연기', '단독“이재명', '조카', '내', '딸·내', '아내', '살해했는데', '데이트', '폭력이라니…', '”', '이재명', 'quot조카', '살인사건', '감추려는', '의도', '없어quot…x60데이트폭력x60', '발언', '사과', '테슬라', 'x27모델3x27', '녹여', '만든', '아이폰13·머스크', '흉상', '등장', '뉴스타파', '공공기관', 'x27언론사', '포럼x27', '정보비공개', '행정심판', '이겨', '방역', '비상인데', '대책', '발표는', '연기…왜', '미뤄졌나', 'quot부산', '경찰', '만취', '여성', '머리채', '잡고', '흔들어quot…감찰', '조사', '조카', '살인을', 'x27데이트', '폭력x27이라', '했던', '이재명', 'quot의도는', '없었다quot', '코로나19', '백신', '부스터샷', '후에도', '확진', '사례', '4명', '발생', '리더십', '개편', '네이버·카카오', 'x27글로벌', '기업x27', '한', '걸음', '더', '김진태', 'quot이재명', '조카', '데이트폭력', '연쇄살인사건…마음', '먹고', '찾아가', '흉기', '휘둘러quot', '아로와나재단', '쇼미더머니10', '콘서트', 'VIP', 'x27NFT', '티켓x27', '판매', 'LG에너지솔루션', '美법인에', '7881억', '출자quot공장', '증설에', '활용quot', '현장', 'BJ', '작곡', '시청자', '작사', '아프리카TV', '편곡…‘프리콘’', '가보니', '20대', '‘바다·커피x27', '30대', '‘가족·체험x27', '40대', '‘감성·캠핑x27', '50대', '‘자연·힐링x27', '주간政談lt하gt', 'x27사과x27', '없이', '떠난', '전두환', '전', '대통령…quot죽음조차도', '유죄quot', '미접종자는', '치료비', '자부담…김총리', 'quot선택에', '책임', '물어야quot', '금융', '실격', '①', '추락하는', '것은', '금융이', '없다', '리정', '따라', 'x27입술x27', '피어싱', 'x27이런x27', '부작용', '생길', '수도', '민주당', '‘쇄신’의', '목적지', '국민의힘', '‘밀당’의', '종착지', '아파트값', '치솟자', '6년간', '340만명', '서울', '떠났다', '12·12', '군사', '쿠데타와', '인권유린의', '현대사', '4분기', '입주예정', '117개', '단지에', '잔금대출', '93조', '공급', '서부티엔디리츠', '청약', '경쟁률', '15452대', '1…', '증거금', '3조', '몰려', '은행들', '앞다퉈', '예·적금', '금리', '인상…국민·우리·하나銀', '최고', '04p↑', '좁혀지는', '이·윤', '지지율', '올라가는', '홍·안의', '몸값', '스마트', '공장', '배움터를', '만드는', '아이지', '아픈', '친구에게', '해서는', '안', '될', '말', '5', 'S', 'Korean', 'US', 'defense', 'chiefs', 'to', 'discuss', 'OPCON', 'transfer', 'China', '한', '번도', '경험하지', '못한', '‘재난적', '매표買票’의', '나라', '“삼성전자', '승부수는', '차량용', '반도체기업', '인수합병”', '표지로', '읽는', '과학북미', '몬순은', '산맥의', '영향', '받는다', '정인이', '양모', '35년으로', '감형…quot법원', '아동학대', '근절', '의지', '있나quot', '나홀로', '걷기', '충주호와', '아늑한', '숲을', '양쪽으로', '끼고', '걷다', '전두환의', '80년', '언론학살', '헌정사상', '최악의', '언론탄압', '90년대생', '노동자들', '안녕하지', '못합니다', 'Covid', 'vaccine', 'passes', 'may', 'soon', 'come', 'with', 'sixmonth', 'expiration', 'date', '메디칼럼8가려움이', '보내는', '‘시그널’을', '읽어라', 'x27스우파', '신드롬x27', 'CJ', 'ENM', '무엇을', '얻었나', '네이버뉴스', '연예', '스포츠', '경제', '뉴스스탠드', '구독한', '언론사', '전체언론사', '리스트형', '썸네일형', '설정', '이전', '다음', '종합경제', '방송통신', 'IT', '영자지', '스포츠연예', '매거진전문지', '지역', '닫기', '해당', '언론사', '사정으로', '접근이', '제한됩니다', '확인', '닫기', '을를', '구독해지', '하시겠습니까', '확인', '취소', '구독한', '언론사에', '추가되었습니다', '이전', '다음', '구독', '해지', '기사보기', '구독', '해지', '기사보기', '구독', '해지', '기사보기', '구독', '해지', '기사보기', '구독', '해지', '기사보기', '구독', '해지', '기사보기', '구독', '해지', '기사보기', '구독', '해지', '기사보기', '구독', '해지', '기사보기', '구독', '해지', '기사보기', '구독', '해지', '기사보기', '구독', '해지', '기사보기', '구독', '해지', '기사보기', '구독', '해지', '기사보기', '구독', '해지', '기사보기', '구독', '해지', '기사보기', '구독', '해지', '기사보기', '구독', '해지', '기사보기', '구독', '해지', '기사보기', '구독', '해지', '기사보기', '구독', '해지', '기사보기', '구독', '해지', '기사보기', '구독', '해지', '기사보기', '구독', '해지', '기사보기', '닫기', '해당', '언론사', '사정으로', '접근이', '제한됩니다', '확인', '닫기', '을를', '구독해지', '하시겠습니까', '확인', '취소', '구독한', '언론사에', '추가되었습니다', '이전', '다음', '다음', '닫기', '해당', '언론사', '사정으로', '접근이', '일시', '제한됩니다', '확인', '닫기', '을를', '구독해지', '하시겠습니까', '확인', '취소', '이전', '다음', '닫기', '해당', '언론사', '사정으로', '접근이', '제한됩니다', '확인', '닫기', '을를', '구독해지', '하시겠습니까', '확인', '취소', '구독한', '언론사가', '없습니다', '언론사', '구독', '설정에서', '관심있는', '언론사를', '구독하시면', '언론사가', '직접', '편집한', '뉴스들을', '네이버', '홈에서', '바로', '보실', '수', '있습니다', '언론사', '구독', '설정하기', '주제별', '캐스트', '오늘', '읽을만한', '글', '주제별로', '분류된', '다양한', '글', '모음', '1789', '개의', '글', '관심주제', '설정', '이전', '다음', '엔터', '스포츠', '자동차', '웹툰', '경제M', '레시피', '게임', '영화', 'JOBamp', '테크', '여행', '과학', '리빙', '건강', '비즈니스', '연애·결혼', '책방', '부모i', '법률', '패션뷰티', '동물공감', '디자인', '중국', 'FARM', '공연전시', '함께N', '부모i', 'SNS즐겨하는', '엄마가', '기억해야', '할', 'SNS', '심리학', '1', '왜', '나만', '빼고', '다', '완벽하게', '살고', '있는', '것', '같을까', '편집하고', '싶은', '욕구', 'SNS에', '올라온', '내용은', '편집된', '것이다', '모든', '사람이', '놀라운', '경험과', '멋진', '일만', '하고', '있다', '‘아이가', '하루', '종일', '게임을', '하네요', '애들', '때문에', '미칠', '것', '같아요’', '같은', '이야기는', '없다', '사람들은', '오로지우아하게', '사는', '모습만', '보여', '주려', '한다자신의', '삶을', '편집할', '수', '있기', '때문이다스스로의', '9개월', '전', '세상에서가장큰학교', '부모i', '7개월', '아기랑', '자가격리', '하기', '안녕하세요', '치즈엄마', '흥부자라라에요', '자가격리', '시작된', '첫날', '치즈는', '악마가', '씌인것', '처럼', '심하게', '울고', '결국', '아침', '9시부터', '제대로', '잠을', '잤거든요', 'ㅜㅠ', '다음날은', '새벽', '6시', '40분', '취침', '셋째날은', '새벽', '4시', '30분', '취침', '그리고', '오전', '11시에', '일어나길래', '더', '안재우고', '깨워서', '배란다에서', '햇빛쬐면서', '이유식을', '먹은게', '효과가', '있었던', '걸까요', '오늘은', '1시', '15분에', '취침하셨습니다', '8개월', '전', '라라', '부모i', '너는', '감동이다', '어느날', '있었던', '일이다', '둘째', '이유식을', '먹이고', '나서', '손을', '물로', '씻긴뒤', '바닥에', '앉혀놓았다', '첫째가', '와서', '손을', '잡고', '흔들흔들', '하더니', '둘째가', '뒤로', '넘어졌다', '악을', '쓰며', '우는', '아이를', '보고', '첫째에게', '화가났는데', '첫째가', '눈물을', '그렁거리며', '말한다', 'quot내가', '손', '털어주고', '싶어서', '탈탈탈', '했는데', '넘어졌어quot', '너는', '동생을', '챙겨주고', '싶었던', '마음이었다', '앉아서', '밥을', '먹기', '1개월', '전', '향다', '부모i', '아기', '백반증', '및', '밀크반점', '딸기혈관종이란', '•', '아기', '백반증', '및', '밀크반점', '신생아', '딸기혈관종', '•', '아기를', '키우다', '보면', '피부에', '여러', '트러블들이', '생기기도', '하는데요', '저희', '아이', '같은', '경우에는', '유전적인', '경향이', '있어서인지', '아기', '밀크반점이', '첫째에게', '생겼더라고요', '처음', '태어났을', '땐', '없었는데', '자라면서', '서서히', '자라더니', '다리에', '하나가', '생겼는데', '신기하기도', '하면서', '미안하기도', '하고', '그렇네요', '보기', '싫지도', '않고', '다리에', '있는', '거', '8개월', '전', '지구별', '모글리', '부모i', '임산부', '의료비', '지원', '나도', '받을', '수', '있는지', '확인해', '봐요', '임산부', '의료비지원', '나도', '받을', '수', '있는지', '확인해봐요산모', '1인당', '300만원까지', '비급여', '진료비', '90지원', '가능결혼과', '출산', '연령이', '높아짐에', '따라', '임신부에서', '조기', '진통', '출혈', '임신중독증과', '같은', '고위험', '임신질환은', '점차', '증가하는', '추세다', '고위험', '산모는', '임신으로', '인해', '산모와', '태아에게', '악영향을', '미칠', '가능성이', '일반', '산모보다', '높은', '임산부를', '말하는데', '이들의', '경우', '특수관리', '1개월', '전', '베이비뉴스', '부모i', '임신', '중', '오돌토돌', '두드러기', '어쩌죠', '다양한', '신체', '변화를', '마주하게', '되는', '임신', '기간피부', '변화', '역시', '심상치', '않죠그중', '원인을', '알', '수', '없는오돌토돌', '두드러기', '탓에', '스트레스를', '호소하는', '임신부', '여러분들도', '많습니다약도', '못', '먹는', '임신', '기간두드러기가', '발생하면', '어떻게', '대처해야', '할까요', '급격한', '가려움증과', '발진', '유발원인은', 'x27임신소양증x27', '전체', '임신부의', '약', '20가량이', '경험할', '만큼', '제법', '흔한', '질', '5개월', '전', '맘스홀릭베이비', '부모i', '짜증', '내고', '화내는', '아이를', '다루는', '방법', '양천구구립파란들어린이집금쪽같은', '하루맘카페육아육아소통환영육아꿀팁육아공유육아일상부모교육부모육아코칭어린이집운영양천찔레꽃행복한', '일터아이들의', '일상꿈육아스타그램이웃환영', '덥고', '습한', '날씨와', '더불어', '열대야까지', '모두', '신경이', '날카로워져', '있어', '누군가', '심기를', '불편하게', '한다면', '나도', '모르게', '짜증부터', '나게', '하는', '날씨가', '이어지고', '있습니다', '이렇게', '느', '4개월', '전', '양천', '찔레꽃', '부모i', '언어발달유아의', '음성언어', '발달', '1', '울음과', '쿠잉', '울음은', '영아가', '자신의', '욕구를', '표현하는', '최초의', '의사소통', '방식으로', '갓', '태어난', '영아는', '능동적이며', '사회적으로', '반응하는', '개체임을', '알', '수', '있다', '출생', '직후의', '울음은', '이유가', '구분되지', '않는', '미분화된', '울음으로', '반사적인', '반응이다', '생후', '1개월이', '지나면', '분화된', '울음이', '나타나', '아기', '울음의', '원인을', '구별할', '수', '있다', '영아는', '점점', '울음이', '줄어들고', '다른', '사람이', '하는', '말', '2개월', '전', '리니쭈니', '부모i', '자다가', '갑자기', '우는', '아기', '소아과', '문의', '안녕하세요', '오늘은', '자다가', '갑자기', '우는', '아기에', '대해', '포스팅을', '해보려구요', '첫째가', '이제', '23개월이', '지났는데', '요즘들어', '부쩍', '새벽에', '갑자기', '일어나서', '물', '바나나우유를', '찾고', '노래를', '불러달라고', '하면서', '떼', '아닌', '떼를', '쓰는데요', '혹시', '아기', '야경증', '야제증은', '아닌지', '의심이', '되더라구요', '아기', '야경증이란', '자고', '있다가', '갑자기', '울거나', '돌아다니는', '등', '몽유병과', '비슷한', '수면장애의', '일종입', '2개월', '전', '쏘야', '부모i', '혹시', '나도', '과잉보호', '부모', '아이를', '많이', '사랑하고', '세심하게', '돌보는', '것이', '무슨', '문제일까', '싶지만', '아이를', '지나치게', '배려하는', '‘과잉보호’는', '여러', '문제를', '낳는다', '부모가', '모든', '결정을', '대신해줘', '실패할', '기회를', '얻지', '못한', '아이는', '성인이', '되어서도', '마음은', '유년', '시절에', '머무른다', '과잉보호가', '아이에게', '미치는', '영향과', '부모의', '심리를', '들여다봤다', '과잉보호는', '의존적인', '아이를', '만든다', '갓', '태어난', '아이는', '무력한', '존재', '4개월', '전', '앙쥬', '부모i', '초등학생', '코로나', '자가격리', '1', '안녕하세요', '보링보링입니다', '저에게는', '새싹이와', '열무라는', '두', '아들이', '있는데요', '새싹이는', '한국', '나이로', '여덟', '살이', '되어', '올해', '초등학교에', '입학한', '초보', '초등학생이고', '열무는', '아직', '꼬꼬마라', '어린이집을', '다니고', '있어요', '코로나', '때문에', '21년도에', '초등학교', '입학을', '하며', '등교를', '잘', '할', '수', '있을지', '걱정이', '많았었는데', '걱정과는', '다르게', '전국적으로', '확진자가', '많이', '발생해서', '여름방', '2개월', '전', '보링보링', '부모i', '친구와', '다툼', '해결하는', '노하우', '4아이맘', '진림해일에요', '요즘들어', '4아이들이', '자주', '저에게', '질문을하고', '고민을', '상담하는', '부분입니다', '한참', '성장기이고', '사춘기아이들이다보니', '친구들', '문제가', '가장', '큰', '화두인데요', '저학년', '초등학교때는', '부모가', '아이들이', '실타래게', '엉켜있을때는', '부모끼리', '대화를', '그리고', '같이', '얘기를', '해서', '선생님과', '풀수가', '있지만', '중학교', '고등학교만', '되도', '부모가', '쉽게', '개입할수', '없는게', '친구', '문제에요', '괜히', '1개월', '전', '진림해일', '부모i', '이젠', '2자녀부터', '다자녀', '지원…다자녀', '지원', '총정리', '저출산‧고령사회위원회', '자녀', '수에', '따라', '체감도', '높은', '정책지원', '강화【베이비뉴스', '권현경', '기자】', '대통령직속', '저출산‧고령사회위원회이하', '위원회는', '다자녀', '가구', '지원', '기준을', '3자녀에서', '2자녀까지', '확대하고', '우선적으로', '교통‧문화시설', '이용', '양육‧교육', '지원', '등에', '반영키로', '한', '것을', '뉴스레터를', '통해', '24일', '소개했다', '그간', '정부는', '제4차', '저출산‧고령사회', '기본계획', '1개월', '전', '베이비뉴스', '부모i', '엄마의', '여유', '사용법', '엄마의', 'x27여유x27', '사용법', 'x27지금', '사랑할게x27', '열', '한번째', '이야기', '주말', '집', '안에', '있으면', '가을을', '볼', '수없다는', '게', '함정', '눈에', '보이는', '걸', '어찌', '그럼', '다음', '이야기로', '또', '만날게요', '🙋🏻♂️', '영상으로', '만나는', '그림에다', '유튜브', '13', '1개월', '전', 'grimeda', '부모i', '우리', '아이', '스마트폰', '과의존', '일까요', '현대사회는', '스마트폰의', '등장으로', '인해', '시간과', '공간의', '제약을', '받지', '않고', '수많은', '정보를', '얻을', '수', '있으며', '불특정한', '다수와', '자유로운', '소통을', '할', '수', '있게', '되어', '사회', '경제', '문화', '전반에', '걸쳐', '다양한', '변화를', '만들어', '냈다', '스마트폰을', '사용하게', '되면서', '기존에', '컴퓨터와', '핸드폰에서', '할', '수', '없었던', '쇼핑', '동영상', '사회관계망', '일정관리', '등', '삶', '전반에', '많은', '영역에서', '사용됨으로', '인', '9개월', '전', '허그맘', '부모i', '어린이보호구역', '차', '세우면', '과태료', '3배', '스토리영상', '차', '세웠다가', '적발되면', '과태료', '12만', '원', '【베이비뉴스', '김재호', '기자】지난', '21일부터', '어린이', '보호구역', '내', '주·정차', '전면', '금지를', '골자로', '한', '개정', '도로교통법이', '시행됐습니다', '그동안에는', '어린이', '보호구역이라도', '별도로', '주·정차', '금지', '장소로', '지정돼', '있지', '않으면', '주·정차할', '수', '있었지만', '앞으로는', '별도의', '표시가', '없어도', '모든', '어', '1개월', '전', '베이비뉴스', '부모i', '어린이와', '어른이', '그', '무섭던', '중2병', '둘째아이까지', '졸업', '첫째', '아이와는', '청바지때문에', '싸웠다', '아이', '키가', '180이', '넘어가니', '일자핏', '바지가', '너무', '예뻤다', '이름있는', '브랜드의', '바지', '하지만', '아이에겐', '이름이', '있던', '없던', '그건', '중요하지', '않았다', '“얻어', '온', '바지라', '마음에', '안들어”', '내가', '질문하고도', '참', '그런', '질문이다', '아이는', '아니라고', '한다', '아이가', '마음에', '들지', '않는건', '바지의', '끝단이', '발목에', '4개월', '전', '태태매거진앨작가', '부모i', '마법의', '주문', '남의', '자식이다', '밤', '10시', '20분', '치카를', '마치고', '재우려고', '하는', '순간', '그래도', '혹시', '몰라', '물어봐요', 'quot학교', '갈', '준비는', '해', '놨어quot', 'quot아', '맞다quot', '그제서야', '책가방을', '챙기는', '분', '책가방을', '챙기고', '나서도', '내일', '학원', '숙제를', '안', '했다며', '밤', '늦게', '수학문제를', '풀어요', '일요일에', '실컷', '놀고', '월요일', '오후에도', '별', '일', '없는', '것처럼', '시간을', '즐기더니자야되는', '시간에', '그렇게', '하다니ㅠ', '7개월', '전', '작가진쌤', '부모i', '임신', '33주', '6일', '조산기로', '입원하다', '10일간의', '입원❤️🩹', '건강부심있는', '내가', '수축이라니', '나', '막달에', '너무', '열일했나봐💦💦💦', '현재는', '34주', '4일차', '정기', '검진날', '더블유에', 'NST검사', '하러', '갔다가', '잦은', '수축으로', '입원하라는', '말에', '병가처리', '문제로', '부랴부랴', '응급실', '통해', '우리병원', '분만실에', '입원했다😨', '하필', '교수님', '진료', '없는', '날이라', '산부인과외래', '갔다가', '외래', '취소하고', '이알로ㅜㅜ', '그래도', '수선생님이', '3주일', '전', '양서다', '부모i', '아이', '자산', '마련의', '첫걸음', '계좌', '개설법', '명절', '때', '친척들에게', '세뱃돈이나', '용돈을', '받으면', '부모님이', '하는', '말이', '있다', '돈을', '잃어버릴', '수', '있으니', '엄마', '아빠가', '잘', '맡아두겠다고', '아마', '비슷한', '경험을', '한', '사람들이', '많을', '것이다', '그리고', '그', '돈을', '돌려받지', '못한', '사', '람', '또한', '많을', '것이다', '그', '돈은', '어디로', '간', '걸까', '우리가', '어릴', '때', '부모의', '주머니로', '들어간', '돈', '대부분은', '가계', '생활비에', '섞여서', '함께', '쓰였다', '다른', '물건과', '7개월', '전', '지식너머출판사', '부모i', '2차', '기형아', '검사와', '16주', '차', '태아', '성별', '임신단축근무가', '끝나고', '회사를', '다니려니', '2시간', '더', '일하는게', '영힘든게', '아니다', '이', '단축근무기간은', '이제', '36주', '부터', '다시', '사용할', '수', '있다고', '하는데', '누가', '이렇게', '법을', '만든거야', '40주', '내내', '단축해도', '쉬언찮을', '판인', '것', '같다', '임신을', '해보니', '아가씨때', '임신했던', '사람들을', '보며', '공감', '및', '배려를', '많이', '해주지', '못해서', '참', '미안한', '생각이', '들었다', '사람은', '정말', '딱', '경험한', '대로만', '4개월', '전', '딱풀맘', '부모i', '아빠', '출산휴가', '및', '육아휴직', '사용시기', '눈썹', '안그린', '임산부', '등장', 'ㅋㅋㅋㅋㅋㅋㅋㅋㅋㅋㅋㅋㅋㅋㅋㅋㅋㅋ', '배가', '나와서', '힘겹게', '발톱', '정리하는', '모습을', '보고는', '나간김에', '네일이랑', '패디', '관리', '받아라는', '남편', '히히', '얼마만에', '받는것이야', '기분전환되고', '속도', '시원하고', '만삭전까지', '꾸준히', '가야게따', '아빠육아휴직', '남편', '회사는', '법으로', '정해진', '복지에', '매우', '관대한', '편이다', '이게', '정상인데', '대한민국', '회사의', '분위기는', '난', '육아', '4개월', '전', '곰소', '부모i', '12주16주', 'A', 'B형간염예방주사', '모든', '임산부들이', '가장', '시간이', '안간다는', '12주16주', '이유는', '성별이', '결정되는', '시기이기도', '하고', '1주일에', '한번씩', '가던', '병원을', '4주만에', '처음', '가기', '때문인거', '같다', '😆', '12주', '1차', '기형아', '검사', '2021년', '10월', '1일', '금요일', '1차', '기형아', '검사', '처음으로', '정밀', '초음파', '보는날', '지난', '11주에', '제법', '사람같이', '큰', '모습을', '보았지만', '오늘은', '입체', '초음파도', '볼', '수', '있다는', '사실', '3주일', '전', '밍디', '부모i', '어린이', '스마트폰만으로도', '근시', '위험', '30', '높아진다', '스마트기기에', '노출되는', '아이들지난', '2019년', '세계보건기구WHO는', '2세', '미만의', '어린이들은', '스마트폰', '태블릿', '등', '스크린', '화면을', '보는', '시간을', '갖지', '말아야', '한다고', '권고했다', '국제보건기구Global', 'Health', 'Agency', '또한', '25세', '어린이들은', '스크린', '화면을', '1시간', '이상', '보지', '말아야', '한다고', '말했다', '하지만', '같은', '해', '2000명', '1개월', '전', '리서치페이퍼', '부모i', '온라인', '수업이라', '쓰고', '이른', '방학이라', '부른다', '오늘', '하루에', '대해', '써봅니다', '오늘부터', '사회적거리두기', '4단계', '이다', '매일', '천명', '넘게', '쏟아지는', '코로나', '확진자들', '학교도', '제대로', '갈수가', '없다', '오늘부터', '온라인수업을', '하고', '내일부터는', '원격수업을', '한다', '휴', '뭔가', '하려고', '마음을', '먹으려고', '하면', '이렇게', '가만히', '있을', '수', '없는', '일이', '생긴다', '오늘은', '아이가', '신나하는', '학교', '안가는날', '단', '온라인수업', '청강은', '해야한다', '오빠가', '수', '4개월', '전', '바이윤기', '부모i', '스핀스핀', '회전하는', '돌고래', '만들기', '회전하는', '돌고래', '회전하는', '돌고래쇼', '직접', '만들어', '보아요', '돌고래쇼', '보셨나요', 'ㅎㅎ', '바다에서', '돌고래', '만나보셧어요', 'ㅎ', '못봤으면', '우리가', '직접', '만들어', '볼까요', '준비하기', '돌고래도안', '마지막에서', '업로드', '해놓았어요', '다운로드받아', '모두', '출력합니다', '돌고래', '고래', '날치든', '새치든', 'ㅎㅎ', '3마리의', '바다', '동물', '친구들과', '아래', '바다', '파도', '판넬까지', '모두', '4장으로', '구성되어', '있어', '3개월', '전', '폭스래빗', '부모i', '아침부터', '열폭한', '엄마에게', '그림책', '평범한식빵식빵이는', '자신의', '모습을', '곰곰이', '살펴봤어요', 'x27나는', '너무', '평범해x27', '식빵이는', '크루아상의', '울퉁불퉁한', '근육이', '부러웠어요', 'x27나도', '저런', '멋진', '근육이', '있었으면', '좋겠어x27', '식빵이는', '크림빵과', '단팥빵도', '부러웠어요', 'x27겉은', '매끈매끈하고', '속은', '꽉', '찼잖아', '난', '겉도', '속도', '별거', '없는데x27', '그때', '식탁', '건너편의', '화려한', '빵이', '눈에', '띄었어요', '빨간', '토마토와', '초록', '7개월', '전', '작가', '이지현', '부모i', '아이에게', '돈의', '가치와', '행복을', '알게하자', '내', '아이가', '부자', '마인드를', '가질', '수', '있도록지금', '당장', '돈공부를', '시작하라누구나', '부자로', '살고', '싶어', '한다', '나의', '삶도', '그러하길', '원하지만', '내', '자식만큼은', '돈으로', '인한', '걱정과', '고통', '속에서', '살지', '않기를', '간절히', '바란다', '그러면서', '아이에게', '물려줄', '유산이', '없음을', '자책한다', '건물주도', '아니고', '돈을', '많이', '모아놓은', '것도', '아닌데', '어떻게', '아이가', '평생', '부자로', '살', '수', '있겠냐며', '반문하기도', '한다', '8개월', '전', '책방구', '부모i', '날마다', '싸우는', '우리', '아이들', '도대체', '어떡하죠', '아이들이', '싸우는데', '영향을', '미치는', '요인은', '너무나', '많습니다', '“난', '너랑', '정말', '안', '맞아”', '“같이', '놀고', '싶은데', '안', '놀아주고', '귀찮다고만', '해”', '“정말', '이해할', '수가', '없어”', '등', '기질', '성별', '터울이', '형제', '갈등의', '주요한', '요인입니다', '실제로', '2년', '이하의', '터울인', '형제관계', '동성의', '형제', '혹은', '자매', '기질이', '다른', '아이들이', '많이', '싸운다는', '연구', '결과가', '있습니다', '이럴', '때', '바라보는', '2개월', '전', '비상교육', '맘앤톡', '부모i', '아기', '대소천문', '위치와', '닫히는', '시기', '신생아', '아기', '대천문', '소천문', '위치', '닫히는', '시기', '대천문', '소천문', '아기대천문', '신생아대천문', '대천문닫히는시기', '소천문닫히는시기', '대천문위치', '소천문위치', '아이가', '태어난', '후', '머리를', '늘', '조심하라는', '말들을', '많이', '듣곤', '해왔어요', '그', '이유는', '머리에', '대천문과', '소천문이', '위치해', '있어서', '그런건데요', '일반', '머리뼈보다', '물렁물렁한', '형태로', '되어있더라고요', '제일', '먼저', '알아볼것은', '바로', '7개월', '전', '아련연콩', '부모i', '신생아', '삼칠일', '그게', '뭐야', '조금', '헷갈리는', '상식', '신생아', '삼칠일', '아기', '37일', '대체', '언제란', '말인가', '금방', '다가오는', '백일', '삼신상', '차리기까지', '알아볼게요', '요즘', '신생아에', '관심이', '지대한', '예비둘째맘', '마더꽉이에요', '첫', '아이를', '키울때', '추억도', '새록새록그리고', '다가오는', '아이에', '대한', '새로운', '두려움과', '함께', '기대가', '섞여있네요', 'ㅎㅎ', '경력직이지만', '왜', '이리', '모든', '게', '새로울', '것', '같은지', '둘째', '아이는', '7개월', '전', '마더꽉', '부모i', '아이의', '문해력을', '키우는', '부모를', '위한', '인문학', '안녕하세요', '요즘', '아이의', '문해력으로', '다시', '한번', '더', '우리아이', '독서에', '대해', '고민하는', '시간이기도', '하는데요', '오늘은', '경기평생교육학습관에서', '줌강의가있어', '온라인강의를', '들어보고', '메모', '해', '봅니다', '「아이의', '문해력을', '키우는', '부모를', '위한', '인문학」', '을', '주제로', '김종원', '작가님의', '강의를', '통해', '어떻게', '아이를', '위한', '문해력을', '키우는', '태도를', '가지면', '좋을지에', '대해', '생각', '해', '보는', '시간을', '가', '2개월', '전', '해피스마일마미', '부모i', '고집', '센', '우리', '아이', '훈육', '방법', '혹시', 'x60미운', 'n살x60이라는', '말', '들어보셨나요', '마트에', '가면', '갖고', '싶은', '장난감을', '사주지', '않는다고', '울부짖고', '뭔가', '마음에', '안', '든다면', '막무가내로', '고집을', '부려', '곤란한', '상황이', '생기기도', '하죠', '참', '예쁜', '우리', '아이지만', '이런', '상황을', '겪는다면', '가끔', '밉기도', '한데요', '도대체', '어떻게', '훈육을', '해야', '할지', '감이', '오지도', '않아', '어려움을', '겪게', '됩니다', '그래서', '오늘', '아빠넷에서는', '이런', '어려움을', '1개월', '전', '아빠넷', '부모i', '아기에게', '비타민D를', '먹여야', '할까요', '현대인이라면', '가방', '식탁', '책상', '등에', '빠지지', '않고', '놓여', '있는', '영양제', '중', '하나', '바로', '비타민D입니다', '전문가들을', '비롯해', '대부분의', '사람들은', '비타민D는', '음식으로', '섭취하는', '것만으로는', '불충분하고', '햇빛을', '받으면', '피부에서', '비타민D를', '합성하기', '때문에', '햇빛을', '충분히', '쏘이라고', '합니다', '그러나', '요즘은', '공해로', '인해', '자외선', '양이', '충분하지도', '않고', '또', '자외선', '차단제를', '자주', '사용하므로', '3개월', '전', '알잠', '부모i', '집안일', '아이와', '함께해야', '하는', '이유', '3가지', '‘집안일’이란', '엄마', '개인의', '일이', '아닌', '가족', '구성원이', '모두', '참여해야만', '하는', '우리', '가족의', '일이에요', '하지만', '청소', '빨래', '요리', '등', '모든', '집안일을', '엄마가', '전적으로', '맡아서', '하는', '집이', '대부분이죠', '특히', '아이가', '힘들까', '봐', '혹은', '주어진', '일을', '제대로', '하지', '못할까', '봐', '집안일을', '분담하지', '않는', '경우가', '많은데요', '오히려', '아이에게', '집안일을', '가르치고', '적절하게', '1개월', '전', '비상교육', '맘앤톡', '부모i', '임산부', '임당', '식단과', '관리법', '당뇨가', '없던', '여성도', '임신하면', '호르몬의', '영향으로', '당뇨병이', '생길', '수', '있다', '모체는', '물론', '태아의', '건강까지', '위협하는', '임신성당뇨병은', '특별한', '자각증상이', '없으므로', '적절한', '시기에', '검사를', '통해', '진단하고', '지속적으로', '혈당을', '관리하려는', '노력이', '필수다', '임신', '후', '커지는', '인슐린저항성', '당뇨병은', '세계적으로', '임신부의', '약', '5에서', '발생하는', '주요', '임신성', '질환', '중', '하나다', '1995년', '국내의', '4주일', '전', '앙쥬ange', '부모i', '임신', '24주', '체중', '임산부', '적정', '체중', '잇님들', '쓰리쓰리', '햇살맘입니다', '임신', '중', '체중', '증가', '적정표를', '들고와봤어요', '임신', '중', '체중관리는', '필수입니다', '무조건', '한명을', '품어서', '2인분을', '먹어서도', '안되더라구요', '😢', '체중증가를', '어떻게', '적절하게', '관리해야하는지', '이야기해볼려구용', '😯', '그러면서', '제', '최애', 'lt노랑통닭gt', '임신', '후에', '입맛이', '고기고기', '찾아요', '임심중식단', '관리', '중요한데', '저는', '일주일', '한', '번', '정도는', '배', '1개월', '전', '쓰리쓰리', '부모i', '대화', '육아', '엄마', '심심해', 'quot재미있는', '거', '하고', '싶어quot', '과거라면', '저', '말에', '내가', '무엇을', '하고', '놀아줘야', '하나', '내가', '아이에게', '무엇을', '못', '해줬을까', '죄책감이', '들었을', '텐데', 'quot태오는', '뭐', '할', '때', '재미있어quot', '하고', '질문을', '했다', '조금', '생각하던', '태오는', 'quot역할', '놀이quot라고', '한다', '마음속에서', '‘태오가', '좋아하는', '퍼피', '구조대', '장난감으로', '역할', '놀이하자고', '할까', '아니야', '태오가', '4개월', '전', '태오맘라니', '부모i', '초등학교', '교외학습', '신청서', '보고서', '작성', '방법', '안녕하세요', '보링보링입니다', '저에게는', '한국', '나이로', '8살이', '된', '첫째', '새싹이와', '한국', '나이로', '4살이', '된', '둘째', '열무가', '있습니다', '작년까지만', '해도', '새싹이가', '유치원을', '다녔기에', '주중에', '하루', '유치원을', '빠질', '일이', '생기더라도', '크게', '신경', '쓰지', '않았는데요', '올해부터는', '초등학교를', '다니기에', '평일에', '아이와', '함께', '나들이를', '가게', '되면', '미리', '학교에', '초등학교', '교외', '체험학습', '신청서를', '2개월', '전', '보링보링', '부모i', '선생님들의', '속마음', '토크', 'Q1', '반갑습니다', '자기소개', '부탁드려요이길현', '20년째', '아이들에게', '영어를', '가르치는', '이길현이라고', '합니다', '체인형', '대형', '학원부터', '직접', '운영하는', '작은', '학원까지', '다양한', '방식으로', '아이들을', '만나', '왔고', '3년', '전부터는', '눈높이러닝센터에서', '영어', '전담', '교사로', '있습니다', '문창섭', '영유아', '체육', '프로그램', '트니트니에서', '유아', '체육', '수업을', '하는', '문창섭입니다', '15년째', '문화센터와', '9개월', '전', '세상에서가장큰학교', '부모i', '스마트폰', '없인', '못', '살아', '시간을', '정하기아이와', '협의해서', '스마트폰', '사용시간을', '정하세요', '하루일과표를', '함께', '짜보면서', '시간을', '정하고', '아이가', '볼', '수', '있는', '곳에', '붙여주세요', '만약', '아이가', '생각하는', '시간이', '너무', '많다고', '느껴지면', '오래', '하고', '싶은', '마음은', '읽어주시되', '부모님의', '가치관을', '담아서', '걱정되는', '부분을', '전달하고', '시간을', '조정해야', '합니다', '시간약속은', '곧', '규칙이므로', '언제나', '어떤', '순간이든', '지켜져야', '합', '7개월', '전', '허그맘', '부모i', '네', '번', '찾아오는', '우리', '아이', '사춘기', '아이가', '조금', '크면', '쉬워질까', '싶으면', '어김없이', '고', '난이도의', '상황이', '끊임없는', '파도처럼', '닥쳐오는', '육아', '라이프', '엄마', '아빠들이', '많이', '공감하고', '저장해', '주셨던', 'x27네', '번', '찾아오는', '우리', '아이', '사춘기x27를', '알아볼까요', '우리', '아이의', '시기별', '반항기에는', '어떻게', '대응을', '하는', '것이', '좋을까요아이를', '키우다', '보면', '아이의', '사랑스러운', '모습이', '많이', '보입니다', '하지만', '아이가', '떼', '1개월', '전', '차이의놀이', '부모i', '38주', '첫', '내진', '첫', '내진', '후기', '38주', '3일', '정기검진', '하는', '날', '지난', '주37주', '검진에서', '38주에는', '내진을', '할거라는', '의사선생님', '말씀에', '38주', '검진이', '왜', '이렇게', '가기', '싫은지ㅋㅋㅋ', '그래도', '먼저', '출산한', '동생에', '경험에', '의하면', '내진', '별거', '아니라고', '아프지', '않다고', '해서', '그', '말을', '믿고', '갔건만', '질', '초음파', '굴욕자세로', '심호흡', '하면서', '있다가', '뭔가', '쑥', '들어오는', '느낌까진', '그래', '4개월', '전', '줄리', '부모i', '아이와', '나', '그리고', '스마트폰', 'A', '노는', '방법을', '모르기보다', '엄마', '마음이', '지쳐있지는', '않나요말도', '곧잘', '하고', '친구들과', '놀이하는', '걸', '보면', '의젓함도', '엿보이는', '우리아이입니다', '그런데', '자유시간이', '생기기만', '하면', '오로지', '엄마만', '바라보고', '있으니', '해가', '가도', '부담스러움은', '줄어들지', '않습니다', '‘어떤', '공부를', '좀', '더', '시켜야', '할까', '다른', '애들은', '영어유치원', '다니던데', '우리', '애는', '괜찮을까', '유치원', '친구들과', '5개월', '전', '허그맘', '부모i', '여름휴가', '3일차', '인간이기를', '포기한', '남자', '울산의', '성자였던', 'K는', '이제', '인간계를', '넘어', '신계에', '속한', '존재가', '되어', '있었다', '만삭인', '그의', '아내를', '대신해', '새벽부터', '밤까지', '쉴', '틈', '없이', '움직이며', '일했다', '다들', '경탄을', '금치', '못했다', '원래도', '부지런하고', '섬세한', '사람이었지만', '1년', '사이에', '더', '발전한', '느낌이었다', '아이폰', '6가', '나왔을', '때', '‘이제', '스마트폰의', '혁신과', '발전은', '더', '이상', '없다’라고', '생각했는데', '상상하지', '못한', '기술의', '4개월', '전', '어깨아빠', '부모i', '8개월', '증상', '임신', '정맥류', '임신일기', '임신29주8개월', '증상', '임신', '정맥류', '•', '치질기', '•', '엉덩이', '튼살', '매일', '딱꾹질하는', '수박이', '입밖으로', '내고', '싶지도', '않은', '단어', 'x27치질x27', 'ㅠㅠ', '임신29주', '8개월', '차에', '접어들고', '치질기가', '생긴', '것', '같다', '임신하고', '당연히', '자분자연분만만', '생각해왔지만', '주변의', '무시무시한', '자분', '난산', '출산', '경험담을', '듣기도', '하고', '또', '내가', '다니고', '있는', '산부인과는', '무통도', '안놔주고', '최대', '4개월', '전', '이여라', '부모i', '빵빵아빠', '임신일기', '58주', '차', '병원', '다녀올때마다', '출산하기까지의', '과정에', '대한', '글을', '남기려고', '했는데', '이게', '참', '안써지네요', 'ㄷㄷ', '내일모레', '병원', '방문을', '앞두고', '그동안의', '이야기를', '적어보려', '합니다', '210809', '초음파', '상에', '아이가', '보이는지', '확인과', '함께', '임신이', '맞다는', '증명서', '비스끄름한', '서류를', '한장', '받았습니다', '그리고', '임신', '예정일을', '받아보았는데요', '내년', '4월', '12일이라고', '합니다', '실감이', '나질', '않', '1개월', '전', '민구리아', '부모i', '우주가', '되어줄게', '육아공감', '“엄마가', '우주가', '되어줄게”', '잘', '커주고', '있어서', '고마워', '사랑해', '엄마마음', '부모마음', '인스타에서도', '만나요👋', '스토리엄마아빠', '드로잉아빠', '드로잉오뉴', '육아공감', '육아툰', '육아웹툰', '육아', '육아일기', '육아', '4개월', '전', '오뉴', '부모i', '그놈의', '소중한', '거', '5살🖐🏻', '이렇게', '사소한', '것까지', '소중하게', '생각하는', '작은', '사람들ㅋㅋ', '사랑해🤣♥️', 'x27엄마사람', '마팀장x27은', '마팀장의', '육아일상을', '그림으로', '담은', '이야기입니다', '인스타그램', 'x27커커와찌찜무x27', '팔로우를', '통해서도', '보실', '수', '있습니다', '마이그린몰', '워킹맘', '육아일기', '커커와찌찜무', '육아', '일상', '육아툰', '웹툰', '인스타그램', '↓↓', '마이그린', '보러', '가기', '↓↓', '정말', '맛', '1개월', '전', '마그린팀장', '부모i', '영유아', '검진', '시기별', '검진', '항목', '및', '검진방법', '안녕하세요', '됴이dyoi', '입니다', '영유아', '건강검진이', '시기별로있는거', '아시지요', '영유아검진', '시기별', '검진', '항목', '및', '검진', '방법은', '영유아를', '키우는', '엄마', '아빠라면', '꼭', '놓치지', '말아야', '할', '일인데요', '영유아', '건강검진일정확인', '국민건강보험에서', '실시하는', '영유가', '건강검진은', '전연령을', '대상으로', '하는', '건강검진의', '일환으로', '71개월', '까지의', '영유아를', '대상으로', '해요', '영유아', '건강검진은', '4주일', '전', '됴이', '부모i', '얼굴', '표정에', '대한', '참견', '아이들이', '말하는', '의외의', '스트레스가', '있어요', '바로', '부모가', '하는', '얼굴', '표정에', '대한', '참견입니다', '너', '꼭', '화난', '것', '같아', '얼굴', '좀', '펴', '부모는', '아이의', '표정이', '밝지', '않으면', '별별', '생각이', '다', '들어요', '저런', '표정을', '짓고', '다니면', '친구들이', '싫어하지', '않을까', '선생님들도', '“너', '세상에', '무슨', '불만', '있어”', '라고', '말하지', '않을까', '학교생활에', '무슨', '문제가', '있는', '것은', '아닐까', '우울증은', '6개월', '전', '육아멘토', '오은영', '박사', '부모i', '완벽하지', '않은', '엄마가', '되려고', '노력', '중입니다', '출산', '후', '나의', '시간은', '아기를', '기준으로', '흘러간다', '‘지금', '몇', '시지’보다는', '수유한지', '몇', '시간', '지났는지를', '떠올린다', '오늘이', '몇', '월', '며칠인지는', '몰라도', '생후', '164일', '차인', '건', '안다', '첫째', '딸', '별이에게', '내가', '세상의', '전부이듯', '나의', '세상에도', '별이가', '꽉', '들어차', '있다', '‘엄마’라는', '새로운', '역할은', '아직도', '조금은', '낯설다', '여전히', '종종', '실수하고', '부모로서', '알아야', '할', '것도', '많다', '9개월', '전', '한솔교육', '핀덴', '부모i', '아기', '열꽃', '돌', '발진', '갑자기', '나타나요', '맘톡', '에디터의', '경험담', '돌발진과', '열꽃', '그', '이후', '이야기', '아이의', '활동', '반경이', '넓어지고', '아장아장', '걸음마를', '연습하기', '시작하는', '돌', '무렵', '특별한', '다른', '증상', '없이', '갑자기', '고열이', '난다면', '‘돌발진’을', '의심해', '볼', '수', '있어요', '고열이', '내리고', '열꽃을', '확인해야만', '확진', '받을', '수', '있는', '‘돌발진’', '돌발진의', '원인과', '증상', '그리고', '그', '이후의', '경험담을', '맘톡', '에디터가', '들려드릴게요', '돌발진', '7개월', '전', '맘톡', '부모i', '엄마', '있잖아요옹', 'quot엄마', '있잖아요옹', 'quot', '막내는', '귀여운', '척이', '시작되었습니다', '뭔가', '자신이', '원하는', '게', '있으면', '존댓말을', '하고', '말끝을', '귀엽게', '마무리하지요', '표정을', '보아하니', '평소', '자제시키는', '초콜릿이나', '젤리가', '먹고', '싶거나', '당분간', '금지되어', '있는', '휴대폰', '게임이', '생각났거나', '놀이터에서', '놀고싶은', '마음이', '들었거나', '셋', '중', '하나인', '것', '같습니다', '막내의', '귀염뽀짝', '포즈를', '뒤로', '하', '8개월', '전', '작가', '이지현', '부모i', '거짓말은', '안돼요', '아이가', '태어나고', '조금씩', '자라서', '어느새', '엄마가', '하는', '말에', '반응을', '하고', '알아듣기', '시작하면', '너무너무', '귀엽고', '예쁘죠', '하지만', '이제', '행동반경이', '넓어지고', '슬슬', '요구가', '늘어납니다', '돌보는', '엄마', '입장에서는', '들어줄', '수', '없는', '요구도', '생기기', '시작하고', '그', '기준이', '때에', '따라', '달라지기도', '하면서', '아이와의', '의견충돌이', '생기기', '시작하잖아요', '이때', '엄마가', 'quot이거', '하면', '저걸', '줄게quot', '이런', '4주일', '전', '해솔맘', '부모i', '흔들흔들', '고래', '만들기', '집콕놀이85', '흔들흔들고래만들기', '엄마표장난감', '엄마표놀이', '3세아이놀이방법', '후동맘', '여뜡이예요', '바다동물', '중에', '고래와', '상어를', '너무', '좋아하는', '지후를', '위해', '고래', '놀잇감을', '만들어', '보았어요', '🎨준비물', '두꺼운', '종이', '다사용한', '스케치북을', '사용', '가위', '양면테이프', '이쑤시개', '고래를', '꾸밀', '여러종류', '스티커', '색연필이나', '싸인펜으로', '꾸며도', '됩니다', '🎨만드', '2개월', '전', '여뚱이', '부모i', '보내길', '잘했다', '어린이집', '교사', '생활을', '오래한', '저로서는', '최대한', '아이는', '내', '품에서', '오래오래', '엄마의', '온기와', '사랑을', '받으며', '지내길', '바랐어요', '그렇기에', '재접근기가', '왔을', '때도', '함께', '이겨내', '보기', '위해', '애를', '썼고', '주변에서', '일찍부터', '보내고', '조금은', '쉬어도', '된다고', '했음에도', '두', '돌', '가까이까지', '데리고', '있었던', '이유이기도', '했어요', '엄마가', '희생의', '아이콘이라는', '공식은', '아니지만', '아이를', '늘', '선택의', '우선순위에', '두다', '보니', '4주일', '전', '모다렐라', '부모i', '위드', '코로나', '시대지혜로운', '육아법은', '코로나', '시대에', '아이', '키우기', '정말', '너무', '어려워요', '아이들은', '계속되는', '코로나', '상황에', '답답해하며', '언제', '코로나가', '끝나는지', '묻습니다', '코로나', '상황이', '장기간', '계속되며', '제한되는', '활동도', '많고', '아이들의', '경험도', '부족하게', '된', '부분이', '많고', '한데요…', '이제', '이러한', '상황에', '적응해', '가면서', '아이를', '잘', '양육해', '봐야', '할', '것', '같은데', '사실', '좀', '막막한', '것', '같습니다', '누구도', '경험해', '보지', '못한', '4주일', '전', '한국컴패션', '새로운', '글', '더보기', 'Sign', 'in', 'Connect', 'with', 'people', 'NAVER', 'Sign', 'in', 'Forgot', 'Username', 'Password', 'Sign', 'up', '타임스퀘어', '이전', '다음', '신문1면', '언론사', '헤드라인', '보기', '이슈', '코로나바이러스감염증19', '현황', '증시', '다우', '3489934', '90504', '253', '증시', '나스닥', '1549166', '35357', '223', '환율', 'USD', '119600', '550', '046', 'TOP', '라이트', '모드로', '보기', '공지사항', '서비스', '전체보기', 'Creators', '크리에이터', '스몰비즈니스', 'Partners', 'SME', '풀케어', '시스템', '비즈니스', '·', '광고', '스토어', '개설', '지역업체', '등록', '엑스퍼트', '등록', 'Developers', '네이버', '개발자', '센터', '오픈', 'API', '오픈소스', '네이버', 'D2', '네이버', 'D2SF', '네이버', '랩스', '웨일', '브라우저', '다운받기', '프로젝트', '꽃', '바로가기', '네이버', '정책', '및', '약관', '회사소개', '인재채용', '제휴제안', '이용약관', '개인정보처리방침', '청소년보호정책', '네이버', '정책', '고객센터', 'ⓒ', 'NAVER', 'Corp']\n",
      "\n"
     ]
    },
    {
     "name": "stdout",
     "output_type": "stream",
     "text": [
      "2. 단어의 개수: 4179개\n",
      "\n",
      "3. 각 단어들의 출현빈도 수\n",
      "\n",
      "{'사랑을': 1, '떠났다': 1, '지났는데': 1, '2가지': 1, '울음이': 2, 'A': 2, '고래': 3, '두다': 1, '꾸며도': 1, '경력직이지만': 1, '육아법은': 1, '부려': 1, '머리를': 1, '보았어요': 1, '쓰며': 1, '것은': 2, '센터': 1, '세계보건기구WHO는': 1, '순간이든': 1, '부모i': 59, '당뇨병이': 1, '수축으로': 1, '셋': 1, '참견': 1, '양육해': 1, '하고': 12, '아이에게': 5, '생각했는데': 1, '반영키로': 1, '노는': 1, '마음속에서': 1, '입원❤️🩹': 1, '몰려': 1, '이름있는': 1, '보아하니': 1, '맞아”': 1, '이제': 5, '국어사전': 1, '스토어': 1, '세뱃돈이나': 1, '어': 1, '예비둘째맘': 1, '경험에': 1, '마트에': 1, 'vaccine': 1, '영향으로': 1, '아이와의': 1, '말고': 1, '소중한': 1, '개체임을': 1, '너무나': 1, '김종원': 1, '시지’보다는': 1, '마음이었다': 1, '주중에': 1, '취소': 4, '우선순위에': 1, '아들이': 1, '물어봐요': 1, '해”': 1, '확인해야만': 1, '폭력x27이라': 1, '화난': 1, '됴이': 1, '계속되는': 1, '비판하는': 1, '5에서': 1, '가능성이': 1, '보았지만': 1, '20년째': 1, '줄어들고': 1, '받는것이야': 1, '변호사비': 1, '046': 1, '말끝을': 1, '제한': 1, '건너편의': 1, '패디': 1, '청년': 1, '접근이': 4, '한다': 5, '알게하자': 1, '저장해': 1, '때': 5, '적응해': 1, '않습니다': 1, '하죠': 1, '걸까요': 1, '울산의': 1, '‘감성·캠핑x27': 1, '첫째가': 3, 'ㅜㅠ': 1, '산부인과는': 1, '미세': 1, '맞다quot': 1, '임신부에서': 1, '분위기는': 1, '20억': 1, '찔레꽃': 1, '개의': 1, '필수입니다': 1, '시작하는': 1, '뉴스원샷': 1, '3년': 1, 'quot한일관계': 1, '속도': 2, '이재명': 2, '밉기도': 1, '집': 1, '또한': 2, '막무가내로': 1, '이야기를': 1, '위한': 3, '인간이기를': 1, '다': 2, '받을': 3, '소천문이': 1, '그간': 1, '확진자들': 1, '요인은': 1, 'Covid': 1, '그리고': 6, '열일했나봐💦💦💦': 1, '쓰였다': 1, 'Q1': 1, '고래와': 1, '어김없이': 1, '오미크론quot': 1, 'B형간염예방주사': 1, 'x27일터의': 1, '둘째가': 1, '새록새록그리고': 1, '먹어서도': 1, '갔다가': 2, '속은': 1, '정부': 1, '넘어졌어quot': 1, '이유식을': 2, '휘둘러quot': 1, '병가처리': 1, '싸웠다': 1, '자주': 2, '오미크론quot‥글로벌': 1, '내가': 6, '같이': 1, '단': 1, '아닌지': 1, '편집된': 1, '제약을': 1, '반경이': 1, 'Username': 1, '헤드라인': 1, '뉴스들을': 1, '했음에도': 1, '썸네일형': 1, 'message': 1, '달라지기도': 1, '여유': 1, '할거라는': 1, 'x27나도': 1, '다크': 1, '키우다': 2, '네이버': 8, '돼서': 1, '많습니다약도': 1, '3주일': 2, 'China': 1, '변이에': 1, '35년으로': 1, '대로만': 1, 'x27이런x27': 1, '많이': 8, '양육‧교육': 1, '진통': 1, 'quot': 1, '개정': 1, '1시간': 1, '4시': 1, '만나보셧어요': 1, '보내길': 1, '스마트폰만으로도': 1, '울부짖고': 1, '신생아': 4, '20만원’': 1, '너무': 6, '이게': 2, '포즈를': 1, '보실': 2, '사람이': 2, '월요일': 1, '24주': 1, '없다': 3, '부모의': 2, '모체는': 1, '호르몬의': 1, '초등학생이고': 1, '금융': 1, '알아볼게요': 1, '씻긴뒤': 1, '있어”': 1, '코로나가': 1, '같을까': 1, '적정표를': 1, '시간이': 2, '봐': 2, '일이에요': 1, '나왔다': 1, '들어보고': 1, '상어를': 1, '돈은': 1, '다른': 5, 'up': 1, '깨워서': 1, '말에': 3, '아이가': 12, '애들': 1, '있었던': 3, '제대로': 3, '흔들어quot…감찰': 1, '반문하기도': 1, '바로': 5, '단독': 1, '제일': 1, '살아': 1, '차인': 1, '사람들은': 2, '아마': 1, '승부수는': 1, '울거나': 1, '센': 1, '기능이': 1, '상상하지': 1, '않죠그중': 1, '시스템': 1, '89': 1, '풀수가': 1, '더불어': 1, '스핀스핀': 1, '가려움증과': 1, '내일모레': 1, 'Password': 1, '주려': 1, '다르게': 1, '주어진': 1, '사랑하고': 1, '경험도': 1, '진술서': 1, '포스팅을': 1, '시절에': 1, '다니고': 2, '조정': 1, '새싹이는': 1, '인문학」': 1, '경우': 1, '욕구': 1, '아이들을': 1, '돈을': 3, '아프지': 1, '종일': 1, '이상이': 1, '훈육을': 1, '가족': 1, '치즈엄마': 1, '종종': 1, '정인이': 1, 'x27지금': 1, '싶지만': 1, '체중관리는': 1, '부모가': 4, '관심이': 1, '가보니': 1, '붙여주세요': 1, '찾아오는': 2, '맡아서': 1, '여름휴가': 1, '투매x27': 1, '사춘기': 1, '임산부': 5, '4아이맘': 1, '성장기이고': 1, '아이는': 5, '정기검진': 1, '취침하셨습니다': 1, '있어서인지': 1, '할': 8, '실격': 1, '만들어': 4, '쇼핑LIVE': 1, 'x27겉은': 1, '지속적으로': 1, '친구들': 1, '열꽃': 2, '후에': 1, '그제서야': 1, '만큼': 1, '임신이': 1, '않': 1, '마련의': 1, '기대가': 1, '때문이다스스로의': 1, '먹이고': 1, '진림해일에요': 1, '사는': 1, '경향이': 1, '해보려구요': 1, '띄었어요': 1, '바닥에': 1, '빵이': 1, '닫기': 9, '다툼': 1, '잠을': 1, '표현하는': 1, '4장으로': 1, '워킹맘': 1, '아이지만': 1, '텐데': 1, '발생하는': 1, 'x27묻지마': 1, '감추려는': 1, '불편하게': 1, '것이': 2, '우리': 9, '평생': 1, '지켜져야': 1, '돌발진의': 1, 'CJ': 1, '순간': 1, 'K세금”': 1, '육아공감': 1, '카페명': 1, '10일간의': 1, '갖지': 1, '없던': 2, '자분자연분만만': 1, '2세': 1, '등록': 2, '전': 59, 'quot부산': 1, '분만실에': 1, '것quot': 1, '여뜡이예요': 1, '단어': 1, '이슈': 1, '이하의': 1, '한참': 1, '싶으면': 1, '윤석열·김종인…x27도로한국당x27': 1, '겪는다면': 1, '또': 2, '교외': 1, '사람이었지만': 1, '돌아다니는': 1, '맛': 1, '쏘야': 1, '좋을지에': 1, '안간다는': 1, '민구리아': 1, '금요일': 1, '안가는날': 1, '비급여': 1, 'quot주말에': 1, '과태료': 2, '품어서': 1, '못할까': 1, '조선비즈': 1, '건강까지': 1, '고래를': 1, '습한': 1, '별도로': 1, '증설에': 1, '완벽하지': 1, '나왔을': 1, '논의하겠다quot': 1, '뭔가': 4, 'may': 1, '심하게': 1, '독서에': 1, '영향을': 1, '금방': 1, '·': 1, '밀크반점': 2, '12만': 1, '튼살': 1, '이쑤시개': 1, '안그린': 1, '있을지': 1, '못봤으면': 1, '위치해': 1, '날카로워져': 1, '여성': 1, '유치원을': 2, '그런데': 1, '전적으로': 1, '평일에': 1, '😆': 1, '날아왔다…': 1, '몰라': 1, '않으면': 2, '있겠냐며': 1, '트러블들이': 1, '전체': 1, '경험한': 1, '생각하던': 1, 'people': 1, '급격한': 1, '울고': 1, '올인…건물주': 1, '일이다': 1, '발전한': 1, '기술의': 1, '산맥의': 1, '210809': 1, '친구들과': 3, '아니라고': 2, '부작용': 1, '컨텍스트': 4, '탓에': 1, '37일': 1, '어디로': 1, '욕구를': 1, '것만으로는': 1, '초등학교때는': 1, '금지를': 1, '휴': 1, '생겼더라고요': 1, '노력': 1, '괜찮을까': 1, '또': 1, '관심사를': 1, '없습니다': 2, 'Forgot': 1, '방법': 3, '나서도': 1, '양모': 1, '물건과': 1, '온기와': 1, '녹여': 1, '언제란': 1, '들고와봤어요': 1, '‘돌발진’': 1, '영향': 1, 'ㅠㅠ': 1, '전파력': 1, '반도체기업': 1, '엔터': 1, '되는': 1, '15분에': 1, '만삭인': 1, '응급실': 2, '자식이다': 1, '‘엄마’라는': 1, '그럼': 1, 'x27모델3x27': 1, '천명': 1, '결과가': 1, '2배…': 1, '귀찮다고만': 1, '것까지': 1, '재우려고': 1, '후기': 1, '못합니다': 1, '단축해도': 1, '떠올린다': 1, '미안하기도': 1, '1개월': 13, '피부에': 1, '사': 1, '골자로': 1, '된': 3, '부모마음': 1, '머리채': 1, '수업이라': 1, '마팀장의': 1, '친구와': 1, '만드는': 1, '그림에다': 1, '쏟아지는': 1, '빗나간': 1, '변이는': 1, '올게요quot': 1, '우리아이입니다': 1, '안놔주고': 1, '알아볼것은': 1, '어찌': 1, '터울인': 1, '배회x27': 1, '쉬언찮을': 1, '이야기는': 1, '중2병': 1, 'K방역…전문가들': 1, '그놈의': 1, '없는데x27': 1, '건강검진은': 2, '한장': 1, '강타···SP': 1, '크면': 1, '치즈는': 1, 'x27커커와찌찜무x27': 1, '삼칠일': 2, '하네요': 1, 'x27나는': 1, '3분의': 1, '자동저장': 1, '문제로': 1, '기회를': 1, '덮친격…남아공': 1, '충주호와': 1, '아동학대': 1, '어린이들은': 2, '부분이': 1, '다리에': 2, '문의': 1, '보내고': 1, '소명자료까지': 1, '기준으로': 1, '“괴롭다': 1, '명명': 1, '입원했다😨': 1, '①': 1, '관리하려는': 1, '사이트': 2, '말들을': 1, '일인데요': 1, '몰라도': 1, '1…': 1, '전담': 1, '중': 6, '당뇨가': 1, 'x27거리': 1, '만나요👋': 1, '원인과': 1, '작사': 1, '막내의': 1, '내용은': 1, '코로나바이러스감염증19': 1, '엑스퍼트': 1, '너무너무': 1, '다니기에': 1, '못': 4, '책방': 1, '입원하라는': 1, '중입니다': 1, '초기화': 3, '쓰리쓰리': 2, '최대': 2, '닫히는': 2, 'discuss': 1, '악을': 1, '삶': 1, '그림책': 1, '탈탈탈': 1, '만취': 1, '자기소개': 1, '없어”…': 1, '모든': 6, '구독해지': 4, '꾸밀': 1, '둘째': 3, '경쟁률': 1, '갈등의': 1, '부족에': 1, '자책한다': 1, '서류를': 1, '안들어”': 1, '상황이': 3, '책임': 1, '구성원이': 1, '신고': 1, '인스타그램': 2, '사용시간을': 1, '판넬까지': 1, '4단계': 1, '안돼요': 1, '엄마가': 6, '낳는다': 1, '많은데요': 1, '꼭': 2, '누군가': 1, '고집': 1, '모두': 4, '일어나길래': 1, '말씀에': 1, '1': 4, '한번씩': 1, '현': 1, '조사': 1, '장난감으로': 1, '짜보면서': 1, '영어사전': 1, '24일': 1, '분화된': 1, '개인의': 1, '가르치고': 1, '울음으로': 1, '난다면': 1, '번도': 1, '4개월': 11, '자동완성': 6, '없었는데': 1, '여름방': 1, '태아에게': 1, '더블유에': 1, '하나가': 1, '해지': 24, '사람들을': 1, '우주가': 1, '너랑': 1, '문제에요': 1, '위해': 2, '돌발진과': 1, '우리아이': 1, '부자': 1, '이유는': 2, '리정': 1, '요즘': 2, '부터': 1, '두려움과': 1, '들었을': 1, '들여다봤다': 1, '주셨던': 1, '걸': 2, '들지': 1, '구조대': 1, '제한WHO': 1, '확진': 2, '부모끼리': 1, '데일리': 1, '영어유치원': 1, '활동도': 1, '한솔교육': 1, '밝지': 1, '된다고': 1, '형제': 2, '개편': 1, '어떡하죠': 1, '교통‧문화시설': 1, '지난': 2, '담아서': 1, '둘째아이까지': 1, '봐야': 1, '아빠육아휴직': 1, '싫은지ㅋㅋㅋ': 1, '실감이': 1, '들어요': 1, '스크린': 2, '육아일기': 2, '알': 2, '책상': 1, '아니야': 1, '상에': 1, '네': 1, '임신29주': 1, '시청자': 1, '왜': 3, '싶지도': 1, '5개월': 2, '놀잇감을': 1, '폭력이라니…': 1, '결정되는': 1, '증시': 4, '묻습니다': 1, '가르치는': 1, '브라우저': 1, '말하는': 2, '40주': 1, '존댓말을': 1, '부른다': 1, '테슬라': 1, '정책지원': 1, 'ㄷㄷ': 1, '늦었다quot': 1, '조카': 3, '비타민D를': 2, '했다며': 1, '육아공감': 1, '건': 1, '생후': 2, '얼굴': 3, '학교에': 1, '데리고': 1, '한자사전': 1, '시행됐습니다': 1, '오후에도': 1, '초음파도': 1, '경험을': 1, 'Pay': 1, '오래한': 1, '것이다': 3, '막막한': 1, '해서는': 1, '자산': 1, 'x27오미크론x27으로': 1, 'ㅎ': 1, '움직이며': 1, '이여라': 1, '어떻게': 6, '없는': 4, 'with': 2, '증가': 1, '저': 1, '경험담': 1, '마음은': 2, '의도': 1, '문제가': 2, '질문을': 1, '발생': 1, '인': 1, '메일': 1, '생길': 2, '꾸준히': 1, '신체': 1, '이어지고': 1, '체감도': 1, '전체보기': 2, '좋을까요아이를': 1, 'ㅎㅎ': 3, '볼': 4, '시간이기도': 1, '가장': 2, '학원까지': 1, '소통을': 1, 'quot학교': 1, '상식': 1, '태아의': 1, '초보': 1, '못해서': 1, '것을': 1, '앉아서': 1, '싫지도': 1, '최고': 1, '경찰': 1, 'x27언론사': 1, '딱': 1, '향다': 1, '놓치지': 1, '믿고': 1, '아침': 1, '시대에': 1, '않고': 4, '스토리x27': 1, '°': 1, '작년까지만': 1, '걱정되는': 1, '리빙': 1, '적어보려': 1, '학원': 1, '논란도': 1, '기사보기': 24, '오로지': 1, '듯': 1, '신문1면': 1, '12주16주': 2, '얻었나': 1, '사람들이': 1, '아닌': 2, '존재': 1, '새치든': 1, '소천문닫히는시기': 1, '있는데요': 1, '세우면': 1, '집안일': 1, '일종입': 1, '것처럼': 1, '이제껏': 1, '덥고': 1, 'quot선택에': 1, '카페': 2, '잃어버릴': 1, '정하고': 1, '딱풀맘': 1, '코로나19': 1, '소개했다': 1, '능동적이며': 1, '이겨내': 1, '볼까요': 1, '영힘든게': 1, '있으면': 2, '우는': 3, '배가': 1, '다니던데': 1, '학교도': 1, '게임을': 1, '없인': 1, '다음': 1, '첫째': 3, '6일': 1, '못한': 5, '이름': 2, '주요한': 1, '하기': 1, '자동완성을': 1, '2시간': 1, '시간은': 1, '화가났는데': 1, 'Developers': 1, '살해했는데': 1, '사용하므로': 1, '39°': 1, '연기': 1, '영자지': 1, '아기에게': 1, '짓고': 1, '아이패드로': 1, '비즈니스': 2, '분류된': 1, '배려하는': 1, '국제금융시장': 1, '의외의': 1, '사이에': 1, '미뤄졌나': 1, '입니다': 1, '넓어지고': 2, '그동안에는': 1, '사람들ㅋㅋ': 1, '제법': 2, '기자】지난': 1, '물': 1, '색연필이나': 1, '최근검색어': 1, '모르기보다': 1, '발목에': 1, '오은영': 1, '보이는지': 1, '동물': 1, '전달하고': 1, '지났는지를': 1, 'D2': 1, '특수관리': 1, '가족의': 1, '적발되면': 1, '수도quot': 1, '그래도': 3, '시간과': 1, '귀염뽀짝': 1, '제': 1, '제휴제안': 1, '한데요…': 1, 'ENM': 1, '화이자·모더나': 1, '지금': 1, '출산': 3, '몬순은': 1, '바나나우유를': 1, '‘월세': 1, '보고서': 1, '비타민D입니다': 1, '폭증세…“돌파감염': 1, '되어있더라고요': 1, '평소': 1, '고위험': 2, '놀이터에서': 1, 'Health': 1, '3조': 1, '돌연변이가': 1, '80년': 1, '영역에서': 1, '커지는': 1, '세상에도': 1, '초콜릿이나': 1, '곰소': 1, '높다”': 1, '전반에': 2, '힘들까': 1, '35357': 1, '대통령…quot죽음조차도': 1, '21일부터': 1, '검진날': 1, '갔건만': 1, '군사': 1, '물로': 1, '검진이': 1, '싶은데': 1, '가게': 1, '임신중독증과': 1, '두꺼운': 1, '싸운다는': 1, '안써지네요': 1, '딸기혈관종': 1, '자부담…김총리': 1, '싶어quot': 1, '받으면': 2, '오래오래': 1, '보니': 1, '어른이': 1, '청약': 1, 'JOBamp': 1, '인상…국민·우리·하나銀': 1, '시간에': 1, '보는': 2, '홈에서': 1, '집콕놀이85': 1, '오늘이': 1, '있나quot': 1, '높아짐에': 1, '임신단축근무가': 1, '치카를': 1, '되려고': 1, '공포에': 1, '찾아가': 1, '친구': 1, '자고': 1, '표시가': 1, '오전': 1, '같다': 3, '근육이': 2, '놀라운': 1, 'expiration': 1, '참여해야만': 1, '만든': 1, '돌고래도안': 1, '사용됨으로': 1, '설정은': 1, '추억도': 1, '‘지금': 1, '자다가': 2, '특별한': 2, '우선적으로': 1, 'x27데이트': 1, '수에': 1, '종부세': 2, '국민건강보험에서': 1, '있을': 1, '살': 1, 'ㅋㅋㅋㅋㅋㅋㅋㅋㅋㅋㅋㅋㅋㅋㅋㅋㅋㅋ': 1, '엄마표장난감': 1, '마법의': 1, '받지': 1, '자제시키는': 1, '감염': 1, '쉽게': 1, '4월': 1, '있지': 1, '추가되었습니다': 2, '여행': 3, '피어싱': 1, '시기별': 3, '다사용한': 1, '위드': 1, '모르게': 1, 'x27네': 1, '치질기': 1, '말기': 1, '개입할수': 1, '부인': 1, '내년': 1, '쉴': 1, '간': 1, '가면서': 1, '서부티엔디리츠': 1, '편곡…‘프리콘’': 1, '현장': 1, '영영사전': 1, '하루에': 1, '초미세': 1, '하나다': 1, '340만명': 1, '않을까': 2, '뉴스': 2, '더보기': 2, '난산': 1, '세심하게': 1, '해가': 1, '싫어하지': 1, '읽는': 1, '다녀올때마다': 1, '카테고리': 1, '불만': 1, '헌정사상': 1, '구별할': 1, '육아일상을': 1, '도움말': 5, 'quot역할': 2, '느': 1, '잡고': 2, '뭐야': 1, '쓰고': 1, '돌고래': 4, '산모와': 1, '가계': 1, '수도': 1, '아장아장': 1, '몇': 3, '세상의': 1, '굴욕자세로': 1, '만날게요': 1, '중요하지': 1, '오래': 1, '아파트값': 1, '증시·유가': 1, '계속되며': 1, '적절한': 1, '전문자료': 1, '한데요': 1, '임신성당뇨병은': 1, '인간계를': 1, 'Creators': 1, '엄마': 8, 'quot엄마': 1, '지후를': 1, '닥쳐오는': 1, '통합검색': 1, '야제증은': 1, '아로와나재단': 1, '확진자가': 1, '컴퓨터와': 1, '쿠데타와': 1, '경제M': 1, '초등학생': 1, '언론탄압': 1, '4살이': 1, '걱정과는': 1, '최근': 1, '진료비': 1, '있었다': 1, '먹은게': 1, '임신을': 1, '‘재난적': 1, '증거금': 1, '처럼': 1, '있었지만': 1, '마인드를': 1, '노동자들': 1, '12시간': 1, '행정심판': 1, '저출산‧고령사회위원회이하': 1, '40°': 1, '공간의': 1, '3489934': 1, '대상으로': 2, 'x27여유x27': 1, '무력화': 1, '엄마표놀이': 1, '고마워': 1, '같습니다': 2, '확진자': 1, '유치원': 1, '태어났을': 1, '하며': 1, '‘쇄신’의': 1, '배려를': 1, '문해력으로': 1, '어떤': 1, '기본계획': 1, '매끈매끈하고': 1, '현재는': 1, '줄어들지': 1, '내진': 3, '사용해보세요': 1, '윤석열': 3, '이·윤': 1, '스케치북을': 1, '어린이집을': 1, 'x27NFT': 1, '열무가': 1, '사랑스러운': 1, '교사': 1, '관대한': 1, '저희': 1, '나들이를': 1, '육아멘토': 1, '겪게': 1, '신생아에': 1, '하려고': 1, '변이’': 1, '세상에서가장큰학교': 2, '223': 1, '풀케어': 1, '와서': 1, '한글': 1, '나홀로': 1, '게': 3, '만든거야': 1, '만삭전까지': 1, '나이로': 3, '6년간': 1, '있었으면': 1, '내역이': 1, '있게': 1, '의하면': 1, '들어오는': 1, '지내길': 1, '“‘뉴': 1, '모습이': 1, '되어줄게': 1, '섞여서': 1, '고통': 1, '정보를': 1, '태아': 1, '항목': 2, '영어': 1, '과학북미': 1, '내내': 1, '매표買票’의': 1, '없이': 3, '의존적인': 1, '가야게따': 1, '자녀': 1, 'currency': 1, '날치든': 1, '할까요': 2, '네일이랑': 1, '알아볼까요': 1, '스토리엄마아빠': 1, '셋째날은': 1, '규제·대출': 1, '햇빛을': 2, '주제로': 1, '원인을': 2, '미치는': 2, 'soon': 1, '메모': 1, '멀어지는': 1, '보고는': 1, '어쩌죠': 1, '대천문': 2, 'x27입술x27': 1, '그렇게': 1, '아빠가': 1, '시기에': 1, '“대재앙급': 1, '델타': 1, '스마트폰의': 2, '가치관을': 1, '악재': 1, '쇼미더머니10': 1, '언론사를': 1, '부모님이': 1, '시작되었습니다': 1, '대화를': 1, '동성의': 1, '정맥류': 2, '눈높이러닝센터에서': 1, '지식iN': 2, '콘서트': 1, '과잉보호': 1, '아니다': 1, '화면을': 2, '바꾸세요quot모순된': 1, '섞여있네요': 1, '출자quot공장': 1, '갖고': 1, '청소': 1, '접어들고': 1, '있어서': 1, '활용quot': 1, '폭락': 1, '특히': 1, '이러한': 1, '받는다': 1, '시원하고': 1, '방법은': 1, '명절': 1, '요구도': 1, '완벽하게': 1, '기업x27': 1, '날': 1, '슬슬': 1, '네이버·카카오': 1, '모습만': 1, '임신29주8개월': 1, '삼성전자': 1, '보내는': 1, '노출되는': 1, '하': 1, '수가': 1, '기억해야': 1, '책방구': 1, '실수하고': 1, '모음': 1, '높아진다': 1, '울퉁불퉁한': 1, '다음': 7, '챙기고': 1, '40분': 1, '대해': 4, '듯”': 2, '그건': 1, '때문인거': 1, '진단하고': 1, '1개월이': 1, '규칙이므로': 1, '코로나': 11, '바로가기': 7, '아이를': 9, '구독한': 4, '그': 8, '쇼핑': 3, '않기': 1, '해왔어요': 1, '대응을': 1, '을': 3, '열': 1, '7개월': 8, '함께해야': 1, '먹는': 1, '대한민국': 1, '척이': 1, '등': 5, '언론사에': 2, '사소한': 1, '인해': 3, 'x27블프x27': 1, '놀고싶은': 1, '곰곰이': 1, '과거라면': 1, '실시하는': 1, '터울이': 1, '할지': 1, '게임': 2, '지쳐있지는': 1, '없었던': 1, '시작하잖아요': 1, '같아': 1, '투자자': 1, '파도': 1, '노력이': 1, '울음과': 1, '선택의': 1, '검색어': 2, '세계증시': 1, '차리기까지': 1, '300만원까지': 1, '보면': 3, '자세히보기': 1, '첫날': 1, '전연령을': 1, '물렁물렁한': 1, '힘겹게': 1, '밥을': 1, '아래': 1, '만나는': 1, '앞': 1, '사랑해': 1, '노하우': 1, '일시': 1, '조정해야': 1, '리스트형': 1, '것도': 2, '인물': 1, '법인': 1, '다니면': 1, '말한다': 1, '양천구구립파란들어린이집금쪽같은': 1, '가끔': 1, '20분': 1, '들어줄': 1, '유산이': 1, '정상인데': 1, '위중증': 1, '산모는': 1, '사용법': 2, '프로그램': 1, '바이윤기': 1, '의료비': 1, '90504': 1, '홍·안의': 1, '사회적거리두기': 1, '8': 2, '될': 2, '오픈소스': 1, '8살이': 1, '아이들이': 4, '주37주': 1, '초등학교': 3, '백일': 1, '일만': 1, '후에도': 1, '환자': 1, '사용자': 1, '돌': 3, '걷기': 1, '엿보이는': 1, '117개': 1, '영화': 3, '경험하지': 1, '커커와찌찜무': 1, 'SME': 1, '이전': 6, '주·정차': 2, '줄리': 1, '스티커': 1, '잘했다': 1, '피부에서': 1, '꼬꼬마라': 1, '방역': 2, '없어”': 1, '걱정과': 1, '빵빵아빠': 1, '느껴지면': 1, '육아휴직': 1, '야경증': 1, '나라': 1, '지역업체': 1, 'x27오미크론x27에': 1, '관리법': 1, '즐기더니자야되는': 1, '회전하는': 3, '원': 2, '사주지': 1, '해야한다': 1, '영양제': 1, '과잉보호는': 1, '바지가': 1, '생활을': 1, '자라더니': 1, '우려변이': 2, '‘어떤': 1, '어릴': 1, '증명서': 1, '누가': 1, '머리에': 1, '한명을': 1, '필수다': 1, '사정으로': 4, '출산휴가': 1, '9': 1, '문화센터와': 1, '의사선생님': 1, '발톱': 1, '임신일기': 2, '보러': 1, '들려드릴게요': 1, '없었다quot': 1, '가지면': 1, '출생': 1, '일요일에': 1, '550': 1, '귀엽게': 1, '잤거든요': 1, '말하는데': 1, '38주에는': 1, '김진태': 1, '안녕하세요': 6, '하는': 13, '끼고': 1, '곧': 1, '너': 1, '졸업': 1, '입체': 1, '시대…남은': 1, '돈으로': 1, '이야기로': 1, '고등학교만': 1, '유튜브': 1, '처음으로': 1, '90지원': 1, '질환': 1, '걸까': 1, '미만의': 1, '친구들이': 1, '1인당': 1, '화내는': 1, '여성x27': 1, '서서히': 1, '온라인': 1, 'Corp': 1, '조금씩': 1, 'date': 3, '증권': 1, '“삼성전자': 1, '이미지': 1, '법으로': 1, '않기를': 1, '공부를': 1, '유럽亞': 1, '영상으로': 1, '분': 1, '죄책감이': 1, '바지의': 1, 'WHO': 2, '먹여야': 1, '세웠다가': 1, '美법인에': 1, '질문하고도': 1, '토마토와': 1, 'Connect': 1, '신계에': 1, '도대체': 2, '최대한': 1, '대책': 1, 'LG에너지솔루션': 1, '밀크반점이': 1, '같은데': 1, '3세아이놀이방법': 1, '서비스': 2, '받으며': 1, '보는날': 1, '처음': 2, 'x27글로벌': 1, '육아툰': 2, '시작하고': 1, '일반': 2, '대한': 4, '금융이': 1, '비스끄름한': 1, '밍디': 1, '지킴이': 1, '없음을': 1, '취침': 2, '매거진전문지': 1, '3일': 2, '삶을': 1, '경험담을': 2, '나타나요': 1, '전체삭제': 1, 'passes': 1, '여러': 2, '9개월': 4, '자동차': 2, 'x27김병준': 1, '통해서도': 1, '영향과': 1, '이른': 1, '예·적금': 1, '같아요’': 1, '이길현이라고': 1, '체인형': 1, '발생하면': 1, '휴대폰': 1, '먹기': 1, '돌발진': 1, '구성되어': 1, '외래': 1, '불특정한': 1, '글': 4, '7': 3, '반갑습니다': 1, '의심해': 1, '리니쭈니': 1, '해': 4, '읽어주시되': 1, '이유': 2, '저는': 1, '돌려받지': 1, '막내는': 1, '사례': 1, '일을': 1, '테크': 1, '하지만': 5, '대체': 1, '음성언어': 1, '계획': 1, '강화【베이비뉴스': 1, '생각해왔지만': 1, '하루': 2, '평범한식빵식빵이는': 1, '바란다': 1, '챙기는': 1, '어려움을': 2, '연예': 1, '보며': 1, '아내를': 1, '무섭던': 1, '5회차': 1, '당뇨병은': 1, '낙폭': 1, '확인해': 1, '살고': 2, '시동': 1, '성별': 2, '‘가족·체험x27': 1, '마팀장x27은': 1, '백과사전': 1, '대하여': 1, '공감': 1, '건강검진이': 1, '네이버뉴스': 1, '가': 1, '최고치인데…정부': 1, '헷갈리는': 1, '여전히': 1, '느낌이었다': 1, '15452대': 1, '자매': 1, '해당기기브라우저에': 1, '주제별캐스트': 1, '자세히': 2, '전부터는': 1, '암환자': 1, '판매': 1, '구분되지': 1, '스마트기기에': 1, '해피스마일마미': 1, '‘돌발진’을': 1, '높은': 3, '요즘들어': 2, '•': 4, '위협하는': 1, '지도': 1, '부러워할': 1, '일상꿈육아스타그램이웃환영': 1, 'AZ': 1, '많습니다': 1, '무조건': 1, '그래': 1, '어려워요': 1, '태어난': 3, '주제별': 1, '수축이라니': 1, '위치와': 1, '확인해봐요산모': 1, '마음이': 2, '‘이제': 1, '어린이집': 1, '육아': 6, '진료': 1, '계좌': 1, '다니려니': 1, '용어사전': 1, '기형아': 3, '햇살맘입니다': 1, '갑자기': 6, '일찍부터': 1, '8개월': 6, '줌강의가있어': 1, '뉴스레터를': 1, '긍정부정검색': 1, '스마트': 1, '가위': 1, '임신부': 1, '입력기': 1, '바지라': 1, '건강': 3, '제4차': 1, 'IT': 1, '오지도': 1, '혈당을': 1, '언론학살': 1, '미국': 1, '없다’라고': 1, '역할': 1, '제한되는': 1, '감형…quot법원': 1, '가던': 1, '【베이비뉴스': 1, '여성x27…기살리기': 1, '교외학습': 1, '심리학': 1, '정책': 2, '흘러간다': 1, 'quot태오는': 1, '연구': 1, '태어나고': 1, 'ⓒ': 1, '날씨와': 1, '나간김에': 1, '오픈': 1, '왔고': 1, '두': 2, '풀어요': 1, '별별': 1, '아이와': 3, '됩니다': 2, '기간피부': 1, '검사를': 1, '반사적인': 1, '1일': 1, '때에': 1, '크리에이터': 1, '품에서': 1, '시기이기도': 1, '고민을': 1, '왔을': 1, '숲을': 1, '“재감염': 1, '읽을만한': 1, '아기에': 1, '학교': 1, '119600': 1, '표정에': 2, 'Partners': 1, '화두인데요': 1, '하더니': 1, '늘': 2, '약관': 1, 'defense': 1, '지나면': 1, '삼신상': 1, '고열이': 2, '새싹이와': 2, '마이그린': 1, '임산부를': 1, '경기평생교육학습관에서': 1, '일터아이들의': 1, '스토리영상': 1, '진림해일': 1, '사람은': 1, '분담하지': 1, '이름이': 1, '확인해주세요': 2, '쏘이라고': 1, '주변의': 1, '안녕하지': 1, '글을': 1, '원격수업을': 1, '시작페이지로': 1, '시간대연령남녀별': 1, '가능결혼과': 1, 'K는': 1, '바다동물': 1, '저에게': 1, '입원하다': 1, '카페글': 1, '일하는게': 1, '정리하는': 1, '생겼는데': 1, '공급': 1, '확인': 8, '존재가': 1, '현대사회는': 1, '맘앤톡': 2, '바다': 2, '박사': 1, '눈': 1, '일상': 1, '갈수가': 1, '나타나': 1, '총정리': 1, '입원': 1, 'x27치질x27': 1, '253': 1, '울음의': 1, '하다니ㅠ': 1, '급감': 1, '소천문위치': 1, '새벽에': 1, '그런건데요': 1, '속에서': 1, '1549166': 1, '새': 3, '알아듣기': 1, '경험해': 1, '듣곤': 1, '집안일을': 3, '5': 2, '위·중증': 1, '비슷한': 2, '10시': 1, '맘스홀릭베이비': 1, '보고': 1, '말이': 1, '그러하길': 1, '아이들의': 1, '토크': 1, '체중증가를': 1, '‘오미크론’': 1, '조산기로': 1, '함정': 1, '개인정보처리방침': 1, '원하지만': 1, 'x27엄마인': 1, '고기고기': 1, '주변에서': 1, '생기기도': 2, '기준이': 1, '1주일에': 1, '그림으로': 1, '관리해야하는지': 1, '주간政談lt하gt': 1, '‘집안일’이란': 1, '올라가는': 1, '레이어': 2, '지구별': 1, '국내의': 1, '공공기관': 1, '마지막에서': 1, '아직도': 1, '아이들지난': 1, '바라보고': 1, '의료비지원': 1, '저출산‧고령사회': 1, '마그린팀장': 1, '문제를': 1, '이야기': 2, 'VIBE': 1, '국민의힘': 1, '개설법': 1, '하면': 3, '시작된': 1, '회사의': 1, '프로젝트': 1, '부동산': 2, '미리': 1, '주요': 1, '기준을': 1, '고객센터': 1, '걸음마를': 1, '04p↑': 1, '사랑해🤣♥️': 1, '유전적인': 1, 'quot아': 1, '비롯해': 1, '캐스트': 1, '자유로운': 1, '그룹의': 1, '귀엽고': 1, '크게': 1, '빨간': 1, '그런': 1, '고': 1, '세계적으로': 1, 'sixmonth': 1, '미접종자는': 1, '요구가': 1, '용돈을': 1, 'quot연말에': 1, '거': 3, '대처해야': 1, '나게': 1, '경우가': 1, '임신하고': 1, '키우기': 1, '히히': 1, '오늘부터': 2, '열무는': 1, '14': 1, '내': 5, '😯': 1, '이용약관': 1, '섬세한': 1, '임신으로': 1, '부분입니다': 1, '타임스퀘어': 2, '놀고': 2, '초등학교를': 1, '표지로': 1, '금지': 1, '아직': 1, '본적': 1, '공포': 1, '고집을': 1, '무력한': 1, '추락하는': 1, '수': 25, '쓰지': 1, 'quot내가': 1, '1310명': 1, '많았었는데': 1, '베이비뉴스': 3, '게임이': 1, '7881억': 1, '4분기': 1, '2개월': 7, '단지에': 1, '조기': 1, '이유가': 1, '있다': 6, '검진': 4, '끄기': 2, '건강부심있는': 1, '3개월': 2, '환율': 1, '패닉…1950년': 1, '임산부들이': 1, '넘어졌다': 1, '아기를': 2, '조금': 3, '마더꽉': 1, '몸값': 1, '입맛이': 1, '164일': 1, '설정에서': 1, '만약': 1, '언론사': 8, '하는데': 1, '마치고': 1, '마이그린몰': 1, '금리': 1, '가방': 1, '227': 1, '말아야': 3, '있어요': 3, '나스닥': 1, '사용할': 1, '호소하는': 1, 'API': 1, '출산하기까지의': 1, '탓quot': 1, '뉴스타파': 1, '나서': 1, '지원': 4, '11시에': 1, 'quot의도는': 1, '섭취하는': 1, '걸었다': 1, '권고했다': 1, '더': 10, '포기한': 1, '식빵이는': 2, '먼저': 2, '30': 1, '한국컴패션': 1, '활동': 1, '사회': 1, '선생님들의': 1, '들어차': 1, '반응을': 1, '이들의': 1, '애는': 1, '지나치게': 1, '오늘은': 5, '인한': 1, '키울때': 1, '도로교통법이': 1, '있으니': 2, '맘톡': 3, '들었거나': 1, '작성': 1, '생기더라도': 1, '나만': 1, '저장': 2, '너는': 2, '보링보링': 2, '않는': 2, '말을': 1, 'ONOFF': 1, '청강은': 1, '이런': 3, '대천문위치': 1, '편집할': 1, 'x27히': 1, '5살🖐🏻': 1, 'transfer': 1, '가수요': 1, '변이': 3, '다들': 1, '영유가': 1, '울음은': 2, '초음파': 3, '온라인강의를': 1, '광고': 1, '경험할': 1, '겉도': 1, '차이의놀이': 1, '교수님': 1, '하나인': 1, '추가': 4, '엄마마음': 1, '유아': 1, '별이가': 1, '1995년': 1, '정기': 1, '장난감을': 1, '한번째': 1, '후': 3, '1R': 1, '많을': 2, '방학이라': 1, 'NST검사': 1, '쑥': 1, '어느날': 1, '기존에': 1, '늦게': 1, '악마가': 1, '스트레스가': 1, '적정': 1, '찾아요': 1, '합성하기': 1, '읽어라': 1, '시작하라누구나': 1, '참견입니다': 1, '때도': 1, '든다면': 1, '싶어': 1, '‘여행제한’': 1, '털어주고': 1, '열꽃을': 1, '말하지': 1, '아이지': 1, '건물주도': 1, '지역': 2, '“너': 1, '마더꽉이에요': 1, '공지사항': 1, '태오는': 1, '병상대기': 1, '언어발달유아의': 1, '없을': 1, '백반증': 2, '다가오는': 2, '일정관리': 1, 'grimeda': 1, '사용하게': 1, '혹시': 4, '가을을': 1, '아이들에게': 1, '저출산‧고령사회위원회': 1, '40대': 1, '노래를': 1, '크루아상의': 1, '없어quot…x60데이트폭력x60': 1, '실패할': 1, '오돌토돌': 1, '내진을': 1, '3자녀에서': 1, '애를': 1, '1789': 1, '뒤로': 2, '살지': 1, '저로서는': 1, '산모보다': 1, '아이': 8, '엉덩이': 1, '지정': 1, '2자녀까지': 1, '🙋🏻♂️': 1, '11주에': 1, '같은지': 1, '되면': 1, '출산한': 1, '치질기가': 1, '2019년': 1, '내리고': 1, '쉬어도': 1, '바다에서': 1, '끊임없는': 1, '발달': 1, '직후의': 1, '바라보는': 1, '수유한지': 1, '어느새': 1, '답답해하며': 1, '아프리카': 1, '백신': 2, '치솟자': 1, '해피빈': 1, '그게': 1, '선생님과': 1, '단축근무기간은': 1, '6': 3, '퍼피': 1, '딱꾹질하는': 1, '원톱x27': 1, '그렇기에': 1, '희생의': 1, '기자】': 1, '아기대천문': 1, '자외선': 2, '물려줄': 1, 'quot재미있는': 1, '임신부의': 2, '증가하는': 1, '생각이': 2, '신청서를': 1, '앉혀놓았다': 1, '짜증': 1, '김재호': 1, '살펴봤어요': 1, '하러': 1, '쉬워질까': 1, '맞춰': 1, '때문에': 3, '있지만': 1, '이야기해볼려구용': 1, '배움터를': 1, '경탄을': 1, '육아웹툰': 1, '이미': 1, '작곡': 1, '차단제를': 1, '합니다': 5, '키가': 1, '자유시간이': 1, '좀': 3, '설정이': 2, '16주': 1, '넘어': 1, '해요': 1, '임심중식단': 1, '친척들에게': 1, '남편': 2, '사라quot…증권가가': 1, '쿠잉': 1, '주말': 1, '2차': 1, '가까이까지': 1, '편집하고': 1, '빨래': 1, '딸기혈관종이란': 1, '형태로': 1, '편이다': 1, '다우': 1, '가기': 3, '정도는': 1, '안되더라구요': 1, '초등학교에': 1, 'quot비상계획': 1, '곧잘': 1, '잇님들': 1, '사춘기x27를': 1, '아기랑': 1, '온라인수업을': 1, '인슐린저항성': 1, '우리가': 2, '23개월이': 1, '영아는': 2, '병원을': 1, '12·12': 1, '주제별로': 1, '커주고': 1, '책가방을': 2, '오히려': 1, '않아': 1, '반영한': 1, '없는게': 1, '메디칼럼8가려움이': 1, '크림빵과': 1, '같은': 5, '줄게quot': 1, '신생아대천문': 1, '짜증부터': 1, '생활비에': 1, '별거': 2, '美도': 1, '양천': 1, '‘태오가': 1, '지지율': 1, '과잉보호가': 1, '점차': 1, '복지에': 1, '모습을': 3, '봐요': 1, '자분': 1, '마주하게': 1, '양면테이프': 1, '얘기를': 1, '다운로드': 1, '써봅니다': 1, '주머니로': 1, '학교생활에': 1, '들었다': 1, '별': 1, '시작하면': 1, '“같이': 1, '아이의': 6, '충분히': 1, '아빠넷에서는': 1, '직접': 4, '되어': 3, '모드로': 1, '합': 1, '중국': 1, '새로울': 1, '수많은': 1, '문제일까': 1, '출렁…미': 1, '주담대': 1, '흔들흔들': 2, '심상치': 1, '사람같이': 1, '안': 5, '담은': 1, '하지': 1, '주·정차할': 1, '9시부터': 1, '이때': 1, '당첨번호': 1, '비타민D는': 1, 'vs': 1, '금치': 1, '저학년': 1, '공식은': 1, '중에': 1, '들어보셨나요': 1, '자각증상이': 1, '원래도': 1, '했어요': 1, '초록': 1, '체험학습': 1, '“얻어': 1, '스마트폰': 5, '되어줄게”': 1, '25세': 1, '수업을': 1, '검진에서': 1, '아빠들이': 1, '알아야': 1, '금지되어': 1, '및': 7, '요즘은': 1, '보이는': 1, '갈': 1, '하루일과표를': 1, '부자로': 2, '아기': 11, 'BJ': 1, '패션뷰티': 1, '방송통신': 1, '레시피': 1, '날이라': 1, '상황을': 1, '생각났거나': 1, '걱정이': 1, '속한': 1, '임신하면': 1, '결국': 1, '차': 4, '다시': 2, '회사소개': 1, '간과해': 1, '해결하는': 1, '첫걸음': 1, '쌓이는데…정부': 1, '로그인': 2, '지급기한': 1, '100°': 1, '청소년보호정책': 1, 'OPCON': 1, '등장': 2, '다녔기에': 1, '언제나': 1, '살인사건': 1, '부랴부랴': 1, '파도처럼': 1, '올해': 1, '관심주제': 1, '챙겨주고': 1, '낯설다': 1, '3가지': 1, '웹문서': 1, '“누변이': 1, '영아가': 1, '“난': 1, '열폭한': 1, '종이': 1, '얻지': 1, '몽유병과': 1, '후동맘': 1, '말했다': 1, '뉴욕증시': 1, '자라서': 1, '쇼핑캐스트': 1, '에디터가': 1, '2000명': 1, '태블릿': 1, '문해력을': 3, '자신이': 1, '숙제를': 1, '맡아두겠다고': 1, '문창섭': 1, '3배': 1, '‘시그널’을': 1, '일': 1, '이후': 2, '동물공감': 1, 'in': 2, '놨어quot': 1, '10': 1, '교사로': 1, '질문을하고': 1, '사용시기': 1, '하면서': 4, '입장에서는': 1, '난': 2, '놀이quot라고': 1, '작가': 2, '적절하게': 2, '나도': 4, '많고': 2, '된다면': 2, '찾고': 1, '수학문제를': 1, '검색': 2, '막달에': 1, '단팥빵도': 1, '차에': 1, '공연전시': 1, '올라온': 1, '당장': 1, '빠질': 1, '실타래게': 1, '있으며': 1, '실컷': 1, '아이들': 1, '180이': 1, '현대사': 1, 'US': 1, '식탁': 2, '성인이': 1, '부스터샷': 1, '34주': 1, '어깨아빠': 1, '이다': 1, '이렇게': 5, '작가님의': 1, 'come': 1, '표정을': 2, '6시': 1, '보호구역이라도': 1, '모다렐라': 1, '검진방법': 1, '원하는': 1, '전문가들을': 1, '있잖아요옹': 2, '눈에': 2, '배란다에서': 1, '내고': 2, '비상인데': 1, '사회관계망': 1, '젤리가': 1, '안재우고': 1, '느낌까진': 1, '인수합병”': 1, '임신질환은': 1, '번': 3, '흥부자라라에요': 1, '정부는': 1, '네이버를': 1, '‘오미크론’…미·캐나다': 1, '태오가': 1, '생기기': 2, '역할은': 1, '첫': 3, 'SNS': 1, '종착지': 1, '미분화된': 1, '있도록지금': 1, '할까': 2, '많다': 1, '씌인것': 1, '스포츠': 2, '있다고': 1, '상담하는': 1, '있던': 1, '소천문': 2, '올해부터는': 1, '통해': 5, '아이와는': 1, '해줬을까': 1, '4주만에': 1, '혁신과': 1, '번지는': 1, '먹으려고': 1, '나의': 3, '표정이': 1, '날씨가': 1, '눈물을': 1, '연쇄살인사건…마음': 1, '마무리하지요': 1, '아빠라면': 1, '보여': 1, '조금은': 2, '하루맘카페육아육아소통환영육아꿀팁육아공유육아일상부모교육부모육아코칭어린이집운영양천찔레꽃행복한': 1, '부쩍': 1, '영어를': 1, '가질': 1, '얼마만에': 1, 'quot조카': 1, '해당': 4, '업로드': 1, '개발자': 1, '바지': 1, '앞으로는': 1, 'S': 1, '지대한': 1, '“정말': 1, '수면장애의': 1, '새벽부터': 1, '아침부터': 1, '6개월': 1, '전면': 1, '과정에': 1, '생긴다': 1, '삶도': 1, '최애': 1, '참': 4, '강력할': 1, '지어낸': 1, '펴': 1, '여러분들도': 1, '기간두드러기가': 1, '앙쥬': 1, '빼고': 1, '햇빛쬐면서': 1, '보입니다': 1, '않다고': 1, '신나하는': 1, '가치와': 1, '식단과': 1, '병원': 2, '3일차': 1, '사춘기아이들이다보니': 1, '잦은': 1, '이순자에': 1, '편집한': 1, '실거래': 1, '스몰비즈니스': 1, 'x27풍선효과x27': 1, '일주일': 1, '세상에': 1, '떼': 2, 'lt노랑통닭gt': 1, '안다': 1, '美·EU': 1, '확대하고': 1, '뭐': 1, '남자': 1, '제한됩니다': 4, 'Agency': 1, '1시': 1, '티켓x27': 1, '무렵': 1, '흔한': 1, '약': 2, '정밀': 1, '대통령직속': 1, '허그맘': 3, '나': 2, '체육': 2, '12': 1, '모아놓은': 1, '온라인수업': 1, '지식너머출판사': 1, '인재채용': 1, '물백신일까': 1, '간절히': 1, 'whale': 1, '전두환': 2, '수선생님이': 1, '11': 1, 'D100이재명': 1, '동영상': 2, 'to': 1, '무엇을': 3, '손을': 2, '정말': 4, '바랐어요': 1, '별도의': 1, '4일차': 1, '성별이': 1, '있는': 8, '부모': 1, '아이에겐': 1, '배': 1, '과의존': 1, '남의': 1, '갓': 2, '있다가': 2, '회사는': 1, '태태매거진앨작가': 1, '아빠': 1, '법률': 1, '무슨': 3, '함께N': 1, '엄마만': 1, '음악': 1, '중학교': 1, '됴이dyoi': 1, '쓰는데요': 1, '아빠넷': 1, '새싹이가': 1, 'quot집': 1, '태도를': 1, '생각하는': 2, '늘어납니다': 1, '입학한': 1, '주문': 1, '21년도에': 1, '아이들은': 1, '양이': 1, 'VIP': 1, '리서치페이퍼': 1, '동일한': 1, '남기려고': 1, '싸인펜으로': 1, '대소천문': 1, '마음에': 3, '맑음': 1, '스포츠연예': 1, '악화': 1, '그때': 1, '스마트폰을': 1, '관심사에': 1, '팔로우를': 1, '↓↓': 2, '나와서': 1, '반항기에는': 1, '부모를': 2, '그래서': 1, '시간약속은': 1, '심리를': 1, '서울': 1, '없어도': 1, '부모로서': 1, '여뚱이': 1, '했던': 1, '그러면서': 2, '대화': 1, '입주예정': 1, 'SNS즐겨하는': 1, '등교를': 1, '대신해': 1, '전체언론사': 1, '라이트': 1, '것': 9, '위원회는': 1, '땐': 1, '말': 3, '건강검진일정확인': 1, '부담스러움은': 1, '공감하고': 1, 'x27사과x27': 1, '사용': 1, '그의': 1, '역시': 1, '위치': 1, '않은': 2, '앙쥬ange': 1, '현대인이라면': 1, '10월': 1, '4명': 1, '야경증이란': 1, '가구': 1, '준비는': 1, '이용': 1, '데이트폭력': 1, '심호흡': 1, '상황’…70살': 1, '메뉴설정': 1, '설정하기': 1, '추세다': 1, '이리': 1, '흔들흔들고래만들기': 1, '나질': 1, 'D2SF': 1, '文정부': 1, 'x27엄마사람': 1, '없으므로': 1, '트니트니에서': 1, '아시지요': 1, '비상교육': 2, '못했다': 1, '저장됩니다': 1, '보기': 4, '코인에': 1, '그렇네요': 1, '떠난': 1, '이럴': 1, '다수와': 1, '만나': 1, '아가씨때': 1, '선대위': 1, '얻을': 1, '모글리': 1, '그렁거리며': 1, '유년': 1, '눈썹': 1, '놀이하는': 1, '않는건': 1, '추첨': 1, '수도권': 1, '불러달라고': 1, '작은': 2, '요리': 1, '장소로': 1, '지정돼': 1, 'TOP': 1, '돈': 2, '아닐까': 1, '의심이': 1, '이유이기도': 1, '우울증은': 1, '33주': 1, '당연히': 1, '‘아이가': 1, '책': 2, '20대': 1, '근절': 1, '언제': 1, '아이에': 1, '동안': 1, '아픈': 1, '듣기도': 1, '언론사가': 2, '맞다는': 1, '해보니': 1, '반응이다': 1, '되도': 1, '돌보는': 2, '15년째': 1, '이': 1, '매일': 2, '충분하지도': 1, '걸음': 1, '오뉴': 1, '해야': 1, '새벽': 2, '가도': 1, '이해할': 1, '최악의': 1, '부모님의': 1, '설정': 2, '기분전환되고': 1, '함께': 6, '임당': 1, '의견충돌이': 1, '2021년': 1, '사실': 2, '아니고': 1, '살인을': 1, '58주': 1, '대부분의': 1, '질': 2, '키우는': 4, '잔금대출': 1, '다양한': 4, '임신했던': 1, '영유아검진': 1, '장기간': 1, '90년대생': 1, '20가량이': 1, '핀덴': 1, '귀여운': 1, '38주': 3, '상황에': 2, '받아라는': 1, '반응하는': 1, '끝나고': 1, '법을': 1, '앞두고': 1, '일까요': 1, 'Korean': 1, '싸우는': 1, '방법을': 1, '연일': 2, '받아보았는데요': 1, '해놓았어요': 1, '동생을': 1, '우리병원': 1, '되어서도': 1, '자식만큼은': 1, '학원부터': 1, '만든다': 1, '살이': 1, '현황': 1, '좋겠어x27': 1, '싶은': 3, '한': 7, '하필': 1, '의사소통': 1, '여성도': 1, '행복을': 1, '발전은': 1, '과학': 1, '다운받기': 1, '아닌데': 1, 'USD': 1, '드로잉아빠': 1, '감이': 1, '2년': 1, '놀아주고': 1, '인문학': 1, '4주일': 5, '등장으로': 1, '‘과잉보호’는': 1, '영유아': 5, '한다면': 1, '떼를': 1, '에디터의': 1, '소중하게': 1, '경우에는': 1, '엄마에게': 1, 'quot현대차': 1, '아늑한': 1, '싶었던': 1, '점점': 2, '이알로ㅜㅜ': 1, '했다': 1, '협의해서': 1, '애들은': 1, '수박이': 1, '운영하는': 1, '끝나는지': 1, '지원…다자녀': 1, '스트레스를': 1, '30대': 1, '국가들': 1, '걷다': 1, '재미있어quot': 1, '예쁜': 1, '그동안의': 1, '7억8200만원': 1, '다루는': 1, '사랑할게x27': 1, '병천면': 2, '태오맘라니': 1, '곤란한': 1, '71개월': 1, '한국': 3, '민주당': 1, '어린이와': 1, '위기의': 1, '오로지우아하게': 1, '놀아줘야': 1, '인권유린의': 1, '구독': 26, '엎친데': 1, '아이폰13·머스크': 1, '랩스': 1, '무통도': 1, '남부': 1, '넘어가니': 1, '시기별로있는거': 1, '”': 1, '따라': 4, '2인분을': 1, '출력합니다': 1, '이겨': 1, '많다고': 1, '대신해줘': 1, '있어서': 1, '대기…병상부족': 1, '30분': 1, '아이콘이라는': 1, '고민하는': 1, '경험과': 1, '아내': 1, '대천문닫히는시기': 1, '목적지': 1, '1차': 2, '속마음': 1, '난이도의': 1, '웨일': 2, 'query': 1, 'TV': 1, '맞아서': 1, '부족하게': 1, '부동산360': 1, '아이폰': 1, '문화': 1, '우주가': 1, '일어나서': 1, '포럼x27': 1, '리더십': 1, '취소하고': 1, '소아과': 1, '돌고래쇼': 2, '내일': 1, '불충분하고': 1, '성자였던': 1, '「아이의': 1, '미안한': 1, '미칠': 2, '당분간': 1, '말quot': 1, '있기': 1, '어린이': 3, '입밖으로': 1, '손': 1, '아프리카TV': 1, '발언': 1, '발표는': 1, '병상': 1, '확인과': 1, '예쁘죠': 1, '싶어서': 1, '치료비': 1, '전부이듯': 1, '결정을': 1, '대부분은': 1, '문창섭입니다': 1, '한다자신의': 1, '놓여': 1, '물론': 1, 'intend': 1, '발진': 2, '돈의': 1, 'SNS에': 1, '저걸': 1, '매우': 1, '신경': 1, '시대지혜로운': 1, '브랜드의': 1, '웹툰': 3, '🎨만드': 1, '4아이들이': 1, '임신성': 1, '흉상': 1, '행동반경이': 1, '받았습니다': 1, '잘': 3, '위험': 3, '부분을': 1, '유발원인은': 1, '관리': 2, '판': 1, 'quot이거': 1, '보링보링입니다': 2, '흉기': 1, '재접근기가': 1, '일환으로': 1, '물어야quot': 1, '시간을': 6, 'n살x60이라는': 1, '훈육': 1, '없는오돌토돌': 1, '곳에': 1, '‘자연·힐링x27': 1, '시켜야': 1, '첫째에게': 2, '작가진쌤': 1, 'x27임신소양증x27': 1, '한다고': 2, '😢': 1, '멋진': 2, '준비하기': 1, '‘밀당’의': 1, '해서': 2, '‘한계': 1, '사과': 1, '시기': 2, '그러나': 1, '연령이': 1, '연기…왜': 1, '증상': 4, '해솔맘': 1, '악영향을': 1, 'quot새': 2, '예뻤다': 1, '고지서에': 1, '열대야까지': 1, 'NAVER': 4, '대부분이죠': 1, '15만명에': 1, '1년': 2, '정하세요': 1, '람': 1, '틈': 1, '선생님들도': 1, '시간': 1, '최초의': 1, '정보비공개': 1, '판인': 1, '종합경제': 1, '질문이다': 1, '싸우는데': 1, '보지': 3, '진짜': 1, '입학을': 1, '이지현': 2, '부러웠어요': 2, '공해로': 1, '저런': 2, '29일부터': 1, '을를': 4, '먹고': 2, '라이프': 1, '평범해x27': 1, '조심하라는': 1, '좋음': 2, '심기를': 1, '한번': 1, '사전': 2, '출혈': 1, '찼잖아': 1, '삭제': 1, '요인입니다': 1, 'chiefs': 1, '끝단이': 1, '월': 1, '아니지만': 1, '엉켜있을때는': 1, '구독하시면': 1, '93조': 1, '부탁드려요이길현': 1, '꽃': 1, '핸드폰에서': 1, '머무른다': 1, 'txt': 6, '실제로': 1, '보아요': 1, '청바지때문에': 1, '누구도': 1, '해도': 1, '신청서': 1, '6가': 1, '쥬니어네이버': 1, '싶거나': 1, '하시겠습니까': 4, 'FARM': 1, '2자녀부터': 1, '36주': 1, '까지의': 1, '관심있는': 1, '일자핏': 1, '괴로워”': 1, '있다는': 1, '건강검진의': 1, '양쪽으로': 1, '쓰나미”vs“세계가': 1, '발생해서': 1, '다운로드받아': 1, '되더라구요': 1, '시장개입': 1, '있습니다': 7, '돈공부를': 1, '있는지': 2, '기질이': 1, '여러종류': 1, '큰': 2, '딸·내': 1, '라라': 1, '뉴스스탠드': 3, '임신': 12, '유죄quot': 1, 'x27변수x27': 1, '내일부터는': 1, '썼고': 1, '신경이': 1, '자신의': 2, '친구에게': 1, 'x27스우파': 1, '데이트': 1, '생긴': 1, '심심해': 1, '알잠': 1, '않았다': 1, '밤까지': 1, '경제': 2, '디자인': 1, '대선': 2, '괜히': 1, '조치': 1, '하는데요': 2, '열무라는': 1, '보셨나요': 1, '일했다': 1, '12일이라고': 1, '라고': 1, '부지런하고': 1, '차량용': 1, '제공합니다': 1, '강의를': 1, '봅니다': 1, '신기하기도': 1, '전두환의': 1, '냈다': 1, '생기기만': 1, '13': 2, '많은': 1, '영유아를': 2, '새로운': 3, '50대': 1, '걸쳐': 1, '연습하기': 1, '동생에': 1, '별이에게': 1, '예상': 1, '두드러기': 2, '여덟': 1, '국제보건기구Global': 1, '음식으로': 1, '블로그': 2, '변화를': 2, '마음을': 1, '무시무시한': 1, '검사': 2, '대천문과': 1, '기질': 1, '잘': 1, '아련연콩': 1, '좋아하는': 2, 'Sign': 3, '내PC': 1, '앞다퉈': 1, '자라면서': 1, '정해진': 1, '다자녀': 2, '드로잉오뉴': 1, '방문을': 1, '며칠인지는': 1, '폭스래빗': 1, '🎨준비물': 1, '날마다': 1, '감동이다': 1, '의젓함도': 1, '넘게': 1, '되면서': 1, '일본어사전': 1, '수없다는': 1, '“엄마가': 1, '이상': 2, '말인가': 1, '‘바다·커피x27': 1, '온': 1, '화려한': 1, '양서다': 1, '자가격리': 3, 'x27오미크론x27…quot델타보다': 1, '딸': 1, '금융당국': 1, '日': 1, '집이': 1, '않는다고': 1, '했는데': 2, '이야기입니다': 1, '생각': 1, '김종성의': 1, '밤': 2, '다음날은': 1, '변화': 1, '대형': 1, '이후의': 1, '은행들': 1, '공장': 1, '전국적으로': 1, '장애인': 1, '저에게는': 2, '급락': 2, '의지': 1, '쏜다': 1, '3마리의': 1, '들어간': 1, '효과가': 1, '보호구역': 1, '중요한데': 1, '단독“이재명': 1, '안에': 1, '좁혀지는': 1, '12주': 1, '회사를': 1, '근시': 1, '연애·결혼': 1, '어린이보호구역': 1, '모드': 1, '하나': 2, '산부인과외래': 1, '않나요말도': 1, '꺼져': 1, '꽉': 2, '엄마의': 3, '일이': 3, '인스타에서도': 1, '이젠': 1, '개설': 1, '해주지': 1, '있어': 2, '머리뼈보다': 1, '가만히': 1, 'quot이재명': 2, '신드롬x27': 1, '가면': 1, 'x60미운': 1, '만들기': 2, '체중': 3, '방식으로': 2, '사회적으로': 1, '형제관계': 1, '예정일을': 1, '혹은': 2, '놀이하자고': 1, '권현경': 1, '공기': 1, '오빠가': 1, '정하기아이와': 1, '부모는': 1, '검사와': 1, '등에': 2, '빠지지': 1, '오늘': 3, '않았는데요': 1, '거짓말은': 1}\n",
      "\n",
      "4. 필터링 후 단어의 개수: 2962개\n",
      "\n",
      "5. 불용어 필터링 후 출현빈도 수\n",
      "\n"
     ]
    },
    {
     "name": "stdout",
     "output_type": "stream",
     "text": [
      "{'사랑을': 1, '떠났다': 1, '지났는데': 1, '2가지': 1, '울음이': 2, 'A': 2, '고래': 3, '두다': 1, '꾸며도': 1, '경력직이지만': 1, '육아법은': 1, '부려': 1, '머리를': 1, '보았어요': 1, '쓰며': 1, '것은': 2, '센터': 1, '세계보건기구WHO는': 1, '순간이든': 1, '부모i': 59, '당뇨병이': 1, '수축으로': 1, '참견': 1, '양육해': 1, '하고': 12, '아이에게': 5, '생각했는데': 1, '반영키로': 1, '노는': 1, '마음속에서': 1, '입원❤️🩹': 1, '몰려': 1, '이름있는': 1, '보아하니': 1, '맞아”': 1, '이제': 5, '국어사전': 1, '스토어': 1, '세뱃돈이나': 1, '예비둘째맘': 1, '경험에': 1, '마트에': 1, 'vaccine': 1, '영향으로': 1, '아이와의': 1, '말고': 1, '소중한': 1, '개체임을': 1, '너무나': 1, '김종원': 1, '시지’보다는': 1, '마음이었다': 1, '주중에': 1, '취소': 4, '우선순위에': 1, '아들이': 1, '물어봐요': 1, '해”': 1, '확인해야만': 1, '폭력x27이라': 1, '화난': 1, '됴이': 1, '계속되는': 1, '비판하는': 1, '5에서': 1, '가능성이': 1, '보았지만': 1, '20년째': 1, '줄어들고': 1, '받는것이야': 1, '변호사비': 1, '046': 1, '말끝을': 1, '제한': 1, '건너편의': 1, '패디': 1, '청년': 1, '접근이': 4, '한다': 5, '알게하자': 1, '저장해': 1, '적응해': 1, '않습니다': 1, '하죠': 1, '걸까요': 1, '울산의': 1, '‘감성·캠핑x27': 1, '첫째가': 3, 'ㅜㅠ': 1, '산부인과는': 1, '미세': 1, '맞다quot': 1, '임신부에서': 1, '분위기는': 1, '20억': 1, '찔레꽃': 1, '개의': 1, '필수입니다': 1, '시작하는': 1, '뉴스원샷': 1, '3년': 1, 'quot한일관계': 1, '속도': 2, '이재명': 2, '밉기도': 1, '집': 1, '막무가내로': 1, '이야기를': 1, '위한': 3, '인간이기를': 1, '다': 2, '받을': 3, '소천문이': 1, '그간': 1, '확진자들': 1, '요인은': 1, 'Covid': 1, '열일했나봐💦💦💦': 1, '쓰였다': 1, 'Q1': 1, '고래와': 1, '어김없이': 1, '오미크론quot': 1, 'B형간염예방주사': 1, 'x27일터의': 1, '둘째가': 1, '새록새록그리고': 1, '먹어서도': 1, '갔다가': 2, '속은': 1, '정부': 1, '넘어졌어quot': 1, '이유식을': 2, '휘둘러quot': 1, '병가처리': 1, '싸웠다': 1, '자주': 2, '오미크론quot‥글로벌': 1, '내가': 6, '단': 1, '아닌지': 1, '편집된': 1, '제약을': 1, '반경이': 1, 'Username': 1, '헤드라인': 1, '뉴스들을': 1, '했음에도': 1, '썸네일형': 1, 'message': 1, '달라지기도': 1, '여유': 1, '할거라는': 1, 'x27나도': 1, '다크': 1, '키우다': 2, '네이버': 8, '돼서': 1, '많습니다약도': 1, '3주일': 2, 'China': 1, '변이에': 1, '35년으로': 1, '대로만': 1, 'x27이런x27': 1, '많이': 8, '양육‧교육': 1, '진통': 1, 'quot': 1, '개정': 1, '1시간': 1, '4시': 1, '만나보셧어요': 1, '보내길': 1, '스마트폰만으로도': 1, '울부짖고': 1, '신생아': 4, '20만원’': 1, '너무': 6, '이게': 2, '포즈를': 1, '보실': 2, '사람이': 2, '월요일': 1, '24주': 1, '없다': 3, '부모의': 2, '모체는': 1, '호르몬의': 1, '초등학생이고': 1, '금융': 1, '알아볼게요': 1, '씻긴뒤': 1, '있어”': 1, '코로나가': 1, '같을까': 1, '적정표를': 1, '시간이': 2, '일이에요': 1, '나왔다': 1, '들어보고': 1, '상어를': 1, '돈은': 1, '깨워서': 1, '말에': 3, '아이가': 12, '애들': 1, '있었던': 3, '제대로': 3, '흔들어quot…감찰': 1, '반문하기도': 1, '단독': 1, '제일': 1, '살아': 1, '차인': 1, '사람들은': 2, '아마': 1, '승부수는': 1, '울거나': 1, '센': 1, '기능이': 1, '상상하지': 1, '않죠그중': 1, '시스템': 1, '89': 1, '풀수가': 1, '스핀스핀': 1, '가려움증과': 1, '내일모레': 1, 'Password': 1, '주려': 1, '다르게': 1, '주어진': 1, '사랑하고': 1, '경험도': 1, '진술서': 1, '포스팅을': 1, '시절에': 1, '다니고': 2, '조정': 1, '새싹이는': 1, '인문학」': 1, '경우': 1, '욕구': 1, '아이들을': 1, '돈을': 3, '아프지': 1, '종일': 1, '이상이': 1, '훈육을': 1, '가족': 1, '치즈엄마': 1, '종종': 1, '정인이': 1, 'x27지금': 1, '싶지만': 1, '체중관리는': 1, '부모가': 4, '관심이': 1, '가보니': 1, '붙여주세요': 1, '찾아오는': 2, '맡아서': 1, '여름휴가': 1, '투매x27': 1, '사춘기': 1, '임산부': 5, '4아이맘': 1, '성장기이고': 1, '아이는': 5, '정기검진': 1, '취침하셨습니다': 1, '있어서인지': 1, '할': 8, '실격': 1, '만들어': 4, '쇼핑LIVE': 1, 'x27겉은': 1, '지속적으로': 1, '친구들': 1, '열꽃': 2, '후에': 1, '그제서야': 1, '임신이': 1, '않': 1, '마련의': 1, '기대가': 1, '때문이다스스로의': 1, '먹이고': 1, '진림해일에요': 1, '사는': 1, '경향이': 1, '해보려구요': 1, '띄었어요': 1, '바닥에': 1, '빵이': 1, '닫기': 9, '다툼': 1, '잠을': 1, '표현하는': 1, '4장으로': 1, '워킹맘': 1, '아이지만': 1, '텐데': 1, '발생하는': 1, 'x27묻지마': 1, '감추려는': 1, '불편하게': 1, '것이': 2, '평생': 1, '지켜져야': 1, '돌발진의': 1, 'CJ': 1, '순간': 1, 'K세금”': 1, '육아공감': 1, '카페명': 1, '10일간의': 1, '갖지': 1, '없던': 2, '자분자연분만만': 1, '2세': 1, '등록': 2, '전': 59, 'quot부산': 1, '분만실에': 1, '것quot': 1, '여뜡이예요': 1, '단어': 1, '이슈': 1, '이하의': 1, '한참': 1, '싶으면': 1, '윤석열·김종인…x27도로한국당x27': 1, '겪는다면': 1, '교외': 1, '사람이었지만': 1, '돌아다니는': 1, '맛': 1, '쏘야': 1, '좋을지에': 1, '안간다는': 1, '민구리아': 1, '금요일': 1, '안가는날': 1, '비급여': 1, 'quot주말에': 1, '과태료': 2, '품어서': 1, '못할까': 1, '조선비즈': 1, '건강까지': 1, '고래를': 1, '습한': 1, '별도로': 1, '증설에': 1, '완벽하지': 1, '나왔을': 1, '논의하겠다quot': 1, '뭔가': 4, '심하게': 1, '독서에': 1, '영향을': 1, '금방': 1, '밀크반점': 2, '12만': 1, '튼살': 1, '이쑤시개': 1, '안그린': 1, '있을지': 1, '못봤으면': 1, '위치해': 1, '날카로워져': 1, '여성': 1, '유치원을': 2, '전적으로': 1, '평일에': 1, '😆': 1, '날아왔다…': 1, '몰라': 1, '않으면': 2, '있겠냐며': 1, '트러블들이': 1, '전체': 1, '경험한': 1, '생각하던': 1, 'people': 1, '급격한': 1, '울고': 1, '올인…건물주': 1, '일이다': 1, '발전한': 1, '기술의': 1, '산맥의': 1, '210809': 1, '친구들과': 3, '아니라고': 2, '부작용': 1, '컨텍스트': 4, '탓에': 1, '37일': 1, '어디로': 1, '욕구를': 1, '것만으로는': 1, '초등학교때는': 1, '금지를': 1, '생겼더라고요': 1, '노력': 1, '괜찮을까': 1, '또': 1, '관심사를': 1, '없습니다': 2, 'Forgot': 1, '방법': 3, '나서도': 1, '양모': 1, '물건과': 1, '온기와': 1, '녹여': 1, '언제란': 1, '들고와봤어요': 1, '‘돌발진’': 1, '영향': 1, 'ㅠㅠ': 1, '전파력': 1, '반도체기업': 1, '엔터': 1, '되는': 1, '15분에': 1, '만삭인': 1, '응급실': 2, '자식이다': 1, '‘엄마’라는': 1, 'x27모델3x27': 1, '천명': 1, '결과가': 1, '2배…': 1, '귀찮다고만': 1, '것까지': 1, '재우려고': 1, '후기': 1, '못합니다': 1, '단축해도': 1, '떠올린다': 1, '미안하기도': 1, '1개월': 13, '피부에': 1, '골자로': 1, '된': 3, '부모마음': 1, '머리채': 1, '수업이라': 1, '마팀장의': 1, '친구와': 1, '만드는': 1, '그림에다': 1, '쏟아지는': 1, '빗나간': 1, '변이는': 1, '올게요quot': 1, '우리아이입니다': 1, '안놔주고': 1, '알아볼것은': 1, '터울인': 1, '배회x27': 1, '쉬언찮을': 1, '이야기는': 1, '중2병': 1, 'K방역…전문가들': 1, '그놈의': 1, '없는데x27': 1, '건강검진은': 2, '한장': 1, '강타···SP': 1, '크면': 1, '치즈는': 1, 'x27커커와찌찜무x27': 1, '삼칠일': 2, '하네요': 1, 'x27나는': 1, '3분의': 1, '자동저장': 1, '문제로': 1, '기회를': 1, '덮친격…남아공': 1, '충주호와': 1, '아동학대': 1, '어린이들은': 2, '부분이': 1, '다리에': 2, '문의': 1, '보내고': 1, '소명자료까지': 1, '“괴롭다': 1, '명명': 1, '입원했다😨': 1, '①': 1, '관리하려는': 1, '사이트': 2, '말들을': 1, '일인데요': 1, '몰라도': 1, '1…': 1, '전담': 1, '중': 6, '당뇨가': 1, 'x27거리': 1, '만나요👋': 1, '원인과': 1, '작사': 1, '막내의': 1, '내용은': 1, '코로나바이러스감염증19': 1, '엑스퍼트': 1, '너무너무': 1, '다니기에': 1, '못': 4, '책방': 1, '입원하라는': 1, '중입니다': 1, '초기화': 3, '쓰리쓰리': 2, '최대': 2, '닫히는': 2, 'discuss': 1, '악을': 1, '삶': 1, '그림책': 1, '탈탈탈': 1, '만취': 1, '자기소개': 1, '없어”…': 1, '모든': 6, '구독해지': 4, '꾸밀': 1, '둘째': 3, '경쟁률': 1, '갈등의': 1, '부족에': 1, '자책한다': 1, '서류를': 1, '안들어”': 1, '상황이': 3, '책임': 1, '구성원이': 1, '신고': 1, '인스타그램': 2, '사용시간을': 1, '판넬까지': 1, '4단계': 1, '안돼요': 1, '엄마가': 6, '낳는다': 1, '많은데요': 1, '꼭': 2, '누군가': 1, '고집': 1, '일어나길래': 1, '말씀에': 1, '한번씩': 1, '현': 1, '조사': 1, '장난감으로': 1, '짜보면서': 1, '영어사전': 1, '24일': 1, '분화된': 1, '개인의': 1, '가르치고': 1, '울음으로': 1, '난다면': 1, '번도': 1, '4개월': 11, '자동완성': 6, '없었는데': 1, '여름방': 1, '태아에게': 1, '더블유에': 1, '하나가': 1, '해지': 24, '사람들을': 1, '우주가': 1, '너랑': 1, '문제에요': 1, '위해': 2, '돌발진과': 1, '우리아이': 1, '부자': 1, '이유는': 2, '리정': 1, '요즘': 2, '두려움과': 1, '들었을': 1, '들여다봤다': 1, '주셨던': 1, '걸': 2, '들지': 1, '구조대': 1, '제한WHO': 1, '확진': 2, '부모끼리': 1, '데일리': 1, '영어유치원': 1, '활동도': 1, '한솔교육': 1, '밝지': 1, '된다고': 1, '형제': 2, '개편': 1, '어떡하죠': 1, '교통‧문화시설': 1, '지난': 2, '담아서': 1, '둘째아이까지': 1, '봐야': 1, '아빠육아휴직': 1, '싫은지ㅋㅋㅋ': 1, '실감이': 1, '들어요': 1, '스크린': 2, '육아일기': 2, '알': 2, '책상': 1, '아니야': 1, '상에': 1, '임신29주': 1, '시청자': 1, '싶지도': 1, '5개월': 2, '놀잇감을': 1, '폭력이라니…': 1, '결정되는': 1, '증시': 4, '묻습니다': 1, '가르치는': 1, '브라우저': 1, '말하는': 2, '40주': 1, '존댓말을': 1, '부른다': 1, '테슬라': 1, '정책지원': 1, 'ㄷㄷ': 1, '늦었다quot': 1, '조카': 3, '비타민D를': 2, '했다며': 1, '육아공감': 1, '건': 1, '생후': 2, '얼굴': 3, '학교에': 1, '데리고': 1, '한자사전': 1, '시행됐습니다': 1, '오후에도': 1, '초음파도': 1, '경험을': 1, 'Pay': 1, '오래한': 1, '것이다': 3, '막막한': 1, '해서는': 1, '자산': 1, 'x27오미크론x27으로': 1, 'ㅎ': 1, '움직이며': 1, '이여라': 1, '없는': 4, '증가': 1, '경험담': 1, '마음은': 2, '의도': 1, '문제가': 2, '질문을': 1, '발생': 1, '인': 1, '메일': 1, '생길': 2, '꾸준히': 1, '신체': 1, '이어지고': 1, '체감도': 1, '전체보기': 2, '좋을까요아이를': 1, 'ㅎㅎ': 3, '볼': 4, '시간이기도': 1, '가장': 2, '학원까지': 1, '소통을': 1, 'quot학교': 1, '상식': 1, '태아의': 1, '초보': 1, '못해서': 1, '것을': 1, '앉아서': 1, '싫지도': 1, '최고': 1, '경찰': 1, 'x27언론사': 1, '향다': 1, '놓치지': 1, '믿고': 1, '아침': 1, '시대에': 1, '않고': 4, '스토리x27': 1, '°': 1, '작년까지만': 1, '걱정되는': 1, '리빙': 1, '적어보려': 1, '학원': 1, '논란도': 1, '기사보기': 24, '듯': 1, '신문1면': 1, '12주16주': 2, '얻었나': 1, '사람들이': 1, '아닌': 2, '존재': 1, '새치든': 1, '소천문닫히는시기': 1, '있는데요': 1, '세우면': 1, '집안일': 1, '일종입': 1, '것처럼': 1, '이제껏': 1, '덥고': 1, 'quot선택에': 1, '카페': 2, '잃어버릴': 1, '정하고': 1, '딱풀맘': 1, '코로나19': 1, '소개했다': 1, '능동적이며': 1, '이겨내': 1, '볼까요': 1, '영힘든게': 1, '있으면': 2, '우는': 3, '배가': 1, '다니던데': 1, '학교도': 1, '게임을': 1, '없인': 1, '다음': 1, '첫째': 3, '6일': 1, '못한': 5, '이름': 2, '주요한': 1, '하기': 1, '자동완성을': 1, '2시간': 1, '시간은': 1, '화가났는데': 1, 'Developers': 1, '살해했는데': 1, '사용하므로': 1, '39°': 1, '연기': 1, '영자지': 1, '아기에게': 1, '짓고': 1, '아이패드로': 1, '비즈니스': 2, '분류된': 1, '배려하는': 1, '국제금융시장': 1, '의외의': 1, '사이에': 1, '미뤄졌나': 1, '입니다': 1, '넓어지고': 2, '그동안에는': 1, '사람들ㅋㅋ': 1, '제법': 2, '기자】지난': 1, '물': 1, '색연필이나': 1, '최근검색어': 1, '모르기보다': 1, '발목에': 1, '오은영': 1, '보이는지': 1, '동물': 1, '전달하고': 1, '지났는지를': 1, 'D2': 1, '특수관리': 1, '가족의': 1, '적발되면': 1, '수도quot': 1, '시간과': 1, '귀염뽀짝': 1, '제휴제안': 1, '한데요…': 1, 'ENM': 1, '화이자·모더나': 1, '지금': 1, '출산': 3, '몬순은': 1, '바나나우유를': 1, '‘월세': 1, '보고서': 1, '비타민D입니다': 1, '폭증세…“돌파감염': 1, '되어있더라고요': 1, '평소': 1, '고위험': 2, '놀이터에서': 1, 'Health': 1, '3조': 1, '돌연변이가': 1, '80년': 1, '영역에서': 1, '커지는': 1, '세상에도': 1, '초콜릿이나': 1, '곰소': 1, '높다”': 1, '전반에': 2, '힘들까': 1, '35357': 1, '대통령…quot죽음조차도': 1, '21일부터': 1, '검진날': 1, '갔건만': 1, '군사': 1, '물로': 1, '검진이': 1, '싶은데': 1, '가게': 1, '임신중독증과': 1, '두꺼운': 1, '싸운다는': 1, '안써지네요': 1, '딸기혈관종': 1, '자부담…김총리': 1, '싶어quot': 1, '받으면': 2, '오래오래': 1, '보니': 1, '어른이': 1, '청약': 1, 'JOBamp': 1, '인상…국민·우리·하나銀': 1, '시간에': 1, '보는': 2, '홈에서': 1, '집콕놀이85': 1, '오늘이': 1, '있나quot': 1, '높아짐에': 1, '임신단축근무가': 1, '치카를': 1, '되려고': 1, '공포에': 1, '찾아가': 1, '친구': 1, '자고': 1, '표시가': 1, '오전': 1, '근육이': 2, '놀라운': 1, 'expiration': 1, '참여해야만': 1, '만든': 1, '돌고래도안': 1, '사용됨으로': 1, '설정은': 1, '추억도': 1, '‘지금': 1, '자다가': 2, '특별한': 2, '우선적으로': 1, 'x27데이트': 1, '수에': 1, '종부세': 2, '국민건강보험에서': 1, '있을': 1, '살': 1, 'ㅋㅋㅋㅋㅋㅋㅋㅋㅋㅋㅋㅋㅋㅋㅋㅋㅋㅋ': 1, '엄마표장난감': 1, '마법의': 1, '받지': 1, '자제시키는': 1, '감염': 1, '쉽게': 1, '4월': 1, '있지': 1, '추가되었습니다': 2, '여행': 3, '피어싱': 1, '시기별': 3, '다사용한': 1, '위드': 1, '모르게': 1, 'x27네': 1, '치질기': 1, '말기': 1, '개입할수': 1, '부인': 1, '내년': 1, '쉴': 1, '간': 1, '가면서': 1, '서부티엔디리츠': 1, '편곡…‘프리콘’': 1, '현장': 1, '영영사전': 1, '하루에': 1, '초미세': 1, '하나다': 1, '340만명': 1, '않을까': 2, '뉴스': 2, '더보기': 2, '난산': 1, '세심하게': 1, '해가': 1, '싫어하지': 1, '읽는': 1, '다녀올때마다': 1, '카테고리': 1, '불만': 1, '헌정사상': 1, '구별할': 1, '육아일상을': 1, '도움말': 5, 'quot역할': 2, '느': 1, '잡고': 2, '뭐야': 1, '쓰고': 1, '돌고래': 4, '산모와': 1, '가계': 1, '수도': 1, '아장아장': 1, '세상의': 1, '굴욕자세로': 1, '만날게요': 1, '중요하지': 1, '오래': 1, '아파트값': 1, '증시·유가': 1, '계속되며': 1, '적절한': 1, '전문자료': 1, '한데요': 1, '임신성당뇨병은': 1, '인간계를': 1, 'Creators': 1, '엄마': 8, 'quot엄마': 1, '지후를': 1, '닥쳐오는': 1, '통합검색': 1, '야제증은': 1, '아로와나재단': 1, '확진자가': 1, '컴퓨터와': 1, '쿠데타와': 1, '경제M': 1, '초등학생': 1, '언론탄압': 1, '4살이': 1, '걱정과는': 1, '최근': 1, '진료비': 1, '있었다': 1, '먹은게': 1, '임신을': 1, '‘재난적': 1, '증거금': 1, '처럼': 1, '있었지만': 1, '마인드를': 1, '노동자들': 1, '12시간': 1, '행정심판': 1, '저출산‧고령사회위원회이하': 1, '40°': 1, '공간의': 1, '3489934': 1, '대상으로': 2, 'x27여유x27': 1, '무력화': 1, '엄마표놀이': 1, '고마워': 1, '같습니다': 2, '확진자': 1, '유치원': 1, '태어났을': 1, '하며': 1, '‘쇄신’의': 1, '배려를': 1, '문해력으로': 1, '기본계획': 1, '매끈매끈하고': 1, '현재는': 1, '줄어들지': 1, '내진': 3, '사용해보세요': 1, '윤석열': 3, '이·윤': 1, '스케치북을': 1, '어린이집을': 1, 'x27NFT': 1, '열무가': 1, '사랑스러운': 1, '교사': 1, '관대한': 1, '나들이를': 1, '육아멘토': 1, '겪게': 1, '신생아에': 1, '하려고': 1, '변이’': 1, '세상에서가장큰학교': 2, '223': 1, '풀케어': 1, '와서': 1, '한글': 1, '나홀로': 1, '게': 3, '만든거야': 1, '만삭전까지': 1, '나이로': 3, '6년간': 1, '있었으면': 1, '내역이': 1, '있게': 1, '의하면': 1, '들어오는': 1, '지내길': 1, '“‘뉴': 1, '모습이': 1, '되어줄게': 1, '섞여서': 1, '고통': 1, '정보를': 1, '태아': 1, '항목': 2, '영어': 1, '과학북미': 1, '내내': 1, '매표買票’의': 1, '없이': 3, '의존적인': 1, '가야게따': 1, '자녀': 1, 'currency': 1, '날치든': 1, '할까요': 2, '네일이랑': 1, '알아볼까요': 1, '스토리엄마아빠': 1, '셋째날은': 1, '규제·대출': 1, '햇빛을': 2, '주제로': 1, '원인을': 2, '미치는': 2, '메모': 1, '멀어지는': 1, '보고는': 1, '어쩌죠': 1, '대천문': 2, 'x27입술x27': 1, '그렇게': 1, '아빠가': 1, '시기에': 1, '“대재앙급': 1, '델타': 1, '스마트폰의': 2, '가치관을': 1, '악재': 1, '쇼미더머니10': 1, '언론사를': 1, '부모님이': 1, '시작되었습니다': 1, '대화를': 1, '동성의': 1, '정맥류': 2, '눈높이러닝센터에서': 1, '지식iN': 2, '콘서트': 1, '과잉보호': 1, '아니다': 1, '화면을': 2, '바꾸세요quot모순된': 1, '섞여있네요': 1, '출자quot공장': 1, '갖고': 1, '청소': 1, '접어들고': 1, '있어서': 1, '활용quot': 1, '폭락': 1, '특히': 1, '받는다': 1, '시원하고': 1, '방법은': 1, '명절': 1, '요구도': 1, '완벽하게': 1, '기업x27': 1, '날': 1, '슬슬': 1, '네이버·카카오': 1, '모습만': 1, '임신29주8개월': 1, '삼성전자': 1, '보내는': 1, '노출되는': 1, '수가': 1, '기억해야': 1, '책방구': 1, '실수하고': 1, '모음': 1, '높아진다': 1, '울퉁불퉁한': 1, '챙기고': 1, '40분': 1, '대해': 4, '듯”': 2, '그건': 1, '때문인거': 1, '진단하고': 1, '1개월이': 1, '규칙이므로': 1, '코로나': 11, '바로가기': 7, '아이를': 9, '구독한': 4, '쇼핑': 3, '않기': 1, '해왔어요': 1, '대응을': 1, '열': 1, '7개월': 8, '함께해야': 1, '먹는': 1, '대한민국': 1, '척이': 1, '언론사에': 2, '사소한': 1, '인해': 3, 'x27블프x27': 1, '놀고싶은': 1, '곰곰이': 1, '과거라면': 1, '실시하는': 1, '터울이': 1, '할지': 1, '게임': 2, '지쳐있지는': 1, '없었던': 1, '시작하잖아요': 1, '같아': 1, '투자자': 1, '파도': 1, '노력이': 1, '울음과': 1, '선택의': 1, '검색어': 2, '세계증시': 1, '차리기까지': 1, '300만원까지': 1, '보면': 3, '자세히보기': 1, '첫날': 1, '전연령을': 1, '물렁물렁한': 1, '힘겹게': 1, '밥을': 1, '아래': 1, '만나는': 1, '앞': 1, '사랑해': 1, '노하우': 1, '일시': 1, '조정해야': 1, '리스트형': 1, '것도': 2, '인물': 1, '법인': 1, '다니면': 1, '말한다': 1, '양천구구립파란들어린이집금쪽같은': 1, '가끔': 1, '20분': 1, '들어줄': 1, '유산이': 1, '정상인데': 1, '위중증': 1, '산모는': 1, '사용법': 2, '프로그램': 1, '바이윤기': 1, '의료비': 1, '90504': 1, '홍·안의': 1, '사회적거리두기': 1, '될': 2, '오픈소스': 1, '8살이': 1, '아이들이': 4, '주37주': 1, '초등학교': 3, '백일': 1, '일만': 1, '후에도': 1, '환자': 1, '사용자': 1, '돌': 3, '걷기': 1, '엿보이는': 1, '117개': 1, '영화': 3, '경험하지': 1, '커커와찌찜무': 1, 'SME': 1, '이전': 6, '주·정차': 2, '줄리': 1, '스티커': 1, '잘했다': 1, '피부에서': 1, '꼬꼬마라': 1, '방역': 2, '없어”': 1, '걱정과': 1, '빵빵아빠': 1, '느껴지면': 1, '육아휴직': 1, '야경증': 1, '나라': 1, '지역업체': 1, 'x27오미크론x27에': 1, '관리법': 1, '즐기더니자야되는': 1, '회전하는': 3, '원': 2, '사주지': 1, '영양제': 1, '과잉보호는': 1, '바지가': 1, '생활을': 1, '자라더니': 1, '우려변이': 2, '‘어떤': 1, '어릴': 1, '증명서': 1, '누가': 1, '머리에': 1, '한명을': 1, '필수다': 1, '사정으로': 4, '출산휴가': 1, '문화센터와': 1, '의사선생님': 1, '발톱': 1, '임신일기': 2, '보러': 1, '들려드릴게요': 1, '없었다quot': 1, '가지면': 1, '출생': 1, '일요일에': 1, '550': 1, '귀엽게': 1, '잤거든요': 1, '말하는데': 1, '38주에는': 1, '김진태': 1, '안녕하세요': 6, '하는': 13, '끼고': 1, '졸업': 1, '입체': 1, '시대…남은': 1, '돈으로': 1, '이야기로': 1, '고등학교만': 1, '유튜브': 1, '처음으로': 1, '90지원': 1, '질환': 1, '걸까': 1, '미만의': 1, '친구들이': 1, '1인당': 1, '화내는': 1, '여성x27': 1, '서서히': 1, '온라인': 1, 'Corp': 1, '조금씩': 1, '증권': 1, '“삼성전자': 1, '이미지': 1, '법으로': 1, '않기를': 1, '공부를': 1, '유럽亞': 1, '영상으로': 1, '분': 1, '죄책감이': 1, '바지의': 1, 'WHO': 2, '먹여야': 1, '세웠다가': 1, '美법인에': 1, '질문하고도': 1, '토마토와': 1, 'Connect': 1, '신계에': 1, '도대체': 2, '최대한': 1, '대책': 1, 'LG에너지솔루션': 1, '밀크반점이': 1, '같은데': 1, '3세아이놀이방법': 1, '서비스': 2, '받으며': 1, '보는날': 1, '처음': 2, 'x27글로벌': 1, '육아툰': 2, '시작하고': 1, '일반': 2, '대한': 4, '금융이': 1, '비스끄름한': 1, '밍디': 1, '지킴이': 1, '없음을': 1, '취침': 2, '매거진전문지': 1, '3일': 2, '삶을': 1, '경험담을': 2, '나타나요': 1, '전체삭제': 1, 'passes': 1, '여러': 2, '9개월': 4, '자동차': 2, 'x27김병준': 1, '통해서도': 1, '영향과': 1, '이른': 1, '예·적금': 1, '같아요’': 1, '이길현이라고': 1, '체인형': 1, '발생하면': 1, '휴대폰': 1, '먹기': 1, '돌발진': 1, '구성되어': 1, '외래': 1, '불특정한': 1, '글': 4, '반갑습니다': 1, '의심해': 1, '리니쭈니': 1, '해': 4, '읽어주시되': 1, '이유': 2, '저는': 1, '돌려받지': 1, '막내는': 1, '사례': 1, '일을': 1, '테크': 1, '대체': 1, '음성언어': 1, '계획': 1, '강화【베이비뉴스': 1, '생각해왔지만': 1, '하루': 2, '평범한식빵식빵이는': 1, '바란다': 1, '챙기는': 1, '어려움을': 2, '연예': 1, '보며': 1, '아내를': 1, '무섭던': 1, '5회차': 1, '당뇨병은': 1, '낙폭': 1, '확인해': 1, '살고': 2, '시동': 1, '성별': 2, '‘가족·체험x27': 1, '마팀장x27은': 1, '백과사전': 1, '공감': 1, '건강검진이': 1, '네이버뉴스': 1, '최고치인데…정부': 1, '헷갈리는': 1, '느낌이었다': 1, '15452대': 1, '자매': 1, '해당기기브라우저에': 1, '주제별캐스트': 1, '자세히': 2, '전부터는': 1, '암환자': 1, '판매': 1, '구분되지': 1, '스마트기기에': 1, '해피스마일마미': 1, '‘돌발진’을': 1, '높은': 3, '요즘들어': 2, '•': 4, '위협하는': 1, '지도': 1, '부러워할': 1, '일상꿈육아스타그램이웃환영': 1, 'AZ': 1, '많습니다': 1, '무조건': 1, '어려워요': 1, '태어난': 3, '주제별': 1, '수축이라니': 1, '위치와': 1, '확인해봐요산모': 1, '마음이': 2, '‘이제': 1, '어린이집': 1, '육아': 6, '진료': 1, '계좌': 1, '다니려니': 1, '용어사전': 1, '기형아': 3, '햇살맘입니다': 1, '갑자기': 6, '일찍부터': 1, '8개월': 6, '줌강의가있어': 1, '뉴스레터를': 1, '긍정부정검색': 1, '스마트': 1, '가위': 1, '임신부': 1, '입력기': 1, '바지라': 1, '건강': 3, '제4차': 1, 'IT': 1, '오지도': 1, '혈당을': 1, '언론학살': 1, '미국': 1, '없다’라고': 1, '역할': 1, '제한되는': 1, '감형…quot법원': 1, '가던': 1, '【베이비뉴스': 1, '여성x27…기살리기': 1, '교외학습': 1, '심리학': 1, '정책': 2, '흘러간다': 1, 'quot태오는': 1, '연구': 1, '태어나고': 1, 'ⓒ': 1, '날씨와': 1, '나간김에': 1, '오픈': 1, '왔고': 1, '두': 2, '풀어요': 1, '별별': 1, '아이와': 3, '됩니다': 2, '기간피부': 1, '검사를': 1, '반사적인': 1, '1일': 1, '때에': 1, '크리에이터': 1, '품에서': 1, '시기이기도': 1, '고민을': 1, '왔을': 1, '숲을': 1, '“재감염': 1, '읽을만한': 1, '아기에': 1, '학교': 1, '119600': 1, '표정에': 2, 'Partners': 1, '화두인데요': 1, '하더니': 1, '늘': 2, '약관': 1, 'defense': 1, '지나면': 1, '삼신상': 1, '고열이': 2, '새싹이와': 2, '마이그린': 1, '임산부를': 1, '경기평생교육학습관에서': 1, '일터아이들의': 1, '스토리영상': 1, '진림해일': 1, '사람은': 1, '분담하지': 1, '이름이': 1, '확인해주세요': 2, '쏘이라고': 1, '주변의': 1, '안녕하지': 1, '글을': 1, '원격수업을': 1, '시작페이지로': 1, '시간대연령남녀별': 1, '가능결혼과': 1, 'K는': 1, '바다동물': 1, '저에게': 1, '입원하다': 1, '카페글': 1, '일하는게': 1, '정리하는': 1, '생겼는데': 1, '공급': 1, '확인': 8, '존재가': 1, '현대사회는': 1, '맘앤톡': 2, '바다': 2, '박사': 1, '눈': 1, '일상': 1, '갈수가': 1, '나타나': 1, '총정리': 1, '입원': 1, 'x27치질x27': 1, '253': 1, '울음의': 1, '하다니ㅠ': 1, '급감': 1, '소천문위치': 1, '새벽에': 1, '그런건데요': 1, '속에서': 1, '1549166': 1, '새': 3, '알아듣기': 1, '경험해': 1, '듣곤': 1, '집안일을': 3, '위·중증': 1, '비슷한': 2, '10시': 1, '맘스홀릭베이비': 1, '보고': 1, '말이': 1, '그러하길': 1, '아이들의': 1, '토크': 1, '체중증가를': 1, '‘오미크론’': 1, '조산기로': 1, '함정': 1, '개인정보처리방침': 1, '원하지만': 1, 'x27엄마인': 1, '고기고기': 1, '주변에서': 1, '생기기도': 2, '기준이': 1, '1주일에': 1, '그림으로': 1, '관리해야하는지': 1, '주간政談lt하gt': 1, '‘집안일’이란': 1, '올라가는': 1, '레이어': 2, '지구별': 1, '국내의': 1, '공공기관': 1, '마지막에서': 1, '아직도': 1, '아이들지난': 1, '바라보고': 1, '의료비지원': 1, '저출산‧고령사회': 1, '마그린팀장': 1, '문제를': 1, '이야기': 2, 'VIBE': 1, '국민의힘': 1, '개설법': 1, '하면': 3, '시작된': 1, '회사의': 1, '프로젝트': 1, '부동산': 2, '미리': 1, '주요': 1, '기준을': 1, '고객센터': 1, '걸음마를': 1, '04p↑': 1, '사랑해🤣♥️': 1, '유전적인': 1, 'quot아': 1, '비롯해': 1, '캐스트': 1, '자유로운': 1, '그룹의': 1, '귀엽고': 1, '크게': 1, '빨간': 1, '그런': 1, '고': 1, '세계적으로': 1, 'sixmonth': 1, '미접종자는': 1, '요구가': 1, '용돈을': 1, 'quot연말에': 1, '거': 3, '대처해야': 1, '나게': 1, '경우가': 1, '임신하고': 1, '키우기': 1, '히히': 1, '오늘부터': 2, '열무는': 1, '14': 1, '내': 5, '😯': 1, '이용약관': 1, '섬세한': 1, '임신으로': 1, '부분입니다': 1, '타임스퀘어': 2, '놀고': 2, '초등학교를': 1, '표지로': 1, '금지': 1, '아직': 1, '본적': 1, '공포': 1, '고집을': 1, '무력한': 1, '추락하는': 1, '수': 25, '쓰지': 1, 'quot내가': 1, '1310명': 1, '많았었는데': 1, '베이비뉴스': 3, '게임이': 1, '7881억': 1, '4분기': 1, '2개월': 7, '단지에': 1, '조기': 1, '이유가': 1, '검진': 4, '끄기': 2, '건강부심있는': 1, '3개월': 2, '환율': 1, '패닉…1950년': 1, '임산부들이': 1, '넘어졌다': 1, '아기를': 2, '마더꽉': 1, '몸값': 1, '입맛이': 1, '164일': 1, '설정에서': 1, '언론사': 8, '하는데': 1, '마치고': 1, '마이그린몰': 1, '금리': 1, '가방': 1, '227': 1, '말아야': 3, '있어요': 3, '나스닥': 1, '사용할': 1, '호소하는': 1, 'API': 1, '출산하기까지의': 1, '탓quot': 1, '뉴스타파': 1, '나서': 1, '지원': 4, '11시에': 1, 'quot의도는': 1, '섭취하는': 1, '걸었다': 1, '권고했다': 1, '더': 10, '포기한': 1, '식빵이는': 2, '먼저': 2, '30': 1, '한국컴패션': 1, '활동': 1, '사회': 1, '선생님들의': 1, '들어차': 1, '반응을': 1, '이들의': 1, '애는': 1, '지나치게': 1, '오늘은': 5, '인한': 1, '키울때': 1, '도로교통법이': 1, '있으니': 2, '맘톡': 3, '들었거나': 1, '작성': 1, '생기더라도': 1, '나만': 1, '저장': 2, '너는': 2, '보링보링': 2, '않는': 2, '말을': 1, 'ONOFF': 1, '청강은': 1, '대천문위치': 1, '편집할': 1, 'x27히': 1, '5살🖐🏻': 1, 'transfer': 1, '가수요': 1, '변이': 3, '다들': 1, '영유가': 1, '울음은': 2, '초음파': 3, '온라인강의를': 1, '광고': 1, '경험할': 1, '겉도': 1, '차이의놀이': 1, '교수님': 1, '하나인': 1, '추가': 4, '엄마마음': 1, '유아': 1, '별이가': 1, '1995년': 1, '정기': 1, '장난감을': 1, '한번째': 1, '후': 3, '1R': 1, '많을': 2, '방학이라': 1, 'NST검사': 1, '쑥': 1, '어느날': 1, '기존에': 1, '늦게': 1, '악마가': 1, '스트레스가': 1, '적정': 1, '찾아요': 1, '합성하기': 1, '읽어라': 1, '시작하라누구나': 1, '참견입니다': 1, '때도': 1, '든다면': 1, '싶어': 1, '‘여행제한’': 1, '털어주고': 1, '열꽃을': 1, '말하지': 1, '아이지': 1, '건물주도': 1, '지역': 2, '“너': 1, '마더꽉이에요': 1, '공지사항': 1, '태오는': 1, '병상대기': 1, '언어발달유아의': 1, '없을': 1, '백반증': 2, '다가오는': 2, '일정관리': 1, 'grimeda': 1, '사용하게': 1, '가을을': 1, '아이들에게': 1, '저출산‧고령사회위원회': 1, '40대': 1, '노래를': 1, '크루아상의': 1, '없어quot…x60데이트폭력x60': 1, '실패할': 1, '오돌토돌': 1, '내진을': 1, '3자녀에서': 1, '애를': 1, '1789': 1, '뒤로': 2, '살지': 1, '저로서는': 1, '산모보다': 1, '엉덩이': 1, '지정': 1, '2자녀까지': 1, '🙋🏻♂️': 1, '11주에': 1, '같은지': 1, '되면': 1, '출산한': 1, '치질기가': 1, '2019년': 1, '내리고': 1, '쉬어도': 1, '바다에서': 1, '끊임없는': 1, '발달': 1, '직후의': 1, '바라보는': 1, '수유한지': 1, '어느새': 1, '답답해하며': 1, '아프리카': 1, '백신': 2, '치솟자': 1, '해피빈': 1, '그게': 1, '선생님과': 1, '단축근무기간은': 1, '퍼피': 1, '딱꾹질하는': 1, '원톱x27': 1, '그렇기에': 1, '희생의': 1, '기자】': 1, '아기대천문': 1, '자외선': 2, '물려줄': 1, 'quot재미있는': 1, '임신부의': 2, '증가하는': 1, '생각이': 2, '신청서를': 1, '앉혀놓았다': 1, '짜증': 1, '김재호': 1, '살펴봤어요': 1, '하러': 1, '쉬워질까': 1, '맞춰': 1, '있지만': 1, '이야기해볼려구용': 1, '배움터를': 1, '경탄을': 1, '육아웹툰': 1, '이미': 1, '작곡': 1, '차단제를': 1, '합니다': 5, '키가': 1, '자유시간이': 1, '설정이': 2, '16주': 1, '넘어': 1, '임심중식단': 1, '친척들에게': 1, '남편': 2, '사라quot…증권가가': 1, '쿠잉': 1, '주말': 1, '2차': 1, '가까이까지': 1, '편집하고': 1, '빨래': 1, '딸기혈관종이란': 1, '형태로': 1, '편이다': 1, '다우': 1, '가기': 3, '정도는': 1, '안되더라구요': 1, '초등학교에': 1, 'quot비상계획': 1, '곧잘': 1, '잇님들': 1, '사춘기x27를': 1, '아기랑': 1, '온라인수업을': 1, '인슐린저항성': 1, '우리가': 2, '23개월이': 1, '영아는': 2, '병원을': 1, '12·12': 1, '주제별로': 1, '커주고': 1, '책가방을': 2, '않아': 1, '반영한': 1, '없는게': 1, '메디칼럼8가려움이': 1, '크림빵과': 1, '같은': 5, '줄게quot': 1, '신생아대천문': 1, '짜증부터': 1, '생활비에': 1, '별거': 2, '美도': 1, '양천': 1, '‘태오가': 1, '지지율': 1, '과잉보호가': 1, '점차': 1, '복지에': 1, '모습을': 3, '봐요': 1, '자분': 1, '마주하게': 1, '양면테이프': 1, '얘기를': 1, '다운로드': 1, '써봅니다': 1, '주머니로': 1, '학교생활에': 1, '들었다': 1, '별': 1, '시작하면': 1, '“같이': 1, '아이의': 6, '충분히': 1, '아빠넷에서는': 1, '직접': 4, '되어': 3, '모드로': 1, '합': 1, '중국': 1, '새로울': 1, '수많은': 1, '문제일까': 1, '출렁…미': 1, '주담대': 1, '흔들흔들': 2, '심상치': 1, '사람같이': 1, '안': 5, '담은': 1, '하지': 1, '주·정차할': 1, '9시부터': 1, '당첨번호': 1, '비타민D는': 1, '금치': 1, '저학년': 1, '공식은': 1, '중에': 1, '들어보셨나요': 1, '자각증상이': 1, '원래도': 1, '초록': 1, '체험학습': 1, '“얻어': 1, '스마트폰': 5, '되어줄게”': 1, '25세': 1, '수업을': 1, '검진에서': 1, '아빠들이': 1, '알아야': 1, '금지되어': 1, '요즘은': 1, '보이는': 1, '갈': 1, '하루일과표를': 1, '부자로': 2, '아기': 11, 'BJ': 1, '패션뷰티': 1, '방송통신': 1, '레시피': 1, '날이라': 1, '상황을': 1, '생각났거나': 1, '걱정이': 1, '속한': 1, '임신하면': 1, '차': 4, '다시': 2, '회사소개': 1, '간과해': 1, '해결하는': 1, '첫걸음': 1, '쌓이는데…정부': 1, '로그인': 2, '지급기한': 1, '100°': 1, '청소년보호정책': 1, 'OPCON': 1, '등장': 2, '다녔기에': 1, '언제나': 1, '살인사건': 1, '부랴부랴': 1, '파도처럼': 1, '올해': 1, '관심주제': 1, '챙겨주고': 1, '낯설다': 1, '3가지': 1, '웹문서': 1, '“누변이': 1, '영아가': 1, '“난': 1, '열폭한': 1, '종이': 1, '얻지': 1, '몽유병과': 1, '후동맘': 1, '말했다': 1, '뉴욕증시': 1, '자라서': 1, '쇼핑캐스트': 1, '에디터가': 1, '2000명': 1, '태블릿': 1, '문해력을': 3, '자신이': 1, '숙제를': 1, '맡아두겠다고': 1, '문창섭': 1, '3배': 1, '‘시그널’을': 1, '이후': 2, '동물공감': 1, '놨어quot': 1, '10': 1, '교사로': 1, '질문을하고': 1, '사용시기': 1, '입장에서는': 1, '난': 2, '놀이quot라고': 1, '작가': 2, '적절하게': 2, '나도': 4, '많고': 2, '된다면': 2, '찾고': 1, '수학문제를': 1, '검색': 2, '막달에': 1, '단팥빵도': 1, '차에': 1, '공연전시': 1, '올라온': 1, '빠질': 1, '실타래게': 1, '있으며': 1, '실컷': 1, '아이들': 1, '180이': 1, '현대사': 1, 'US': 1, '식탁': 2, '성인이': 1, '부스터샷': 1, '34주': 1, '어깨아빠': 1, '이다': 1, '이렇게': 5, '작가님의': 1, '표정을': 2, '6시': 1, '보호구역이라도': 1, '모다렐라': 1, '검진방법': 1, '원하는': 1, '전문가들을': 1, '있잖아요옹': 2, '눈에': 2, '배란다에서': 1, '내고': 2, '비상인데': 1, '사회관계망': 1, '젤리가': 1, '안재우고': 1, '느낌까진': 1, '인수합병”': 1, '임신질환은': 1, '번': 3, '흥부자라라에요': 1, '정부는': 1, '네이버를': 1, '‘오미크론’…미·캐나다': 1, '태오가': 1, '생기기': 2, '역할은': 1, '첫': 3, 'SNS': 1, '종착지': 1, '미분화된': 1, '있도록지금': 1, '할까': 2, '많다': 1, '씌인것': 1, '스포츠': 2, '있다고': 1, '상담하는': 1, '있던': 1, '소천문': 2, '올해부터는': 1, '통해': 5, '아이와는': 1, '해줬을까': 1, '4주만에': 1, '혁신과': 1, '번지는': 1, '먹으려고': 1, '나의': 3, '표정이': 1, '날씨가': 1, '눈물을': 1, '연쇄살인사건…마음': 1, '마무리하지요': 1, '아빠라면': 1, '보여': 1, '조금은': 2, '하루맘카페육아육아소통환영육아꿀팁육아공유육아일상부모교육부모육아코칭어린이집운영양천찔레꽃행복한': 1, '부쩍': 1, '영어를': 1, '가질': 1, '얼마만에': 1, 'quot조카': 1, '해당': 4, '업로드': 1, '개발자': 1, '바지': 1, '앞으로는': 1, 'S': 1, '지대한': 1, '“정말': 1, '수면장애의': 1, '새벽부터': 1, '아침부터': 1, '6개월': 1, '전면': 1, '과정에': 1, '생긴다': 1, '삶도': 1, '최애': 1, '강력할': 1, '지어낸': 1, '펴': 1, '여러분들도': 1, '기간두드러기가': 1, '앙쥬': 1, '빼고': 1, '햇빛쬐면서': 1, '보입니다': 1, '않다고': 1, '신나하는': 1, '가치와': 1, '식단과': 1, '병원': 2, '3일차': 1, '사춘기아이들이다보니': 1, '잦은': 1, '이순자에': 1, '편집한': 1, '실거래': 1, '스몰비즈니스': 1, 'x27풍선효과x27': 1, '일주일': 1, '세상에': 1, '떼': 2, 'lt노랑통닭gt': 1, '안다': 1, '美·EU': 1, '확대하고': 1, '뭐': 1, '남자': 1, '제한됩니다': 4, 'Agency': 1, '1시': 1, '티켓x27': 1, '흔한': 1, '약': 2, '정밀': 1, '대통령직속': 1, '허그맘': 3, '체육': 2, '12': 1, '모아놓은': 1, '온라인수업': 1, '지식너머출판사': 1, '인재채용': 1, '물백신일까': 1, '간절히': 1, 'whale': 1, '전두환': 2, '수선생님이': 1, '11': 1, 'D100이재명': 1, '동영상': 2, '무엇을': 3, '손을': 2, '정말': 4, '바랐어요': 1, '별도의': 1, '4일차': 1, '성별이': 1, '있는': 8, '부모': 1, '아이에겐': 1, '배': 1, '과의존': 1, '남의': 1, '갓': 2, '있다가': 2, '회사는': 1, '태태매거진앨작가': 1, '아빠': 1, '법률': 1, '함께N': 1, '엄마만': 1, '음악': 1, '중학교': 1, '됴이dyoi': 1, '쓰는데요': 1, '아빠넷': 1, '새싹이가': 1, 'quot집': 1, '태도를': 1, '생각하는': 2, '늘어납니다': 1, '입학한': 1, '주문': 1, '21년도에': 1, '아이들은': 1, '양이': 1, 'VIP': 1, '리서치페이퍼': 1, '동일한': 1, '남기려고': 1, '싸인펜으로': 1, '대소천문': 1, '마음에': 3, '맑음': 1, '스포츠연예': 1, '악화': 1, '스마트폰을': 1, '관심사에': 1, '팔로우를': 1, '↓↓': 2, '나와서': 1, '반항기에는': 1, '부모를': 2, '시간약속은': 1, '심리를': 1, '서울': 1, '없어도': 1, '부모로서': 1, '여뚱이': 1, '했던': 1, '그러면서': 2, '대화': 1, '입주예정': 1, 'SNS즐겨하는': 1, '등교를': 1, '대신해': 1, '전체언론사': 1, '라이트': 1, '위원회는': 1, '땐': 1, '말': 3, '건강검진일정확인': 1, '부담스러움은': 1, '공감하고': 1, 'x27사과x27': 1, '사용': 1, '그의': 1, '역시': 1, '위치': 1, '않은': 2, '앙쥬ange': 1, '현대인이라면': 1, '10월': 1, '4명': 1, '야경증이란': 1, '가구': 1, '준비는': 1, '이용': 1, '데이트폭력': 1, '심호흡': 1, '상황’…70살': 1, '메뉴설정': 1, '설정하기': 1, '추세다': 1, '이리': 1, '흔들흔들고래만들기': 1, '나질': 1, 'D2SF': 1, '文정부': 1, 'x27엄마사람': 1, '없으므로': 1, '트니트니에서': 1, '아시지요': 1, '비상교육': 2, '못했다': 1, '저장됩니다': 1, '보기': 4, '코인에': 1, '그렇네요': 1, '떠난': 1, '이럴': 1, '다수와': 1, '만나': 1, '아가씨때': 1, '선대위': 1, '얻을': 1, '모글리': 1, '그렁거리며': 1, '유년': 1, '눈썹': 1, '놀이하는': 1, '않는건': 1, '추첨': 1, '수도권': 1, '불러달라고': 1, '작은': 2, '요리': 1, '장소로': 1, '지정돼': 1, 'TOP': 1, '돈': 2, '아닐까': 1, '의심이': 1, '이유이기도': 1, '우울증은': 1, '33주': 1, '당연히': 1, '‘아이가': 1, '책': 2, '20대': 1, '근절': 1, '아이에': 1, '아픈': 1, '듣기도': 1, '언론사가': 2, '맞다는': 1, '해보니': 1, '반응이다': 1, '되도': 1, '돌보는': 2, '15년째': 1, '매일': 2, '충분하지도': 1, '걸음': 1, '오뉴': 1, '해야': 1, '새벽': 2, '가도': 1, '이해할': 1, '최악의': 1, '부모님의': 1, '설정': 2, '기분전환되고': 1, '임당': 1, '의견충돌이': 1, '2021년': 1, '사실': 2, '아니고': 1, '살인을': 1, '58주': 1, '대부분의': 1, '질': 2, '키우는': 4, '잔금대출': 1, '다양한': 4, '임신했던': 1, '영유아검진': 1, '장기간': 1, '90년대생': 1, '20가량이': 1, '핀덴': 1, '귀여운': 1, '38주': 3, '상황에': 2, '받아라는': 1, '반응하는': 1, '끝나고': 1, '법을': 1, '앞두고': 1, '일까요': 1, 'Korean': 1, '싸우는': 1, '방법을': 1, '연일': 2, '받아보았는데요': 1, '해놓았어요': 1, '동생을': 1, '우리병원': 1, '되어서도': 1, '자식만큼은': 1, '학원부터': 1, '만든다': 1, '살이': 1, '현황': 1, '좋겠어x27': 1, '싶은': 3, '한': 7, '하필': 1, '의사소통': 1, '여성도': 1, '행복을': 1, '발전은': 1, '과학': 1, '다운받기': 1, '아닌데': 1, 'USD': 1, '드로잉아빠': 1, '감이': 1, '2년': 1, '놀아주고': 1, '인문학': 1, '4주일': 5, '등장으로': 1, '‘과잉보호’는': 1, '영유아': 5, '떼를': 1, '에디터의': 1, '소중하게': 1, '경우에는': 1, '엄마에게': 1, 'quot현대차': 1, '아늑한': 1, '싶었던': 1, '점점': 2, '이알로ㅜㅜ': 1, '했다': 1, '협의해서': 1, '애들은': 1, '수박이': 1, '운영하는': 1, '끝나는지': 1, '지원…다자녀': 1, '스트레스를': 1, '30대': 1, '국가들': 1, '걷다': 1, '재미있어quot': 1, '예쁜': 1, '그동안의': 1, '7억8200만원': 1, '다루는': 1, '사랑할게x27': 1, '병천면': 2, '태오맘라니': 1, '곤란한': 1, '71개월': 1, '한국': 3, '민주당': 1, '어린이와': 1, '위기의': 1, '오로지우아하게': 1, '놀아줘야': 1, '인권유린의': 1, '구독': 26, '엎친데': 1, '아이폰13·머스크': 1, '랩스': 1, '무통도': 1, '남부': 1, '넘어가니': 1, '시기별로있는거': 1, '2인분을': 1, '출력합니다': 1, '이겨': 1, '많다고': 1, '대신해줘': 1, '있어서': 1, '대기…병상부족': 1, '30분': 1, '아이콘이라는': 1, '고민하는': 1, '경험과': 1, '아내': 1, '대천문닫히는시기': 1, '목적지': 1, '1차': 2, '속마음': 1, '난이도의': 1, '웨일': 2, 'query': 1, 'TV': 1, '맞아서': 1, '부족하게': 1, '부동산360': 1, '아이폰': 1, '문화': 1, '우주가': 1, '일어나서': 1, '포럼x27': 1, '리더십': 1, '취소하고': 1, '소아과': 1, '돌고래쇼': 2, '내일': 1, '불충분하고': 1, '성자였던': 1, '「아이의': 1, '미안한': 1, '미칠': 2, '당분간': 1, '말quot': 1, '있기': 1, '어린이': 3, '입밖으로': 1, '손': 1, '아프리카TV': 1, '발언': 1, '발표는': 1, '병상': 1, '확인과': 1, '예쁘죠': 1, '싶어서': 1, '치료비': 1, '전부이듯': 1, '결정을': 1, '대부분은': 1, '문창섭입니다': 1, '한다자신의': 1, '놓여': 1, 'intend': 1, '발진': 2, '돈의': 1, 'SNS에': 1, '저걸': 1, '매우': 1, '신경': 1, '시대지혜로운': 1, '브랜드의': 1, '웹툰': 3, '🎨만드': 1, '4아이들이': 1, '임신성': 1, '흉상': 1, '행동반경이': 1, '받았습니다': 1, '잘': 3, '위험': 3, '부분을': 1, '유발원인은': 1, '관리': 2, '판': 1, 'quot이거': 1, '보링보링입니다': 2, '흉기': 1, '재접근기가': 1, '일환으로': 1, '물어야quot': 1, '시간을': 6, 'n살x60이라는': 1, '훈육': 1, '없는오돌토돌': 1, '곳에': 1, '‘자연·힐링x27': 1, '시켜야': 1, '첫째에게': 2, '작가진쌤': 1, 'x27임신소양증x27': 1, '한다고': 2, '😢': 1, '멋진': 2, '준비하기': 1, '‘밀당’의': 1, '해서': 2, '‘한계': 1, '사과': 1, '시기': 2, '연령이': 1, '연기…왜': 1, '증상': 4, '해솔맘': 1, '악영향을': 1, 'quot새': 2, '예뻤다': 1, '고지서에': 1, '열대야까지': 1, 'NAVER': 4, '대부분이죠': 1, '15만명에': 1, '1년': 2, '정하세요': 1, '람': 1, '틈': 1, '선생님들도': 1, '최초의': 1, '정보비공개': 1, '판인': 1, '종합경제': 1, '질문이다': 1, '싸우는데': 1, '보지': 3, '진짜': 1, '입학을': 1, '이지현': 2, '부러웠어요': 2, '공해로': 1, '저런': 2, '29일부터': 1, '을를': 4, '먹고': 2, '라이프': 1, '평범해x27': 1, '조심하라는': 1, '좋음': 2, '심기를': 1, '한번': 1, '사전': 2, '출혈': 1, '찼잖아': 1, '삭제': 1, '요인입니다': 1, 'chiefs': 1, '끝단이': 1, '아니지만': 1, '엉켜있을때는': 1, '구독하시면': 1, '93조': 1, '부탁드려요이길현': 1, '꽃': 1, '핸드폰에서': 1, '머무른다': 1, 'txt': 6, '실제로': 1, '보아요': 1, '청바지때문에': 1, '누구도': 1, '해도': 1, '신청서': 1, '6가': 1, '쥬니어네이버': 1, '싶거나': 1, '하시겠습니까': 4, 'FARM': 1, '2자녀부터': 1, '36주': 1, '까지의': 1, '관심있는': 1, '일자핏': 1, '괴로워”': 1, '있다는': 1, '건강검진의': 1, '양쪽으로': 1, '쓰나미”vs“세계가': 1, '발생해서': 1, '다운로드받아': 1, '되더라구요': 1, '시장개입': 1, '있습니다': 7, '돈공부를': 1, '있는지': 2, '기질이': 1, '여러종류': 1, '큰': 2, '딸·내': 1, '라라': 1, '뉴스스탠드': 3, '임신': 12, '유죄quot': 1, 'x27변수x27': 1, '내일부터는': 1, '썼고': 1, '신경이': 1, '자신의': 2, '친구에게': 1, 'x27스우파': 1, '데이트': 1, '생긴': 1, '심심해': 1, '알잠': 1, '않았다': 1, '밤까지': 1, '경제': 2, '디자인': 1, '대선': 2, '괜히': 1, '조치': 1, '하는데요': 2, '열무라는': 1, '보셨나요': 1, '일했다': 1, '12일이라고': 1, '라고': 1, '부지런하고': 1, '차량용': 1, '제공합니다': 1, '강의를': 1, '봅니다': 1, '신기하기도': 1, '전두환의': 1, '냈다': 1, '생기기만': 1, '13': 2, '많은': 1, '영유아를': 2, '새로운': 3, '50대': 1, '걸쳐': 1, '연습하기': 1, '동생에': 1, '별이에게': 1, '예상': 1, '두드러기': 2, '국제보건기구Global': 1, '음식으로': 1, '블로그': 2, '변화를': 2, '마음을': 1, '무시무시한': 1, '검사': 2, '대천문과': 1, '기질': 1, '잘': 1, '아련연콩': 1, '좋아하는': 2, 'Sign': 3, '내PC': 1, '앞다퉈': 1, '자라면서': 1, '정해진': 1, '다자녀': 2, '드로잉오뉴': 1, '방문을': 1, '며칠인지는': 1, '폭스래빗': 1, '🎨준비물': 1, '날마다': 1, '감동이다': 1, '의젓함도': 1, '넘게': 1, '되면서': 1, '일본어사전': 1, '수없다는': 1, '“엄마가': 1, '말인가': 1, '‘바다·커피x27': 1, '온': 1, '화려한': 1, '양서다': 1, '자가격리': 3, 'x27오미크론x27…quot델타보다': 1, '딸': 1, '금융당국': 1, '日': 1, '집이': 1, '않는다고': 1, '했는데': 2, '이야기입니다': 1, '생각': 1, '김종성의': 1, '밤': 2, '다음날은': 1, '변화': 1, '대형': 1, '이후의': 1, '은행들': 1, '공장': 1, '전국적으로': 1, '장애인': 1, '저에게는': 2, '급락': 2, '의지': 1, '쏜다': 1, '3마리의': 1, '들어간': 1, '효과가': 1, '보호구역': 1, '중요한데': 1, '단독“이재명': 1, '안에': 1, '좁혀지는': 1, '12주': 1, '회사를': 1, '근시': 1, '연애·결혼': 1, '어린이보호구역': 1, '모드': 1, '산부인과외래': 1, '않나요말도': 1, '꺼져': 1, '꽉': 2, '엄마의': 3, '일이': 3, '인스타에서도': 1, '개설': 1, '해주지': 1, '있어': 2, '머리뼈보다': 1, '가만히': 1, 'quot이재명': 2, '신드롬x27': 1, '가면': 1, 'x60미운': 1, '만들기': 2, '체중': 3, '방식으로': 2, '사회적으로': 1, '형제관계': 1, '예정일을': 1, '놀이하자고': 1, '권현경': 1, '공기': 1, '오빠가': 1, '정하기아이와': 1, '부모는': 1, '검사와': 1, '등에': 2, '빠지지': 1, '오늘': 3, '않았는데요': 1, '거짓말은': 1}\n",
      "\n",
      "6. 불용어 필터링 후 단어의 개수: 2859개\n",
      "\n",
      "\n",
      "7. 가장 많이 출현한 단어\n",
      "\n",
      "('부모i', 59)\n",
      "('전', 59)\n",
      "('구독', 26)\n"
     ]
    }
   ],
   "source": [
    "# 3. 네이버 사이트 필터링 결과 \n",
    "url3 = 'www.naver.com'\n",
    "scrapURL(url3)"
   ]
  },
  {
   "cell_type": "code",
   "execution_count": 36,
   "id": "1b33e67b",
   "metadata": {},
   "outputs": [
    {
     "name": "stdout",
     "output_type": "stream",
     "text": [
      "사이트 주소가 정상입니다.\n"
     ]
    },
    {
     "name": "stderr",
     "output_type": "stream",
     "text": [
      "C:\\Users\\Leesy\\anaconda3\\envs\\script\\lib\\site-packages\\urllib3\\connectionpool.py:1013: InsecureRequestWarning: Unverified HTTPS request is being made to host 'www.daum.net'. Adding certificate verification is strongly advised. See: https://urllib3.readthedocs.io/en/1.26.x/advanced-usage.html#ssl-warnings\n",
      "  warnings.warn(\n"
     ]
    },
    {
     "name": "stdout",
     "output_type": "stream",
     "text": [
      "\n",
      "1. 필터링된 source 값 리스트\n",
      "\n",
      " ['Daum', '주요', '서비스', '바로가기', '오늘의', '정보', '바로가기', '미디어', '바로가기', '실시간', '이슈', '바로가기', '멀티미디어', '바로가기', '블로그', '정보', '바로가기', '유익한', '정보', '바로가기', '쇼핑', '바로가기', '오늘의', '포토amp영상', '바로가기', '웹', '접근성', '안내', '자동실행', '광고', '설정', '검색', '통합', '검색', '한글입력기', '검색', '인기', '검색어', '코로나19', '발생현황', '고세원', '사과', '나혼산', '산다라박', '월패드', '해킹', '정황', '산촌생활', '안은진', '위드코로나', '공유', '공식입장', '국민영수증', '빽가', '42회', '청룡영화상', '금쪽상담소', '홍석천', 'lt이전', 'gt다음', '다음을', '시작페이지로', '주요', '서비스', '카페', '메일', '뉴스', '지도', '증권', '쇼핑', '카카오TV', '웹툰', '블로그', '브런치', '사전', '게임', '같이가치', '주요서비스', '더보기', '전체', '서비스', '커뮤니케이션', '메일', '카페', '블로그', '티스토리', '브런치', '카카오스토리', '미디어', '뉴스', '연예', '스포츠', '금융', '부동산', '자동차', '쇼핑생활', '선물하기', '쇼핑라이브', '쇼핑하우', '메이커스', '카카오헤어샵', '카카오이모티콘샵', '문화엔터', '멜론', '영화', '카카오웹툰', '카카오TV', '카카오프렌즈', '소셜임팩트', '같이가치', '프로젝트100', '사전지식', '어학사전', '번역', '단어장', '백과사전', '게임', '배틀그라운드', '패스', '오브', '엑자일', '오딘', '지도', '검색', '길찾기', '로드뷰', '버스정보', '지하철노선도', '카카오', '소식', '카카오', 'AI', '카카오비즈니스', '서비스', '전체보기', '더보기', '메뉴', '닫기', '오늘의', '정보', '11', '27', '토', '날씨', '서울시', '맑음', '영하', '1도', '1', '°C', '날씨', '경기도', '맑음', '영하', '2도', '2', '°C', '날씨', '인천시', '맑음', '영하', '3도', '3', '°C', '날씨', '대구시', '맑음', '영상', '4도', '4', '°C', '날씨', '대전시', '맑음', '영상', '0도', '0', '°C', '날씨', '광주시', '맑음', '영상', '2도', '2', '°C', '날씨', '부산시', '맑음', '영상', '3도', '3', '°C', '날씨', '울산시', '맑음', '영상', '4도', '4', '°C', '날씨', '경상북도', '비', '영상', '6도', '6', '°C', '날씨', '강원도', '맑음', '영하', '5도', '5', '°C', '날씨', '강원도', '맑음', '영상', '1도', '1', '°C', '날씨', '인천시', '맑음', '영상', '4도', '4', '°C', '날씨', '충청북도', '맑음', '영하', '2도', '2', '°C', '날씨', '전라북도', '맑음', '영상', '0도', '0', '°C', '날씨', '전라남도', '맑음', '영상', '5도', '5', '°C', '날씨', '전라남도', '맑음', '영상', '6도', '6', '°C', '날씨', '제주자치도', '맑음', '영상', '11도', '11', '°C', '날씨', '경상북도', '맑음', '영하', '5도', '5', '°C', '날씨', '경상남도', '맑음', '영상', '3도', '3', '°C', '날씨정보', '8897', '펼치기', '현재', '지역', '날씨', '어제보다', '°C', '날씨', '상세보기', '미세먼지', '통합대기', 'X', '날씨정보', '닫기', '로그인', '정보', '카카오계정으로', '로그인', 'Daum', '아이디로', '로그인', '카카오', 'QR코드', '로그인', '회원가입', '미디어', '뉴스', '선택됨', '뉴스', '1탭', '국방비', '수천억원', '깎였는데', '아무', '말도', '없는', '그들', '박수찬의', '軍', '이러다', '다', '죽어역대', '최강의', '기후악당', '누군가', '보니', '데이트', '동영상', '스웨덴', '요한', '팀장', '다른', '요원들에게', '요령', '전수한', '공기환에', '칭찬', '동영상', '풀버전9회', '♬', 'FACE', 'TIME', 'Feat', '기리보이', 'pH1', '개코', '신스', '세미파이널', 'Full', 'ver', '기준금리', '1', '시대', '왔다', '빚투·영끌족', '이자부담', '더', '는다', 'ESG', '준비는', '부족', '규제는', '우왕좌왕중소기업하기', '힘든', '나라④', '일반뉴스', '이재명', '조카', '모녀', '살해', '피해자', '사과', '한', '번', '없더니李', '변호사라서', '변호', '안타까운', '일', '뉴욕증시', '오미크론', '공포에', '폭락1950년', '후', '낙폭', '가장', '커', '내년', '여름엔', '하루', '확진', '2만5000명체육관', '빌려', '임시병상', '필요', '나이키도', '아디다스도', '두', '손', '든', '나라', '中궈차오에', '빠졌다', '김지산의', '군맹무中', '오미크론', '공포에', '세계', '증시', '국제유가', '일제히', '하락', '누', '변이', '우려', '입국금지', '잇따르자', '아프리카', '국가들', '너무', '성급', '반발', '이재명', '음주운전', '잠재적', '살인', '댓글', '읽고나보고', '하는', '소린데', '하하하', 'WHO', '새', '변이', '이름', '오미크론', '명명', '재감염', '위험', '높아', '가장', '비싼', '질병은', '암', '아닌', '이', '병', '북한도', '김장철', '손맛보다', '공장김치', '편의점', '알바', '뺨맞고', '쓰러지는데황당', '규제에', '점주들', '분노', '박한신의', '커머스톡', '위드코로나', '막다른', '골목에', '도달거리두기', '다시', '조정해야', '나꼼수', '이제', '뭉치기', '힘들', '것', '이재명', '때문에', '더', '갈라진', '4인방', '유럽도', '누', '뚫렸다최악의', '변이', '바이러스', '전', '세계로', '퍼지나', '뭐가', '싫어요', '2030', '26명에게', '비호감', '대선', '물었다', '뉴스홈', '연재', '랭킹', 'TV', '포토', '팩트체크', '증시', '환율', '운세', 'TV편성', 'ISSUE', '39코로나', '1939', '현황', '연예', '스포츠', '영화', '자동차', '부동산', '현재', '탭', '1', '전체', '탭', '8', 'lt', '이전', '탭', 'gt', '다음', '탭', '멀티미디어', '카카오', 'TV', '오리지널', '콘텐츠', 'TV하이라이트', 'TV', '주요장면', '오리지널', '콘텐츠', 'NEW', '사랑과', '전쟁', '동영상', '방송에도', '출연한', '잉꼬부부의', '실체', '덕테크', '동영상', '꼭', '알아야', '할', '진품', '레고', '확인법', '덕테크', '동영상', '구매가의', '2배', '상승한', '슬리피', '자동차', '멜론뮤직어워드', '2021', '동영상', '멜로너가', '직접', '뽑은', 'MMA', '역대', '레전드', '무대', 'TV하이라이트', '안소희', '동영상', '31회', 'Vlog하루종일', '먹기만', '하다', '끝난', '첫', '글', '뮤직뱅크', '동영상', '운전만해', 'We', 'Ride', '브레이브걸스Brav', '빨강', '구두', '동영상', '＂뭐', '김젬마＂소이현이', '자신의', '손녀라는', '것을', '빨강', '구두', '동영상', '＂그냥', '묻는', '말에만', '대답해', '줘요＂이숙과', '김광영을', '찾', 'TV', '주요장면', '동영상', '시청자들에게', '추천', '받아', '부르게', '될', '곡은', '선곡', '기준', '동영상', '39사람들', '기준에', '맞추지마39', '소코도모의', '음악적', '고민에', '동영상', '♬', 'BE', 'Feat', '팔로알토', 'lIlBOI', '동영상', '장혜진X김세정', '내게로', 'Duet', '김세정', '현재', '탭', '1', '전체', '탭', '3', 'lt', '이전', '탭', 'gt', '다음', '탭', '블로그', '정보', '카페', '브런치', '친절한', '비수에', '대처하는', '법', 'by', '끼니를', '추억하며', '내가', '왜', '귀사가', '찾던', '그', '인재냐고요', 'by', '괜찮아요', '당신만의', '이야기를', '하세요', '이방인이지만', '괜찮아', 'by', '다소', '독립적인', '이방인입니다', '술', '권하는', '사회에서', '알코올', '없이', '버티기', 'by', '아무튼', '디저트', '티스토리', '카카오스토리', '현재', '탭', '2', '전체', '탭', '4', 'lt', '이전', '탭', 'gt', '다음', '탭', '유익한', '정보', '홈amp쿠킹', '머니', '동물', '스타일', 'Men', '여행맛집', '월미도', '뺨치던', '39디스코', '팡팡39청춘', '춤추던', '강촌', '다시', '꿈틀댄다', 'e즐펀한', '토크', '중앙일보', '동영상', '절벽', '길에', '고공', '전망대까지원주', '소금산', '그랜드밸리', 'YTN', '아이랑', '39한달살기39', '가지', '마세요', '브런치', 'by', '바다현', '예약', '없이', '갈', '수', '없는', '서울', '오마카세', '맛집', 'BEST', '5', '트리플', '세종', '카페', '39제주도화39', '솔직후기', '티스토리', 'middot', '쟈니', '아이들과', '같이', '가기도', '좋고', '어른들도', '동심으로', '돌아가는', '전시회', '용산', '짱구', '페스티벌로', '가자', '티스토리', 'middot', '반려동물', '깜푸와', '촌떡이', '베스트', '1', 'quot미친', '짓quot', '소리듣던', '이곳', '아시아', '최고', '리', '2', '정용진', 'BTS', '단골이라는', 'quot미슐랭', '3년', '3', '세계에서', '가장', '핫한', '동네', '1위에서', '삽니다', '4', '한국에서', '가져오면', '유용한', '겨울용품', '5', '맛을', '보니', '맛집이', '맞군요', '6', '요즘', 'lsquo거창의', '스위스rsquo라고', '불리는', '캠핑장의', '풍경', '7', '이', '인공', '동굴', '때문에', '근포항이', '난리', '났습니다', '직장IN', '뮤직', '웹툰', '게임', '같이가치', '현재', '탭', '6', '전체', '탭', '11', 'lt', '이전', '탭', 'gt', '다음', '탭', '쇼핑', '오늘의', '포토', '이전', '포토', '보기', '추천갤러리', '바로가기', '다음', '포토', '보기', '추천갤러리', '바로가기', '이전', '이미지', '목록', '보기', '다음', '이미지', '목록', '보기', '공지사항', '개인정보처리방침', '개정', '안내', '서비스', '전체보기', '다음', '소개', '및', '약관', '회사소개', 'middot', '비즈니스', 'middot', '맞춤형광고', 'middot', '검색등록', 'middot', '제휴문의', 'middot', '인재채용', '이용약관', 'middot', '운영정책', 'middot', '청소년보호정책', 'middot', '위치기반서비스이용약관', 'middot', '개인정보처리방침', 'middot', '웹접근성안내', 'middot', '고객센터', 'Copyright', '©', 'Kakao', 'Corp', 'All', 'rights', 'reserved']\n",
      "\n",
      "2. 단어의 개수: 883개\n",
      "\n",
      "3. 각 단어들의 출현빈도 수\n",
      "\n",
      "{'지도': 2, '아무튼': 1, '근포항이': 1, '카카오계정으로': 1, '이자부담': 1, '알코올': 1, '울산시': 1, '아닌': 1, '엑자일': 1, '카카오헤어샵': 1, '금쪽상담소': 1, '입국금지': 1, '인공': 1, '왔다': 1, '추천': 1, '바이러스': 1, '변호사라서': 1, '대처하는': 1, '카페': 4, '이제': 1, '코로나19': 1, '멜론': 1, '다음을': 1, '임시병상': 1, '아이들과': 1, '4': 5, '힘들': 1, '2030': 1, 'quot미친': 1, '술': 1, '4인방': 1, '커머스톡': 1, '이름': 1, '맞추지마39': 1, '쇼핑생활': 1, 'ESG': 1, '두': 1, '인재냐고요': 1, '기리보이': 1, '인재채용': 1, '비즈니스': 1, '손녀라는': 1, '소린데': 1, '월패드': 1, '11': 3, '39코로나': 1, '친절한': 1, 'Kakao': 1, '빽가': 1, '방송에도': 1, '막다른': 1, '약관': 1, '위드코로나': 2, '부산시': 1, '잇따르자': 1, '동영상': 15, '26명에게': 1, '귀사가': 1, '동물': 1, '문화엔터': 1, '3년': 1, '♬': 2, '뭐가': 1, '이재명': 3, '시작페이지로': 1, 'AI': 1, '이야기를': 1, '다': 1, '실체': 1, '쓰러지는데황당': 1, '나라④': 1, '수천억원': 1, '폭락1950년': 1, '단골이라는': 1, '카카오스토리': 2, 'Copyright': 1, '솔직후기': 1, '맑음': 18, '경상북도': 2, '6도': 2, '1도': 2, '내가': 1, '칭찬': 1, '같이': 1, '커뮤니케이션': 1, '1탭': 1, '해킹': 1, '팀장': 1, '구두': 2, '새': 1, '공장김치': 1, 'All': 1, '서울': 1, '번역': 1, '카카오프렌즈': 1, '오리지널': 2, '5': 5, '직장IN': 1, '디저트': 1, '것': 1, '편의점': 1, '북한도': 1, '토크': 1, 'BEST': 1, '＂뭐': 1, '읽고나보고': 1, '0도': 2, '운세': 1, '개인정보처리방침': 2, '보니': 2, '났습니다': 1, '팔로알토': 1, '트리플': 1, '부족': 1, '산다라박': 1, '준비는': 1, '공포에': 2, '어학사전': 1, '개정': 1, '권하는': 1, '비싼': 1, '0': 2, '쇼핑하우': 1, '국방비': 1, '너무': 1, 'lIlBOI': 1, 'gt': 4, 'X': 1, '카카오웹툰': 1, '말도': 1, '괜찮아요': 1, '여름엔': 1, 'by': 5, '고공': 1, '보기': 4, '난리': 1, '부동산': 2, 'NEW': 1, '주요': 2, '미세먼지': 1, '제주자치도': 1, 'Feat': 2, '금융': 1, '고객센터': 1, 'Men': 1, '끝난': 1, '메이커스': 1, '덕테크': 2, '여행맛집': 1, '김젬마＂소이현이': 1, '길찾기': 1, '토': 1, '출연한': 1, '같이가치': 3, 'lt': 4, '사회에서': 1, '다른': 1, '성급': 1, '절벽': 1, '선곡': 1, '내년': 1, '프로젝트100': 1, '자동실행': 1, '대전시': 1, '발생현황': 1, '배틀그라운드': 1, '무대': 1, '단어장': 1, '법': 1, '뉴스': 4, '더보기': 2, '꿈틀댄다': 1, '말에만': 1, '정황': 1, '이용약관': 1, '39한달살기39': 1, '로드뷰': 1, '이곳': 1, '운영정책': 1, '이': 2, '레고': 1, '짓quot': 1, '멀티미디어': 2, '베스트': 1, '김지산의': 1, '김세정': 1, '수': 1, '설정': 1, '필요': 1, '삽니다': 1, 'MMA': 1, '질병은': 1, '재감염': 1, '주요서비스': 1, '장혜진X김세정': 1, '티스토리': 4, '규제는': 1, '기준에': 1, '동네': 1, '리': 1, 'quot미슐랭': 1, '고세원': 1, '강촌': 1, '환율': 1, '오미크론': 3, '구매가의': 1, '하세요': 1, '멜론뮤직어워드': 1, '빠졌다': 1, '돌아가는': 1, '가자': 1, '묻는': 1, '홈amp쿠킹': 1, '알바': 1, '할': 1, '메뉴': 1, '세계로': 1, '부르게': 1, '추억하며': 1, '안소희': 1, 'Full': 1, '2도': 3, 'e즐펀한': 1, '진품': 1, '현황': 1, '청룡영화상': 1, '일반뉴스': 1, '더': 2, '한': 1, '맛을': 1, '닫기': 2, '요한': 1, '버티기': 1, '운전만해': 1, '4도': 3, '뮤직': 1, '선물하기': 1, '어제보다': 1, '아디다스도': 1, '세종': 1, '동심으로': 1, '날씨정보': 2, 'lsquo거창의': 1, '뽑은': 1, 'Daum': 2, '전수한': 1, '팩트체크': 1, 'rights': 1, 'lt이전': 1, '경기도': 1, '점주들': 1, '전': 1, '빌려': 1, '변이': 3, '짱구': 1, '27': 1, '국가들': 1, '광고': 1, '박수찬의': 1, '이슈': 1, '카카오TV': 2, '분노': 1, '퍼지나': 1, '39제주도화39': 1, '후': 1, '국제유가': 1, '정용진': 1, '없이': 2, '포토amp영상': 1, '전쟁': 1, '카카오비즈니스': 1, '곡은': 1, '페스티벌로': 1, '°C': 20, '댓글': 1, '현재': 5, '독립적인': 1, '2배': 1, '스위스rsquo라고': 1, '지역': 1, '통합': 1, '공지사항': 1, '인기': 1, '중앙일보': 1, '2': 5, '서울시': 1, '암': 1, '비수에': 1, '괜찮아': 1, '경상남도': 1, '공유': 1, '세미파이널': 1, '살인': 1, '브레이브걸스Brav': 1, '아이디로': 1, 'TV': 4, '위치기반서비스이용약관': 1, '이러다': 1, '맞군요': 1, '예약': 1, '피해자': 1, '잉꼬부부의': 1, '찾': 1, '싫어요': 1, '버스정보': 1, '카카오이모티콘샵': 1, '뺨맞고': 1, '유럽도': 1, '영하': 6, 'TV편성': 1, '전체': 5, '기후악당': 1, 'Duet': 1, '손': 1, '8897': 1, '아프리카': 1, '겨울용품': 1, 'middot': 13, '6': 4, '슬리피': 1, '가지': 1, '김장철': 1, '2021': 1, '박한신의': 1, '다음': 7, '는다': 1, '미디어': 3, '어른들도': 1, '웹툰': 2, '바로가기': 11, '그': 1, '시대': 1, '소금산': 1, '쇼핑': 3, '대구시': 1, '기준': 1, '위험': 1, '국민영수증': 1, '때문에': 2, '잠재적': 1, 'Vlog하루종일': 1, '웹': 1, '역대': 1, 'ISSUE': 1, '펼치기': 1, '소개': 1, '길에': 1, '시청자들에게': 1, '콘텐츠': 2, '안내': 2, '검색등록': 1, '게임': 3, '좋고': 1, '줘요＂이숙과': 1, '사과': 2, 'YTN': 1, '음주운전': 1, '풀버전9회': 1, '검색어': 1, '머니': 1, 'TIME': 1, '회원가입': 1, '31회': 1, '실시간': 1, '세계': 1, '3도': 3, 'FACE': 1, '높아': 1, '1939': 1, '소식': 1, '2만5000명체육관': 1, '반려동물': 1, '전라북도': 1, '우려': 1, '소코도모의': 1, '조정해야': 1, 'pH1': 1, '개코': 1, '쇼핑라이브': 1, '충청북도': 1, '카카오': 4, '통합대기': 1, 'ver': 1, '하하하': 1, '홍석천': 1, '목록': 2, '촌떡이': 1, '불리는': 1, '스웨덴': 1, '8': 1, '선택됨': 1, '될': 1, '쟈니': 1, '＂그냥': 1, '맞춤형광고': 1, '한글입력기': 1, '춤추던': 1, '사전': 1, '다소': 1, '캠핑장의': 1, '안은진': 1, '병': 1, '11도': 1, '영화': 2, '유익한': 2, '깎였는데': 1, '이전': 6, '직접': 1, '39디스코': 1, '제휴문의': 1, '음악적': 1, '그랜드밸리': 1, '광주시': 1, '맛집': 1, '도달거리두기': 1, '아시아': 1, '풍경': 1, '패스': 1, '비호감': 1, '모녀': 1, '中궈차오에': 1, '사랑과': 1, '명명': 1, '갈라진': 1, '1위에서': 1, '나라': 1, '나혼산': 1, '뚫렸다최악의': 1, '당신만의': 1, '물었다': 1, '빚투·영끌족': 1, '요원들에게': 1, '반발': 1, '軍': 1, '사전지식': 1, 'reserved': 1, '알아야': 1, '빨강': 2, '및': 1, '그들': 1, '갈': 1, '연재': 1, '일제히': 1, '3': 5, '나이키도': 1, '팡팡39청춘': 1, '우왕좌왕중소기업하기': 1, '자신의': 1, '데이트': 1, '다시': 2, '접근성': 1, '회사소개': 1, '정보': 7, '소리듣던': 1, '하는': 1, '깜푸와': 1, '오브': 1, '세계에서': 1, '로그인': 4, '대선': 1, '든': 1, '5도': 3, '누군가': 1, '꼭': 1, '청소년보호정책': 1, '산촌생활': 1, '강원도': 2, '주요장면': 2, '1': 6, '동굴': 1, '날씨': 21, '브런치': 4, '커': 1, '상세보기': 1, 'Corp': 1, '탭': 16, '마세요': 1, '용산': 1, '오마카세': 1, '증권': 1, '손맛보다': 1, '이미지': 2, '골목에': 1, '뉴스홈': 1, '오딘': 1, 'WHO': 1, '군맹무中': 1, '뉴욕증시': 1, '블로그': 4, '나꼼수': 1, '상승한': 1, '바다현': 1, '유용한': 1, '서비스': 5, '요즘': 1, 'BE': 1, '확진': 1, '일': 1, 'TV하이라이트': 2, '핫한': 1, '월미도': 1, '소셜임팩트': 1, 'We': 1, '공식입장': 1, '고민에': 1, '지하철노선도': 1, '자동차': 3, '전망대까지원주': 1, '비': 1, '랭킹': 1, '인천시': 2, '왜': 1, '오늘의': 4, '신스': 1, '이방인입니다': 1, '검색': 4, '웹접근성안내': 1, '증시': 2, '글': 1, '7': 1, '뺨치던': 1, '39사람들': 1, '변호': 1, 'BTS': 1, '공기환에': 1, '뭉치기': 1, '누': 2, '한국에서': 1, 'gt다음': 1, '대답해': 1, '가기도': 1, '조카': 1, '하다': 1, '요령': 1, 'QR코드': 1, '최강의': 1, '끼니를': 1, '규제에': 1, '42회': 1, '받아': 1, '찾던': 1, '하루': 1, '멜로너가': 1, 'Ride': 1, '없는': 2, '전라남도': 2, '연예': 2, '확인법': 1, '전시회': 1, '아무': 1, '죽어역대': 1, '살해': 1, '영상': 13, '낙폭': 1, '메일': 2, '맛집이': 1, '번': 1, '추천갤러리': 2, '하락': 1, '스타일': 1, '레전드': 1, '가져오면': 1, '아이랑': 1, '전체보기': 2, '내게로': 1, '백과사전': 1, '가장': 3, '첫': 1, '이방인이지만': 1, '기준금리': 1, '뮤직뱅크': 1, '먹기만': 1, '©': 1, '스포츠': 2, '것을': 1, '김광영을': 1, '최고': 1, '없더니李': 1, '포토': 4, '힘든': 1, '안타까운': 1}\n",
      "\n",
      "4. 필터링 후 단어의 개수: 581개\n",
      "\n",
      "5. 불용어 필터링 후 출현빈도 수\n",
      "\n",
      "{'지도': 2, '아무튼': 1, '근포항이': 1, '카카오계정으로': 1, '이자부담': 1, '알코올': 1, '울산시': 1, '아닌': 1, '엑자일': 1, '카카오헤어샵': 1, '금쪽상담소': 1, '입국금지': 1, '인공': 1, '왔다': 1, '추천': 1, '바이러스': 1, '변호사라서': 1, '대처하는': 1, '카페': 4, '이제': 1, '코로나19': 1, '멜론': 1, '다음을': 1, '임시병상': 1, '아이들과': 1, '힘들': 1, '2030': 1, 'quot미친': 1, '술': 1, '4인방': 1, '커머스톡': 1, '이름': 1, '맞추지마39': 1, '쇼핑생활': 1, 'ESG': 1, '두': 1, '인재냐고요': 1, '기리보이': 1, '인재채용': 1, '비즈니스': 1, '손녀라는': 1, '소린데': 1, '월패드': 1, '11': 3, '39코로나': 1, '친절한': 1, 'Kakao': 1, '빽가': 1, '방송에도': 1, '막다른': 1, '약관': 1, '위드코로나': 2, '부산시': 1, '잇따르자': 1, '동영상': 15, '26명에게': 1, '귀사가': 1, '동물': 1, '문화엔터': 1, '3년': 1, '♬': 2, '뭐가': 1, '이재명': 3, '시작페이지로': 1, 'AI': 1, '이야기를': 1, '다': 1, '실체': 1, '쓰러지는데황당': 1, '나라④': 1, '수천억원': 1, '폭락1950년': 1, '단골이라는': 1, '카카오스토리': 2, 'Copyright': 1, '솔직후기': 1, '맑음': 18, '경상북도': 2, '6도': 2, '1도': 2, '내가': 1, '칭찬': 1, '커뮤니케이션': 1, '1탭': 1, '해킹': 1, '팀장': 1, '구두': 2, '새': 1, '공장김치': 1, 'All': 1, '서울': 1, '번역': 1, '카카오프렌즈': 1, '오리지널': 2, '직장IN': 1, '디저트': 1, '편의점': 1, '북한도': 1, '토크': 1, 'BEST': 1, '＂뭐': 1, '읽고나보고': 1, '0도': 2, '운세': 1, '개인정보처리방침': 2, '보니': 2, '났습니다': 1, '팔로알토': 1, '트리플': 1, '부족': 1, '산다라박': 1, '준비는': 1, '공포에': 2, '어학사전': 1, '개정': 1, '권하는': 1, '비싼': 1, '쇼핑하우': 1, '국방비': 1, '너무': 1, 'lIlBOI': 1, 'gt': 4, 'X': 1, '카카오웹툰': 1, '말도': 1, '괜찮아요': 1, '여름엔': 1, '고공': 1, '보기': 4, '난리': 1, '부동산': 2, 'NEW': 1, '주요': 2, '미세먼지': 1, '제주자치도': 1, 'Feat': 2, '금융': 1, '고객센터': 1, 'Men': 1, '끝난': 1, '메이커스': 1, '덕테크': 2, '여행맛집': 1, '김젬마＂소이현이': 1, '길찾기': 1, '토': 1, '출연한': 1, '같이가치': 3, 'lt': 4, '사회에서': 1, '성급': 1, '절벽': 1, '선곡': 1, '내년': 1, '프로젝트100': 1, '자동실행': 1, '대전시': 1, '발생현황': 1, '배틀그라운드': 1, '무대': 1, '단어장': 1, '법': 1, '뉴스': 4, '더보기': 2, '꿈틀댄다': 1, '말에만': 1, '정황': 1, '이용약관': 1, '39한달살기39': 1, '로드뷰': 1, '운영정책': 1, '레고': 1, '짓quot': 1, '멀티미디어': 2, '베스트': 1, '김지산의': 1, '김세정': 1, '수': 1, '설정': 1, '필요': 1, '삽니다': 1, 'MMA': 1, '질병은': 1, '재감염': 1, '주요서비스': 1, '장혜진X김세정': 1, '티스토리': 4, '규제는': 1, '기준에': 1, '동네': 1, '리': 1, 'quot미슐랭': 1, '고세원': 1, '강촌': 1, '환율': 1, '오미크론': 3, '구매가의': 1, '하세요': 1, '멜론뮤직어워드': 1, '빠졌다': 1, '돌아가는': 1, '가자': 1, '묻는': 1, '홈amp쿠킹': 1, '알바': 1, '할': 1, '메뉴': 1, '세계로': 1, '부르게': 1, '추억하며': 1, '안소희': 1, 'Full': 1, '2도': 3, 'e즐펀한': 1, '진품': 1, '현황': 1, '청룡영화상': 1, '일반뉴스': 1, '더': 2, '한': 1, '맛을': 1, '닫기': 2, '요한': 1, '버티기': 1, '운전만해': 1, '4도': 3, '뮤직': 1, '선물하기': 1, '어제보다': 1, '아디다스도': 1, '세종': 1, '동심으로': 1, '날씨정보': 2, 'lsquo거창의': 1, '뽑은': 1, 'Daum': 2, '전수한': 1, '팩트체크': 1, 'rights': 1, 'lt이전': 1, '경기도': 1, '점주들': 1, '전': 1, '빌려': 1, '변이': 3, '짱구': 1, '27': 1, '국가들': 1, '광고': 1, '박수찬의': 1, '이슈': 1, '카카오TV': 2, '분노': 1, '퍼지나': 1, '39제주도화39': 1, '후': 1, '국제유가': 1, '정용진': 1, '없이': 2, '포토amp영상': 1, '전쟁': 1, '카카오비즈니스': 1, '곡은': 1, '페스티벌로': 1, '°C': 20, '댓글': 1, '현재': 5, '독립적인': 1, '2배': 1, '스위스rsquo라고': 1, '지역': 1, '통합': 1, '공지사항': 1, '인기': 1, '중앙일보': 1, '서울시': 1, '암': 1, '비수에': 1, '괜찮아': 1, '경상남도': 1, '공유': 1, '세미파이널': 1, '살인': 1, '브레이브걸스Brav': 1, '아이디로': 1, 'TV': 4, '위치기반서비스이용약관': 1, '이러다': 1, '맞군요': 1, '예약': 1, '피해자': 1, '잉꼬부부의': 1, '찾': 1, '싫어요': 1, '버스정보': 1, '카카오이모티콘샵': 1, '뺨맞고': 1, '유럽도': 1, '영하': 6, 'TV편성': 1, '전체': 5, '기후악당': 1, 'Duet': 1, '손': 1, '8897': 1, '아프리카': 1, '겨울용품': 1, 'middot': 13, '슬리피': 1, '가지': 1, '김장철': 1, '2021': 1, '박한신의': 1, '는다': 1, '미디어': 3, '어른들도': 1, '웹툰': 2, '바로가기': 11, '시대': 1, '소금산': 1, '쇼핑': 3, '대구시': 1, '기준': 1, '위험': 1, '국민영수증': 1, '잠재적': 1, 'Vlog하루종일': 1, '웹': 1, '역대': 1, 'ISSUE': 1, '펼치기': 1, '소개': 1, '길에': 1, '시청자들에게': 1, '콘텐츠': 2, '안내': 2, '검색등록': 1, '게임': 3, '좋고': 1, '줘요＂이숙과': 1, '사과': 2, 'YTN': 1, '음주운전': 1, '풀버전9회': 1, '검색어': 1, '머니': 1, 'TIME': 1, '회원가입': 1, '31회': 1, '실시간': 1, '세계': 1, '3도': 3, 'FACE': 1, '높아': 1, '1939': 1, '소식': 1, '2만5000명체육관': 1, '반려동물': 1, '전라북도': 1, '우려': 1, '소코도모의': 1, '조정해야': 1, 'pH1': 1, '개코': 1, '쇼핑라이브': 1, '충청북도': 1, '카카오': 4, '통합대기': 1, 'ver': 1, '하하하': 1, '홍석천': 1, '목록': 2, '촌떡이': 1, '불리는': 1, '스웨덴': 1, '선택됨': 1, '될': 1, '쟈니': 1, '＂그냥': 1, '맞춤형광고': 1, '한글입력기': 1, '춤추던': 1, '사전': 1, '캠핑장의': 1, '안은진': 1, '병': 1, '11도': 1, '영화': 2, '유익한': 2, '깎였는데': 1, '이전': 6, '직접': 1, '39디스코': 1, '제휴문의': 1, '음악적': 1, '그랜드밸리': 1, '광주시': 1, '맛집': 1, '도달거리두기': 1, '아시아': 1, '풍경': 1, '패스': 1, '비호감': 1, '모녀': 1, '中궈차오에': 1, '사랑과': 1, '명명': 1, '갈라진': 1, '1위에서': 1, '나라': 1, '나혼산': 1, '뚫렸다최악의': 1, '당신만의': 1, '물었다': 1, '빚투·영끌족': 1, '요원들에게': 1, '반발': 1, '軍': 1, '사전지식': 1, 'reserved': 1, '알아야': 1, '빨강': 2, '갈': 1, '연재': 1, '일제히': 1, '나이키도': 1, '팡팡39청춘': 1, '우왕좌왕중소기업하기': 1, '자신의': 1, '데이트': 1, '다시': 2, '접근성': 1, '회사소개': 1, '정보': 7, '소리듣던': 1, '하는': 1, '깜푸와': 1, '오브': 1, '세계에서': 1, '로그인': 4, '대선': 1, '든': 1, '5도': 3, '누군가': 1, '꼭': 1, '청소년보호정책': 1, '산촌생활': 1, '강원도': 2, '주요장면': 2, '동굴': 1, '날씨': 21, '브런치': 4, '커': 1, '상세보기': 1, 'Corp': 1, '탭': 16, '마세요': 1, '용산': 1, '오마카세': 1, '증권': 1, '손맛보다': 1, '이미지': 2, '골목에': 1, '뉴스홈': 1, '오딘': 1, 'WHO': 1, '군맹무中': 1, '뉴욕증시': 1, '블로그': 4, '나꼼수': 1, '상승한': 1, '바다현': 1, '유용한': 1, '서비스': 5, '요즘': 1, 'BE': 1, '확진': 1, 'TV하이라이트': 2, '핫한': 1, '월미도': 1, '소셜임팩트': 1, 'We': 1, '공식입장': 1, '고민에': 1, '지하철노선도': 1, '자동차': 3, '전망대까지원주': 1, '비': 1, '랭킹': 1, '인천시': 2, '오늘의': 4, '신스': 1, '이방인입니다': 1, '검색': 4, '웹접근성안내': 1, '증시': 2, '글': 1, '뺨치던': 1, '39사람들': 1, '변호': 1, 'BTS': 1, '공기환에': 1, '뭉치기': 1, '누': 2, '한국에서': 1, 'gt다음': 1, '대답해': 1, '가기도': 1, '조카': 1, '하다': 1, '요령': 1, 'QR코드': 1, '최강의': 1, '끼니를': 1, '규제에': 1, '42회': 1, '받아': 1, '찾던': 1, '하루': 1, '멜로너가': 1, 'Ride': 1, '없는': 2, '전라남도': 2, '연예': 2, '확인법': 1, '전시회': 1, '아무': 1, '죽어역대': 1, '살해': 1, '영상': 13, '낙폭': 1, '메일': 2, '맛집이': 1, '번': 1, '추천갤러리': 2, '하락': 1, '스타일': 1, '레전드': 1, '가져오면': 1, '아이랑': 1, '전체보기': 2, '내게로': 1, '백과사전': 1, '가장': 3, '첫': 1, '이방인이지만': 1, '기준금리': 1, '뮤직뱅크': 1, '먹기만': 1, '©': 1, '스포츠': 2, '것을': 1, '김광영을': 1, '최고': 1, '없더니李': 1, '포토': 4, '힘든': 1, '안타까운': 1}\n",
      "\n",
      "6. 불용어 필터링 후 단어의 개수: 558개\n",
      "\n",
      "\n",
      "7. 가장 많이 출현한 단어\n",
      "\n",
      "('날씨', 21)\n",
      "('°C', 20)\n",
      "('맑음', 18)\n"
     ]
    }
   ],
   "source": [
    "# 4. 다음 사이트 필터링 결과\n",
    "url4 = 'www.daum.net'\n",
    "scrapURL(url4)"
   ]
  },
  {
   "cell_type": "code",
   "execution_count": 37,
   "id": "c3ed6e21",
   "metadata": {
    "scrolled": false
   },
   "outputs": [
    {
     "name": "stderr",
     "output_type": "stream",
     "text": [
      "C:\\Users\\Leesy\\anaconda3\\envs\\script\\lib\\site-packages\\urllib3\\connectionpool.py:1013: InsecureRequestWarning: Unverified HTTPS request is being made to host 'www.nytimes.com'. Adding certificate verification is strongly advised. See: https://urllib3.readthedocs.io/en/1.26.x/advanced-usage.html#ssl-warnings\n",
      "  warnings.warn(\n"
     ]
    },
    {
     "name": "stdout",
     "output_type": "stream",
     "text": [
      "사이트 주소가 정상입니다.\n",
      "\n",
      "1. 필터링된 source 값 리스트\n",
      "\n",
      " ['The', 'New', 'York', 'Times', 'Breaking', 'News', 'US', 'News', 'World', 'News', 'and', 'Videos', 'Sections', 'SEARCH', 'Skip', 'to', 'content', 'Skip', 'to', 'site', 'index', 'US', 'International', 'Canada', 'Español', '中文', 'Today’s', 'Paper', 'World', 'US', 'Politics', 'NY', 'Business', 'Opinion', 'Tech', 'Science', 'Health', 'Sports', 'Arts', 'Books', 'Style', 'Food', 'Travel', 'Magazine', 'T', 'Magazine', 'Real', 'Estate', 'Video', 'Breaking', 'Stephen', 'Sondheim', 'is', 'dead', 'at', '91', 'One', 'of', 'Broadway’s', 'most', 'revered', 'songwriters', 'he', 'set', 'the', 'standard', 'for', 'the', 'American', 'musical', 'Live', 'WHO', 'Warns', 'New', 'Virus', 'Variant', 'Is', '‘of', 'Concern’', 'US', 'Imposes', 'Travel', 'Limits', 'The', 'US', 'joined', 'several', 'other', 'countries', 'in', 'prohibiting', 'travelers', 'from', 'southern', 'Africa', 'in', 'an', 'effort', 'to', 'keep', 'the', 'variant', 'from', 'spreading', 'The', 'World', 'Health', 'Organization', 'said', 'preliminary', 'evidence', 'suggests', 'the', 'variant', 'named', 'Omicron', 'has', 'an', 'increased', 'risk', 'of', 'reinfection', 'Follow', 'Covid', 'updates', 'Jerome', 'DelayAssociated', 'Press', 'Markets', 'Tumble', 'in', 'Worst', 'Day', 'Since', 'February', 'Stocks', 'and', 'oil', 'futures', 'slumped', 'and', 'investors', 'sought', 'safety', 'in', 'government', 'bonds', 'as', 'the', 'new', 'variant', 'reignited', 'concerns', 'about', 'the', 'virus’s', 'economic', 'toll', 'Here’s', 'what', 'scientists', 'know', 'about', 'the', 'new', 'variant', 'A', 'Times', 'correspondent', 'left', 'South', 'Africa', 'and', 'wound', 'up', 'reporting', 'from', 'a', 'plane', 'held', 'on', 'the', 'tarmac', 'in', 'Amsterdam', 'Advertisement', 'Continue', 'reading', 'the', 'main', 'story', 'Breaking', 'Stephen', 'Sondheim', 'Titan', 'of', 'the', 'American', 'Musical', 'Is', 'Dead', 'at', '91', 'He', 'was', 'the', 'theater’s', 'most', 'revered', 'and', 'influential', 'composerlyricist', 'of', 'the', 'last', 'half', 'of', 'the', '20th', 'century', 'and', 'the', 'driving', 'force', 'behind', 'beloved', 'Broadway', 'shows', 'Fred', 'R', 'ConradThe', 'New', 'York', 'Times', 'In', 'Final', 'Analysis', 'Merck', 'Says', 'Its', 'Antiviral', 'Pill', 'Is', 'Less', 'Effective', 'The', 'drug', 'reduced', 'the', 'risk', 'of', 'hospitalization', 'and', 'death', 'in', 'highrisk', 'Covid', 'patients', 'by', '30', 'percent', 'An', 'earlier', 'analysis', 'had', 'found', 'a', '50', 'percent', 'reduction', 'Tracking', 'the', 'Coronavirus', '›', 'United', 'States', '›', 'United', 'States', '›', 'United', 'States', 'Avg', 'on', 'Nov', '25', '14day', 'change', 'New', 'cases', '92221', '20', 'New', 'deaths', '1066', '–10', 'Many', 'states', 'did', 'not', 'report', 'data', 'on', 'Thanksgiving', 'US', 'hot', 'spots', '›', 'Vaccinations', '›', 'Global', 'hot', 'spots', '›', 'Other', 'trackers', 'Look', 'up', 'your', 'county', 'Global', 'vaccinations', 'UK', 'Mich', 'Minn', 'NM', 'Hospitals', 'Vaccine', 'development', 'Other', 'trackers', 'Look', 'up', 'your', 'county', 'Global', 'vaccinations', 'UK', 'Mich', 'Minn', 'NM', 'Hospitals', 'Vaccine', 'development', 'In', 'IOC’s', '‘Quiet', 'Diplomacy’', 'Critics', 'See', 'Whitewash', 'of', 'China’s', 'Actions', 'The', 'handling', 'of', 'the', 'disappearance', 'of', 'Peng', 'Shuai', 'a', 'threetime', 'Olympian', 'raised', 'questions', 'about', 'the', 'International', 'Olympic', 'Committee’s', 'relationship', 'with', 'China', 'Tingshu', 'WangReuters', 'Guantánamo', 'Bay', 'Beyond', 'the', 'Prison', 'With', '6000', 'residents', 'the', 'US', 'Navy', 'base', 'has', 'some', 'of', 'the', 'trappings', 'of', 'smalltown', 'America', 'and', 'some', 'of', 'a', 'police', 'state', 'Erin', 'SchaffThe', 'New', 'York', 'Times', 'Erin', 'SchaffThe', 'New', 'York', 'Times', 'Erin', 'SchaffThe', 'New', 'York', 'Times', 'Erin', 'SchaffThe', 'New', 'York', 'Times', 'Erin', 'SchaffThe', 'New', 'York', 'Times', 'Erin', 'SchaffThe', 'New', 'York', 'Times', 'Erin', 'SchaffThe', 'New', 'York', 'Times', 'A', 'Tree', 'That', 'Was', 'Once', 'the', 'Suburban', 'Ideal', 'Has', 'Become', 'a', 'Villain', 'The', 'Bradford', 'pear', 'hugely', 'popular', 'when', 'suburbs', 'were', 'developed', 'morphed', 'into', 'a', 'harmful', 'invasion', 'of', 'trees', 'South', 'Carolina', 'is', 'fighting', 'against', 'it', 'Mike', 'Belleme', 'for', 'The', 'New', 'York', 'Times', 'The', 'Great', 'Read', 'In', 'Good', 'Spirits', 'Carissa', 'Schumacher', 'channels', 'the', 'dead', 'for', 'Alist', 'celebrity', 'clients', 'But', 'most', 'days', 'she’s', 'in', 'the', 'forest', 'Michelle', 'Groskopf', 'for', 'The', 'New', 'York', 'Times', 'Thanksgiving', 'Creative', 'Leftover', 'Turkey', 'Recipes', 'Leftovers', 'for', 'Breakfast', 'Transform', 'Your', 'Stuffing', 'Andrew', 'Purcell', 'for', 'The', 'New', 'York', 'Times', 'Thanksgiving', 'Leftovers', 'Recipes', 'Leftovers', 'are', 'quite', 'possibly', 'the', 'best', 'part', 'of', 'the', 'holiday', 'Here’s', 'what', 'to', 'do', 'with', 'them', 'Advertisement', 'Continue', 'reading', 'the', 'main', 'story', 'Black', 'Friday', 'Deals', 'Under', '50', 'Here', 'are', 'some', 'of', 'the', 'best', 'deals', 'we’ve', 'found', 'on', 'Wirecutter', 'picks', '—', 'all', 'of', 'them', 'vetted', 'by', 'our', 'team', 'of', 'expert', 'testers', 'Wirecutter', 'Staff', 'Searching', 'for', 'the', 'perfect', 'gift', 'Our', 'guide', 'has', 'dozens', 'of', 'suggestions', 'Prices', 'are', 'soaring', 'but', 'a', 'few', 'gifts', 'are', 'even', 'cheaper', 'than', 'two', 'years', 'ago', 'our', 'columnist', 'writes', 'College', 'Football', 'Games', 'to', 'Watch', 'This', 'Week', 'Alanis', 'Thames', 'Feasting', 'on', 'college', 'football', '🏈', 'College', 'Football', 'Games', 'to', 'Watch', 'This', 'Week', 'Alanis', 'Thames', 'Feasting', 'on', 'college', 'football', '🏈', 'Carlos', 'OsorioAssociated', 'Press', 'November', 'brings', 'a', 'buffet', 'of', 'juicy', 'college', 'football', 'storylines', 'And', 'rivalry', 'week', 'is', 'the', 'last', 'course', 'Highstakes', 'games', 'are', 'on', 'the', 'menu', 'this', 'week', 'Here', 'are', 'the', 'games', 'I’ll', 'be', 'watching', '→', 'College', 'Football', 'Games', 'to', 'Watch', 'This', 'Week', 'Alanis', 'Thames', 'Feasting', 'on', 'college', 'football', '🏈', 'Jay', 'LapreteAssociated', 'Press', 'Ohio', 'StateMichigan', 'In', 'perhaps', 'the', 'biggest', 'game', 'of', 'the', 'week', 'the', 'winner', 'takes', 'the', 'Big', 'Ten', 'East', 'gets', 'to', 'the', 'conference', 'championship', 'game', 'and', 'is', 'probably', 'in', 'the', 'College', 'Football', 'Playoff', 'College', 'Football', 'Games', 'to', 'Watch', 'This', 'Week', 'Alanis', 'Thames', 'Feasting', 'on', 'college', 'football', '🏈', 'Alonzo', 'AdamsAssociated', 'Press', 'OklahomaOklahoma', 'State', 'Two', 'oneloss', 'teams', 'that', 'could', 'meet', 'again', 'in', 'the', 'Big', '12', 'Championship', 'game', 'The', 'winner', 'may', 'strengthen', 'its', 'case', 'for', 'a', 'spot', 'in', 'the', 'playoffs', 'College', 'Football', 'Games', 'to', 'Watch', 'This', 'Week', 'Alanis', 'Thames', 'Feasting', 'on', 'college', 'football', '🏈', 'Vasha', 'HuntAssociated', 'Press', 'AlabamaAuburn', 'History', 'teaches', 'us', 'that', 'the', 'Iron', 'Bowl', 'needs', 'little', 'promotion', 'though', 'this', 'one', 'lacks', 'the', 'usual', 'luster', 'Alabama', 'can', 'bolster', 'its', 'playoff', 'resume', 'with', 'a', 'dominant', 'win', 'but', 'Auburn', 'has', 'been', 'a', 'spoiler', 'before', 'College', 'Football', 'Games', 'to', 'Watch', 'This', 'Week', 'Alanis', 'Thames', 'Feasting', 'on', 'college', 'football', '🏈', 'Andy', 'NelsonAssociated', 'Press', 'Oregon', 'StateOregon', 'The', 'stakes', 'were', 'much', 'higher', 'for', 'Oregon', 'before', 'last', 'week’s', 'loss', 'to', 'Utah', 'but', 'these', 'two', 'teams', 'are', 'playing', 'to', 'win', 'the', 'Pac12', 'North', 'and', 'get', 'to', 'the', 'conference', 'title', 'game', 'Follow', 'more', 'of', 'our', 'College', 'Football', 'Coverage', 'here', 'Utah', 'Dominates', 'Oregon', 'Upending', 'Pac12’s', 'Playoff', 'Hopes', 'After', 'a', 'Year', 'Off', 'and', 'an', 'Off', 'Year', 'Ivy', 'League', 'Crowns', 'Familiar', 'Champions', 'Copy', 'story', 'link', '1h', 'ago', 'Item', '1', 'of', '6', 'Opinion', 'Greg', 'Weiner', 'There', 'Is', 'Another', 'Democrat', 'AOC', 'Should', 'Be', 'Mad', 'At', 'Cybèle', 'C', 'Greenberg', 'The', 'Military’s', 'Broken', 'Culture', 'Around', 'Sexual', 'Violence', 'and', 'Suicide', 'Illustration', 'by', 'Rebecca', 'ChewThe', 'New', 'York', 'Times', 'photograph', 'courtesy', 'of', 'the', 'Vassas', 'family', 'JoAnna', 'Novak', 'We’re', 'Longing', 'for', 'the', 'One', 'Thing', 'the', 'Metaverse', 'Can’t', 'Give', 'Us', 'Mark', 'Bittman', 'How', 'to', 'Make', 'Really', 'Good', 'Bread', 'Sarah', 'Wildman', 'SelfSufficiency', 'Is', 'Overrated', 'Farhad', 'Manjoo', 'Gus', 'Wezerek', 'and', 'Yaryna', 'Serkez', 'Everyone’s', 'Moving', 'to', 'Texas', 'Here’s', 'Why', 'Jon', 'Han', 'Esau', 'McCaulley', 'I', 'Grew', 'Up', 'Poor', 'How', 'Am', 'I', 'Supposed', 'to', 'Raise', 'My', 'MiddleClass', 'Kids', 'Leah', 'Pierson', 'and', 'Emma', 'Pierson', 'Genetic', 'Risks', 'for', 'Cancer', 'Should', 'Not', 'Mean', 'Financial', 'Hardship', 'Join', 'the', 'Comedian', 'Michelle', 'Buteau', 'at', 'a', 'Times', 'Event', 'on', 'the', '‘Joys’', 'of', 'Parenting', 'The', 'No', 'Good', 'Very', 'Bad', 'Truth', 'About', 'the', 'Internet', 'and', 'Our', 'Kids', 'Christopher', 'Caldwell', 'Bankers', 'Took', 'Over', 'the', 'Climate', 'Change', 'Summit', 'That’s', 'Bad', 'For', 'Democracy', 'Danté', 'Stewart', 'I', 'Was', 'With', 'Family', 'Suddenly', 'a', 'White', 'Man', 'Appeared', 'with', 'a', 'Gun', 'Tom', 'Morello', 'The', 'Band', 'That', 'Made', 'Me', 'Who', 'I', 'Am', 'In', 'Their', '80s', 'and', 'Living', 'It', 'Up', 'or', 'Not', 'What', 'Subscribers', 'Are', 'Reading', 'Jenn', 'Ackerman', 'for', 'The', 'New', 'York', 'Times', 'As', 'Turkeys', 'Take', 'Over', 'Campus', 'Some', 'Colleges', 'Are', 'More', 'Thankful', 'Than', 'Others', 'Jeenah', 'Moon', 'for', 'The', 'New', 'York', 'Times', 'When', 'Shoppers', 'Pack', 'Stores', 'the', 'Workers', 'They', 'Find', 'May', 'Be', 'Unvaccinated', 'Bryan', 'Derballa', 'for', 'The', 'New', 'York', 'Times', 'Rivian’s', 'Electric', 'Truck', 'Is', 'a', 'Cutie', 'and', 'a', 'Beast', 'Matthew', 'Busch', 'for', 'The', 'New', 'York', 'Times', 'Burial', 'Ground', 'Under', 'the', 'Alamo', 'Stirs', 'a', 'Texas', 'Feud', 'Beth', 'Coller', 'for', 'The', 'New', 'York', 'Times', 'Tired', 'of', 'the', 'East', 'Coast', 'They', 'Followed', 'Their', 'Hearts', 'to', 'Los', 'Angeles', 'Advertisement', 'Continue', 'reading', 'the', 'main', 'story', 'Your', 'Evening', 'Briefing', 'Here’s', 'what', 'you', 'need', 'to', 'know', 'at', 'the', 'end', 'of', 'the', 'day', 'Listen', 'to', '‘The', 'Book', 'Review', 'Podcast’', 'Ann', 'Patchett', 'talks', 'about', 'her', 'new', 'essay', 'collection', 'and', 'Corey', 'Brettschneider', 'discusses', 'a', 'series', 'of', 'books', 'about', 'liberty', 'Subscribe', 'to', 'the', 'Watching', 'Newsletter', 'Get', 'streaming', 'TV', 'and', 'movie', 'recommendations', 'delivered', 'to', 'your', 'inbox', 'Have', 'a', 'Story', 'About', 'Seeing', 'Your', 'Parent', 'Differently', 'The', 'Modern', 'Love', 'Podcast', 'wants', 'to', 'hear', 'about', 'a', 'time', 'your', 'perception', 'of', 'your', 'parents', 'changed', 'More', 'News', 'Live', 'Here’s', 'What', 'Black', 'Friday', 'Looks', 'Like', 'Across', 'America', 'One', 'retail', 'expert', 'anticipates', 'that', 'shoppers', 'will', 'spend', 'more', 'this', 'year', 'than', 'in', '2020', 'And', 'while', 'inperson', 'shopping', 'has', 'returned', 'many', 'items', 'are', 'outofstock', 'Manhattan', 'Gabriela', 'BhaskarThe', 'New', 'York', 'Times', 'Paramus', 'NJ', 'Karsten', 'Moran', 'for', 'The', 'New', 'York', 'Times', 'San', 'Francisco', 'Calif', 'Jason', 'Henry', 'for', 'The', 'New', 'York', 'Times', 'Bloomington', 'Minn', 'Tim', 'Gruber', 'for', 'The', 'New', 'York', 'Times', 'Greenwood', 'Ind', 'Kaiti', 'Sullivan', 'for', 'The', 'New', 'York', 'Times', 'Manhattan', 'Gabriela', 'BhaskarThe', 'New', 'York', 'Times', 'Indianapolis', 'Ind', 'Kaiti', 'Sullivan', 'for', 'The', 'New', 'York', 'Times', 'Paramus', 'NJ', 'Karsten', 'Moran', 'for', 'The', 'New', 'York', 'Times', 'That', '‘Team', 'Beto’', 'FundRaising', 'Email', 'It', 'Might', 'Not', 'Be', 'From', 'Beto', 'Mimicking', 'official', 'mail', 'is', 'an', 'ageold', 'marketing', 'trick', 'But', 'messages', 'suggesting', 'links', 'to', 'Beto', 'O’Rourke’s', 'campaign', 'show', 'how', 'the', 'tactic', 'has', 'accelerated', 'Acrimony', 'Between', 'France', 'and', 'Britain', 'Impedes', 'Progress', 'on', 'Channel', 'Crossings', 'Rather', 'than', 'working', 'together', 'to', 'curb', 'hazardous', 'sea', 'crossings', 'leaders', 'of', 'the', 'two', 'countries', 'almost', 'immediately', 'fell', 'into', 'a', 'familiar', 'pattern', 'of', 'squabbling', 'He', 'Knows', 'the', 'Biggest', 'Secret', 'in', 'Sports', 'No', 'He', 'Won’t', 'Tell', 'Private', 'email', 'servers', 'secret', 'meetings', 'confidentiality', 'How', 'the', 'identity', 'of', 'the', 'winner', 'of', 'soccer’s', 'biggest', 'individual', 'prize', 'is', 'guarded', 'like', 'a', 'state', 'secret', '‘Afghan', 'Girl’', 'From', '1985', 'National', 'Geographic', 'Cover', 'Takes', 'Refuge', 'in', 'Italy', 'Interior', 'Dept', 'Report', 'on', 'Drilling', 'Is', 'Mostly', 'Silent', 'on', 'Climate', 'Change', 'Olympic', 'Official', 'Who', 'Delivered', 'Rio', 'Games', 'Sentenced', 'to', '30', 'Years', 'for', 'Bribery', 'After', 'Meeting', 'With', 'Victim', 'Former', 'Officer', 'Is', 'Cleared', 'of', 'Assault', 'Slain', 'Woman', 'Had', 'Begged', 'Apartment', 'Complex', 'to', 'Change', 'Locks', 'Lawsuit', 'Claims', 'Iraqis', 'Return', 'Home', 'After', 'Failing', 'to', 'Reach', 'EU', 'but', 'Some', 'Vow', 'to', 'Try', 'Again', 'Recommendations', 'From', 'Wirecutter', 'Learn', 'more', 'about', 'us', '»', 'The', 'Best', 'Black', 'Friday', 'Deals', 'Most', 'Black', 'Friday', '“deals”', 'are', 'overhyped', 'discounts', 'on', 'mediocre', 'products', 'We', 'only', 'post', 'real', 'deals', 'on', 'great', 'stuff', 'that', 'we’ve', 'tested', 'and', 'recommend', 'Wirecutter', 'Staff', 'Deals', 'on', 'Apple', 'Gear', 'Finding', 'worthwhile', 'deals', 'on', 'Apple', 'gadgets', 'can', 'be', 'hard', 'We', 'can', 'help', 'Black', 'Friday', 'MegaDiscounts', 'of', '50', 'Percent', 'or', 'More', 'It’s', 'rare', 'to', 'find', 'huge', 'savings', 'on', 'Wirecutter', 'picks', 'But', 'we', 'found', 'some', 'Deals', 'on', 'Gifts', 'We', 'Love', 'Digital', 'photo', 'frames', 'action', 'cameras', 'ice', 'cream', 'makers', 'robes', 'and', 'more', 'Advertisement', 'Continue', 'reading', 'the', 'main', 'story', '5', 'Expert', 'Tips', 'for', 'Black', 'Friday', 'Shopping', 'Nathan', 'Burrow', 'Reporting', 'for', 'Wirecutter', '💰', '5', 'Expert', 'Tips', 'for', 'Black', 'Friday', 'Shopping', 'Nathan', 'Burrow', 'Reporting', 'for', 'Wirecutter', '💰', 'Michael', 'Hession', 'Black', 'Friday', 'has', 'traditionally', 'been', 'the', 'best', 'time', 'to', 'snag', 'amazing', 'deals', 'but', 'stock', 'shortages', 'and', 'shipping', 'delays', 'have', 'changed', 'the', 'rules', 'this', 'year', 'Here’s', 'how', 'to', 'have', 'a', 'truly', 'excellent', 'shopping', 'experience', '→', '5', 'Expert', 'Tips', 'for', 'Black', 'Friday', 'Shopping', 'Nathan', 'Burrow', 'Reporting', 'for', 'Wirecutter', '💰', 'Michael', 'Murtaugh', 'If', 'there’s', 'something', 'buzzy', 'you', 'want', 'like', 'hot', 'seasonal', 'toys', 'or', 'game', 'consoles', 'monitor', 'its', 'availability', 'and', 'price', 'at', 'multiple', 'reliable', 'retailers', 'If', 'you', 'see', 'what', 'you', 'want', 'at', 'a', 'price', 'you’re', 'willing', 'to', 'pay', 'buy', 'it', 'rather', 'than', 'wait', '5', 'Expert', 'Tips', 'for', 'Black', 'Friday', 'Shopping', 'Nathan', 'Burrow', 'Reporting', 'for', 'Wirecutter', '💰', 'Walmart', 'Don’t', 'impulsebuy', 'mediocre', 'products', 'A', 'bargainbasement', 'flat', 'screen', 'may', 'be', 'a', 'pleasant', 'surprise', 'but', 'you', 'should', 'buy', 'it', 'with', 'the', 'understanding', 'that', 'it’s', 'nearer', 'to', 'obsolescence', 'and', 'more', 'cheaply', 'made', 'than', 'a', 'triedandtested', 'option', '5', 'Expert', 'Tips', 'for', 'Black', 'Friday', 'Shopping', 'Nathan', 'Burrow', 'Reporting', 'for', 'Wirecutter', '💰', 'Illustration', 'Dana', 'Davis', 'Pandemicfueled', 'price', 'increases', 'make', 'it', 'even', 'more', 'important', 'to', 'comparison', 'shop', 'A', 'price', 'tracker', 'or', 'a', 'deal', 'aggregator', 'like', 'the', 'Wirecutter', 'Deals', 'page', 'can', 'help', 'you', 'find', 'the', 'best', 'prices', 'Check', 'out', 'Wirecutter’s', 'selection', 'of', 'the', 'best', 'deals', '5', 'Expert', 'Tips', 'for', 'Black', 'Friday', 'Shopping', 'Nathan', 'Burrow', 'Reporting', 'for', 'Wirecutter', '💰', 'Michael', 'Hession', 'This', 'time', 'of', 'year', 'personal', 'data', 'security', 'and', 'quick', 'checkout', 'are', 'essential', 'Using', 'an', 'online', 'wallet', 'service', 'like', 'PayPal', 'Google', 'Pay', 'or', 'Apple', 'Pay', 'gives', 'you', 'an', 'edge', 'in', 'both', 'speed', 'and', 'security', 'when', 'you’re', 'paying', 'virtually', '5', 'Expert', 'Tips', 'for', 'Black', 'Friday', 'Shopping', 'Nathan', 'Burrow', 'Reporting', 'for', 'Wirecutter', '💰', 'Antonio', 'Giovanni', 'Pinna', 'Always', 'use', 'a', 'coupon', 'if', 'you', 'can', 'Check', 'your', 'credit', 'card', 'benefits', 'for', 'bonuses', 'on', 'purchases', 'at', 'certain', 'retailers', 'There', 'may', 'also', 'be', 'coupons', 'and', 'discounts', 'that', 'you', 'can', 'leverage', 'from', 'free', 'member', 'programs', 'such', 'as', 'My', 'Best', 'Buy', 'or', 'Target’s', 'Circle', 'and', 'RedCard', 'Read', 'more', 'of', 'our', 'Black', 'Friday', 'coverage', 'at', 'Wirecutter', 'Or', 'see', 'some', 'timely', 'advice', 'How', 'to', 'Protect', 'Your', 'Kid’s', 'Hearing', 'Ask', 'Wirecutter', 'Sharing', 'a', 'Bed', 'Copy', 'story', 'link', '8h', 'ago', 'Item', '1', 'of', '7', 'Culture', 'and', 'Lifestyle', 'Philip', 'Cheung', 'A', 'Collector', 'Who', 'Fills', 'His', 'Los', 'Angeles', 'Home', 'With', 'Carefully', 'Sourced', 'Clutter', 'Jonathan', 'Pessin', 'has', 'stuffed', 'his', 'apartment', 'with', 'the', 'fruits', 'of', 'his', 'obsessive', 'search', 'for', 'the', '“best', 'weirdest', 'version”', 'of', 'seemingly', 'everything', 'Haruki', 'Murakami', 'and', 'the', 'Challenge', 'of', 'Adapting', 'His', 'Tales', 'for', 'Film', 'In', 'Canada', 'the', 'Premier', 'of', 'Quebec', 'Worries', 'About', 'the', 'State', 'of', 'Hockey', 'Supporting', 'Afghan', 'Women', 'From', 'the', 'Queens', 'Waterfront', '5', 'FamilyFriendly', 'Things', 'to', 'Stream', 'This', 'Weekend', 'Health', 'and', 'Family', 'Tony', 'CenicolaThe', 'New', 'York', 'Times', '21', 'Gifts', 'That', 'Make', 'Life', 'a', 'Little', 'Better', 'Abbey', 'Lossing', 'How', 'Our', 'Readers', 'Get', 'Through', 'the', 'Holidays', 'After', 'Loss', 'Matt', 'Chinworth', 'The', 'Heavy', 'Price', 'of', 'Holiday', 'Magic', 'Fabio', 'Consoli', 'Wrap', 'Advice', 'Like', 'a', 'Gift', 'a', 'Teenager', 'Might', 'Open', 'Gracia', 'Lam', 'How', 'to', 'Foster', 'Empathy', 'in', 'Children', 'New', 'York', 'Times', 'Cooking', 'David', 'Malosh', 'for', 'The', 'New', 'York', 'Times', 'Best', 'Thanksgiving', 'Leftovers', 'Sandwich', 'Johnny', 'Miller', 'for', 'The', 'New', 'York', 'Times', 'Olive', 'Oil', 'Lemon', 'Curd', 'David', 'Malosh', 'for', 'The', 'New', 'York', 'Times', 'Crispy', 'Shrimp', 'Cakes', 'With', 'ChileLime', 'Mayo', 'David', 'Malosh', 'for', 'The', 'New', 'York', 'Times', 'Lentil', 'Soup', 'With', 'Smoked', 'Sausage', 'and', 'Apples', 'David', 'Malosh', 'for', 'The', 'New', 'York', 'Times', 'Mezcal', 'Fresca', 'Advertisement', 'Continue', 'reading', 'the', 'main', 'story', 'Play', 'Spelling', 'Bee', 'How', 'many', 'words', 'can', 'you', 'make', 'with', '7', 'letters', 'The', 'Crossword', 'Get', 'clued', 'in', 'with', 'wordplay', 'every', 'day', 'Letter', 'Boxed', 'Create', 'words', 'using', 'letters', 'around', 'the', 'square', 'Tiles', 'Match', 'visual', 'elements', 'and', 'keep', 'your', 'chain', 'going', 'Vertex', 'Connect', 'the', 'dots', 'to', 'reveal', 'the', 'hidden', 'picture', 'Site', 'Information', 'Navigation', '©', '2021', 'The', 'New', 'York', 'Times', 'Company', 'NYTCo', 'Contact', 'Us', 'Accessibility', 'Work', 'with', 'us', 'Advertise', 'T', 'Brand', 'Studio', 'Your', 'Ad', 'Choices', 'Privacy', 'Policy', 'Terms', 'of', 'Service', 'Terms', 'of', 'Sale', 'Site', 'Map', 'Canada', 'International', 'Help', 'Subscriptions']\n",
      "\n",
      "2. 단어의 개수: 2274개\n",
      "\n",
      "3. 각 단어들의 출현빈도 수\n",
      "\n"
     ]
    },
    {
     "name": "stdout",
     "output_type": "stream",
     "text": [
      "{'Apartment': 1, 'impulsebuy': 1, 'Politics': 1, 'NelsonAssociated': 1, 'A': 5, 'The': 36, 'Cancer': 1, '25': 1, 'plane': 1, 'Carissa': 1, 'Beast': 1, 'Story': 1, 'Foster': 1, 'about': 7, 'Pac12’s': 1, 'Stirs': 1, 'squabbling': 1, 'or': 6, 'championship': 1, 'Again': 1, 'Jon': 1, 'Get': 3, 'index': 1, 'NY': 1, 'football': 7, 'Band': 1, 'holiday': 1, 'again': 1, 'end': 1, 'almost': 1, 'Victim': 1, 'SchaffThe': 7, 'Briefing': 1, 'year': 3, 'Looks': 1, 'fell': 1, 'other': 1, 'bonds': 1, 'your': 7, 'inbox': 1, 'Bad': 2, 'Live': 2, 'Peng': 1, 'Circle': 1, 'Here': 2, 'Utah': 2, 'perception': 1, 'Beto’': 1, 'days': 1, 'Tim': 1, 'servers': 1, 'products': 2, 'Thames': 6, 'Francisco': 1, 'Mostly': 1, 'on': 22, 'Variant': 1, 'Serkez': 1, 'Parenting': 1, 'Feud': 1, 'Actions': 1, 'Knows': 1, 'Wezerek': 1, 'East': 2, 'Was': 2, 'Our': 3, 'Angeles': 2, 'Tales': 1, 'composerlyricist': 1, 'Games': 7, 'State': 2, 'Us': 2, 'left': 1, '‘Joys’': 1, 'But': 3, 'More': 3, 'Beyond': 1, 'Smoked': 1, 'Girl’': 1, '1985': 1, 'nearer': 1, 'San': 1, 'usual': 1, '‘Afghan': 1, 'Love': 2, 'Most': 1, 'essential': 1, 'UK': 2, 'working': 1, 'Final': 1, 'Limits': 1, 'Mich': 2, 'development': 2, 'Football': 8, 'from': 4, '12': 1, 'Truth': 1, 'century': 1, 'Shoppers': 1, 'Paper': 1, 'Real': 1, 'reliable': 1, 'Heavy': 1, 'chain': 1, 'C': 1, 'In': 6, 'retailers': 2, 'link': 2, 'find': 2, 'Today’s': 1, 'Jenn': 1, 'Alabama': 1, 'Protect': 1, 'Coast': 1, 'Google': 1, 'something': 1, 'Lentil': 1, 'HuntAssociated': 1, 'Stuffing': 1, 'Coronavirus': 1, 'report': 1, 'Searching': 1, 'Lifestyle': 1, 'quick': 1, 'Rio': 1, 'wordplay': 1, 'Videos': 1, 'mail': 1, 'Auburn': 1, 'screen': 1, 'Tired': 1, 'to': 39, 'beloved': 1, 'Between': 1, 'Change': 3, 'Bradford': 1, 'standard': 1, 'week’s': 1, 'Gifts': 2, 'slumped': 1, 'deaths': 1, 'Internet': 1, 'ChileLime': 1, 'pleasant': 1, 'suggesting': 1, 'Under': 2, 'Item': 2, 'Carlos': 1, 'Site': 2, 'picks': 2, 'Look': 2, 'Titan': 1, 'trappings': 1, 'Campus': 1, 'Crispy': 1, 'makers': 1, 'mediocre': 2, 'Imposes': 1, 'White': 1, 'aggregator': 1, 'Purcell': 1, 'most': 3, 'oil': 1, 'Genetic': 1, 'of': 46, 'Concern’': 1, 'Leftover': 1, 'Interior': 1, 'Work': 1, 'Better': 1, 'Longing': 1, 'Sandwich': 1, 'Covid': 2, 'countries': 2, 'sea': 1, 'SelfSufficiency': 1, '80s': 1, 'as': 2, 'ChewThe': 1, 'International': 3, 'Wildman': 1, 'email': 1, 'Philip': 1, 'Bay': 1, 'hard': 1, 'make': 2, 'No': 2, 'Abbey': 1, 'wallet': 1, 'time': 3, 'Matt': 1, 'Officer': 1, 'have': 2, 'Science': 1, 'Sections': 1, 'Assault': 1, 'certain': 1, 'testers': 1, 'week': 3, 'After': 4, 'photograph': 1, 'Reading': 1, 'dead': 2, 'official': 1, 'Refuge': 1, 'FamilyFriendly': 1, 'use': 1, 'Health': 3, 'gift': 1, 'Moving': 1, 'Tell': 1, 'new': 3, 'Crowns': 1, 'Studio': 1, 'Big': 2, 'Made': 1, 'That': 4, 'letters': 2, 'February': 1, 'inperson': 1, 'Financial': 1, 'wound': 1, 'Climate': 2, 'cameras': 1, 'Pac12': 1, 'multiple': 1, 'Holidays': 1, 'Map': 1, 'Year': 2, 'travelers': 1, 'winner': 3, 'Upending': 1, 'family': 1, 'obsolescence': 1, 'Times': 36, 'Arts': 1, 'will': 1, 'Hearing': 1, 'Malosh': 4, 'Canada': 3, 'were': 2, 'Business': 1, 'That’s': 1, 'joined': 1, 'Deals': 5, '5': 8, 'want': 2, 'With': 6, 'Gus': 1, 'Broken': 1, 'College': 8, 'Fabio': 1, 'Mimicking': 1, 'AOC': 1, 'Democrat': 1, 'delivered': 1, 'China': 1, 'toll': 1, 'harmful': 1, 'talks': 1, 'Alonzo': 1, 'collection': 1, 'out': 1, 'shipping': 1, 'Africa': 2, 'reading': 5, 'Belleme': 1, 'Sexual': 1, 'Han': 1, 'OsorioAssociated': 1, 'Mean': 1, 'title': 1, 'virtually': 1, 'Mark': 1, '91': 2, 'Day': 1, 'curb': 1, 'Percent': 1, 'Wrap': 1, 'leaders': 1, 'National': 1, 'Video': 1, 'held': 1, 'Coverage': 1, 'this': 4, 'rare': 1, 'triedandtested': 1, 'Kid’s': 1, 'Readers': 1, 'Consoli': 1, 'Overrated': 1, 'Choices': 1, 'Gift': 1, 'Sausage': 1, 'shoppers': 1, 'revered': 2, 'Read': 2, 'Why': 1, '›': 6, 'Novak': 1, 'tracker': 1, 'Walmart': 1, 'playing': 1, 'Home': 2, 'Tips': 7, 'credit': 1, 'Risks': 1, 'threetime': 1, 'resume': 1, 'Weiner': 1, 'and': 34, 'amazing': 1, 'deal': 1, 'storylines': 1, 'Using': 1, 'Podcast': 1, 'possibly': 1, 'did': 1, 'An': 1, 'fruits': 1, 'Very': 1, 'percent': 2, 'by': 3, 'years': 1, 'needs': 1, 'many': 2, 'Ten': 1, 'writes': 1, 'Gear': 1, 'Hockey': 1, 'Cheung': 1, 'spoiler': 1, 'Antiviral': 1, 'Kids': 2, 'Ivy': 1, 'WangReuters': 1, 'Email': 1, 'ice': 1, 'R': 1, 'Tumble': 1, 'vaccinations': 2, 'dots': 1, 'Cooking': 1, 'county': 2, 'Michelle': 2, 'Followed': 1, 'Oregon': 3, 'concerns': 1, 'Moran': 2, 'essay': 1, 'not': 1, 'Thankful': 1, 'Curd': 1, 'One': 3, 'stuffed': 1, 'returned': 1, 'what': 4, 'Letter': 1, 'SEARCH': 1, 'Minn': 3, 'handling': 1, 'he': 1, 'price': 4, 'playoffs': 1, 'them': 2, 'Los': 2, 'up': 3, 'reduction': 1, 'residents': 1, 'Other': 2, 'Giovanni': 1, '20': 1, 'Bankers': 1, 'see': 2, 'marketing': 1, 'NM': 2, 'Andrew': 1, 'Not': 3, 'Lawsuit': 1, 'Pessin': 1, 'Jason': 1, 'Ann': 1, 'Wirecutter’s': 1, 'checkout': 1, 'Price': 1, 'Italy': 1, '‘The': 1, 'game': 5, 'virus’s': 1, 'songwriters': 1, 'leverage': 1, 'Olympian': 1, 'can': 7, 'Teenager': 1, 'Fills': 1, 'games': 2, 'France': 1, 'Quebec': 1, 'Danté': 1, '2020': 1, 'its': 3, 'online': 1, 'trees': 1, 'Manhattan': 2, 'teaches': 1, 'real': 1, 'Crossword': 1, 'Matthew': 1, 'Listen': 1, 'hidden': 1, 'Watching': 1, 'Prison': 1, 'What': 2, 'Become': 1, 'Thanksgiving': 4, 'Feasting': 6, 'been': 2, 'Sentenced': 1, 'channels': 1, 'Across': 1, 'gives': 1, 'selection': 1, 'BhaskarThe': 2, 'fighting': 1, 'Worst': 1, 'Lemon': 1, 'This': 8, 'team': 1, 'States': 3, 'much': 1, 'comparison': 1, 'pay': 1, 'Always': 1, 'Committee’s': 1, 'only': 1, 'Copy': 2, 'Democracy': 1, 'Brettschneider': 1, 'Gabriela': 2, 'everything': 1, 'Are': 2, 'Soup': 1, 'Texas': 2, 'overhyped': 1, 'safety': 1, 'Hospitals': 2, 'Continue': 5, 'course': 1, 'consoles': 1, 'Broadway’s': 1, 'Progress': 1, '‘Quiet': 1, 'before': 2, 'Davis': 1, 'apartment': 1, 'Bittman': 1, 'Raise': 1, 'gifts': 1, 'Spelling': 1, 'shop': 1, 'clients': 1, 'college': 7, 'Markets': 1, '→': 2, 'page': 1, 'disappearance': 1, 'Check': 2, 'last': 3, 'ConradThe': 1, 'Finding': 1, 'Creative': 1, 'Tiles': 1, 'Information': 1, 'Dominates': 1, 'Culture': 2, 'menu': 1, 'Chinworth': 1, 'brings': 1, 'PayPal': 1, 'Andy': 1, 'bonuses': 1, 'confidentiality': 1, 'help': 2, 'campaign': 1, 'stuff': 1, 'EU': 1, 'tested': 1, 'Beto': 2, 'earlier': 1, 'Diplomacy’': 1, 'ageold': 1, 'Podcast’': 1, 'Parent': 1, 'Henry': 1, 'NYTCo': 1, 'Stephen': 2, 'Advertisement': 5, 'invasion': 1, 'DelayAssociated': 1, 'southern': 1, 'Villain': 1, 'Transform': 1, 'His': 2, 'Schumacher': 1, 'investors': 1, 'willing': 1, 'Global': 3, '30': 2, 'prize': 1, 'Breakfast': 1, 'half': 1, 'against': 1, 'like': 4, 'card': 1, 'Company': 1, 'economic': 1, 'for': 45, 'Rebecca': 1, 'Two': 1, 'Channel': 1, '💰': 7, 'perhaps': 1, 'Really': 1, 'identity': 1, 'buy': 2, 'Poor': 1, 'death': 1, 'seemingly': 1, 'deals': 5, 'cheaper': 1, 'Breaking': 3, 'futures': 1, 'Grew': 1, 'Beth': 1, 'is': 6, 'forest': 1, 'Mad': 1, 'Guantánamo': 1, 'OklahomaOklahoma': 1, 'Corey': 1, 'Won’t': 1, 'Official': 1, '21': 1, 'Murtaugh': 1, 'Contact': 1, 'Through': 1, 'great': 1, 'Español': 1, 'preliminary': 1, 'increased': 1, 'shows': 1, 'guarded': 1, 'huge': 1, 'bolster': 1, 'Amsterdam': 1, 'theater’s': 1, 'than': 5, 'Familiar': 1, 'Have': 1, 'Iraqis': 1, 'correspondent': 1, 'truly': 1, 'an': 6, 'CenicolaThe': 1, 'states': 1, 'Whitewash': 1, 'Living': 1, 'Up': 2, 'Reporting': 7, 'streaming': 1, 'Worries': 1, 'Sarah': 1, 'wants': 1, 'individual': 1, '中文': 1, 'Many': 1, 'said': 1, 'was': 1, 'Digital': 1, 'Calif': 1, 'stakes': 1, 'pear': 1, 'Sondheim': 2, '—': 1, 'Complex': 1, 'Tracking': 1, 'Colleges': 1, 'action': 1, 'How': 7, 'Burrow': 7, 'American': 2, 'Apples': 1, 'trackers': 2, 'spots': 2, 'Am': 2, 'effort': 1, 'Black': 14, 'Jay': 1, 'Alamo': 1, 'vetted': 1, 'even': 2, 'search': 1, 'Here’s': 6, 'Greg': 1, 'spot': 1, 'soccer’s': 1, 'movie': 1, 'member': 1, 'may': 3, 'relationship': 1, 'MegaDiscounts': 1, 'our': 4, 'post': 1, 'At': 1, 'dozens': 1, 'Lossing': 1, 'Ad': 1, 'As': 1, 'Took': 1, 'Premier': 1, 'Magic': 1, '92221': 1, 'Policy': 1, 'TV': 1, 'Leftovers': 4, 'celebrity': 1, 'Some': 2, '8h': 1, 'Brand': 1, 'strengthen': 1, 'prohibiting': 1, 'IOC’s': 1, 'Bee': 1, '“deals”': 1, 'Since': 1, '‘Team': 1, 'Sullivan': 2, 'frames': 1, 'Weekend': 1, 'Play': 1, 'you’re': 2, 'Hearts': 1, 'November': 1, 'Truck': 1, 'Champions': 1, 'also': 1, '1066': 1, 'Murakami': 1, 'Pierson': 2, 'Summit': 1, 'McCaulley': 1, 'recommendations': 1, 'more': 7, 'Critics': 1, 'juicy': 1, 'Return': 1, 'Create': 1, 'Moon': 1, 'Greenberg': 1, 'drug': 1, 'little': 1, 'trick': 1, 'his': 2, 'quite': 1, 'important': 1, 'hot': 3, 'Impedes': 1, 'Drilling': 1, 'Is': 8, 'Broadway': 1, 'patients': 1, 'Delivered': 1, '6': 1, 'messages': 1, 'Or': 1, 'Miller': 1, 'suburbs': 1, 'data': 2, 'rivalry': 1, '2021': 1, 'content': 1, 'Takes': 1, 'shortages': 1, 'Queens': 1, 'scientists': 1, 'Violence': 1, 'meet': 1, 'Biggest': 1, 'Skip': 2, 'Pinna': 1, 'Yaryna': 1, 'words': 2, 'Advertise': 1, 'About': 3, 'May': 1, 'Opinion': 2, 'Burial': 1, 'her': 1, 'Pill': 1, 'Waterfront': 1, 'government': 1, 'it': 4, 'Press': 6, 'that': 6, 'surprise': 1, 'Dept': 1, 'shopping': 2, 'retail': 1, 'Bloomington': 1, 'Locks': 1, 'Fred': 1, 'named': 1, 'Learn': 1, 'Over': 2, 'show': 1, 'visual': 1, 'Like': 2, 'Johnny': 1, 'Magazine': 2, 'crossings': 1, 'it’s': 1, 'Olive': 1, 'Estate': 1, 'Private': 1, 'Sports': 2, 'Tingshu': 1, 'pattern': 1, 'sought': 1, 'spreading': 1, 'reporting': 1, 'Holiday': 1, '14day': 1, 'Might': 2, 'Vassas': 1, 'service': 1, 'Expert': 7, 'AdamsAssociated': 1, 'Try': 1, 'Can’t': 1, 'coverage': 1, 'New': 37, 'rules': 1, 'going': 1, 'Navy': 1, 'Claims': 1, 'gets': 1, 'hospitalization': 1, 'See': 1, 'main': 5, 'He': 3, 'items': 1, 'Service': 1, 'NJ': 2, 'Had': 1, 'tactic': 1, 'My': 2, 'watching': 1, 'Christopher': 1, 'photo': 1, 'Around': 1, 'Supposed': 1, 'Than': 1, 'Bribery': 1, 'Failing': 1, 'Things': 1, 'When': 1, 'Who': 3, 'Illustration': 2, 'Empathy': 1, 'Terms': 2, 'Vaccinations': 1, 'robes': 1, '🏈': 6, 'Meeting': 1, '»': 1, 'probably': 1, 'edge': 1, 'Nathan': 7, 'reinfection': 1, 'Busch': 1, 'Buy': 1, 'into': 2, 'seasonal': 1, 'And': 2, 'Children': 1, 'China’s': 1, 'Vaccine': 2, 'Workers': 1, 'site': 1, 'Olympic': 2, 'hear': 1, 'excellent': 1, 'Musical': 1, 'JoAnna': 1, 'biggest': 2, 'Woman': 1, 'Film': 1, 'Alist': 1, 'Omicron': 1, 'Karsten': 2, 'Years': 1, 'toys': 1, 'Recipes': 2, 'Vertex': 1, 'questions': 1, 'Ohio': 1, 'purchases': 1, 'RedCard': 1, 'Morello': 1, 'Loss': 1, 'popular': 1, 'Prices': 1, 'hugely': 1, 'such': 1, 'Boxed': 1, 'Report': 1, 'both': 1, 'Review': 1, 'part': 1, 'conference': 2, 'higher': 1, 'Be': 3, 'Gun': 1, 'Rivian’s': 1, 'rather': 1, 'be': 4, 'Differently': 1, 'There': 2, 'us': 3, 'coupons': 1, 'Event': 1, '6000': 1, 'Their': 2, 'Cybèle': 1, 'League': 1, 'few': 1, 'Book': 1, 'Farhad': 1, 'secret': 2, 'day': 2, 'Patchett': 1, 'increases': 1, 'obsessive': 1, 'gadgets': 1, 'Adapting': 1, 'Cleared': 1, 'buzzy': 1, 'Ask': 1, 'Less': 1, 'behind': 1, '1h': 1, 'Advice': 1, 'Groskopf': 1, 'perfect': 1, 'Jerome': 1, 'base': 1, 'News': 4, 'at': 8, 'Alanis': 6, 'Stores': 1, 'Best': 3, 'raised': 1, 'History': 1, 'know': 2, 'keep': 2, 'Cutie': 1, 'Clutter': 1, 'tarmac': 1, 'buffet': 1, 'Your': 5, 'parents': 1, 'stock': 1, 'Appeared': 1, 'It': 2, 'Oil': 1, 'Friday': 14, 'had': 1, 'reignited': 1, 'Reach': 1, 'Evening': 1, 'several': 1, 'links': 1, 'case': 1, 'cheaply': 1, 'found': 3, 'Tech': 1, 'luster': 1, 'analysis': 1, 'there’s': 1, 'York': 34, 'Pandemicfueled': 1, 'They': 2, 'Man': 1, 'meetings': 1, 'North': 1, 'these': 1, 'Subscribers': 1, 'paying': 1, 'Tony': 1, 'are': 10, 'Leah': 1, 'Lam': 1, 'MiddleClass': 1, 'liberty': 1, 'Ackerman': 1, 'lacks': 1, 'accelerated': 1, 'Erin': 7, 'Derballa': 1, 'Greenwood': 1, 'highrisk': 1, 'Mezcal': 1, 'Championship': 1, 'Gruber': 1, 'From': 4, 'Shopping': 7, 'Bed': 1, 'flat': 1, 'coupon': 1, 'Cover': 1, 'Electric': 1, 'teams': 2, 'Staff': 2, 'programs': 1, 'Accessibility': 1, 'Organization': 1, 'picture': 1, 'expert': 2, 'Collector': 1, 'Mayo': 1, 'Acrimony': 1, 'we': 1, 'Carefully': 1, 'Women': 1, 'suggests': 1, 'courtesy': 1, '1': 2, 'Tom': 1, 'one': 1, 'cases': 1, 'Spirits': 1, 'Should': 2, 'It’s': 1, 'Family': 2, 'Jonathan': 1, 'Indianapolis': 1, 'Find': 1, 'Gracia': 1, 'We’re': 1, 'AlabamaAuburn': 1, 'Comedian': 1, 'every': 1, 'Week': 6, 'Suicide': 1, 'series': 1, 'worthwhile': 1, 'Stream': 1, 'Wirecutter': 15, 'Style': 1, 'Make': 2, 'Stocks': 1, 'some': 5, 'Coller': 1, 'Haruki': 1, 'Give': 1, 'David': 4, 'Hession': 2, 'elements': 1, 'developed': 1, 'Turkey': 1, 'monitor': 1, 'If': 2, 'Ind': 2, 'do': 1, 'Rather': 1, 'should': 1, 'cream': 1, 'morphed': 1, 'Its': 1, 'Unvaccinated': 1, 'Bread': 1, 'snag': 1, 'Connect': 1, 'WHO': 1, 'World': 3, 'I': 4, 'Britain': 1, 'security': 2, 'ago': 3, 'I’ll': 1, 'Virus': 1, '50': 3, 'Paramus': 2, 'Sourced': 1, 'books': 1, 'playoff': 1, 'outofstock': 1, 'Follow': 2, 'Ground': 1, 'personal': 1, 'experience': 1, 'change': 1, 'Recommendations': 1, 'the': 81, 'LapreteAssociated': 1, 'availability': 1, 'we’ve': 2, 'wait': 1, 'police': 1, 'story': 7, 'Emma': 1, 'together': 1, 'in': 16, 'need': 1, 'Caldwell': 1, 'Michael': 3, 'Suddenly': 1, 'Apple': 3, 'delays': 1, 'prices': 1, 'Pack': 1, 'Modern': 1, 'Dana': 1, 'United': 3, 'Mike': 1, 'We': 3, 'Shrimp': 1, 'recommend': 1, 'influential': 1, 'musical': 1, 'but': 6, 'Everyone’s': 1, 'FundRaising': 1, 'Little': 1, 'Once': 1, 'Playoff': 2, 'Iron': 1, 'Military’s': 1, 'promotion': 1, 'hazardous': 1, 'Newsletter': 1, 'traditionally': 1, 'takes': 1, '20th': 1, 'Subscribe': 1, 'Antonio': 1, 'option': 1, 'evidence': 1, 'Thing': 1, 'risk': 2, 'spend': 1, 'loss': 1, 'Challenge': 1, 'she’s': 1, 'Suburban': 1, 'Kaiti': 2, 'set': 1, 'Books': 1, 'state': 2, 'Ideal': 1, 'Carolina': 1, 'Great': 1, 'two': 3, 'For': 1, 'Good': 3, 'suggestions': 1, 'Open': 1, 'soaring': 1, 'changed': 2, 'Former': 1, '7': 2, 'Sale': 1, 'bargainbasement': 1, 'Cakes': 1, 'has': 8, 'benefits': 1, 'best': 5, 'driving': 1, 'South': 2, 'US': 7, 'here': 1, 'Hardship': 1, 'Secret': 1, 'Manjoo': 1, 'speed': 1, '“best': 1, 'America': 2, 'timely': 1, 'Shuai': 1, 'O’Rourke’s': 1, 'Me': 1, 'while': 1, 'savings': 1, 'StateMichigan': 1, 'guide': 1, 'Bowl': 1, 'if': 1, 'could': 1, 'StateOregon': 1, 'Says': 1, 'Help': 1, 'though': 1, 'a': 33, 'Tree': 1, 'Travel': 2, 'Don’t': 1, 'Pay': 2, 'Analysis': 1, 'Turkeys': 1, 'Avg': 1, 'Target’s': 1, 'Effective': 1, 'Merck': 1, 'Privacy': 1, 'win': 2, 'Another': 1, 'Slain': 1, 'around': 1, 'Metaverse': 1, 'square': 1, 'Jeenah': 1, 'Sharing': 1, 'Afghan': 1, 'all': 1, '‘of': 1, 'with': 9, 'Buteau': 1, 'anticipates': 1, 'updates': 1, 'Warns': 1, 'weirdest': 1, 'Bryan': 1, 'made': 1, 'Off': 2, 'Dead': 1, 'Supporting': 1, 'oneloss': 1, '–10': 1, 'variant': 4, 'Vow': 1, 'Seeing': 1, 'get': 1, 'Has': 1, 'Others': 1, 'Silent': 1, 'version”': 1, 'Fresca': 1, 'Join': 1, 'Crossings': 1, 'familiar': 1, 'discounts': 2, 'when': 2, 'Take': 1, 'Nov': 1, 'Watch': 6, 'force': 1, 'Subscriptions': 1, 'columnist': 1, 'discusses': 1, 'Life': 1, 'clued': 1, 'reveal': 1, 'Vasha': 1, 'immediately': 1, 'smalltown': 1, 'Geographic': 1, 'how': 2, 'Begged': 1, 'understanding': 1, 'you': 10, 'Highstakes': 1, '©': 1, 'advice': 1, 'Match': 1, 'T': 2, 'Food': 1, 'Stewart': 1, 'using': 1, 'dominant': 1, 'Hopes': 1, 'free': 1, 'Navigation': 1, 'Esau': 1, 'reduced': 1}\n",
      "\n",
      "4. 필터링 후 단어의 개수: 1184개\n",
      "\n",
      "5. 불용어 필터링 후 출현빈도 수\n",
      "\n",
      "{'Apartment': 1, 'impulsebuy': 1, 'Politics': 1, 'NelsonAssociated': 1, 'A': 5, 'The': 36, 'Cancer': 1, '25': 1, 'plane': 1, 'Carissa': 1, 'Beast': 1, 'Story': 1, 'Foster': 1, 'Pac12’s': 1, 'Stirs': 1, 'squabbling': 1, 'championship': 1, 'Again': 1, 'Jon': 1, 'Get': 3, 'NY': 1, 'football': 7, 'Band': 1, 'holiday': 1, 'Victim': 1, 'SchaffThe': 7, 'Briefing': 1, 'year': 3, 'Looks': 1, 'fell': 1, 'bonds': 1, 'inbox': 1, 'Bad': 2, 'Live': 2, 'Peng': 1, 'Circle': 1, 'Here': 2, 'Utah': 2, 'perception': 1, 'Beto’': 1, 'days': 1, 'Tim': 1, 'servers': 1, 'products': 2, 'Thames': 6, 'Francisco': 1, 'Mostly': 1, 'Variant': 1, 'Serkez': 1, 'Parenting': 1, 'Feud': 1, 'Actions': 1, 'Knows': 1, 'Wezerek': 1, 'East': 2, 'Was': 2, 'Our': 3, 'Angeles': 2, 'Tales': 1, 'composerlyricist': 1, 'Games': 7, 'State': 2, 'Us': 2, 'left': 1, '‘Joys’': 1, 'But': 3, 'More': 3, 'Beyond': 1, 'Smoked': 1, 'Girl’': 1, '1985': 1, 'nearer': 1, 'San': 1, 'usual': 1, '‘Afghan': 1, 'Love': 2, 'Most': 1, 'essential': 1, 'UK': 2, 'working': 1, 'Final': 1, 'Limits': 1, 'Mich': 2, 'development': 2, 'Football': 8, '12': 1, 'Truth': 1, 'century': 1, 'Shoppers': 1, 'Paper': 1, 'Real': 1, 'reliable': 1, 'Heavy': 1, 'chain': 1, 'C': 1, 'In': 6, 'retailers': 2, 'link': 2, 'Today’s': 1, 'Jenn': 1, 'Alabama': 1, 'Protect': 1, 'Coast': 1, 'Google': 1, 'Lentil': 1, 'HuntAssociated': 1, 'Stuffing': 1, 'Coronavirus': 1, 'report': 1, 'Searching': 1, 'Lifestyle': 1, 'quick': 1, 'Rio': 1, 'wordplay': 1, 'Videos': 1, 'mail': 1, 'Auburn': 1, 'screen': 1, 'Tired': 1, 'beloved': 1, 'Between': 1, 'Change': 3, 'Bradford': 1, 'standard': 1, 'week’s': 1, 'Gifts': 2, 'slumped': 1, 'deaths': 1, 'Internet': 1, 'ChileLime': 1, 'pleasant': 1, 'suggesting': 1, 'Under': 2, 'Item': 2, 'Carlos': 1, 'Site': 2, 'picks': 2, 'Look': 2, 'Titan': 1, 'trappings': 1, 'Campus': 1, 'Crispy': 1, 'makers': 1, 'mediocre': 2, 'Imposes': 1, 'White': 1, 'aggregator': 1, 'Purcell': 1, 'oil': 1, 'Genetic': 1, 'Concern’': 1, 'Leftover': 1, 'Interior': 1, 'Work': 1, 'Better': 1, 'Longing': 1, 'Sandwich': 1, 'Covid': 2, 'countries': 2, 'sea': 1, 'SelfSufficiency': 1, '80s': 1, 'ChewThe': 1, 'International': 3, 'Wildman': 1, 'email': 1, 'Philip': 1, 'Bay': 1, 'hard': 1, 'No': 2, 'Abbey': 1, 'wallet': 1, 'time': 3, 'Matt': 1, 'Officer': 1, 'Science': 1, 'Sections': 1, 'Assault': 1, 'testers': 1, 'week': 3, 'After': 4, 'photograph': 1, 'Reading': 1, 'dead': 2, 'official': 1, 'Refuge': 1, 'FamilyFriendly': 1, 'Health': 3, 'gift': 1, 'Moving': 1, 'Tell': 1, 'Crowns': 1, 'Studio': 1, 'Big': 2, 'Made': 1, 'That': 4, 'letters': 2, 'February': 1, 'inperson': 1, 'Financial': 1, 'wound': 1, 'Climate': 2, 'cameras': 1, 'Pac12': 1, 'multiple': 1, 'Holidays': 1, 'Map': 1, 'Year': 2, 'travelers': 1, 'winner': 3, 'Upending': 1, 'family': 1, 'obsolescence': 1, 'Times': 36, 'Arts': 1, 'Hearing': 1, 'Malosh': 4, 'Canada': 3, 'Business': 1, 'That’s': 1, 'joined': 1, 'Deals': 5, 'With': 6, 'Gus': 1, 'Broken': 1, 'College': 8, 'Fabio': 1, 'Mimicking': 1, 'AOC': 1, 'Democrat': 1, 'delivered': 1, 'China': 1, 'toll': 1, 'harmful': 1, 'talks': 1, 'Alonzo': 1, 'collection': 1, 'shipping': 1, 'Africa': 2, 'reading': 5, 'Belleme': 1, 'Sexual': 1, 'Han': 1, 'OsorioAssociated': 1, 'Mean': 1, 'title': 1, 'virtually': 1, 'Mark': 1, '91': 2, 'Day': 1, 'curb': 1, 'Percent': 1, 'Wrap': 1, 'leaders': 1, 'National': 1, 'Video': 1, 'held': 1, 'Coverage': 1, 'rare': 1, 'triedandtested': 1, 'Kid’s': 1, 'Readers': 1, 'Consoli': 1, 'Overrated': 1, 'Choices': 1, 'Gift': 1, 'Sausage': 1, 'shoppers': 1, 'revered': 2, 'Read': 2, 'Why': 1, '›': 6, 'Novak': 1, 'tracker': 1, 'Walmart': 1, 'playing': 1, 'Home': 2, 'Tips': 7, 'credit': 1, 'Risks': 1, 'threetime': 1, 'resume': 1, 'Weiner': 1, 'amazing': 1, 'deal': 1, 'storylines': 1, 'Using': 1, 'Podcast': 1, 'An': 1, 'fruits': 1, 'Very': 1, 'percent': 2, 'years': 1, 'Ten': 1, 'writes': 1, 'Gear': 1, 'Hockey': 1, 'Cheung': 1, 'spoiler': 1, 'Antiviral': 1, 'Kids': 2, 'Ivy': 1, 'WangReuters': 1, 'Email': 1, 'ice': 1, 'R': 1, 'Tumble': 1, 'vaccinations': 2, 'dots': 1, 'Cooking': 1, 'county': 2, 'Michelle': 2, 'Followed': 1, 'Oregon': 3, 'concerns': 1, 'Moran': 2, 'essay': 1, 'Thankful': 1, 'Curd': 1, 'One': 3, 'stuffed': 1, 'returned': 1, 'Letter': 1, 'SEARCH': 1, 'Minn': 3, 'handling': 1, 'price': 4, 'playoffs': 1, 'Los': 2, 'reduction': 1, 'residents': 1, 'Other': 2, 'Giovanni': 1, '20': 1, 'Bankers': 1, 'marketing': 1, 'NM': 2, 'Andrew': 1, 'Not': 3, 'Lawsuit': 1, 'Pessin': 1, 'Jason': 1, 'Ann': 1, 'Wirecutter’s': 1, 'checkout': 1, 'Price': 1, 'Italy': 1, '‘The': 1, 'game': 5, 'virus’s': 1, 'songwriters': 1, 'leverage': 1, 'Olympian': 1, 'Teenager': 1, 'Fills': 1, 'games': 2, 'France': 1, 'Quebec': 1, 'Danté': 1, '2020': 1, 'online': 1, 'trees': 1, 'Manhattan': 2, 'teaches': 1, 'real': 1, 'Crossword': 1, 'Matthew': 1, 'Listen': 1, 'hidden': 1, 'Watching': 1, 'Prison': 1, 'What': 2, 'Become': 1, 'Thanksgiving': 4, 'Feasting': 6, 'Sentenced': 1, 'channels': 1, 'Across': 1, 'selection': 1, 'BhaskarThe': 2, 'fighting': 1, 'Worst': 1, 'Lemon': 1, 'This': 8, 'team': 1, 'States': 3, 'comparison': 1, 'pay': 1, 'Always': 1, 'Committee’s': 1, 'Copy': 2, 'Democracy': 1, 'Brettschneider': 1, 'Gabriela': 2, 'Are': 2, 'Soup': 1, 'Texas': 2, 'overhyped': 1, 'safety': 1, 'Hospitals': 2, 'Continue': 5, 'consoles': 1, 'Broadway’s': 1, 'Progress': 1, '‘Quiet': 1, 'Davis': 1, 'apartment': 1, 'Bittman': 1, 'Raise': 1, 'gifts': 1, 'Spelling': 1, 'shop': 1, 'clients': 1, 'college': 7, 'Markets': 1, '→': 2, 'disappearance': 1, 'Check': 2, 'ConradThe': 1, 'Finding': 1, 'Creative': 1, 'Tiles': 1, 'Information': 1, 'Dominates': 1, 'Culture': 2, 'menu': 1, 'Chinworth': 1, 'brings': 1, 'PayPal': 1, 'Andy': 1, 'bonuses': 1, 'confidentiality': 1, 'campaign': 1, 'stuff': 1, 'EU': 1, 'tested': 1, 'Beto': 2, 'earlier': 1, 'Diplomacy’': 1, 'ageold': 1, 'Podcast’': 1, 'Parent': 1, 'Henry': 1, 'NYTCo': 1, 'Stephen': 2, 'Advertisement': 5, 'invasion': 1, 'DelayAssociated': 1, 'southern': 1, 'Villain': 1, 'Transform': 1, 'His': 2, 'Schumacher': 1, 'investors': 1, 'Global': 3, '30': 2, 'prize': 1, 'Breakfast': 1, 'card': 1, 'Company': 1, 'economic': 1, 'Rebecca': 1, 'Two': 1, 'Channel': 1, '💰': 7, 'Really': 1, 'identity': 1, 'buy': 2, 'Poor': 1, 'death': 1, 'seemingly': 1, 'deals': 5, 'cheaper': 1, 'Breaking': 3, 'futures': 1, 'Grew': 1, 'Beth': 1, 'forest': 1, 'Mad': 1, 'Guantánamo': 1, 'OklahomaOklahoma': 1, 'Corey': 1, 'Won’t': 1, 'Official': 1, '21': 1, 'Murtaugh': 1, 'Contact': 1, 'Through': 1, 'great': 1, 'Español': 1, 'preliminary': 1, 'increased': 1, 'guarded': 1, 'huge': 1, 'bolster': 1, 'Amsterdam': 1, 'theater’s': 1, 'Familiar': 1, 'Have': 1, 'Iraqis': 1, 'correspondent': 1, 'CenicolaThe': 1, 'Whitewash': 1, 'Living': 1, 'Up': 2, 'Reporting': 7, 'streaming': 1, 'Worries': 1, 'Sarah': 1, 'individual': 1, '中文': 1, 'Many': 1, 'Digital': 1, 'Calif': 1, 'stakes': 1, 'pear': 1, 'Sondheim': 2, 'Complex': 1, 'Tracking': 1, 'Colleges': 1, 'action': 1, 'How': 7, 'Burrow': 7, 'American': 2, 'Apples': 1, 'trackers': 2, 'spots': 2, 'Am': 2, 'effort': 1, 'Black': 14, 'Jay': 1, 'Alamo': 1, 'vetted': 1, 'search': 1, 'Here’s': 6, 'Greg': 1, 'spot': 1, 'soccer’s': 1, 'movie': 1, 'member': 1, 'relationship': 1, 'MegaDiscounts': 1, 'post': 1, 'At': 1, 'dozens': 1, 'Lossing': 1, 'Ad': 1, 'As': 1, 'Took': 1, 'Premier': 1, 'Magic': 1, '92221': 1, 'Policy': 1, 'TV': 1, 'Leftovers': 4, 'celebrity': 1, 'Some': 2, '8h': 1, 'Brand': 1, 'strengthen': 1, 'prohibiting': 1, 'IOC’s': 1, 'Bee': 1, '“deals”': 1, 'Since': 1, '‘Team': 1, 'Sullivan': 2, 'frames': 1, 'Weekend': 1, 'Play': 1, 'you’re': 2, 'Hearts': 1, 'November': 1, 'Truck': 1, 'Champions': 1, '1066': 1, 'Murakami': 1, 'Pierson': 2, 'Summit': 1, 'McCaulley': 1, 'recommendations': 1, 'Critics': 1, 'juicy': 1, 'Return': 1, 'Create': 1, 'Moon': 1, 'Greenberg': 1, 'drug': 1, 'trick': 1, 'hot': 3, 'Impedes': 1, 'Drilling': 1, 'Is': 8, 'Broadway': 1, 'patients': 1, 'Delivered': 1, 'messages': 1, 'Or': 1, 'Miller': 1, 'suburbs': 1, 'data': 2, 'rivalry': 1, '2021': 1, 'content': 1, 'Takes': 1, 'shortages': 1, 'Queens': 1, 'scientists': 1, 'Violence': 1, 'meet': 1, 'Biggest': 1, 'Skip': 2, 'Pinna': 1, 'Yaryna': 1, 'Advertise': 1, 'About': 3, 'May': 1, 'Opinion': 2, 'Burial': 1, 'Pill': 1, 'Waterfront': 1, 'government': 1, 'Press': 6, 'surprise': 1, 'Dept': 1, 'shopping': 2, 'retail': 1, 'Bloomington': 1, 'Locks': 1, 'Fred': 1, 'named': 1, 'Learn': 1, 'Over': 2, 'visual': 1, 'Like': 2, 'Johnny': 1, 'Magazine': 2, 'crossings': 1, 'it’s': 1, 'Olive': 1, 'Estate': 1, 'Private': 1, 'Sports': 2, 'Tingshu': 1, 'pattern': 1, 'sought': 1, 'spreading': 1, 'reporting': 1, 'Holiday': 1, '14day': 1, 'Might': 2, 'Vassas': 1, 'service': 1, 'Expert': 7, 'AdamsAssociated': 1, 'Try': 1, 'Can’t': 1, 'coverage': 1, 'New': 37, 'rules': 1, 'Navy': 1, 'Claims': 1, 'hospitalization': 1, 'See': 1, 'main': 5, 'He': 3, 'items': 1, 'Service': 1, 'NJ': 2, 'Had': 1, 'tactic': 1, 'My': 2, 'watching': 1, 'Christopher': 1, 'photo': 1, 'Around': 1, 'Supposed': 1, 'Than': 1, 'Bribery': 1, 'Failing': 1, 'Things': 1, 'When': 1, 'Who': 3, 'Illustration': 2, 'Empathy': 1, 'Terms': 2, 'Vaccinations': 1, 'robes': 1, '🏈': 6, 'Meeting': 1, '»': 1, 'edge': 1, 'Nathan': 7, 'reinfection': 1, 'Busch': 1, 'Buy': 1, 'seasonal': 1, 'And': 2, 'Children': 1, 'China’s': 1, 'Vaccine': 2, 'Workers': 1, 'site': 1, 'Olympic': 2, 'hear': 1, 'excellent': 1, 'Musical': 1, 'JoAnna': 1, 'biggest': 2, 'Woman': 1, 'Film': 1, 'Alist': 1, 'Omicron': 1, 'Karsten': 2, 'Years': 1, 'toys': 1, 'Recipes': 2, 'Vertex': 1, 'questions': 1, 'Ohio': 1, 'purchases': 1, 'RedCard': 1, 'Morello': 1, 'Loss': 1, 'popular': 1, 'Prices': 1, 'hugely': 1, 'Boxed': 1, 'Report': 1, 'Review': 1, 'conference': 2, 'higher': 1, 'Be': 3, 'Gun': 1, 'Rivian’s': 1, 'Differently': 1, 'There': 2, 'coupons': 1, 'Event': 1, '6000': 1, 'Their': 2, 'Cybèle': 1, 'League': 1, 'Book': 1, 'Farhad': 1, 'secret': 2, 'day': 2, 'Patchett': 1, 'increases': 1, 'obsessive': 1, 'gadgets': 1, 'Adapting': 1, 'Cleared': 1, 'buzzy': 1, 'Ask': 1, 'Less': 1, '1h': 1, 'Advice': 1, 'Groskopf': 1, 'perfect': 1, 'Jerome': 1, 'base': 1, 'News': 4, 'Alanis': 6, 'Stores': 1, 'Best': 3, 'raised': 1, 'History': 1, 'Cutie': 1, 'Clutter': 1, 'tarmac': 1, 'buffet': 1, 'Your': 5, 'parents': 1, 'stock': 1, 'Appeared': 1, 'It': 2, 'Oil': 1, 'Friday': 14, 'reignited': 1, 'Reach': 1, 'Evening': 1, 'links': 1, 'case': 1, 'cheaply': 1, 'Tech': 1, 'luster': 1, 'analysis': 1, 'there’s': 1, 'York': 34, 'Pandemicfueled': 1, 'They': 2, 'Man': 1, 'meetings': 1, 'North': 1, 'Subscribers': 1, 'paying': 1, 'Tony': 1, 'Leah': 1, 'Lam': 1, 'MiddleClass': 1, 'liberty': 1, 'Ackerman': 1, 'lacks': 1, 'accelerated': 1, 'Erin': 7, 'Derballa': 1, 'Greenwood': 1, 'highrisk': 1, 'Mezcal': 1, 'Championship': 1, 'Gruber': 1, 'From': 4, 'Shopping': 7, 'Bed': 1, 'flat': 1, 'coupon': 1, 'Cover': 1, 'Electric': 1, 'teams': 2, 'Staff': 2, 'programs': 1, 'Accessibility': 1, 'Organization': 1, 'picture': 1, 'expert': 2, 'Collector': 1, 'Mayo': 1, 'Acrimony': 1, 'Carefully': 1, 'Women': 1, 'suggests': 1, 'courtesy': 1, 'Tom': 1, 'cases': 1, 'Spirits': 1, 'Should': 2, 'It’s': 1, 'Family': 2, 'Jonathan': 1, 'Indianapolis': 1, 'Find': 1, 'Gracia': 1, 'We’re': 1, 'AlabamaAuburn': 1, 'Comedian': 1, 'Week': 6, 'Suicide': 1, 'series': 1, 'worthwhile': 1, 'Stream': 1, 'Wirecutter': 15, 'Style': 1, 'Make': 2, 'Stocks': 1, 'Coller': 1, 'Haruki': 1, 'Give': 1, 'David': 4, 'Hession': 2, 'elements': 1, 'developed': 1, 'Turkey': 1, 'monitor': 1, 'If': 2, 'Ind': 2, 'Rather': 1, 'cream': 1, 'morphed': 1, 'Its': 1, 'Unvaccinated': 1, 'Bread': 1, 'snag': 1, 'Connect': 1, 'WHO': 1, 'World': 3, 'Britain': 1, 'security': 2, 'I’ll': 1, 'Virus': 1, '50': 3, 'Paramus': 2, 'Sourced': 1, 'books': 1, 'playoff': 1, 'outofstock': 1, 'Follow': 2, 'Ground': 1, 'personal': 1, 'experience': 1, 'change': 1, 'Recommendations': 1, 'LapreteAssociated': 1, 'availability': 1, 'we’ve': 2, 'wait': 1, 'police': 1, 'story': 7, 'Emma': 1, 'Caldwell': 1, 'Michael': 3, 'Suddenly': 1, 'Apple': 3, 'delays': 1, 'prices': 1, 'Pack': 1, 'Modern': 1, 'Dana': 1, 'United': 3, 'Mike': 1, 'We': 3, 'Shrimp': 1, 'recommend': 1, 'influential': 1, 'musical': 1, 'Everyone’s': 1, 'FundRaising': 1, 'Little': 1, 'Once': 1, 'Playoff': 2, 'Iron': 1, 'Military’s': 1, 'promotion': 1, 'hazardous': 1, 'Newsletter': 1, 'traditionally': 1, 'takes': 1, '20th': 1, 'Subscribe': 1, 'Antonio': 1, 'option': 1, 'evidence': 1, 'Thing': 1, 'risk': 2, 'spend': 1, 'loss': 1, 'Challenge': 1, 'she’s': 1, 'Suburban': 1, 'Kaiti': 2, 'set': 1, 'Books': 1, 'Ideal': 1, 'Carolina': 1, 'Great': 1, 'For': 1, 'Good': 3, 'suggestions': 1, 'Open': 1, 'soaring': 1, 'changed': 2, 'Former': 1, 'Sale': 1, 'bargainbasement': 1, 'Cakes': 1, 'benefits': 1, 'driving': 1, 'South': 2, 'US': 7, 'Hardship': 1, 'Secret': 1, 'Manjoo': 1, 'speed': 1, '“best': 1, 'America': 2, 'timely': 1, 'Shuai': 1, 'O’Rourke’s': 1, 'Me': 1, 'savings': 1, 'StateMichigan': 1, 'guide': 1, 'Bowl': 1, 'StateOregon': 1, 'Says': 1, 'Help': 1, 'Tree': 1, 'Travel': 2, 'Don’t': 1, 'Pay': 2, 'Analysis': 1, 'Turkeys': 1, 'Avg': 1, 'Target’s': 1, 'Effective': 1, 'Merck': 1, 'Privacy': 1, 'win': 2, 'Another': 1, 'Slain': 1, 'Metaverse': 1, 'square': 1, 'Jeenah': 1, 'Sharing': 1, 'Afghan': 1, '‘of': 1, 'Buteau': 1, 'anticipates': 1, 'updates': 1, 'Warns': 1, 'weirdest': 1, 'Bryan': 1, 'Off': 2, 'Dead': 1, 'Supporting': 1, 'oneloss': 1, '–10': 1, 'variant': 4, 'Vow': 1, 'Seeing': 1, 'Has': 1, 'Others': 1, 'Silent': 1, 'version”': 1, 'Fresca': 1, 'Join': 1, 'Crossings': 1, 'familiar': 1, 'discounts': 2, 'Take': 1, 'Nov': 1, 'Watch': 6, 'force': 1, 'Subscriptions': 1, 'columnist': 1, 'discusses': 1, 'Life': 1, 'clued': 1, 'reveal': 1, 'Vasha': 1, 'smalltown': 1, 'Geographic': 1, 'Begged': 1, 'understanding': 1, 'Highstakes': 1, '©': 1, 'advice': 1, 'Match': 1, 'T': 2, 'Food': 1, 'Stewart': 1, 'dominant': 1, 'Hopes': 1, 'free': 1, 'Navigation': 1, 'Esau': 1, 'reduced': 1}\n",
      "\n",
      "6. 불용어 필터링 후 단어의 개수: 1047개\n",
      "\n",
      "\n",
      "7. 가장 많이 출현한 단어\n",
      "\n",
      "('New', 37)\n",
      "('The', 36)\n",
      "('Times', 36)\n"
     ]
    }
   ],
   "source": [
    "# 5. 뉴욕 타임즈 사이트 필터링 결과\n",
    "url5 = 'www.nytimes.com'\n",
    "scrapURL(url5)"
   ]
  },
  {
   "cell_type": "markdown",
   "id": "beacd681",
   "metadata": {},
   "source": [
    "- 6) 간단한 검색엔진 코딩 (Like Google!!!)\n",
    "    - 사용자에게 임의의 검색어 (하나 또는 여러 단어로 구성) 를 입력받으시오.\n",
    "        - 예:\n",
    "            - 대한민국\n",
    "            - 컴퓨터 공학\n",
    "            - 맛있는 음식\n",
    "            - 파이썬\n",
    "            - 한기대 장점\n",
    "    - 입력받은 검색어들에 대해서도 1)에서 제시하는 방법처럼 불용어 처리를 하여 정리\n",
    "    - 입력 받은 검색어와 유사도(Similarity)가 높은 웹 사이트 기준으로 위 4)에서 미리 지정해 놓은 5개 이상의 웹 사이트 URL들을 일렬로 나열하여 출력하시오.\n",
    "        - 검색어와 웹 사이트 간의 유사도는 본인이 스스로 정하시오.\n",
    "        - 유사도를 정하는 최소한의 기준은 단어 출현 빈도를 기반으로 해야 하며, 이외의 본인이 생각하는 방안이 있으면 함께 사용해도 됨.\n",
    "        - 유사도가 높은 웹 사이트가 상위에 출력되어야 함 (즉, 유사도 기준 내림 차순)\n",
    "        - 유사도가 동일한 웹 사이트들에 대해서는 임의 배치함."
   ]
  },
  {
   "cell_type": "code",
   "execution_count": 38,
   "id": "e42b78ff",
   "metadata": {},
   "outputs": [],
   "source": [
    "# 유사도에 따른 웹사이트 출력하기\n",
    "def similarRank(searchWord, urlList):\n",
    "    # 1. 검색어를 url 사이트에서 찾아 출현빈도 리스트화하기\n",
    "    similarList = []\n",
    "    for url in urlList:\n",
    "        fileWordDict = loadDict(url)\n",
    "        for word in fileWordDict.keys():\n",
    "            if searchWord == word:\n",
    "                similarList.append((url, word, fileWordDict[word]))\n",
    "\n",
    "    # 2. 출현빈도를 기준으로 내림차순 정렬하기\n",
    "    similarList = sorted(similarList, key = lambda value: value[2], reverse = True)\n",
    "    \n",
    "    # 3. 검색 결과 출력하기\n",
    "    if len(similarList) == 0:\n",
    "        print(\"검색된 사이트가 없습니다.\\n\")\n",
    "    else:\n",
    "        for index, valueList in enumerate(similarList, 1):\n",
    "            print(\"{}. 사이트: {}, 출현빈도: {}\".format(index, valueList[0], valueList[2]))"
   ]
  },
  {
   "cell_type": "code",
   "execution_count": 39,
   "id": "77f45c6a",
   "metadata": {},
   "outputs": [],
   "source": [
    "# 검색어 입력 및 불용어 제거 후 유사도 검색 함수 선언\n",
    "def search(urlList):\n",
    "    searchWord = input(\"검색어를 입력하세요: \")\n",
    "    searchWord = stopWordRemoveWord(searchWord) # 불용어 제거 후 반환\n",
    "    similarRank(searchWord, urlList)"
   ]
  },
  {
   "cell_type": "code",
   "execution_count": 40,
   "id": "a6d5531e",
   "metadata": {},
   "outputs": [],
   "source": [
    "# URL 리스트 -> url1~url5 위 scrapURL에서 각각 한번씩 실행함\n",
    "urlList = [url1, url2, url3, url4, url5]"
   ]
  },
  {
   "cell_type": "code",
   "execution_count": 41,
   "id": "e090af0b",
   "metadata": {},
   "outputs": [
    {
     "name": "stdout",
     "output_type": "stream",
     "text": [
      "검색어를 입력하세요: The\n",
      "1. 사이트: www.nytimes.com, 출현빈도: 36\n",
      "2. 사이트: cse.koreatech.ac.kr, 출현빈도: 1\n",
      "\n",
      "검색어를 입력하세요: New\n",
      "1. 사이트: www.nytimes.com, 출현빈도: 37\n",
      "\n",
      "검색어를 입력하세요: 한국기술교육대학교\n",
      "1. 사이트: www.koreatech.ac.kr, 출현빈도: 12\n",
      "2. 사이트: cse.koreatech.ac.kr, 출현빈도: 7\n",
      "\n",
      "검색어를 입력하세요: 코로나\n",
      "1. 사이트: www.naver.com, 출현빈도: 11\n",
      "2. 사이트: www.koreatech.ac.kr, 출현빈도: 3\n",
      "\n",
      "검색어를 입력하세요: 뉴스\n",
      "1. 사이트: www.daum.net, 출현빈도: 4\n",
      "2. 사이트: www.naver.com, 출현빈도: 2\n",
      "\n"
     ]
    }
   ],
   "source": [
    "# 검색어 유사도 우선 순위 사이트 출력\n",
    "for num in range(5):\n",
    "    search(urlList)\n",
    "    print()"
   ]
  },
  {
   "cell_type": "markdown",
   "id": "625d883e",
   "metadata": {},
   "source": [
    "- 7) [주의] 필수사항\n",
    "    - 위에서 만든 검색엔진 코딩은 매우 간단한 것이라 부족한 점이 많이 존재한다.\n",
    "    - 본인이 생각하기에 상업적인 완성도 높은 검색 로봇/엔진이 되려면 어떤 기능들이 추가적으로 구현되어야 할지 최소 1가지 이상 제시하시오."
   ]
  },
  {
   "cell_type": "markdown",
   "id": "da3377b9",
   "metadata": {},
   "source": [
    "__[추가적으로 구현되어야 할 사항]__   \n",
    "1. 검색어 입력시 연관 검색어 표시\n",
    "2. 검색어 순위 \n",
    "3. 검색 시간\n",
    "4. 현재 출현빈도에 따라 나열했는데, 입력한 검색어로 조합할 수 있는 단어들까지 비교하여 유사도를 판단하는 것"
   ]
  },
  {
   "cell_type": "markdown",
   "id": "04bb14dd",
   "metadata": {},
   "source": [
    "### 소감"
   ]
  },
  {
   "cell_type": "markdown",
   "id": "4ae74d57",
   "metadata": {},
   "source": [
    "미리미리 하려했으나, 이번 과제는 다른 과목들에서 쏟아지는 과제와 시험들로 기한이 다되서야 끝낼 수 있었습니다. 3번 frange()에서 인자에 따라 되는 경우와 안되는 경우가 있어, 이 부분을 고치는데 애를 많이 썼습니다. 도무지 원인을 알 수가 없어서 IDE에 옮겨서 실행해보기도 하고, 최대한 해볼 수 있는 모든 수단을 동원했는데, while(1)문에 break를 주는 것이 아닌 바로 리스트를 리턴함으로써 해결할 수 있었습니다.   \n",
    "다음으로 Incremental Project에서는 주어진 조건을 충족시키기 우해 저번 Version에서 구조적인 수정이 필요했습니다. 이전에는 url 소스를 사이트별로 미리 가져와 각각 함수를 실행했다면 이번에는 url을 입력받아 바로 결과를 출력하는 형태로 실행 함수를 추가로 만들어 주었습니다. 또한, 필터링 결과 이외에도 html 소스로 저장 및 검색어에 대한 유사도 사이트 순위도 출력해야되서 각 기능별로 함수를 생성해주었습니다.   \n",
    "유사도 판단은 출현빈도만을 기준으로 했는데, 구글과 비교했을 때 아직 많이 부족하다는 것을 느꼈고, 끝으로 입력한 단어에 대한 불용어 처리도 했지만, 제가 제대로 이해한 것인지 모르겠습니다."
   ]
  }
 ],
 "metadata": {
  "celltoolbar": "Raw Cell Format",
  "kernelspec": {
   "display_name": "Python 3 (ipykernel)",
   "language": "python",
   "name": "python3"
  },
  "language_info": {
   "codemirror_mode": {
    "name": "ipython",
    "version": 3
   },
   "file_extension": ".py",
   "mimetype": "text/x-python",
   "name": "python",
   "nbconvert_exporter": "python",
   "pygments_lexer": "ipython3",
   "version": "3.8.11"
  }
 },
 "nbformat": 4,
 "nbformat_minor": 5
}
