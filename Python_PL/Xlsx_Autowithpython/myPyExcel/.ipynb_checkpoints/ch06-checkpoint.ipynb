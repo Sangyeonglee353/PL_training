{
 "cells": [
  {
   "cell_type": "code",
   "execution_count": 2,
   "id": "50337629",
   "metadata": {},
   "outputs": [
    {
     "name": "stdout",
     "output_type": "stream",
     "text": [
      "Package             Version\n",
      "------------------- -------------------\n",
      "argon2-cffi         20.1.0\n",
      "async-generator     1.10\n",
      "attrs               21.2.0\n",
      "backcall            0.2.0\n",
      "beautifulsoup4      4.10.0\n",
      "bleach              4.0.0\n",
      "brotlipy            0.7.0\n",
      "bs4                 0.0.1\n",
      "certifi             2021.5.30\n",
      "cffi                1.14.6\n",
      "charset-normalizer  2.0.4\n",
      "colorama            0.4.4\n",
      "cryptography        3.4.7\n",
      "cycler              0.11.0\n",
      "debugpy             1.4.1\n",
      "decorator           5.0.9\n",
      "defusedxml          0.7.1\n",
      "entrypoints         0.3\n",
      "fonttools           4.28.3\n",
      "idna                3.2\n",
      "importlib-metadata  3.10.0\n",
      "ipykernel           6.2.0\n",
      "ipython             7.26.0\n",
      "ipython-genutils    0.2.0\n",
      "ipywidgets          7.6.3\n",
      "jedi                0.18.0\n",
      "Jinja2              3.0.1\n",
      "jsonschema          3.2.0\n",
      "jupyter             1.0.0\n",
      "jupyter-client      6.1.12\n",
      "jupyter-console     6.4.0\n",
      "jupyter-core        4.7.1\n",
      "jupyterlab-pygments 0.1.2\n",
      "jupyterlab-widgets  1.0.0\n",
      "kiwisolver          1.3.2\n",
      "MarkupSafe          2.0.1\n",
      "matplotlib          3.5.1\n",
      "matplotlib-inline   0.1.2\n",
      "mistune             0.8.4\n",
      "nbclient            0.5.3\n",
      "nbconvert           6.1.0\n",
      "nbformat            5.1.3\n",
      "nest-asyncio        1.5.1\n",
      "notebook            6.4.3\n",
      "numpy               1.21.4\n",
      "packaging           21.0\n",
      "pandocfilters       1.4.3\n",
      "parso               0.8.2\n",
      "pickleshare         0.7.5\n",
      "Pillow              8.4.0\n",
      "pip                 21.0.1\n",
      "prometheus-client   0.11.0\n",
      "prompt-toolkit      3.0.17\n",
      "pycparser           2.20\n",
      "Pygments            2.10.0\n",
      "PyMySQL             1.0.2\n",
      "pyOpenSSL           20.0.1\n",
      "pyparsing           2.4.7\n",
      "pyrsistent          0.17.3\n",
      "PySocks             1.7.1\n",
      "python-dateutil     2.8.2\n",
      "pywin32             228\n",
      "pywinpty            0.5.7\n",
      "pyzmq               22.2.1\n",
      "qtconsole           5.1.0\n",
      "QtPy                1.10.0\n",
      "requests            2.26.0\n",
      "Send2Trash          1.5.0\n",
      "setuptools          52.0.0.post20210125\n",
      "sip                 4.19.13\n",
      "six                 1.16.0\n",
      "soupsieve           2.3.1\n",
      "terminado           0.9.4\n",
      "testpath            0.5.0\n",
      "tornado             6.1\n",
      "tqdm                4.62.2\n",
      "traitlets           5.0.5\n",
      "urllib3             1.26.6\n",
      "wcwidth             0.2.5\n",
      "webencodings        0.5.1\n",
      "wheel               0.37.0\n",
      "widgetsnbextension  3.5.1\n",
      "win-inet-pton       1.1.0\n",
      "wincertstore        0.2\n",
      "zipp                3.5.0\n"
     ]
    }
   ],
   "source": [
    "!pip list"
   ]
  },
  {
   "cell_type": "code",
   "execution_count": 3,
   "id": "298529b7",
   "metadata": {},
   "outputs": [
    {
     "name": "stdout",
     "output_type": "stream",
     "text": [
      "Collecting xlsxwriter\n",
      "  Downloading XlsxWriter-3.0.2-py3-none-any.whl (149 kB)\n",
      "Installing collected packages: xlsxwriter\n",
      "Successfully installed xlsxwriter-3.0.2\n"
     ]
    }
   ],
   "source": [
    "!pip install xlsxwriter"
   ]
  },
  {
   "cell_type": "code",
   "execution_count": 5,
   "id": "3ee2044e",
   "metadata": {},
   "outputs": [
    {
     "name": "stdout",
     "output_type": "stream",
     "text": [
      "생성한 엑셀 파일: C:\\Users\\Leesy\\myPyExcel\\data\\ch06\\XlsxWriter_start_01.xlsx\n"
     ]
    }
   ],
   "source": [
    "import xlsxwriter\n",
    "\n",
    "# 엑셀 파일 경로\n",
    "folder = 'C:\\\\Users\\\\Leesy\\\\myPyExcel\\\\data\\ch06\\\\'\n",
    "excel_file = folder + 'XlsxWriter_start_01.xlsx'\n",
    "\n",
    "workbook = xlsxwriter.Workbook(excel_file) # 워크북 객체 생성\n",
    "worksheet = workbook.add_worksheet() # 워크시트 생성\n",
    "worksheet.write(0, 0, 200) # 셀의 행과 열의 위치를 지정해 셀에 데이터 쓰기\n",
    "# worksheet.write('A1', 100) # 셀의 주소 지정 후 셀에 데이터 쓰기\n",
    "\n",
    "workbook.close() # 워크북 객체를 닫고 엑셀 파일 생성\n",
    "\n",
    "print(\"생성한 엑셀 파일:\", excel_file) # 생성한 파일 이름 출력"
   ]
  },
  {
   "cell_type": "code",
   "execution_count": 6,
   "id": "82b2a1e8",
   "metadata": {},
   "outputs": [
    {
     "name": "stdout",
     "output_type": "stream",
     "text": [
      "생성한 엑셀 파일: C:\\Users\\Leesy\\myPyExcel\\data\\ch06\\XlsxWriter_start_02.xlsx\n"
     ]
    }
   ],
   "source": [
    "import xlsxwriter\n",
    "\n",
    "# 엑셀 파일 경로\n",
    "folder = 'C:\\\\Users\\\\Leesy\\\\myPyExcel\\\\data\\ch06\\\\'\n",
    "excel_file = folder + 'XlsxWriter_start_02.xlsx' \n",
    "\n",
    "workbook = xlsxwriter.Workbook(excel_file) # 워크북 객체 생성 \n",
    "worksheet = workbook.add_worksheet() # 워크시트 생성\n",
    "\n",
    "# 행과 열의 위치로 셀을 지정해 데이터 입력\n",
    "worksheet.write(0, 0, 100) # 숫자(정수) 입력\n",
    "worksheet.write(1, 0, 3.14)  # 숫자(실수) 입력\n",
    "worksheet.write(2, 0, '안녕') # 문자열 입력\n",
    "worksheet.write(3, 0, '=COS(PI()/4)') # 엑셀 함수를 입력\n",
    "worksheet.write(4, 0, '') # 공백 입력\n",
    "worksheet.write(5, 0, None) # 공백 입력\n",
    "\n",
    "# 주소로 셀을 지정해 데이터 입력\n",
    "worksheet.write('B1', '← 숫자(정수) 입력') # 문자열 입력\n",
    "worksheet.write('B2', '← 숫자(실수) 입력') # 문자열 입력\n",
    "worksheet.write('B3', '← 문자열 입력') # 문자열 입력\n",
    "worksheet.write('B4', '← 엑셀 함수 계산 결과') # 문자열 입력\n",
    "worksheet.write('B5', '← 빈 문자로 공백 입력') # 문자열 입력\n",
    "worksheet.write('B6', '← None으로 공백 입력') # 문자열 입력\n",
    "\n",
    "workbook.close() # 워크북 객체를 닫고 엑셀 파일 생성\n",
    "\n",
    "print(\"생성한 엑셀 파일:\", excel_file) # 생성한 파일 이름 출력"
   ]
  },
  {
   "cell_type": "code",
   "execution_count": 8,
   "id": "feb5134b",
   "metadata": {},
   "outputs": [
    {
     "name": "stdout",
     "output_type": "stream",
     "text": [
      "생성한 엑셀 파일: C:\\Users\\Leesy\\myPyExcel\\data\\ch06\\XlsxWriter_start_03.xlsx\n"
     ]
    }
   ],
   "source": [
    "import xlsxwriter\n",
    "\n",
    "# 엑셀 파일 경로\n",
    "folder = 'C:\\\\Users\\\\Leesy\\\\myPyExcel\\\\data\\ch06\\\\'\n",
    "excel_file = folder + 'XlsxWriter_start_03.xlsx' \n",
    "\n",
    "workbook = xlsxwriter.Workbook(excel_file) # 워크북 객체 생성 \n",
    "worksheet = workbook.add_worksheet() # 워크시트 생성\n",
    "\n",
    "worksheet.write('A1', '지점1') # 문자열 입력\n",
    "worksheet.write('A2', '지점2') # 문자열 입력\n",
    "worksheet.write('A3', '지점3') # 문자열 입력\n",
    "worksheet.write('A4', '지점4') # 문자열 입력\n",
    "worksheet.write('A5', '합계') # 문자열 입력\n",
    "worksheet.write('A6', '평균') # 문자열 입력\n",
    "\n",
    "worksheet.write('B1', 10) # 숫자 입력\n",
    "worksheet.write('B2', 15) # 숫자 입력\n",
    "worksheet.write('B3', 12) # 숫자 입력\n",
    "worksheet.write('B4', 9) # 숫자 입력\n",
    "worksheet.write('B5', '=SUM(B1:B4)') # 엑셀 함수(합계, SUM) 입력\n",
    "worksheet.write('B6', '=AVERAGE(B1:B4)') # 엑셀 함수(평균, AVERAGE) 입력\n",
    "\n",
    "workbook.close() # 워크북 객체를 닫고 엑셀 파일 생성\n",
    "\n",
    "print(\"생성한 엑셀 파일:\", excel_file) # 생성한 파일 이름 출력"
   ]
  },
  {
   "cell_type": "code",
   "execution_count": 7,
   "id": "d8f374de",
   "metadata": {},
   "outputs": [
    {
     "name": "stdout",
     "output_type": "stream",
     "text": [
      "생성한 엑셀 파일: C:\\Users\\Leesy\\myPyExcel\\data\\ch06\\XlsxWriter_list_data_01.xlsx\n"
     ]
    }
   ],
   "source": [
    "import xlsxwriter\n",
    "\n",
    "# 엑셀 파일 경로\n",
    "folder = 'C:\\\\Users\\\\Leesy\\\\myPyExcel\\\\data\\ch06\\\\'\n",
    "excel_file = folder + 'XlsxWriter_list_data_01.xlsx' \n",
    "\n",
    "workbook = xlsxwriter.Workbook(excel_file)   # 워크북 객체 생성 \n",
    "worksheet = workbook.add_worksheet()         # 워크시트 생성\n",
    "\n",
    "list_num = [10, 20, 30, 40]\n",
    "for col_num, value in enumerate(list_num):\n",
    "    worksheet.write(0, col_num, value)       # 행 번호는 고정, 열 번호는 증가\n",
    "\n",
    "workbook.close()                             # 워크북 객체를 닫고 엑셀 파일 생성\n",
    "\n",
    "print(\"생성한 엑셀 파일:\", excel_file)       # 생성한 파일 이름 출력"
   ]
  },
  {
   "cell_type": "code",
   "execution_count": 1,
   "id": "432e279e",
   "metadata": {},
   "outputs": [
    {
     "name": "stdout",
     "output_type": "stream",
     "text": [
      "생성한 엑셀 파일: C:\\Users\\Leesy\\myPyExcel\\data\\ch06\\XlsxWriter_list_data_02.xlsx\n"
     ]
    }
   ],
   "source": [
    "import xlsxwriter\n",
    "\n",
    "# 엑셀 파일 경로\n",
    "folder = 'C:\\\\Users\\\\Leesy\\\\myPyExcel\\\\data\\ch06\\\\'\n",
    "excel_file = folder + 'XlsxWriter_list_data_02.xlsx' \n",
    "\n",
    "workbook = xlsxwriter.Workbook(excel_file)   # 워크북 객체 생성 \n",
    "worksheet = workbook.add_worksheet()         # 워크시트 생성\n",
    "\n",
    "list_num2 = [50, 60, 70, 80]\n",
    "for row_num, value in enumerate(list_num2):\n",
    "    worksheet.write(row_num, 0, value)       # 행 번호 증가, 열 번호는 고정\n",
    "\n",
    "workbook.close()                             # 워크북 객체를 닫고 엑셀 파일 생성\n",
    "\n",
    "print(\"생성한 엑셀 파일:\", excel_file)       # 생성한 파일 이름 출력"
   ]
  },
  {
   "cell_type": "code",
   "execution_count": 2,
   "id": "d3be2789",
   "metadata": {},
   "outputs": [
    {
     "name": "stdout",
     "output_type": "stream",
     "text": [
      "생성한 엑셀 파일: C:\\Users\\Leesy\\myPyExcel\\data\\ch06\\XlsxWriter_list_data_03.xlsx\n"
     ]
    }
   ],
   "source": [
    "import xlsxwriter\n",
    "\n",
    "# 엑셀 파일 경로\n",
    "folder = 'C:\\\\Users\\\\Leesy\\\\myPyExcel\\\\data\\ch06\\\\'\n",
    "excel_file = folder + 'XlsxWriter_list_data_03.xlsx' \n",
    "\n",
    "workbook = xlsxwriter.Workbook(excel_file) # 워크북 객체 생성 \n",
    "worksheet = workbook.add_worksheet()       # 워크시트 생성\n",
    "\n",
    "list_num = [10, 20, 30, 40]\n",
    "list_num2 = [50, 60, 70, 80]\n",
    "worksheet.write_row(0, 1, list_num)        # 셀 B1에서 시작해 행 방향으로 쓰기\n",
    "worksheet.write_column(1, 0, list_num2)    # 셀 A2에서 시작해 열 방향으로 쓰기\n",
    "\n",
    "workbook.close()                           # 워크북 객체를 닫고 엑셀 파일 생성\n",
    "\n",
    "print(\"생성한 엑셀 파일:\", excel_file)     # 생성한 파일 이름 출력"
   ]
  },
  {
   "cell_type": "code",
   "execution_count": 3,
   "id": "709f795c",
   "metadata": {},
   "outputs": [
    {
     "data": {
      "text/plain": [
       "{'제품ID': ['P1001', 'P1002', 'P1003', 'P1004'],\n",
       " '판매가격': [5000, 7000, 8000, 10000],\n",
       " '판매량': [50, 93, 70, 48]}"
      ]
     },
     "execution_count": 3,
     "metadata": {},
     "output_type": "execute_result"
    }
   ],
   "source": [
    "dict_data = { '제품ID': ['P1001', 'P1002', 'P1003', 'P1004'],\n",
    "              '판매가격': [5000, 7000, 8000, 10000],\n",
    "              '판매량': [50, 93, 70, 48] }\n",
    "dict_data"
   ]
  },
  {
   "cell_type": "code",
   "execution_count": 4,
   "id": "6a7b204c",
   "metadata": {},
   "outputs": [
    {
     "name": "stdout",
     "output_type": "stream",
     "text": [
      "생성한 엑셀 파일: C:\\Users\\Leesy\\myPyExcel\\data\\ch06\\XlsxWriter_dict_data_01.xlsx\n"
     ]
    }
   ],
   "source": [
    "import xlsxwriter\n",
    "\n",
    "# 엑셀 파일 경로\n",
    "folder = 'C:\\\\Users\\\\Leesy\\\\myPyExcel\\\\data\\ch06\\\\'\n",
    "excel_file = folder + 'XlsxWriter_dict_data_01.xlsx' \n",
    "\n",
    "workbook = xlsxwriter.Workbook(excel_file) # 워크북 객체 생성 \n",
    "worksheet = workbook.add_worksheet()       # 워크시트 생성\n",
    "\n",
    "list_keys  = list(dict_data.keys())        # 딕셔너리 키를 추출해 리스트로 변환\n",
    "list_values = list(dict_data.values())     # 딕셔너리 값을 추출해 리스트로 변환\n",
    "\n",
    "worksheet.write_row(0, 0, list_keys)       # 첫 번째 행에 키를 행 방향으로 쓰기\n",
    "\n",
    "# 두 번째 행에 리스트 데이터를 열 방향으로 쓰기\n",
    "for col, list_value in enumerate(list_values):\n",
    "    worksheet.write_column(1, col, list_value)\n",
    "\n",
    "workbook.close()                           # 워크북 객체를 닫고 엑셀 파일 생성\n",
    "\n",
    "print(\"생성한 엑셀 파일:\", excel_file)     # 생성한 파일 이름 출력"
   ]
  },
  {
   "cell_type": "code",
   "execution_count": 5,
   "id": "174f8c37",
   "metadata": {},
   "outputs": [
    {
     "data": {
      "text/html": [
       "<div>\n",
       "<style scoped>\n",
       "    .dataframe tbody tr th:only-of-type {\n",
       "        vertical-align: middle;\n",
       "    }\n",
       "\n",
       "    .dataframe tbody tr th {\n",
       "        vertical-align: top;\n",
       "    }\n",
       "\n",
       "    .dataframe thead th {\n",
       "        text-align: right;\n",
       "    }\n",
       "</style>\n",
       "<table border=\"1\" class=\"dataframe\">\n",
       "  <thead>\n",
       "    <tr style=\"text-align: right;\">\n",
       "      <th></th>\n",
       "      <th>연도</th>\n",
       "      <th>봄</th>\n",
       "      <th>여름</th>\n",
       "      <th>가을</th>\n",
       "      <th>겨울</th>\n",
       "    </tr>\n",
       "  </thead>\n",
       "  <tbody>\n",
       "    <tr>\n",
       "      <th>0</th>\n",
       "      <td>2014</td>\n",
       "      <td>215.9</td>\n",
       "      <td>599.8</td>\n",
       "      <td>293.1</td>\n",
       "      <td>76.9</td>\n",
       "    </tr>\n",
       "    <tr>\n",
       "      <th>1</th>\n",
       "      <td>2015</td>\n",
       "      <td>223.2</td>\n",
       "      <td>387.1</td>\n",
       "      <td>247.7</td>\n",
       "      <td>109.1</td>\n",
       "    </tr>\n",
       "    <tr>\n",
       "      <th>2</th>\n",
       "      <td>2016</td>\n",
       "      <td>312.8</td>\n",
       "      <td>446.2</td>\n",
       "      <td>381.6</td>\n",
       "      <td>108.1</td>\n",
       "    </tr>\n",
       "    <tr>\n",
       "      <th>3</th>\n",
       "      <td>2017</td>\n",
       "      <td>118.6</td>\n",
       "      <td>609.7</td>\n",
       "      <td>172.5</td>\n",
       "      <td>75.6</td>\n",
       "    </tr>\n",
       "    <tr>\n",
       "      <th>4</th>\n",
       "      <td>2018</td>\n",
       "      <td>368.1</td>\n",
       "      <td>586.5</td>\n",
       "      <td>351.2</td>\n",
       "      <td>66.5</td>\n",
       "    </tr>\n",
       "  </tbody>\n",
       "</table>\n",
       "</div>"
      ],
      "text/plain": [
       "     연도      봄     여름     가을     겨울\n",
       "0  2014  215.9  599.8  293.1   76.9\n",
       "1  2015  223.2  387.1  247.7  109.1\n",
       "2  2016  312.8  446.2  381.6  108.1\n",
       "3  2017  118.6  609.7  172.5   75.6\n",
       "4  2018  368.1  586.5  351.2   66.5"
      ]
     },
     "execution_count": 5,
     "metadata": {},
     "output_type": "execute_result"
    }
   ],
   "source": [
    "import pandas as pd\n",
    "\n",
    "# 엑셀 파일 경로\n",
    "folder = 'C:\\\\Users\\\\Leesy\\\\myPyExcel\\\\data\\ch06\\\\'\n",
    "csv_file = folder + 'korea_rain.csv' \n",
    "\n",
    "df = pd.read_csv(csv_file) # CSV 파일을 읽어와서 DataFrame 데이터 생성\n",
    "df"
   ]
  },
  {
   "cell_type": "code",
   "execution_count": 6,
   "id": "f9f0c877",
   "metadata": {},
   "outputs": [
    {
     "name": "stdout",
     "output_type": "stream",
     "text": [
      "생성한 엑셀 파일: C:\\Users\\Leesy\\myPyExcel\\data\\ch06\\XlsxWriter_DataFrame_data_01.xlsx\n"
     ]
    }
   ],
   "source": [
    "# 엑셀 파일 경로\n",
    "folder = 'C:\\\\Users\\\\Leesy\\\\myPyExcel\\\\data\\ch06\\\\'\n",
    "excel_file = folder + 'XlsxWriter_DataFrame_data_01.xlsx' \n",
    "\n",
    "# 1) 쓰기 엔진과 엑셀 파일을 지정해 ExcelWriter 객체 생성(excel_writer)\n",
    "excel_writer = pd.ExcelWriter(excel_file, engine='xlsxwriter') \n",
    "\n",
    "# 2) 생성한 엑셀 객체에 DataFrame 데이터(df)를 쓰기(시트이름 지정)\n",
    "df.to_excel(excel_writer, sheet_name='Sheet1')\n",
    "\n",
    "# 3) 객체를 닫고 엑셀 파일로 저장\n",
    "excel_writer.save()\n",
    "\n",
    "print(\"생성한 엑셀 파일:\", excel_file) # 생성한 파일 이름 출력"
   ]
  },
  {
   "cell_type": "code",
   "execution_count": 7,
   "id": "5e1f4f34",
   "metadata": {},
   "outputs": [
    {
     "name": "stdout",
     "output_type": "stream",
     "text": [
      "생성한 엑셀 파일: C:\\Users\\Leesy\\myPyExcel\\data\\ch06\\XlsxWriter_DataFrame_data_02.xlsx\n"
     ]
    }
   ],
   "source": [
    "# 엑셀 파일 경로\n",
    "folder = 'C:\\\\Users\\\\Leesy\\\\myPyExcel\\\\data\\ch06\\\\'\n",
    "excel_file = folder + 'XlsxWriter_DataFrame_data_02.xlsx' \n",
    "\n",
    "# 1) 쓰기 엔진과 엑셀 파일을 지정해 ExcelWriter 객체 생성(excel_writer)\n",
    "excel_writer = pd.ExcelWriter(excel_file, engine='xlsxwriter') \n",
    "\n",
    "# 2) DataFrame 데이터(df)를 생성한 엑셀 객체에 쓰기(시트이름과 index 옵션 지정)\n",
    "df.to_excel(excel_writer, sheet_name='Sheet1', index=False)\n",
    "\n",
    "# 3) 객체를 닫고 엑셀 파일로 저장\n",
    "excel_writer.save()\n",
    "\n",
    "print(\"생성한 엑셀 파일:\", excel_file) # 생성한 파일 이름 출력"
   ]
  },
  {
   "cell_type": "code",
   "execution_count": 1,
   "id": "7dabe3b4",
   "metadata": {},
   "outputs": [
    {
     "name": "stdout",
     "output_type": "stream",
     "text": [
      "생성한 엑셀 파일: C:\\Users\\Leesy\\myPyExcel\\data\\ch06\\XlsxWriter_cell_format_02.xlsx\n"
     ]
    }
   ],
   "source": [
    "import xlsxwriter\n",
    "\n",
    "# 엑셀 파일 경로\n",
    "folder = 'C:\\\\Users\\\\Leesy\\\\myPyExcel\\\\data\\ch06\\\\'\n",
    "excel_file = folder + 'XlsxWriter_cell_format_02.xlsx' \n",
    "\n",
    "# 1) 생성할 엑셀 파일이름을 지정해 워크북 객체 생성\n",
    "workbook = xlsxwriter.Workbook(excel_file) \n",
    "\n",
    "# 2) 워크북 내에 사용할 워크시트 생성\n",
    "worksheet = workbook.add_worksheet() \n",
    "\n",
    "# 3) 셀 서식 지정을 위한 서식 객체 생성\n",
    "# 속성 지정 없이 서식 객체 생성(지정할 셀의 서식 만큼 생성)\n",
    "cell_format1 = workbook.add_format()\n",
    "cell_format2 = workbook.add_format()\n",
    "cell_format3 = workbook.add_format()\n",
    "cell_format4 = workbook.add_format()\n",
    "cell_format5 = workbook.add_format()\n",
    "cell_format6 = workbook.add_format()\n",
    "\n",
    "# 메서드를 이용해 서식 지정(서식 객체 마다 지정)\n",
    "cell_format1.set_bg_color('lime')    # 셀의 배경을 설정(색 이름 지정: 라임색)\n",
    "\n",
    "cell_format2.set_bg_color('blue')    # 셀의 배경을 설정(색 이름 지정: 파란색)\n",
    "cell_format2.set_font_color('white') # 글꼴 색 설정(색 이름 지정, 흰색)\n",
    "\n",
    "cell_format3.set_bg_color('red')     # 셀의 배경을 설정(색 이름 지정: 빨간색)\n",
    "cell_format3.set_pattern(1)          # 셀의 무늬 스타일 지정(무늬 없이 배경색으로 채우기)\n",
    "cell_format3.set_font_color('white') # 글꼴 색 설정(색 이름 지정: 흰색)\n",
    "\n",
    "cell_format4.set_bg_color('red')     # 셀의 배경을 설정(색 이름 지정: 빨간색)\n",
    "cell_format4.set_pattern(6)          # 셀의 무늬 스타일 지정\n",
    "cell_format4.set_font_color('white') # 글꼴 색 설정(색 이름 지정: 흰색)\n",
    "\n",
    "cell_format5.set_bg_color('yellow')  # 셀의 배경을 설정(색 이름 지정: 노란색)\n",
    "cell_format5.set_pattern(7)          # 셀의 무늬 스타일 지정\n",
    "cell_format5.set_fg_color('brown')   # 셀의 무늬 색 지정\n",
    "\n",
    "cell_format6.set_bg_color('#FF6600') # 셀의 배경을 설정(RGB 색상 코드 지정: 주황색)\n",
    "cell_format6.set_pattern(18)         # 셀의 무늬 스타일 지정\n",
    "cell_format6.set_fg_color('brown')   # 셀의 무늬 색 지정\n",
    "\n",
    "# 4) 워크시트의 셀에 쓰기 작업 수행\n",
    "worksheet.write('B1', \"안녕\")               # 셀 서식 지정 없이 쓰기 작업 수행\n",
    "worksheet.write('B3', \"안녕\", cell_format1) # 셀 서식을 지정해 쓰기 작업 수행\n",
    "worksheet.write('B5', \"안녕\", cell_format2) # 셀 서식을 지정해 쓰기 작업 수행\n",
    "worksheet.write('B7', \"안녕\", cell_format3) # 셀 서식을 지정해 쓰기 작업 수행\n",
    "worksheet.write('D3', \"안녕\", cell_format4) # 셀 서식을 지정해 쓰기 작업 수행\n",
    "worksheet.write('D5', \"안녕\", cell_format5) # 셀 서식을 지정해 쓰기 작업 수행\n",
    "worksheet.write('D7', \"안녕\", cell_format6) # 셀 서식을 지정해 쓰기 작업 수행\n",
    "\n",
    "# 5) 워크북 객체를 닫고 엑셀 파일 생성\n",
    "workbook.close() \n",
    "\n",
    "print(\"생성한 엑셀 파일:\", excel_file)      # 생성한 파일 이름 출력"
   ]
  },
  {
   "cell_type": "code",
   "execution_count": 6,
   "id": "15fd57cf",
   "metadata": {},
   "outputs": [
    {
     "name": "stdout",
     "output_type": "stream",
     "text": [
      "생성한 엑셀 파일: C:\\Users\\Leesy\\myPyExcel\\data\\ch06\\XlsxWriter_cell_format_03.xlsx\n"
     ]
    }
   ],
   "source": [
    "import xlsxwriter\n",
    "\n",
    "# 엑셀 파일 경로\n",
    "folder = 'C:\\\\Users\\\\Leesy\\\\myPyExcel\\\\data\\ch06\\\\'\n",
    "excel_file = folder + 'XlsxWriter_cell_format_03.xlsx' \n",
    "\n",
    "# 1) 생성할 엑셀 파일이름을 지정해 워크북 객체 생성\n",
    "workbook = xlsxwriter.Workbook(excel_file) \n",
    "\n",
    "# 2) 워크북 내에 사용할 워크시트 생성\n",
    "worksheet = workbook.add_worksheet() \n",
    "\n",
    "# 3) 셀 서식 지정을 위한 서식 객체 생성\n",
    "# 속성 지정 없이 서식 객체 생성(지정할 셀의 서식 만큼 생성)\n",
    "cell_format1 = workbook.add_format()\n",
    "cell_format2 = workbook.add_format()\n",
    "cell_format3 = workbook.add_format()\n",
    "cell_format4 = workbook.add_format()\n",
    "cell_format5 = workbook.add_format()\n",
    "cell_format6 = workbook.add_format()\n",
    "cell_format7 = workbook.add_format()\n",
    "cell_format8 = workbook.add_format()\n",
    "cell_format9 = workbook.add_format()\n",
    "cell_format10 = workbook.add_format()\n",
    "cell_format11 = workbook.add_format()\n",
    "cell_format12 = workbook.add_format()\n",
    "cell_format13 = workbook.add_format()\n",
    "#cell_format14 = workbook.add_format()\n",
    "\n",
    "# 메서드를 이용해 서식 지정(서식 객체마다 지정)\n",
    "cell_format1.set_border(1)            # 셀의 모든 테두리 설정(1: 가는 실선)\n",
    "cell_format2.set_border(2)            # 셀의 모든 테두리 설정(2: 중간 실선)\n",
    "cell_format3.set_border(3)            # 셀의 아래쪽 테두리 설정(8: 중간 파선)\n",
    "cell_format4.set_border(4)              # 셀의 왼쪽 테두리 설정(2: 중간 실선)\n",
    "cell_format5.set_border(5)             # 셀의 오른쪽 테두리 설정(5: 굵은 실선)\n",
    "cell_format6.set_border(6)            # 셀의 모든 테두리 설정(6: 이중 실선)\n",
    "cell_format7.set_border(7)            # 셀의 모든 테두리 설정(6: 이중 실선)\n",
    "cell_format8.set_border(8)            # 셀의 모든 테두리 설정(6: 이중 실선)\n",
    "cell_format9.set_border(9)            # 셀의 모든 테두리 설정(6: 이중 실선)\n",
    "cell_format10.set_border(10)            # 셀의 모든 테두리 설정(6: 이중 실선)\n",
    "cell_format11.set_border(11)            # 셀의 모든 테두리 설정(6: 이중 실선)\n",
    "cell_format12.set_border(12)            # 셀의 모든 테두리 설정(6: 이중 실선)\n",
    "cell_format13.set_border(13)            # 셀의 모든 테두리 설정(6: 이중 실선)\n",
    "#cell_format14.set_border(14)            # 셀의 모든 테두리 설정(6: 이중 실선)\n",
    "\n",
    "# 4) 워크시트의 셀에 쓰기 작업 수행\n",
    "worksheet.write('B1', \"안녕\")               # 셀 서식 지정 없이 쓰기 작업 수행\n",
    "worksheet.write('B3', \"안녕\", cell_format1) # 셀 서식을 지정해 쓰기 작업 수행\n",
    "worksheet.write('B5', \"안녕\", cell_format2) # 셀 서식을 지정해 쓰기 작업 수행\n",
    "worksheet.write('B7', \"안녕\", cell_format3) # 셀 서식을 지정해 쓰기 작업 수행\n",
    "worksheet.write('D3', \"안녕\", cell_format4) # 셀 서식을 지정해 쓰기 작업 수행\n",
    "worksheet.write('D5', \"안녕\", cell_format5) # 셀 서식을 지정해 쓰기 작업 수행\n",
    "worksheet.write('D7', \"안녕\", cell_format6) # 셀 서식을 지정해 쓰기 작업 수행\n",
    "worksheet.write('F3', \"안녕\", cell_format7) # 셀 서식을 지정해 쓰기 작업 수행\n",
    "worksheet.write('F5', \"안녕\", cell_format8) # 셀 서식을 지정해 쓰기 작업 수행\n",
    "worksheet.write('F7', \"안녕\", cell_format9) # 셀 서식을 지정해 쓰기 작업 수행\n",
    "worksheet.write('H3', \"안녕\", cell_format10) # 셀 서식을 지정해 쓰기 작업 수행\n",
    "worksheet.write('H5', \"안녕\", cell_format11) # 셀 서식을 지정해 쓰기 작업 수행\n",
    "worksheet.write('H7', \"안녕\", cell_format12) # 셀 서식을 지정해 쓰기 작업 수행\n",
    "worksheet.write('J3', \"안녕\", cell_format13) # 셀 서식을 지정해 쓰기 작업 수행\n",
    "#worksheet.write('G5', \"안녕\", cell_format14) # 셀 서식을 지정해 쓰기 작업 수행\n",
    "\n",
    "\n",
    "# 5) 워크북 객체를 닫고 엑셀 파일 생성\n",
    "workbook.close()\n",
    "\n",
    "print(\"생성한 엑셀 파일:\", excel_file) # 생성한 파일 이름 출력"
   ]
  },
  {
   "cell_type": "code",
   "execution_count": null,
   "id": "966e603d",
   "metadata": {},
   "outputs": [],
   "source": []
  }
 ],
 "metadata": {
  "kernelspec": {
   "display_name": "Python 3",
   "language": "python",
   "name": "python3"
  },
  "language_info": {
   "codemirror_mode": {
    "name": "ipython",
    "version": 3
   },
   "file_extension": ".py",
   "mimetype": "text/x-python",
   "name": "python",
   "nbconvert_exporter": "python",
   "pygments_lexer": "ipython3",
   "version": "3.8.8"
  }
 },
 "nbformat": 4,
 "nbformat_minor": 5
}
