{
 "cells": [
  {
   "cell_type": "code",
   "execution_count": 1,
   "id": "d561c23b",
   "metadata": {},
   "outputs": [
    {
     "name": "stdout",
     "output_type": "stream",
     "text": [
      "Writing C:\\Users\\Leesy\\myPyExcel\\multi_line_print.py\n"
     ]
    }
   ],
   "source": [
    "%%writefile C:\\Users\\Leesy\\myPyExcel\\multi_line_print.py\n",
    "    # File name: multi_line_print.py\n",
    "print(\"Jupyter Notebook: code line 1\")\n",
    "print(\"Jupyter Notebook: code line 2\")\n",
    "print(\"Jupyter Notebook: code line 3\")"
   ]
  },
  {
   "cell_type": "code",
   "execution_count": 2,
   "id": "655ddf4b",
   "metadata": {},
   "outputs": [
    {
     "name": "stdout",
     "output_type": "stream",
     "text": [
      "Jupyter Notebook: code line 1\n",
      "Jupyter Notebook: code line 2\n",
      "Jupyter Notebook: code line 3\n"
     ]
    }
   ],
   "source": [
    "%run C:\\Users\\Leesy\\myPyExcel\\multi_line_print.py"
   ]
  },
  {
   "cell_type": "code",
   "execution_count": 3,
   "id": "422131d5",
   "metadata": {},
   "outputs": [
    {
     "name": "stderr",
     "output_type": "stream",
     "text": [
      "'ls'은(는) 내부 또는 외부 명령, 실행할 수 있는 프로그램, 또는\n",
      "배치 파일이 아닙니다.\n"
     ]
    }
   ],
   "source": [
    "!ls"
   ]
  },
  {
   "cell_type": "code",
   "execution_count": 4,
   "id": "39bc016d",
   "metadata": {},
   "outputs": [
    {
     "name": "stdout",
     "output_type": "stream",
     "text": [
      " C 드라이브의 볼륨에는 이름이 없습니다.\n",
      " 볼륨 일련 번호: 9245-8E63\n",
      "\n",
      " C:\\Users\\Leesy\\myPyExcel 디렉터리\n",
      "\n",
      "2021-12-25  오전 12:25    <DIR>          .\n",
      "2021-12-25  오전 12:25    <DIR>          ..\n",
      "2021-12-25  오전 12:21    <DIR>          .ipynb_checkpoints\n",
      "2021-01-05  오후 09:33            98,505 book_cover_image.png\n",
      "2021-12-25  오전 12:25             1,542 ch01.ipynb\n",
      "2021-01-05  오후 09:33    <DIR>          data\n",
      "2021-01-05  오후 09:33    <DIR>          figures\n",
      "2021-01-05  오후 09:33    <DIR>          modules\n",
      "2021-12-25  오전 12:22               158 multi_line_print.py\n",
      "2021-01-05  오후 09:33    <DIR>          notebooks\n",
      "2021-01-05  오후 09:33             2,278 README.md\n",
      "               4개 파일             102,483 바이트\n",
      "               7개 디렉터리  816,929,820,672 바이트 남음\n"
     ]
    }
   ],
   "source": [
    "ls"
   ]
  },
  {
   "cell_type": "code",
   "execution_count": 5,
   "id": "6ac0e901",
   "metadata": {},
   "outputs": [],
   "source": [
    "mkdir ch05"
   ]
  },
  {
   "cell_type": "code",
   "execution_count": 6,
   "id": "64b6c466",
   "metadata": {},
   "outputs": [
    {
     "name": "stdout",
     "output_type": "stream",
     "text": [
      " C 드라이브의 볼륨에는 이름이 없습니다.\n",
      " 볼륨 일련 번호: 9245-8E63\n",
      "\n",
      " C:\\Users\\Leesy\\myPyExcel 디렉터리\n",
      "\n",
      "2021-12-25  오전 08:55    <DIR>          .\n",
      "2021-12-25  오전 08:55    <DIR>          ..\n",
      "2021-12-25  오전 12:21    <DIR>          .ipynb_checkpoints\n",
      "2021-01-05  오후 09:33            98,505 book_cover_image.png\n",
      "2021-12-25  오전 12:25             1,542 ch01.ipynb\n",
      "2021-12-25  오전 08:55    <DIR>          ch05\n",
      "2021-01-05  오후 09:33    <DIR>          data\n",
      "2021-01-05  오후 09:33    <DIR>          figures\n",
      "2021-01-05  오후 09:33    <DIR>          modules\n",
      "2021-12-25  오전 12:22               158 multi_line_print.py\n",
      "2021-01-05  오후 09:33    <DIR>          notebooks\n",
      "2021-01-05  오후 09:33             2,278 README.md\n",
      "               4개 파일             102,483 바이트\n",
      "               8개 디렉터리  816,926,474,240 바이트 남음\n"
     ]
    }
   ],
   "source": [
    "ls"
   ]
  },
  {
   "cell_type": "code",
   "execution_count": null,
   "id": "5afedab4",
   "metadata": {},
   "outputs": [],
   "source": []
  }
 ],
 "metadata": {
  "kernelspec": {
   "display_name": "Python 3",
   "language": "python",
   "name": "python3"
  },
  "language_info": {
   "codemirror_mode": {
    "name": "ipython",
    "version": 3
   },
   "file_extension": ".py",
   "mimetype": "text/x-python",
   "name": "python",
   "nbconvert_exporter": "python",
   "pygments_lexer": "ipython3",
   "version": "3.8.8"
  }
 },
 "nbformat": 4,
 "nbformat_minor": 5
}
